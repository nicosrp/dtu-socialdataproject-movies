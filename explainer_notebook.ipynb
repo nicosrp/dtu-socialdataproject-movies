{
 "cells": [
  {
   "cell_type": "markdown",
   "metadata": {},
   "source": [
    "# 1 Motivation"
   ]
  },
  {
   "cell_type": "markdown",
   "metadata": {},
   "source": [
    "### 1.1 What is your dataset?"
   ]
  },
  {
   "cell_type": "markdown",
   "metadata": {},
   "source": [
    "Our dataset is the TMBD (The Movie Database) dataset, extracted from Kaggle (Full TMDB Movies Dataset 2024 (1M Movies) and approximately 472 MB of size, last extracted version for this report was the 1st of May, 2024), where a user is providing a daily updated extraction of the database. TMDB itself (https://www.themoviedb.org/) is an organization based in Canada that provides a publicly accessible database containing information about movies in general."
   ]
  },
  {
   "cell_type": "markdown",
   "metadata": {},
   "source": [
    "### 1.2 Why did you choose this/these particular dataset(s)?"
   ]
  },
  {
   "cell_type": "markdown",
   "metadata": {},
   "source": [
    "We were considering a range of different datasets, but decided to choose this particular one as it has a good size to dive into several dimensions (over one million entries and 24 columns), it deals with movies which we both have a passion for. As also shown in the second part of this notebook, the parameters dive into specific fields, such as movie quality, finances, production places, etc. which gives us the basis for a visualization website, that covers several different plot types. Additionaly the specific datasset includes all the columns that we were interested in the first place in terms of analyzing, like budget, rating, genre, revenue etc."
   ]
  },
  {
   "cell_type": "markdown",
   "metadata": {},
   "source": [
    "### 1.3 What was your goal for the end user's experience?"
   ]
  },
  {
   "cell_type": "markdown",
   "metadata": {},
   "source": [
    "On the one hand we wanted to give the user a basic overview of what is going on in the music industry, how this developed over time, and where we are currently, some specific connections, etc.\n",
    "\n",
    "On the other hand we want to convey the message, that this dataset mirrors specific characteristics of our society. This should all be conveyed in an interactive way, such that the user can decide on his or her own on what to focus on, while still giving some basic directions for the user on what he or her can focus on."
   ]
  },
  {
   "cell_type": "markdown",
   "metadata": {},
   "source": [
    "# 2 Basic stats"
   ]
  },
  {
   "cell_type": "markdown",
   "metadata": {},
   "source": [
    "### 2.1 Write about your choices in data cleaning and preprocessing"
   ]
  },
  {
   "cell_type": "markdown",
   "metadata": {},
   "source": [
    "For the cleaning of the data, we later on (see in 3.1.2) created some limits for the visualization of our world map, where we excluded some outlier data. You can see the code section below:"
   ]
  },
  {
   "cell_type": "code",
   "execution_count": null,
   "metadata": {},
   "outputs": [],
   "source": [
    "# Limits\n",
    "'''\n",
    "min_moviesPerCountry = 50\n",
    "budget_range = [1, 5000000]\n",
    "revenue_range = [1, 100000000]\n",
    "min_rating = 5.5\n",
    "'''"
   ]
  },
  {
   "cell_type": "markdown",
   "metadata": {},
   "source": [
    "Countries like Aruba, which only have little occurance, but are included in some high prices movies as a production_country, this country e.g. has a budget range clearly exceeding all other countries that come after it and an inclusion of Aruba would have messed up the color scale."
   ]
  },
  {
   "cell_type": "markdown",
   "metadata": {},
   "source": [
    "For the preprocessing we created some dummie variables for the genres and countries later on (see in whole part 3). We later on in the map visualization also decided to merge the soviet union and russia data together (as we do not know any more detailled production location to split it up into the other successor states) as well as merged East and West Germany data together to one."
   ]
  },
  {
   "cell_type": "markdown",
   "metadata": {},
   "source": [
    "### 2.2 Write a short section that discusses the dataset stats, containing key points/plots from your exploratory data analysis."
   ]
  },
  {
   "cell_type": "code",
   "execution_count": null,
   "metadata": {},
   "outputs": [],
   "source": [
    "df = pd.read_csv(\"TMDB_movie_dataset_v11.csv\")"
   ]
  },
  {
   "cell_type": "markdown",
   "metadata": {},
   "source": [
    "As we can see below we have over a million entries, and a decent amount of columns where only non-null values occur."
   ]
  },
  {
   "cell_type": "code",
   "execution_count": null,
   "metadata": {},
   "outputs": [
    {
     "name": "stdout",
     "output_type": "stream",
     "text": [
      "<class 'pandas.core.frame.DataFrame'>\n",
      "RangeIndex: 1030001 entries, 0 to 1030000\n",
      "Data columns (total 24 columns):\n",
      " #   Column                Non-Null Count    Dtype  \n",
      "---  ------                --------------    -----  \n",
      " 0   id                    1030001 non-null  int64  \n",
      " 1   title                 1029989 non-null  object \n",
      " 2   vote_average          1030001 non-null  float64\n",
      " 3   vote_count            1030001 non-null  int64  \n",
      " 4   status                1030001 non-null  object \n",
      " 5   release_date          900626 non-null   object \n",
      " 6   revenue               1030001 non-null  int64  \n",
      " 7   runtime               1030001 non-null  int64  \n",
      " 8   adult                 1030001 non-null  bool   \n",
      " 9   backdrop_path         286900 non-null   object \n",
      " 10  budget                1030001 non-null  int64  \n",
      " 11  homepage              111396 non-null   object \n",
      " 12  imdb_id               578618 non-null   object \n",
      " 13  original_language     1030001 non-null  object \n",
      " 14  original_title        1029989 non-null  object \n",
      " 15  overview              840115 non-null   object \n",
      " 16  popularity            1030001 non-null  float64\n",
      " 17  poster_path           735775 non-null   object \n",
      " 18  tagline               147158 non-null   object \n",
      " 19  genres                643319 non-null   object \n",
      " 20  production_companies  484344 non-null   object \n",
      " 21  production_countries  603161 non-null   object \n",
      " 22  spoken_languages      615300 non-null   object \n",
      " 23  keywords              294096 non-null   object \n",
      "dtypes: bool(1), float64(2), int64(5), object(16)\n",
      "memory usage: 181.7+ MB\n"
     ]
    }
   ],
   "source": [
    "df.info()"
   ]
  },
  {
   "cell_type": "code",
   "execution_count": null,
   "metadata": {},
   "outputs": [
    {
     "data": {
      "text/html": [
       "<div>\n",
       "<style scoped>\n",
       "    .dataframe tbody tr th:only-of-type {\n",
       "        vertical-align: middle;\n",
       "    }\n",
       "\n",
       "    .dataframe tbody tr th {\n",
       "        vertical-align: top;\n",
       "    }\n",
       "\n",
       "    .dataframe thead th {\n",
       "        text-align: right;\n",
       "    }\n",
       "</style>\n",
       "<table border=\"1\" class=\"dataframe\">\n",
       "  <thead>\n",
       "    <tr style=\"text-align: right;\">\n",
       "      <th></th>\n",
       "      <th>id</th>\n",
       "      <th>title</th>\n",
       "      <th>vote_average</th>\n",
       "      <th>vote_count</th>\n",
       "      <th>status</th>\n",
       "      <th>release_date</th>\n",
       "      <th>revenue</th>\n",
       "      <th>runtime</th>\n",
       "      <th>adult</th>\n",
       "      <th>backdrop_path</th>\n",
       "      <th>...</th>\n",
       "      <th>original_title</th>\n",
       "      <th>overview</th>\n",
       "      <th>popularity</th>\n",
       "      <th>poster_path</th>\n",
       "      <th>tagline</th>\n",
       "      <th>genres</th>\n",
       "      <th>production_companies</th>\n",
       "      <th>production_countries</th>\n",
       "      <th>spoken_languages</th>\n",
       "      <th>keywords</th>\n",
       "    </tr>\n",
       "  </thead>\n",
       "  <tbody>\n",
       "    <tr>\n",
       "      <th>0</th>\n",
       "      <td>27205</td>\n",
       "      <td>Inception</td>\n",
       "      <td>8.364</td>\n",
       "      <td>34495</td>\n",
       "      <td>Released</td>\n",
       "      <td>2010-07-15</td>\n",
       "      <td>825532764</td>\n",
       "      <td>148</td>\n",
       "      <td>False</td>\n",
       "      <td>/8ZTVqvKDQ8emSGUEMjsS4yHAwrp.jpg</td>\n",
       "      <td>...</td>\n",
       "      <td>Inception</td>\n",
       "      <td>Cobb, a skilled thief who commits corporate es...</td>\n",
       "      <td>83.952</td>\n",
       "      <td>/oYuLEt3zVCKq57qu2F8dT7NIa6f.jpg</td>\n",
       "      <td>Your mind is the scene of the crime.</td>\n",
       "      <td>Action, Science Fiction, Adventure</td>\n",
       "      <td>Legendary Pictures, Syncopy, Warner Bros. Pict...</td>\n",
       "      <td>United Kingdom, United States of America</td>\n",
       "      <td>English, French, Japanese, Swahili</td>\n",
       "      <td>rescue, mission, dream, airplane, paris, franc...</td>\n",
       "    </tr>\n",
       "    <tr>\n",
       "      <th>1</th>\n",
       "      <td>157336</td>\n",
       "      <td>Interstellar</td>\n",
       "      <td>8.417</td>\n",
       "      <td>32571</td>\n",
       "      <td>Released</td>\n",
       "      <td>2014-11-05</td>\n",
       "      <td>701729206</td>\n",
       "      <td>169</td>\n",
       "      <td>False</td>\n",
       "      <td>/pbrkL804c8yAv3zBZR4QPEafpAR.jpg</td>\n",
       "      <td>...</td>\n",
       "      <td>Interstellar</td>\n",
       "      <td>The adventures of a group of explorers who mak...</td>\n",
       "      <td>140.241</td>\n",
       "      <td>/gEU2QniE6E77NI6lCU6MxlNBvIx.jpg</td>\n",
       "      <td>Mankind was born on Earth. It was never meant ...</td>\n",
       "      <td>Adventure, Drama, Science Fiction</td>\n",
       "      <td>Legendary Pictures, Syncopy, Lynda Obst Produc...</td>\n",
       "      <td>United Kingdom, United States of America</td>\n",
       "      <td>English</td>\n",
       "      <td>rescue, future, spacecraft, race against time,...</td>\n",
       "    </tr>\n",
       "    <tr>\n",
       "      <th>2</th>\n",
       "      <td>155</td>\n",
       "      <td>The Dark Knight</td>\n",
       "      <td>8.512</td>\n",
       "      <td>30619</td>\n",
       "      <td>Released</td>\n",
       "      <td>2008-07-16</td>\n",
       "      <td>1004558444</td>\n",
       "      <td>152</td>\n",
       "      <td>False</td>\n",
       "      <td>/nMKdUUepR0i5zn0y1T4CsSB5chy.jpg</td>\n",
       "      <td>...</td>\n",
       "      <td>The Dark Knight</td>\n",
       "      <td>Batman raises the stakes in his war on crime. ...</td>\n",
       "      <td>130.643</td>\n",
       "      <td>/qJ2tW6WMUDux911r6m7haRef0WH.jpg</td>\n",
       "      <td>Welcome to a world without rules.</td>\n",
       "      <td>Drama, Action, Crime, Thriller</td>\n",
       "      <td>DC Comics, Legendary Pictures, Syncopy, Isobel...</td>\n",
       "      <td>United Kingdom, United States of America</td>\n",
       "      <td>English, Mandarin</td>\n",
       "      <td>joker, sadism, chaos, secret identity, crime f...</td>\n",
       "    </tr>\n",
       "    <tr>\n",
       "      <th>3</th>\n",
       "      <td>19995</td>\n",
       "      <td>Avatar</td>\n",
       "      <td>7.573</td>\n",
       "      <td>29815</td>\n",
       "      <td>Released</td>\n",
       "      <td>2009-12-15</td>\n",
       "      <td>2923706026</td>\n",
       "      <td>162</td>\n",
       "      <td>False</td>\n",
       "      <td>/vL5LR6WdxWPjLPFRLe133jXWsh5.jpg</td>\n",
       "      <td>...</td>\n",
       "      <td>Avatar</td>\n",
       "      <td>In the 22nd century, a paraplegic Marine is di...</td>\n",
       "      <td>79.932</td>\n",
       "      <td>/kyeqWdyUXW608qlYkRqosgbbJyK.jpg</td>\n",
       "      <td>Enter the world of Pandora.</td>\n",
       "      <td>Action, Adventure, Fantasy, Science Fiction</td>\n",
       "      <td>Dune Entertainment, Lightstorm Entertainment, ...</td>\n",
       "      <td>United States of America, United Kingdom</td>\n",
       "      <td>English, Spanish</td>\n",
       "      <td>future, society, culture clash, space travel, ...</td>\n",
       "    </tr>\n",
       "    <tr>\n",
       "      <th>4</th>\n",
       "      <td>24428</td>\n",
       "      <td>The Avengers</td>\n",
       "      <td>7.710</td>\n",
       "      <td>29166</td>\n",
       "      <td>Released</td>\n",
       "      <td>2012-04-25</td>\n",
       "      <td>1518815515</td>\n",
       "      <td>143</td>\n",
       "      <td>False</td>\n",
       "      <td>/9BBTo63ANSmhC4e6r62OJFuK2GL.jpg</td>\n",
       "      <td>...</td>\n",
       "      <td>The Avengers</td>\n",
       "      <td>When an unexpected enemy emerges and threatens...</td>\n",
       "      <td>98.082</td>\n",
       "      <td>/RYMX2wcKCBAr24UyPD7xwmjaTn.jpg</td>\n",
       "      <td>Some assembly required.</td>\n",
       "      <td>Science Fiction, Action, Adventure</td>\n",
       "      <td>Marvel Studios</td>\n",
       "      <td>United States of America</td>\n",
       "      <td>English, Hindi, Russian</td>\n",
       "      <td>new york city, superhero, shield, based on com...</td>\n",
       "    </tr>\n",
       "  </tbody>\n",
       "</table>\n",
       "<p>5 rows × 24 columns</p>\n",
       "</div>"
      ],
      "text/plain": [
       "       id            title  vote_average  vote_count    status release_date  \\\n",
       "0   27205        Inception         8.364       34495  Released   2010-07-15   \n",
       "1  157336     Interstellar         8.417       32571  Released   2014-11-05   \n",
       "2     155  The Dark Knight         8.512       30619  Released   2008-07-16   \n",
       "3   19995           Avatar         7.573       29815  Released   2009-12-15   \n",
       "4   24428     The Avengers         7.710       29166  Released   2012-04-25   \n",
       "\n",
       "      revenue  runtime  adult                     backdrop_path  ...  \\\n",
       "0   825532764      148  False  /8ZTVqvKDQ8emSGUEMjsS4yHAwrp.jpg  ...   \n",
       "1   701729206      169  False  /pbrkL804c8yAv3zBZR4QPEafpAR.jpg  ...   \n",
       "2  1004558444      152  False  /nMKdUUepR0i5zn0y1T4CsSB5chy.jpg  ...   \n",
       "3  2923706026      162  False  /vL5LR6WdxWPjLPFRLe133jXWsh5.jpg  ...   \n",
       "4  1518815515      143  False  /9BBTo63ANSmhC4e6r62OJFuK2GL.jpg  ...   \n",
       "\n",
       "    original_title                                           overview  \\\n",
       "0        Inception  Cobb, a skilled thief who commits corporate es...   \n",
       "1     Interstellar  The adventures of a group of explorers who mak...   \n",
       "2  The Dark Knight  Batman raises the stakes in his war on crime. ...   \n",
       "3           Avatar  In the 22nd century, a paraplegic Marine is di...   \n",
       "4     The Avengers  When an unexpected enemy emerges and threatens...   \n",
       "\n",
       "  popularity                       poster_path  \\\n",
       "0     83.952  /oYuLEt3zVCKq57qu2F8dT7NIa6f.jpg   \n",
       "1    140.241  /gEU2QniE6E77NI6lCU6MxlNBvIx.jpg   \n",
       "2    130.643  /qJ2tW6WMUDux911r6m7haRef0WH.jpg   \n",
       "3     79.932  /kyeqWdyUXW608qlYkRqosgbbJyK.jpg   \n",
       "4     98.082   /RYMX2wcKCBAr24UyPD7xwmjaTn.jpg   \n",
       "\n",
       "                                             tagline  \\\n",
       "0               Your mind is the scene of the crime.   \n",
       "1  Mankind was born on Earth. It was never meant ...   \n",
       "2                  Welcome to a world without rules.   \n",
       "3                        Enter the world of Pandora.   \n",
       "4                            Some assembly required.   \n",
       "\n",
       "                                        genres  \\\n",
       "0           Action, Science Fiction, Adventure   \n",
       "1            Adventure, Drama, Science Fiction   \n",
       "2               Drama, Action, Crime, Thriller   \n",
       "3  Action, Adventure, Fantasy, Science Fiction   \n",
       "4           Science Fiction, Action, Adventure   \n",
       "\n",
       "                                production_companies  \\\n",
       "0  Legendary Pictures, Syncopy, Warner Bros. Pict...   \n",
       "1  Legendary Pictures, Syncopy, Lynda Obst Produc...   \n",
       "2  DC Comics, Legendary Pictures, Syncopy, Isobel...   \n",
       "3  Dune Entertainment, Lightstorm Entertainment, ...   \n",
       "4                                     Marvel Studios   \n",
       "\n",
       "                       production_countries  \\\n",
       "0  United Kingdom, United States of America   \n",
       "1  United Kingdom, United States of America   \n",
       "2  United Kingdom, United States of America   \n",
       "3  United States of America, United Kingdom   \n",
       "4                  United States of America   \n",
       "\n",
       "                     spoken_languages  \\\n",
       "0  English, French, Japanese, Swahili   \n",
       "1                             English   \n",
       "2                   English, Mandarin   \n",
       "3                    English, Spanish   \n",
       "4             English, Hindi, Russian   \n",
       "\n",
       "                                            keywords  \n",
       "0  rescue, mission, dream, airplane, paris, franc...  \n",
       "1  rescue, future, spacecraft, race against time,...  \n",
       "2  joker, sadism, chaos, secret identity, crime f...  \n",
       "3  future, society, culture clash, space travel, ...  \n",
       "4  new york city, superhero, shield, based on com...  \n",
       "\n",
       "[5 rows x 24 columns]"
      ]
     },
     "metadata": {},
     "output_type": "display_data"
    }
   ],
   "source": [
    "df.head()"
   ]
  },
  {
   "cell_type": "markdown",
   "metadata": {},
   "source": [
    "We observed some entries that are probably wrong, like below, the \"earliest\" movie is a farsa de ines pereira, for which a movie has been published later in the 20th century, but the year 1800 is indicated. Due to the fact that there is no algorithm that can filter those wrong entries out, we decided to leave them in, as we assume thos \"wrong entries\" to only have a minor influence in our qunatitative visualization output due to the large amount of total movies in our dataset. By not excluding single wrong entries we found, we assure a kind of consistency of wrong entries that are included in our dataset."
   ]
  },
  {
   "cell_type": "markdown",
   "metadata": {},
   "source": [
    "It is still nice to mention, that our first movie that we could confirm in our dataset is a motion picture of Felix Nadar spinning in his chair from the year 1865, you can check that out here if you want to: https://www.youtube.com/watch?v=uq9Yv9RwMZ4 "
   ]
  },
  {
   "cell_type": "code",
   "execution_count": null,
   "metadata": {},
   "outputs": [
    {
     "data": {
      "text/html": [
       "<div>\n",
       "<style scoped>\n",
       "    .dataframe tbody tr th:only-of-type {\n",
       "        vertical-align: middle;\n",
       "    }\n",
       "\n",
       "    .dataframe tbody tr th {\n",
       "        vertical-align: top;\n",
       "    }\n",
       "\n",
       "    .dataframe thead th {\n",
       "        text-align: right;\n",
       "    }\n",
       "</style>\n",
       "<table border=\"1\" class=\"dataframe\">\n",
       "  <thead>\n",
       "    <tr style=\"text-align: right;\">\n",
       "      <th></th>\n",
       "      <th>id</th>\n",
       "      <th>title</th>\n",
       "      <th>vote_average</th>\n",
       "      <th>vote_count</th>\n",
       "      <th>status</th>\n",
       "      <th>release_date</th>\n",
       "      <th>revenue</th>\n",
       "      <th>runtime</th>\n",
       "      <th>adult</th>\n",
       "      <th>backdrop_path</th>\n",
       "      <th>...</th>\n",
       "      <th>original_title</th>\n",
       "      <th>overview</th>\n",
       "      <th>popularity</th>\n",
       "      <th>poster_path</th>\n",
       "      <th>tagline</th>\n",
       "      <th>genres</th>\n",
       "      <th>production_companies</th>\n",
       "      <th>production_countries</th>\n",
       "      <th>spoken_languages</th>\n",
       "      <th>keywords</th>\n",
       "    </tr>\n",
       "  </thead>\n",
       "  <tbody>\n",
       "    <tr>\n",
       "      <th>590407</th>\n",
       "      <td>1233885</td>\n",
       "      <td>A Farsa de Inês Pereira</td>\n",
       "      <td>0.0</td>\n",
       "      <td>0</td>\n",
       "      <td>Released</td>\n",
       "      <td>1800-09-11</td>\n",
       "      <td>0</td>\n",
       "      <td>56</td>\n",
       "      <td>False</td>\n",
       "      <td>NaN</td>\n",
       "      <td>...</td>\n",
       "      <td>A Farsa de Inês Pereira</td>\n",
       "      <td>The farsades of ines pereira by the goat of my...</td>\n",
       "      <td>0.600</td>\n",
       "      <td>NaN</td>\n",
       "      <td>NaN</td>\n",
       "      <td>NaN</td>\n",
       "      <td>NaN</td>\n",
       "      <td>NaN</td>\n",
       "      <td>Portuguese</td>\n",
       "      <td>NaN</td>\n",
       "    </tr>\n",
       "    <tr>\n",
       "      <th>387888</th>\n",
       "      <td>1244969</td>\n",
       "      <td>Felix Nadar Spinning in his Chair</td>\n",
       "      <td>0.0</td>\n",
       "      <td>0</td>\n",
       "      <td>Released</td>\n",
       "      <td>1865-01-01</td>\n",
       "      <td>0</td>\n",
       "      <td>1</td>\n",
       "      <td>False</td>\n",
       "      <td>NaN</td>\n",
       "      <td>...</td>\n",
       "      <td>Felix Nadar Spinning in his Chair</td>\n",
       "      <td>Felix Nadar Spinning in his Chair</td>\n",
       "      <td>0.600</td>\n",
       "      <td>NaN</td>\n",
       "      <td>NaN</td>\n",
       "      <td>Documentary</td>\n",
       "      <td>Paris Nadar Studio</td>\n",
       "      <td>NaN</td>\n",
       "      <td>No Language</td>\n",
       "      <td>NaN</td>\n",
       "    </tr>\n",
       "    <tr>\n",
       "      <th>331097</th>\n",
       "      <td>1181748</td>\n",
       "      <td>Felix Nadar Spinning in his Chair</td>\n",
       "      <td>10.0</td>\n",
       "      <td>1</td>\n",
       "      <td>Released</td>\n",
       "      <td>1865-01-01</td>\n",
       "      <td>0</td>\n",
       "      <td>1</td>\n",
       "      <td>False</td>\n",
       "      <td>NaN</td>\n",
       "      <td>...</td>\n",
       "      <td>Felix Nadar Spinning in his Chair</td>\n",
       "      <td>Revolving portrait of French photographer Feli...</td>\n",
       "      <td>1.162</td>\n",
       "      <td>/zjqn8AjirFf3434cKVAm6SV9fLH.jpg</td>\n",
       "      <td>NaN</td>\n",
       "      <td>Documentary</td>\n",
       "      <td>NaN</td>\n",
       "      <td>France</td>\n",
       "      <td>NaN</td>\n",
       "      <td>NaN</td>\n",
       "    </tr>\n",
       "    <tr>\n",
       "      <th>369073</th>\n",
       "      <td>1256924</td>\n",
       "      <td>Felix Nadar Spinning in his Chair</td>\n",
       "      <td>0.0</td>\n",
       "      <td>0</td>\n",
       "      <td>Released</td>\n",
       "      <td>1865-01-01</td>\n",
       "      <td>0</td>\n",
       "      <td>1</td>\n",
       "      <td>False</td>\n",
       "      <td>NaN</td>\n",
       "      <td>...</td>\n",
       "      <td>Felix Nadar Spinning in his Chair</td>\n",
       "      <td>Felix Nadar Spinning in his Chair</td>\n",
       "      <td>0.000</td>\n",
       "      <td>NaN</td>\n",
       "      <td>The frames that spun!</td>\n",
       "      <td>NaN</td>\n",
       "      <td>NaN</td>\n",
       "      <td>NaN</td>\n",
       "      <td>NaN</td>\n",
       "      <td>NaN</td>\n",
       "    </tr>\n",
       "    <tr>\n",
       "      <th>522801</th>\n",
       "      <td>1208472</td>\n",
       "      <td>The Frontier</td>\n",
       "      <td>0.0</td>\n",
       "      <td>0</td>\n",
       "      <td>Released</td>\n",
       "      <td>1867-01-01</td>\n",
       "      <td>0</td>\n",
       "      <td>5</td>\n",
       "      <td>False</td>\n",
       "      <td>NaN</td>\n",
       "      <td>...</td>\n",
       "      <td>La Frontera</td>\n",
       "      <td>De Armas' last production, La frontera (1967),...</td>\n",
       "      <td>0.600</td>\n",
       "      <td>NaN</td>\n",
       "      <td>NaN</td>\n",
       "      <td>NaN</td>\n",
       "      <td>NaN</td>\n",
       "      <td>NaN</td>\n",
       "      <td>NaN</td>\n",
       "      <td>NaN</td>\n",
       "    </tr>\n",
       "    <tr>\n",
       "      <th>...</th>\n",
       "      <td>...</td>\n",
       "      <td>...</td>\n",
       "      <td>...</td>\n",
       "      <td>...</td>\n",
       "      <td>...</td>\n",
       "      <td>...</td>\n",
       "      <td>...</td>\n",
       "      <td>...</td>\n",
       "      <td>...</td>\n",
       "      <td>...</td>\n",
       "      <td>...</td>\n",
       "      <td>...</td>\n",
       "      <td>...</td>\n",
       "      <td>...</td>\n",
       "      <td>...</td>\n",
       "      <td>...</td>\n",
       "      <td>...</td>\n",
       "      <td>...</td>\n",
       "      <td>...</td>\n",
       "      <td>...</td>\n",
       "      <td>...</td>\n",
       "    </tr>\n",
       "    <tr>\n",
       "      <th>1029994</th>\n",
       "      <td>680500</td>\n",
       "      <td>Gemmy Brown and the Multiverse</td>\n",
       "      <td>0.0</td>\n",
       "      <td>0</td>\n",
       "      <td>Planned</td>\n",
       "      <td>NaN</td>\n",
       "      <td>0</td>\n",
       "      <td>85</td>\n",
       "      <td>False</td>\n",
       "      <td>NaN</td>\n",
       "      <td>...</td>\n",
       "      <td>Gemmy Brown à la conquête du Multivers</td>\n",
       "      <td>Eleven years old Gemmy Brown has a single obse...</td>\n",
       "      <td>0.600</td>\n",
       "      <td>/aniIYFM4kuAnq4z92GwNW7C9oPe.jpg</td>\n",
       "      <td>NaN</td>\n",
       "      <td>Animation, Animation, Family, Science Fiction</td>\n",
       "      <td>Ozone Studio</td>\n",
       "      <td>France</td>\n",
       "      <td>French</td>\n",
       "      <td>NaN</td>\n",
       "    </tr>\n",
       "    <tr>\n",
       "      <th>1029996</th>\n",
       "      <td>680502</td>\n",
       "      <td>探案錄財寶大劫案</td>\n",
       "      <td>0.0</td>\n",
       "      <td>0</td>\n",
       "      <td>Released</td>\n",
       "      <td>NaN</td>\n",
       "      <td>0</td>\n",
       "      <td>0</td>\n",
       "      <td>False</td>\n",
       "      <td>NaN</td>\n",
       "      <td>...</td>\n",
       "      <td>探案錄財寶大劫案</td>\n",
       "      <td>NaN</td>\n",
       "      <td>0.600</td>\n",
       "      <td>NaN</td>\n",
       "      <td>NaN</td>\n",
       "      <td>NaN</td>\n",
       "      <td>NaN</td>\n",
       "      <td>NaN</td>\n",
       "      <td>NaN</td>\n",
       "      <td>NaN</td>\n",
       "    </tr>\n",
       "    <tr>\n",
       "      <th>1029997</th>\n",
       "      <td>680504</td>\n",
       "      <td>寄生遊戲</td>\n",
       "      <td>0.0</td>\n",
       "      <td>0</td>\n",
       "      <td>Released</td>\n",
       "      <td>NaN</td>\n",
       "      <td>0</td>\n",
       "      <td>0</td>\n",
       "      <td>False</td>\n",
       "      <td>NaN</td>\n",
       "      <td>...</td>\n",
       "      <td>寄生遊戲</td>\n",
       "      <td>NaN</td>\n",
       "      <td>0.600</td>\n",
       "      <td>NaN</td>\n",
       "      <td>NaN</td>\n",
       "      <td>NaN</td>\n",
       "      <td>NaN</td>\n",
       "      <td>NaN</td>\n",
       "      <td>NaN</td>\n",
       "      <td>NaN</td>\n",
       "    </tr>\n",
       "    <tr>\n",
       "      <th>1029999</th>\n",
       "      <td>680507</td>\n",
       "      <td>Paris by Night 60</td>\n",
       "      <td>0.0</td>\n",
       "      <td>0</td>\n",
       "      <td>Released</td>\n",
       "      <td>NaN</td>\n",
       "      <td>0</td>\n",
       "      <td>0</td>\n",
       "      <td>False</td>\n",
       "      <td>NaN</td>\n",
       "      <td>...</td>\n",
       "      <td>Paris by Night 60</td>\n",
       "      <td>Paris by Night 60</td>\n",
       "      <td>0.600</td>\n",
       "      <td>/fgh8LGGkDl9TVIAJ3dUnBx6EIPz.jpg</td>\n",
       "      <td>NaN</td>\n",
       "      <td>NaN</td>\n",
       "      <td>NaN</td>\n",
       "      <td>NaN</td>\n",
       "      <td>NaN</td>\n",
       "      <td>NaN</td>\n",
       "    </tr>\n",
       "    <tr>\n",
       "      <th>1030000</th>\n",
       "      <td>1282048</td>\n",
       "      <td>流転の海</td>\n",
       "      <td>0.0</td>\n",
       "      <td>0</td>\n",
       "      <td>Released</td>\n",
       "      <td>NaN</td>\n",
       "      <td>0</td>\n",
       "      <td>0</td>\n",
       "      <td>False</td>\n",
       "      <td>NaN</td>\n",
       "      <td>...</td>\n",
       "      <td>流転の海</td>\n",
       "      <td>Set in Osaka just after the end of the war, th...</td>\n",
       "      <td>0.000</td>\n",
       "      <td>NaN</td>\n",
       "      <td>NaN</td>\n",
       "      <td>NaN</td>\n",
       "      <td>NaN</td>\n",
       "      <td>NaN</td>\n",
       "      <td>NaN</td>\n",
       "      <td>NaN</td>\n",
       "    </tr>\n",
       "  </tbody>\n",
       "</table>\n",
       "<p>1030001 rows × 24 columns</p>\n",
       "</div>"
      ],
      "text/plain": [
       "              id                              title  vote_average  vote_count  \\\n",
       "590407   1233885            A Farsa de Inês Pereira           0.0           0   \n",
       "387888   1244969  Felix Nadar Spinning in his Chair           0.0           0   \n",
       "331097   1181748  Felix Nadar Spinning in his Chair          10.0           1   \n",
       "369073   1256924  Felix Nadar Spinning in his Chair           0.0           0   \n",
       "522801   1208472                       The Frontier           0.0           0   \n",
       "...          ...                                ...           ...         ...   \n",
       "1029994   680500     Gemmy Brown and the Multiverse           0.0           0   \n",
       "1029996   680502                           探案錄財寶大劫案           0.0           0   \n",
       "1029997   680504                               寄生遊戲           0.0           0   \n",
       "1029999   680507                  Paris by Night 60           0.0           0   \n",
       "1030000  1282048                               流転の海           0.0           0   \n",
       "\n",
       "           status release_date  revenue  runtime  adult backdrop_path  ...  \\\n",
       "590407   Released   1800-09-11        0       56  False           NaN  ...   \n",
       "387888   Released   1865-01-01        0        1  False           NaN  ...   \n",
       "331097   Released   1865-01-01        0        1  False           NaN  ...   \n",
       "369073   Released   1865-01-01        0        1  False           NaN  ...   \n",
       "522801   Released   1867-01-01        0        5  False           NaN  ...   \n",
       "...           ...          ...      ...      ...    ...           ...  ...   \n",
       "1029994   Planned          NaN        0       85  False           NaN  ...   \n",
       "1029996  Released          NaN        0        0  False           NaN  ...   \n",
       "1029997  Released          NaN        0        0  False           NaN  ...   \n",
       "1029999  Released          NaN        0        0  False           NaN  ...   \n",
       "1030000  Released          NaN        0        0  False           NaN  ...   \n",
       "\n",
       "                                 original_title  \\\n",
       "590407                  A Farsa de Inês Pereira   \n",
       "387888        Felix Nadar Spinning in his Chair   \n",
       "331097        Felix Nadar Spinning in his Chair   \n",
       "369073        Felix Nadar Spinning in his Chair   \n",
       "522801                              La Frontera   \n",
       "...                                         ...   \n",
       "1029994  Gemmy Brown à la conquête du Multivers   \n",
       "1029996                                探案錄財寶大劫案   \n",
       "1029997                                    寄生遊戲   \n",
       "1029999                       Paris by Night 60   \n",
       "1030000                                    流転の海   \n",
       "\n",
       "                                                  overview popularity  \\\n",
       "590407   The farsades of ines pereira by the goat of my...      0.600   \n",
       "387888                   Felix Nadar Spinning in his Chair      0.600   \n",
       "331097   Revolving portrait of French photographer Feli...      1.162   \n",
       "369073                   Felix Nadar Spinning in his Chair      0.000   \n",
       "522801   De Armas' last production, La frontera (1967),...      0.600   \n",
       "...                                                    ...        ...   \n",
       "1029994  Eleven years old Gemmy Brown has a single obse...      0.600   \n",
       "1029996                                                NaN      0.600   \n",
       "1029997                                                NaN      0.600   \n",
       "1029999                                  Paris by Night 60      0.600   \n",
       "1030000  Set in Osaka just after the end of the war, th...      0.000   \n",
       "\n",
       "                              poster_path                tagline  \\\n",
       "590407                                NaN                    NaN   \n",
       "387888                                NaN                    NaN   \n",
       "331097   /zjqn8AjirFf3434cKVAm6SV9fLH.jpg                    NaN   \n",
       "369073                                NaN  The frames that spun!   \n",
       "522801                                NaN                    NaN   \n",
       "...                                   ...                    ...   \n",
       "1029994  /aniIYFM4kuAnq4z92GwNW7C9oPe.jpg                    NaN   \n",
       "1029996                               NaN                    NaN   \n",
       "1029997                               NaN                    NaN   \n",
       "1029999  /fgh8LGGkDl9TVIAJ3dUnBx6EIPz.jpg                    NaN   \n",
       "1030000                               NaN                    NaN   \n",
       "\n",
       "                                                genres  production_companies  \\\n",
       "590407                                             NaN                   NaN   \n",
       "387888                                     Documentary    Paris Nadar Studio   \n",
       "331097                                     Documentary                   NaN   \n",
       "369073                                             NaN                   NaN   \n",
       "522801                                             NaN                   NaN   \n",
       "...                                                ...                   ...   \n",
       "1029994  Animation, Animation, Family, Science Fiction          Ozone Studio   \n",
       "1029996                                            NaN                   NaN   \n",
       "1029997                                            NaN                   NaN   \n",
       "1029999                                            NaN                   NaN   \n",
       "1030000                                            NaN                   NaN   \n",
       "\n",
       "        production_countries spoken_languages keywords  \n",
       "590407                   NaN       Portuguese      NaN  \n",
       "387888                   NaN      No Language      NaN  \n",
       "331097                France              NaN      NaN  \n",
       "369073                   NaN              NaN      NaN  \n",
       "522801                   NaN              NaN      NaN  \n",
       "...                      ...              ...      ...  \n",
       "1029994               France           French      NaN  \n",
       "1029996                  NaN              NaN      NaN  \n",
       "1029997                  NaN              NaN      NaN  \n",
       "1029999                  NaN              NaN      NaN  \n",
       "1030000                  NaN              NaN      NaN  \n",
       "\n",
       "[1030001 rows x 24 columns]"
      ]
     },
     "metadata": {},
     "output_type": "display_data"
    }
   ],
   "source": [
    "df.sort_values(by=\"release_date\")"
   ]
  },
  {
   "cell_type": "markdown",
   "metadata": {},
   "source": [
    "The longest movie in this database is a 240 hour documentary about the Helsinki Stora Enso headquarters."
   ]
  },
  {
   "cell_type": "code",
   "execution_count": null,
   "metadata": {},
   "outputs": [
    {
     "data": {
      "text/html": [
       "<div>\n",
       "<style scoped>\n",
       "    .dataframe tbody tr th:only-of-type {\n",
       "        vertical-align: middle;\n",
       "    }\n",
       "\n",
       "    .dataframe tbody tr th {\n",
       "        vertical-align: top;\n",
       "    }\n",
       "\n",
       "    .dataframe thead th {\n",
       "        text-align: right;\n",
       "    }\n",
       "</style>\n",
       "<table border=\"1\" class=\"dataframe\">\n",
       "  <thead>\n",
       "    <tr style=\"text-align: right;\">\n",
       "      <th></th>\n",
       "      <th>id</th>\n",
       "      <th>title</th>\n",
       "      <th>vote_average</th>\n",
       "      <th>vote_count</th>\n",
       "      <th>status</th>\n",
       "      <th>release_date</th>\n",
       "      <th>revenue</th>\n",
       "      <th>runtime</th>\n",
       "      <th>adult</th>\n",
       "      <th>backdrop_path</th>\n",
       "      <th>...</th>\n",
       "      <th>original_title</th>\n",
       "      <th>overview</th>\n",
       "      <th>popularity</th>\n",
       "      <th>poster_path</th>\n",
       "      <th>tagline</th>\n",
       "      <th>genres</th>\n",
       "      <th>production_companies</th>\n",
       "      <th>production_countries</th>\n",
       "      <th>spoken_languages</th>\n",
       "      <th>keywords</th>\n",
       "    </tr>\n",
       "  </thead>\n",
       "  <tbody>\n",
       "    <tr>\n",
       "      <th>203924</th>\n",
       "      <td>251800</td>\n",
       "      <td>Modern Times Forever</td>\n",
       "      <td>7.0</td>\n",
       "      <td>2</td>\n",
       "      <td>Released</td>\n",
       "      <td>2011-03-23</td>\n",
       "      <td>0</td>\n",
       "      <td>14400</td>\n",
       "      <td>False</td>\n",
       "      <td>NaN</td>\n",
       "      <td>...</td>\n",
       "      <td>Stora Enso Building, Helsinki</td>\n",
       "      <td>The film shows centuries of decay, compressed ...</td>\n",
       "      <td>0.896</td>\n",
       "      <td>/wLO187Bh5udP3nYINc7D314sS5X.jpg</td>\n",
       "      <td>NaN</td>\n",
       "      <td>Documentary</td>\n",
       "      <td>NaN</td>\n",
       "      <td>Denmark, Finland, Vietnam</td>\n",
       "      <td>Danish</td>\n",
       "      <td>NaN</td>\n",
       "    </tr>\n",
       "    <tr>\n",
       "      <th>988608</th>\n",
       "      <td>710874</td>\n",
       "      <td>Svalbard minutt for minutt</td>\n",
       "      <td>0.0</td>\n",
       "      <td>0</td>\n",
       "      <td>Released</td>\n",
       "      <td>2020-01-31</td>\n",
       "      <td>0</td>\n",
       "      <td>13319</td>\n",
       "      <td>False</td>\n",
       "      <td>/ejSYxDnjPUIElj2V0SCsvrE7B2J.jpg</td>\n",
       "      <td>...</td>\n",
       "      <td>Svalbard minutt for minutt</td>\n",
       "      <td>A documentary trying to relive the 10 days of ...</td>\n",
       "      <td>0.600</td>\n",
       "      <td>/vi6ADwjwvvrVjAa08b9PxWvgbyV.jpg</td>\n",
       "      <td>NaN</td>\n",
       "      <td>Documentary</td>\n",
       "      <td>NaN</td>\n",
       "      <td>NaN</td>\n",
       "      <td>Norwegian</td>\n",
       "      <td>real time</td>\n",
       "    </tr>\n",
       "    <tr>\n",
       "      <th>105677</th>\n",
       "      <td>272074</td>\n",
       "      <td>Cinématon</td>\n",
       "      <td>4.3</td>\n",
       "      <td>6</td>\n",
       "      <td>Released</td>\n",
       "      <td>1978-12-20</td>\n",
       "      <td>0</td>\n",
       "      <td>12480</td>\n",
       "      <td>False</td>\n",
       "      <td>/6fJgLOFJO5AAlieLZxfmTyZKOEy.jpg</td>\n",
       "      <td>...</td>\n",
       "      <td>Cinématon</td>\n",
       "      <td>Cinématon is a 156-hour long experimental film...</td>\n",
       "      <td>1.968</td>\n",
       "      <td>NaN</td>\n",
       "      <td>NaN</td>\n",
       "      <td>Documentary</td>\n",
       "      <td>K.O.C.K. Production, Les Amis de Cinématon</td>\n",
       "      <td>France</td>\n",
       "      <td>No Language</td>\n",
       "      <td>NaN</td>\n",
       "    </tr>\n",
       "    <tr>\n",
       "      <th>341905</th>\n",
       "      <td>197299</td>\n",
       "      <td>Beijing 2003</td>\n",
       "      <td>1.0</td>\n",
       "      <td>1</td>\n",
       "      <td>Released</td>\n",
       "      <td>2004-01-01</td>\n",
       "      <td>0</td>\n",
       "      <td>9000</td>\n",
       "      <td>False</td>\n",
       "      <td>NaN</td>\n",
       "      <td>...</td>\n",
       "      <td>Beijing 2003</td>\n",
       "      <td>Beijing 2003 is a video about the city that th...</td>\n",
       "      <td>0.707</td>\n",
       "      <td>NaN</td>\n",
       "      <td>NaN</td>\n",
       "      <td>Documentary</td>\n",
       "      <td>Ai Weiwei Studio</td>\n",
       "      <td>China</td>\n",
       "      <td>Mandarin</td>\n",
       "      <td>NaN</td>\n",
       "    </tr>\n",
       "    <tr>\n",
       "      <th>1007214</th>\n",
       "      <td>717019</td>\n",
       "      <td>Untitled #125 (Hickory)</td>\n",
       "      <td>0.0</td>\n",
       "      <td>0</td>\n",
       "      <td>Released</td>\n",
       "      <td>2011-01-01</td>\n",
       "      <td>0</td>\n",
       "      <td>7200</td>\n",
       "      <td>False</td>\n",
       "      <td>NaN</td>\n",
       "      <td>...</td>\n",
       "      <td>Untitled #125 (Hickory)</td>\n",
       "      <td>In 2011 Azzarella released Untitled #125 (Hick...</td>\n",
       "      <td>0.600</td>\n",
       "      <td>/krgZwsqAJbXcKmjdio1oBeaYQb7.jpg</td>\n",
       "      <td>NaN</td>\n",
       "      <td>NaN</td>\n",
       "      <td>NaN</td>\n",
       "      <td>NaN</td>\n",
       "      <td>NaN</td>\n",
       "      <td>NaN</td>\n",
       "    </tr>\n",
       "    <tr>\n",
       "      <th>...</th>\n",
       "      <td>...</td>\n",
       "      <td>...</td>\n",
       "      <td>...</td>\n",
       "      <td>...</td>\n",
       "      <td>...</td>\n",
       "      <td>...</td>\n",
       "      <td>...</td>\n",
       "      <td>...</td>\n",
       "      <td>...</td>\n",
       "      <td>...</td>\n",
       "      <td>...</td>\n",
       "      <td>...</td>\n",
       "      <td>...</td>\n",
       "      <td>...</td>\n",
       "      <td>...</td>\n",
       "      <td>...</td>\n",
       "      <td>...</td>\n",
       "      <td>...</td>\n",
       "      <td>...</td>\n",
       "      <td>...</td>\n",
       "      <td>...</td>\n",
       "    </tr>\n",
       "    <tr>\n",
       "      <th>843382</th>\n",
       "      <td>343499</td>\n",
       "      <td>The Grey Robber</td>\n",
       "      <td>0.0</td>\n",
       "      <td>0</td>\n",
       "      <td>Released</td>\n",
       "      <td>1957-01-25</td>\n",
       "      <td>0</td>\n",
       "      <td>0</td>\n",
       "      <td>False</td>\n",
       "      <td>NaN</td>\n",
       "      <td>...</td>\n",
       "      <td>Серый разбойник</td>\n",
       "      <td>A Soviet Union film from 1957.</td>\n",
       "      <td>0.655</td>\n",
       "      <td>NaN</td>\n",
       "      <td>NaN</td>\n",
       "      <td>Adventure</td>\n",
       "      <td>NaN</td>\n",
       "      <td>Soviet Union</td>\n",
       "      <td>Russian</td>\n",
       "      <td>wolf</td>\n",
       "    </tr>\n",
       "    <tr>\n",
       "      <th>432881</th>\n",
       "      <td>1273687</td>\n",
       "      <td>Геля</td>\n",
       "      <td>0.0</td>\n",
       "      <td>0</td>\n",
       "      <td>Released</td>\n",
       "      <td>NaN</td>\n",
       "      <td>0</td>\n",
       "      <td>0</td>\n",
       "      <td>False</td>\n",
       "      <td>NaN</td>\n",
       "      <td>...</td>\n",
       "      <td>Геля</td>\n",
       "      <td>A crime action comedy on a Landwagen with a fa...</td>\n",
       "      <td>0.000</td>\n",
       "      <td>NaN</td>\n",
       "      <td>NaN</td>\n",
       "      <td>NaN</td>\n",
       "      <td>NaN</td>\n",
       "      <td>NaN</td>\n",
       "      <td>NaN</td>\n",
       "      <td>NaN</td>\n",
       "    </tr>\n",
       "    <tr>\n",
       "      <th>843384</th>\n",
       "      <td>343502</td>\n",
       "      <td>The Adventures of Frontier Fremont</td>\n",
       "      <td>0.0</td>\n",
       "      <td>0</td>\n",
       "      <td>Released</td>\n",
       "      <td>1976-01-14</td>\n",
       "      <td>0</td>\n",
       "      <td>0</td>\n",
       "      <td>False</td>\n",
       "      <td>NaN</td>\n",
       "      <td>...</td>\n",
       "      <td>The Adventures of Frontier Fremont</td>\n",
       "      <td>The true story of one man's struggle to make t...</td>\n",
       "      <td>0.748</td>\n",
       "      <td>/kj8C2oPu6SxF1kus82UUwxJM1OM.jpg</td>\n",
       "      <td>NaN</td>\n",
       "      <td>NaN</td>\n",
       "      <td>NaN</td>\n",
       "      <td>NaN</td>\n",
       "      <td>NaN</td>\n",
       "      <td>NaN</td>\n",
       "    </tr>\n",
       "    <tr>\n",
       "      <th>1030000</th>\n",
       "      <td>1282048</td>\n",
       "      <td>流転の海</td>\n",
       "      <td>0.0</td>\n",
       "      <td>0</td>\n",
       "      <td>Released</td>\n",
       "      <td>NaN</td>\n",
       "      <td>0</td>\n",
       "      <td>0</td>\n",
       "      <td>False</td>\n",
       "      <td>NaN</td>\n",
       "      <td>...</td>\n",
       "      <td>流転の海</td>\n",
       "      <td>Set in Osaka just after the end of the war, th...</td>\n",
       "      <td>0.000</td>\n",
       "      <td>NaN</td>\n",
       "      <td>NaN</td>\n",
       "      <td>NaN</td>\n",
       "      <td>NaN</td>\n",
       "      <td>NaN</td>\n",
       "      <td>NaN</td>\n",
       "      <td>NaN</td>\n",
       "    </tr>\n",
       "    <tr>\n",
       "      <th>623627</th>\n",
       "      <td>1238160</td>\n",
       "      <td>An Eye For An Eye</td>\n",
       "      <td>0.0</td>\n",
       "      <td>0</td>\n",
       "      <td>Released</td>\n",
       "      <td>NaN</td>\n",
       "      <td>0</td>\n",
       "      <td>-28</td>\n",
       "      <td>False</td>\n",
       "      <td>NaN</td>\n",
       "      <td>...</td>\n",
       "      <td>An Eye For An Eye</td>\n",
       "      <td>Lucy has a promising career ahead of her. Lucy...</td>\n",
       "      <td>0.000</td>\n",
       "      <td>NaN</td>\n",
       "      <td>We are who we choose to be</td>\n",
       "      <td>NaN</td>\n",
       "      <td>NaN</td>\n",
       "      <td>NaN</td>\n",
       "      <td>NaN</td>\n",
       "      <td>NaN</td>\n",
       "    </tr>\n",
       "  </tbody>\n",
       "</table>\n",
       "<p>1030001 rows × 24 columns</p>\n",
       "</div>"
      ],
      "text/plain": [
       "              id                               title  vote_average  \\\n",
       "203924    251800                Modern Times Forever           7.0   \n",
       "988608    710874          Svalbard minutt for minutt           0.0   \n",
       "105677    272074                           Cinématon           4.3   \n",
       "341905    197299                        Beijing 2003           1.0   \n",
       "1007214   717019             Untitled #125 (Hickory)           0.0   \n",
       "...          ...                                 ...           ...   \n",
       "843382    343499                     The Grey Robber           0.0   \n",
       "432881   1273687                                Геля           0.0   \n",
       "843384    343502  The Adventures of Frontier Fremont           0.0   \n",
       "1030000  1282048                                流転の海           0.0   \n",
       "623627   1238160                   An Eye For An Eye           0.0   \n",
       "\n",
       "         vote_count    status release_date  revenue  runtime  adult  \\\n",
       "203924            2  Released   2011-03-23        0    14400  False   \n",
       "988608            0  Released   2020-01-31        0    13319  False   \n",
       "105677            6  Released   1978-12-20        0    12480  False   \n",
       "341905            1  Released   2004-01-01        0     9000  False   \n",
       "1007214           0  Released   2011-01-01        0     7200  False   \n",
       "...             ...       ...          ...      ...      ...    ...   \n",
       "843382            0  Released   1957-01-25        0        0  False   \n",
       "432881            0  Released          NaN        0        0  False   \n",
       "843384            0  Released   1976-01-14        0        0  False   \n",
       "1030000           0  Released          NaN        0        0  False   \n",
       "623627            0  Released          NaN        0      -28  False   \n",
       "\n",
       "                            backdrop_path  ...  \\\n",
       "203924                                NaN  ...   \n",
       "988608   /ejSYxDnjPUIElj2V0SCsvrE7B2J.jpg  ...   \n",
       "105677   /6fJgLOFJO5AAlieLZxfmTyZKOEy.jpg  ...   \n",
       "341905                                NaN  ...   \n",
       "1007214                               NaN  ...   \n",
       "...                                   ...  ...   \n",
       "843382                                NaN  ...   \n",
       "432881                                NaN  ...   \n",
       "843384                                NaN  ...   \n",
       "1030000                               NaN  ...   \n",
       "623627                                NaN  ...   \n",
       "\n",
       "                             original_title  \\\n",
       "203924        Stora Enso Building, Helsinki   \n",
       "988608           Svalbard minutt for minutt   \n",
       "105677                            Cinématon   \n",
       "341905                         Beijing 2003   \n",
       "1007214             Untitled #125 (Hickory)   \n",
       "...                                     ...   \n",
       "843382                      Серый разбойник   \n",
       "432881                                 Геля   \n",
       "843384   The Adventures of Frontier Fremont   \n",
       "1030000                                流転の海   \n",
       "623627                    An Eye For An Eye   \n",
       "\n",
       "                                                  overview popularity  \\\n",
       "203924   The film shows centuries of decay, compressed ...      0.896   \n",
       "988608   A documentary trying to relive the 10 days of ...      0.600   \n",
       "105677   Cinématon is a 156-hour long experimental film...      1.968   \n",
       "341905   Beijing 2003 is a video about the city that th...      0.707   \n",
       "1007214  In 2011 Azzarella released Untitled #125 (Hick...      0.600   \n",
       "...                                                    ...        ...   \n",
       "843382                      A Soviet Union film from 1957.      0.655   \n",
       "432881   A crime action comedy on a Landwagen with a fa...      0.000   \n",
       "843384   The true story of one man's struggle to make t...      0.748   \n",
       "1030000  Set in Osaka just after the end of the war, th...      0.000   \n",
       "623627   Lucy has a promising career ahead of her. Lucy...      0.000   \n",
       "\n",
       "                              poster_path                     tagline  \\\n",
       "203924   /wLO187Bh5udP3nYINc7D314sS5X.jpg                         NaN   \n",
       "988608   /vi6ADwjwvvrVjAa08b9PxWvgbyV.jpg                         NaN   \n",
       "105677                                NaN                         NaN   \n",
       "341905                                NaN                         NaN   \n",
       "1007214  /krgZwsqAJbXcKmjdio1oBeaYQb7.jpg                         NaN   \n",
       "...                                   ...                         ...   \n",
       "843382                                NaN                         NaN   \n",
       "432881                                NaN                         NaN   \n",
       "843384   /kj8C2oPu6SxF1kus82UUwxJM1OM.jpg                         NaN   \n",
       "1030000                               NaN                         NaN   \n",
       "623627                                NaN  We are who we choose to be   \n",
       "\n",
       "              genres                        production_companies  \\\n",
       "203924   Documentary                                         NaN   \n",
       "988608   Documentary                                         NaN   \n",
       "105677   Documentary  K.O.C.K. Production, Les Amis de Cinématon   \n",
       "341905   Documentary                            Ai Weiwei Studio   \n",
       "1007214          NaN                                         NaN   \n",
       "...              ...                                         ...   \n",
       "843382     Adventure                                         NaN   \n",
       "432881           NaN                                         NaN   \n",
       "843384           NaN                                         NaN   \n",
       "1030000          NaN                                         NaN   \n",
       "623627           NaN                                         NaN   \n",
       "\n",
       "              production_countries spoken_languages   keywords  \n",
       "203924   Denmark, Finland, Vietnam           Danish        NaN  \n",
       "988608                         NaN        Norwegian  real time  \n",
       "105677                      France      No Language        NaN  \n",
       "341905                       China         Mandarin        NaN  \n",
       "1007214                        NaN              NaN        NaN  \n",
       "...                            ...              ...        ...  \n",
       "843382                Soviet Union          Russian       wolf  \n",
       "432881                         NaN              NaN        NaN  \n",
       "843384                         NaN              NaN        NaN  \n",
       "1030000                        NaN              NaN        NaN  \n",
       "623627                         NaN              NaN        NaN  \n",
       "\n",
       "[1030001 rows x 24 columns]"
      ]
     },
     "metadata": {},
     "output_type": "display_data"
    }
   ],
   "source": [
    "df.sort_values(by=\"runtime\", ascending=False)"
   ]
  },
  {
   "cell_type": "markdown",
   "metadata": {},
   "source": [
    "# 3 Data Analysis"
   ]
  },
  {
   "cell_type": "markdown",
   "metadata": {},
   "source": [
    "We worked on the analysis in three different documents, which are provided below"
   ]
  },
  {
   "cell_type": "markdown",
   "metadata": {},
   "source": [
    "### 3.1 Describe your data analysis and explain what you've learned about the dataset."
   ]
  },
  {
   "cell_type": "markdown",
   "metadata": {},
   "source": [
    "In our data analysis, we tried to first get an overview of the data and get an idea of some rough overall relations and basic statistics. We strived to find something interesting for our story, and some characteristics, that reflect our society in the movie data. Thus we first started with plotting a Network graph, that gives us a rough idea of how movies are distributed into different gernres and how genres are related to each other (how relatively often are they assigned for the same movie)"
   ]
  },
  {
   "cell_type": "markdown",
   "metadata": {},
   "source": [
    "#### 3.1.3 Network Graph and Decade World Map"
   ]
  },
  {
   "cell_type": "markdown",
   "metadata": {},
   "source": [
    "In this file we generated a Network Graph. We decided to leave the whole progress in to be transparent about how we proceeded, thus there are different versions of Network Graphs, ending with our Network Graph used for the web visualization"
   ]
  },
  {
   "cell_type": "code",
   "execution_count": null,
   "metadata": {},
   "outputs": [],
   "source": [
    "import pandas as pd\n",
    "import networkx as nx\n",
    "import plotly.graph_objects as go\n",
    "from itertools import combinations\n",
    "import community as community_louvain"
   ]
  },
  {
   "cell_type": "code",
   "execution_count": null,
   "metadata": {},
   "outputs": [],
   "source": [
    "df = pd.read_csv(\"TMDB_movie_dataset_v11.csv\")"
   ]
  },
  {
   "cell_type": "code",
   "execution_count": null,
   "metadata": {},
   "outputs": [],
   "source": [
    "# Here we created dummy variables for each genre, which given in the genre column and are seperated with a comma\n",
    "genres_expanded = df['genres'].str.replace(\" \", \"\").str.get_dummies(sep=',')"
   ]
  },
  {
   "cell_type": "markdown",
   "metadata": {},
   "source": [
    "Here we are generating the first version of our Network Graph"
   ]
  },
  {
   "cell_type": "code",
   "execution_count": null,
   "metadata": {},
   "outputs": [
    {
     "data": {
      "application/vnd.plotly.v1+json": {
       "config": {
        "plotlyServerURL": "https://plot.ly"
       },
       "data": [
        {
         "hoverinfo": "none",
         "line": {
          "color": "grey",
          "width": 0.5
         },
         "mode": "lines",
         "type": "scatter",
         "x": [
          0.19806652484920065,
          0.3092649413336643,
          null,
          0.19806652484920065,
          0.1781341197569648,
          null,
          0.19806652484920065,
          0.022085718830845726,
          null,
          0.19806652484920065,
          -0.12130396616304182,
          null,
          0.19806652484920065,
          -0.407822457575497,
          null,
          0.19806652484920065,
          -0.02577452441236344,
          null,
          0.19806652484920065,
          0.37678541758559136,
          null,
          0.19806652484920065,
          -0.09454251539642805,
          null,
          0.19806652484920065,
          -0.6872881181463324,
          null,
          0.19806652484920065,
          0.2565398080602053,
          null,
          0.19806652484920065,
          -0.09009617014394866,
          null,
          0.19806652484920065,
          -0.335485164161792,
          null,
          0.19806652484920065,
          -0.16050779617213312,
          null,
          0.19806652484920065,
          0.45264575651729877,
          null,
          0.19806652484920065,
          -0.285146701921019,
          null,
          0.19806652484920065,
          0.17404493332192097,
          null,
          0.19806652484920065,
          -0.759599806163101,
          null,
          0.19806652484920065,
          1,
          null,
          0.3092649413336643,
          0.1781341197569648,
          null,
          0.3092649413336643,
          0.022085718830845726,
          null,
          0.3092649413336643,
          -0.12130396616304182,
          null,
          0.3092649413336643,
          -0.407822457575497,
          null,
          0.3092649413336643,
          -0.02577452441236344,
          null,
          0.3092649413336643,
          0.37678541758559136,
          null,
          0.3092649413336643,
          -0.09454251539642805,
          null,
          0.3092649413336643,
          -0.6872881181463324,
          null,
          0.3092649413336643,
          0.2565398080602053,
          null,
          0.3092649413336643,
          -0.09009617014394866,
          null,
          0.3092649413336643,
          -0.335485164161792,
          null,
          0.3092649413336643,
          -0.16050779617213312,
          null,
          0.3092649413336643,
          0.45264575651729877,
          null,
          0.3092649413336643,
          -0.285146701921019,
          null,
          0.3092649413336643,
          0.17404493332192097,
          null,
          0.3092649413336643,
          -0.759599806163101,
          null,
          0.3092649413336643,
          1,
          null,
          0.1781341197569648,
          0.022085718830845726,
          null,
          0.1781341197569648,
          -0.12130396616304182,
          null,
          0.1781341197569648,
          -0.407822457575497,
          null,
          0.1781341197569648,
          -0.02577452441236344,
          null,
          0.1781341197569648,
          0.37678541758559136,
          null,
          0.1781341197569648,
          -0.09454251539642805,
          null,
          0.1781341197569648,
          -0.6872881181463324,
          null,
          0.1781341197569648,
          0.2565398080602053,
          null,
          0.1781341197569648,
          -0.09009617014394866,
          null,
          0.1781341197569648,
          -0.335485164161792,
          null,
          0.1781341197569648,
          -0.16050779617213312,
          null,
          0.1781341197569648,
          0.45264575651729877,
          null,
          0.1781341197569648,
          -0.285146701921019,
          null,
          0.1781341197569648,
          0.17404493332192097,
          null,
          0.1781341197569648,
          -0.759599806163101,
          null,
          0.1781341197569648,
          1,
          null,
          0.022085718830845726,
          -0.12130396616304182,
          null,
          0.022085718830845726,
          -0.407822457575497,
          null,
          0.022085718830845726,
          -0.02577452441236344,
          null,
          0.022085718830845726,
          0.37678541758559136,
          null,
          0.022085718830845726,
          -0.09454251539642805,
          null,
          0.022085718830845726,
          -0.6872881181463324,
          null,
          0.022085718830845726,
          0.2565398080602053,
          null,
          0.022085718830845726,
          -0.09009617014394866,
          null,
          0.022085718830845726,
          -0.335485164161792,
          null,
          0.022085718830845726,
          -0.16050779617213312,
          null,
          0.022085718830845726,
          0.45264575651729877,
          null,
          0.022085718830845726,
          -0.285146701921019,
          null,
          0.022085718830845726,
          0.17404493332192097,
          null,
          0.022085718830845726,
          -0.759599806163101,
          null,
          0.022085718830845726,
          1,
          null,
          -0.12130396616304182,
          -0.407822457575497,
          null,
          -0.12130396616304182,
          -0.02577452441236344,
          null,
          -0.12130396616304182,
          0.37678541758559136,
          null,
          -0.12130396616304182,
          -0.09454251539642805,
          null,
          -0.12130396616304182,
          -0.6872881181463324,
          null,
          -0.12130396616304182,
          0.2565398080602053,
          null,
          -0.12130396616304182,
          -0.09009617014394866,
          null,
          -0.12130396616304182,
          -0.335485164161792,
          null,
          -0.12130396616304182,
          -0.16050779617213312,
          null,
          -0.12130396616304182,
          0.45264575651729877,
          null,
          -0.12130396616304182,
          -0.285146701921019,
          null,
          -0.12130396616304182,
          0.17404493332192097,
          null,
          -0.12130396616304182,
          -0.759599806163101,
          null,
          -0.12130396616304182,
          1,
          null,
          -0.407822457575497,
          -0.02577452441236344,
          null,
          -0.407822457575497,
          0.37678541758559136,
          null,
          -0.407822457575497,
          -0.09454251539642805,
          null,
          -0.407822457575497,
          -0.6872881181463324,
          null,
          -0.407822457575497,
          0.2565398080602053,
          null,
          -0.407822457575497,
          -0.09009617014394866,
          null,
          -0.407822457575497,
          -0.335485164161792,
          null,
          -0.407822457575497,
          -0.16050779617213312,
          null,
          -0.407822457575497,
          0.45264575651729877,
          null,
          -0.407822457575497,
          -0.285146701921019,
          null,
          -0.407822457575497,
          0.17404493332192097,
          null,
          -0.407822457575497,
          -0.759599806163101,
          null,
          -0.407822457575497,
          1,
          null,
          -0.02577452441236344,
          0.37678541758559136,
          null,
          -0.02577452441236344,
          -0.09454251539642805,
          null,
          -0.02577452441236344,
          -0.6872881181463324,
          null,
          -0.02577452441236344,
          0.2565398080602053,
          null,
          -0.02577452441236344,
          -0.09009617014394866,
          null,
          -0.02577452441236344,
          -0.335485164161792,
          null,
          -0.02577452441236344,
          -0.16050779617213312,
          null,
          -0.02577452441236344,
          0.45264575651729877,
          null,
          -0.02577452441236344,
          -0.285146701921019,
          null,
          -0.02577452441236344,
          0.17404493332192097,
          null,
          -0.02577452441236344,
          -0.759599806163101,
          null,
          -0.02577452441236344,
          1,
          null,
          0.37678541758559136,
          -0.09454251539642805,
          null,
          0.37678541758559136,
          -0.6872881181463324,
          null,
          0.37678541758559136,
          0.2565398080602053,
          null,
          0.37678541758559136,
          -0.09009617014394866,
          null,
          0.37678541758559136,
          -0.335485164161792,
          null,
          0.37678541758559136,
          -0.16050779617213312,
          null,
          0.37678541758559136,
          0.45264575651729877,
          null,
          0.37678541758559136,
          -0.285146701921019,
          null,
          0.37678541758559136,
          0.17404493332192097,
          null,
          0.37678541758559136,
          -0.759599806163101,
          null,
          0.37678541758559136,
          1,
          null,
          -0.09454251539642805,
          -0.6872881181463324,
          null,
          -0.09454251539642805,
          0.2565398080602053,
          null,
          -0.09454251539642805,
          -0.09009617014394866,
          null,
          -0.09454251539642805,
          -0.335485164161792,
          null,
          -0.09454251539642805,
          -0.16050779617213312,
          null,
          -0.09454251539642805,
          0.45264575651729877,
          null,
          -0.09454251539642805,
          -0.285146701921019,
          null,
          -0.09454251539642805,
          0.17404493332192097,
          null,
          -0.09454251539642805,
          -0.759599806163101,
          null,
          -0.09454251539642805,
          1,
          null,
          -0.6872881181463324,
          0.2565398080602053,
          null,
          -0.6872881181463324,
          -0.09009617014394866,
          null,
          -0.6872881181463324,
          -0.335485164161792,
          null,
          -0.6872881181463324,
          -0.16050779617213312,
          null,
          -0.6872881181463324,
          0.45264575651729877,
          null,
          -0.6872881181463324,
          -0.285146701921019,
          null,
          -0.6872881181463324,
          0.17404493332192097,
          null,
          -0.6872881181463324,
          -0.759599806163101,
          null,
          -0.6872881181463324,
          1,
          null,
          0.2565398080602053,
          -0.09009617014394866,
          null,
          0.2565398080602053,
          -0.335485164161792,
          null,
          0.2565398080602053,
          -0.16050779617213312,
          null,
          0.2565398080602053,
          0.45264575651729877,
          null,
          0.2565398080602053,
          -0.285146701921019,
          null,
          0.2565398080602053,
          0.17404493332192097,
          null,
          0.2565398080602053,
          -0.759599806163101,
          null,
          0.2565398080602053,
          1,
          null,
          -0.09009617014394866,
          -0.335485164161792,
          null,
          -0.09009617014394866,
          -0.16050779617213312,
          null,
          -0.09009617014394866,
          0.45264575651729877,
          null,
          -0.09009617014394866,
          -0.285146701921019,
          null,
          -0.09009617014394866,
          0.17404493332192097,
          null,
          -0.09009617014394866,
          -0.759599806163101,
          null,
          -0.09009617014394866,
          1,
          null,
          -0.335485164161792,
          -0.16050779617213312,
          null,
          -0.335485164161792,
          0.45264575651729877,
          null,
          -0.335485164161792,
          -0.285146701921019,
          null,
          -0.335485164161792,
          0.17404493332192097,
          null,
          -0.335485164161792,
          -0.759599806163101,
          null,
          -0.335485164161792,
          1,
          null,
          -0.16050779617213312,
          0.45264575651729877,
          null,
          -0.16050779617213312,
          -0.285146701921019,
          null,
          -0.16050779617213312,
          0.17404493332192097,
          null,
          -0.16050779617213312,
          -0.759599806163101,
          null,
          -0.16050779617213312,
          1,
          null,
          0.45264575651729877,
          -0.285146701921019,
          null,
          0.45264575651729877,
          0.17404493332192097,
          null,
          0.45264575651729877,
          -0.759599806163101,
          null,
          0.45264575651729877,
          1,
          null,
          -0.285146701921019,
          0.17404493332192097,
          null,
          -0.285146701921019,
          -0.759599806163101,
          null,
          -0.285146701921019,
          1,
          null,
          0.17404493332192097,
          -0.759599806163101,
          null,
          0.17404493332192097,
          1,
          null,
          -0.759599806163101,
          1,
          null
         ],
         "y": [
          0.24331600182737434,
          -0.13214028584678386,
          null,
          0.24331600182737434,
          -0.5069956435905708,
          null,
          0.24331600182737434,
          -0.012372145206273692,
          null,
          0.24331600182737434,
          0.5526805454408843,
          null,
          0.24331600182737434,
          -0.29545726013485557,
          null,
          0.24331600182737434,
          -0.03721433335100137,
          null,
          0.24331600182737434,
          -0.39818646064149843,
          null,
          0.24331600182737434,
          -0.4223421220981966,
          null,
          0.24331600182737434,
          -0.1344840421999192,
          null,
          0.24331600182737434,
          0.047461758426326786,
          null,
          0.24331600182737434,
          -0.4444106741864972,
          null,
          0.24331600182737434,
          0.4371172080750423,
          null,
          0.24331600182737434,
          -0.0015842186587369676,
          null,
          0.24331600182737434,
          0.0985662724029544,
          null,
          0.24331600182737434,
          0.2908318316623216,
          null,
          0.24331600182737434,
          0.4832170408416905,
          null,
          0.24331600182737434,
          0.062332269389487924,
          null,
          0.24331600182737434,
          0.16966425784826789,
          null,
          -0.13214028584678386,
          -0.5069956435905708,
          null,
          -0.13214028584678386,
          -0.012372145206273692,
          null,
          -0.13214028584678386,
          0.5526805454408843,
          null,
          -0.13214028584678386,
          -0.29545726013485557,
          null,
          -0.13214028584678386,
          -0.03721433335100137,
          null,
          -0.13214028584678386,
          -0.39818646064149843,
          null,
          -0.13214028584678386,
          -0.4223421220981966,
          null,
          -0.13214028584678386,
          -0.1344840421999192,
          null,
          -0.13214028584678386,
          0.047461758426326786,
          null,
          -0.13214028584678386,
          -0.4444106741864972,
          null,
          -0.13214028584678386,
          0.4371172080750423,
          null,
          -0.13214028584678386,
          -0.0015842186587369676,
          null,
          -0.13214028584678386,
          0.0985662724029544,
          null,
          -0.13214028584678386,
          0.2908318316623216,
          null,
          -0.13214028584678386,
          0.4832170408416905,
          null,
          -0.13214028584678386,
          0.062332269389487924,
          null,
          -0.13214028584678386,
          0.16966425784826789,
          null,
          -0.5069956435905708,
          -0.012372145206273692,
          null,
          -0.5069956435905708,
          0.5526805454408843,
          null,
          -0.5069956435905708,
          -0.29545726013485557,
          null,
          -0.5069956435905708,
          -0.03721433335100137,
          null,
          -0.5069956435905708,
          -0.39818646064149843,
          null,
          -0.5069956435905708,
          -0.4223421220981966,
          null,
          -0.5069956435905708,
          -0.1344840421999192,
          null,
          -0.5069956435905708,
          0.047461758426326786,
          null,
          -0.5069956435905708,
          -0.4444106741864972,
          null,
          -0.5069956435905708,
          0.4371172080750423,
          null,
          -0.5069956435905708,
          -0.0015842186587369676,
          null,
          -0.5069956435905708,
          0.0985662724029544,
          null,
          -0.5069956435905708,
          0.2908318316623216,
          null,
          -0.5069956435905708,
          0.4832170408416905,
          null,
          -0.5069956435905708,
          0.062332269389487924,
          null,
          -0.5069956435905708,
          0.16966425784826789,
          null,
          -0.012372145206273692,
          0.5526805454408843,
          null,
          -0.012372145206273692,
          -0.29545726013485557,
          null,
          -0.012372145206273692,
          -0.03721433335100137,
          null,
          -0.012372145206273692,
          -0.39818646064149843,
          null,
          -0.012372145206273692,
          -0.4223421220981966,
          null,
          -0.012372145206273692,
          -0.1344840421999192,
          null,
          -0.012372145206273692,
          0.047461758426326786,
          null,
          -0.012372145206273692,
          -0.4444106741864972,
          null,
          -0.012372145206273692,
          0.4371172080750423,
          null,
          -0.012372145206273692,
          -0.0015842186587369676,
          null,
          -0.012372145206273692,
          0.0985662724029544,
          null,
          -0.012372145206273692,
          0.2908318316623216,
          null,
          -0.012372145206273692,
          0.4832170408416905,
          null,
          -0.012372145206273692,
          0.062332269389487924,
          null,
          -0.012372145206273692,
          0.16966425784826789,
          null,
          0.5526805454408843,
          -0.29545726013485557,
          null,
          0.5526805454408843,
          -0.03721433335100137,
          null,
          0.5526805454408843,
          -0.39818646064149843,
          null,
          0.5526805454408843,
          -0.4223421220981966,
          null,
          0.5526805454408843,
          -0.1344840421999192,
          null,
          0.5526805454408843,
          0.047461758426326786,
          null,
          0.5526805454408843,
          -0.4444106741864972,
          null,
          0.5526805454408843,
          0.4371172080750423,
          null,
          0.5526805454408843,
          -0.0015842186587369676,
          null,
          0.5526805454408843,
          0.0985662724029544,
          null,
          0.5526805454408843,
          0.2908318316623216,
          null,
          0.5526805454408843,
          0.4832170408416905,
          null,
          0.5526805454408843,
          0.062332269389487924,
          null,
          0.5526805454408843,
          0.16966425784826789,
          null,
          -0.29545726013485557,
          -0.03721433335100137,
          null,
          -0.29545726013485557,
          -0.39818646064149843,
          null,
          -0.29545726013485557,
          -0.4223421220981966,
          null,
          -0.29545726013485557,
          -0.1344840421999192,
          null,
          -0.29545726013485557,
          0.047461758426326786,
          null,
          -0.29545726013485557,
          -0.4444106741864972,
          null,
          -0.29545726013485557,
          0.4371172080750423,
          null,
          -0.29545726013485557,
          -0.0015842186587369676,
          null,
          -0.29545726013485557,
          0.0985662724029544,
          null,
          -0.29545726013485557,
          0.2908318316623216,
          null,
          -0.29545726013485557,
          0.4832170408416905,
          null,
          -0.29545726013485557,
          0.062332269389487924,
          null,
          -0.29545726013485557,
          0.16966425784826789,
          null,
          -0.03721433335100137,
          -0.39818646064149843,
          null,
          -0.03721433335100137,
          -0.4223421220981966,
          null,
          -0.03721433335100137,
          -0.1344840421999192,
          null,
          -0.03721433335100137,
          0.047461758426326786,
          null,
          -0.03721433335100137,
          -0.4444106741864972,
          null,
          -0.03721433335100137,
          0.4371172080750423,
          null,
          -0.03721433335100137,
          -0.0015842186587369676,
          null,
          -0.03721433335100137,
          0.0985662724029544,
          null,
          -0.03721433335100137,
          0.2908318316623216,
          null,
          -0.03721433335100137,
          0.4832170408416905,
          null,
          -0.03721433335100137,
          0.062332269389487924,
          null,
          -0.03721433335100137,
          0.16966425784826789,
          null,
          -0.39818646064149843,
          -0.4223421220981966,
          null,
          -0.39818646064149843,
          -0.1344840421999192,
          null,
          -0.39818646064149843,
          0.047461758426326786,
          null,
          -0.39818646064149843,
          -0.4444106741864972,
          null,
          -0.39818646064149843,
          0.4371172080750423,
          null,
          -0.39818646064149843,
          -0.0015842186587369676,
          null,
          -0.39818646064149843,
          0.0985662724029544,
          null,
          -0.39818646064149843,
          0.2908318316623216,
          null,
          -0.39818646064149843,
          0.4832170408416905,
          null,
          -0.39818646064149843,
          0.062332269389487924,
          null,
          -0.39818646064149843,
          0.16966425784826789,
          null,
          -0.4223421220981966,
          -0.1344840421999192,
          null,
          -0.4223421220981966,
          0.047461758426326786,
          null,
          -0.4223421220981966,
          -0.4444106741864972,
          null,
          -0.4223421220981966,
          0.4371172080750423,
          null,
          -0.4223421220981966,
          -0.0015842186587369676,
          null,
          -0.4223421220981966,
          0.0985662724029544,
          null,
          -0.4223421220981966,
          0.2908318316623216,
          null,
          -0.4223421220981966,
          0.4832170408416905,
          null,
          -0.4223421220981966,
          0.062332269389487924,
          null,
          -0.4223421220981966,
          0.16966425784826789,
          null,
          -0.1344840421999192,
          0.047461758426326786,
          null,
          -0.1344840421999192,
          -0.4444106741864972,
          null,
          -0.1344840421999192,
          0.4371172080750423,
          null,
          -0.1344840421999192,
          -0.0015842186587369676,
          null,
          -0.1344840421999192,
          0.0985662724029544,
          null,
          -0.1344840421999192,
          0.2908318316623216,
          null,
          -0.1344840421999192,
          0.4832170408416905,
          null,
          -0.1344840421999192,
          0.062332269389487924,
          null,
          -0.1344840421999192,
          0.16966425784826789,
          null,
          0.047461758426326786,
          -0.4444106741864972,
          null,
          0.047461758426326786,
          0.4371172080750423,
          null,
          0.047461758426326786,
          -0.0015842186587369676,
          null,
          0.047461758426326786,
          0.0985662724029544,
          null,
          0.047461758426326786,
          0.2908318316623216,
          null,
          0.047461758426326786,
          0.4832170408416905,
          null,
          0.047461758426326786,
          0.062332269389487924,
          null,
          0.047461758426326786,
          0.16966425784826789,
          null,
          -0.4444106741864972,
          0.4371172080750423,
          null,
          -0.4444106741864972,
          -0.0015842186587369676,
          null,
          -0.4444106741864972,
          0.0985662724029544,
          null,
          -0.4444106741864972,
          0.2908318316623216,
          null,
          -0.4444106741864972,
          0.4832170408416905,
          null,
          -0.4444106741864972,
          0.062332269389487924,
          null,
          -0.4444106741864972,
          0.16966425784826789,
          null,
          0.4371172080750423,
          -0.0015842186587369676,
          null,
          0.4371172080750423,
          0.0985662724029544,
          null,
          0.4371172080750423,
          0.2908318316623216,
          null,
          0.4371172080750423,
          0.4832170408416905,
          null,
          0.4371172080750423,
          0.062332269389487924,
          null,
          0.4371172080750423,
          0.16966425784826789,
          null,
          -0.0015842186587369676,
          0.0985662724029544,
          null,
          -0.0015842186587369676,
          0.2908318316623216,
          null,
          -0.0015842186587369676,
          0.4832170408416905,
          null,
          -0.0015842186587369676,
          0.062332269389487924,
          null,
          -0.0015842186587369676,
          0.16966425784826789,
          null,
          0.0985662724029544,
          0.2908318316623216,
          null,
          0.0985662724029544,
          0.4832170408416905,
          null,
          0.0985662724029544,
          0.062332269389487924,
          null,
          0.0985662724029544,
          0.16966425784826789,
          null,
          0.2908318316623216,
          0.4832170408416905,
          null,
          0.2908318316623216,
          0.062332269389487924,
          null,
          0.2908318316623216,
          0.16966425784826789,
          null,
          0.4832170408416905,
          0.062332269389487924,
          null,
          0.4832170408416905,
          0.16966425784826789,
          null,
          0.062332269389487924,
          0.16966425784826789,
          null
         ]
        },
        {
         "hoverinfo": "text",
         "marker": {
          "colorscale": [
           [
            0,
            "rgb(255,255,217)"
           ],
           [
            0.125,
            "rgb(237,248,177)"
           ],
           [
            0.25,
            "rgb(199,233,180)"
           ],
           [
            0.375,
            "rgb(127,205,187)"
           ],
           [
            0.5,
            "rgb(65,182,196)"
           ],
           [
            0.625,
            "rgb(29,145,192)"
           ],
           [
            0.75,
            "rgb(34,94,168)"
           ],
           [
            0.875,
            "rgb(37,52,148)"
           ],
           [
            1,
            "rgb(8,29,88)"
           ]
          ],
          "showscale": true,
          "size": [
           42236,
           22258,
           53451,
           132107,
           31879,
           154462,
           214583,
           26729,
           21277,
           15875,
           48079,
           46198,
           18462,
           51028,
           19814,
           22826,
           43641,
           10114,
           8560
          ],
          "sizemin": 4,
          "sizemode": "area",
          "sizeref": 268.22875
         },
         "mode": "markers",
         "text": [
          "Action",
          "Adventure",
          "Animation",
          "Comedy",
          "Crime",
          "Documentary",
          "Drama",
          "Family",
          "Fantasy",
          "History",
          "Horror",
          "Music",
          "Mystery",
          "Romance",
          "ScienceFiction",
          "TVMovie",
          "Thriller",
          "War",
          "Western"
         ],
         "type": "scatter",
         "x": [
          0.19806652484920065,
          0.3092649413336643,
          0.1781341197569648,
          0.022085718830845726,
          -0.12130396616304182,
          -0.407822457575497,
          -0.02577452441236344,
          0.37678541758559136,
          -0.09454251539642805,
          -0.6872881181463324,
          0.2565398080602053,
          -0.09009617014394866,
          -0.335485164161792,
          -0.16050779617213312,
          0.45264575651729877,
          -0.285146701921019,
          0.17404493332192097,
          -0.759599806163101,
          1
         ],
         "y": [
          0.24331600182737434,
          -0.13214028584678386,
          -0.5069956435905708,
          -0.012372145206273692,
          0.5526805454408843,
          -0.29545726013485557,
          -0.03721433335100137,
          -0.39818646064149843,
          -0.4223421220981966,
          -0.1344840421999192,
          0.047461758426326786,
          -0.4444106741864972,
          0.4371172080750423,
          -0.0015842186587369676,
          0.0985662724029544,
          0.2908318316623216,
          0.4832170408416905,
          0.062332269389487924,
          0.16966425784826789
         ]
        }
       ],
       "layout": {
        "annotations": [
         {
          "showarrow": false,
          "text": "",
          "x": 0.005,
          "xref": "paper",
          "y": -0.002,
          "yref": "paper"
         }
        ],
        "hovermode": "closest",
        "margin": {
         "b": 20,
         "l": 5,
         "r": 5,
         "t": 40
        },
        "showlegend": false,
        "template": {
         "data": {
          "bar": [
           {
            "error_x": {
             "color": "#2a3f5f"
            },
            "error_y": {
             "color": "#2a3f5f"
            },
            "marker": {
             "line": {
              "color": "#E5ECF6",
              "width": 0.5
             },
             "pattern": {
              "fillmode": "overlay",
              "size": 10,
              "solidity": 0.2
             }
            },
            "type": "bar"
           }
          ],
          "barpolar": [
           {
            "marker": {
             "line": {
              "color": "#E5ECF6",
              "width": 0.5
             },
             "pattern": {
              "fillmode": "overlay",
              "size": 10,
              "solidity": 0.2
             }
            },
            "type": "barpolar"
           }
          ],
          "carpet": [
           {
            "aaxis": {
             "endlinecolor": "#2a3f5f",
             "gridcolor": "white",
             "linecolor": "white",
             "minorgridcolor": "white",
             "startlinecolor": "#2a3f5f"
            },
            "baxis": {
             "endlinecolor": "#2a3f5f",
             "gridcolor": "white",
             "linecolor": "white",
             "minorgridcolor": "white",
             "startlinecolor": "#2a3f5f"
            },
            "type": "carpet"
           }
          ],
          "choropleth": [
           {
            "colorbar": {
             "outlinewidth": 0,
             "ticks": ""
            },
            "type": "choropleth"
           }
          ],
          "contour": [
           {
            "colorbar": {
             "outlinewidth": 0,
             "ticks": ""
            },
            "colorscale": [
             [
              0,
              "#0d0887"
             ],
             [
              0.1111111111111111,
              "#46039f"
             ],
             [
              0.2222222222222222,
              "#7201a8"
             ],
             [
              0.3333333333333333,
              "#9c179e"
             ],
             [
              0.4444444444444444,
              "#bd3786"
             ],
             [
              0.5555555555555556,
              "#d8576b"
             ],
             [
              0.6666666666666666,
              "#ed7953"
             ],
             [
              0.7777777777777778,
              "#fb9f3a"
             ],
             [
              0.8888888888888888,
              "#fdca26"
             ],
             [
              1,
              "#f0f921"
             ]
            ],
            "type": "contour"
           }
          ],
          "contourcarpet": [
           {
            "colorbar": {
             "outlinewidth": 0,
             "ticks": ""
            },
            "type": "contourcarpet"
           }
          ],
          "heatmap": [
           {
            "colorbar": {
             "outlinewidth": 0,
             "ticks": ""
            },
            "colorscale": [
             [
              0,
              "#0d0887"
             ],
             [
              0.1111111111111111,
              "#46039f"
             ],
             [
              0.2222222222222222,
              "#7201a8"
             ],
             [
              0.3333333333333333,
              "#9c179e"
             ],
             [
              0.4444444444444444,
              "#bd3786"
             ],
             [
              0.5555555555555556,
              "#d8576b"
             ],
             [
              0.6666666666666666,
              "#ed7953"
             ],
             [
              0.7777777777777778,
              "#fb9f3a"
             ],
             [
              0.8888888888888888,
              "#fdca26"
             ],
             [
              1,
              "#f0f921"
             ]
            ],
            "type": "heatmap"
           }
          ],
          "heatmapgl": [
           {
            "colorbar": {
             "outlinewidth": 0,
             "ticks": ""
            },
            "colorscale": [
             [
              0,
              "#0d0887"
             ],
             [
              0.1111111111111111,
              "#46039f"
             ],
             [
              0.2222222222222222,
              "#7201a8"
             ],
             [
              0.3333333333333333,
              "#9c179e"
             ],
             [
              0.4444444444444444,
              "#bd3786"
             ],
             [
              0.5555555555555556,
              "#d8576b"
             ],
             [
              0.6666666666666666,
              "#ed7953"
             ],
             [
              0.7777777777777778,
              "#fb9f3a"
             ],
             [
              0.8888888888888888,
              "#fdca26"
             ],
             [
              1,
              "#f0f921"
             ]
            ],
            "type": "heatmapgl"
           }
          ],
          "histogram": [
           {
            "marker": {
             "pattern": {
              "fillmode": "overlay",
              "size": 10,
              "solidity": 0.2
             }
            },
            "type": "histogram"
           }
          ],
          "histogram2d": [
           {
            "colorbar": {
             "outlinewidth": 0,
             "ticks": ""
            },
            "colorscale": [
             [
              0,
              "#0d0887"
             ],
             [
              0.1111111111111111,
              "#46039f"
             ],
             [
              0.2222222222222222,
              "#7201a8"
             ],
             [
              0.3333333333333333,
              "#9c179e"
             ],
             [
              0.4444444444444444,
              "#bd3786"
             ],
             [
              0.5555555555555556,
              "#d8576b"
             ],
             [
              0.6666666666666666,
              "#ed7953"
             ],
             [
              0.7777777777777778,
              "#fb9f3a"
             ],
             [
              0.8888888888888888,
              "#fdca26"
             ],
             [
              1,
              "#f0f921"
             ]
            ],
            "type": "histogram2d"
           }
          ],
          "histogram2dcontour": [
           {
            "colorbar": {
             "outlinewidth": 0,
             "ticks": ""
            },
            "colorscale": [
             [
              0,
              "#0d0887"
             ],
             [
              0.1111111111111111,
              "#46039f"
             ],
             [
              0.2222222222222222,
              "#7201a8"
             ],
             [
              0.3333333333333333,
              "#9c179e"
             ],
             [
              0.4444444444444444,
              "#bd3786"
             ],
             [
              0.5555555555555556,
              "#d8576b"
             ],
             [
              0.6666666666666666,
              "#ed7953"
             ],
             [
              0.7777777777777778,
              "#fb9f3a"
             ],
             [
              0.8888888888888888,
              "#fdca26"
             ],
             [
              1,
              "#f0f921"
             ]
            ],
            "type": "histogram2dcontour"
           }
          ],
          "mesh3d": [
           {
            "colorbar": {
             "outlinewidth": 0,
             "ticks": ""
            },
            "type": "mesh3d"
           }
          ],
          "parcoords": [
           {
            "line": {
             "colorbar": {
              "outlinewidth": 0,
              "ticks": ""
             }
            },
            "type": "parcoords"
           }
          ],
          "pie": [
           {
            "automargin": true,
            "type": "pie"
           }
          ],
          "scatter": [
           {
            "fillpattern": {
             "fillmode": "overlay",
             "size": 10,
             "solidity": 0.2
            },
            "type": "scatter"
           }
          ],
          "scatter3d": [
           {
            "line": {
             "colorbar": {
              "outlinewidth": 0,
              "ticks": ""
             }
            },
            "marker": {
             "colorbar": {
              "outlinewidth": 0,
              "ticks": ""
             }
            },
            "type": "scatter3d"
           }
          ],
          "scattercarpet": [
           {
            "marker": {
             "colorbar": {
              "outlinewidth": 0,
              "ticks": ""
             }
            },
            "type": "scattercarpet"
           }
          ],
          "scattergeo": [
           {
            "marker": {
             "colorbar": {
              "outlinewidth": 0,
              "ticks": ""
             }
            },
            "type": "scattergeo"
           }
          ],
          "scattergl": [
           {
            "marker": {
             "colorbar": {
              "outlinewidth": 0,
              "ticks": ""
             }
            },
            "type": "scattergl"
           }
          ],
          "scattermapbox": [
           {
            "marker": {
             "colorbar": {
              "outlinewidth": 0,
              "ticks": ""
             }
            },
            "type": "scattermapbox"
           }
          ],
          "scatterpolar": [
           {
            "marker": {
             "colorbar": {
              "outlinewidth": 0,
              "ticks": ""
             }
            },
            "type": "scatterpolar"
           }
          ],
          "scatterpolargl": [
           {
            "marker": {
             "colorbar": {
              "outlinewidth": 0,
              "ticks": ""
             }
            },
            "type": "scatterpolargl"
           }
          ],
          "scatterternary": [
           {
            "marker": {
             "colorbar": {
              "outlinewidth": 0,
              "ticks": ""
             }
            },
            "type": "scatterternary"
           }
          ],
          "surface": [
           {
            "colorbar": {
             "outlinewidth": 0,
             "ticks": ""
            },
            "colorscale": [
             [
              0,
              "#0d0887"
             ],
             [
              0.1111111111111111,
              "#46039f"
             ],
             [
              0.2222222222222222,
              "#7201a8"
             ],
             [
              0.3333333333333333,
              "#9c179e"
             ],
             [
              0.4444444444444444,
              "#bd3786"
             ],
             [
              0.5555555555555556,
              "#d8576b"
             ],
             [
              0.6666666666666666,
              "#ed7953"
             ],
             [
              0.7777777777777778,
              "#fb9f3a"
             ],
             [
              0.8888888888888888,
              "#fdca26"
             ],
             [
              1,
              "#f0f921"
             ]
            ],
            "type": "surface"
           }
          ],
          "table": [
           {
            "cells": {
             "fill": {
              "color": "#EBF0F8"
             },
             "line": {
              "color": "white"
             }
            },
            "header": {
             "fill": {
              "color": "#C8D4E3"
             },
             "line": {
              "color": "white"
             }
            },
            "type": "table"
           }
          ]
         },
         "layout": {
          "annotationdefaults": {
           "arrowcolor": "#2a3f5f",
           "arrowhead": 0,
           "arrowwidth": 1
          },
          "autotypenumbers": "strict",
          "coloraxis": {
           "colorbar": {
            "outlinewidth": 0,
            "ticks": ""
           }
          },
          "colorscale": {
           "diverging": [
            [
             0,
             "#8e0152"
            ],
            [
             0.1,
             "#c51b7d"
            ],
            [
             0.2,
             "#de77ae"
            ],
            [
             0.3,
             "#f1b6da"
            ],
            [
             0.4,
             "#fde0ef"
            ],
            [
             0.5,
             "#f7f7f7"
            ],
            [
             0.6,
             "#e6f5d0"
            ],
            [
             0.7,
             "#b8e186"
            ],
            [
             0.8,
             "#7fbc41"
            ],
            [
             0.9,
             "#4d9221"
            ],
            [
             1,
             "#276419"
            ]
           ],
           "sequential": [
            [
             0,
             "#0d0887"
            ],
            [
             0.1111111111111111,
             "#46039f"
            ],
            [
             0.2222222222222222,
             "#7201a8"
            ],
            [
             0.3333333333333333,
             "#9c179e"
            ],
            [
             0.4444444444444444,
             "#bd3786"
            ],
            [
             0.5555555555555556,
             "#d8576b"
            ],
            [
             0.6666666666666666,
             "#ed7953"
            ],
            [
             0.7777777777777778,
             "#fb9f3a"
            ],
            [
             0.8888888888888888,
             "#fdca26"
            ],
            [
             1,
             "#f0f921"
            ]
           ],
           "sequentialminus": [
            [
             0,
             "#0d0887"
            ],
            [
             0.1111111111111111,
             "#46039f"
            ],
            [
             0.2222222222222222,
             "#7201a8"
            ],
            [
             0.3333333333333333,
             "#9c179e"
            ],
            [
             0.4444444444444444,
             "#bd3786"
            ],
            [
             0.5555555555555556,
             "#d8576b"
            ],
            [
             0.6666666666666666,
             "#ed7953"
            ],
            [
             0.7777777777777778,
             "#fb9f3a"
            ],
            [
             0.8888888888888888,
             "#fdca26"
            ],
            [
             1,
             "#f0f921"
            ]
           ]
          },
          "colorway": [
           "#636efa",
           "#EF553B",
           "#00cc96",
           "#ab63fa",
           "#FFA15A",
           "#19d3f3",
           "#FF6692",
           "#B6E880",
           "#FF97FF",
           "#FECB52"
          ],
          "font": {
           "color": "#2a3f5f"
          },
          "geo": {
           "bgcolor": "white",
           "lakecolor": "white",
           "landcolor": "#E5ECF6",
           "showlakes": true,
           "showland": true,
           "subunitcolor": "white"
          },
          "hoverlabel": {
           "align": "left"
          },
          "hovermode": "closest",
          "mapbox": {
           "style": "light"
          },
          "paper_bgcolor": "white",
          "plot_bgcolor": "#E5ECF6",
          "polar": {
           "angularaxis": {
            "gridcolor": "white",
            "linecolor": "white",
            "ticks": ""
           },
           "bgcolor": "#E5ECF6",
           "radialaxis": {
            "gridcolor": "white",
            "linecolor": "white",
            "ticks": ""
           }
          },
          "scene": {
           "xaxis": {
            "backgroundcolor": "#E5ECF6",
            "gridcolor": "white",
            "gridwidth": 2,
            "linecolor": "white",
            "showbackground": true,
            "ticks": "",
            "zerolinecolor": "white"
           },
           "yaxis": {
            "backgroundcolor": "#E5ECF6",
            "gridcolor": "white",
            "gridwidth": 2,
            "linecolor": "white",
            "showbackground": true,
            "ticks": "",
            "zerolinecolor": "white"
           },
           "zaxis": {
            "backgroundcolor": "#E5ECF6",
            "gridcolor": "white",
            "gridwidth": 2,
            "linecolor": "white",
            "showbackground": true,
            "ticks": "",
            "zerolinecolor": "white"
           }
          },
          "shapedefaults": {
           "line": {
            "color": "#2a3f5f"
           }
          },
          "ternary": {
           "aaxis": {
            "gridcolor": "white",
            "linecolor": "white",
            "ticks": ""
           },
           "baxis": {
            "gridcolor": "white",
            "linecolor": "white",
            "ticks": ""
           },
           "bgcolor": "#E5ECF6",
           "caxis": {
            "gridcolor": "white",
            "linecolor": "white",
            "ticks": ""
           }
          },
          "title": {
           "x": 0.05
          },
          "xaxis": {
           "automargin": true,
           "gridcolor": "white",
           "linecolor": "white",
           "ticks": "",
           "title": {
            "standoff": 15
           },
           "zerolinecolor": "white",
           "zerolinewidth": 2
          },
          "yaxis": {
           "automargin": true,
           "gridcolor": "white",
           "linecolor": "white",
           "ticks": "",
           "title": {
            "standoff": 15
           },
           "zerolinecolor": "white",
           "zerolinewidth": 2
          }
         }
        },
        "title": {
         "font": {
          "size": 16
         },
         "text": "Network Graph of Movie Genres"
        },
        "xaxis": {
         "showgrid": false,
         "showticklabels": false,
         "zeroline": false
        },
        "yaxis": {
         "showgrid": false,
         "showticklabels": false,
         "zeroline": false
        }
       }
      }
     },
     "metadata": {},
     "output_type": "display_data"
    }
   ],
   "source": [
    "df = genres_expanded\n",
    "\n",
    "G = nx.Graph()\n",
    "\n",
    "# Add nodes with the size attribute\n",
    "for genre in df.columns:\n",
    "    G.add_node(genre, size=df[genre].sum())\n",
    "\n",
    "# Adds edges for each genre that appears together with other genres\n",
    "# In a later version of our Network Graphs we indicated the occurance of genre combination in the edge width\n",
    "# Here it is only binary, so there is always the same edge width if at least one combination occurs, making a combination almost everywhere (which is not optimal yet)\n",
    "for (genre1, genre2) in combinations(df.columns, 2):\n",
    "    weight = (df[genre1] & df[genre2]).sum()\n",
    "    if weight > 0:\n",
    "        G.add_edge(genre1, genre2, weight=weight)\n",
    "\n",
    "# Here we specify the positioning of the nodes\n",
    "pos = nx.spring_layout(G, k=0.3, seed = 111)\n",
    "\n",
    "# Here the edges are created\n",
    "edge_x = []\n",
    "edge_y = []\n",
    "weights = []\n",
    "for edge in G.edges():\n",
    "    x0, y0 = pos[edge[0]]\n",
    "    x1, y1 = pos[edge[1]]\n",
    "    edge_x.append(x0)\n",
    "    edge_x.append(x1)\n",
    "    edge_x.append(None)\n",
    "    edge_y.append(y0)\n",
    "    edge_y.append(y1)\n",
    "    edge_y.append(None)\n",
    "    weights.append(G.edges[edge]['weight'])\n",
    "\n",
    "# Here the nodes are created\n",
    "node_x = []\n",
    "node_y = []\n",
    "sizes = []\n",
    "for node in G.nodes():\n",
    "    x, y = pos[node]\n",
    "    node_x.append(x)\n",
    "    node_y.append(y)\n",
    "    sizes.append(G.nodes[node]['size'])\n",
    "\n",
    "# Creating edge traces\n",
    "edge_trace = go.Scatter(\n",
    "    x=edge_x, y=edge_y,\n",
    "    line=dict(width=0.5, color='grey'),\n",
    "    hoverinfo='none',\n",
    "    mode='lines')\n",
    "\n",
    "# Creating node traces\n",
    "node_trace = go.Scatter(\n",
    "    x=node_x, y=node_y,\n",
    "    mode='markers',\n",
    "    hoverinfo='text',\n",
    "    marker=dict(\n",
    "        showscale=True,\n",
    "        colorscale='YlGnBu',\n",
    "        size=sizes,\n",
    "        sizemode='area',\n",
    "        sizeref=2.*max(sizes)/(40.**2),\n",
    "        sizemin=4\n",
    "    ),\n",
    "    text=list(G.nodes()))\n",
    "\n",
    "# Final Figure\n",
    "fig = go.Figure(data=[edge_trace, node_trace],\n",
    "                layout=go.Layout(\n",
    "                    title='Network Graph of Movie Genres',\n",
    "                    titlefont_size=16,\n",
    "                    showlegend=False,\n",
    "                    hovermode='closest',\n",
    "                    margin=dict(b=20, l=5, r=5, t=40),\n",
    "                    annotations=[dict(\n",
    "                        text=\"\",\n",
    "                        showarrow=False,\n",
    "                        xref=\"paper\", yref=\"paper\",\n",
    "                        x=0.005, y=-0.002)],\n",
    "                    xaxis=dict(showgrid=False, zeroline=False, showticklabels=False),\n",
    "                    yaxis=dict(showgrid=False, zeroline=False, showticklabels=False))\n",
    "                )\n",
    "fig.show()\n",
    "fig.write_html('network_graph_of_movie_genres.html')"
   ]
  },
  {
   "cell_type": "markdown",
   "metadata": {},
   "source": [
    "Here we were implementing the Louvain method to detect communities, in order to get some insights into some genre groups that are closely related to each other"
   ]
  },
  {
   "cell_type": "code",
   "execution_count": null,
   "metadata": {},
   "outputs": [
    {
     "data": {
      "application/vnd.plotly.v1+json": {
       "config": {
        "plotlyServerURL": "https://plot.ly"
       },
       "data": [
        {
         "hoverinfo": "none",
         "line": {
          "color": "grey",
          "width": 0.5
         },
         "mode": "lines",
         "type": "scatter",
         "x": [
          -0.08102839010759641,
          0.14518052791209826,
          null,
          -0.08102839010759641,
          0.48742567679143967,
          null,
          -0.08102839010759641,
          0.13624904254562706,
          null,
          -0.08102839010759641,
          -0.7088749374359014,
          null,
          -0.08102839010759641,
          0.24642169268400346,
          null,
          -0.08102839010759641,
          -0.14729601524765254,
          null,
          -0.08102839010759641,
          0.6176406819576419,
          null,
          -0.08102839010759641,
          0.36267916195952915,
          null,
          -0.08102839010759641,
          -0.08185585602721432,
          null,
          -0.08102839010759641,
          -0.39338393137232963,
          null,
          -0.08102839010759641,
          0.5034352205254935,
          null,
          -0.08102839010759641,
          -0.672991426451281,
          null,
          -0.08102839010759641,
          -0.021012971306782084,
          null,
          -0.08102839010759641,
          -0.049379822133519505,
          null,
          -0.08102839010759641,
          -0.15152979430973731,
          null,
          -0.08102839010759641,
          -0.5972345903990947,
          null,
          -0.08102839010759641,
          -0.5944442695847003,
          null,
          -0.08102839010759641,
          1,
          null,
          0.14518052791209826,
          0.48742567679143967,
          null,
          0.14518052791209826,
          0.13624904254562706,
          null,
          0.14518052791209826,
          -0.7088749374359014,
          null,
          0.14518052791209826,
          0.24642169268400346,
          null,
          0.14518052791209826,
          -0.14729601524765254,
          null,
          0.14518052791209826,
          0.6176406819576419,
          null,
          0.14518052791209826,
          0.36267916195952915,
          null,
          0.14518052791209826,
          -0.08185585602721432,
          null,
          0.14518052791209826,
          -0.39338393137232963,
          null,
          0.14518052791209826,
          0.5034352205254935,
          null,
          0.14518052791209826,
          -0.672991426451281,
          null,
          0.14518052791209826,
          -0.021012971306782084,
          null,
          0.14518052791209826,
          -0.049379822133519505,
          null,
          0.14518052791209826,
          -0.15152979430973731,
          null,
          0.14518052791209826,
          -0.5972345903990947,
          null,
          0.14518052791209826,
          -0.5944442695847003,
          null,
          0.14518052791209826,
          1,
          null,
          0.48742567679143967,
          0.13624904254562706,
          null,
          0.48742567679143967,
          -0.7088749374359014,
          null,
          0.48742567679143967,
          0.24642169268400346,
          null,
          0.48742567679143967,
          -0.14729601524765254,
          null,
          0.48742567679143967,
          0.6176406819576419,
          null,
          0.48742567679143967,
          0.36267916195952915,
          null,
          0.48742567679143967,
          -0.08185585602721432,
          null,
          0.48742567679143967,
          -0.39338393137232963,
          null,
          0.48742567679143967,
          0.5034352205254935,
          null,
          0.48742567679143967,
          -0.672991426451281,
          null,
          0.48742567679143967,
          -0.021012971306782084,
          null,
          0.48742567679143967,
          -0.049379822133519505,
          null,
          0.48742567679143967,
          -0.15152979430973731,
          null,
          0.48742567679143967,
          -0.5972345903990947,
          null,
          0.48742567679143967,
          -0.5944442695847003,
          null,
          0.48742567679143967,
          1,
          null,
          0.13624904254562706,
          -0.7088749374359014,
          null,
          0.13624904254562706,
          0.24642169268400346,
          null,
          0.13624904254562706,
          -0.14729601524765254,
          null,
          0.13624904254562706,
          0.6176406819576419,
          null,
          0.13624904254562706,
          0.36267916195952915,
          null,
          0.13624904254562706,
          -0.08185585602721432,
          null,
          0.13624904254562706,
          -0.39338393137232963,
          null,
          0.13624904254562706,
          0.5034352205254935,
          null,
          0.13624904254562706,
          -0.672991426451281,
          null,
          0.13624904254562706,
          -0.021012971306782084,
          null,
          0.13624904254562706,
          -0.049379822133519505,
          null,
          0.13624904254562706,
          -0.15152979430973731,
          null,
          0.13624904254562706,
          -0.5972345903990947,
          null,
          0.13624904254562706,
          -0.5944442695847003,
          null,
          0.13624904254562706,
          1,
          null,
          -0.7088749374359014,
          0.24642169268400346,
          null,
          -0.7088749374359014,
          -0.14729601524765254,
          null,
          -0.7088749374359014,
          0.6176406819576419,
          null,
          -0.7088749374359014,
          0.36267916195952915,
          null,
          -0.7088749374359014,
          -0.08185585602721432,
          null,
          -0.7088749374359014,
          -0.39338393137232963,
          null,
          -0.7088749374359014,
          0.5034352205254935,
          null,
          -0.7088749374359014,
          -0.672991426451281,
          null,
          -0.7088749374359014,
          -0.021012971306782084,
          null,
          -0.7088749374359014,
          -0.049379822133519505,
          null,
          -0.7088749374359014,
          -0.15152979430973731,
          null,
          -0.7088749374359014,
          -0.5972345903990947,
          null,
          -0.7088749374359014,
          -0.5944442695847003,
          null,
          -0.7088749374359014,
          1,
          null,
          0.24642169268400346,
          -0.14729601524765254,
          null,
          0.24642169268400346,
          0.6176406819576419,
          null,
          0.24642169268400346,
          0.36267916195952915,
          null,
          0.24642169268400346,
          -0.08185585602721432,
          null,
          0.24642169268400346,
          -0.39338393137232963,
          null,
          0.24642169268400346,
          0.5034352205254935,
          null,
          0.24642169268400346,
          -0.672991426451281,
          null,
          0.24642169268400346,
          -0.021012971306782084,
          null,
          0.24642169268400346,
          -0.049379822133519505,
          null,
          0.24642169268400346,
          -0.15152979430973731,
          null,
          0.24642169268400346,
          -0.5972345903990947,
          null,
          0.24642169268400346,
          -0.5944442695847003,
          null,
          0.24642169268400346,
          1,
          null,
          -0.14729601524765254,
          0.6176406819576419,
          null,
          -0.14729601524765254,
          0.36267916195952915,
          null,
          -0.14729601524765254,
          -0.08185585602721432,
          null,
          -0.14729601524765254,
          -0.39338393137232963,
          null,
          -0.14729601524765254,
          0.5034352205254935,
          null,
          -0.14729601524765254,
          -0.672991426451281,
          null,
          -0.14729601524765254,
          -0.021012971306782084,
          null,
          -0.14729601524765254,
          -0.049379822133519505,
          null,
          -0.14729601524765254,
          -0.15152979430973731,
          null,
          -0.14729601524765254,
          -0.5972345903990947,
          null,
          -0.14729601524765254,
          -0.5944442695847003,
          null,
          -0.14729601524765254,
          1,
          null,
          0.6176406819576419,
          0.36267916195952915,
          null,
          0.6176406819576419,
          -0.08185585602721432,
          null,
          0.6176406819576419,
          -0.39338393137232963,
          null,
          0.6176406819576419,
          0.5034352205254935,
          null,
          0.6176406819576419,
          -0.672991426451281,
          null,
          0.6176406819576419,
          -0.021012971306782084,
          null,
          0.6176406819576419,
          -0.049379822133519505,
          null,
          0.6176406819576419,
          -0.15152979430973731,
          null,
          0.6176406819576419,
          -0.5972345903990947,
          null,
          0.6176406819576419,
          -0.5944442695847003,
          null,
          0.6176406819576419,
          1,
          null,
          0.36267916195952915,
          -0.08185585602721432,
          null,
          0.36267916195952915,
          -0.39338393137232963,
          null,
          0.36267916195952915,
          0.5034352205254935,
          null,
          0.36267916195952915,
          -0.672991426451281,
          null,
          0.36267916195952915,
          -0.021012971306782084,
          null,
          0.36267916195952915,
          -0.049379822133519505,
          null,
          0.36267916195952915,
          -0.15152979430973731,
          null,
          0.36267916195952915,
          -0.5972345903990947,
          null,
          0.36267916195952915,
          -0.5944442695847003,
          null,
          0.36267916195952915,
          1,
          null,
          -0.08185585602721432,
          -0.39338393137232963,
          null,
          -0.08185585602721432,
          0.5034352205254935,
          null,
          -0.08185585602721432,
          -0.672991426451281,
          null,
          -0.08185585602721432,
          -0.021012971306782084,
          null,
          -0.08185585602721432,
          -0.049379822133519505,
          null,
          -0.08185585602721432,
          -0.15152979430973731,
          null,
          -0.08185585602721432,
          -0.5972345903990947,
          null,
          -0.08185585602721432,
          -0.5944442695847003,
          null,
          -0.08185585602721432,
          1,
          null,
          -0.39338393137232963,
          0.5034352205254935,
          null,
          -0.39338393137232963,
          -0.672991426451281,
          null,
          -0.39338393137232963,
          -0.021012971306782084,
          null,
          -0.39338393137232963,
          -0.049379822133519505,
          null,
          -0.39338393137232963,
          -0.15152979430973731,
          null,
          -0.39338393137232963,
          -0.5972345903990947,
          null,
          -0.39338393137232963,
          -0.5944442695847003,
          null,
          -0.39338393137232963,
          1,
          null,
          0.5034352205254935,
          -0.672991426451281,
          null,
          0.5034352205254935,
          -0.021012971306782084,
          null,
          0.5034352205254935,
          -0.049379822133519505,
          null,
          0.5034352205254935,
          -0.15152979430973731,
          null,
          0.5034352205254935,
          -0.5972345903990947,
          null,
          0.5034352205254935,
          -0.5944442695847003,
          null,
          0.5034352205254935,
          1,
          null,
          -0.672991426451281,
          -0.021012971306782084,
          null,
          -0.672991426451281,
          -0.049379822133519505,
          null,
          -0.672991426451281,
          -0.15152979430973731,
          null,
          -0.672991426451281,
          -0.5972345903990947,
          null,
          -0.672991426451281,
          -0.5944442695847003,
          null,
          -0.672991426451281,
          1,
          null,
          -0.021012971306782084,
          -0.049379822133519505,
          null,
          -0.021012971306782084,
          -0.15152979430973731,
          null,
          -0.021012971306782084,
          -0.5972345903990947,
          null,
          -0.021012971306782084,
          -0.5944442695847003,
          null,
          -0.021012971306782084,
          1,
          null,
          -0.049379822133519505,
          -0.15152979430973731,
          null,
          -0.049379822133519505,
          -0.5972345903990947,
          null,
          -0.049379822133519505,
          -0.5944442695847003,
          null,
          -0.049379822133519505,
          1,
          null,
          -0.15152979430973731,
          -0.5972345903990947,
          null,
          -0.15152979430973731,
          -0.5944442695847003,
          null,
          -0.15152979430973731,
          1,
          null,
          -0.5972345903990947,
          -0.5944442695847003,
          null,
          -0.5972345903990947,
          1,
          null,
          -0.5944442695847003,
          1,
          null
         ],
         "y": [
          -0.27268232549159205,
          -0.34392270586567825,
          null,
          -0.27268232549159205,
          -0.06176839651297817,
          null,
          -0.27268232549159205,
          -0.02493212454216236,
          null,
          -0.27268232549159205,
          0.006155538675164917,
          null,
          -0.27268232549159205,
          0.6553414324049309,
          null,
          -0.27268232549159205,
          0.0796698527579924,
          null,
          -0.27268232549159205,
          0.07560525408300751,
          null,
          -0.27268232549159205,
          -0.41520299019120377,
          null,
          -0.27268232549159205,
          0.8479577914255687,
          null,
          -0.27268232549159205,
          -0.5251301814798549,
          null,
          -0.27268232549159205,
          0.45850759286580284,
          null,
          -0.27268232549159205,
          -0.14046594736057116,
          null,
          -0.27268232549159205,
          0.2015352316522645,
          null,
          -0.27268232549159205,
          -0.6805747788329322,
          null,
          -0.27268232549159205,
          0.38335566686187267,
          null,
          -0.27268232549159205,
          -0.2850827697685695,
          null,
          -0.27268232549159205,
          0.7288455870977308,
          null,
          -0.27268232549159205,
          -0.6872117277788253,
          null,
          -0.34392270586567825,
          -0.06176839651297817,
          null,
          -0.34392270586567825,
          -0.02493212454216236,
          null,
          -0.34392270586567825,
          0.006155538675164917,
          null,
          -0.34392270586567825,
          0.6553414324049309,
          null,
          -0.34392270586567825,
          0.0796698527579924,
          null,
          -0.34392270586567825,
          0.07560525408300751,
          null,
          -0.34392270586567825,
          -0.41520299019120377,
          null,
          -0.34392270586567825,
          0.8479577914255687,
          null,
          -0.34392270586567825,
          -0.5251301814798549,
          null,
          -0.34392270586567825,
          0.45850759286580284,
          null,
          -0.34392270586567825,
          -0.14046594736057116,
          null,
          -0.34392270586567825,
          0.2015352316522645,
          null,
          -0.34392270586567825,
          -0.6805747788329322,
          null,
          -0.34392270586567825,
          0.38335566686187267,
          null,
          -0.34392270586567825,
          -0.2850827697685695,
          null,
          -0.34392270586567825,
          0.7288455870977308,
          null,
          -0.34392270586567825,
          -0.6872117277788253,
          null,
          -0.06176839651297817,
          -0.02493212454216236,
          null,
          -0.06176839651297817,
          0.006155538675164917,
          null,
          -0.06176839651297817,
          0.6553414324049309,
          null,
          -0.06176839651297817,
          0.0796698527579924,
          null,
          -0.06176839651297817,
          0.07560525408300751,
          null,
          -0.06176839651297817,
          -0.41520299019120377,
          null,
          -0.06176839651297817,
          0.8479577914255687,
          null,
          -0.06176839651297817,
          -0.5251301814798549,
          null,
          -0.06176839651297817,
          0.45850759286580284,
          null,
          -0.06176839651297817,
          -0.14046594736057116,
          null,
          -0.06176839651297817,
          0.2015352316522645,
          null,
          -0.06176839651297817,
          -0.6805747788329322,
          null,
          -0.06176839651297817,
          0.38335566686187267,
          null,
          -0.06176839651297817,
          -0.2850827697685695,
          null,
          -0.06176839651297817,
          0.7288455870977308,
          null,
          -0.06176839651297817,
          -0.6872117277788253,
          null,
          -0.02493212454216236,
          0.006155538675164917,
          null,
          -0.02493212454216236,
          0.6553414324049309,
          null,
          -0.02493212454216236,
          0.0796698527579924,
          null,
          -0.02493212454216236,
          0.07560525408300751,
          null,
          -0.02493212454216236,
          -0.41520299019120377,
          null,
          -0.02493212454216236,
          0.8479577914255687,
          null,
          -0.02493212454216236,
          -0.5251301814798549,
          null,
          -0.02493212454216236,
          0.45850759286580284,
          null,
          -0.02493212454216236,
          -0.14046594736057116,
          null,
          -0.02493212454216236,
          0.2015352316522645,
          null,
          -0.02493212454216236,
          -0.6805747788329322,
          null,
          -0.02493212454216236,
          0.38335566686187267,
          null,
          -0.02493212454216236,
          -0.2850827697685695,
          null,
          -0.02493212454216236,
          0.7288455870977308,
          null,
          -0.02493212454216236,
          -0.6872117277788253,
          null,
          0.006155538675164917,
          0.6553414324049309,
          null,
          0.006155538675164917,
          0.0796698527579924,
          null,
          0.006155538675164917,
          0.07560525408300751,
          null,
          0.006155538675164917,
          -0.41520299019120377,
          null,
          0.006155538675164917,
          0.8479577914255687,
          null,
          0.006155538675164917,
          -0.5251301814798549,
          null,
          0.006155538675164917,
          0.45850759286580284,
          null,
          0.006155538675164917,
          -0.14046594736057116,
          null,
          0.006155538675164917,
          0.2015352316522645,
          null,
          0.006155538675164917,
          -0.6805747788329322,
          null,
          0.006155538675164917,
          0.38335566686187267,
          null,
          0.006155538675164917,
          -0.2850827697685695,
          null,
          0.006155538675164917,
          0.7288455870977308,
          null,
          0.006155538675164917,
          -0.6872117277788253,
          null,
          0.6553414324049309,
          0.0796698527579924,
          null,
          0.6553414324049309,
          0.07560525408300751,
          null,
          0.6553414324049309,
          -0.41520299019120377,
          null,
          0.6553414324049309,
          0.8479577914255687,
          null,
          0.6553414324049309,
          -0.5251301814798549,
          null,
          0.6553414324049309,
          0.45850759286580284,
          null,
          0.6553414324049309,
          -0.14046594736057116,
          null,
          0.6553414324049309,
          0.2015352316522645,
          null,
          0.6553414324049309,
          -0.6805747788329322,
          null,
          0.6553414324049309,
          0.38335566686187267,
          null,
          0.6553414324049309,
          -0.2850827697685695,
          null,
          0.6553414324049309,
          0.7288455870977308,
          null,
          0.6553414324049309,
          -0.6872117277788253,
          null,
          0.0796698527579924,
          0.07560525408300751,
          null,
          0.0796698527579924,
          -0.41520299019120377,
          null,
          0.0796698527579924,
          0.8479577914255687,
          null,
          0.0796698527579924,
          -0.5251301814798549,
          null,
          0.0796698527579924,
          0.45850759286580284,
          null,
          0.0796698527579924,
          -0.14046594736057116,
          null,
          0.0796698527579924,
          0.2015352316522645,
          null,
          0.0796698527579924,
          -0.6805747788329322,
          null,
          0.0796698527579924,
          0.38335566686187267,
          null,
          0.0796698527579924,
          -0.2850827697685695,
          null,
          0.0796698527579924,
          0.7288455870977308,
          null,
          0.0796698527579924,
          -0.6872117277788253,
          null,
          0.07560525408300751,
          -0.41520299019120377,
          null,
          0.07560525408300751,
          0.8479577914255687,
          null,
          0.07560525408300751,
          -0.5251301814798549,
          null,
          0.07560525408300751,
          0.45850759286580284,
          null,
          0.07560525408300751,
          -0.14046594736057116,
          null,
          0.07560525408300751,
          0.2015352316522645,
          null,
          0.07560525408300751,
          -0.6805747788329322,
          null,
          0.07560525408300751,
          0.38335566686187267,
          null,
          0.07560525408300751,
          -0.2850827697685695,
          null,
          0.07560525408300751,
          0.7288455870977308,
          null,
          0.07560525408300751,
          -0.6872117277788253,
          null,
          -0.41520299019120377,
          0.8479577914255687,
          null,
          -0.41520299019120377,
          -0.5251301814798549,
          null,
          -0.41520299019120377,
          0.45850759286580284,
          null,
          -0.41520299019120377,
          -0.14046594736057116,
          null,
          -0.41520299019120377,
          0.2015352316522645,
          null,
          -0.41520299019120377,
          -0.6805747788329322,
          null,
          -0.41520299019120377,
          0.38335566686187267,
          null,
          -0.41520299019120377,
          -0.2850827697685695,
          null,
          -0.41520299019120377,
          0.7288455870977308,
          null,
          -0.41520299019120377,
          -0.6872117277788253,
          null,
          0.8479577914255687,
          -0.5251301814798549,
          null,
          0.8479577914255687,
          0.45850759286580284,
          null,
          0.8479577914255687,
          -0.14046594736057116,
          null,
          0.8479577914255687,
          0.2015352316522645,
          null,
          0.8479577914255687,
          -0.6805747788329322,
          null,
          0.8479577914255687,
          0.38335566686187267,
          null,
          0.8479577914255687,
          -0.2850827697685695,
          null,
          0.8479577914255687,
          0.7288455870977308,
          null,
          0.8479577914255687,
          -0.6872117277788253,
          null,
          -0.5251301814798549,
          0.45850759286580284,
          null,
          -0.5251301814798549,
          -0.14046594736057116,
          null,
          -0.5251301814798549,
          0.2015352316522645,
          null,
          -0.5251301814798549,
          -0.6805747788329322,
          null,
          -0.5251301814798549,
          0.38335566686187267,
          null,
          -0.5251301814798549,
          -0.2850827697685695,
          null,
          -0.5251301814798549,
          0.7288455870977308,
          null,
          -0.5251301814798549,
          -0.6872117277788253,
          null,
          0.45850759286580284,
          -0.14046594736057116,
          null,
          0.45850759286580284,
          0.2015352316522645,
          null,
          0.45850759286580284,
          -0.6805747788329322,
          null,
          0.45850759286580284,
          0.38335566686187267,
          null,
          0.45850759286580284,
          -0.2850827697685695,
          null,
          0.45850759286580284,
          0.7288455870977308,
          null,
          0.45850759286580284,
          -0.6872117277788253,
          null,
          -0.14046594736057116,
          0.2015352316522645,
          null,
          -0.14046594736057116,
          -0.6805747788329322,
          null,
          -0.14046594736057116,
          0.38335566686187267,
          null,
          -0.14046594736057116,
          -0.2850827697685695,
          null,
          -0.14046594736057116,
          0.7288455870977308,
          null,
          -0.14046594736057116,
          -0.6872117277788253,
          null,
          0.2015352316522645,
          -0.6805747788329322,
          null,
          0.2015352316522645,
          0.38335566686187267,
          null,
          0.2015352316522645,
          -0.2850827697685695,
          null,
          0.2015352316522645,
          0.7288455870977308,
          null,
          0.2015352316522645,
          -0.6872117277788253,
          null,
          -0.6805747788329322,
          0.38335566686187267,
          null,
          -0.6805747788329322,
          -0.2850827697685695,
          null,
          -0.6805747788329322,
          0.7288455870977308,
          null,
          -0.6805747788329322,
          -0.6872117277788253,
          null,
          0.38335566686187267,
          -0.2850827697685695,
          null,
          0.38335566686187267,
          0.7288455870977308,
          null,
          0.38335566686187267,
          -0.6872117277788253,
          null,
          -0.2850827697685695,
          0.7288455870977308,
          null,
          -0.2850827697685695,
          -0.6872117277788253,
          null,
          0.7288455870977308,
          -0.6872117277788253,
          null
         ]
        },
        {
         "hoverinfo": "text",
         "marker": {
          "color": [
           0,
           3,
           3,
           2,
           0,
           1,
           2,
           3,
           3,
           1,
           0,
           1,
           0,
           2,
           0,
           2,
           0,
           1,
           2
          ],
          "colorscale": [
           [
            0,
            "#440154"
           ],
           [
            0.1111111111111111,
            "#482878"
           ],
           [
            0.2222222222222222,
            "#3e4989"
           ],
           [
            0.3333333333333333,
            "#31688e"
           ],
           [
            0.4444444444444444,
            "#26828e"
           ],
           [
            0.5555555555555556,
            "#1f9e89"
           ],
           [
            0.6666666666666666,
            "#35b779"
           ],
           [
            0.7777777777777778,
            "#6ece58"
           ],
           [
            0.8888888888888888,
            "#b5de2b"
           ],
           [
            1,
            "#fde725"
           ]
          ],
          "showscale": false,
          "size": [
           42236,
           22258,
           53451,
           132107,
           31879,
           154462,
           214583,
           26729,
           21277,
           15875,
           48079,
           46198,
           18462,
           51028,
           19814,
           22826,
           43641,
           10114,
           8560
          ],
          "sizemin": 4,
          "sizemode": "area",
          "sizeref": 268.22875
         },
         "mode": "markers",
         "text": [],
         "type": "scatter",
         "x": [
          -0.08102839010759641,
          0.14518052791209826,
          0.48742567679143967,
          0.13624904254562706,
          -0.7088749374359014,
          0.24642169268400346,
          -0.14729601524765254,
          0.6176406819576419,
          0.36267916195952915,
          -0.08185585602721432,
          -0.39338393137232963,
          0.5034352205254935,
          -0.672991426451281,
          -0.021012971306782084,
          -0.049379822133519505,
          -0.15152979430973731,
          -0.5972345903990947,
          -0.5944442695847003,
          1
         ],
         "y": [
          -0.27268232549159205,
          -0.34392270586567825,
          -0.06176839651297817,
          -0.02493212454216236,
          0.006155538675164917,
          0.6553414324049309,
          0.0796698527579924,
          0.07560525408300751,
          -0.41520299019120377,
          0.8479577914255687,
          -0.5251301814798549,
          0.45850759286580284,
          -0.14046594736057116,
          0.2015352316522645,
          -0.6805747788329322,
          0.38335566686187267,
          -0.2850827697685695,
          0.7288455870977308,
          -0.6872117277788253
         ]
        }
       ],
       "layout": {
        "annotations": [
         {
          "showarrow": false,
          "text": "",
          "x": 0.005,
          "xref": "paper",
          "y": -0.002,
          "yref": "paper"
         }
        ],
        "hovermode": "closest",
        "margin": {
         "b": 20,
         "l": 5,
         "r": 5,
         "t": 40
        },
        "showlegend": false,
        "template": {
         "data": {
          "bar": [
           {
            "error_x": {
             "color": "#2a3f5f"
            },
            "error_y": {
             "color": "#2a3f5f"
            },
            "marker": {
             "line": {
              "color": "#E5ECF6",
              "width": 0.5
             },
             "pattern": {
              "fillmode": "overlay",
              "size": 10,
              "solidity": 0.2
             }
            },
            "type": "bar"
           }
          ],
          "barpolar": [
           {
            "marker": {
             "line": {
              "color": "#E5ECF6",
              "width": 0.5
             },
             "pattern": {
              "fillmode": "overlay",
              "size": 10,
              "solidity": 0.2
             }
            },
            "type": "barpolar"
           }
          ],
          "carpet": [
           {
            "aaxis": {
             "endlinecolor": "#2a3f5f",
             "gridcolor": "white",
             "linecolor": "white",
             "minorgridcolor": "white",
             "startlinecolor": "#2a3f5f"
            },
            "baxis": {
             "endlinecolor": "#2a3f5f",
             "gridcolor": "white",
             "linecolor": "white",
             "minorgridcolor": "white",
             "startlinecolor": "#2a3f5f"
            },
            "type": "carpet"
           }
          ],
          "choropleth": [
           {
            "colorbar": {
             "outlinewidth": 0,
             "ticks": ""
            },
            "type": "choropleth"
           }
          ],
          "contour": [
           {
            "colorbar": {
             "outlinewidth": 0,
             "ticks": ""
            },
            "colorscale": [
             [
              0,
              "#0d0887"
             ],
             [
              0.1111111111111111,
              "#46039f"
             ],
             [
              0.2222222222222222,
              "#7201a8"
             ],
             [
              0.3333333333333333,
              "#9c179e"
             ],
             [
              0.4444444444444444,
              "#bd3786"
             ],
             [
              0.5555555555555556,
              "#d8576b"
             ],
             [
              0.6666666666666666,
              "#ed7953"
             ],
             [
              0.7777777777777778,
              "#fb9f3a"
             ],
             [
              0.8888888888888888,
              "#fdca26"
             ],
             [
              1,
              "#f0f921"
             ]
            ],
            "type": "contour"
           }
          ],
          "contourcarpet": [
           {
            "colorbar": {
             "outlinewidth": 0,
             "ticks": ""
            },
            "type": "contourcarpet"
           }
          ],
          "heatmap": [
           {
            "colorbar": {
             "outlinewidth": 0,
             "ticks": ""
            },
            "colorscale": [
             [
              0,
              "#0d0887"
             ],
             [
              0.1111111111111111,
              "#46039f"
             ],
             [
              0.2222222222222222,
              "#7201a8"
             ],
             [
              0.3333333333333333,
              "#9c179e"
             ],
             [
              0.4444444444444444,
              "#bd3786"
             ],
             [
              0.5555555555555556,
              "#d8576b"
             ],
             [
              0.6666666666666666,
              "#ed7953"
             ],
             [
              0.7777777777777778,
              "#fb9f3a"
             ],
             [
              0.8888888888888888,
              "#fdca26"
             ],
             [
              1,
              "#f0f921"
             ]
            ],
            "type": "heatmap"
           }
          ],
          "heatmapgl": [
           {
            "colorbar": {
             "outlinewidth": 0,
             "ticks": ""
            },
            "colorscale": [
             [
              0,
              "#0d0887"
             ],
             [
              0.1111111111111111,
              "#46039f"
             ],
             [
              0.2222222222222222,
              "#7201a8"
             ],
             [
              0.3333333333333333,
              "#9c179e"
             ],
             [
              0.4444444444444444,
              "#bd3786"
             ],
             [
              0.5555555555555556,
              "#d8576b"
             ],
             [
              0.6666666666666666,
              "#ed7953"
             ],
             [
              0.7777777777777778,
              "#fb9f3a"
             ],
             [
              0.8888888888888888,
              "#fdca26"
             ],
             [
              1,
              "#f0f921"
             ]
            ],
            "type": "heatmapgl"
           }
          ],
          "histogram": [
           {
            "marker": {
             "pattern": {
              "fillmode": "overlay",
              "size": 10,
              "solidity": 0.2
             }
            },
            "type": "histogram"
           }
          ],
          "histogram2d": [
           {
            "colorbar": {
             "outlinewidth": 0,
             "ticks": ""
            },
            "colorscale": [
             [
              0,
              "#0d0887"
             ],
             [
              0.1111111111111111,
              "#46039f"
             ],
             [
              0.2222222222222222,
              "#7201a8"
             ],
             [
              0.3333333333333333,
              "#9c179e"
             ],
             [
              0.4444444444444444,
              "#bd3786"
             ],
             [
              0.5555555555555556,
              "#d8576b"
             ],
             [
              0.6666666666666666,
              "#ed7953"
             ],
             [
              0.7777777777777778,
              "#fb9f3a"
             ],
             [
              0.8888888888888888,
              "#fdca26"
             ],
             [
              1,
              "#f0f921"
             ]
            ],
            "type": "histogram2d"
           }
          ],
          "histogram2dcontour": [
           {
            "colorbar": {
             "outlinewidth": 0,
             "ticks": ""
            },
            "colorscale": [
             [
              0,
              "#0d0887"
             ],
             [
              0.1111111111111111,
              "#46039f"
             ],
             [
              0.2222222222222222,
              "#7201a8"
             ],
             [
              0.3333333333333333,
              "#9c179e"
             ],
             [
              0.4444444444444444,
              "#bd3786"
             ],
             [
              0.5555555555555556,
              "#d8576b"
             ],
             [
              0.6666666666666666,
              "#ed7953"
             ],
             [
              0.7777777777777778,
              "#fb9f3a"
             ],
             [
              0.8888888888888888,
              "#fdca26"
             ],
             [
              1,
              "#f0f921"
             ]
            ],
            "type": "histogram2dcontour"
           }
          ],
          "mesh3d": [
           {
            "colorbar": {
             "outlinewidth": 0,
             "ticks": ""
            },
            "type": "mesh3d"
           }
          ],
          "parcoords": [
           {
            "line": {
             "colorbar": {
              "outlinewidth": 0,
              "ticks": ""
             }
            },
            "type": "parcoords"
           }
          ],
          "pie": [
           {
            "automargin": true,
            "type": "pie"
           }
          ],
          "scatter": [
           {
            "fillpattern": {
             "fillmode": "overlay",
             "size": 10,
             "solidity": 0.2
            },
            "type": "scatter"
           }
          ],
          "scatter3d": [
           {
            "line": {
             "colorbar": {
              "outlinewidth": 0,
              "ticks": ""
             }
            },
            "marker": {
             "colorbar": {
              "outlinewidth": 0,
              "ticks": ""
             }
            },
            "type": "scatter3d"
           }
          ],
          "scattercarpet": [
           {
            "marker": {
             "colorbar": {
              "outlinewidth": 0,
              "ticks": ""
             }
            },
            "type": "scattercarpet"
           }
          ],
          "scattergeo": [
           {
            "marker": {
             "colorbar": {
              "outlinewidth": 0,
              "ticks": ""
             }
            },
            "type": "scattergeo"
           }
          ],
          "scattergl": [
           {
            "marker": {
             "colorbar": {
              "outlinewidth": 0,
              "ticks": ""
             }
            },
            "type": "scattergl"
           }
          ],
          "scattermapbox": [
           {
            "marker": {
             "colorbar": {
              "outlinewidth": 0,
              "ticks": ""
             }
            },
            "type": "scattermapbox"
           }
          ],
          "scatterpolar": [
           {
            "marker": {
             "colorbar": {
              "outlinewidth": 0,
              "ticks": ""
             }
            },
            "type": "scatterpolar"
           }
          ],
          "scatterpolargl": [
           {
            "marker": {
             "colorbar": {
              "outlinewidth": 0,
              "ticks": ""
             }
            },
            "type": "scatterpolargl"
           }
          ],
          "scatterternary": [
           {
            "marker": {
             "colorbar": {
              "outlinewidth": 0,
              "ticks": ""
             }
            },
            "type": "scatterternary"
           }
          ],
          "surface": [
           {
            "colorbar": {
             "outlinewidth": 0,
             "ticks": ""
            },
            "colorscale": [
             [
              0,
              "#0d0887"
             ],
             [
              0.1111111111111111,
              "#46039f"
             ],
             [
              0.2222222222222222,
              "#7201a8"
             ],
             [
              0.3333333333333333,
              "#9c179e"
             ],
             [
              0.4444444444444444,
              "#bd3786"
             ],
             [
              0.5555555555555556,
              "#d8576b"
             ],
             [
              0.6666666666666666,
              "#ed7953"
             ],
             [
              0.7777777777777778,
              "#fb9f3a"
             ],
             [
              0.8888888888888888,
              "#fdca26"
             ],
             [
              1,
              "#f0f921"
             ]
            ],
            "type": "surface"
           }
          ],
          "table": [
           {
            "cells": {
             "fill": {
              "color": "#EBF0F8"
             },
             "line": {
              "color": "white"
             }
            },
            "header": {
             "fill": {
              "color": "#C8D4E3"
             },
             "line": {
              "color": "white"
             }
            },
            "type": "table"
           }
          ]
         },
         "layout": {
          "annotationdefaults": {
           "arrowcolor": "#2a3f5f",
           "arrowhead": 0,
           "arrowwidth": 1
          },
          "autotypenumbers": "strict",
          "coloraxis": {
           "colorbar": {
            "outlinewidth": 0,
            "ticks": ""
           }
          },
          "colorscale": {
           "diverging": [
            [
             0,
             "#8e0152"
            ],
            [
             0.1,
             "#c51b7d"
            ],
            [
             0.2,
             "#de77ae"
            ],
            [
             0.3,
             "#f1b6da"
            ],
            [
             0.4,
             "#fde0ef"
            ],
            [
             0.5,
             "#f7f7f7"
            ],
            [
             0.6,
             "#e6f5d0"
            ],
            [
             0.7,
             "#b8e186"
            ],
            [
             0.8,
             "#7fbc41"
            ],
            [
             0.9,
             "#4d9221"
            ],
            [
             1,
             "#276419"
            ]
           ],
           "sequential": [
            [
             0,
             "#0d0887"
            ],
            [
             0.1111111111111111,
             "#46039f"
            ],
            [
             0.2222222222222222,
             "#7201a8"
            ],
            [
             0.3333333333333333,
             "#9c179e"
            ],
            [
             0.4444444444444444,
             "#bd3786"
            ],
            [
             0.5555555555555556,
             "#d8576b"
            ],
            [
             0.6666666666666666,
             "#ed7953"
            ],
            [
             0.7777777777777778,
             "#fb9f3a"
            ],
            [
             0.8888888888888888,
             "#fdca26"
            ],
            [
             1,
             "#f0f921"
            ]
           ],
           "sequentialminus": [
            [
             0,
             "#0d0887"
            ],
            [
             0.1111111111111111,
             "#46039f"
            ],
            [
             0.2222222222222222,
             "#7201a8"
            ],
            [
             0.3333333333333333,
             "#9c179e"
            ],
            [
             0.4444444444444444,
             "#bd3786"
            ],
            [
             0.5555555555555556,
             "#d8576b"
            ],
            [
             0.6666666666666666,
             "#ed7953"
            ],
            [
             0.7777777777777778,
             "#fb9f3a"
            ],
            [
             0.8888888888888888,
             "#fdca26"
            ],
            [
             1,
             "#f0f921"
            ]
           ]
          },
          "colorway": [
           "#636efa",
           "#EF553B",
           "#00cc96",
           "#ab63fa",
           "#FFA15A",
           "#19d3f3",
           "#FF6692",
           "#B6E880",
           "#FF97FF",
           "#FECB52"
          ],
          "font": {
           "color": "#2a3f5f"
          },
          "geo": {
           "bgcolor": "white",
           "lakecolor": "white",
           "landcolor": "#E5ECF6",
           "showlakes": true,
           "showland": true,
           "subunitcolor": "white"
          },
          "hoverlabel": {
           "align": "left"
          },
          "hovermode": "closest",
          "mapbox": {
           "style": "light"
          },
          "paper_bgcolor": "white",
          "plot_bgcolor": "#E5ECF6",
          "polar": {
           "angularaxis": {
            "gridcolor": "white",
            "linecolor": "white",
            "ticks": ""
           },
           "bgcolor": "#E5ECF6",
           "radialaxis": {
            "gridcolor": "white",
            "linecolor": "white",
            "ticks": ""
           }
          },
          "scene": {
           "xaxis": {
            "backgroundcolor": "#E5ECF6",
            "gridcolor": "white",
            "gridwidth": 2,
            "linecolor": "white",
            "showbackground": true,
            "ticks": "",
            "zerolinecolor": "white"
           },
           "yaxis": {
            "backgroundcolor": "#E5ECF6",
            "gridcolor": "white",
            "gridwidth": 2,
            "linecolor": "white",
            "showbackground": true,
            "ticks": "",
            "zerolinecolor": "white"
           },
           "zaxis": {
            "backgroundcolor": "#E5ECF6",
            "gridcolor": "white",
            "gridwidth": 2,
            "linecolor": "white",
            "showbackground": true,
            "ticks": "",
            "zerolinecolor": "white"
           }
          },
          "shapedefaults": {
           "line": {
            "color": "#2a3f5f"
           }
          },
          "ternary": {
           "aaxis": {
            "gridcolor": "white",
            "linecolor": "white",
            "ticks": ""
           },
           "baxis": {
            "gridcolor": "white",
            "linecolor": "white",
            "ticks": ""
           },
           "bgcolor": "#E5ECF6",
           "caxis": {
            "gridcolor": "white",
            "linecolor": "white",
            "ticks": ""
           }
          },
          "title": {
           "x": 0.05
          },
          "xaxis": {
           "automargin": true,
           "gridcolor": "white",
           "linecolor": "white",
           "ticks": "",
           "title": {
            "standoff": 15
           },
           "zerolinecolor": "white",
           "zerolinewidth": 2
          },
          "yaxis": {
           "automargin": true,
           "gridcolor": "white",
           "linecolor": "white",
           "ticks": "",
           "title": {
            "standoff": 15
           },
           "zerolinecolor": "white",
           "zerolinewidth": 2
          }
         }
        },
        "title": {
         "font": {
          "size": 16
         },
         "text": "Network Graph of Movie Genres"
        },
        "xaxis": {
         "showgrid": false,
         "showticklabels": false,
         "zeroline": false
        },
        "yaxis": {
         "showgrid": false,
         "showticklabels": false,
         "zeroline": false
        }
       }
      }
     },
     "metadata": {},
     "output_type": "display_data"
    }
   ],
   "source": [
    "df = genres_expanded\n",
    "\n",
    "G = nx.Graph()\n",
    "\n",
    "for genre in df.columns:\n",
    "    total_movies = df[genre].sum()\n",
    "    G.add_node(genre, size=total_movies, total_movies=total_movies)\n",
    "\n",
    "for (genre1, genre2) in combinations(df.columns, 2):\n",
    "    weight = (df[genre1] & df[genre2]).sum()\n",
    "    if weight > 0:\n",
    "        G.add_edge(genre1, genre2, weight=weight)\n",
    "\n",
    "# Community detection\n",
    "partition = community_louvain.best_partition(G)\n",
    "\n",
    "pos = nx.spring_layout(G, k=0.3, seed=101)\n",
    "\n",
    "edge_x, edge_y = [], []\n",
    "for edge in G.edges():\n",
    "    x0, y0 = pos[edge[0]]\n",
    "    x1, y1 = pos[edge[1]]\n",
    "    edge_x.extend([x0, x1, None])\n",
    "    edge_y.extend([y0, y1, None])\n",
    "\n",
    "node_x, node_y, sizes, hover_texts, node_colors = [], [], [], [], []\n",
    "for node in G.nodes():\n",
    "    x, y = pos[node]\n",
    "    node_x.append(x)\n",
    "    node_y.append(y)\n",
    "    sizes.append(G.nodes[node]['size'])\n",
    "    community_id = partition[node]\n",
    "    node_colors.append(community_id)\n",
    "\n",
    "edge_trace = go.Scatter(\n",
    "    x=edge_x, y=edge_y,\n",
    "    line=dict(width=0.5, color='grey'),\n",
    "    hoverinfo='none',\n",
    "    mode='lines')\n",
    "\n",
    "node_trace = go.Scatter(\n",
    "    x=node_x, y=node_y,\n",
    "    mode='markers',\n",
    "    hoverinfo='text',\n",
    "    text=hover_texts,\n",
    "    marker=dict(\n",
    "        showscale=False,  # Enable color scale\n",
    "        colorscale='Viridis',  # Color scale\n",
    "        size=sizes,\n",
    "        color=node_colors,  # Assign community colors to nodes\n",
    "        sizemode='area',\n",
    "        sizeref=2.*max(sizes)/(40.**2),\n",
    "        sizemin=4\n",
    "    ))\n",
    "\n",
    "fig = go.Figure(data=[edge_trace, node_trace],\n",
    "                layout=go.Layout(\n",
    "                    title='Network Graph of Movie Genres',\n",
    "                    titlefont_size=16,\n",
    "                    showlegend=False,\n",
    "                    hovermode='closest',\n",
    "                    margin=dict(b=20, l=5, r=5, t=40),\n",
    "                    annotations=[{\n",
    "                        \"text\": \"\",\n",
    "                        \"showarrow\": False,\n",
    "                        \"xref\": \"paper\",\n",
    "                        \"yref\": \"paper\",\n",
    "                        \"x\": 0.005,\n",
    "                        \"y\": -0.002\n",
    "                    }],\n",
    "                    xaxis=dict(showgrid=False, zeroline=False, showticklabels=False),\n",
    "                    yaxis=dict(showgrid=False, zeroline=False, showticklabels=False)))\n",
    "\n",
    "fig.show()"
   ]
  },
  {
   "cell_type": "markdown",
   "metadata": {},
   "source": [
    "In the next graph we were playing around wtih the edge width to indicate stronger and weaker common occurances between the genres"
   ]
  },
  {
   "cell_type": "code",
   "execution_count": null,
   "metadata": {},
   "outputs": [
    {
     "data": {
      "application/vnd.plotly.v1+json": {
       "config": {
        "plotlyServerURL": "https://plot.ly"
       },
       "data": [
        {
         "hoverinfo": "none",
         "line": {
          "color": "grey",
          "width": 0.5
         },
         "mode": "lines",
         "type": "scatter",
         "x": [],
         "y": []
        },
        {
         "hoverinfo": "none",
         "line": {
          "color": "grey",
          "width": 1
         },
         "mode": "lines",
         "type": "scatter",
         "x": [
          0.48742567679143967,
          1,
          null,
          -0.7088749374359014,
          -0.5944442695847003,
          null,
          0.24642169268400346,
          -0.5972345903990947,
          null,
          0.6176406819576419,
          -0.5944442695847003,
          null,
          0.6176406819576419,
          1,
          null,
          0.36267916195952915,
          -0.5944442695847003,
          null,
          -0.08185585602721432,
          1,
          null,
          -0.39338393137232963,
          -0.5944442695847003,
          null,
          -0.39338393137232963,
          1,
          null,
          0.5034352205254935,
          -0.672991426451281,
          null,
          0.5034352205254935,
          -0.5972345903990947,
          null,
          0.5034352205254935,
          -0.5944442695847003,
          null,
          -0.672991426451281,
          1,
          null
         ],
         "y": [
          -0.06176839651297817,
          -0.6872117277788253,
          null,
          0.006155538675164917,
          0.7288455870977308,
          null,
          0.6553414324049309,
          -0.2850827697685695,
          null,
          0.07560525408300751,
          0.7288455870977308,
          null,
          0.07560525408300751,
          -0.6872117277788253,
          null,
          -0.41520299019120377,
          0.7288455870977308,
          null,
          0.8479577914255687,
          -0.6872117277788253,
          null,
          -0.5251301814798549,
          0.7288455870977308,
          null,
          -0.5251301814798549,
          -0.6872117277788253,
          null,
          0.45850759286580284,
          -0.14046594736057116,
          null,
          0.45850759286580284,
          -0.2850827697685695,
          null,
          0.45850759286580284,
          0.7288455870977308,
          null,
          -0.14046594736057116,
          -0.6872117277788253,
          null
         ]
        },
        {
         "hoverinfo": "none",
         "line": {
          "color": "grey",
          "width": 2
         },
         "mode": "lines",
         "type": "scatter",
         "x": [
          -0.7088749374359014,
          0.5034352205254935,
          null,
          -0.7088749374359014,
          1,
          null,
          0.24642169268400346,
          -0.021012971306782084,
          null,
          0.6176406819576419,
          -0.39338393137232963,
          null,
          0.6176406819576419,
          -0.5972345903990947,
          null,
          -0.08185585602721432,
          -0.39338393137232963,
          null,
          -0.08185585602721432,
          -0.672991426451281,
          null,
          0.5034352205254935,
          1,
          null,
          -0.049379822133519505,
          -0.5944442695847003,
          null,
          -0.15152979430973731,
          1,
          null,
          -0.5972345903990947,
          1,
          null
         ],
         "y": [
          0.006155538675164917,
          0.45850759286580284,
          null,
          0.006155538675164917,
          -0.6872117277788253,
          null,
          0.6553414324049309,
          0.2015352316522645,
          null,
          0.07560525408300751,
          -0.5251301814798549,
          null,
          0.07560525408300751,
          -0.2850827697685695,
          null,
          0.8479577914255687,
          -0.5251301814798549,
          null,
          0.8479577914255687,
          -0.14046594736057116,
          null,
          0.45850759286580284,
          -0.6872117277788253,
          null,
          -0.6805747788329322,
          0.7288455870977308,
          null,
          0.38335566686187267,
          -0.6872117277788253,
          null,
          -0.2850827697685695,
          -0.6872117277788253,
          null
         ]
        },
        {
         "hoverinfo": "none",
         "line": {
          "color": "grey",
          "width": 3
         },
         "mode": "lines",
         "type": "scatter",
         "x": [
          -0.08102839010759641,
          0.14518052791209826,
          null,
          -0.08102839010759641,
          0.48742567679143967,
          null,
          -0.08102839010759641,
          0.13624904254562706,
          null,
          -0.08102839010759641,
          -0.7088749374359014,
          null,
          -0.08102839010759641,
          0.24642169268400346,
          null,
          -0.08102839010759641,
          -0.14729601524765254,
          null,
          -0.08102839010759641,
          0.6176406819576419,
          null,
          -0.08102839010759641,
          0.36267916195952915,
          null,
          -0.08102839010759641,
          -0.08185585602721432,
          null,
          -0.08102839010759641,
          -0.39338393137232963,
          null,
          -0.08102839010759641,
          0.5034352205254935,
          null,
          -0.08102839010759641,
          -0.672991426451281,
          null,
          -0.08102839010759641,
          -0.021012971306782084,
          null,
          -0.08102839010759641,
          -0.049379822133519505,
          null,
          -0.08102839010759641,
          -0.15152979430973731,
          null,
          -0.08102839010759641,
          -0.5972345903990947,
          null,
          -0.08102839010759641,
          -0.5944442695847003,
          null,
          -0.08102839010759641,
          1,
          null,
          0.14518052791209826,
          0.48742567679143967,
          null,
          0.14518052791209826,
          0.13624904254562706,
          null,
          0.14518052791209826,
          -0.7088749374359014,
          null,
          0.14518052791209826,
          0.24642169268400346,
          null,
          0.14518052791209826,
          -0.14729601524765254,
          null,
          0.14518052791209826,
          0.6176406819576419,
          null,
          0.14518052791209826,
          0.36267916195952915,
          null,
          0.14518052791209826,
          -0.08185585602721432,
          null,
          0.14518052791209826,
          -0.39338393137232963,
          null,
          0.14518052791209826,
          0.5034352205254935,
          null,
          0.14518052791209826,
          -0.672991426451281,
          null,
          0.14518052791209826,
          -0.021012971306782084,
          null,
          0.14518052791209826,
          -0.049379822133519505,
          null,
          0.14518052791209826,
          -0.15152979430973731,
          null,
          0.14518052791209826,
          -0.5972345903990947,
          null,
          0.14518052791209826,
          -0.5944442695847003,
          null,
          0.14518052791209826,
          1,
          null,
          0.48742567679143967,
          0.13624904254562706,
          null,
          0.48742567679143967,
          -0.7088749374359014,
          null,
          0.48742567679143967,
          0.24642169268400346,
          null,
          0.48742567679143967,
          -0.14729601524765254,
          null,
          0.48742567679143967,
          0.6176406819576419,
          null,
          0.48742567679143967,
          0.36267916195952915,
          null,
          0.48742567679143967,
          -0.08185585602721432,
          null,
          0.48742567679143967,
          -0.39338393137232963,
          null,
          0.48742567679143967,
          0.5034352205254935,
          null,
          0.48742567679143967,
          -0.672991426451281,
          null,
          0.48742567679143967,
          -0.021012971306782084,
          null,
          0.48742567679143967,
          -0.049379822133519505,
          null,
          0.48742567679143967,
          -0.15152979430973731,
          null,
          0.48742567679143967,
          -0.5972345903990947,
          null,
          0.48742567679143967,
          -0.5944442695847003,
          null,
          0.13624904254562706,
          -0.7088749374359014,
          null,
          0.13624904254562706,
          0.24642169268400346,
          null,
          0.13624904254562706,
          -0.14729601524765254,
          null,
          0.13624904254562706,
          0.6176406819576419,
          null,
          0.13624904254562706,
          0.36267916195952915,
          null,
          0.13624904254562706,
          -0.08185585602721432,
          null,
          0.13624904254562706,
          -0.39338393137232963,
          null,
          0.13624904254562706,
          0.5034352205254935,
          null,
          0.13624904254562706,
          -0.672991426451281,
          null,
          0.13624904254562706,
          -0.021012971306782084,
          null,
          0.13624904254562706,
          -0.049379822133519505,
          null,
          0.13624904254562706,
          -0.15152979430973731,
          null,
          0.13624904254562706,
          -0.5972345903990947,
          null,
          0.13624904254562706,
          -0.5944442695847003,
          null,
          0.13624904254562706,
          1,
          null,
          -0.7088749374359014,
          0.24642169268400346,
          null,
          -0.7088749374359014,
          -0.14729601524765254,
          null,
          -0.7088749374359014,
          0.6176406819576419,
          null,
          -0.7088749374359014,
          0.36267916195952915,
          null,
          -0.7088749374359014,
          -0.08185585602721432,
          null,
          -0.7088749374359014,
          -0.39338393137232963,
          null,
          -0.7088749374359014,
          -0.672991426451281,
          null,
          -0.7088749374359014,
          -0.021012971306782084,
          null,
          -0.7088749374359014,
          -0.049379822133519505,
          null,
          -0.7088749374359014,
          -0.15152979430973731,
          null,
          -0.7088749374359014,
          -0.5972345903990947,
          null,
          0.24642169268400346,
          -0.14729601524765254,
          null,
          0.24642169268400346,
          0.6176406819576419,
          null,
          0.24642169268400346,
          0.36267916195952915,
          null,
          0.24642169268400346,
          -0.08185585602721432,
          null,
          0.24642169268400346,
          -0.39338393137232963,
          null,
          0.24642169268400346,
          0.5034352205254935,
          null,
          0.24642169268400346,
          -0.672991426451281,
          null,
          0.24642169268400346,
          -0.049379822133519505,
          null,
          0.24642169268400346,
          -0.15152979430973731,
          null,
          0.24642169268400346,
          -0.5944442695847003,
          null,
          -0.14729601524765254,
          0.6176406819576419,
          null,
          -0.14729601524765254,
          0.36267916195952915,
          null,
          -0.14729601524765254,
          -0.08185585602721432,
          null,
          -0.14729601524765254,
          -0.39338393137232963,
          null,
          -0.14729601524765254,
          0.5034352205254935,
          null,
          -0.14729601524765254,
          -0.672991426451281,
          null,
          -0.14729601524765254,
          -0.021012971306782084,
          null,
          -0.14729601524765254,
          -0.049379822133519505,
          null,
          -0.14729601524765254,
          -0.15152979430973731,
          null,
          -0.14729601524765254,
          -0.5972345903990947,
          null,
          -0.14729601524765254,
          -0.5944442695847003,
          null,
          -0.14729601524765254,
          1,
          null,
          0.6176406819576419,
          0.36267916195952915,
          null,
          0.6176406819576419,
          -0.08185585602721432,
          null,
          0.6176406819576419,
          0.5034352205254935,
          null,
          0.6176406819576419,
          -0.672991426451281,
          null,
          0.6176406819576419,
          -0.021012971306782084,
          null,
          0.6176406819576419,
          -0.049379822133519505,
          null,
          0.6176406819576419,
          -0.15152979430973731,
          null,
          0.36267916195952915,
          -0.08185585602721432,
          null,
          0.36267916195952915,
          -0.39338393137232963,
          null,
          0.36267916195952915,
          0.5034352205254935,
          null,
          0.36267916195952915,
          -0.672991426451281,
          null,
          0.36267916195952915,
          -0.021012971306782084,
          null,
          0.36267916195952915,
          -0.049379822133519505,
          null,
          0.36267916195952915,
          -0.15152979430973731,
          null,
          0.36267916195952915,
          -0.5972345903990947,
          null,
          -0.08185585602721432,
          0.5034352205254935,
          null,
          -0.08185585602721432,
          -0.021012971306782084,
          null,
          -0.08185585602721432,
          -0.15152979430973731,
          null,
          -0.08185585602721432,
          -0.5972345903990947,
          null,
          -0.08185585602721432,
          -0.5944442695847003,
          null,
          -0.39338393137232963,
          0.5034352205254935,
          null,
          -0.39338393137232963,
          -0.672991426451281,
          null,
          -0.39338393137232963,
          -0.021012971306782084,
          null,
          -0.39338393137232963,
          -0.049379822133519505,
          null,
          -0.39338393137232963,
          -0.15152979430973731,
          null,
          -0.39338393137232963,
          -0.5972345903990947,
          null,
          0.5034352205254935,
          -0.021012971306782084,
          null,
          0.5034352205254935,
          -0.049379822133519505,
          null,
          0.5034352205254935,
          -0.15152979430973731,
          null,
          -0.672991426451281,
          -0.021012971306782084,
          null,
          -0.672991426451281,
          -0.049379822133519505,
          null,
          -0.672991426451281,
          -0.15152979430973731,
          null,
          -0.672991426451281,
          -0.5972345903990947,
          null,
          -0.021012971306782084,
          -0.049379822133519505,
          null,
          -0.021012971306782084,
          -0.15152979430973731,
          null,
          -0.021012971306782084,
          -0.5972345903990947,
          null,
          -0.021012971306782084,
          -0.5944442695847003,
          null,
          -0.021012971306782084,
          1,
          null,
          -0.049379822133519505,
          -0.15152979430973731,
          null,
          -0.049379822133519505,
          -0.5972345903990947,
          null,
          -0.15152979430973731,
          -0.5972345903990947,
          null,
          -0.15152979430973731,
          -0.5944442695847003,
          null,
          -0.5972345903990947,
          -0.5944442695847003,
          null
         ],
         "y": [
          -0.27268232549159205,
          -0.34392270586567825,
          null,
          -0.27268232549159205,
          -0.06176839651297817,
          null,
          -0.27268232549159205,
          -0.02493212454216236,
          null,
          -0.27268232549159205,
          0.006155538675164917,
          null,
          -0.27268232549159205,
          0.6553414324049309,
          null,
          -0.27268232549159205,
          0.0796698527579924,
          null,
          -0.27268232549159205,
          0.07560525408300751,
          null,
          -0.27268232549159205,
          -0.41520299019120377,
          null,
          -0.27268232549159205,
          0.8479577914255687,
          null,
          -0.27268232549159205,
          -0.5251301814798549,
          null,
          -0.27268232549159205,
          0.45850759286580284,
          null,
          -0.27268232549159205,
          -0.14046594736057116,
          null,
          -0.27268232549159205,
          0.2015352316522645,
          null,
          -0.27268232549159205,
          -0.6805747788329322,
          null,
          -0.27268232549159205,
          0.38335566686187267,
          null,
          -0.27268232549159205,
          -0.2850827697685695,
          null,
          -0.27268232549159205,
          0.7288455870977308,
          null,
          -0.27268232549159205,
          -0.6872117277788253,
          null,
          -0.34392270586567825,
          -0.06176839651297817,
          null,
          -0.34392270586567825,
          -0.02493212454216236,
          null,
          -0.34392270586567825,
          0.006155538675164917,
          null,
          -0.34392270586567825,
          0.6553414324049309,
          null,
          -0.34392270586567825,
          0.0796698527579924,
          null,
          -0.34392270586567825,
          0.07560525408300751,
          null,
          -0.34392270586567825,
          -0.41520299019120377,
          null,
          -0.34392270586567825,
          0.8479577914255687,
          null,
          -0.34392270586567825,
          -0.5251301814798549,
          null,
          -0.34392270586567825,
          0.45850759286580284,
          null,
          -0.34392270586567825,
          -0.14046594736057116,
          null,
          -0.34392270586567825,
          0.2015352316522645,
          null,
          -0.34392270586567825,
          -0.6805747788329322,
          null,
          -0.34392270586567825,
          0.38335566686187267,
          null,
          -0.34392270586567825,
          -0.2850827697685695,
          null,
          -0.34392270586567825,
          0.7288455870977308,
          null,
          -0.34392270586567825,
          -0.6872117277788253,
          null,
          -0.06176839651297817,
          -0.02493212454216236,
          null,
          -0.06176839651297817,
          0.006155538675164917,
          null,
          -0.06176839651297817,
          0.6553414324049309,
          null,
          -0.06176839651297817,
          0.0796698527579924,
          null,
          -0.06176839651297817,
          0.07560525408300751,
          null,
          -0.06176839651297817,
          -0.41520299019120377,
          null,
          -0.06176839651297817,
          0.8479577914255687,
          null,
          -0.06176839651297817,
          -0.5251301814798549,
          null,
          -0.06176839651297817,
          0.45850759286580284,
          null,
          -0.06176839651297817,
          -0.14046594736057116,
          null,
          -0.06176839651297817,
          0.2015352316522645,
          null,
          -0.06176839651297817,
          -0.6805747788329322,
          null,
          -0.06176839651297817,
          0.38335566686187267,
          null,
          -0.06176839651297817,
          -0.2850827697685695,
          null,
          -0.06176839651297817,
          0.7288455870977308,
          null,
          -0.02493212454216236,
          0.006155538675164917,
          null,
          -0.02493212454216236,
          0.6553414324049309,
          null,
          -0.02493212454216236,
          0.0796698527579924,
          null,
          -0.02493212454216236,
          0.07560525408300751,
          null,
          -0.02493212454216236,
          -0.41520299019120377,
          null,
          -0.02493212454216236,
          0.8479577914255687,
          null,
          -0.02493212454216236,
          -0.5251301814798549,
          null,
          -0.02493212454216236,
          0.45850759286580284,
          null,
          -0.02493212454216236,
          -0.14046594736057116,
          null,
          -0.02493212454216236,
          0.2015352316522645,
          null,
          -0.02493212454216236,
          -0.6805747788329322,
          null,
          -0.02493212454216236,
          0.38335566686187267,
          null,
          -0.02493212454216236,
          -0.2850827697685695,
          null,
          -0.02493212454216236,
          0.7288455870977308,
          null,
          -0.02493212454216236,
          -0.6872117277788253,
          null,
          0.006155538675164917,
          0.6553414324049309,
          null,
          0.006155538675164917,
          0.0796698527579924,
          null,
          0.006155538675164917,
          0.07560525408300751,
          null,
          0.006155538675164917,
          -0.41520299019120377,
          null,
          0.006155538675164917,
          0.8479577914255687,
          null,
          0.006155538675164917,
          -0.5251301814798549,
          null,
          0.006155538675164917,
          -0.14046594736057116,
          null,
          0.006155538675164917,
          0.2015352316522645,
          null,
          0.006155538675164917,
          -0.6805747788329322,
          null,
          0.006155538675164917,
          0.38335566686187267,
          null,
          0.006155538675164917,
          -0.2850827697685695,
          null,
          0.6553414324049309,
          0.0796698527579924,
          null,
          0.6553414324049309,
          0.07560525408300751,
          null,
          0.6553414324049309,
          -0.41520299019120377,
          null,
          0.6553414324049309,
          0.8479577914255687,
          null,
          0.6553414324049309,
          -0.5251301814798549,
          null,
          0.6553414324049309,
          0.45850759286580284,
          null,
          0.6553414324049309,
          -0.14046594736057116,
          null,
          0.6553414324049309,
          -0.6805747788329322,
          null,
          0.6553414324049309,
          0.38335566686187267,
          null,
          0.6553414324049309,
          0.7288455870977308,
          null,
          0.0796698527579924,
          0.07560525408300751,
          null,
          0.0796698527579924,
          -0.41520299019120377,
          null,
          0.0796698527579924,
          0.8479577914255687,
          null,
          0.0796698527579924,
          -0.5251301814798549,
          null,
          0.0796698527579924,
          0.45850759286580284,
          null,
          0.0796698527579924,
          -0.14046594736057116,
          null,
          0.0796698527579924,
          0.2015352316522645,
          null,
          0.0796698527579924,
          -0.6805747788329322,
          null,
          0.0796698527579924,
          0.38335566686187267,
          null,
          0.0796698527579924,
          -0.2850827697685695,
          null,
          0.0796698527579924,
          0.7288455870977308,
          null,
          0.0796698527579924,
          -0.6872117277788253,
          null,
          0.07560525408300751,
          -0.41520299019120377,
          null,
          0.07560525408300751,
          0.8479577914255687,
          null,
          0.07560525408300751,
          0.45850759286580284,
          null,
          0.07560525408300751,
          -0.14046594736057116,
          null,
          0.07560525408300751,
          0.2015352316522645,
          null,
          0.07560525408300751,
          -0.6805747788329322,
          null,
          0.07560525408300751,
          0.38335566686187267,
          null,
          -0.41520299019120377,
          0.8479577914255687,
          null,
          -0.41520299019120377,
          -0.5251301814798549,
          null,
          -0.41520299019120377,
          0.45850759286580284,
          null,
          -0.41520299019120377,
          -0.14046594736057116,
          null,
          -0.41520299019120377,
          0.2015352316522645,
          null,
          -0.41520299019120377,
          -0.6805747788329322,
          null,
          -0.41520299019120377,
          0.38335566686187267,
          null,
          -0.41520299019120377,
          -0.2850827697685695,
          null,
          0.8479577914255687,
          0.45850759286580284,
          null,
          0.8479577914255687,
          0.2015352316522645,
          null,
          0.8479577914255687,
          0.38335566686187267,
          null,
          0.8479577914255687,
          -0.2850827697685695,
          null,
          0.8479577914255687,
          0.7288455870977308,
          null,
          -0.5251301814798549,
          0.45850759286580284,
          null,
          -0.5251301814798549,
          -0.14046594736057116,
          null,
          -0.5251301814798549,
          0.2015352316522645,
          null,
          -0.5251301814798549,
          -0.6805747788329322,
          null,
          -0.5251301814798549,
          0.38335566686187267,
          null,
          -0.5251301814798549,
          -0.2850827697685695,
          null,
          0.45850759286580284,
          0.2015352316522645,
          null,
          0.45850759286580284,
          -0.6805747788329322,
          null,
          0.45850759286580284,
          0.38335566686187267,
          null,
          -0.14046594736057116,
          0.2015352316522645,
          null,
          -0.14046594736057116,
          -0.6805747788329322,
          null,
          -0.14046594736057116,
          0.38335566686187267,
          null,
          -0.14046594736057116,
          -0.2850827697685695,
          null,
          0.2015352316522645,
          -0.6805747788329322,
          null,
          0.2015352316522645,
          0.38335566686187267,
          null,
          0.2015352316522645,
          -0.2850827697685695,
          null,
          0.2015352316522645,
          0.7288455870977308,
          null,
          0.2015352316522645,
          -0.6872117277788253,
          null,
          -0.6805747788329322,
          0.38335566686187267,
          null,
          -0.6805747788329322,
          -0.2850827697685695,
          null,
          0.38335566686187267,
          -0.2850827697685695,
          null,
          0.38335566686187267,
          0.7288455870977308,
          null,
          -0.2850827697685695,
          0.7288455870977308,
          null
         ]
        },
        {
         "hoverinfo": "text",
         "marker": {
          "color": [
           0,
           3,
           3,
           2,
           0,
           1,
           2,
           3,
           3,
           1,
           0,
           1,
           0,
           2,
           0,
           2,
           0,
           1,
           2
          ],
          "colorscale": [
           [
            0,
            "#440154"
           ],
           [
            0.1111111111111111,
            "#482878"
           ],
           [
            0.2222222222222222,
            "#3e4989"
           ],
           [
            0.3333333333333333,
            "#31688e"
           ],
           [
            0.4444444444444444,
            "#26828e"
           ],
           [
            0.5555555555555556,
            "#1f9e89"
           ],
           [
            0.6666666666666666,
            "#35b779"
           ],
           [
            0.7777777777777778,
            "#6ece58"
           ],
           [
            0.8888888888888888,
            "#b5de2b"
           ],
           [
            1,
            "#fde725"
           ]
          ],
          "size": [
           42236,
           22258,
           53451,
           132107,
           31879,
           154462,
           214583,
           26729,
           21277,
           15875,
           48079,
           46198,
           18462,
           51028,
           19814,
           22826,
           43641,
           10114,
           8560
          ],
          "sizemin": 4,
          "sizemode": "area",
          "sizeref": 42.9166
         },
         "mode": "markers",
         "text": [
          "Action<br>42236 movies",
          "Adventure<br>22258 movies",
          "Animation<br>53451 movies",
          "Comedy<br>132107 movies",
          "Crime<br>31879 movies",
          "Documentary<br>154462 movies",
          "Drama<br>214583 movies",
          "Family<br>26729 movies",
          "Fantasy<br>21277 movies",
          "History<br>15875 movies",
          "Horror<br>48079 movies",
          "Music<br>46198 movies",
          "Mystery<br>18462 movies",
          "Romance<br>51028 movies",
          "ScienceFiction<br>19814 movies",
          "TVMovie<br>22826 movies",
          "Thriller<br>43641 movies",
          "War<br>10114 movies",
          "Western<br>8560 movies"
         ],
         "type": "scatter",
         "x": [
          -0.08102839010759641,
          0.14518052791209826,
          0.48742567679143967,
          0.13624904254562706,
          -0.7088749374359014,
          0.24642169268400346,
          -0.14729601524765254,
          0.6176406819576419,
          0.36267916195952915,
          -0.08185585602721432,
          -0.39338393137232963,
          0.5034352205254935,
          -0.672991426451281,
          -0.021012971306782084,
          -0.049379822133519505,
          -0.15152979430973731,
          -0.5972345903990947,
          -0.5944442695847003,
          1
         ],
         "y": [
          -0.27268232549159205,
          -0.34392270586567825,
          -0.06176839651297817,
          -0.02493212454216236,
          0.006155538675164917,
          0.6553414324049309,
          0.0796698527579924,
          0.07560525408300751,
          -0.41520299019120377,
          0.8479577914255687,
          -0.5251301814798549,
          0.45850759286580284,
          -0.14046594736057116,
          0.2015352316522645,
          -0.6805747788329322,
          0.38335566686187267,
          -0.2850827697685695,
          0.7288455870977308,
          -0.6872117277788253
         ]
        }
       ],
       "layout": {
        "hovermode": "closest",
        "showlegend": false,
        "template": {
         "data": {
          "bar": [
           {
            "error_x": {
             "color": "#2a3f5f"
            },
            "error_y": {
             "color": "#2a3f5f"
            },
            "marker": {
             "line": {
              "color": "#E5ECF6",
              "width": 0.5
             },
             "pattern": {
              "fillmode": "overlay",
              "size": 10,
              "solidity": 0.2
             }
            },
            "type": "bar"
           }
          ],
          "barpolar": [
           {
            "marker": {
             "line": {
              "color": "#E5ECF6",
              "width": 0.5
             },
             "pattern": {
              "fillmode": "overlay",
              "size": 10,
              "solidity": 0.2
             }
            },
            "type": "barpolar"
           }
          ],
          "carpet": [
           {
            "aaxis": {
             "endlinecolor": "#2a3f5f",
             "gridcolor": "white",
             "linecolor": "white",
             "minorgridcolor": "white",
             "startlinecolor": "#2a3f5f"
            },
            "baxis": {
             "endlinecolor": "#2a3f5f",
             "gridcolor": "white",
             "linecolor": "white",
             "minorgridcolor": "white",
             "startlinecolor": "#2a3f5f"
            },
            "type": "carpet"
           }
          ],
          "choropleth": [
           {
            "colorbar": {
             "outlinewidth": 0,
             "ticks": ""
            },
            "type": "choropleth"
           }
          ],
          "contour": [
           {
            "colorbar": {
             "outlinewidth": 0,
             "ticks": ""
            },
            "colorscale": [
             [
              0,
              "#0d0887"
             ],
             [
              0.1111111111111111,
              "#46039f"
             ],
             [
              0.2222222222222222,
              "#7201a8"
             ],
             [
              0.3333333333333333,
              "#9c179e"
             ],
             [
              0.4444444444444444,
              "#bd3786"
             ],
             [
              0.5555555555555556,
              "#d8576b"
             ],
             [
              0.6666666666666666,
              "#ed7953"
             ],
             [
              0.7777777777777778,
              "#fb9f3a"
             ],
             [
              0.8888888888888888,
              "#fdca26"
             ],
             [
              1,
              "#f0f921"
             ]
            ],
            "type": "contour"
           }
          ],
          "contourcarpet": [
           {
            "colorbar": {
             "outlinewidth": 0,
             "ticks": ""
            },
            "type": "contourcarpet"
           }
          ],
          "heatmap": [
           {
            "colorbar": {
             "outlinewidth": 0,
             "ticks": ""
            },
            "colorscale": [
             [
              0,
              "#0d0887"
             ],
             [
              0.1111111111111111,
              "#46039f"
             ],
             [
              0.2222222222222222,
              "#7201a8"
             ],
             [
              0.3333333333333333,
              "#9c179e"
             ],
             [
              0.4444444444444444,
              "#bd3786"
             ],
             [
              0.5555555555555556,
              "#d8576b"
             ],
             [
              0.6666666666666666,
              "#ed7953"
             ],
             [
              0.7777777777777778,
              "#fb9f3a"
             ],
             [
              0.8888888888888888,
              "#fdca26"
             ],
             [
              1,
              "#f0f921"
             ]
            ],
            "type": "heatmap"
           }
          ],
          "heatmapgl": [
           {
            "colorbar": {
             "outlinewidth": 0,
             "ticks": ""
            },
            "colorscale": [
             [
              0,
              "#0d0887"
             ],
             [
              0.1111111111111111,
              "#46039f"
             ],
             [
              0.2222222222222222,
              "#7201a8"
             ],
             [
              0.3333333333333333,
              "#9c179e"
             ],
             [
              0.4444444444444444,
              "#bd3786"
             ],
             [
              0.5555555555555556,
              "#d8576b"
             ],
             [
              0.6666666666666666,
              "#ed7953"
             ],
             [
              0.7777777777777778,
              "#fb9f3a"
             ],
             [
              0.8888888888888888,
              "#fdca26"
             ],
             [
              1,
              "#f0f921"
             ]
            ],
            "type": "heatmapgl"
           }
          ],
          "histogram": [
           {
            "marker": {
             "pattern": {
              "fillmode": "overlay",
              "size": 10,
              "solidity": 0.2
             }
            },
            "type": "histogram"
           }
          ],
          "histogram2d": [
           {
            "colorbar": {
             "outlinewidth": 0,
             "ticks": ""
            },
            "colorscale": [
             [
              0,
              "#0d0887"
             ],
             [
              0.1111111111111111,
              "#46039f"
             ],
             [
              0.2222222222222222,
              "#7201a8"
             ],
             [
              0.3333333333333333,
              "#9c179e"
             ],
             [
              0.4444444444444444,
              "#bd3786"
             ],
             [
              0.5555555555555556,
              "#d8576b"
             ],
             [
              0.6666666666666666,
              "#ed7953"
             ],
             [
              0.7777777777777778,
              "#fb9f3a"
             ],
             [
              0.8888888888888888,
              "#fdca26"
             ],
             [
              1,
              "#f0f921"
             ]
            ],
            "type": "histogram2d"
           }
          ],
          "histogram2dcontour": [
           {
            "colorbar": {
             "outlinewidth": 0,
             "ticks": ""
            },
            "colorscale": [
             [
              0,
              "#0d0887"
             ],
             [
              0.1111111111111111,
              "#46039f"
             ],
             [
              0.2222222222222222,
              "#7201a8"
             ],
             [
              0.3333333333333333,
              "#9c179e"
             ],
             [
              0.4444444444444444,
              "#bd3786"
             ],
             [
              0.5555555555555556,
              "#d8576b"
             ],
             [
              0.6666666666666666,
              "#ed7953"
             ],
             [
              0.7777777777777778,
              "#fb9f3a"
             ],
             [
              0.8888888888888888,
              "#fdca26"
             ],
             [
              1,
              "#f0f921"
             ]
            ],
            "type": "histogram2dcontour"
           }
          ],
          "mesh3d": [
           {
            "colorbar": {
             "outlinewidth": 0,
             "ticks": ""
            },
            "type": "mesh3d"
           }
          ],
          "parcoords": [
           {
            "line": {
             "colorbar": {
              "outlinewidth": 0,
              "ticks": ""
             }
            },
            "type": "parcoords"
           }
          ],
          "pie": [
           {
            "automargin": true,
            "type": "pie"
           }
          ],
          "scatter": [
           {
            "fillpattern": {
             "fillmode": "overlay",
             "size": 10,
             "solidity": 0.2
            },
            "type": "scatter"
           }
          ],
          "scatter3d": [
           {
            "line": {
             "colorbar": {
              "outlinewidth": 0,
              "ticks": ""
             }
            },
            "marker": {
             "colorbar": {
              "outlinewidth": 0,
              "ticks": ""
             }
            },
            "type": "scatter3d"
           }
          ],
          "scattercarpet": [
           {
            "marker": {
             "colorbar": {
              "outlinewidth": 0,
              "ticks": ""
             }
            },
            "type": "scattercarpet"
           }
          ],
          "scattergeo": [
           {
            "marker": {
             "colorbar": {
              "outlinewidth": 0,
              "ticks": ""
             }
            },
            "type": "scattergeo"
           }
          ],
          "scattergl": [
           {
            "marker": {
             "colorbar": {
              "outlinewidth": 0,
              "ticks": ""
             }
            },
            "type": "scattergl"
           }
          ],
          "scattermapbox": [
           {
            "marker": {
             "colorbar": {
              "outlinewidth": 0,
              "ticks": ""
             }
            },
            "type": "scattermapbox"
           }
          ],
          "scatterpolar": [
           {
            "marker": {
             "colorbar": {
              "outlinewidth": 0,
              "ticks": ""
             }
            },
            "type": "scatterpolar"
           }
          ],
          "scatterpolargl": [
           {
            "marker": {
             "colorbar": {
              "outlinewidth": 0,
              "ticks": ""
             }
            },
            "type": "scatterpolargl"
           }
          ],
          "scatterternary": [
           {
            "marker": {
             "colorbar": {
              "outlinewidth": 0,
              "ticks": ""
             }
            },
            "type": "scatterternary"
           }
          ],
          "surface": [
           {
            "colorbar": {
             "outlinewidth": 0,
             "ticks": ""
            },
            "colorscale": [
             [
              0,
              "#0d0887"
             ],
             [
              0.1111111111111111,
              "#46039f"
             ],
             [
              0.2222222222222222,
              "#7201a8"
             ],
             [
              0.3333333333333333,
              "#9c179e"
             ],
             [
              0.4444444444444444,
              "#bd3786"
             ],
             [
              0.5555555555555556,
              "#d8576b"
             ],
             [
              0.6666666666666666,
              "#ed7953"
             ],
             [
              0.7777777777777778,
              "#fb9f3a"
             ],
             [
              0.8888888888888888,
              "#fdca26"
             ],
             [
              1,
              "#f0f921"
             ]
            ],
            "type": "surface"
           }
          ],
          "table": [
           {
            "cells": {
             "fill": {
              "color": "#EBF0F8"
             },
             "line": {
              "color": "white"
             }
            },
            "header": {
             "fill": {
              "color": "#C8D4E3"
             },
             "line": {
              "color": "white"
             }
            },
            "type": "table"
           }
          ]
         },
         "layout": {
          "annotationdefaults": {
           "arrowcolor": "#2a3f5f",
           "arrowhead": 0,
           "arrowwidth": 1
          },
          "autotypenumbers": "strict",
          "coloraxis": {
           "colorbar": {
            "outlinewidth": 0,
            "ticks": ""
           }
          },
          "colorscale": {
           "diverging": [
            [
             0,
             "#8e0152"
            ],
            [
             0.1,
             "#c51b7d"
            ],
            [
             0.2,
             "#de77ae"
            ],
            [
             0.3,
             "#f1b6da"
            ],
            [
             0.4,
             "#fde0ef"
            ],
            [
             0.5,
             "#f7f7f7"
            ],
            [
             0.6,
             "#e6f5d0"
            ],
            [
             0.7,
             "#b8e186"
            ],
            [
             0.8,
             "#7fbc41"
            ],
            [
             0.9,
             "#4d9221"
            ],
            [
             1,
             "#276419"
            ]
           ],
           "sequential": [
            [
             0,
             "#0d0887"
            ],
            [
             0.1111111111111111,
             "#46039f"
            ],
            [
             0.2222222222222222,
             "#7201a8"
            ],
            [
             0.3333333333333333,
             "#9c179e"
            ],
            [
             0.4444444444444444,
             "#bd3786"
            ],
            [
             0.5555555555555556,
             "#d8576b"
            ],
            [
             0.6666666666666666,
             "#ed7953"
            ],
            [
             0.7777777777777778,
             "#fb9f3a"
            ],
            [
             0.8888888888888888,
             "#fdca26"
            ],
            [
             1,
             "#f0f921"
            ]
           ],
           "sequentialminus": [
            [
             0,
             "#0d0887"
            ],
            [
             0.1111111111111111,
             "#46039f"
            ],
            [
             0.2222222222222222,
             "#7201a8"
            ],
            [
             0.3333333333333333,
             "#9c179e"
            ],
            [
             0.4444444444444444,
             "#bd3786"
            ],
            [
             0.5555555555555556,
             "#d8576b"
            ],
            [
             0.6666666666666666,
             "#ed7953"
            ],
            [
             0.7777777777777778,
             "#fb9f3a"
            ],
            [
             0.8888888888888888,
             "#fdca26"
            ],
            [
             1,
             "#f0f921"
            ]
           ]
          },
          "colorway": [
           "#636efa",
           "#EF553B",
           "#00cc96",
           "#ab63fa",
           "#FFA15A",
           "#19d3f3",
           "#FF6692",
           "#B6E880",
           "#FF97FF",
           "#FECB52"
          ],
          "font": {
           "color": "#2a3f5f"
          },
          "geo": {
           "bgcolor": "white",
           "lakecolor": "white",
           "landcolor": "#E5ECF6",
           "showlakes": true,
           "showland": true,
           "subunitcolor": "white"
          },
          "hoverlabel": {
           "align": "left"
          },
          "hovermode": "closest",
          "mapbox": {
           "style": "light"
          },
          "paper_bgcolor": "white",
          "plot_bgcolor": "#E5ECF6",
          "polar": {
           "angularaxis": {
            "gridcolor": "white",
            "linecolor": "white",
            "ticks": ""
           },
           "bgcolor": "#E5ECF6",
           "radialaxis": {
            "gridcolor": "white",
            "linecolor": "white",
            "ticks": ""
           }
          },
          "scene": {
           "xaxis": {
            "backgroundcolor": "#E5ECF6",
            "gridcolor": "white",
            "gridwidth": 2,
            "linecolor": "white",
            "showbackground": true,
            "ticks": "",
            "zerolinecolor": "white"
           },
           "yaxis": {
            "backgroundcolor": "#E5ECF6",
            "gridcolor": "white",
            "gridwidth": 2,
            "linecolor": "white",
            "showbackground": true,
            "ticks": "",
            "zerolinecolor": "white"
           },
           "zaxis": {
            "backgroundcolor": "#E5ECF6",
            "gridcolor": "white",
            "gridwidth": 2,
            "linecolor": "white",
            "showbackground": true,
            "ticks": "",
            "zerolinecolor": "white"
           }
          },
          "shapedefaults": {
           "line": {
            "color": "#2a3f5f"
           }
          },
          "ternary": {
           "aaxis": {
            "gridcolor": "white",
            "linecolor": "white",
            "ticks": ""
           },
           "baxis": {
            "gridcolor": "white",
            "linecolor": "white",
            "ticks": ""
           },
           "bgcolor": "#E5ECF6",
           "caxis": {
            "gridcolor": "white",
            "linecolor": "white",
            "ticks": ""
           }
          },
          "title": {
           "x": 0.05
          },
          "xaxis": {
           "automargin": true,
           "gridcolor": "white",
           "linecolor": "white",
           "ticks": "",
           "title": {
            "standoff": 15
           },
           "zerolinecolor": "white",
           "zerolinewidth": 2
          },
          "yaxis": {
           "automargin": true,
           "gridcolor": "white",
           "linecolor": "white",
           "ticks": "",
           "title": {
            "standoff": 15
           },
           "zerolinecolor": "white",
           "zerolinewidth": 2
          }
         }
        },
        "title": {
         "font": {
          "size": 16
         },
         "text": "Network Graph of Movie Genres"
        },
        "xaxis": {
         "showgrid": false,
         "showticklabels": false,
         "zeroline": false
        },
        "yaxis": {
         "showgrid": false,
         "showticklabels": false,
         "zeroline": false
        }
       }
      }
     },
     "metadata": {},
     "output_type": "display_data"
    }
   ],
   "source": [
    "df = genres_expanded\n",
    "\n",
    "G = nx.Graph()\n",
    "\n",
    "for genre in df.columns:\n",
    "    total_movies = df[genre].sum()\n",
    "    G.add_node(genre, size=total_movies)\n",
    "\n",
    "for (genre1, genre2) in combinations(df.columns, 2):\n",
    "    weight = (df[genre1] & df[genre2]).sum()\n",
    "    if weight > 0:\n",
    "        G.add_edge(genre1, genre2, weight=weight)\n",
    "\n",
    "partition = community_louvain.best_partition(G)\n",
    "\n",
    "pos = nx.spring_layout(G, k=0.3, seed=101)\n",
    "\n",
    "fig = go.Figure()\n",
    "\n",
    "# Different weight classes\n",
    "weight_classes = {0.5: [], 1: [], 2: [], 3: []}\n",
    "for edge in G.edges(data=True):\n",
    "    normalized_weight = edge[2]['weight'] // 100\n",
    "    if normalized_weight > 0:\n",
    "        x0, y0 = pos[edge[0]]\n",
    "        x1, y1 = pos[edge[1]]\n",
    "        weight_class = min(normalized_weight, max(weight_classes.keys()))\n",
    "        weight_classes[weight_class].extend([(x0, y0, x1, y1)])\n",
    "\n",
    "for weight, edges in weight_classes.items():\n",
    "    x = []\n",
    "    y = []\n",
    "    for (x0, y0, x1, y1) in edges:\n",
    "        x.extend([x0, x1, None])\n",
    "        y.extend([y0, y1, None])\n",
    "    fig.add_trace(go.Scatter(\n",
    "        x=x, y=y,\n",
    "        mode='lines',\n",
    "        line=dict(width=weight, color='grey'),\n",
    "        hoverinfo='none'\n",
    "    ))\n",
    "\n",
    "max_node_size = max(sizes)\n",
    "\n",
    "fig.add_trace(go.Scatter(\n",
    "    x=node_x, y=node_y,\n",
    "    mode='markers',\n",
    "    marker=dict(\n",
    "        size=sizes,\n",
    "        color=list(partition.values()),\n",
    "        colorscale='Viridis',\n",
    "        sizemode='area',\n",
    "        sizeref=2. * max_node_size / (10. ** 4),\n",
    "        sizemin=4\n",
    "    ),\n",
    "    text=[f\"{node}<br>{G.nodes[node]['size']} movies\" for node in G.nodes()],\n",
    "))\n",
    "\n",
    "fig.update_layout(\n",
    "    title='Network Graph of Movie Genres',\n",
    "    titlefont_size=16,\n",
    "    hovermode='closest',\n",
    "    showlegend=False,\n",
    "    xaxis=dict(showgrid=False, zeroline=False, showticklabels=False),\n",
    "    yaxis=dict(showgrid=False, zeroline=False, showticklabels=False)\n",
    ")\n",
    "\n",
    "fig.show()"
   ]
  },
  {
   "cell_type": "markdown",
   "metadata": {},
   "source": [
    "In the next graph we were playing around with the design and scaling of the edge width, to make it a bit nicer for visualizing it on the webpage. "
   ]
  },
  {
   "cell_type": "code",
   "execution_count": null,
   "metadata": {},
   "outputs": [
    {
     "data": {
      "application/vnd.plotly.v1+json": {
       "config": {
        "plotlyServerURL": "https://plot.ly"
       },
       "data": [
        {
         "hoverinfo": "none",
         "line": {
          "color": "pink",
          "width": 2.7274478686104446
         },
         "mode": "lines",
         "type": "scatter",
         "x": [
          -0.08102839010759641,
          0.14518052791209826,
          null
         ],
         "y": [
          -0.27268232549159205,
          -0.34392270586567825,
          null
         ]
        },
        {
         "hoverinfo": "none",
         "line": {
          "color": "pink",
          "width": 0.9776139509134526
         },
         "mode": "lines",
         "type": "scatter",
         "x": [
          -0.08102839010759641,
          0.48742567679143967,
          null
         ],
         "y": [
          -0.27268232549159205,
          -0.06176839651297817,
          null
         ]
        },
        {
         "hoverinfo": "none",
         "line": {
          "color": "pink",
          "width": 2.665019376268684
         },
         "mode": "lines",
         "type": "scatter",
         "x": [
          -0.08102839010759641,
          0.13624904254562706,
          null
         ],
         "y": [
          -0.27268232549159205,
          -0.02493212454216236,
          null
         ]
        },
        {
         "hoverinfo": "none",
         "line": {
          "color": "pink",
          "width": 2.546038014393799
         },
         "mode": "lines",
         "type": "scatter",
         "x": [
          -0.08102839010759641,
          -0.7088749374359014,
          null
         ],
         "y": [
          -0.27268232549159205,
          0.006155538675164917,
          null
         ]
        },
        {
         "hoverinfo": "none",
         "line": {
          "color": "pink",
          "width": 0.266296364642923
         },
         "mode": "lines",
         "type": "scatter",
         "x": [
          -0.08102839010759641,
          0.24642169268400346,
          null
         ],
         "y": [
          -0.27268232549159205,
          0.6553414324049309,
          null
         ]
        },
        {
         "hoverinfo": "none",
         "line": {
          "color": "pink",
          "width": 4.515106108138032
         },
         "mode": "lines",
         "type": "scatter",
         "x": [
          -0.08102839010759641,
          -0.14729601524765254,
          null
         ],
         "y": [
          -0.27268232549159205,
          0.0796698527579924,
          null
         ]
        },
        {
         "hoverinfo": "none",
         "line": {
          "color": "pink",
          "width": 0.44476840745525
         },
         "mode": "lines",
         "type": "scatter",
         "x": [
          -0.08102839010759641,
          0.6176406819576419,
          null
         ],
         "y": [
          -0.27268232549159205,
          0.07560525408300751,
          null
         ]
        },
        {
         "hoverinfo": "none",
         "line": {
          "color": "pink",
          "width": 1.1024709355969737
         },
         "mode": "lines",
         "type": "scatter",
         "x": [
          -0.08102839010759641,
          0.36267916195952915,
          null
         ],
         "y": [
          -0.27268232549159205,
          -0.41520299019120377,
          null
         ]
        },
        {
         "hoverinfo": "none",
         "line": {
          "color": "pink",
          "width": 0.45431629451928396
         },
         "mode": "lines",
         "type": "scatter",
         "x": [
          -0.08102839010759641,
          -0.08185585602721432,
          null
         ],
         "y": [
          -0.27268232549159205,
          0.8479577914255687,
          null
         ]
        },
        {
         "hoverinfo": "none",
         "line": {
          "color": "pink",
          "width": 0.9640265731684812
         },
         "mode": "lines",
         "type": "scatter",
         "x": [
          -0.08102839010759641,
          -0.39338393137232963,
          null
         ],
         "y": [
          -0.27268232549159205,
          -0.5251301814798549,
          null
         ]
        },
        {
         "hoverinfo": "none",
         "line": {
          "color": "pink",
          "width": 0.19138217383281048
         },
         "mode": "lines",
         "type": "scatter",
         "x": [
          -0.08102839010759641,
          0.5034352205254935,
          null
         ],
         "y": [
          -0.27268232549159205,
          0.45850759286580284,
          null
         ]
        },
        {
         "hoverinfo": "none",
         "line": {
          "color": "pink",
          "width": 0.5035246355416129
         },
         "mode": "lines",
         "type": "scatter",
         "x": [
          -0.08102839010759641,
          -0.672991426451281,
          null
         ],
         "y": [
          -0.27268232549159205,
          -0.14046594736057116,
          null
         ]
        },
        {
         "hoverinfo": "none",
         "line": {
          "color": "pink",
          "width": 0.940891308359476
         },
         "mode": "lines",
         "type": "scatter",
         "x": [
          -0.08102839010759641,
          -0.021012971306782084,
          null
         ],
         "y": [
          -0.27268232549159205,
          0.2015352316522645,
          null
         ]
        },
        {
         "hoverinfo": "none",
         "line": {
          "color": "pink",
          "width": 1.757235652334379
         },
         "mode": "lines",
         "type": "scatter",
         "x": [
          -0.08102839010759641,
          -0.049379822133519505,
          null
         ],
         "y": [
          -0.27268232549159205,
          -0.6805747788329322,
          null
         ]
        },
        {
         "hoverinfo": "none",
         "line": {
          "color": "pink",
          "width": 0.4712087100941133
         },
         "mode": "lines",
         "type": "scatter",
         "x": [
          -0.08102839010759641,
          -0.15152979430973731,
          null
         ],
         "y": [
          -0.27268232549159205,
          0.38335566686187267,
          null
         ]
        },
        {
         "hoverinfo": "none",
         "line": {
          "color": "pink",
          "width": 2.8523048532939654
         },
         "mode": "lines",
         "type": "scatter",
         "x": [
          -0.08102839010759641,
          -0.5972345903990947,
          null
         ],
         "y": [
          -0.27268232549159205,
          -0.2850827697685695,
          null
         ]
        },
        {
         "hoverinfo": "none",
         "line": {
          "color": "pink",
          "width": 0.5655859014578336
         },
         "mode": "lines",
         "type": "scatter",
         "x": [
          -0.08102839010759641,
          -0.5944442695847003,
          null
         ],
         "y": [
          -0.27268232549159205,
          0.7288455870977308,
          null
         ]
        },
        {
         "hoverinfo": "none",
         "line": {
          "color": "pink",
          "width": 0.4708414836685735
         },
         "mode": "lines",
         "type": "scatter",
         "x": [
          -0.08102839010759641,
          1,
          null
         ],
         "y": [
          -0.27268232549159205,
          -0.6872117277788253,
          null
         ]
        },
        {
         "hoverinfo": "none",
         "line": {
          "color": "pink",
          "width": 1.3896420003690717
         },
         "mode": "lines",
         "type": "scatter",
         "x": [
          0.14518052791209826,
          0.48742567679143967,
          null
         ],
         "y": [
          -0.34392270586567825,
          -0.06176839651297817,
          null
         ]
        },
        {
         "hoverinfo": "none",
         "line": {
          "color": "pink",
          "width": 1.8207658239527589
         },
         "mode": "lines",
         "type": "scatter",
         "x": [
          0.14518052791209826,
          0.13624904254562706,
          null
         ],
         "y": [
          -0.34392270586567825,
          -0.02493212454216236,
          null
         ]
        },
        {
         "hoverinfo": "none",
         "line": {
          "color": "pink",
          "width": 0.4847960878390847
         },
         "mode": "lines",
         "type": "scatter",
         "x": [
          0.14518052791209826,
          -0.7088749374359014,
          null
         ],
         "y": [
          -0.34392270586567825,
          0.006155538675164917,
          null
         ]
        },
        {
         "hoverinfo": "none",
         "line": {
          "color": "pink",
          "width": 0.4601919173279202
         },
         "mode": "lines",
         "type": "scatter",
         "x": [
          0.14518052791209826,
          0.24642169268400346,
          null
         ],
         "y": [
          -0.34392270586567825,
          0.6553414324049309,
          null
         ]
        },
        {
         "hoverinfo": "none",
         "line": {
          "color": "pink",
          "width": 1.9107362982100018
         },
         "mode": "lines",
         "type": "scatter",
         "x": [
          0.14518052791209826,
          -0.14729601524765254,
          null
         ],
         "y": [
          -0.34392270586567825,
          0.0796698527579924,
          null
         ]
        },
        {
         "hoverinfo": "none",
         "line": {
          "color": "pink",
          "width": 1.6176896106292673
         },
         "mode": "lines",
         "type": "scatter",
         "x": [
          0.14518052791209826,
          0.6176406819576419,
          null
         ],
         "y": [
          -0.34392270586567825,
          0.07560525408300751,
          null
         ]
        },
        {
         "hoverinfo": "none",
         "line": {
          "color": "pink",
          "width": 1.3731168112197822
         },
         "mode": "lines",
         "type": "scatter",
         "x": [
          0.14518052791209826,
          0.36267916195952915,
          null
         ],
         "y": [
          -0.34392270586567825,
          -0.41520299019120377,
          null
         ]
        },
        {
         "hoverinfo": "none",
         "line": {
          "color": "pink",
          "width": 0.4073113120501937
         },
         "mode": "lines",
         "type": "scatter",
         "x": [
          0.14518052791209826,
          -0.08185585602721432,
          null
         ],
         "y": [
          -0.34392270586567825,
          0.8479577914255687,
          null
         ]
        },
        {
         "hoverinfo": "none",
         "line": {
          "color": "pink",
          "width": 0.3551651596235467
         },
         "mode": "lines",
         "type": "scatter",
         "x": [
          0.14518052791209826,
          -0.39338393137232963,
          null
         ],
         "y": [
          -0.34392270586567825,
          -0.5251301814798549,
          null
         ]
        },
        {
         "hoverinfo": "none",
         "line": {
          "color": "pink",
          "width": 0.21745525004613397
         },
         "mode": "lines",
         "type": "scatter",
         "x": [
          0.14518052791209826,
          0.5034352205254935,
          null
         ],
         "y": [
          -0.34392270586567825,
          0.45850759286580284,
          null
         ]
        },
        {
         "hoverinfo": "none",
         "line": {
          "color": "pink",
          "width": 0.3555323860490865
         },
         "mode": "lines",
         "type": "scatter",
         "x": [
          0.14518052791209826,
          -0.672991426451281,
          null
         ],
         "y": [
          -0.34392270586567825,
          -0.14046594736057116,
          null
         ]
        },
        {
         "hoverinfo": "none",
         "line": {
          "color": "pink",
          "width": 0.6019413175862706
         },
         "mode": "lines",
         "type": "scatter",
         "x": [
          0.14518052791209826,
          -0.021012971306782084,
          null
         ],
         "y": [
          -0.34392270586567825,
          0.2015352316522645,
          null
         ]
        },
        {
         "hoverinfo": "none",
         "line": {
          "color": "pink",
          "width": 1.046285292489389
         },
         "mode": "lines",
         "type": "scatter",
         "x": [
          0.14518052791209826,
          -0.049379822133519505,
          null
         ],
         "y": [
          -0.34392270586567825,
          -0.6805747788329322,
          null
         ]
        },
        {
         "hoverinfo": "none",
         "line": {
          "color": "pink",
          "width": 0.3933567078796826
         },
         "mode": "lines",
         "type": "scatter",
         "x": [
          0.14518052791209826,
          -0.15152979430973731,
          null
         ],
         "y": [
          -0.34392270586567825,
          0.38335566686187267,
          null
         ]
        },
        {
         "hoverinfo": "none",
         "line": {
          "color": "pink",
          "width": 0.5832127698837424
         },
         "mode": "lines",
         "type": "scatter",
         "x": [
          0.14518052791209826,
          -0.5972345903990947,
          null
         ],
         "y": [
          -0.34392270586567825,
          -0.2850827697685695,
          null
         ]
        },
        {
         "hoverinfo": "none",
         "line": {
          "color": "pink",
          "width": 0.2839232330688319
         },
         "mode": "lines",
         "type": "scatter",
         "x": [
          0.14518052791209826,
          -0.5944442695847003,
          null
         ],
         "y": [
          -0.34392270586567825,
          0.7288455870977308,
          null
         ]
        },
        {
         "hoverinfo": "none",
         "line": {
          "color": "pink",
          "width": 0.3099963092821554
         },
         "mode": "lines",
         "type": "scatter",
         "x": [
          0.14518052791209826,
          1,
          null
         ],
         "y": [
          -0.34392270586567825,
          -0.6872117277788253,
          null
         ]
        },
        {
         "hoverinfo": "none",
         "line": {
          "color": "pink",
          "width": 3.0149861598080823
         },
         "mode": "lines",
         "type": "scatter",
         "x": [
          0.48742567679143967,
          0.13624904254562706,
          null
         ],
         "y": [
          -0.06176839651297817,
          -0.02493212454216236,
          null
         ]
        },
        {
         "hoverinfo": "none",
         "line": {
          "color": "pink",
          "width": 0.1741225318324414
         },
         "mode": "lines",
         "type": "scatter",
         "x": [
          0.48742567679143967,
          -0.7088749374359014,
          null
         ],
         "y": [
          -0.06176839651297817,
          0.006155538675164917,
          null
         ]
        },
        {
         "hoverinfo": "none",
         "line": {
          "color": "pink",
          "width": 0.7616848126960695
         },
         "mode": "lines",
         "type": "scatter",
         "x": [
          0.48742567679143967,
          0.24642169268400346,
          null
         ],
         "y": [
          -0.06176839651297817,
          0.6553414324049309,
          null
         ]
        },
        {
         "hoverinfo": "none",
         "line": {
          "color": "pink",
          "width": 1.131849049640155
         },
         "mode": "lines",
         "type": "scatter",
         "x": [
          0.48742567679143967,
          -0.14729601524765254,
          null
         ],
         "y": [
          -0.06176839651297817,
          0.0796698527579924,
          null
         ]
        },
        {
         "hoverinfo": "none",
         "line": {
          "color": "pink",
          "width": 2.8199889278464654
         },
         "mode": "lines",
         "type": "scatter",
         "x": [
          0.48742567679143967,
          0.6176406819576419,
          null
         ],
         "y": [
          -0.06176839651297817,
          0.07560525408300751,
          null
         ]
        },
        {
         "hoverinfo": "none",
         "line": {
          "color": "pink",
          "width": 1.5137645322015132
         },
         "mode": "lines",
         "type": "scatter",
         "x": [
          0.48742567679143967,
          0.36267916195952915,
          null
         ],
         "y": [
          -0.06176839651297817,
          -0.41520299019120377,
          null
         ]
        },
        {
         "hoverinfo": "none",
         "line": {
          "color": "pink",
          "width": 0.23948883557852002
         },
         "mode": "lines",
         "type": "scatter",
         "x": [
          0.48742567679143967,
          -0.08185585602721432,
          null
         ],
         "y": [
          -0.06176839651297817,
          0.8479577914255687,
          null
         ]
        },
        {
         "hoverinfo": "none",
         "line": {
          "color": "pink",
          "width": 0.580642184904964
         },
         "mode": "lines",
         "type": "scatter",
         "x": [
          0.48742567679143967,
          -0.39338393137232963,
          null
         ],
         "y": [
          -0.06176839651297817,
          -0.5251301814798549,
          null
         ]
        },
        {
         "hoverinfo": "none",
         "line": {
          "color": "pink",
          "width": 0.6830983576305591
         },
         "mode": "lines",
         "type": "scatter",
         "x": [
          0.48742567679143967,
          0.5034352205254935,
          null
         ],
         "y": [
          -0.06176839651297817,
          0.45850759286580284,
          null
         ]
        },
        {
         "hoverinfo": "none",
         "line": {
          "color": "pink",
          "width": 0.25601402472780954
         },
         "mode": "lines",
         "type": "scatter",
         "x": [
          0.48742567679143967,
          -0.672991426451281,
          null
         ],
         "y": [
          -0.06176839651297817,
          -0.14046594736057116,
          null
         ]
        },
        {
         "hoverinfo": "none",
         "line": {
          "color": "pink",
          "width": 0.3783004244325521
         },
         "mode": "lines",
         "type": "scatter",
         "x": [
          0.48742567679143967,
          -0.021012971306782084,
          null
         ],
         "y": [
          -0.06176839651297817,
          0.2015352316522645,
          null
         ]
        },
        {
         "hoverinfo": "none",
         "line": {
          "color": "pink",
          "width": 1.0080937442332534
         },
         "mode": "lines",
         "type": "scatter",
         "x": [
          0.48742567679143967,
          -0.049379822133519505,
          null
         ],
         "y": [
          -0.06176839651297817,
          -0.6805747788329322,
          null
         ]
        },
        {
         "hoverinfo": "none",
         "line": {
          "color": "pink",
          "width": 0.30081564864366117
         },
         "mode": "lines",
         "type": "scatter",
         "x": [
          0.48742567679143967,
          -0.15152979430973731,
          null
         ],
         "y": [
          -0.06176839651297817,
          0.38335566686187267,
          null
         ]
        },
        {
         "hoverinfo": "none",
         "line": {
          "color": "pink",
          "width": 0.16787968259826536
         },
         "mode": "lines",
         "type": "scatter",
         "x": [
          0.48742567679143967,
          -0.5972345903990947,
          null
         ],
         "y": [
          -0.06176839651297817,
          -0.2850827697685695,
          null
         ]
        },
        {
         "hoverinfo": "none",
         "line": {
          "color": "pink",
          "width": 0.18844436242849233
         },
         "mode": "lines",
         "type": "scatter",
         "x": [
          0.48742567679143967,
          -0.5944442695847003,
          null
         ],
         "y": [
          -0.06176839651297817,
          0.7288455870977308,
          null
         ]
        },
        {
         "hoverinfo": "none",
         "line": {
          "color": "pink",
          "width": 0.11022513378852186
         },
         "mode": "lines",
         "type": "scatter",
         "x": [
          0.48742567679143967,
          1,
          null
         ],
         "y": [
          -0.06176839651297817,
          -0.6872117277788253,
          null
         ]
        },
        {
         "hoverinfo": "none",
         "line": {
          "color": "pink",
          "width": 1.9162446945930982
         },
         "mode": "lines",
         "type": "scatter",
         "x": [
          0.13624904254562706,
          -0.7088749374359014,
          null
         ],
         "y": [
          -0.02493212454216236,
          0.006155538675164917,
          null
         ]
        },
        {
         "hoverinfo": "none",
         "line": {
          "color": "pink",
          "width": 0.962924893891862
         },
         "mode": "lines",
         "type": "scatter",
         "x": [
          0.13624904254562706,
          0.24642169268400346,
          null
         ],
         "y": [
          -0.02493212454216236,
          0.6553414324049309,
          null
         ]
        },
        {
         "hoverinfo": "none",
         "line": {
          "color": "pink",
          "width": 10
         },
         "mode": "lines",
         "type": "scatter",
         "x": [
          0.13624904254562706,
          -0.14729601524765254,
          null
         ],
         "y": [
          -0.02493212454216236,
          0.0796698527579924,
          null
         ]
        },
        {
         "hoverinfo": "none",
         "line": {
          "color": "pink",
          "width": 2.9173039306145045
         },
         "mode": "lines",
         "type": "scatter",
         "x": [
          0.13624904254562706,
          0.6176406819576419,
          null
         ],
         "y": [
          -0.02493212454216236,
          0.07560525408300751,
          null
         ]
        },
        {
         "hoverinfo": "none",
         "line": {
          "color": "pink",
          "width": 1.8002011441225318
         },
         "mode": "lines",
         "type": "scatter",
         "x": [
          0.13624904254562706,
          0.36267916195952915,
          null
         ],
         "y": [
          -0.02493212454216236,
          -0.41520299019120377,
          null
         ]
        },
        {
         "hoverinfo": "none",
         "line": {
          "color": "pink",
          "width": 0.31330134711201324
         },
         "mode": "lines",
         "type": "scatter",
         "x": [
          0.13624904254562706,
          -0.08185585602721432,
          null
         ],
         "y": [
          -0.02493212454216236,
          0.8479577914255687,
          null
         ]
        },
        {
         "hoverinfo": "none",
         "line": {
          "color": "pink",
          "width": 2.674200036907178
         },
         "mode": "lines",
         "type": "scatter",
         "x": [
          0.13624904254562706,
          -0.39338393137232963,
          null
         ],
         "y": [
          -0.02493212454216236,
          -0.5251301814798549,
          null
         ]
        },
        {
         "hoverinfo": "none",
         "line": {
          "color": "pink",
          "width": 2.2394039490680933
         },
         "mode": "lines",
         "type": "scatter",
         "x": [
          0.13624904254562706,
          0.5034352205254935,
          null
         ],
         "y": [
          -0.02493212454216236,
          0.45850759286580284,
          null
         ]
        },
        {
         "hoverinfo": "none",
         "line": {
          "color": "pink",
          "width": 0.7973057759734269
         },
         "mode": "lines",
         "type": "scatter",
         "x": [
          0.13624904254562706,
          -0.672991426451281,
          null
         ],
         "y": [
          -0.02493212454216236,
          -0.14046594736057116,
          null
         ]
        },
        {
         "hoverinfo": "none",
         "line": {
          "color": "pink",
          "width": 6.371068462816018
         },
         "mode": "lines",
         "type": "scatter",
         "x": [
          0.13624904254562706,
          -0.021012971306782084,
          null
         ],
         "y": [
          -0.02493212454216236,
          0.2015352316522645,
          null
         ]
        },
        {
         "hoverinfo": "none",
         "line": {
          "color": "pink",
          "width": 1.3683428676877651
         },
         "mode": "lines",
         "type": "scatter",
         "x": [
          0.13624904254562706,
          -0.049379822133519505,
          null
         ],
         "y": [
          -0.02493212454216236,
          -0.6805747788329322,
          null
         ]
        },
        {
         "hoverinfo": "none",
         "line": {
          "color": "pink",
          "width": 1.7822070492710833
         },
         "mode": "lines",
         "type": "scatter",
         "x": [
          0.13624904254562706,
          -0.15152979430973731,
          null
         ],
         "y": [
          -0.02493212454216236,
          0.38335566686187267,
          null
         ]
        },
        {
         "hoverinfo": "none",
         "line": {
          "color": "pink",
          "width": 1.2027237497693302
         },
         "mode": "lines",
         "type": "scatter",
         "x": [
          0.13624904254562706,
          -0.5972345903990947,
          null
         ],
         "y": [
          -0.02493212454216236,
          -0.2850827697685695,
          null
         ]
        },
        {
         "hoverinfo": "none",
         "line": {
          "color": "pink",
          "width": 0.26776527034508213
         },
         "mode": "lines",
         "type": "scatter",
         "x": [
          0.13624904254562706,
          -0.5944442695847003,
          null
         ],
         "y": [
          -0.02493212454216236,
          0.7288455870977308,
          null
         ]
        },
        {
         "hoverinfo": "none",
         "line": {
          "color": "pink",
          "width": 0.4135541612843698
         },
         "mode": "lines",
         "type": "scatter",
         "x": [
          0.13624904254562706,
          1,
          null
         ],
         "y": [
          -0.02493212454216236,
          -0.6872117277788253,
          null
         ]
        },
        {
         "hoverinfo": "none",
         "line": {
          "color": "pink",
          "width": 0.3981306514116995
         },
         "mode": "lines",
         "type": "scatter",
         "x": [
          -0.7088749374359014,
          0.24642169268400346,
          null
         ],
         "y": [
          0.006155538675164917,
          0.6553414324049309,
          null
         ]
        },
        {
         "hoverinfo": "none",
         "line": {
          "color": "pink",
          "width": 5.432070492710832
         },
         "mode": "lines",
         "type": "scatter",
         "x": [
          -0.7088749374359014,
          -0.14729601524765254,
          null
         ],
         "y": [
          0.006155538675164917,
          0.0796698527579924,
          null
         ]
        },
        {
         "hoverinfo": "none",
         "line": {
          "color": "pink",
          "width": 0.1638401919173279
         },
         "mode": "lines",
         "type": "scatter",
         "x": [
          -0.7088749374359014,
          0.6176406819576419,
          null
         ],
         "y": [
          0.006155538675164917,
          0.07560525408300751,
          null
         ]
        },
        {
         "hoverinfo": "none",
         "line": {
          "color": "pink",
          "width": 0.1616368333640893
         },
         "mode": "lines",
         "type": "scatter",
         "x": [
          -0.7088749374359014,
          0.36267916195952915,
          null
         ],
         "y": [
          0.006155538675164917,
          -0.41520299019120377,
          null
         ]
        },
        {
         "hoverinfo": "none",
         "line": {
          "color": "pink",
          "width": 0.19064772098173094
         },
         "mode": "lines",
         "type": "scatter",
         "x": [
          -0.7088749374359014,
          -0.08185585602721432,
          null
         ],
         "y": [
          0.006155538675164917,
          0.8479577914255687,
          null
         ]
        },
        {
         "hoverinfo": "none",
         "line": {
          "color": "pink",
          "width": 0.6144270160546226
         },
         "mode": "lines",
         "type": "scatter",
         "x": [
          -0.7088749374359014,
          -0.39338393137232963,
          null
         ],
         "y": [
          0.006155538675164917,
          -0.5251301814798549,
          null
         ]
        },
        {
         "hoverinfo": "none",
         "line": {
          "color": "pink",
          "width": 0.15869902195977117
         },
         "mode": "lines",
         "type": "scatter",
         "x": [
          -0.7088749374359014,
          0.5034352205254935,
          null
         ],
         "y": [
          0.006155538675164917,
          0.45850759286580284,
          null
         ]
        },
        {
         "hoverinfo": "none",
         "line": {
          "color": "pink",
          "width": 1.5258830042443254
         },
         "mode": "lines",
         "type": "scatter",
         "x": [
          -0.7088749374359014,
          -0.672991426451281,
          null
         ],
         "y": [
          0.006155538675164917,
          -0.14046594736057116,
          null
         ]
        },
        {
         "hoverinfo": "none",
         "line": {
          "color": "pink",
          "width": 0.6665731684812696
         },
         "mode": "lines",
         "type": "scatter",
         "x": [
          -0.7088749374359014,
          -0.021012971306782084,
          null
         ],
         "y": [
          0.006155538675164917,
          0.2015352316522645,
          null
         ]
        },
        {
         "hoverinfo": "none",
         "line": {
          "color": "pink",
          "width": 0.19835947591806607
         },
         "mode": "lines",
         "type": "scatter",
         "x": [
          -0.7088749374359014,
          -0.049379822133519505,
          null
         ],
         "y": [
          0.006155538675164917,
          -0.6805747788329322,
          null
         ]
        },
        {
         "hoverinfo": "none",
         "line": {
          "color": "pink",
          "width": 0.8013452666543643
         },
         "mode": "lines",
         "type": "scatter",
         "x": [
          -0.7088749374359014,
          -0.15152979430973731,
          null
         ],
         "y": [
          0.006155538675164917,
          0.38335566686187267,
          null
         ]
        },
        {
         "hoverinfo": "none",
         "line": {
          "color": "pink",
          "width": 3.1952943347481084
         },
         "mode": "lines",
         "type": "scatter",
         "x": [
          -0.7088749374359014,
          -0.5972345903990947,
          null
         ],
         "y": [
          0.006155538675164917,
          -0.2850827697685695,
          null
         ]
        },
        {
         "hoverinfo": "none",
         "line": {
          "color": "pink",
          "width": 0.1043495109798856
         },
         "mode": "lines",
         "type": "scatter",
         "x": [
          -0.7088749374359014,
          -0.5944442695847003,
          null
         ],
         "y": [
          0.006155538675164917,
          0.7288455870977308,
          null
         ]
        },
        {
         "hoverinfo": "none",
         "line": {
          "color": "pink",
          "width": 0.12638309651227164
         },
         "mode": "lines",
         "type": "scatter",
         "x": [
          -0.7088749374359014,
          1,
          null
         ],
         "y": [
          0.006155538675164917,
          -0.6872117277788253,
          null
         ]
        },
        {
         "hoverinfo": "none",
         "line": {
          "color": "pink",
          "width": 1.32904964015501
         },
         "mode": "lines",
         "type": "scatter",
         "x": [
          0.24642169268400346,
          -0.14729601524765254,
          null
         ],
         "y": [
          0.6553414324049309,
          0.0796698527579924,
          null
         ]
        },
        {
         "hoverinfo": "none",
         "line": {
          "color": "pink",
          "width": 0.4029045949437165
         },
         "mode": "lines",
         "type": "scatter",
         "x": [
          0.24642169268400346,
          0.6176406819576419,
          null
         ],
         "y": [
          0.6553414324049309,
          0.07560525408300751,
          null
         ]
        },
        {
         "hoverinfo": "none",
         "line": {
          "color": "pink",
          "width": 0.16641077689610628
         },
         "mode": "lines",
         "type": "scatter",
         "x": [
          0.24642169268400346,
          0.36267916195952915,
          null
         ],
         "y": [
          0.6553414324049309,
          -0.41520299019120377,
          null
         ]
        },
        {
         "hoverinfo": "none",
         "line": {
          "color": "pink",
          "width": 2.0120907916589776
         },
         "mode": "lines",
         "type": "scatter",
         "x": [
          0.24642169268400346,
          -0.08185585602721432,
          null
         ],
         "y": [
          0.6553414324049309,
          0.8479577914255687,
          null
         ]
        },
        {
         "hoverinfo": "none",
         "line": {
          "color": "pink",
          "width": 0.3360693854954788
         },
         "mode": "lines",
         "type": "scatter",
         "x": [
          0.24642169268400346,
          -0.39338393137232963,
          null
         ],
         "y": [
          0.6553414324049309,
          -0.5251301814798549,
          null
         ]
        },
        {
         "hoverinfo": "none",
         "line": {
          "color": "pink",
          "width": 3.3032589038567997
         },
         "mode": "lines",
         "type": "scatter",
         "x": [
          0.24642169268400346,
          0.5034352205254935,
          null
         ],
         "y": [
          0.6553414324049309,
          0.45850759286580284,
          null
         ]
        },
        {
         "hoverinfo": "none",
         "line": {
          "color": "pink",
          "width": 0.19028049455619117
         },
         "mode": "lines",
         "type": "scatter",
         "x": [
          0.24642169268400346,
          -0.672991426451281,
          null
         ],
         "y": [
          0.6553414324049309,
          -0.14046594736057116,
          null
         ]
        },
        {
         "hoverinfo": "none",
         "line": {
          "color": "pink",
          "width": 0.14290828566156116
         },
         "mode": "lines",
         "type": "scatter",
         "x": [
          0.24642169268400346,
          -0.021012971306782084,
          null
         ],
         "y": [
          0.6553414324049309,
          0.2015352316522645,
          null
         ]
        },
        {
         "hoverinfo": "none",
         "line": {
          "color": "pink",
          "width": 0.19064772098173094
         },
         "mode": "lines",
         "type": "scatter",
         "x": [
          0.24642169268400346,
          -0.049379822133519505,
          null
         ],
         "y": [
          0.6553414324049309,
          -0.6805747788329322,
          null
         ]
        },
        {
         "hoverinfo": "none",
         "line": {
          "color": "pink",
          "width": 1.2515648643661192
         },
         "mode": "lines",
         "type": "scatter",
         "x": [
          0.24642169268400346,
          -0.15152979430973731,
          null
         ],
         "y": [
          0.6553414324049309,
          0.38335566686187267,
          null
         ]
        },
        {
         "hoverinfo": "none",
         "line": {
          "color": "pink",
          "width": 0.11977302085255581
         },
         "mode": "lines",
         "type": "scatter",
         "x": [
          0.24642169268400346,
          -0.5972345903990947,
          null
         ],
         "y": [
          0.6553414324049309,
          -0.2850827697685695,
          null
         ]
        },
        {
         "hoverinfo": "none",
         "line": {
          "color": "pink",
          "width": 0.6812622255028603
         },
         "mode": "lines",
         "type": "scatter",
         "x": [
          0.24642169268400346,
          -0.5944442695847003,
          null
         ],
         "y": [
          0.6553414324049309,
          0.7288455870977308,
          null
         ]
        },
        {
         "hoverinfo": "none",
         "line": {
          "color": "pink",
          "width": 0.0826831518730393
         },
         "mode": "lines",
         "type": "scatter",
         "x": [
          0.24642169268400346,
          1,
          null
         ],
         "y": [
          0.6553414324049309,
          -0.6872117277788253,
          null
         ]
        },
        {
         "hoverinfo": "none",
         "line": {
          "color": "pink",
          "width": 2.6422513378852184
         },
         "mode": "lines",
         "type": "scatter",
         "x": [
          -0.14729601524765254,
          0.6176406819576419,
          null
         ],
         "y": [
          0.0796698527579924,
          0.07560525408300751,
          null
         ]
        },
        {
         "hoverinfo": "none",
         "line": {
          "color": "pink",
          "width": 1.9503967521682968
         },
         "mode": "lines",
         "type": "scatter",
         "x": [
          -0.14729601524765254,
          0.36267916195952915,
          null
         ],
         "y": [
          0.0796698527579924,
          -0.41520299019120377,
          null
         ]
        },
        {
         "hoverinfo": "none",
         "line": {
          "color": "pink",
          "width": 2.8600166082303007
         },
         "mode": "lines",
         "type": "scatter",
         "x": [
          -0.14729601524765254,
          -0.08185585602721432,
          null
         ],
         "y": [
          0.0796698527579924,
          0.8479577914255687,
          null
         ]
        },
        {
         "hoverinfo": "none",
         "line": {
          "color": "pink",
          "width": 2.252624100387525
         },
         "mode": "lines",
         "type": "scatter",
         "x": [
          -0.14729601524765254,
          -0.39338393137232963,
          null
         ],
         "y": [
          0.0796698527579924,
          -0.5251301814798549,
          null
         ]
        },
        {
         "hoverinfo": "none",
         "line": {
          "color": "pink",
          "width": 1.8644657685919912
         },
         "mode": "lines",
         "type": "scatter",
         "x": [
          -0.14729601524765254,
          0.5034352205254935,
          null
         ],
         "y": [
          0.0796698527579924,
          0.45850759286580284,
          null
         ]
        },
        {
         "hoverinfo": "none",
         "line": {
          "color": "pink",
          "width": 2.498665805499169
         },
         "mode": "lines",
         "type": "scatter",
         "x": [
          -0.14729601524765254,
          -0.672991426451281,
          null
         ],
         "y": [
          0.0796698527579924,
          -0.14046594736057116,
          null
         ]
        },
        {
         "hoverinfo": "none",
         "line": {
          "color": "pink",
          "width": 9.87477578889094
         },
         "mode": "lines",
         "type": "scatter",
         "x": [
          -0.14729601524765254,
          -0.021012971306782084,
          null
         ],
         "y": [
          0.0796698527579924,
          0.2015352316522645,
          null
         ]
        },
        {
         "hoverinfo": "none",
         "line": {
          "color": "pink",
          "width": 1.556730023989666
         },
         "mode": "lines",
         "type": "scatter",
         "x": [
          -0.14729601524765254,
          -0.049379822133519505,
          null
         ],
         "y": [
          0.0796698527579924,
          -0.6805747788329322,
          null
         ]
        },
        {
         "hoverinfo": "none",
         "line": {
          "color": "pink",
          "width": 3.6539601402472774
         },
         "mode": "lines",
         "type": "scatter",
         "x": [
          -0.14729601524765254,
          -0.15152979430973731,
          null
         ],
         "y": [
          0.0796698527579924,
          0.38335566686187267,
          null
         ]
        },
        {
         "hoverinfo": "none",
         "line": {
          "color": "pink",
          "width": 5.770653257058497
         },
         "mode": "lines",
         "type": "scatter",
         "x": [
          -0.14729601524765254,
          -0.5972345903990947,
          null
         ],
         "y": [
          0.0796698527579924,
          -0.2850827697685695,
          null
         ]
        },
        {
         "hoverinfo": "none",
         "line": {
          "color": "pink",
          "width": 2.175506551024174
         },
         "mode": "lines",
         "type": "scatter",
         "x": [
          -0.14729601524765254,
          -0.5944442695847003,
          null
         ],
         "y": [
          0.0796698527579924,
          0.7288455870977308,
          null
         ]
        },
        {
         "hoverinfo": "none",
         "line": {
          "color": "pink",
          "width": 0.49618010703081744
         },
         "mode": "lines",
         "type": "scatter",
         "x": [
          -0.14729601524765254,
          1,
          null
         ],
         "y": [
          0.0796698527579924,
          -0.6872117277788253,
          null
         ]
        },
        {
         "hoverinfo": "none",
         "line": {
          "color": "pink",
          "width": 1.4546410776896104
         },
         "mode": "lines",
         "type": "scatter",
         "x": [
          0.6176406819576419,
          0.36267916195952915,
          null
         ],
         "y": [
          0.07560525408300751,
          -0.41520299019120377,
          null
         ]
        },
        {
         "hoverinfo": "none",
         "line": {
          "color": "pink",
          "width": 0.18440487174755488
         },
         "mode": "lines",
         "type": "scatter",
         "x": [
          0.6176406819576419,
          -0.08185585602721432,
          null
         ],
         "y": [
          0.07560525408300751,
          0.8479577914255687,
          null
         ]
        },
        {
         "hoverinfo": "none",
         "line": {
          "color": "pink",
          "width": 0.15429230485329395
         },
         "mode": "lines",
         "type": "scatter",
         "x": [
          0.6176406819576419,
          -0.39338393137232963,
          null
         ],
         "y": [
          0.07560525408300751,
          -0.5251301814798549,
          null
         ]
        },
        {
         "hoverinfo": "none",
         "line": {
          "color": "pink",
          "width": 0.6037774497139693
         },
         "mode": "lines",
         "type": "scatter",
         "x": [
          0.6176406819576419,
          0.5034352205254935,
          null
         ],
         "y": [
          0.07560525408300751,
          0.45850759286580284,
          null
         ]
        },
        {
         "hoverinfo": "none",
         "line": {
          "color": "pink",
          "width": 0.18624100387525372
         },
         "mode": "lines",
         "type": "scatter",
         "x": [
          0.6176406819576419,
          -0.672991426451281,
          null
         ],
         "y": [
          0.07560525408300751,
          -0.14046594736057116,
          null
         ]
        },
        {
         "hoverinfo": "none",
         "line": {
          "color": "pink",
          "width": 0.6408673186934859
         },
         "mode": "lines",
         "type": "scatter",
         "x": [
          0.6176406819576419,
          -0.021012971306782084,
          null
         ],
         "y": [
          0.07560525408300751,
          0.2015352316522645,
          null
         ]
        },
        {
         "hoverinfo": "none",
         "line": {
          "color": "pink",
          "width": 0.3683853109429784
         },
         "mode": "lines",
         "type": "scatter",
         "x": [
          0.6176406819576419,
          -0.049379822133519505,
          null
         ],
         "y": [
          0.07560525408300751,
          -0.6805747788329322,
          null
         ]
        },
        {
         "hoverinfo": "none",
         "line": {
          "color": "pink",
          "width": 0.8233788521867503
         },
         "mode": "lines",
         "type": "scatter",
         "x": [
          0.6176406819576419,
          -0.15152979430973731,
          null
         ],
         "y": [
          0.07560525408300751,
          0.38335566686187267,
          null
         ]
        },
        {
         "hoverinfo": "none",
         "line": {
          "color": "pink",
          "width": 0.13115704004428863
         },
         "mode": "lines",
         "type": "scatter",
         "x": [
          0.6176406819576419,
          -0.5972345903990947,
          null
         ],
         "y": [
          0.07560525408300751,
          -0.2850827697685695,
          null
         ]
        },
        {
         "hoverinfo": "none",
         "line": {
          "color": "pink",
          "width": 0.1054511902565049
         },
         "mode": "lines",
         "type": "scatter",
         "x": [
          0.6176406819576419,
          -0.5944442695847003,
          null
         ],
         "y": [
          0.07560525408300751,
          0.7288455870977308,
          null
         ]
        },
        {
         "hoverinfo": "none",
         "line": {
          "color": "pink",
          "width": 0.10875622808636279
         },
         "mode": "lines",
         "type": "scatter",
         "x": [
          0.6176406819576419,
          1,
          null
         ],
         "y": [
          0.07560525408300751,
          -0.6872117277788253,
          null
         ]
        },
        {
         "hoverinfo": "none",
         "line": {
          "color": "pink",
          "width": 0.17045026757704373
         },
         "mode": "lines",
         "type": "scatter",
         "x": [
          0.36267916195952915,
          -0.08185585602721432,
          null
         ],
         "y": [
          -0.41520299019120377,
          0.8479577914255687,
          null
         ]
        },
        {
         "hoverinfo": "none",
         "line": {
          "color": "pink",
          "width": 1.1814246170880236
         },
         "mode": "lines",
         "type": "scatter",
         "x": [
          0.36267916195952915,
          -0.39338393137232963,
          null
         ],
         "y": [
          -0.41520299019120377,
          -0.5251301814798549,
          null
         ]
        },
        {
         "hoverinfo": "none",
         "line": {
          "color": "pink",
          "width": 0.38858276434766553
         },
         "mode": "lines",
         "type": "scatter",
         "x": [
          0.36267916195952915,
          0.5034352205254935,
          null
         ],
         "y": [
          -0.41520299019120377,
          0.45850759286580284,
          null
         ]
        },
        {
         "hoverinfo": "none",
         "line": {
          "color": "pink",
          "width": 0.4903044842221812
         },
         "mode": "lines",
         "type": "scatter",
         "x": [
          0.36267916195952915,
          -0.672991426451281,
          null
         ],
         "y": [
          -0.41520299019120377,
          -0.14046594736057116,
          null
         ]
        },
        {
         "hoverinfo": "none",
         "line": {
          "color": "pink",
          "width": 0.7334083779295073
         },
         "mode": "lines",
         "type": "scatter",
         "x": [
          0.36267916195952915,
          -0.021012971306782084,
          null
         ],
         "y": [
          -0.41520299019120377,
          0.2015352316522645,
          null
         ]
        },
        {
         "hoverinfo": "none",
         "line": {
          "color": "pink",
          "width": 0.794000738143569
         },
         "mode": "lines",
         "type": "scatter",
         "x": [
          0.36267916195952915,
          -0.049379822133519505,
          null
         ],
         "y": [
          -0.41520299019120377,
          -0.6805747788329322,
          null
         ]
        },
        {
         "hoverinfo": "none",
         "line": {
          "color": "pink",
          "width": 0.38858276434766553
         },
         "mode": "lines",
         "type": "scatter",
         "x": [
          0.36267916195952915,
          -0.15152979430973731,
          null
         ],
         "y": [
          -0.41520299019120377,
          0.38335566686187267,
          null
         ]
        },
        {
         "hoverinfo": "none",
         "line": {
          "color": "pink",
          "width": 0.47818601217936885
         },
         "mode": "lines",
         "type": "scatter",
         "x": [
          0.36267916195952915,
          -0.5972345903990947,
          null
         ],
         "y": [
          -0.41520299019120377,
          -0.2850827697685695,
          null
         ]
        },
        {
         "hoverinfo": "none",
         "line": {
          "color": "pink",
          "width": 0.08892600110721535
         },
         "mode": "lines",
         "type": "scatter",
         "x": [
          0.36267916195952915,
          -0.5944442695847003,
          null
         ],
         "y": [
          -0.41520299019120377,
          0.7288455870977308,
          null
         ]
        },
        {
         "hoverinfo": "none",
         "line": {
          "color": "pink",
          "width": 0.08011256689426094
         },
         "mode": "lines",
         "type": "scatter",
         "x": [
          0.36267916195952915,
          1,
          null
         ],
         "y": [
          -0.41520299019120377,
          -0.6872117277788253,
          null
         ]
        },
        {
         "hoverinfo": "none",
         "line": {
          "color": "pink",
          "width": 0.12711754936335118
         },
         "mode": "lines",
         "type": "scatter",
         "x": [
          -0.08185585602721432,
          -0.39338393137232963,
          null
         ],
         "y": [
          0.8479577914255687,
          -0.5251301814798549,
          null
         ]
        },
        {
         "hoverinfo": "none",
         "line": {
          "color": "pink",
          "width": 0.26409300608968445
         },
         "mode": "lines",
         "type": "scatter",
         "x": [
          -0.08185585602721432,
          0.5034352205254935,
          null
         ],
         "y": [
          0.8479577914255687,
          0.45850759286580284,
          null
         ]
        },
        {
         "hoverinfo": "none",
         "line": {
          "color": "pink",
          "width": 0.13629821000184536
         },
         "mode": "lines",
         "type": "scatter",
         "x": [
          -0.08185585602721432,
          -0.672991426451281,
          null
         ],
         "y": [
          0.8479577914255687,
          -0.14046594736057116,
          null
         ]
        },
        {
         "hoverinfo": "none",
         "line": {
          "color": "pink",
          "width": 0.3981306514116995
         },
         "mode": "lines",
         "type": "scatter",
         "x": [
          -0.08185585602721432,
          -0.021012971306782084,
          null
         ],
         "y": [
          0.8479577914255687,
          0.2015352316522645,
          null
         ]
        },
        {
         "hoverinfo": "none",
         "line": {
          "color": "pink",
          "width": 0.08525373685181768
         },
         "mode": "lines",
         "type": "scatter",
         "x": [
          -0.08185585602721432,
          -0.049379822133519505,
          null
         ],
         "y": [
          0.8479577914255687,
          -0.6805747788329322,
          null
         ]
        },
        {
         "hoverinfo": "none",
         "line": {
          "color": "pink",
          "width": 0.4466045395829488
         },
         "mode": "lines",
         "type": "scatter",
         "x": [
          -0.08185585602721432,
          -0.15152979430973731,
          null
         ],
         "y": [
          0.8479577914255687,
          0.38335566686187267,
          null
         ]
        },
        {
         "hoverinfo": "none",
         "line": {
          "color": "pink",
          "width": 0.20607123085440116
         },
         "mode": "lines",
         "type": "scatter",
         "x": [
          -0.08185585602721432,
          -0.5972345903990947,
          null
         ],
         "y": [
          0.8479577914255687,
          -0.2850827697685695,
          null
         ]
        },
        {
         "hoverinfo": "none",
         "line": {
          "color": "pink",
          "width": 0.8891123823583688
         },
         "mode": "lines",
         "type": "scatter",
         "x": [
          -0.08185585602721432,
          -0.5944442695847003,
          null
         ],
         "y": [
          0.8479577914255687,
          0.7288455870977308,
          null
         ]
        },
        {
         "hoverinfo": "none",
         "line": {
          "color": "pink",
          "width": 0.10141169957556745
         },
         "mode": "lines",
         "type": "scatter",
         "x": [
          -0.08185585602721432,
          1,
          null
         ],
         "y": [
          0.8479577914255687,
          -0.6872117277788253,
          null
         ]
        },
        {
         "hoverinfo": "none",
         "line": {
          "color": "pink",
          "width": 0.22222919357815096
         },
         "mode": "lines",
         "type": "scatter",
         "x": [
          -0.39338393137232963,
          0.5034352205254935,
          null
         ],
         "y": [
          -0.5251301814798549,
          0.45850759286580284,
          null
         ]
        },
        {
         "hoverinfo": "none",
         "line": {
          "color": "pink",
          "width": 1.6823214615242663
         },
         "mode": "lines",
         "type": "scatter",
         "x": [
          -0.39338393137232963,
          -0.672991426451281,
          null
         ],
         "y": [
          -0.5251301814798549,
          -0.14046594736057116,
          null
         ]
        },
        {
         "hoverinfo": "none",
         "line": {
          "color": "pink",
          "width": 0.39372393430522235
         },
         "mode": "lines",
         "type": "scatter",
         "x": [
          -0.39338393137232963,
          -0.021012971306782084,
          null
         ],
         "y": [
          -0.5251301814798549,
          0.2015352316522645,
          null
         ]
        },
        {
         "hoverinfo": "none",
         "line": {
          "color": "pink",
          "width": 1.3532865842406347
         },
         "mode": "lines",
         "type": "scatter",
         "x": [
          -0.39338393137232963,
          -0.049379822133519505,
          null
         ],
         "y": [
          -0.5251301814798549,
          -0.6805747788329322,
          null
         ]
        },
        {
         "hoverinfo": "none",
         "line": {
          "color": "pink",
          "width": 0.35222734821922863
         },
         "mode": "lines",
         "type": "scatter",
         "x": [
          -0.39338393137232963,
          -0.15152979430973731,
          null
         ],
         "y": [
          -0.5251301814798549,
          0.38335566686187267,
          null
         ]
        },
        {
         "hoverinfo": "none",
         "line": {
          "color": "pink",
          "width": 3.804890201144122
         },
         "mode": "lines",
         "type": "scatter",
         "x": [
          -0.39338393137232963,
          -0.5972345903990947,
          null
         ],
         "y": [
          -0.5251301814798549,
          -0.2850827697685695,
          null
         ]
        },
        {
         "hoverinfo": "none",
         "line": {
          "color": "pink",
          "width": 0.10031002029894814
         },
         "mode": "lines",
         "type": "scatter",
         "x": [
          -0.39338393137232963,
          -0.5944442695847003,
          null
         ],
         "y": [
          -0.5251301814798549,
          0.7288455870977308,
          null
         ]
        },
        {
         "hoverinfo": "none",
         "line": {
          "color": "pink",
          "width": 0.11646798302269791
         },
         "mode": "lines",
         "type": "scatter",
         "x": [
          -0.39338393137232963,
          1,
          null
         ],
         "y": [
          -0.5251301814798549,
          -0.6872117277788253,
          null
         ]
        },
        {
         "hoverinfo": "none",
         "line": {
          "color": "pink",
          "width": 0.11463185089499907
         },
         "mode": "lines",
         "type": "scatter",
         "x": [
          0.5034352205254935,
          -0.672991426451281,
          null
         ],
         "y": [
          0.45850759286580284,
          -0.14046594736057116,
          null
         ]
        },
        {
         "hoverinfo": "none",
         "line": {
          "color": "pink",
          "width": 1.0106643292120316
         },
         "mode": "lines",
         "type": "scatter",
         "x": [
          0.5034352205254935,
          -0.021012971306782084,
          null
         ],
         "y": [
          0.45850759286580284,
          0.2015352316522645,
          null
         ]
        },
        {
         "hoverinfo": "none",
         "line": {
          "color": "pink",
          "width": 0.1708174940025835
         },
         "mode": "lines",
         "type": "scatter",
         "x": [
          0.5034352205254935,
          -0.049379822133519505,
          null
         ],
         "y": [
          0.45850759286580284,
          -0.6805747788329322,
          null
         ]
        },
        {
         "hoverinfo": "none",
         "line": {
          "color": "pink",
          "width": 0.40400627422033586
         },
         "mode": "lines",
         "type": "scatter",
         "x": [
          0.5034352205254935,
          -0.15152979430973731,
          null
         ],
         "y": [
          0.45850759286580284,
          0.38335566686187267,
          null
         ]
        },
        {
         "hoverinfo": "none",
         "line": {
          "color": "pink",
          "width": 0.12234360583133419
         },
         "mode": "lines",
         "type": "scatter",
         "x": [
          0.5034352205254935,
          -0.5972345903990947,
          null
         ],
         "y": [
          0.45850759286580284,
          -0.2850827697685695,
          null
         ]
        },
        {
         "hoverinfo": "none",
         "line": {
          "color": "pink",
          "width": 0.09884111459678907
         },
         "mode": "lines",
         "type": "scatter",
         "x": [
          0.5034352205254935,
          -0.5944442695847003,
          null
         ],
         "y": [
          0.45850759286580284,
          0.7288455870977308,
          null
         ]
        },
        {
         "hoverinfo": "none",
         "line": {
          "color": "pink",
          "width": 0.14107215353386232
         },
         "mode": "lines",
         "type": "scatter",
         "x": [
          0.5034352205254935,
          1,
          null
         ],
         "y": [
          0.45850759286580284,
          -0.6872117277788253,
          null
         ]
        },
        {
         "hoverinfo": "none",
         "line": {
          "color": "pink",
          "width": 0.46239527588115886
         },
         "mode": "lines",
         "type": "scatter",
         "x": [
          -0.672991426451281,
          -0.021012971306782084,
          null
         ],
         "y": [
          -0.14046594736057116,
          0.2015352316522645,
          null
         ]
        },
        {
         "hoverinfo": "none",
         "line": {
          "color": "pink",
          "width": 0.4657003137110167
         },
         "mode": "lines",
         "type": "scatter",
         "x": [
          -0.672991426451281,
          -0.049379822133519505,
          null
         ],
         "y": [
          -0.14046594736057116,
          -0.6805747788329322,
          null
         ]
        },
        {
         "hoverinfo": "none",
         "line": {
          "color": "pink",
          "width": 0.5545691086916404
         },
         "mode": "lines",
         "type": "scatter",
         "x": [
          -0.672991426451281,
          -0.15152979430973731,
          null
         ],
         "y": [
          -0.14046594736057116,
          0.38335566686187267,
          null
         ]
        },
        {
         "hoverinfo": "none",
         "line": {
          "color": "pink",
          "width": 2.4758977671157036
         },
         "mode": "lines",
         "type": "scatter",
         "x": [
          -0.672991426451281,
          -0.5972345903990947,
          null
         ],
         "y": [
          -0.14046594736057116,
          -0.2850827697685695,
          null
         ]
        },
        {
         "hoverinfo": "none",
         "line": {
          "color": "pink",
          "width": 0.08525373685181768
         },
         "mode": "lines",
         "type": "scatter",
         "x": [
          -0.672991426451281,
          -0.5944442695847003,
          null
         ],
         "y": [
          -0.14046594736057116,
          0.7288455870977308,
          null
         ]
        },
        {
         "hoverinfo": "none",
         "line": {
          "color": "pink",
          "width": 0.09259826536261304
         },
         "mode": "lines",
         "type": "scatter",
         "x": [
          -0.672991426451281,
          1,
          null
         ],
         "y": [
          -0.14046594736057116,
          -0.6872117277788253,
          null
         ]
        },
        {
         "hoverinfo": "none",
         "line": {
          "color": "pink",
          "width": 0.376831518730393
         },
         "mode": "lines",
         "type": "scatter",
         "x": [
          -0.021012971306782084,
          -0.049379822133519505,
          null
         ],
         "y": [
          0.2015352316522645,
          -0.6805747788329322,
          null
         ]
        },
        {
         "hoverinfo": "none",
         "line": {
          "color": "pink",
          "width": 1.128544011810297
         },
         "mode": "lines",
         "type": "scatter",
         "x": [
          -0.021012971306782084,
          -0.15152979430973731,
          null
         ],
         "y": [
          0.2015352316522645,
          0.38335566686187267,
          null
         ]
        },
        {
         "hoverinfo": "none",
         "line": {
          "color": "pink",
          "width": 0.7785772282708987
         },
         "mode": "lines",
         "type": "scatter",
         "x": [
          -0.021012971306782084,
          -0.5972345903990947,
          null
         ],
         "y": [
          0.2015352316522645,
          -0.2850827697685695,
          null
         ]
        },
        {
         "hoverinfo": "none",
         "line": {
          "color": "pink",
          "width": 0.34855508396383095
         },
         "mode": "lines",
         "type": "scatter",
         "x": [
          -0.021012971306782084,
          -0.5944442695847003,
          null
         ],
         "y": [
          0.2015352316522645,
          0.7288455870977308,
          null
         ]
        },
        {
         "hoverinfo": "none",
         "line": {
          "color": "pink",
          "width": 0.23544934489758257
         },
         "mode": "lines",
         "type": "scatter",
         "x": [
          -0.021012971306782084,
          1,
          null
         ],
         "y": [
          0.2015352316522645,
          -0.6872117277788253,
          null
         ]
        },
        {
         "hoverinfo": "none",
         "line": {
          "color": "pink",
          "width": 0.3434139140062742
         },
         "mode": "lines",
         "type": "scatter",
         "x": [
          -0.049379822133519505,
          -0.15152979430973731,
          null
         ],
         "y": [
          -0.6805747788329322,
          0.38335566686187267,
          null
         ]
        },
        {
         "hoverinfo": "none",
         "line": {
          "color": "pink",
          "width": 1.0525281417235652
         },
         "mode": "lines",
         "type": "scatter",
         "x": [
          -0.049379822133519505,
          -0.5972345903990947,
          null
         ],
         "y": [
          -0.6805747788329322,
          -0.2850827697685695,
          null
         ]
        },
        {
         "hoverinfo": "none",
         "line": {
          "color": "pink",
          "width": 0.12381251153349326
         },
         "mode": "lines",
         "type": "scatter",
         "x": [
          -0.049379822133519505,
          -0.5944442695847003,
          null
         ],
         "y": [
          -0.6805747788329322,
          0.7288455870977308,
          null
         ]
        },
        {
         "hoverinfo": "none",
         "line": {
          "color": "pink",
          "width": 0.08341760472411884
         },
         "mode": "lines",
         "type": "scatter",
         "x": [
          -0.049379822133519505,
          1,
          null
         ],
         "y": [
          -0.6805747788329322,
          -0.6872117277788253,
          null
         ]
        },
        {
         "hoverinfo": "none",
         "line": {
          "color": "pink",
          "width": 1.0598726702343606
         },
         "mode": "lines",
         "type": "scatter",
         "x": [
          -0.15152979430973731,
          -0.5972345903990947,
          null
         ],
         "y": [
          0.38335566686187267,
          -0.2850827697685695,
          null
         ]
        },
        {
         "hoverinfo": "none",
         "line": {
          "color": "pink",
          "width": 0.18917881527957187
         },
         "mode": "lines",
         "type": "scatter",
         "x": [
          -0.15152979430973731,
          -0.5944442695847003,
          null
         ],
         "y": [
          0.38335566686187267,
          0.7288455870977308,
          null
         ]
        },
        {
         "hoverinfo": "none",
         "line": {
          "color": "pink",
          "width": 0.1436427385126407
         },
         "mode": "lines",
         "type": "scatter",
         "x": [
          -0.15152979430973731,
          1,
          null
         ],
         "y": [
          0.38335566686187267,
          -0.6872117277788253,
          null
         ]
        },
        {
         "hoverinfo": "none",
         "line": {
          "color": "pink",
          "width": 0.20019560804576492
         },
         "mode": "lines",
         "type": "scatter",
         "x": [
          -0.5972345903990947,
          -0.5944442695847003,
          null
         ],
         "y": [
          -0.2850827697685695,
          0.7288455870977308,
          null
         ]
        },
        {
         "hoverinfo": "none",
         "line": {
          "color": "pink",
          "width": 0.12381251153349326
         },
         "mode": "lines",
         "type": "scatter",
         "x": [
          -0.5972345903990947,
          1,
          null
         ],
         "y": [
          -0.2850827697685695,
          -0.6872117277788253,
          null
         ]
        },
        {
         "hoverinfo": "none",
         "line": {
          "color": "pink",
          "width": 0.08525373685181768
         },
         "mode": "lines",
         "type": "scatter",
         "x": [
          -0.5944442695847003,
          1,
          null
         ],
         "y": [
          0.7288455870977308,
          -0.6872117277788253,
          null
         ]
        },
        {
         "hoverinfo": "text",
         "marker": {
          "color": [
           0,
           3,
           3,
           2,
           0,
           1,
           2,
           3,
           3,
           1,
           0,
           1,
           0,
           2,
           0,
           2,
           0,
           1,
           2
          ],
          "colorscale": [
           [
            0,
            "#440154"
           ],
           [
            0.1111111111111111,
            "#482878"
           ],
           [
            0.2222222222222222,
            "#3e4989"
           ],
           [
            0.3333333333333333,
            "#31688e"
           ],
           [
            0.4444444444444444,
            "#26828e"
           ],
           [
            0.5555555555555556,
            "#1f9e89"
           ],
           [
            0.6666666666666666,
            "#35b779"
           ],
           [
            0.7777777777777778,
            "#6ece58"
           ],
           [
            0.8888888888888888,
            "#b5de2b"
           ],
           [
            1,
            "#fde725"
           ]
          ],
          "showscale": false,
          "size": [
           422360,
           222580,
           534510,
           1321070,
           318790,
           1544620,
           2145830,
           267290,
           212770,
           158750,
           480790,
           461980,
           184620,
           510280,
           198140,
           228260,
           436410,
           101140,
           85600
          ],
          "sizemin": 4,
          "sizemode": "area",
          "sizeref": 2682.2875
         },
         "mode": "markers",
         "text": [
          "Action<br>Total Movies: 42236",
          "Adventure<br>Total Movies: 22258",
          "Animation<br>Total Movies: 53451",
          "Comedy<br>Total Movies: 132107",
          "Crime<br>Total Movies: 31879",
          "Documentary<br>Total Movies: 154462",
          "Drama<br>Total Movies: 214583",
          "Family<br>Total Movies: 26729",
          "Fantasy<br>Total Movies: 21277",
          "History<br>Total Movies: 15875",
          "Horror<br>Total Movies: 48079",
          "Music<br>Total Movies: 46198",
          "Mystery<br>Total Movies: 18462",
          "Romance<br>Total Movies: 51028",
          "ScienceFiction<br>Total Movies: 19814",
          "TVMovie<br>Total Movies: 22826",
          "Thriller<br>Total Movies: 43641",
          "War<br>Total Movies: 10114",
          "Western<br>Total Movies: 8560"
         ],
         "type": "scatter",
         "x": [
          -0.08102839010759641,
          0.14518052791209826,
          0.48742567679143967,
          0.13624904254562706,
          -0.7088749374359014,
          0.24642169268400346,
          -0.14729601524765254,
          0.6176406819576419,
          0.36267916195952915,
          -0.08185585602721432,
          -0.39338393137232963,
          0.5034352205254935,
          -0.672991426451281,
          -0.021012971306782084,
          -0.049379822133519505,
          -0.15152979430973731,
          -0.5972345903990947,
          -0.5944442695847003,
          1
         ],
         "y": [
          -0.27268232549159205,
          -0.34392270586567825,
          -0.06176839651297817,
          -0.02493212454216236,
          0.006155538675164917,
          0.6553414324049309,
          0.0796698527579924,
          0.07560525408300751,
          -0.41520299019120377,
          0.8479577914255687,
          -0.5251301814798549,
          0.45850759286580284,
          -0.14046594736057116,
          0.2015352316522645,
          -0.6805747788329322,
          0.38335566686187267,
          -0.2850827697685695,
          0.7288455870977308,
          -0.6872117277788253
         ]
        }
       ],
       "layout": {
        "hovermode": "closest",
        "margin": {
         "b": 20,
         "l": 5,
         "r": 5,
         "t": 40
        },
        "paper_bgcolor": "rgba(0,0,0,0)",
        "plot_bgcolor": "rgba(0,0,0,0)",
        "showlegend": false,
        "template": {
         "data": {
          "bar": [
           {
            "error_x": {
             "color": "#2a3f5f"
            },
            "error_y": {
             "color": "#2a3f5f"
            },
            "marker": {
             "line": {
              "color": "#E5ECF6",
              "width": 0.5
             },
             "pattern": {
              "fillmode": "overlay",
              "size": 10,
              "solidity": 0.2
             }
            },
            "type": "bar"
           }
          ],
          "barpolar": [
           {
            "marker": {
             "line": {
              "color": "#E5ECF6",
              "width": 0.5
             },
             "pattern": {
              "fillmode": "overlay",
              "size": 10,
              "solidity": 0.2
             }
            },
            "type": "barpolar"
           }
          ],
          "carpet": [
           {
            "aaxis": {
             "endlinecolor": "#2a3f5f",
             "gridcolor": "white",
             "linecolor": "white",
             "minorgridcolor": "white",
             "startlinecolor": "#2a3f5f"
            },
            "baxis": {
             "endlinecolor": "#2a3f5f",
             "gridcolor": "white",
             "linecolor": "white",
             "minorgridcolor": "white",
             "startlinecolor": "#2a3f5f"
            },
            "type": "carpet"
           }
          ],
          "choropleth": [
           {
            "colorbar": {
             "outlinewidth": 0,
             "ticks": ""
            },
            "type": "choropleth"
           }
          ],
          "contour": [
           {
            "colorbar": {
             "outlinewidth": 0,
             "ticks": ""
            },
            "colorscale": [
             [
              0,
              "#0d0887"
             ],
             [
              0.1111111111111111,
              "#46039f"
             ],
             [
              0.2222222222222222,
              "#7201a8"
             ],
             [
              0.3333333333333333,
              "#9c179e"
             ],
             [
              0.4444444444444444,
              "#bd3786"
             ],
             [
              0.5555555555555556,
              "#d8576b"
             ],
             [
              0.6666666666666666,
              "#ed7953"
             ],
             [
              0.7777777777777778,
              "#fb9f3a"
             ],
             [
              0.8888888888888888,
              "#fdca26"
             ],
             [
              1,
              "#f0f921"
             ]
            ],
            "type": "contour"
           }
          ],
          "contourcarpet": [
           {
            "colorbar": {
             "outlinewidth": 0,
             "ticks": ""
            },
            "type": "contourcarpet"
           }
          ],
          "heatmap": [
           {
            "colorbar": {
             "outlinewidth": 0,
             "ticks": ""
            },
            "colorscale": [
             [
              0,
              "#0d0887"
             ],
             [
              0.1111111111111111,
              "#46039f"
             ],
             [
              0.2222222222222222,
              "#7201a8"
             ],
             [
              0.3333333333333333,
              "#9c179e"
             ],
             [
              0.4444444444444444,
              "#bd3786"
             ],
             [
              0.5555555555555556,
              "#d8576b"
             ],
             [
              0.6666666666666666,
              "#ed7953"
             ],
             [
              0.7777777777777778,
              "#fb9f3a"
             ],
             [
              0.8888888888888888,
              "#fdca26"
             ],
             [
              1,
              "#f0f921"
             ]
            ],
            "type": "heatmap"
           }
          ],
          "heatmapgl": [
           {
            "colorbar": {
             "outlinewidth": 0,
             "ticks": ""
            },
            "colorscale": [
             [
              0,
              "#0d0887"
             ],
             [
              0.1111111111111111,
              "#46039f"
             ],
             [
              0.2222222222222222,
              "#7201a8"
             ],
             [
              0.3333333333333333,
              "#9c179e"
             ],
             [
              0.4444444444444444,
              "#bd3786"
             ],
             [
              0.5555555555555556,
              "#d8576b"
             ],
             [
              0.6666666666666666,
              "#ed7953"
             ],
             [
              0.7777777777777778,
              "#fb9f3a"
             ],
             [
              0.8888888888888888,
              "#fdca26"
             ],
             [
              1,
              "#f0f921"
             ]
            ],
            "type": "heatmapgl"
           }
          ],
          "histogram": [
           {
            "marker": {
             "pattern": {
              "fillmode": "overlay",
              "size": 10,
              "solidity": 0.2
             }
            },
            "type": "histogram"
           }
          ],
          "histogram2d": [
           {
            "colorbar": {
             "outlinewidth": 0,
             "ticks": ""
            },
            "colorscale": [
             [
              0,
              "#0d0887"
             ],
             [
              0.1111111111111111,
              "#46039f"
             ],
             [
              0.2222222222222222,
              "#7201a8"
             ],
             [
              0.3333333333333333,
              "#9c179e"
             ],
             [
              0.4444444444444444,
              "#bd3786"
             ],
             [
              0.5555555555555556,
              "#d8576b"
             ],
             [
              0.6666666666666666,
              "#ed7953"
             ],
             [
              0.7777777777777778,
              "#fb9f3a"
             ],
             [
              0.8888888888888888,
              "#fdca26"
             ],
             [
              1,
              "#f0f921"
             ]
            ],
            "type": "histogram2d"
           }
          ],
          "histogram2dcontour": [
           {
            "colorbar": {
             "outlinewidth": 0,
             "ticks": ""
            },
            "colorscale": [
             [
              0,
              "#0d0887"
             ],
             [
              0.1111111111111111,
              "#46039f"
             ],
             [
              0.2222222222222222,
              "#7201a8"
             ],
             [
              0.3333333333333333,
              "#9c179e"
             ],
             [
              0.4444444444444444,
              "#bd3786"
             ],
             [
              0.5555555555555556,
              "#d8576b"
             ],
             [
              0.6666666666666666,
              "#ed7953"
             ],
             [
              0.7777777777777778,
              "#fb9f3a"
             ],
             [
              0.8888888888888888,
              "#fdca26"
             ],
             [
              1,
              "#f0f921"
             ]
            ],
            "type": "histogram2dcontour"
           }
          ],
          "mesh3d": [
           {
            "colorbar": {
             "outlinewidth": 0,
             "ticks": ""
            },
            "type": "mesh3d"
           }
          ],
          "parcoords": [
           {
            "line": {
             "colorbar": {
              "outlinewidth": 0,
              "ticks": ""
             }
            },
            "type": "parcoords"
           }
          ],
          "pie": [
           {
            "automargin": true,
            "type": "pie"
           }
          ],
          "scatter": [
           {
            "fillpattern": {
             "fillmode": "overlay",
             "size": 10,
             "solidity": 0.2
            },
            "type": "scatter"
           }
          ],
          "scatter3d": [
           {
            "line": {
             "colorbar": {
              "outlinewidth": 0,
              "ticks": ""
             }
            },
            "marker": {
             "colorbar": {
              "outlinewidth": 0,
              "ticks": ""
             }
            },
            "type": "scatter3d"
           }
          ],
          "scattercarpet": [
           {
            "marker": {
             "colorbar": {
              "outlinewidth": 0,
              "ticks": ""
             }
            },
            "type": "scattercarpet"
           }
          ],
          "scattergeo": [
           {
            "marker": {
             "colorbar": {
              "outlinewidth": 0,
              "ticks": ""
             }
            },
            "type": "scattergeo"
           }
          ],
          "scattergl": [
           {
            "marker": {
             "colorbar": {
              "outlinewidth": 0,
              "ticks": ""
             }
            },
            "type": "scattergl"
           }
          ],
          "scattermapbox": [
           {
            "marker": {
             "colorbar": {
              "outlinewidth": 0,
              "ticks": ""
             }
            },
            "type": "scattermapbox"
           }
          ],
          "scatterpolar": [
           {
            "marker": {
             "colorbar": {
              "outlinewidth": 0,
              "ticks": ""
             }
            },
            "type": "scatterpolar"
           }
          ],
          "scatterpolargl": [
           {
            "marker": {
             "colorbar": {
              "outlinewidth": 0,
              "ticks": ""
             }
            },
            "type": "scatterpolargl"
           }
          ],
          "scatterternary": [
           {
            "marker": {
             "colorbar": {
              "outlinewidth": 0,
              "ticks": ""
             }
            },
            "type": "scatterternary"
           }
          ],
          "surface": [
           {
            "colorbar": {
             "outlinewidth": 0,
             "ticks": ""
            },
            "colorscale": [
             [
              0,
              "#0d0887"
             ],
             [
              0.1111111111111111,
              "#46039f"
             ],
             [
              0.2222222222222222,
              "#7201a8"
             ],
             [
              0.3333333333333333,
              "#9c179e"
             ],
             [
              0.4444444444444444,
              "#bd3786"
             ],
             [
              0.5555555555555556,
              "#d8576b"
             ],
             [
              0.6666666666666666,
              "#ed7953"
             ],
             [
              0.7777777777777778,
              "#fb9f3a"
             ],
             [
              0.8888888888888888,
              "#fdca26"
             ],
             [
              1,
              "#f0f921"
             ]
            ],
            "type": "surface"
           }
          ],
          "table": [
           {
            "cells": {
             "fill": {
              "color": "#EBF0F8"
             },
             "line": {
              "color": "white"
             }
            },
            "header": {
             "fill": {
              "color": "#C8D4E3"
             },
             "line": {
              "color": "white"
             }
            },
            "type": "table"
           }
          ]
         },
         "layout": {
          "annotationdefaults": {
           "arrowcolor": "#2a3f5f",
           "arrowhead": 0,
           "arrowwidth": 1
          },
          "autotypenumbers": "strict",
          "coloraxis": {
           "colorbar": {
            "outlinewidth": 0,
            "ticks": ""
           }
          },
          "colorscale": {
           "diverging": [
            [
             0,
             "#8e0152"
            ],
            [
             0.1,
             "#c51b7d"
            ],
            [
             0.2,
             "#de77ae"
            ],
            [
             0.3,
             "#f1b6da"
            ],
            [
             0.4,
             "#fde0ef"
            ],
            [
             0.5,
             "#f7f7f7"
            ],
            [
             0.6,
             "#e6f5d0"
            ],
            [
             0.7,
             "#b8e186"
            ],
            [
             0.8,
             "#7fbc41"
            ],
            [
             0.9,
             "#4d9221"
            ],
            [
             1,
             "#276419"
            ]
           ],
           "sequential": [
            [
             0,
             "#0d0887"
            ],
            [
             0.1111111111111111,
             "#46039f"
            ],
            [
             0.2222222222222222,
             "#7201a8"
            ],
            [
             0.3333333333333333,
             "#9c179e"
            ],
            [
             0.4444444444444444,
             "#bd3786"
            ],
            [
             0.5555555555555556,
             "#d8576b"
            ],
            [
             0.6666666666666666,
             "#ed7953"
            ],
            [
             0.7777777777777778,
             "#fb9f3a"
            ],
            [
             0.8888888888888888,
             "#fdca26"
            ],
            [
             1,
             "#f0f921"
            ]
           ],
           "sequentialminus": [
            [
             0,
             "#0d0887"
            ],
            [
             0.1111111111111111,
             "#46039f"
            ],
            [
             0.2222222222222222,
             "#7201a8"
            ],
            [
             0.3333333333333333,
             "#9c179e"
            ],
            [
             0.4444444444444444,
             "#bd3786"
            ],
            [
             0.5555555555555556,
             "#d8576b"
            ],
            [
             0.6666666666666666,
             "#ed7953"
            ],
            [
             0.7777777777777778,
             "#fb9f3a"
            ],
            [
             0.8888888888888888,
             "#fdca26"
            ],
            [
             1,
             "#f0f921"
            ]
           ]
          },
          "colorway": [
           "#636efa",
           "#EF553B",
           "#00cc96",
           "#ab63fa",
           "#FFA15A",
           "#19d3f3",
           "#FF6692",
           "#B6E880",
           "#FF97FF",
           "#FECB52"
          ],
          "font": {
           "color": "#2a3f5f"
          },
          "geo": {
           "bgcolor": "white",
           "lakecolor": "white",
           "landcolor": "#E5ECF6",
           "showlakes": true,
           "showland": true,
           "subunitcolor": "white"
          },
          "hoverlabel": {
           "align": "left"
          },
          "hovermode": "closest",
          "mapbox": {
           "style": "light"
          },
          "paper_bgcolor": "white",
          "plot_bgcolor": "#E5ECF6",
          "polar": {
           "angularaxis": {
            "gridcolor": "white",
            "linecolor": "white",
            "ticks": ""
           },
           "bgcolor": "#E5ECF6",
           "radialaxis": {
            "gridcolor": "white",
            "linecolor": "white",
            "ticks": ""
           }
          },
          "scene": {
           "xaxis": {
            "backgroundcolor": "#E5ECF6",
            "gridcolor": "white",
            "gridwidth": 2,
            "linecolor": "white",
            "showbackground": true,
            "ticks": "",
            "zerolinecolor": "white"
           },
           "yaxis": {
            "backgroundcolor": "#E5ECF6",
            "gridcolor": "white",
            "gridwidth": 2,
            "linecolor": "white",
            "showbackground": true,
            "ticks": "",
            "zerolinecolor": "white"
           },
           "zaxis": {
            "backgroundcolor": "#E5ECF6",
            "gridcolor": "white",
            "gridwidth": 2,
            "linecolor": "white",
            "showbackground": true,
            "ticks": "",
            "zerolinecolor": "white"
           }
          },
          "shapedefaults": {
           "line": {
            "color": "#2a3f5f"
           }
          },
          "ternary": {
           "aaxis": {
            "gridcolor": "white",
            "linecolor": "white",
            "ticks": ""
           },
           "baxis": {
            "gridcolor": "white",
            "linecolor": "white",
            "ticks": ""
           },
           "bgcolor": "#E5ECF6",
           "caxis": {
            "gridcolor": "white",
            "linecolor": "white",
            "ticks": ""
           }
          },
          "title": {
           "x": 0.05
          },
          "xaxis": {
           "automargin": true,
           "gridcolor": "white",
           "linecolor": "white",
           "ticks": "",
           "title": {
            "standoff": 15
           },
           "zerolinecolor": "white",
           "zerolinewidth": 2
          },
          "yaxis": {
           "automargin": true,
           "gridcolor": "white",
           "linecolor": "white",
           "ticks": "",
           "title": {
            "standoff": 15
           },
           "zerolinecolor": "white",
           "zerolinewidth": 2
          }
         }
        },
        "title": {
         "font": {
          "size": 16
         },
         "text": "Network Graph of Movie Genres with Weighted Edges"
        },
        "xaxis": {
         "showgrid": false,
         "showticklabels": false,
         "zeroline": false
        },
        "yaxis": {
         "showgrid": false,
         "showticklabels": false,
         "zeroline": false
        }
       }
      }
     },
     "metadata": {},
     "output_type": "display_data"
    }
   ],
   "source": [
    "df = genres_expanded\n",
    "\n",
    "G = nx.Graph()\n",
    "\n",
    "for genre in df.columns:\n",
    "    total_movies = df[genre].sum()\n",
    "    G.add_node(genre, size=total_movies, total_movies=total_movies)\n",
    "\n",
    "for (genre1, genre2) in combinations(df.columns, 2):\n",
    "    weight = (df[genre1] & df[genre2]).sum()\n",
    "    if weight > 0:\n",
    "        G.add_edge(genre1, genre2, weight=weight)\n",
    "\n",
    "partition = community_louvain.best_partition(G)\n",
    "\n",
    "pos = nx.spring_layout(G, k=0.3, seed=101)\n",
    "\n",
    "fig = go.Figure()\n",
    "\n",
    "# We chose those min and max widths which results in a nice visualization of relations\n",
    "min_width = 0.05\n",
    "max_width = 10\n",
    "\n",
    "# Maximum weight for normalization\n",
    "max_weight = max(edge[2]['weight'] for edge in G.edges(data=True))\n",
    "\n",
    "for edge in G.edges(data=True):\n",
    "    x0, y0 = pos[edge[0]]\n",
    "    x1, y1 = pos[edge[1]]\n",
    "    weight = edge[2]['weight']\n",
    "    # Normalize the weight and scale it within the min_width to max_width range\n",
    "    edge_width = (weight / max_weight) * (max_width - min_width) + min_width\n",
    "\n",
    "    fig.add_trace(go.Scatter(\n",
    "        x=[x0, x1, None],\n",
    "        y=[y0, y1, None],\n",
    "        mode='lines',\n",
    "        line=dict(width=edge_width, color='pink'),\n",
    "        hoverinfo='none'\n",
    "    ))\n",
    "\n",
    "# Node sizes for visualization\n",
    "sizes = [G.nodes[node]['size']*10 for node in G.nodes()] \n",
    "\n",
    "node_trace = go.Scatter(\n",
    "    x=[pos[node][0] for node in G.nodes()],\n",
    "    y=[pos[node][1] for node in G.nodes()],\n",
    "    mode='markers',\n",
    "    marker=dict(\n",
    "        showscale=False,\n",
    "        colorscale='Viridis',\n",
    "        size=sizes,\n",
    "        color=list(partition.values()),\n",
    "        sizemode='area',\n",
    "        sizeref=2.*max(sizes)/(40.**2),\n",
    "        sizemin=4\n",
    "    ),\n",
    "    text=[f\"{node}<br>Total Movies: {G.nodes[node]['total_movies']}\" for node in G.nodes()],\n",
    "    hoverinfo='text'\n",
    ")\n",
    "\n",
    "fig.add_trace(node_trace)\n",
    "\n",
    "fig.update_layout(\n",
    "    title='Network Graph of Movie Genres with Weighted Edges',\n",
    "    titlefont_size=16,\n",
    "    hovermode='closest',\n",
    "    showlegend=False,\n",
    "    margin=dict(b=20, l=5, r=5, t=40),\n",
    "    #Transparent background:\n",
    "    plot_bgcolor='rgba(0,0,0,0)',\n",
    "    paper_bgcolor='rgba(0,0,0,0)',\n",
    "    xaxis=dict(showgrid=False, zeroline=False, showticklabels=False),\n",
    "    yaxis=dict(showgrid=False, zeroline=False, showticklabels=False)\n",
    ")\n",
    "\n",
    "fig.show()\n",
    "#fig.write_html('network_graph_of_movie_genres.html')\n"
   ]
  },
  {
   "cell_type": "markdown",
   "metadata": {},
   "source": [
    "This is the final version with the final font."
   ]
  },
  {
   "cell_type": "code",
   "execution_count": null,
   "metadata": {},
   "outputs": [
    {
     "data": {
      "application/vnd.plotly.v1+json": {
       "config": {
        "plotlyServerURL": "https://plot.ly"
       },
       "data": [
        {
         "hoverinfo": "none",
         "line": {
          "color": "pink",
          "width": 2.7274478686104446
         },
         "mode": "lines",
         "type": "scatter",
         "x": [
          -0.08102839010759641,
          0.14518052791209826,
          null
         ],
         "y": [
          -0.27268232549159205,
          -0.34392270586567825,
          null
         ]
        },
        {
         "hoverinfo": "none",
         "line": {
          "color": "pink",
          "width": 0.9776139509134526
         },
         "mode": "lines",
         "type": "scatter",
         "x": [
          -0.08102839010759641,
          0.48742567679143967,
          null
         ],
         "y": [
          -0.27268232549159205,
          -0.06176839651297817,
          null
         ]
        },
        {
         "hoverinfo": "none",
         "line": {
          "color": "pink",
          "width": 2.665019376268684
         },
         "mode": "lines",
         "type": "scatter",
         "x": [
          -0.08102839010759641,
          0.13624904254562706,
          null
         ],
         "y": [
          -0.27268232549159205,
          -0.02493212454216236,
          null
         ]
        },
        {
         "hoverinfo": "none",
         "line": {
          "color": "pink",
          "width": 2.546038014393799
         },
         "mode": "lines",
         "type": "scatter",
         "x": [
          -0.08102839010759641,
          -0.7088749374359014,
          null
         ],
         "y": [
          -0.27268232549159205,
          0.006155538675164917,
          null
         ]
        },
        {
         "hoverinfo": "none",
         "line": {
          "color": "pink",
          "width": 0.266296364642923
         },
         "mode": "lines",
         "type": "scatter",
         "x": [
          -0.08102839010759641,
          0.24642169268400346,
          null
         ],
         "y": [
          -0.27268232549159205,
          0.6553414324049309,
          null
         ]
        },
        {
         "hoverinfo": "none",
         "line": {
          "color": "pink",
          "width": 4.515106108138032
         },
         "mode": "lines",
         "type": "scatter",
         "x": [
          -0.08102839010759641,
          -0.14729601524765254,
          null
         ],
         "y": [
          -0.27268232549159205,
          0.0796698527579924,
          null
         ]
        },
        {
         "hoverinfo": "none",
         "line": {
          "color": "pink",
          "width": 0.44476840745525
         },
         "mode": "lines",
         "type": "scatter",
         "x": [
          -0.08102839010759641,
          0.6176406819576419,
          null
         ],
         "y": [
          -0.27268232549159205,
          0.07560525408300751,
          null
         ]
        },
        {
         "hoverinfo": "none",
         "line": {
          "color": "pink",
          "width": 1.1024709355969737
         },
         "mode": "lines",
         "type": "scatter",
         "x": [
          -0.08102839010759641,
          0.36267916195952915,
          null
         ],
         "y": [
          -0.27268232549159205,
          -0.41520299019120377,
          null
         ]
        },
        {
         "hoverinfo": "none",
         "line": {
          "color": "pink",
          "width": 0.45431629451928396
         },
         "mode": "lines",
         "type": "scatter",
         "x": [
          -0.08102839010759641,
          -0.08185585602721432,
          null
         ],
         "y": [
          -0.27268232549159205,
          0.8479577914255687,
          null
         ]
        },
        {
         "hoverinfo": "none",
         "line": {
          "color": "pink",
          "width": 0.9640265731684812
         },
         "mode": "lines",
         "type": "scatter",
         "x": [
          -0.08102839010759641,
          -0.39338393137232963,
          null
         ],
         "y": [
          -0.27268232549159205,
          -0.5251301814798549,
          null
         ]
        },
        {
         "hoverinfo": "none",
         "line": {
          "color": "pink",
          "width": 0.19138217383281048
         },
         "mode": "lines",
         "type": "scatter",
         "x": [
          -0.08102839010759641,
          0.5034352205254935,
          null
         ],
         "y": [
          -0.27268232549159205,
          0.45850759286580284,
          null
         ]
        },
        {
         "hoverinfo": "none",
         "line": {
          "color": "pink",
          "width": 0.5035246355416129
         },
         "mode": "lines",
         "type": "scatter",
         "x": [
          -0.08102839010759641,
          -0.672991426451281,
          null
         ],
         "y": [
          -0.27268232549159205,
          -0.14046594736057116,
          null
         ]
        },
        {
         "hoverinfo": "none",
         "line": {
          "color": "pink",
          "width": 0.940891308359476
         },
         "mode": "lines",
         "type": "scatter",
         "x": [
          -0.08102839010759641,
          -0.021012971306782084,
          null
         ],
         "y": [
          -0.27268232549159205,
          0.2015352316522645,
          null
         ]
        },
        {
         "hoverinfo": "none",
         "line": {
          "color": "pink",
          "width": 1.757235652334379
         },
         "mode": "lines",
         "type": "scatter",
         "x": [
          -0.08102839010759641,
          -0.049379822133519505,
          null
         ],
         "y": [
          -0.27268232549159205,
          -0.6805747788329322,
          null
         ]
        },
        {
         "hoverinfo": "none",
         "line": {
          "color": "pink",
          "width": 0.4712087100941133
         },
         "mode": "lines",
         "type": "scatter",
         "x": [
          -0.08102839010759641,
          -0.15152979430973731,
          null
         ],
         "y": [
          -0.27268232549159205,
          0.38335566686187267,
          null
         ]
        },
        {
         "hoverinfo": "none",
         "line": {
          "color": "pink",
          "width": 2.8523048532939654
         },
         "mode": "lines",
         "type": "scatter",
         "x": [
          -0.08102839010759641,
          -0.5972345903990947,
          null
         ],
         "y": [
          -0.27268232549159205,
          -0.2850827697685695,
          null
         ]
        },
        {
         "hoverinfo": "none",
         "line": {
          "color": "pink",
          "width": 0.5655859014578336
         },
         "mode": "lines",
         "type": "scatter",
         "x": [
          -0.08102839010759641,
          -0.5944442695847003,
          null
         ],
         "y": [
          -0.27268232549159205,
          0.7288455870977308,
          null
         ]
        },
        {
         "hoverinfo": "none",
         "line": {
          "color": "pink",
          "width": 0.4708414836685735
         },
         "mode": "lines",
         "type": "scatter",
         "x": [
          -0.08102839010759641,
          1,
          null
         ],
         "y": [
          -0.27268232549159205,
          -0.6872117277788253,
          null
         ]
        },
        {
         "hoverinfo": "none",
         "line": {
          "color": "pink",
          "width": 1.3896420003690717
         },
         "mode": "lines",
         "type": "scatter",
         "x": [
          0.14518052791209826,
          0.48742567679143967,
          null
         ],
         "y": [
          -0.34392270586567825,
          -0.06176839651297817,
          null
         ]
        },
        {
         "hoverinfo": "none",
         "line": {
          "color": "pink",
          "width": 1.8207658239527589
         },
         "mode": "lines",
         "type": "scatter",
         "x": [
          0.14518052791209826,
          0.13624904254562706,
          null
         ],
         "y": [
          -0.34392270586567825,
          -0.02493212454216236,
          null
         ]
        },
        {
         "hoverinfo": "none",
         "line": {
          "color": "pink",
          "width": 0.4847960878390847
         },
         "mode": "lines",
         "type": "scatter",
         "x": [
          0.14518052791209826,
          -0.7088749374359014,
          null
         ],
         "y": [
          -0.34392270586567825,
          0.006155538675164917,
          null
         ]
        },
        {
         "hoverinfo": "none",
         "line": {
          "color": "pink",
          "width": 0.4601919173279202
         },
         "mode": "lines",
         "type": "scatter",
         "x": [
          0.14518052791209826,
          0.24642169268400346,
          null
         ],
         "y": [
          -0.34392270586567825,
          0.6553414324049309,
          null
         ]
        },
        {
         "hoverinfo": "none",
         "line": {
          "color": "pink",
          "width": 1.9107362982100018
         },
         "mode": "lines",
         "type": "scatter",
         "x": [
          0.14518052791209826,
          -0.14729601524765254,
          null
         ],
         "y": [
          -0.34392270586567825,
          0.0796698527579924,
          null
         ]
        },
        {
         "hoverinfo": "none",
         "line": {
          "color": "pink",
          "width": 1.6176896106292673
         },
         "mode": "lines",
         "type": "scatter",
         "x": [
          0.14518052791209826,
          0.6176406819576419,
          null
         ],
         "y": [
          -0.34392270586567825,
          0.07560525408300751,
          null
         ]
        },
        {
         "hoverinfo": "none",
         "line": {
          "color": "pink",
          "width": 1.3731168112197822
         },
         "mode": "lines",
         "type": "scatter",
         "x": [
          0.14518052791209826,
          0.36267916195952915,
          null
         ],
         "y": [
          -0.34392270586567825,
          -0.41520299019120377,
          null
         ]
        },
        {
         "hoverinfo": "none",
         "line": {
          "color": "pink",
          "width": 0.4073113120501937
         },
         "mode": "lines",
         "type": "scatter",
         "x": [
          0.14518052791209826,
          -0.08185585602721432,
          null
         ],
         "y": [
          -0.34392270586567825,
          0.8479577914255687,
          null
         ]
        },
        {
         "hoverinfo": "none",
         "line": {
          "color": "pink",
          "width": 0.3551651596235467
         },
         "mode": "lines",
         "type": "scatter",
         "x": [
          0.14518052791209826,
          -0.39338393137232963,
          null
         ],
         "y": [
          -0.34392270586567825,
          -0.5251301814798549,
          null
         ]
        },
        {
         "hoverinfo": "none",
         "line": {
          "color": "pink",
          "width": 0.21745525004613397
         },
         "mode": "lines",
         "type": "scatter",
         "x": [
          0.14518052791209826,
          0.5034352205254935,
          null
         ],
         "y": [
          -0.34392270586567825,
          0.45850759286580284,
          null
         ]
        },
        {
         "hoverinfo": "none",
         "line": {
          "color": "pink",
          "width": 0.3555323860490865
         },
         "mode": "lines",
         "type": "scatter",
         "x": [
          0.14518052791209826,
          -0.672991426451281,
          null
         ],
         "y": [
          -0.34392270586567825,
          -0.14046594736057116,
          null
         ]
        },
        {
         "hoverinfo": "none",
         "line": {
          "color": "pink",
          "width": 0.6019413175862706
         },
         "mode": "lines",
         "type": "scatter",
         "x": [
          0.14518052791209826,
          -0.021012971306782084,
          null
         ],
         "y": [
          -0.34392270586567825,
          0.2015352316522645,
          null
         ]
        },
        {
         "hoverinfo": "none",
         "line": {
          "color": "pink",
          "width": 1.046285292489389
         },
         "mode": "lines",
         "type": "scatter",
         "x": [
          0.14518052791209826,
          -0.049379822133519505,
          null
         ],
         "y": [
          -0.34392270586567825,
          -0.6805747788329322,
          null
         ]
        },
        {
         "hoverinfo": "none",
         "line": {
          "color": "pink",
          "width": 0.3933567078796826
         },
         "mode": "lines",
         "type": "scatter",
         "x": [
          0.14518052791209826,
          -0.15152979430973731,
          null
         ],
         "y": [
          -0.34392270586567825,
          0.38335566686187267,
          null
         ]
        },
        {
         "hoverinfo": "none",
         "line": {
          "color": "pink",
          "width": 0.5832127698837424
         },
         "mode": "lines",
         "type": "scatter",
         "x": [
          0.14518052791209826,
          -0.5972345903990947,
          null
         ],
         "y": [
          -0.34392270586567825,
          -0.2850827697685695,
          null
         ]
        },
        {
         "hoverinfo": "none",
         "line": {
          "color": "pink",
          "width": 0.2839232330688319
         },
         "mode": "lines",
         "type": "scatter",
         "x": [
          0.14518052791209826,
          -0.5944442695847003,
          null
         ],
         "y": [
          -0.34392270586567825,
          0.7288455870977308,
          null
         ]
        },
        {
         "hoverinfo": "none",
         "line": {
          "color": "pink",
          "width": 0.3099963092821554
         },
         "mode": "lines",
         "type": "scatter",
         "x": [
          0.14518052791209826,
          1,
          null
         ],
         "y": [
          -0.34392270586567825,
          -0.6872117277788253,
          null
         ]
        },
        {
         "hoverinfo": "none",
         "line": {
          "color": "pink",
          "width": 3.0149861598080823
         },
         "mode": "lines",
         "type": "scatter",
         "x": [
          0.48742567679143967,
          0.13624904254562706,
          null
         ],
         "y": [
          -0.06176839651297817,
          -0.02493212454216236,
          null
         ]
        },
        {
         "hoverinfo": "none",
         "line": {
          "color": "pink",
          "width": 0.1741225318324414
         },
         "mode": "lines",
         "type": "scatter",
         "x": [
          0.48742567679143967,
          -0.7088749374359014,
          null
         ],
         "y": [
          -0.06176839651297817,
          0.006155538675164917,
          null
         ]
        },
        {
         "hoverinfo": "none",
         "line": {
          "color": "pink",
          "width": 0.7616848126960695
         },
         "mode": "lines",
         "type": "scatter",
         "x": [
          0.48742567679143967,
          0.24642169268400346,
          null
         ],
         "y": [
          -0.06176839651297817,
          0.6553414324049309,
          null
         ]
        },
        {
         "hoverinfo": "none",
         "line": {
          "color": "pink",
          "width": 1.131849049640155
         },
         "mode": "lines",
         "type": "scatter",
         "x": [
          0.48742567679143967,
          -0.14729601524765254,
          null
         ],
         "y": [
          -0.06176839651297817,
          0.0796698527579924,
          null
         ]
        },
        {
         "hoverinfo": "none",
         "line": {
          "color": "pink",
          "width": 2.8199889278464654
         },
         "mode": "lines",
         "type": "scatter",
         "x": [
          0.48742567679143967,
          0.6176406819576419,
          null
         ],
         "y": [
          -0.06176839651297817,
          0.07560525408300751,
          null
         ]
        },
        {
         "hoverinfo": "none",
         "line": {
          "color": "pink",
          "width": 1.5137645322015132
         },
         "mode": "lines",
         "type": "scatter",
         "x": [
          0.48742567679143967,
          0.36267916195952915,
          null
         ],
         "y": [
          -0.06176839651297817,
          -0.41520299019120377,
          null
         ]
        },
        {
         "hoverinfo": "none",
         "line": {
          "color": "pink",
          "width": 0.23948883557852002
         },
         "mode": "lines",
         "type": "scatter",
         "x": [
          0.48742567679143967,
          -0.08185585602721432,
          null
         ],
         "y": [
          -0.06176839651297817,
          0.8479577914255687,
          null
         ]
        },
        {
         "hoverinfo": "none",
         "line": {
          "color": "pink",
          "width": 0.580642184904964
         },
         "mode": "lines",
         "type": "scatter",
         "x": [
          0.48742567679143967,
          -0.39338393137232963,
          null
         ],
         "y": [
          -0.06176839651297817,
          -0.5251301814798549,
          null
         ]
        },
        {
         "hoverinfo": "none",
         "line": {
          "color": "pink",
          "width": 0.6830983576305591
         },
         "mode": "lines",
         "type": "scatter",
         "x": [
          0.48742567679143967,
          0.5034352205254935,
          null
         ],
         "y": [
          -0.06176839651297817,
          0.45850759286580284,
          null
         ]
        },
        {
         "hoverinfo": "none",
         "line": {
          "color": "pink",
          "width": 0.25601402472780954
         },
         "mode": "lines",
         "type": "scatter",
         "x": [
          0.48742567679143967,
          -0.672991426451281,
          null
         ],
         "y": [
          -0.06176839651297817,
          -0.14046594736057116,
          null
         ]
        },
        {
         "hoverinfo": "none",
         "line": {
          "color": "pink",
          "width": 0.3783004244325521
         },
         "mode": "lines",
         "type": "scatter",
         "x": [
          0.48742567679143967,
          -0.021012971306782084,
          null
         ],
         "y": [
          -0.06176839651297817,
          0.2015352316522645,
          null
         ]
        },
        {
         "hoverinfo": "none",
         "line": {
          "color": "pink",
          "width": 1.0080937442332534
         },
         "mode": "lines",
         "type": "scatter",
         "x": [
          0.48742567679143967,
          -0.049379822133519505,
          null
         ],
         "y": [
          -0.06176839651297817,
          -0.6805747788329322,
          null
         ]
        },
        {
         "hoverinfo": "none",
         "line": {
          "color": "pink",
          "width": 0.30081564864366117
         },
         "mode": "lines",
         "type": "scatter",
         "x": [
          0.48742567679143967,
          -0.15152979430973731,
          null
         ],
         "y": [
          -0.06176839651297817,
          0.38335566686187267,
          null
         ]
        },
        {
         "hoverinfo": "none",
         "line": {
          "color": "pink",
          "width": 0.16787968259826536
         },
         "mode": "lines",
         "type": "scatter",
         "x": [
          0.48742567679143967,
          -0.5972345903990947,
          null
         ],
         "y": [
          -0.06176839651297817,
          -0.2850827697685695,
          null
         ]
        },
        {
         "hoverinfo": "none",
         "line": {
          "color": "pink",
          "width": 0.18844436242849233
         },
         "mode": "lines",
         "type": "scatter",
         "x": [
          0.48742567679143967,
          -0.5944442695847003,
          null
         ],
         "y": [
          -0.06176839651297817,
          0.7288455870977308,
          null
         ]
        },
        {
         "hoverinfo": "none",
         "line": {
          "color": "pink",
          "width": 0.11022513378852186
         },
         "mode": "lines",
         "type": "scatter",
         "x": [
          0.48742567679143967,
          1,
          null
         ],
         "y": [
          -0.06176839651297817,
          -0.6872117277788253,
          null
         ]
        },
        {
         "hoverinfo": "none",
         "line": {
          "color": "pink",
          "width": 1.9162446945930982
         },
         "mode": "lines",
         "type": "scatter",
         "x": [
          0.13624904254562706,
          -0.7088749374359014,
          null
         ],
         "y": [
          -0.02493212454216236,
          0.006155538675164917,
          null
         ]
        },
        {
         "hoverinfo": "none",
         "line": {
          "color": "pink",
          "width": 0.962924893891862
         },
         "mode": "lines",
         "type": "scatter",
         "x": [
          0.13624904254562706,
          0.24642169268400346,
          null
         ],
         "y": [
          -0.02493212454216236,
          0.6553414324049309,
          null
         ]
        },
        {
         "hoverinfo": "none",
         "line": {
          "color": "pink",
          "width": 10
         },
         "mode": "lines",
         "type": "scatter",
         "x": [
          0.13624904254562706,
          -0.14729601524765254,
          null
         ],
         "y": [
          -0.02493212454216236,
          0.0796698527579924,
          null
         ]
        },
        {
         "hoverinfo": "none",
         "line": {
          "color": "pink",
          "width": 2.9173039306145045
         },
         "mode": "lines",
         "type": "scatter",
         "x": [
          0.13624904254562706,
          0.6176406819576419,
          null
         ],
         "y": [
          -0.02493212454216236,
          0.07560525408300751,
          null
         ]
        },
        {
         "hoverinfo": "none",
         "line": {
          "color": "pink",
          "width": 1.8002011441225318
         },
         "mode": "lines",
         "type": "scatter",
         "x": [
          0.13624904254562706,
          0.36267916195952915,
          null
         ],
         "y": [
          -0.02493212454216236,
          -0.41520299019120377,
          null
         ]
        },
        {
         "hoverinfo": "none",
         "line": {
          "color": "pink",
          "width": 0.31330134711201324
         },
         "mode": "lines",
         "type": "scatter",
         "x": [
          0.13624904254562706,
          -0.08185585602721432,
          null
         ],
         "y": [
          -0.02493212454216236,
          0.8479577914255687,
          null
         ]
        },
        {
         "hoverinfo": "none",
         "line": {
          "color": "pink",
          "width": 2.674200036907178
         },
         "mode": "lines",
         "type": "scatter",
         "x": [
          0.13624904254562706,
          -0.39338393137232963,
          null
         ],
         "y": [
          -0.02493212454216236,
          -0.5251301814798549,
          null
         ]
        },
        {
         "hoverinfo": "none",
         "line": {
          "color": "pink",
          "width": 2.2394039490680933
         },
         "mode": "lines",
         "type": "scatter",
         "x": [
          0.13624904254562706,
          0.5034352205254935,
          null
         ],
         "y": [
          -0.02493212454216236,
          0.45850759286580284,
          null
         ]
        },
        {
         "hoverinfo": "none",
         "line": {
          "color": "pink",
          "width": 0.7973057759734269
         },
         "mode": "lines",
         "type": "scatter",
         "x": [
          0.13624904254562706,
          -0.672991426451281,
          null
         ],
         "y": [
          -0.02493212454216236,
          -0.14046594736057116,
          null
         ]
        },
        {
         "hoverinfo": "none",
         "line": {
          "color": "pink",
          "width": 6.371068462816018
         },
         "mode": "lines",
         "type": "scatter",
         "x": [
          0.13624904254562706,
          -0.021012971306782084,
          null
         ],
         "y": [
          -0.02493212454216236,
          0.2015352316522645,
          null
         ]
        },
        {
         "hoverinfo": "none",
         "line": {
          "color": "pink",
          "width": 1.3683428676877651
         },
         "mode": "lines",
         "type": "scatter",
         "x": [
          0.13624904254562706,
          -0.049379822133519505,
          null
         ],
         "y": [
          -0.02493212454216236,
          -0.6805747788329322,
          null
         ]
        },
        {
         "hoverinfo": "none",
         "line": {
          "color": "pink",
          "width": 1.7822070492710833
         },
         "mode": "lines",
         "type": "scatter",
         "x": [
          0.13624904254562706,
          -0.15152979430973731,
          null
         ],
         "y": [
          -0.02493212454216236,
          0.38335566686187267,
          null
         ]
        },
        {
         "hoverinfo": "none",
         "line": {
          "color": "pink",
          "width": 1.2027237497693302
         },
         "mode": "lines",
         "type": "scatter",
         "x": [
          0.13624904254562706,
          -0.5972345903990947,
          null
         ],
         "y": [
          -0.02493212454216236,
          -0.2850827697685695,
          null
         ]
        },
        {
         "hoverinfo": "none",
         "line": {
          "color": "pink",
          "width": 0.26776527034508213
         },
         "mode": "lines",
         "type": "scatter",
         "x": [
          0.13624904254562706,
          -0.5944442695847003,
          null
         ],
         "y": [
          -0.02493212454216236,
          0.7288455870977308,
          null
         ]
        },
        {
         "hoverinfo": "none",
         "line": {
          "color": "pink",
          "width": 0.4135541612843698
         },
         "mode": "lines",
         "type": "scatter",
         "x": [
          0.13624904254562706,
          1,
          null
         ],
         "y": [
          -0.02493212454216236,
          -0.6872117277788253,
          null
         ]
        },
        {
         "hoverinfo": "none",
         "line": {
          "color": "pink",
          "width": 0.3981306514116995
         },
         "mode": "lines",
         "type": "scatter",
         "x": [
          -0.7088749374359014,
          0.24642169268400346,
          null
         ],
         "y": [
          0.006155538675164917,
          0.6553414324049309,
          null
         ]
        },
        {
         "hoverinfo": "none",
         "line": {
          "color": "pink",
          "width": 5.432070492710832
         },
         "mode": "lines",
         "type": "scatter",
         "x": [
          -0.7088749374359014,
          -0.14729601524765254,
          null
         ],
         "y": [
          0.006155538675164917,
          0.0796698527579924,
          null
         ]
        },
        {
         "hoverinfo": "none",
         "line": {
          "color": "pink",
          "width": 0.1638401919173279
         },
         "mode": "lines",
         "type": "scatter",
         "x": [
          -0.7088749374359014,
          0.6176406819576419,
          null
         ],
         "y": [
          0.006155538675164917,
          0.07560525408300751,
          null
         ]
        },
        {
         "hoverinfo": "none",
         "line": {
          "color": "pink",
          "width": 0.1616368333640893
         },
         "mode": "lines",
         "type": "scatter",
         "x": [
          -0.7088749374359014,
          0.36267916195952915,
          null
         ],
         "y": [
          0.006155538675164917,
          -0.41520299019120377,
          null
         ]
        },
        {
         "hoverinfo": "none",
         "line": {
          "color": "pink",
          "width": 0.19064772098173094
         },
         "mode": "lines",
         "type": "scatter",
         "x": [
          -0.7088749374359014,
          -0.08185585602721432,
          null
         ],
         "y": [
          0.006155538675164917,
          0.8479577914255687,
          null
         ]
        },
        {
         "hoverinfo": "none",
         "line": {
          "color": "pink",
          "width": 0.6144270160546226
         },
         "mode": "lines",
         "type": "scatter",
         "x": [
          -0.7088749374359014,
          -0.39338393137232963,
          null
         ],
         "y": [
          0.006155538675164917,
          -0.5251301814798549,
          null
         ]
        },
        {
         "hoverinfo": "none",
         "line": {
          "color": "pink",
          "width": 0.15869902195977117
         },
         "mode": "lines",
         "type": "scatter",
         "x": [
          -0.7088749374359014,
          0.5034352205254935,
          null
         ],
         "y": [
          0.006155538675164917,
          0.45850759286580284,
          null
         ]
        },
        {
         "hoverinfo": "none",
         "line": {
          "color": "pink",
          "width": 1.5258830042443254
         },
         "mode": "lines",
         "type": "scatter",
         "x": [
          -0.7088749374359014,
          -0.672991426451281,
          null
         ],
         "y": [
          0.006155538675164917,
          -0.14046594736057116,
          null
         ]
        },
        {
         "hoverinfo": "none",
         "line": {
          "color": "pink",
          "width": 0.6665731684812696
         },
         "mode": "lines",
         "type": "scatter",
         "x": [
          -0.7088749374359014,
          -0.021012971306782084,
          null
         ],
         "y": [
          0.006155538675164917,
          0.2015352316522645,
          null
         ]
        },
        {
         "hoverinfo": "none",
         "line": {
          "color": "pink",
          "width": 0.19835947591806607
         },
         "mode": "lines",
         "type": "scatter",
         "x": [
          -0.7088749374359014,
          -0.049379822133519505,
          null
         ],
         "y": [
          0.006155538675164917,
          -0.6805747788329322,
          null
         ]
        },
        {
         "hoverinfo": "none",
         "line": {
          "color": "pink",
          "width": 0.8013452666543643
         },
         "mode": "lines",
         "type": "scatter",
         "x": [
          -0.7088749374359014,
          -0.15152979430973731,
          null
         ],
         "y": [
          0.006155538675164917,
          0.38335566686187267,
          null
         ]
        },
        {
         "hoverinfo": "none",
         "line": {
          "color": "pink",
          "width": 3.1952943347481084
         },
         "mode": "lines",
         "type": "scatter",
         "x": [
          -0.7088749374359014,
          -0.5972345903990947,
          null
         ],
         "y": [
          0.006155538675164917,
          -0.2850827697685695,
          null
         ]
        },
        {
         "hoverinfo": "none",
         "line": {
          "color": "pink",
          "width": 0.1043495109798856
         },
         "mode": "lines",
         "type": "scatter",
         "x": [
          -0.7088749374359014,
          -0.5944442695847003,
          null
         ],
         "y": [
          0.006155538675164917,
          0.7288455870977308,
          null
         ]
        },
        {
         "hoverinfo": "none",
         "line": {
          "color": "pink",
          "width": 0.12638309651227164
         },
         "mode": "lines",
         "type": "scatter",
         "x": [
          -0.7088749374359014,
          1,
          null
         ],
         "y": [
          0.006155538675164917,
          -0.6872117277788253,
          null
         ]
        },
        {
         "hoverinfo": "none",
         "line": {
          "color": "pink",
          "width": 1.32904964015501
         },
         "mode": "lines",
         "type": "scatter",
         "x": [
          0.24642169268400346,
          -0.14729601524765254,
          null
         ],
         "y": [
          0.6553414324049309,
          0.0796698527579924,
          null
         ]
        },
        {
         "hoverinfo": "none",
         "line": {
          "color": "pink",
          "width": 0.4029045949437165
         },
         "mode": "lines",
         "type": "scatter",
         "x": [
          0.24642169268400346,
          0.6176406819576419,
          null
         ],
         "y": [
          0.6553414324049309,
          0.07560525408300751,
          null
         ]
        },
        {
         "hoverinfo": "none",
         "line": {
          "color": "pink",
          "width": 0.16641077689610628
         },
         "mode": "lines",
         "type": "scatter",
         "x": [
          0.24642169268400346,
          0.36267916195952915,
          null
         ],
         "y": [
          0.6553414324049309,
          -0.41520299019120377,
          null
         ]
        },
        {
         "hoverinfo": "none",
         "line": {
          "color": "pink",
          "width": 2.0120907916589776
         },
         "mode": "lines",
         "type": "scatter",
         "x": [
          0.24642169268400346,
          -0.08185585602721432,
          null
         ],
         "y": [
          0.6553414324049309,
          0.8479577914255687,
          null
         ]
        },
        {
         "hoverinfo": "none",
         "line": {
          "color": "pink",
          "width": 0.3360693854954788
         },
         "mode": "lines",
         "type": "scatter",
         "x": [
          0.24642169268400346,
          -0.39338393137232963,
          null
         ],
         "y": [
          0.6553414324049309,
          -0.5251301814798549,
          null
         ]
        },
        {
         "hoverinfo": "none",
         "line": {
          "color": "pink",
          "width": 3.3032589038567997
         },
         "mode": "lines",
         "type": "scatter",
         "x": [
          0.24642169268400346,
          0.5034352205254935,
          null
         ],
         "y": [
          0.6553414324049309,
          0.45850759286580284,
          null
         ]
        },
        {
         "hoverinfo": "none",
         "line": {
          "color": "pink",
          "width": 0.19028049455619117
         },
         "mode": "lines",
         "type": "scatter",
         "x": [
          0.24642169268400346,
          -0.672991426451281,
          null
         ],
         "y": [
          0.6553414324049309,
          -0.14046594736057116,
          null
         ]
        },
        {
         "hoverinfo": "none",
         "line": {
          "color": "pink",
          "width": 0.14290828566156116
         },
         "mode": "lines",
         "type": "scatter",
         "x": [
          0.24642169268400346,
          -0.021012971306782084,
          null
         ],
         "y": [
          0.6553414324049309,
          0.2015352316522645,
          null
         ]
        },
        {
         "hoverinfo": "none",
         "line": {
          "color": "pink",
          "width": 0.19064772098173094
         },
         "mode": "lines",
         "type": "scatter",
         "x": [
          0.24642169268400346,
          -0.049379822133519505,
          null
         ],
         "y": [
          0.6553414324049309,
          -0.6805747788329322,
          null
         ]
        },
        {
         "hoverinfo": "none",
         "line": {
          "color": "pink",
          "width": 1.2515648643661192
         },
         "mode": "lines",
         "type": "scatter",
         "x": [
          0.24642169268400346,
          -0.15152979430973731,
          null
         ],
         "y": [
          0.6553414324049309,
          0.38335566686187267,
          null
         ]
        },
        {
         "hoverinfo": "none",
         "line": {
          "color": "pink",
          "width": 0.11977302085255581
         },
         "mode": "lines",
         "type": "scatter",
         "x": [
          0.24642169268400346,
          -0.5972345903990947,
          null
         ],
         "y": [
          0.6553414324049309,
          -0.2850827697685695,
          null
         ]
        },
        {
         "hoverinfo": "none",
         "line": {
          "color": "pink",
          "width": 0.6812622255028603
         },
         "mode": "lines",
         "type": "scatter",
         "x": [
          0.24642169268400346,
          -0.5944442695847003,
          null
         ],
         "y": [
          0.6553414324049309,
          0.7288455870977308,
          null
         ]
        },
        {
         "hoverinfo": "none",
         "line": {
          "color": "pink",
          "width": 0.0826831518730393
         },
         "mode": "lines",
         "type": "scatter",
         "x": [
          0.24642169268400346,
          1,
          null
         ],
         "y": [
          0.6553414324049309,
          -0.6872117277788253,
          null
         ]
        },
        {
         "hoverinfo": "none",
         "line": {
          "color": "pink",
          "width": 2.6422513378852184
         },
         "mode": "lines",
         "type": "scatter",
         "x": [
          -0.14729601524765254,
          0.6176406819576419,
          null
         ],
         "y": [
          0.0796698527579924,
          0.07560525408300751,
          null
         ]
        },
        {
         "hoverinfo": "none",
         "line": {
          "color": "pink",
          "width": 1.9503967521682968
         },
         "mode": "lines",
         "type": "scatter",
         "x": [
          -0.14729601524765254,
          0.36267916195952915,
          null
         ],
         "y": [
          0.0796698527579924,
          -0.41520299019120377,
          null
         ]
        },
        {
         "hoverinfo": "none",
         "line": {
          "color": "pink",
          "width": 2.8600166082303007
         },
         "mode": "lines",
         "type": "scatter",
         "x": [
          -0.14729601524765254,
          -0.08185585602721432,
          null
         ],
         "y": [
          0.0796698527579924,
          0.8479577914255687,
          null
         ]
        },
        {
         "hoverinfo": "none",
         "line": {
          "color": "pink",
          "width": 2.252624100387525
         },
         "mode": "lines",
         "type": "scatter",
         "x": [
          -0.14729601524765254,
          -0.39338393137232963,
          null
         ],
         "y": [
          0.0796698527579924,
          -0.5251301814798549,
          null
         ]
        },
        {
         "hoverinfo": "none",
         "line": {
          "color": "pink",
          "width": 1.8644657685919912
         },
         "mode": "lines",
         "type": "scatter",
         "x": [
          -0.14729601524765254,
          0.5034352205254935,
          null
         ],
         "y": [
          0.0796698527579924,
          0.45850759286580284,
          null
         ]
        },
        {
         "hoverinfo": "none",
         "line": {
          "color": "pink",
          "width": 2.498665805499169
         },
         "mode": "lines",
         "type": "scatter",
         "x": [
          -0.14729601524765254,
          -0.672991426451281,
          null
         ],
         "y": [
          0.0796698527579924,
          -0.14046594736057116,
          null
         ]
        },
        {
         "hoverinfo": "none",
         "line": {
          "color": "pink",
          "width": 9.87477578889094
         },
         "mode": "lines",
         "type": "scatter",
         "x": [
          -0.14729601524765254,
          -0.021012971306782084,
          null
         ],
         "y": [
          0.0796698527579924,
          0.2015352316522645,
          null
         ]
        },
        {
         "hoverinfo": "none",
         "line": {
          "color": "pink",
          "width": 1.556730023989666
         },
         "mode": "lines",
         "type": "scatter",
         "x": [
          -0.14729601524765254,
          -0.049379822133519505,
          null
         ],
         "y": [
          0.0796698527579924,
          -0.6805747788329322,
          null
         ]
        },
        {
         "hoverinfo": "none",
         "line": {
          "color": "pink",
          "width": 3.6539601402472774
         },
         "mode": "lines",
         "type": "scatter",
         "x": [
          -0.14729601524765254,
          -0.15152979430973731,
          null
         ],
         "y": [
          0.0796698527579924,
          0.38335566686187267,
          null
         ]
        },
        {
         "hoverinfo": "none",
         "line": {
          "color": "pink",
          "width": 5.770653257058497
         },
         "mode": "lines",
         "type": "scatter",
         "x": [
          -0.14729601524765254,
          -0.5972345903990947,
          null
         ],
         "y": [
          0.0796698527579924,
          -0.2850827697685695,
          null
         ]
        },
        {
         "hoverinfo": "none",
         "line": {
          "color": "pink",
          "width": 2.175506551024174
         },
         "mode": "lines",
         "type": "scatter",
         "x": [
          -0.14729601524765254,
          -0.5944442695847003,
          null
         ],
         "y": [
          0.0796698527579924,
          0.7288455870977308,
          null
         ]
        },
        {
         "hoverinfo": "none",
         "line": {
          "color": "pink",
          "width": 0.49618010703081744
         },
         "mode": "lines",
         "type": "scatter",
         "x": [
          -0.14729601524765254,
          1,
          null
         ],
         "y": [
          0.0796698527579924,
          -0.6872117277788253,
          null
         ]
        },
        {
         "hoverinfo": "none",
         "line": {
          "color": "pink",
          "width": 1.4546410776896104
         },
         "mode": "lines",
         "type": "scatter",
         "x": [
          0.6176406819576419,
          0.36267916195952915,
          null
         ],
         "y": [
          0.07560525408300751,
          -0.41520299019120377,
          null
         ]
        },
        {
         "hoverinfo": "none",
         "line": {
          "color": "pink",
          "width": 0.18440487174755488
         },
         "mode": "lines",
         "type": "scatter",
         "x": [
          0.6176406819576419,
          -0.08185585602721432,
          null
         ],
         "y": [
          0.07560525408300751,
          0.8479577914255687,
          null
         ]
        },
        {
         "hoverinfo": "none",
         "line": {
          "color": "pink",
          "width": 0.15429230485329395
         },
         "mode": "lines",
         "type": "scatter",
         "x": [
          0.6176406819576419,
          -0.39338393137232963,
          null
         ],
         "y": [
          0.07560525408300751,
          -0.5251301814798549,
          null
         ]
        },
        {
         "hoverinfo": "none",
         "line": {
          "color": "pink",
          "width": 0.6037774497139693
         },
         "mode": "lines",
         "type": "scatter",
         "x": [
          0.6176406819576419,
          0.5034352205254935,
          null
         ],
         "y": [
          0.07560525408300751,
          0.45850759286580284,
          null
         ]
        },
        {
         "hoverinfo": "none",
         "line": {
          "color": "pink",
          "width": 0.18624100387525372
         },
         "mode": "lines",
         "type": "scatter",
         "x": [
          0.6176406819576419,
          -0.672991426451281,
          null
         ],
         "y": [
          0.07560525408300751,
          -0.14046594736057116,
          null
         ]
        },
        {
         "hoverinfo": "none",
         "line": {
          "color": "pink",
          "width": 0.6408673186934859
         },
         "mode": "lines",
         "type": "scatter",
         "x": [
          0.6176406819576419,
          -0.021012971306782084,
          null
         ],
         "y": [
          0.07560525408300751,
          0.2015352316522645,
          null
         ]
        },
        {
         "hoverinfo": "none",
         "line": {
          "color": "pink",
          "width": 0.3683853109429784
         },
         "mode": "lines",
         "type": "scatter",
         "x": [
          0.6176406819576419,
          -0.049379822133519505,
          null
         ],
         "y": [
          0.07560525408300751,
          -0.6805747788329322,
          null
         ]
        },
        {
         "hoverinfo": "none",
         "line": {
          "color": "pink",
          "width": 0.8233788521867503
         },
         "mode": "lines",
         "type": "scatter",
         "x": [
          0.6176406819576419,
          -0.15152979430973731,
          null
         ],
         "y": [
          0.07560525408300751,
          0.38335566686187267,
          null
         ]
        },
        {
         "hoverinfo": "none",
         "line": {
          "color": "pink",
          "width": 0.13115704004428863
         },
         "mode": "lines",
         "type": "scatter",
         "x": [
          0.6176406819576419,
          -0.5972345903990947,
          null
         ],
         "y": [
          0.07560525408300751,
          -0.2850827697685695,
          null
         ]
        },
        {
         "hoverinfo": "none",
         "line": {
          "color": "pink",
          "width": 0.1054511902565049
         },
         "mode": "lines",
         "type": "scatter",
         "x": [
          0.6176406819576419,
          -0.5944442695847003,
          null
         ],
         "y": [
          0.07560525408300751,
          0.7288455870977308,
          null
         ]
        },
        {
         "hoverinfo": "none",
         "line": {
          "color": "pink",
          "width": 0.10875622808636279
         },
         "mode": "lines",
         "type": "scatter",
         "x": [
          0.6176406819576419,
          1,
          null
         ],
         "y": [
          0.07560525408300751,
          -0.6872117277788253,
          null
         ]
        },
        {
         "hoverinfo": "none",
         "line": {
          "color": "pink",
          "width": 0.17045026757704373
         },
         "mode": "lines",
         "type": "scatter",
         "x": [
          0.36267916195952915,
          -0.08185585602721432,
          null
         ],
         "y": [
          -0.41520299019120377,
          0.8479577914255687,
          null
         ]
        },
        {
         "hoverinfo": "none",
         "line": {
          "color": "pink",
          "width": 1.1814246170880236
         },
         "mode": "lines",
         "type": "scatter",
         "x": [
          0.36267916195952915,
          -0.39338393137232963,
          null
         ],
         "y": [
          -0.41520299019120377,
          -0.5251301814798549,
          null
         ]
        },
        {
         "hoverinfo": "none",
         "line": {
          "color": "pink",
          "width": 0.38858276434766553
         },
         "mode": "lines",
         "type": "scatter",
         "x": [
          0.36267916195952915,
          0.5034352205254935,
          null
         ],
         "y": [
          -0.41520299019120377,
          0.45850759286580284,
          null
         ]
        },
        {
         "hoverinfo": "none",
         "line": {
          "color": "pink",
          "width": 0.4903044842221812
         },
         "mode": "lines",
         "type": "scatter",
         "x": [
          0.36267916195952915,
          -0.672991426451281,
          null
         ],
         "y": [
          -0.41520299019120377,
          -0.14046594736057116,
          null
         ]
        },
        {
         "hoverinfo": "none",
         "line": {
          "color": "pink",
          "width": 0.7334083779295073
         },
         "mode": "lines",
         "type": "scatter",
         "x": [
          0.36267916195952915,
          -0.021012971306782084,
          null
         ],
         "y": [
          -0.41520299019120377,
          0.2015352316522645,
          null
         ]
        },
        {
         "hoverinfo": "none",
         "line": {
          "color": "pink",
          "width": 0.794000738143569
         },
         "mode": "lines",
         "type": "scatter",
         "x": [
          0.36267916195952915,
          -0.049379822133519505,
          null
         ],
         "y": [
          -0.41520299019120377,
          -0.6805747788329322,
          null
         ]
        },
        {
         "hoverinfo": "none",
         "line": {
          "color": "pink",
          "width": 0.38858276434766553
         },
         "mode": "lines",
         "type": "scatter",
         "x": [
          0.36267916195952915,
          -0.15152979430973731,
          null
         ],
         "y": [
          -0.41520299019120377,
          0.38335566686187267,
          null
         ]
        },
        {
         "hoverinfo": "none",
         "line": {
          "color": "pink",
          "width": 0.47818601217936885
         },
         "mode": "lines",
         "type": "scatter",
         "x": [
          0.36267916195952915,
          -0.5972345903990947,
          null
         ],
         "y": [
          -0.41520299019120377,
          -0.2850827697685695,
          null
         ]
        },
        {
         "hoverinfo": "none",
         "line": {
          "color": "pink",
          "width": 0.08892600110721535
         },
         "mode": "lines",
         "type": "scatter",
         "x": [
          0.36267916195952915,
          -0.5944442695847003,
          null
         ],
         "y": [
          -0.41520299019120377,
          0.7288455870977308,
          null
         ]
        },
        {
         "hoverinfo": "none",
         "line": {
          "color": "pink",
          "width": 0.08011256689426094
         },
         "mode": "lines",
         "type": "scatter",
         "x": [
          0.36267916195952915,
          1,
          null
         ],
         "y": [
          -0.41520299019120377,
          -0.6872117277788253,
          null
         ]
        },
        {
         "hoverinfo": "none",
         "line": {
          "color": "pink",
          "width": 0.12711754936335118
         },
         "mode": "lines",
         "type": "scatter",
         "x": [
          -0.08185585602721432,
          -0.39338393137232963,
          null
         ],
         "y": [
          0.8479577914255687,
          -0.5251301814798549,
          null
         ]
        },
        {
         "hoverinfo": "none",
         "line": {
          "color": "pink",
          "width": 0.26409300608968445
         },
         "mode": "lines",
         "type": "scatter",
         "x": [
          -0.08185585602721432,
          0.5034352205254935,
          null
         ],
         "y": [
          0.8479577914255687,
          0.45850759286580284,
          null
         ]
        },
        {
         "hoverinfo": "none",
         "line": {
          "color": "pink",
          "width": 0.13629821000184536
         },
         "mode": "lines",
         "type": "scatter",
         "x": [
          -0.08185585602721432,
          -0.672991426451281,
          null
         ],
         "y": [
          0.8479577914255687,
          -0.14046594736057116,
          null
         ]
        },
        {
         "hoverinfo": "none",
         "line": {
          "color": "pink",
          "width": 0.3981306514116995
         },
         "mode": "lines",
         "type": "scatter",
         "x": [
          -0.08185585602721432,
          -0.021012971306782084,
          null
         ],
         "y": [
          0.8479577914255687,
          0.2015352316522645,
          null
         ]
        },
        {
         "hoverinfo": "none",
         "line": {
          "color": "pink",
          "width": 0.08525373685181768
         },
         "mode": "lines",
         "type": "scatter",
         "x": [
          -0.08185585602721432,
          -0.049379822133519505,
          null
         ],
         "y": [
          0.8479577914255687,
          -0.6805747788329322,
          null
         ]
        },
        {
         "hoverinfo": "none",
         "line": {
          "color": "pink",
          "width": 0.4466045395829488
         },
         "mode": "lines",
         "type": "scatter",
         "x": [
          -0.08185585602721432,
          -0.15152979430973731,
          null
         ],
         "y": [
          0.8479577914255687,
          0.38335566686187267,
          null
         ]
        },
        {
         "hoverinfo": "none",
         "line": {
          "color": "pink",
          "width": 0.20607123085440116
         },
         "mode": "lines",
         "type": "scatter",
         "x": [
          -0.08185585602721432,
          -0.5972345903990947,
          null
         ],
         "y": [
          0.8479577914255687,
          -0.2850827697685695,
          null
         ]
        },
        {
         "hoverinfo": "none",
         "line": {
          "color": "pink",
          "width": 0.8891123823583688
         },
         "mode": "lines",
         "type": "scatter",
         "x": [
          -0.08185585602721432,
          -0.5944442695847003,
          null
         ],
         "y": [
          0.8479577914255687,
          0.7288455870977308,
          null
         ]
        },
        {
         "hoverinfo": "none",
         "line": {
          "color": "pink",
          "width": 0.10141169957556745
         },
         "mode": "lines",
         "type": "scatter",
         "x": [
          -0.08185585602721432,
          1,
          null
         ],
         "y": [
          0.8479577914255687,
          -0.6872117277788253,
          null
         ]
        },
        {
         "hoverinfo": "none",
         "line": {
          "color": "pink",
          "width": 0.22222919357815096
         },
         "mode": "lines",
         "type": "scatter",
         "x": [
          -0.39338393137232963,
          0.5034352205254935,
          null
         ],
         "y": [
          -0.5251301814798549,
          0.45850759286580284,
          null
         ]
        },
        {
         "hoverinfo": "none",
         "line": {
          "color": "pink",
          "width": 1.6823214615242663
         },
         "mode": "lines",
         "type": "scatter",
         "x": [
          -0.39338393137232963,
          -0.672991426451281,
          null
         ],
         "y": [
          -0.5251301814798549,
          -0.14046594736057116,
          null
         ]
        },
        {
         "hoverinfo": "none",
         "line": {
          "color": "pink",
          "width": 0.39372393430522235
         },
         "mode": "lines",
         "type": "scatter",
         "x": [
          -0.39338393137232963,
          -0.021012971306782084,
          null
         ],
         "y": [
          -0.5251301814798549,
          0.2015352316522645,
          null
         ]
        },
        {
         "hoverinfo": "none",
         "line": {
          "color": "pink",
          "width": 1.3532865842406347
         },
         "mode": "lines",
         "type": "scatter",
         "x": [
          -0.39338393137232963,
          -0.049379822133519505,
          null
         ],
         "y": [
          -0.5251301814798549,
          -0.6805747788329322,
          null
         ]
        },
        {
         "hoverinfo": "none",
         "line": {
          "color": "pink",
          "width": 0.35222734821922863
         },
         "mode": "lines",
         "type": "scatter",
         "x": [
          -0.39338393137232963,
          -0.15152979430973731,
          null
         ],
         "y": [
          -0.5251301814798549,
          0.38335566686187267,
          null
         ]
        },
        {
         "hoverinfo": "none",
         "line": {
          "color": "pink",
          "width": 3.804890201144122
         },
         "mode": "lines",
         "type": "scatter",
         "x": [
          -0.39338393137232963,
          -0.5972345903990947,
          null
         ],
         "y": [
          -0.5251301814798549,
          -0.2850827697685695,
          null
         ]
        },
        {
         "hoverinfo": "none",
         "line": {
          "color": "pink",
          "width": 0.10031002029894814
         },
         "mode": "lines",
         "type": "scatter",
         "x": [
          -0.39338393137232963,
          -0.5944442695847003,
          null
         ],
         "y": [
          -0.5251301814798549,
          0.7288455870977308,
          null
         ]
        },
        {
         "hoverinfo": "none",
         "line": {
          "color": "pink",
          "width": 0.11646798302269791
         },
         "mode": "lines",
         "type": "scatter",
         "x": [
          -0.39338393137232963,
          1,
          null
         ],
         "y": [
          -0.5251301814798549,
          -0.6872117277788253,
          null
         ]
        },
        {
         "hoverinfo": "none",
         "line": {
          "color": "pink",
          "width": 0.11463185089499907
         },
         "mode": "lines",
         "type": "scatter",
         "x": [
          0.5034352205254935,
          -0.672991426451281,
          null
         ],
         "y": [
          0.45850759286580284,
          -0.14046594736057116,
          null
         ]
        },
        {
         "hoverinfo": "none",
         "line": {
          "color": "pink",
          "width": 1.0106643292120316
         },
         "mode": "lines",
         "type": "scatter",
         "x": [
          0.5034352205254935,
          -0.021012971306782084,
          null
         ],
         "y": [
          0.45850759286580284,
          0.2015352316522645,
          null
         ]
        },
        {
         "hoverinfo": "none",
         "line": {
          "color": "pink",
          "width": 0.1708174940025835
         },
         "mode": "lines",
         "type": "scatter",
         "x": [
          0.5034352205254935,
          -0.049379822133519505,
          null
         ],
         "y": [
          0.45850759286580284,
          -0.6805747788329322,
          null
         ]
        },
        {
         "hoverinfo": "none",
         "line": {
          "color": "pink",
          "width": 0.40400627422033586
         },
         "mode": "lines",
         "type": "scatter",
         "x": [
          0.5034352205254935,
          -0.15152979430973731,
          null
         ],
         "y": [
          0.45850759286580284,
          0.38335566686187267,
          null
         ]
        },
        {
         "hoverinfo": "none",
         "line": {
          "color": "pink",
          "width": 0.12234360583133419
         },
         "mode": "lines",
         "type": "scatter",
         "x": [
          0.5034352205254935,
          -0.5972345903990947,
          null
         ],
         "y": [
          0.45850759286580284,
          -0.2850827697685695,
          null
         ]
        },
        {
         "hoverinfo": "none",
         "line": {
          "color": "pink",
          "width": 0.09884111459678907
         },
         "mode": "lines",
         "type": "scatter",
         "x": [
          0.5034352205254935,
          -0.5944442695847003,
          null
         ],
         "y": [
          0.45850759286580284,
          0.7288455870977308,
          null
         ]
        },
        {
         "hoverinfo": "none",
         "line": {
          "color": "pink",
          "width": 0.14107215353386232
         },
         "mode": "lines",
         "type": "scatter",
         "x": [
          0.5034352205254935,
          1,
          null
         ],
         "y": [
          0.45850759286580284,
          -0.6872117277788253,
          null
         ]
        },
        {
         "hoverinfo": "none",
         "line": {
          "color": "pink",
          "width": 0.46239527588115886
         },
         "mode": "lines",
         "type": "scatter",
         "x": [
          -0.672991426451281,
          -0.021012971306782084,
          null
         ],
         "y": [
          -0.14046594736057116,
          0.2015352316522645,
          null
         ]
        },
        {
         "hoverinfo": "none",
         "line": {
          "color": "pink",
          "width": 0.4657003137110167
         },
         "mode": "lines",
         "type": "scatter",
         "x": [
          -0.672991426451281,
          -0.049379822133519505,
          null
         ],
         "y": [
          -0.14046594736057116,
          -0.6805747788329322,
          null
         ]
        },
        {
         "hoverinfo": "none",
         "line": {
          "color": "pink",
          "width": 0.5545691086916404
         },
         "mode": "lines",
         "type": "scatter",
         "x": [
          -0.672991426451281,
          -0.15152979430973731,
          null
         ],
         "y": [
          -0.14046594736057116,
          0.38335566686187267,
          null
         ]
        },
        {
         "hoverinfo": "none",
         "line": {
          "color": "pink",
          "width": 2.4758977671157036
         },
         "mode": "lines",
         "type": "scatter",
         "x": [
          -0.672991426451281,
          -0.5972345903990947,
          null
         ],
         "y": [
          -0.14046594736057116,
          -0.2850827697685695,
          null
         ]
        },
        {
         "hoverinfo": "none",
         "line": {
          "color": "pink",
          "width": 0.08525373685181768
         },
         "mode": "lines",
         "type": "scatter",
         "x": [
          -0.672991426451281,
          -0.5944442695847003,
          null
         ],
         "y": [
          -0.14046594736057116,
          0.7288455870977308,
          null
         ]
        },
        {
         "hoverinfo": "none",
         "line": {
          "color": "pink",
          "width": 0.09259826536261304
         },
         "mode": "lines",
         "type": "scatter",
         "x": [
          -0.672991426451281,
          1,
          null
         ],
         "y": [
          -0.14046594736057116,
          -0.6872117277788253,
          null
         ]
        },
        {
         "hoverinfo": "none",
         "line": {
          "color": "pink",
          "width": 0.376831518730393
         },
         "mode": "lines",
         "type": "scatter",
         "x": [
          -0.021012971306782084,
          -0.049379822133519505,
          null
         ],
         "y": [
          0.2015352316522645,
          -0.6805747788329322,
          null
         ]
        },
        {
         "hoverinfo": "none",
         "line": {
          "color": "pink",
          "width": 1.128544011810297
         },
         "mode": "lines",
         "type": "scatter",
         "x": [
          -0.021012971306782084,
          -0.15152979430973731,
          null
         ],
         "y": [
          0.2015352316522645,
          0.38335566686187267,
          null
         ]
        },
        {
         "hoverinfo": "none",
         "line": {
          "color": "pink",
          "width": 0.7785772282708987
         },
         "mode": "lines",
         "type": "scatter",
         "x": [
          -0.021012971306782084,
          -0.5972345903990947,
          null
         ],
         "y": [
          0.2015352316522645,
          -0.2850827697685695,
          null
         ]
        },
        {
         "hoverinfo": "none",
         "line": {
          "color": "pink",
          "width": 0.34855508396383095
         },
         "mode": "lines",
         "type": "scatter",
         "x": [
          -0.021012971306782084,
          -0.5944442695847003,
          null
         ],
         "y": [
          0.2015352316522645,
          0.7288455870977308,
          null
         ]
        },
        {
         "hoverinfo": "none",
         "line": {
          "color": "pink",
          "width": 0.23544934489758257
         },
         "mode": "lines",
         "type": "scatter",
         "x": [
          -0.021012971306782084,
          1,
          null
         ],
         "y": [
          0.2015352316522645,
          -0.6872117277788253,
          null
         ]
        },
        {
         "hoverinfo": "none",
         "line": {
          "color": "pink",
          "width": 0.3434139140062742
         },
         "mode": "lines",
         "type": "scatter",
         "x": [
          -0.049379822133519505,
          -0.15152979430973731,
          null
         ],
         "y": [
          -0.6805747788329322,
          0.38335566686187267,
          null
         ]
        },
        {
         "hoverinfo": "none",
         "line": {
          "color": "pink",
          "width": 1.0525281417235652
         },
         "mode": "lines",
         "type": "scatter",
         "x": [
          -0.049379822133519505,
          -0.5972345903990947,
          null
         ],
         "y": [
          -0.6805747788329322,
          -0.2850827697685695,
          null
         ]
        },
        {
         "hoverinfo": "none",
         "line": {
          "color": "pink",
          "width": 0.12381251153349326
         },
         "mode": "lines",
         "type": "scatter",
         "x": [
          -0.049379822133519505,
          -0.5944442695847003,
          null
         ],
         "y": [
          -0.6805747788329322,
          0.7288455870977308,
          null
         ]
        },
        {
         "hoverinfo": "none",
         "line": {
          "color": "pink",
          "width": 0.08341760472411884
         },
         "mode": "lines",
         "type": "scatter",
         "x": [
          -0.049379822133519505,
          1,
          null
         ],
         "y": [
          -0.6805747788329322,
          -0.6872117277788253,
          null
         ]
        },
        {
         "hoverinfo": "none",
         "line": {
          "color": "pink",
          "width": 1.0598726702343606
         },
         "mode": "lines",
         "type": "scatter",
         "x": [
          -0.15152979430973731,
          -0.5972345903990947,
          null
         ],
         "y": [
          0.38335566686187267,
          -0.2850827697685695,
          null
         ]
        },
        {
         "hoverinfo": "none",
         "line": {
          "color": "pink",
          "width": 0.18917881527957187
         },
         "mode": "lines",
         "type": "scatter",
         "x": [
          -0.15152979430973731,
          -0.5944442695847003,
          null
         ],
         "y": [
          0.38335566686187267,
          0.7288455870977308,
          null
         ]
        },
        {
         "hoverinfo": "none",
         "line": {
          "color": "pink",
          "width": 0.1436427385126407
         },
         "mode": "lines",
         "type": "scatter",
         "x": [
          -0.15152979430973731,
          1,
          null
         ],
         "y": [
          0.38335566686187267,
          -0.6872117277788253,
          null
         ]
        },
        {
         "hoverinfo": "none",
         "line": {
          "color": "pink",
          "width": 0.20019560804576492
         },
         "mode": "lines",
         "type": "scatter",
         "x": [
          -0.5972345903990947,
          -0.5944442695847003,
          null
         ],
         "y": [
          -0.2850827697685695,
          0.7288455870977308,
          null
         ]
        },
        {
         "hoverinfo": "none",
         "line": {
          "color": "pink",
          "width": 0.12381251153349326
         },
         "mode": "lines",
         "type": "scatter",
         "x": [
          -0.5972345903990947,
          1,
          null
         ],
         "y": [
          -0.2850827697685695,
          -0.6872117277788253,
          null
         ]
        },
        {
         "hoverinfo": "none",
         "line": {
          "color": "pink",
          "width": 0.08525373685181768
         },
         "mode": "lines",
         "type": "scatter",
         "x": [
          -0.5944442695847003,
          1,
          null
         ],
         "y": [
          0.7288455870977308,
          -0.6872117277788253,
          null
         ]
        },
        {
         "hoverinfo": "text",
         "hovertext": [
          "Total Movies: 42236",
          "Total Movies: 22258",
          "Total Movies: 53451",
          "Total Movies: 132107",
          "Total Movies: 31879",
          "Total Movies: 154462",
          "Total Movies: 214583",
          "Total Movies: 26729",
          "Total Movies: 21277",
          "Total Movies: 15875",
          "Total Movies: 48079",
          "Total Movies: 46198",
          "Total Movies: 18462",
          "Total Movies: 51028",
          "Total Movies: 19814",
          "Total Movies: 22826",
          "Total Movies: 43641",
          "Total Movies: 10114",
          "Total Movies: 8560"
         ],
         "marker": {
          "color": [
           3,
           3,
           3,
           2,
           0,
           1,
           2,
           3,
           3,
           1,
           0,
           1,
           0,
           2,
           3,
           2,
           0,
           1,
           3
          ],
          "colorscale": [
           [
            0,
            "#440154"
           ],
           [
            0.1111111111111111,
            "#482878"
           ],
           [
            0.2222222222222222,
            "#3e4989"
           ],
           [
            0.3333333333333333,
            "#31688e"
           ],
           [
            0.4444444444444444,
            "#26828e"
           ],
           [
            0.5555555555555556,
            "#1f9e89"
           ],
           [
            0.6666666666666666,
            "#35b779"
           ],
           [
            0.7777777777777778,
            "#6ece58"
           ],
           [
            0.8888888888888888,
            "#b5de2b"
           ],
           [
            1,
            "#fde725"
           ]
          ],
          "showscale": false,
          "size": [
           422360,
           222580,
           534510,
           1321070,
           318790,
           1544620,
           2145830,
           267290,
           212770,
           158750,
           480790,
           461980,
           184620,
           510280,
           198140,
           228260,
           436410,
           101140,
           85600
          ],
          "sizemin": 4,
          "sizemode": "area",
          "sizeref": 2682.2875
         },
         "mode": "markers+text",
         "text": [
          "Action",
          "Adventure",
          "Animation",
          "Comedy",
          "Crime",
          "Documentary",
          "Drama",
          "Family",
          "Fantasy",
          "History",
          "Horror",
          "Music",
          "Mystery",
          "Romance",
          "ScienceFiction",
          "TVMovie",
          "Thriller",
          "War",
          "Western"
         ],
         "textposition": "top center",
         "type": "scatter",
         "x": [
          -0.08102839010759641,
          0.14518052791209826,
          0.48742567679143967,
          0.13624904254562706,
          -0.7088749374359014,
          0.24642169268400346,
          -0.14729601524765254,
          0.6176406819576419,
          0.36267916195952915,
          -0.08185585602721432,
          -0.39338393137232963,
          0.5034352205254935,
          -0.672991426451281,
          -0.021012971306782084,
          -0.049379822133519505,
          -0.15152979430973731,
          -0.5972345903990947,
          -0.5944442695847003,
          1
         ],
         "y": [
          -0.27268232549159205,
          -0.34392270586567825,
          -0.06176839651297817,
          -0.02493212454216236,
          0.006155538675164917,
          0.6553414324049309,
          0.0796698527579924,
          0.07560525408300751,
          -0.41520299019120377,
          0.8479577914255687,
          -0.5251301814798549,
          0.45850759286580284,
          -0.14046594736057116,
          0.2015352316522645,
          -0.6805747788329322,
          0.38335566686187267,
          -0.2850827697685695,
          0.7288455870977308,
          -0.6872117277788253
         ]
        }
       ],
       "layout": {
        "font": {
         "family": "Courier New, monospace"
        },
        "hovermode": "closest",
        "margin": {
         "b": 20,
         "l": 5,
         "r": 5,
         "t": 40
        },
        "paper_bgcolor": "rgba(0,0,0,0)",
        "plot_bgcolor": "rgba(0,0,0,0)",
        "showlegend": false,
        "template": {
         "data": {
          "bar": [
           {
            "error_x": {
             "color": "#2a3f5f"
            },
            "error_y": {
             "color": "#2a3f5f"
            },
            "marker": {
             "line": {
              "color": "#E5ECF6",
              "width": 0.5
             },
             "pattern": {
              "fillmode": "overlay",
              "size": 10,
              "solidity": 0.2
             }
            },
            "type": "bar"
           }
          ],
          "barpolar": [
           {
            "marker": {
             "line": {
              "color": "#E5ECF6",
              "width": 0.5
             },
             "pattern": {
              "fillmode": "overlay",
              "size": 10,
              "solidity": 0.2
             }
            },
            "type": "barpolar"
           }
          ],
          "carpet": [
           {
            "aaxis": {
             "endlinecolor": "#2a3f5f",
             "gridcolor": "white",
             "linecolor": "white",
             "minorgridcolor": "white",
             "startlinecolor": "#2a3f5f"
            },
            "baxis": {
             "endlinecolor": "#2a3f5f",
             "gridcolor": "white",
             "linecolor": "white",
             "minorgridcolor": "white",
             "startlinecolor": "#2a3f5f"
            },
            "type": "carpet"
           }
          ],
          "choropleth": [
           {
            "colorbar": {
             "outlinewidth": 0,
             "ticks": ""
            },
            "type": "choropleth"
           }
          ],
          "contour": [
           {
            "colorbar": {
             "outlinewidth": 0,
             "ticks": ""
            },
            "colorscale": [
             [
              0,
              "#0d0887"
             ],
             [
              0.1111111111111111,
              "#46039f"
             ],
             [
              0.2222222222222222,
              "#7201a8"
             ],
             [
              0.3333333333333333,
              "#9c179e"
             ],
             [
              0.4444444444444444,
              "#bd3786"
             ],
             [
              0.5555555555555556,
              "#d8576b"
             ],
             [
              0.6666666666666666,
              "#ed7953"
             ],
             [
              0.7777777777777778,
              "#fb9f3a"
             ],
             [
              0.8888888888888888,
              "#fdca26"
             ],
             [
              1,
              "#f0f921"
             ]
            ],
            "type": "contour"
           }
          ],
          "contourcarpet": [
           {
            "colorbar": {
             "outlinewidth": 0,
             "ticks": ""
            },
            "type": "contourcarpet"
           }
          ],
          "heatmap": [
           {
            "colorbar": {
             "outlinewidth": 0,
             "ticks": ""
            },
            "colorscale": [
             [
              0,
              "#0d0887"
             ],
             [
              0.1111111111111111,
              "#46039f"
             ],
             [
              0.2222222222222222,
              "#7201a8"
             ],
             [
              0.3333333333333333,
              "#9c179e"
             ],
             [
              0.4444444444444444,
              "#bd3786"
             ],
             [
              0.5555555555555556,
              "#d8576b"
             ],
             [
              0.6666666666666666,
              "#ed7953"
             ],
             [
              0.7777777777777778,
              "#fb9f3a"
             ],
             [
              0.8888888888888888,
              "#fdca26"
             ],
             [
              1,
              "#f0f921"
             ]
            ],
            "type": "heatmap"
           }
          ],
          "heatmapgl": [
           {
            "colorbar": {
             "outlinewidth": 0,
             "ticks": ""
            },
            "colorscale": [
             [
              0,
              "#0d0887"
             ],
             [
              0.1111111111111111,
              "#46039f"
             ],
             [
              0.2222222222222222,
              "#7201a8"
             ],
             [
              0.3333333333333333,
              "#9c179e"
             ],
             [
              0.4444444444444444,
              "#bd3786"
             ],
             [
              0.5555555555555556,
              "#d8576b"
             ],
             [
              0.6666666666666666,
              "#ed7953"
             ],
             [
              0.7777777777777778,
              "#fb9f3a"
             ],
             [
              0.8888888888888888,
              "#fdca26"
             ],
             [
              1,
              "#f0f921"
             ]
            ],
            "type": "heatmapgl"
           }
          ],
          "histogram": [
           {
            "marker": {
             "pattern": {
              "fillmode": "overlay",
              "size": 10,
              "solidity": 0.2
             }
            },
            "type": "histogram"
           }
          ],
          "histogram2d": [
           {
            "colorbar": {
             "outlinewidth": 0,
             "ticks": ""
            },
            "colorscale": [
             [
              0,
              "#0d0887"
             ],
             [
              0.1111111111111111,
              "#46039f"
             ],
             [
              0.2222222222222222,
              "#7201a8"
             ],
             [
              0.3333333333333333,
              "#9c179e"
             ],
             [
              0.4444444444444444,
              "#bd3786"
             ],
             [
              0.5555555555555556,
              "#d8576b"
             ],
             [
              0.6666666666666666,
              "#ed7953"
             ],
             [
              0.7777777777777778,
              "#fb9f3a"
             ],
             [
              0.8888888888888888,
              "#fdca26"
             ],
             [
              1,
              "#f0f921"
             ]
            ],
            "type": "histogram2d"
           }
          ],
          "histogram2dcontour": [
           {
            "colorbar": {
             "outlinewidth": 0,
             "ticks": ""
            },
            "colorscale": [
             [
              0,
              "#0d0887"
             ],
             [
              0.1111111111111111,
              "#46039f"
             ],
             [
              0.2222222222222222,
              "#7201a8"
             ],
             [
              0.3333333333333333,
              "#9c179e"
             ],
             [
              0.4444444444444444,
              "#bd3786"
             ],
             [
              0.5555555555555556,
              "#d8576b"
             ],
             [
              0.6666666666666666,
              "#ed7953"
             ],
             [
              0.7777777777777778,
              "#fb9f3a"
             ],
             [
              0.8888888888888888,
              "#fdca26"
             ],
             [
              1,
              "#f0f921"
             ]
            ],
            "type": "histogram2dcontour"
           }
          ],
          "mesh3d": [
           {
            "colorbar": {
             "outlinewidth": 0,
             "ticks": ""
            },
            "type": "mesh3d"
           }
          ],
          "parcoords": [
           {
            "line": {
             "colorbar": {
              "outlinewidth": 0,
              "ticks": ""
             }
            },
            "type": "parcoords"
           }
          ],
          "pie": [
           {
            "automargin": true,
            "type": "pie"
           }
          ],
          "scatter": [
           {
            "fillpattern": {
             "fillmode": "overlay",
             "size": 10,
             "solidity": 0.2
            },
            "type": "scatter"
           }
          ],
          "scatter3d": [
           {
            "line": {
             "colorbar": {
              "outlinewidth": 0,
              "ticks": ""
             }
            },
            "marker": {
             "colorbar": {
              "outlinewidth": 0,
              "ticks": ""
             }
            },
            "type": "scatter3d"
           }
          ],
          "scattercarpet": [
           {
            "marker": {
             "colorbar": {
              "outlinewidth": 0,
              "ticks": ""
             }
            },
            "type": "scattercarpet"
           }
          ],
          "scattergeo": [
           {
            "marker": {
             "colorbar": {
              "outlinewidth": 0,
              "ticks": ""
             }
            },
            "type": "scattergeo"
           }
          ],
          "scattergl": [
           {
            "marker": {
             "colorbar": {
              "outlinewidth": 0,
              "ticks": ""
             }
            },
            "type": "scattergl"
           }
          ],
          "scattermapbox": [
           {
            "marker": {
             "colorbar": {
              "outlinewidth": 0,
              "ticks": ""
             }
            },
            "type": "scattermapbox"
           }
          ],
          "scatterpolar": [
           {
            "marker": {
             "colorbar": {
              "outlinewidth": 0,
              "ticks": ""
             }
            },
            "type": "scatterpolar"
           }
          ],
          "scatterpolargl": [
           {
            "marker": {
             "colorbar": {
              "outlinewidth": 0,
              "ticks": ""
             }
            },
            "type": "scatterpolargl"
           }
          ],
          "scatterternary": [
           {
            "marker": {
             "colorbar": {
              "outlinewidth": 0,
              "ticks": ""
             }
            },
            "type": "scatterternary"
           }
          ],
          "surface": [
           {
            "colorbar": {
             "outlinewidth": 0,
             "ticks": ""
            },
            "colorscale": [
             [
              0,
              "#0d0887"
             ],
             [
              0.1111111111111111,
              "#46039f"
             ],
             [
              0.2222222222222222,
              "#7201a8"
             ],
             [
              0.3333333333333333,
              "#9c179e"
             ],
             [
              0.4444444444444444,
              "#bd3786"
             ],
             [
              0.5555555555555556,
              "#d8576b"
             ],
             [
              0.6666666666666666,
              "#ed7953"
             ],
             [
              0.7777777777777778,
              "#fb9f3a"
             ],
             [
              0.8888888888888888,
              "#fdca26"
             ],
             [
              1,
              "#f0f921"
             ]
            ],
            "type": "surface"
           }
          ],
          "table": [
           {
            "cells": {
             "fill": {
              "color": "#EBF0F8"
             },
             "line": {
              "color": "white"
             }
            },
            "header": {
             "fill": {
              "color": "#C8D4E3"
             },
             "line": {
              "color": "white"
             }
            },
            "type": "table"
           }
          ]
         },
         "layout": {
          "annotationdefaults": {
           "arrowcolor": "#2a3f5f",
           "arrowhead": 0,
           "arrowwidth": 1
          },
          "autotypenumbers": "strict",
          "coloraxis": {
           "colorbar": {
            "outlinewidth": 0,
            "ticks": ""
           }
          },
          "colorscale": {
           "diverging": [
            [
             0,
             "#8e0152"
            ],
            [
             0.1,
             "#c51b7d"
            ],
            [
             0.2,
             "#de77ae"
            ],
            [
             0.3,
             "#f1b6da"
            ],
            [
             0.4,
             "#fde0ef"
            ],
            [
             0.5,
             "#f7f7f7"
            ],
            [
             0.6,
             "#e6f5d0"
            ],
            [
             0.7,
             "#b8e186"
            ],
            [
             0.8,
             "#7fbc41"
            ],
            [
             0.9,
             "#4d9221"
            ],
            [
             1,
             "#276419"
            ]
           ],
           "sequential": [
            [
             0,
             "#0d0887"
            ],
            [
             0.1111111111111111,
             "#46039f"
            ],
            [
             0.2222222222222222,
             "#7201a8"
            ],
            [
             0.3333333333333333,
             "#9c179e"
            ],
            [
             0.4444444444444444,
             "#bd3786"
            ],
            [
             0.5555555555555556,
             "#d8576b"
            ],
            [
             0.6666666666666666,
             "#ed7953"
            ],
            [
             0.7777777777777778,
             "#fb9f3a"
            ],
            [
             0.8888888888888888,
             "#fdca26"
            ],
            [
             1,
             "#f0f921"
            ]
           ],
           "sequentialminus": [
            [
             0,
             "#0d0887"
            ],
            [
             0.1111111111111111,
             "#46039f"
            ],
            [
             0.2222222222222222,
             "#7201a8"
            ],
            [
             0.3333333333333333,
             "#9c179e"
            ],
            [
             0.4444444444444444,
             "#bd3786"
            ],
            [
             0.5555555555555556,
             "#d8576b"
            ],
            [
             0.6666666666666666,
             "#ed7953"
            ],
            [
             0.7777777777777778,
             "#fb9f3a"
            ],
            [
             0.8888888888888888,
             "#fdca26"
            ],
            [
             1,
             "#f0f921"
            ]
           ]
          },
          "colorway": [
           "#636efa",
           "#EF553B",
           "#00cc96",
           "#ab63fa",
           "#FFA15A",
           "#19d3f3",
           "#FF6692",
           "#B6E880",
           "#FF97FF",
           "#FECB52"
          ],
          "font": {
           "color": "#2a3f5f"
          },
          "geo": {
           "bgcolor": "white",
           "lakecolor": "white",
           "landcolor": "#E5ECF6",
           "showlakes": true,
           "showland": true,
           "subunitcolor": "white"
          },
          "hoverlabel": {
           "align": "left"
          },
          "hovermode": "closest",
          "mapbox": {
           "style": "light"
          },
          "paper_bgcolor": "white",
          "plot_bgcolor": "#E5ECF6",
          "polar": {
           "angularaxis": {
            "gridcolor": "white",
            "linecolor": "white",
            "ticks": ""
           },
           "bgcolor": "#E5ECF6",
           "radialaxis": {
            "gridcolor": "white",
            "linecolor": "white",
            "ticks": ""
           }
          },
          "scene": {
           "xaxis": {
            "backgroundcolor": "#E5ECF6",
            "gridcolor": "white",
            "gridwidth": 2,
            "linecolor": "white",
            "showbackground": true,
            "ticks": "",
            "zerolinecolor": "white"
           },
           "yaxis": {
            "backgroundcolor": "#E5ECF6",
            "gridcolor": "white",
            "gridwidth": 2,
            "linecolor": "white",
            "showbackground": true,
            "ticks": "",
            "zerolinecolor": "white"
           },
           "zaxis": {
            "backgroundcolor": "#E5ECF6",
            "gridcolor": "white",
            "gridwidth": 2,
            "linecolor": "white",
            "showbackground": true,
            "ticks": "",
            "zerolinecolor": "white"
           }
          },
          "shapedefaults": {
           "line": {
            "color": "#2a3f5f"
           }
          },
          "ternary": {
           "aaxis": {
            "gridcolor": "white",
            "linecolor": "white",
            "ticks": ""
           },
           "baxis": {
            "gridcolor": "white",
            "linecolor": "white",
            "ticks": ""
           },
           "bgcolor": "#E5ECF6",
           "caxis": {
            "gridcolor": "white",
            "linecolor": "white",
            "ticks": ""
           }
          },
          "title": {
           "x": 0.05
          },
          "xaxis": {
           "automargin": true,
           "gridcolor": "white",
           "linecolor": "white",
           "ticks": "",
           "title": {
            "standoff": 15
           },
           "zerolinecolor": "white",
           "zerolinewidth": 2
          },
          "yaxis": {
           "automargin": true,
           "gridcolor": "white",
           "linecolor": "white",
           "ticks": "",
           "title": {
            "standoff": 15
           },
           "zerolinecolor": "white",
           "zerolinewidth": 2
          }
         }
        },
        "title": {
         "font": {
          "size": 16
         },
         "text": "Genre Network Graph"
        },
        "xaxis": {
         "showgrid": false,
         "showticklabels": false,
         "zeroline": false
        },
        "yaxis": {
         "showgrid": false,
         "showticklabels": false,
         "zeroline": false
        }
       }
      }
     },
     "metadata": {},
     "output_type": "display_data"
    }
   ],
   "source": [
    "import pandas as pd\n",
    "import networkx as nx\n",
    "import plotly.graph_objects as go\n",
    "from itertools import combinations\n",
    "import community as community_louvain\n",
    "\n",
    "df = genres_expanded\n",
    "\n",
    "G = nx.Graph()\n",
    "\n",
    "for genre in df.columns:\n",
    "    total_movies = df[genre].sum()\n",
    "    G.add_node(genre, size=total_movies, total_movies=total_movies)\n",
    "\n",
    "for (genre1, genre2) in combinations(df.columns, 2):\n",
    "    weight = (df[genre1] & df[genre2]).sum()\n",
    "    if weight > 0:\n",
    "        G.add_edge(genre1, genre2, weight=weight)\n",
    "\n",
    "partition = community_louvain.best_partition(G)\n",
    "\n",
    "pos = nx.spring_layout(G, k=0.3, seed=101)\n",
    "\n",
    "fig = go.Figure()\n",
    "\n",
    "min_width = 0.05\n",
    "max_width = 10\n",
    "\n",
    "max_weight = max(edge[2]['weight'] for edge in G.edges(data=True))\n",
    "\n",
    "for edge in G.edges(data=True):\n",
    "    x0, y0 = pos[edge[0]]\n",
    "    x1, y1 = pos[edge[1]]\n",
    "    weight = edge[2]['weight']\n",
    "    edge_width = (weight / max_weight) * (max_width - min_width) + min_width\n",
    "\n",
    "    fig.add_trace(go.Scatter(\n",
    "        x=[x0, x1, None],\n",
    "        y=[y0, y1, None],\n",
    "        mode='lines',\n",
    "        line=dict(width=edge_width, color='pink'),\n",
    "        hoverinfo='none'\n",
    "    ))\n",
    "\n",
    "sizes = [G.nodes[node]['size']*10 for node in G.nodes()]\n",
    "node_trace = go.Scatter(\n",
    "    x=[pos[node][0] for node in G.nodes()],\n",
    "    y=[pos[node][1] for node in G.nodes()],\n",
    "    mode='markers+text',\n",
    "    marker=dict(\n",
    "        showscale=False,\n",
    "        colorscale='Viridis',\n",
    "        size=sizes,\n",
    "        color=list(partition.values()),\n",
    "        sizemode='area',\n",
    "        sizeref=2.*max(sizes)/(40.**2),\n",
    "        sizemin=4\n",
    "    ),\n",
    "    text=[f\"{node}\" for node in G.nodes()],\n",
    "    textposition=\"top center\",\n",
    "    hoverinfo='text',\n",
    "    hovertext=[f\"Total Movies: {G.nodes[node]['total_movies']}\" for node in G.nodes()]\n",
    ")\n",
    "\n",
    "fig.add_trace(node_trace)\n",
    "\n",
    "fig.update_layout(\n",
    "    title='Genre Network Graph',\n",
    "    # New Font\n",
    "    font=dict(\n",
    "        family=\"Courier New, monospace\",\n",
    "    ),\n",
    "    title_font = dict(\n",
    "        size = 16\n",
    "    ),\n",
    "    hovermode='closest',\n",
    "    showlegend=False,\n",
    "    margin=dict(b=20, l=5, r=5, t=40),\n",
    "    plot_bgcolor='rgba(0,0,0,0)',\n",
    "    paper_bgcolor='rgba(0,0,0,0)',\n",
    "    xaxis=dict(showgrid=False, zeroline=False, showticklabels=False),\n",
    "    yaxis=dict(showgrid=False, zeroline=False, showticklabels=False)\n",
    ")\n",
    "\n",
    "fig.show()\n",
    "fig.write_html('network_graph_of_movie_genres.html')\n"
   ]
  },
  {
   "cell_type": "markdown",
   "metadata": {},
   "source": [
    "#### 3.1.2 Rating Bar Plot and World Maps"
   ]
  },
  {
   "cell_type": "markdown",
   "metadata": {},
   "source": [
    "Here we first wanted to create a bar plot showing the distribution of movies per genere overall, and for each of them to have the average rating to eventually observe something interesting"
   ]
  },
  {
   "cell_type": "code",
   "execution_count": null,
   "metadata": {},
   "outputs": [],
   "source": [
    "import pandas as pd\n",
    "import plotly.graph_objs as go\n",
    "from plotly.subplots import make_subplots"
   ]
  },
  {
   "cell_type": "code",
   "execution_count": null,
   "metadata": {},
   "outputs": [],
   "source": [
    "df = pd.read_csv(\"TMDB_movie_dataset_v11.csv\")"
   ]
  },
  {
   "cell_type": "markdown",
   "metadata": {},
   "source": [
    "Again Dummy Variables are created"
   ]
  },
  {
   "cell_type": "code",
   "execution_count": null,
   "metadata": {},
   "outputs": [],
   "source": [
    "genres_expanded = df['genres'].str.replace(\" \", \"\").str.get_dummies(sep=',')\n",
    "df = pd.concat([df, genres_expanded], axis=1)"
   ]
  },
  {
   "cell_type": "markdown",
   "metadata": {},
   "source": [
    "We distinguish here between the average rating (average of all movies in genre) and the weighted average rating (average of each vote per genre)"
   ]
  },
  {
   "cell_type": "code",
   "execution_count": null,
   "metadata": {},
   "outputs": [
    {
     "ename": "NameError",
     "evalue": "name 'make_subplots' is not defined",
     "output_type": "error",
     "traceback": [
      "\u001b[1;31m---------------------------------------------------------------------------\u001b[0m\n",
      "\u001b[1;31mNameError\u001b[0m                                 Traceback (most recent call last)\n",
      "Cell \u001b[1;32mIn[18], line 25\u001b[0m\n",
      "\u001b[0;32m     22\u001b[0m weighted_avgs \u001b[38;5;241m=\u001b[39m weighted_avgs[sorted_genres]\n",
      "\u001b[0;32m     24\u001b[0m \u001b[38;5;66;03m# Two y-axis\u001b[39;00m\n",
      "\u001b[1;32m---> 25\u001b[0m fig \u001b[38;5;241m=\u001b[39m \u001b[43mmake_subplots\u001b[49m(specs\u001b[38;5;241m=\u001b[39m[[{\u001b[38;5;124m\"\u001b[39m\u001b[38;5;124msecondary_y\u001b[39m\u001b[38;5;124m\"\u001b[39m: \u001b[38;5;28;01mTrue\u001b[39;00m}]])\n",
      "\u001b[0;32m     27\u001b[0m fig\u001b[38;5;241m.\u001b[39madd_trace(\n",
      "\u001b[0;32m     28\u001b[0m     go\u001b[38;5;241m.\u001b[39mBar(x\u001b[38;5;241m=\u001b[39mgenre_counts\u001b[38;5;241m.\u001b[39mindex, y\u001b[38;5;241m=\u001b[39mgenre_counts, name\u001b[38;5;241m=\u001b[39m\u001b[38;5;124m'\u001b[39m\u001b[38;5;124m# of Movies\u001b[39m\u001b[38;5;124m'\u001b[39m,\n",
      "\u001b[0;32m     29\u001b[0m            hoverinfo\u001b[38;5;241m=\u001b[39m\u001b[38;5;124m'\u001b[39m\u001b[38;5;124mname+y\u001b[39m\u001b[38;5;124m'\u001b[39m, marker\u001b[38;5;241m=\u001b[39m\u001b[38;5;28mdict\u001b[39m(color\u001b[38;5;241m=\u001b[39m\u001b[38;5;124m'\u001b[39m\u001b[38;5;124mskyblue\u001b[39m\u001b[38;5;124m'\u001b[39m)),\n",
      "\u001b[0;32m     30\u001b[0m     secondary_y\u001b[38;5;241m=\u001b[39m\u001b[38;5;28;01mFalse\u001b[39;00m,\n",
      "\u001b[0;32m     31\u001b[0m )\n",
      "\u001b[0;32m     33\u001b[0m \u001b[38;5;66;03m# Line plot for the average votes\u001b[39;00m\n",
      "\n",
      "\u001b[1;31mNameError\u001b[0m: name 'make_subplots' is not defined"
     ]
    }
   ],
   "source": [
    "genre_columns = df.columns[24:]\n",
    "vote_average_col = 'vote_average'\n",
    "vote_count_col = 'vote_count'\n",
    "\n",
    "weighted_avgs = pd.Series(index=genre_columns, dtype=float)\n",
    "\n",
    "# We calculate genre counts and initial average votes\n",
    "genre_counts = df[genre_columns].sum().sort_values(ascending=False)\n",
    "genre_avg_vote = (df[genre_columns].multiply(df[vote_average_col], axis=0)).sum() / genre_counts\n",
    "\n",
    "# We calculate the weighed averages per genre\n",
    "for genre in genre_columns:\n",
    "    genre_data = df[df[genre] == 1]\n",
    "    weighted_score = (genre_data[vote_average_col] * genre_data[vote_count_col]).sum()\n",
    "    total_votes = genre_data[vote_count_col].sum()\n",
    "    weighted_avgs[genre] = weighted_score / total_votes if total_votes != 0 else 0\n",
    "\n",
    "# Sorting\n",
    "sorted_genres = genre_counts.sort_values(ascending=False).index\n",
    "genre_counts = genre_counts[sorted_genres]\n",
    "genre_avg_vote = genre_avg_vote[sorted_genres]\n",
    "weighted_avgs = weighted_avgs[sorted_genres]\n",
    "\n",
    "# Two y-axis\n",
    "fig = make_subplots(specs=[[{\"secondary_y\": True}]])\n",
    "\n",
    "fig.add_trace(\n",
    "    go.Bar(x=genre_counts.index, y=genre_counts, name='# of Movies',\n",
    "           hoverinfo='name+y', marker=dict(color='skyblue')),\n",
    "    secondary_y=False,\n",
    ")\n",
    "\n",
    "# Line plot for the average votes\n",
    "fig.add_trace(\n",
    "    go.Scatter(x=genre_avg_vote.index, y=genre_avg_vote, name='Average Vote', mode='lines+markers',\n",
    "               hovertemplate='Genre: %{x}<br>Average Vote: %{y:.2f}<extra></extra>', marker=dict(color='red')),\n",
    "    secondary_y=True,\n",
    ")\n",
    "\n",
    "# Line plot for the weighted average votes\n",
    "fig.add_trace(\n",
    "    go.Scatter(x=weighted_avgs.index, y=weighted_avgs, name='Weighted Average Vote', mode='lines+markers',\n",
    "               hovertemplate='Genre: %{x}<br>Weighted Average Vote: %{y:.2f}<extra></extra>', marker=dict(color='green')),\n",
    "    secondary_y=True,\n",
    ")\n",
    "\n",
    "# Titles and Labels\n",
    "fig.update_layout(\n",
    "    title_text='Number of Movies and Voting Metrics by Genre',\n",
    "    font=dict(\n",
    "        family=\"Courier New, monospace\",\n",
    "    ),\n",
    "    title_font = dict(\n",
    "        size = 16\n",
    "    ),\n",
    "    xaxis_title=\"Genres\",\n",
    "    xaxis_tickangle=-45,\n",
    "    height=575,\n",
    "    paper_bgcolor='rgba(0,0,0,0)',\n",
    "    plot_bgcolor='rgba(0,0,0,0)',\n",
    ")\n",
    "\n",
    "fig.update_yaxes(title_text=\"Number of Movies\", secondary_y=False)\n",
    "fig.update_yaxes(title_text=\"Vote Average\", secondary_y=True)\n",
    "\n",
    "fig.show()\n",
    "fig.write_html('genreNumberAverageBarplot.html')"
   ]
  },
  {
   "cell_type": "markdown",
   "metadata": {},
   "source": [
    "In the following we are creating world maps to visualize overall data for countries"
   ]
  },
  {
   "cell_type": "code",
   "execution_count": null,
   "metadata": {},
   "outputs": [
    {
     "data": {
      "text/plain": [
       "Index(['id', 'title', 'vote_average', 'vote_count', 'status', 'release_date',\n",
       "       'revenue', 'runtime', 'adult', 'backdrop_path', 'budget', 'homepage',\n",
       "       'imdb_id', 'original_language', 'original_title', 'overview',\n",
       "       'popularity', 'poster_path', 'tagline', 'genres',\n",
       "       'production_companies', 'production_countries', 'spoken_languages',\n",
       "       'keywords', 'Action', 'Adventure', 'Animation', 'Comedy', 'Crime',\n",
       "       'Documentary', 'Drama', 'Family', 'Fantasy', 'History', 'Horror',\n",
       "       'Music', 'Mystery', 'Romance', 'ScienceFiction', 'TVMovie', 'Thriller',\n",
       "       'War', 'Western'],\n",
       "      dtype='object')"
      ]
     },
     "metadata": {},
     "output_type": "display_data"
    }
   ],
   "source": [
    "df.columns"
   ]
  },
  {
   "cell_type": "markdown",
   "metadata": {},
   "source": [
    "We used ChatGPT to create us the country_codes dictionary below, by giving it a list of all single dummy countries, and for each of them we are given a Country Code that we can later on use to display our data."
   ]
  },
  {
   "cell_type": "code",
   "execution_count": null,
   "metadata": {},
   "outputs": [
    {
     "name": "stdout",
     "output_type": "stream",
     "text": [
      "{'Afghanistan': 'AFG', 'Albania': 'ALB', 'Algeria': 'DZA', 'AmericanSamoa': 'ASM', 'Andorra': 'AND', 'Angola': 'AGO', 'Anguilla': 'AIA', 'Antarctica': 'ATA', 'AntiguaandBarbuda': 'ATG', 'Argentina': 'ARG'}\n"
     ]
    }
   ],
   "source": [
    "countries_expanded = df['production_countries'].str.replace(\" \", \"\").str.get_dummies(sep=',')\n",
    "df = pd.concat([df, countries_expanded], axis=1)\n",
    "\n",
    "country_codes = {\n",
    "    'Afghanistan': 'AFG',\n",
    "    'Albania': 'ALB',\n",
    "    'Algeria': 'DZA',\n",
    "    'AmericanSamoa': 'ASM',\n",
    "    'Andorra': 'AND',\n",
    "    'Angola': 'AGO',\n",
    "    'Anguilla': 'AIA',\n",
    "    'Antarctica': 'ATA',\n",
    "    'AntiguaandBarbuda': 'ATG',\n",
    "    'Argentina': 'ARG',\n",
    "    'Armenia': 'ARM',\n",
    "    'Aruba': 'ABW',\n",
    "    'Australia': 'AUS',\n",
    "    'Austria': 'AUT',\n",
    "    'Azerbaijan': 'AZE',\n",
    "    'Bahamas': 'BHS',\n",
    "    'Bahrain': 'BHR',\n",
    "    'Bangladesh': 'BGD',\n",
    "    'Barbados': 'BRB',\n",
    "    'Belarus': 'BLR',\n",
    "    'Belgium': 'BEL',\n",
    "    'Belize': 'BLZ',\n",
    "    'Benin': 'BEN',\n",
    "    'Bermuda': 'BMU',\n",
    "    'Bhutan': 'BTN',\n",
    "    'Bolivia': 'BOL',\n",
    "    'BosniaandHerzegovina': 'BIH',\n",
    "    'Botswana': 'BWA',\n",
    "    'BouvetIsland': 'BVT',\n",
    "    'Brazil': 'BRA',\n",
    "    'BritishIndianOceanTerritory': 'IOT',\n",
    "    'BritishVirginIslands': 'VGB',\n",
    "    'BruneiDarussalam': 'BRN',\n",
    "    'Bulgaria': 'BGR',\n",
    "    'BurkinaFaso': 'BFA',\n",
    "    'Burundi': 'BDI',\n",
    "    'Cambodia': 'KHM',\n",
    "    'Cameroon': 'CMR',\n",
    "    'Canada': 'CAN',\n",
    "    'CapeVerde': 'CPV',\n",
    "    'CaymanIslands': 'CYM',\n",
    "    'CentralAfricanRepublic': 'CAF',\n",
    "    'Chad': 'TCD',\n",
    "    'Chile': 'CHL',\n",
    "    'China': 'CHN',\n",
    "    'ChristmasIsland': 'CXR',\n",
    "    'CocosIslands': 'CCK',\n",
    "    'Colombia': 'COL',\n",
    "    'Comoros': 'COM',\n",
    "    'Congo': 'COG',\n",
    "    'CookIslands': 'COK',\n",
    "    'CostaRica': 'CRI',\n",
    "    \"CoteD'Ivoire\": 'CIV',\n",
    "    'Croatia': 'HRV',\n",
    "    'Cuba': 'CUB',\n",
    "    'Cyprus': 'CYP',\n",
    "    'CzechRepublic': 'CZE',\n",
    "    'Czechoslovakia': 'CSK',\n",
    "    'Denmark': 'DNK',\n",
    "    'Djibouti': 'DJI',\n",
    "    'Dominica': 'DMA',\n",
    "    'DominicanRepublic': 'DOM',\n",
    "    'EastGermany': 'DDR',  # Later on merged to a single Germany\n",
    "    'EastTimor': 'TLS',\n",
    "    'Ecuador': 'ECU',\n",
    "    'Egypt': 'EGY',\n",
    "    'ElSalvador': 'SLV',\n",
    "    'EquatorialGuinea': 'GNQ',\n",
    "    'Eritrea': 'ERI',\n",
    "    'Estonia': 'EST',\n",
    "    'Ethiopia': 'ETH',\n",
    "    'FaeroeIslands': 'FRO',\n",
    "    'FalklandIslands': 'FLK',\n",
    "    'Fiji': 'FJI',\n",
    "    'Finland': 'FIN',\n",
    "    'France': 'FRA',\n",
    "    'FrenchGuiana': 'GUF',\n",
    "    'FrenchPolynesia': 'PYF',\n",
    "    'FrenchSouthernTerritories': 'ATF',\n",
    "    'Gabon': 'GAB',\n",
    "    'Gambia': 'GMB',\n",
    "    'Georgia': 'GEO',\n",
    "    'Germany': 'DEU',\n",
    "    'Ghana': 'GHA',\n",
    "    'Gibraltar': 'GIB',\n",
    "    'Greece': 'GRC',\n",
    "    'Greenland': 'GRL',\n",
    "    'Grenada': 'GRD',\n",
    "    'Guadaloupe': 'GLP',\n",
    "    'Guam': 'GUM',\n",
    "    'Guatemala': 'GTM',\n",
    "    'Guinea': 'GIN',\n",
    "    'Guinea-Bissau': 'GNB',\n",
    "    'Guyana': 'GUY',\n",
    "    'Haiti': 'HTI',\n",
    "    'HeardandMcDonaldIslands': 'HMD',\n",
    "    'HolySee': 'VAT',\n",
    "    'Honduras': 'HND',\n",
    "    'HongKong': 'HKG',\n",
    "    'Hungary': 'HUN',\n",
    "    'Iceland': 'ISL',\n",
    "    'India': 'IND',\n",
    "    'Indonesia': 'IDN',\n",
    "    'Iran': 'IRN',\n",
    "    'Iraq': 'IRQ',\n",
    "    'Ireland': 'IRL',\n",
    "    'Israel': 'ISR',\n",
    "    'Italy': 'ITA',\n",
    "    'Jamaica': 'JAM',\n",
    "    'Japan': 'JPN',\n",
    "    'Jordan': 'JOR',\n",
    "    'Kazakhstan': 'KAZ',\n",
    "    'Kenya': 'KEN',\n",
    "    'Kiribati': 'KIR',\n",
    "    'Kosovo': 'XKX',\n",
    "    'Kuwait': 'KWT',\n",
    "    'KyrgyzRepublic': 'KGZ',\n",
    "    \"LaoPeople'sDemocraticRepublic\": 'LAO',\n",
    "    'Latvia': 'LVA',\n",
    "    'Lebanon': 'LBN',\n",
    "    'Lesotho': 'LSO',\n",
    "    'Liberia': 'LBR',\n",
    "    'LibyanArabJamahiriya': 'LBY',\n",
    "    'Liechtenstein': 'LIE',\n",
    "    'Lithuania': 'LTU',\n",
    "    'Luxembourg': 'LUX',\n",
    "    'Macao': 'MAC',\n",
    "    'Macedonia': 'MKD',\n",
    "    'Madagascar': 'MDG',\n",
    "    'Malawi': 'MWI',\n",
    "    'Malaysia': 'MYS',\n",
    "    'Maldives': 'MDV',\n",
    "    'Mali': 'MLI',\n",
    "    'Malta': 'MLT',\n",
    "    'MarshallIslands': 'MHL',\n",
    "    'Martinique': 'MTQ',\n",
    "    'Mauritania': 'MRT',\n",
    "    'Mauritius': 'MUS',\n",
    "    'Mayotte': 'MYT',\n",
    "    'Mexico': 'MEX',\n",
    "    'Micronesia': 'FSM',\n",
    "    'Moldova': 'MDA',\n",
    "    'Monaco': 'MCO',\n",
    "    'Mongolia': 'MNG',\n",
    "    'Montenegro': 'MNE',\n",
    "    'Montserrat': 'MSR',\n",
    "    'Morocco': 'MAR',\n",
    "    'Mozambique': 'MOZ',\n",
    "    'Myanmar': 'MMR',\n",
    "    'Namibia': 'NAM',\n",
    "    'Nauru': 'NRU',\n",
    "    'Nepal': 'NPL',\n",
    "    'Netherlands': 'NLD',\n",
    "    'NetherlandsAntilles': 'ANT',\n",
    "    'NewCaledonia': 'NCL',\n",
    "    'NewZealand': 'NZL',\n",
    "    'Nicaragua': 'NIC',\n",
    "    'Niger': 'NER',\n",
    "    'Nigeria': 'NGA',\n",
    "    'Niue': 'NIU',\n",
    "    'NorfolkIsland': 'NFK',\n",
    "    'NorthKorea': 'PRK',\n",
    "    'NorthernIreland': 'NIR',\n",
    "    'NorthernMarianaIslands': 'MNP',\n",
    "    'Norway': 'NOR',\n",
    "    'Oman': 'OMN',\n",
    "    'Pakistan': 'PAK',\n",
    "    'Palau': 'PLW',\n",
    "    'PalestinianTerritory': 'PSE',\n",
    "    'Panama': 'PAN',\n",
    "    'PapuaNewGuinea': 'PNG',\n",
    "    'Paraguay': 'PRY',\n",
    "    'Peru': 'PER',\n",
    "    'Philippines': 'PHL',\n",
    "    'PitcairnIsland': 'PCN',\n",
    "    'Poland': 'POL',\n",
    "    'Portugal': 'PRT',\n",
    "    'PuertoRico': 'PRI',\n",
    "    'Qatar': 'QAT',\n",
    "    'Reunion': 'REU',\n",
    "    'Romania': 'ROU',\n",
    "    'Russia': 'RUS',\n",
    "    'Rwanda': 'RWA',\n",
    "    'Samoa': 'WSM',\n",
    "    'SanMarino': 'SMR',\n",
    "    'SaoTomeandPrincipe': 'STP',\n",
    "    'SaudiArabia': 'SAU',\n",
    "    'Senegal': 'SEN',\n",
    "    'Serbia': 'SRB',\n",
    "    'SerbiaandMontenegro': 'SCG',\n",
    "    'Seychelles': 'SYC',\n",
    "    'SierraLeone': 'SLE',\n",
    "    'Singapore': 'SGP',\n",
    "    'Slovakia': 'SVK',\n",
    "    'Slovenia': 'SVN',\n",
    "    'SolomonIslands': 'SLB',\n",
    "    'Somalia': 'SOM',\n",
    "    'SouthAfrica': 'ZAF',\n",
    "    'SouthGeorgiaandtheSouthSandwichIslands': 'SGS',\n",
    "    'SouthKorea': 'KOR',\n",
    "    'SouthSudan': 'SSD',\n",
    "    'SovietUnion': 'SUN',  # Values from SU and Russia are assigned to the same region in the world map, as no more detailled assignment one of the successor states of the SU could be made\n",
    "    'Spain': 'ESP',\n",
    "    'SriLanka': 'LKA',\n",
    "    'St.Helena': 'SHN',\n",
    "    'St.KittsandNevis': 'KNA',\n",
    "    'St.Lucia': 'LCA',\n",
    "    'St.PierreandMiquelon': 'SPM',\n",
    "    'St.VincentandtheGrenadines': 'VCT',\n",
    "    'Sudan': 'SDN',\n",
    "    'Suriname': 'SUR',\n",
    "    'Svalbard&JanMayenIslands': 'SJM',\n",
    "    'Swaziland': 'SWZ',\n",
    "    'Sweden': 'SWE',\n",
    "    'Switzerland': 'CHE',\n",
    "    'SyrianArabRepublic': 'SYR',\n",
    "    'Taiwan': 'TWN',\n",
    "    'Tajikistan': 'TJK',\n",
    "    'Tanzania': 'TZA',\n",
    "    'Thailand': 'THA',\n",
    "    'Timor-Leste': 'TLS',\n",
    "    'Togo': 'TGO',\n",
    "    'Tokelau': 'TKL',\n",
    "    'Tonga': 'TON',\n",
    "    'TrinidadandTobago': 'TTO',\n",
    "    'Tunisia': 'TUN',\n",
    "    'Turkey': 'TUR',\n",
    "    'Turkmenistan': 'TKM',\n",
    "    'TurksandCaicosIslands': 'TCA',\n",
    "    'Tuvalu': 'TUV',\n",
    "    'USVirginIslands': 'VIR',\n",
    "    'Uganda': 'UGA',\n",
    "    'Ukraine': 'UKR',\n",
    "    'UnitedArabEmirates': 'ARE',\n",
    "    'UnitedKingdom': 'GBR',\n",
    "    'UnitedStatesMinorOutlyingIslands': 'UMI',\n",
    "    'UnitedStatesofAmerica': 'USA',\n",
    "    'Uruguay': 'URY',\n",
    "    'Uzbekistan': 'UZB',\n",
    "    'Vanuatu': 'VUT',\n",
    "    'Venezuela': 'VEN',\n",
    "    'Vietnam': 'VNM',\n",
    "    'WallisandFutunaIslands': 'WLF',\n",
    "    'WesternSahara': 'ESH',\n",
    "    'Yemen': 'YEM',\n",
    "    'Yugoslavia': 'YUG',\n",
    "    'Zaire': 'ZAR',\n",
    "    'Zambia': 'ZMB',\n",
    "    'Zimbabwe': 'ZWE'\n",
    "}\n",
    "\n",
    "print({k: country_codes[k] for k in list(country_codes)[:10]})  # print first 10 entries"
   ]
  },
  {
   "cell_type": "markdown",
   "metadata": {},
   "source": [
    "Here we are creating a new df, called country_metrics_df, which contains all relevant country related data"
   ]
  },
  {
   "cell_type": "code",
   "execution_count": null,
   "metadata": {},
   "outputs": [
    {
     "name": "stdout",
     "output_type": "stream",
     "text": [
      "                              Country ISO_Code  Total_Movies  Average_Budget  \\\n",
      "0                         Afghanistan      AFG           203    13639.793103   \n",
      "1                             Albania      ALB           366    52889.245902   \n",
      "2                             Algeria      DZA           458   127721.694323   \n",
      "3                      American Samoa      ASM             6     1905.000000   \n",
      "4                             Andorra      AND            23    52173.913043   \n",
      "..                                ...      ...           ...             ...   \n",
      "242                             Zaire      ZAR             1        0.000000   \n",
      "243                            Zambia      ZMB            40    17750.000000   \n",
      "244                          Zimbabwe      ZWE            66   712243.939394   \n",
      "245            Russia (SU until 1991)      RUS         18855   138397.341713   \n",
      "246  Germany (including East Germany)      DEU         41464   462752.363761   \n",
      "\n",
      "     Average_Revenue  Average_Runtime  Weighted_Average_Rating  \\\n",
      "0        1431.325123        62.596059                 6.686116   \n",
      "1           0.275956        69.013661                 6.434993   \n",
      "2       61100.683406        61.521834                 7.197419   \n",
      "3        1000.000000        54.500000                 6.150000   \n",
      "4        4381.391304        50.956522                 5.490438   \n",
      "..               ...              ...                      ...   \n",
      "242         0.000000        80.000000                 6.200000   \n",
      "243         0.000000        50.250000                 6.218128   \n",
      "244    435256.121212        66.378788                 6.865572   \n",
      "245    134808.160435        50.793583                 6.607445   \n",
      "246    815645.075222        45.334025                 6.744737   \n",
      "\n",
      "     Average_Revenue/Budget  \n",
      "0                  0.104937  \n",
      "1                  0.000005  \n",
      "2                  0.478389  \n",
      "3                  0.524934  \n",
      "4                  0.083977  \n",
      "..                      ...  \n",
      "242                     NaN  \n",
      "243                0.000000  \n",
      "244                0.611105  \n",
      "245                0.974066  \n",
      "246                1.762595  \n",
      "\n",
      "[247 rows x 8 columns]\n"
     ]
    }
   ],
   "source": [
    "import re\n",
    "import pandas as pd\n",
    "\n",
    "# Here we take the two largest non-actual country values and include them into the new countries (Due to not enough more specific data, we included the Soviet Union data only into Russia and did not split them up on its other successor states)\n",
    "country_codes['Russia (SU until 1991)'] = 'RUS'\n",
    "if 'SovietUnion' in country_codes:\n",
    "    del country_codes['SovietUnion']\n",
    "if 'Russia' in country_codes:\n",
    "    del country_codes['Russia']\n",
    "\n",
    "df['Russia (SU until 1991)'] = df['SovietUnion'].fillna(0) + df['Russia'].fillna(0)\n",
    "df['Russia (SU until 1991)'] = df['Russia (SU until 1991)'].apply(lambda x: 1 if x > 0 else 0)\n",
    "\n",
    "country_codes['Germany (including East Germany)'] = 'DEU'\n",
    "if 'EastGermany' in country_codes:\n",
    "    del country_codes['EastGermany']\n",
    "if 'Germany' in country_codes:\n",
    "    del country_codes['Germany']\n",
    "\n",
    "df['Germany (including East Germany)'] = df['EastGermany'].fillna(0) + df['Germany'].fillna(0)\n",
    "df['Germany (including East Germany)'] = df['Germany (including East Germany)'].apply(lambda x: 1 if x > 0 else 0)\n",
    "\n",
    "df.drop(['SovietUnion', 'Russia'], axis=1, inplace=True, errors='ignore')\n",
    "df.drop(['EastGermany', 'Germany'], axis=1, inplace=True, errors='ignore')\n",
    "\n",
    "# Calculate metrics for each country\n",
    "metrics = []\n",
    "for country, code in country_codes.items():\n",
    "    country_df = df[df[country] == 1]\n",
    "    \n",
    "    total_movies = len(country_df)\n",
    "    \n",
    "    avg_budget = country_df['budget'].mean()\n",
    "    avg_revenue = country_df['revenue'].mean()\n",
    "    avg_runtime = country_df['runtime'].mean()\n",
    "    \n",
    "    weighted_scores = (country_df['vote_average'] * country_df['vote_count']).sum()\n",
    "    total_votes = country_df['vote_count'].sum()\n",
    "    if total_votes > 0:\n",
    "        weighted_avg_rating = weighted_scores / total_votes\n",
    "    else:\n",
    "        weighted_avg_rating = 0\n",
    "    \n",
    "    metrics.append({\n",
    "        'Country': country,\n",
    "        'ISO_Code': code,\n",
    "        'Total_Movies': total_movies,\n",
    "        'Average_Budget': avg_budget,\n",
    "        \"Average_Revenue\": avg_revenue,\n",
    "        \"Average_Runtime\": avg_runtime,\n",
    "        'Weighted_Average_Rating': weighted_avg_rating\n",
    "    })\n",
    "\n",
    "country_metrics_df = pd.DataFrame(metrics)\n",
    "\n",
    "def add_space(value):\n",
    "    if isinstance(value, str):\n",
    "        return re.sub(r'(?<=[a-z])(?=[A-Z])', ' ', value)\n",
    "    else:\n",
    "        return value\n",
    "\n",
    "# Nicer display of countries again\n",
    "country_metrics_df['Country'] = country_metrics_df['Country'].apply(add_space)\n",
    "\n",
    "# Calculating another revenue to budget ratio\n",
    "country_metrics_df[\"Average_Revenue/Budget\"] = country_metrics_df[\"Average_Revenue\"] / country_metrics_df[\"Average_Budget\"]\n",
    "\n",
    "print(country_metrics_df)\n"
   ]
  },
  {
   "cell_type": "markdown",
   "metadata": {},
   "source": [
    "Here we are creating our first world map. We decided to use plotly over folium as we found with it a nice way to display the country data related to their country code, and did not use any more local geographic data values."
   ]
  },
  {
   "cell_type": "markdown",
   "metadata": {},
   "source": [
    "In the beginning of the following cell, we set some limits regarding movie amount, budget and rating, or countries where no rating occurs and thus the range of 0 to 6 almost unused is, and to make the remaining data more distinguishable. An example herefor would be Aruba which has only a few movies but is included in highly priced movies, leading to an explosion of the color scale, and giving no real interesting insights for us in return"
   ]
  },
  {
   "cell_type": "code",
   "execution_count": null,
   "metadata": {},
   "outputs": [
    {
     "data": {
      "application/vnd.plotly.v1+json": {
       "config": {
        "plotlyServerURL": "https://plot.ly"
       },
       "data": [
        {
         "coloraxis": "coloraxis",
         "customdata": [
          [
           203
          ],
          [
           458
          ],
          [
           71
          ],
          [
           8636
          ],
          [
           213
          ],
          [
           7034
          ],
          [
           4986
          ],
          [
           201
          ],
          [
           824
          ],
          [
           437
          ],
          [
           5254
          ],
          [
           225
          ],
          [
           487
          ],
          [
           15773
          ],
          [
           1080
          ],
          [
           150
          ],
          [
           277
          ],
          [
           150
          ],
          [
           23275
          ],
          [
           2168
          ],
          [
           10375
          ],
          [
           1499
          ],
          [
           145
          ],
          [
           410
          ],
          [
           60
          ],
          [
           1097
          ],
          [
           772
          ],
          [
           130
          ],
          [
           6753
          ],
          [
           6386
          ],
          [
           4869
          ],
          [
           413
          ],
          [
           417
          ],
          [
           2556
          ],
          [
           955
          ],
          [
           197
          ],
          [
           3801
          ],
          [
           43049
          ],
          [
           385
          ],
          [
           195
          ],
          [
           3557
          ],
          [
           167
          ],
          [
           81
          ],
          [
           6494
          ],
          [
           3254
          ],
          [
           930
          ],
          [
           20656
          ],
          [
           4302
          ],
          [
           2846
          ],
          [
           299
          ],
          [
           2284
          ],
          [
           2174
          ],
          [
           18253
          ],
          [
           76
          ],
          [
           39601
          ],
          [
           116
          ],
          [
           903
          ],
          [
           189
          ],
          [
           233
          ],
          [
           1370
          ],
          [
           652
          ],
          [
           674
          ],
          [
           513
          ],
          [
           171
          ],
          [
           495
          ],
          [
           1613
          ],
          [
           77
          ],
          [
           12250
          ],
          [
           170
          ],
          [
           108
          ],
          [
           532
          ],
          [
           68
          ],
          [
           202
          ],
          [
           58
          ],
          [
           290
          ],
          [
           6612
          ],
          [
           1425
          ],
          [
           86
          ],
          [
           664
          ],
          [
           154
          ],
          [
           3581
          ],
          [
           590
          ],
          [
           441
          ],
          [
           134
          ],
          [
           1039
          ],
          [
           7197
          ],
          [
           5381
          ],
          [
           3939
          ],
          [
           1177
          ],
          [
           308
          ],
          [
           1720
          ],
          [
           57
          ],
          [
           309
          ],
          [
           214
          ],
          [
           1122
          ],
          [
           1106
          ],
          [
           1009
          ],
          [
           849
          ],
          [
           1741
          ],
          [
           8961
          ],
          [
           14474
          ],
          [
           268
          ],
          [
           7907
          ],
          [
           4443
          ],
          [
           223
          ],
          [
           3496
          ],
          [
           79
          ],
          [
           2497
          ],
          [
           346
          ],
          [
           4691
          ],
          [
           109
          ],
          [
           2430
          ],
          [
           335
          ],
          [
           39092
          ],
          [
           182972
          ],
          [
           763
          ],
          [
           118
          ],
          [
           563
          ],
          [
           647
          ],
          [
           2244
          ],
          [
           66
          ],
          [
           18855
          ],
          [
           41464
          ]
         ],
         "geo": "geo",
         "hovertemplate": "<b>%{hovertext}</b><br>Total Movies: %{z:,.0f}",
         "hovertext": [
          "Afghanistan",
          "Algeria",
          "Angola",
          "Argentina",
          "Armenia",
          "Australia",
          "Austria",
          "Azerbaijan",
          "Bangladesh",
          "Belarus",
          "Belgium",
          "Bolivia",
          "Bosniaand Herzegovina",
          "Brazil",
          "Bulgaria",
          "Burkina Faso",
          "Cambodia",
          "Cameroon",
          "Canada",
          "Chile",
          "China",
          "Colombia",
          "Congo",
          "Costa Rica",
          "Cote D'Ivoire",
          "Croatia",
          "Cuba",
          "Cyprus",
          "Czech Republic",
          "Czechoslovakia",
          "Denmark",
          "Dominican Republic",
          "Ecuador",
          "Egypt",
          "Estonia",
          "Ethiopia",
          "Finland",
          "France",
          "Georgia",
          "Ghana",
          "Greece",
          "Guatemala",
          "Honduras",
          "Hong Kong",
          "Hungary",
          "Iceland",
          "India",
          "Indonesia",
          "Iran",
          "Iraq",
          "Ireland",
          "Israel",
          "Italy",
          "Jamaica",
          "Japan",
          "Jordan",
          "Kazakhstan",
          "Kenya",
          "Kuwait",
          "Latvia",
          "Lebanon",
          "Lithuania",
          "Luxembourg",
          "Macao",
          "Macedonia",
          "Malaysia",
          "Mali",
          "Mexico",
          "Mongolia",
          "Montenegro",
          "Morocco",
          "Mozambique",
          "Myanmar",
          "Namibia",
          "Nepal",
          "Netherlands",
          "New Zealand",
          "Nicaragua",
          "Nigeria",
          "North Korea",
          "Norway",
          "Pakistan",
          "Palestinian Territory",
          "Paraguay",
          "Peru",
          "Philippines",
          "Poland",
          "Portugal",
          "Puerto Rico",
          "Qatar",
          "Romania",
          "Rwanda",
          "Saudi Arabia",
          "Senegal",
          "Serbia",
          "Singapore",
          "Slovakia",
          "Slovenia",
          "South Africa",
          "South Korea",
          "Spain",
          "Sri Lanka",
          "Sweden",
          "Switzerland",
          "Syrian Arab Republic",
          "Taiwan",
          "Tanzania",
          "Thailand",
          "Tunisia",
          "Turkey",
          "Uganda",
          "Ukraine",
          "United Arab Emirates",
          "United Kingdom",
          "United Statesof America",
          "Uruguay",
          "Uzbekistan",
          "Venezuela",
          "Vietnam",
          "Yugoslavia",
          "Zimbabwe",
          "Russia (SU until 1991)",
          "Germany (including East Germany)"
         ],
         "locations": [
          "AFG",
          "DZA",
          "AGO",
          "ARG",
          "ARM",
          "AUS",
          "AUT",
          "AZE",
          "BGD",
          "BLR",
          "BEL",
          "BOL",
          "BIH",
          "BRA",
          "BGR",
          "BFA",
          "KHM",
          "CMR",
          "CAN",
          "CHL",
          "CHN",
          "COL",
          "COG",
          "CRI",
          "CIV",
          "HRV",
          "CUB",
          "CYP",
          "CZE",
          "CSK",
          "DNK",
          "DOM",
          "ECU",
          "EGY",
          "EST",
          "ETH",
          "FIN",
          "FRA",
          "GEO",
          "GHA",
          "GRC",
          "GTM",
          "HND",
          "HKG",
          "HUN",
          "ISL",
          "IND",
          "IDN",
          "IRN",
          "IRQ",
          "IRL",
          "ISR",
          "ITA",
          "JAM",
          "JPN",
          "JOR",
          "KAZ",
          "KEN",
          "KWT",
          "LVA",
          "LBN",
          "LTU",
          "LUX",
          "MAC",
          "MKD",
          "MYS",
          "MLI",
          "MEX",
          "MNG",
          "MNE",
          "MAR",
          "MOZ",
          "MMR",
          "NAM",
          "NPL",
          "NLD",
          "NZL",
          "NIC",
          "NGA",
          "PRK",
          "NOR",
          "PAK",
          "PSE",
          "PRY",
          "PER",
          "PHL",
          "POL",
          "PRT",
          "PRI",
          "QAT",
          "ROU",
          "RWA",
          "SAU",
          "SEN",
          "SRB",
          "SGP",
          "SVK",
          "SVN",
          "ZAF",
          "KOR",
          "ESP",
          "LKA",
          "SWE",
          "CHE",
          "SYR",
          "TWN",
          "TZA",
          "THA",
          "TUN",
          "TUR",
          "UGA",
          "UKR",
          "ARE",
          "GBR",
          "USA",
          "URY",
          "UZB",
          "VEN",
          "VNM",
          "YUG",
          "ZWE",
          "RUS",
          "DEU"
         ],
         "name": "",
         "type": "choropleth",
         "z": [
          203,
          458,
          71,
          8636,
          213,
          7034,
          4986,
          201,
          824,
          437,
          5254,
          225,
          487,
          15773,
          1080,
          150,
          277,
          150,
          23275,
          2168,
          10375,
          1499,
          145,
          410,
          60,
          1097,
          772,
          130,
          6753,
          6386,
          4869,
          413,
          417,
          2556,
          955,
          197,
          3801,
          43049,
          385,
          195,
          3557,
          167,
          81,
          6494,
          3254,
          930,
          20656,
          4302,
          2846,
          299,
          2284,
          2174,
          18253,
          76,
          39601,
          116,
          903,
          189,
          233,
          1370,
          652,
          674,
          513,
          171,
          495,
          1613,
          77,
          12250,
          170,
          108,
          532,
          68,
          202,
          58,
          290,
          6612,
          1425,
          86,
          664,
          154,
          3581,
          590,
          441,
          134,
          1039,
          7197,
          5381,
          3939,
          1177,
          308,
          1720,
          57,
          309,
          214,
          1122,
          1106,
          1009,
          849,
          1741,
          8961,
          14474,
          268,
          7907,
          4443,
          223,
          3496,
          79,
          2497,
          346,
          4691,
          109,
          2430,
          335,
          39092,
          182972,
          763,
          118,
          563,
          647,
          2244,
          66,
          18855,
          41464
         ]
        }
       ],
       "layout": {
        "coloraxis": {
         "colorbar": {
          "title": {
           "text": ""
          }
         },
         "colorscale": [
          [
           0,
           "rgb(165,0,38)"
          ],
          [
           0.1,
           "rgb(215,48,39)"
          ],
          [
           0.2,
           "rgb(244,109,67)"
          ],
          [
           0.3,
           "rgb(253,174,97)"
          ],
          [
           0.4,
           "rgb(254,224,139)"
          ],
          [
           0.5,
           "rgb(255,255,191)"
          ],
          [
           0.6,
           "rgb(217,239,139)"
          ],
          [
           0.7,
           "rgb(166,217,106)"
          ],
          [
           0.8,
           "rgb(102,189,99)"
          ],
          [
           0.9,
           "rgb(26,152,80)"
          ],
          [
           1,
           "rgb(0,104,55)"
          ]
         ]
        },
        "font": {
         "family": "Courier New, monospace"
        },
        "geo": {
         "bgcolor": "rgba(0,0,0,0)",
         "center": {},
         "domain": {
          "x": [
           0,
           1
          ],
          "y": [
           0,
           1
          ]
         },
         "projection": {
          "type": "orthographic"
         },
         "showcoastlines": false,
         "showframe": false
        },
        "height": 500,
        "legend": {
         "tracegroupgap": 0
        },
        "margin": {
         "b": 0,
         "l": 0,
         "r": 0,
         "t": 50
        },
        "paper_bgcolor": "rgba(0,0,0,0)",
        "plot_bgcolor": "rgba(0,0,0,0)",
        "template": {
         "data": {
          "bar": [
           {
            "error_x": {
             "color": "#2a3f5f"
            },
            "error_y": {
             "color": "#2a3f5f"
            },
            "marker": {
             "line": {
              "color": "#E5ECF6",
              "width": 0.5
             },
             "pattern": {
              "fillmode": "overlay",
              "size": 10,
              "solidity": 0.2
             }
            },
            "type": "bar"
           }
          ],
          "barpolar": [
           {
            "marker": {
             "line": {
              "color": "#E5ECF6",
              "width": 0.5
             },
             "pattern": {
              "fillmode": "overlay",
              "size": 10,
              "solidity": 0.2
             }
            },
            "type": "barpolar"
           }
          ],
          "carpet": [
           {
            "aaxis": {
             "endlinecolor": "#2a3f5f",
             "gridcolor": "white",
             "linecolor": "white",
             "minorgridcolor": "white",
             "startlinecolor": "#2a3f5f"
            },
            "baxis": {
             "endlinecolor": "#2a3f5f",
             "gridcolor": "white",
             "linecolor": "white",
             "minorgridcolor": "white",
             "startlinecolor": "#2a3f5f"
            },
            "type": "carpet"
           }
          ],
          "choropleth": [
           {
            "colorbar": {
             "outlinewidth": 0,
             "ticks": ""
            },
            "type": "choropleth"
           }
          ],
          "contour": [
           {
            "colorbar": {
             "outlinewidth": 0,
             "ticks": ""
            },
            "colorscale": [
             [
              0,
              "#0d0887"
             ],
             [
              0.1111111111111111,
              "#46039f"
             ],
             [
              0.2222222222222222,
              "#7201a8"
             ],
             [
              0.3333333333333333,
              "#9c179e"
             ],
             [
              0.4444444444444444,
              "#bd3786"
             ],
             [
              0.5555555555555556,
              "#d8576b"
             ],
             [
              0.6666666666666666,
              "#ed7953"
             ],
             [
              0.7777777777777778,
              "#fb9f3a"
             ],
             [
              0.8888888888888888,
              "#fdca26"
             ],
             [
              1,
              "#f0f921"
             ]
            ],
            "type": "contour"
           }
          ],
          "contourcarpet": [
           {
            "colorbar": {
             "outlinewidth": 0,
             "ticks": ""
            },
            "type": "contourcarpet"
           }
          ],
          "heatmap": [
           {
            "colorbar": {
             "outlinewidth": 0,
             "ticks": ""
            },
            "colorscale": [
             [
              0,
              "#0d0887"
             ],
             [
              0.1111111111111111,
              "#46039f"
             ],
             [
              0.2222222222222222,
              "#7201a8"
             ],
             [
              0.3333333333333333,
              "#9c179e"
             ],
             [
              0.4444444444444444,
              "#bd3786"
             ],
             [
              0.5555555555555556,
              "#d8576b"
             ],
             [
              0.6666666666666666,
              "#ed7953"
             ],
             [
              0.7777777777777778,
              "#fb9f3a"
             ],
             [
              0.8888888888888888,
              "#fdca26"
             ],
             [
              1,
              "#f0f921"
             ]
            ],
            "type": "heatmap"
           }
          ],
          "heatmapgl": [
           {
            "colorbar": {
             "outlinewidth": 0,
             "ticks": ""
            },
            "colorscale": [
             [
              0,
              "#0d0887"
             ],
             [
              0.1111111111111111,
              "#46039f"
             ],
             [
              0.2222222222222222,
              "#7201a8"
             ],
             [
              0.3333333333333333,
              "#9c179e"
             ],
             [
              0.4444444444444444,
              "#bd3786"
             ],
             [
              0.5555555555555556,
              "#d8576b"
             ],
             [
              0.6666666666666666,
              "#ed7953"
             ],
             [
              0.7777777777777778,
              "#fb9f3a"
             ],
             [
              0.8888888888888888,
              "#fdca26"
             ],
             [
              1,
              "#f0f921"
             ]
            ],
            "type": "heatmapgl"
           }
          ],
          "histogram": [
           {
            "marker": {
             "pattern": {
              "fillmode": "overlay",
              "size": 10,
              "solidity": 0.2
             }
            },
            "type": "histogram"
           }
          ],
          "histogram2d": [
           {
            "colorbar": {
             "outlinewidth": 0,
             "ticks": ""
            },
            "colorscale": [
             [
              0,
              "#0d0887"
             ],
             [
              0.1111111111111111,
              "#46039f"
             ],
             [
              0.2222222222222222,
              "#7201a8"
             ],
             [
              0.3333333333333333,
              "#9c179e"
             ],
             [
              0.4444444444444444,
              "#bd3786"
             ],
             [
              0.5555555555555556,
              "#d8576b"
             ],
             [
              0.6666666666666666,
              "#ed7953"
             ],
             [
              0.7777777777777778,
              "#fb9f3a"
             ],
             [
              0.8888888888888888,
              "#fdca26"
             ],
             [
              1,
              "#f0f921"
             ]
            ],
            "type": "histogram2d"
           }
          ],
          "histogram2dcontour": [
           {
            "colorbar": {
             "outlinewidth": 0,
             "ticks": ""
            },
            "colorscale": [
             [
              0,
              "#0d0887"
             ],
             [
              0.1111111111111111,
              "#46039f"
             ],
             [
              0.2222222222222222,
              "#7201a8"
             ],
             [
              0.3333333333333333,
              "#9c179e"
             ],
             [
              0.4444444444444444,
              "#bd3786"
             ],
             [
              0.5555555555555556,
              "#d8576b"
             ],
             [
              0.6666666666666666,
              "#ed7953"
             ],
             [
              0.7777777777777778,
              "#fb9f3a"
             ],
             [
              0.8888888888888888,
              "#fdca26"
             ],
             [
              1,
              "#f0f921"
             ]
            ],
            "type": "histogram2dcontour"
           }
          ],
          "mesh3d": [
           {
            "colorbar": {
             "outlinewidth": 0,
             "ticks": ""
            },
            "type": "mesh3d"
           }
          ],
          "parcoords": [
           {
            "line": {
             "colorbar": {
              "outlinewidth": 0,
              "ticks": ""
             }
            },
            "type": "parcoords"
           }
          ],
          "pie": [
           {
            "automargin": true,
            "type": "pie"
           }
          ],
          "scatter": [
           {
            "fillpattern": {
             "fillmode": "overlay",
             "size": 10,
             "solidity": 0.2
            },
            "type": "scatter"
           }
          ],
          "scatter3d": [
           {
            "line": {
             "colorbar": {
              "outlinewidth": 0,
              "ticks": ""
             }
            },
            "marker": {
             "colorbar": {
              "outlinewidth": 0,
              "ticks": ""
             }
            },
            "type": "scatter3d"
           }
          ],
          "scattercarpet": [
           {
            "marker": {
             "colorbar": {
              "outlinewidth": 0,
              "ticks": ""
             }
            },
            "type": "scattercarpet"
           }
          ],
          "scattergeo": [
           {
            "marker": {
             "colorbar": {
              "outlinewidth": 0,
              "ticks": ""
             }
            },
            "type": "scattergeo"
           }
          ],
          "scattergl": [
           {
            "marker": {
             "colorbar": {
              "outlinewidth": 0,
              "ticks": ""
             }
            },
            "type": "scattergl"
           }
          ],
          "scattermapbox": [
           {
            "marker": {
             "colorbar": {
              "outlinewidth": 0,
              "ticks": ""
             }
            },
            "type": "scattermapbox"
           }
          ],
          "scatterpolar": [
           {
            "marker": {
             "colorbar": {
              "outlinewidth": 0,
              "ticks": ""
             }
            },
            "type": "scatterpolar"
           }
          ],
          "scatterpolargl": [
           {
            "marker": {
             "colorbar": {
              "outlinewidth": 0,
              "ticks": ""
             }
            },
            "type": "scatterpolargl"
           }
          ],
          "scatterternary": [
           {
            "marker": {
             "colorbar": {
              "outlinewidth": 0,
              "ticks": ""
             }
            },
            "type": "scatterternary"
           }
          ],
          "surface": [
           {
            "colorbar": {
             "outlinewidth": 0,
             "ticks": ""
            },
            "colorscale": [
             [
              0,
              "#0d0887"
             ],
             [
              0.1111111111111111,
              "#46039f"
             ],
             [
              0.2222222222222222,
              "#7201a8"
             ],
             [
              0.3333333333333333,
              "#9c179e"
             ],
             [
              0.4444444444444444,
              "#bd3786"
             ],
             [
              0.5555555555555556,
              "#d8576b"
             ],
             [
              0.6666666666666666,
              "#ed7953"
             ],
             [
              0.7777777777777778,
              "#fb9f3a"
             ],
             [
              0.8888888888888888,
              "#fdca26"
             ],
             [
              1,
              "#f0f921"
             ]
            ],
            "type": "surface"
           }
          ],
          "table": [
           {
            "cells": {
             "fill": {
              "color": "#EBF0F8"
             },
             "line": {
              "color": "white"
             }
            },
            "header": {
             "fill": {
              "color": "#C8D4E3"
             },
             "line": {
              "color": "white"
             }
            },
            "type": "table"
           }
          ]
         },
         "layout": {
          "annotationdefaults": {
           "arrowcolor": "#2a3f5f",
           "arrowhead": 0,
           "arrowwidth": 1
          },
          "autotypenumbers": "strict",
          "coloraxis": {
           "colorbar": {
            "outlinewidth": 0,
            "ticks": ""
           }
          },
          "colorscale": {
           "diverging": [
            [
             0,
             "#8e0152"
            ],
            [
             0.1,
             "#c51b7d"
            ],
            [
             0.2,
             "#de77ae"
            ],
            [
             0.3,
             "#f1b6da"
            ],
            [
             0.4,
             "#fde0ef"
            ],
            [
             0.5,
             "#f7f7f7"
            ],
            [
             0.6,
             "#e6f5d0"
            ],
            [
             0.7,
             "#b8e186"
            ],
            [
             0.8,
             "#7fbc41"
            ],
            [
             0.9,
             "#4d9221"
            ],
            [
             1,
             "#276419"
            ]
           ],
           "sequential": [
            [
             0,
             "#0d0887"
            ],
            [
             0.1111111111111111,
             "#46039f"
            ],
            [
             0.2222222222222222,
             "#7201a8"
            ],
            [
             0.3333333333333333,
             "#9c179e"
            ],
            [
             0.4444444444444444,
             "#bd3786"
            ],
            [
             0.5555555555555556,
             "#d8576b"
            ],
            [
             0.6666666666666666,
             "#ed7953"
            ],
            [
             0.7777777777777778,
             "#fb9f3a"
            ],
            [
             0.8888888888888888,
             "#fdca26"
            ],
            [
             1,
             "#f0f921"
            ]
           ],
           "sequentialminus": [
            [
             0,
             "#0d0887"
            ],
            [
             0.1111111111111111,
             "#46039f"
            ],
            [
             0.2222222222222222,
             "#7201a8"
            ],
            [
             0.3333333333333333,
             "#9c179e"
            ],
            [
             0.4444444444444444,
             "#bd3786"
            ],
            [
             0.5555555555555556,
             "#d8576b"
            ],
            [
             0.6666666666666666,
             "#ed7953"
            ],
            [
             0.7777777777777778,
             "#fb9f3a"
            ],
            [
             0.8888888888888888,
             "#fdca26"
            ],
            [
             1,
             "#f0f921"
            ]
           ]
          },
          "colorway": [
           "#636efa",
           "#EF553B",
           "#00cc96",
           "#ab63fa",
           "#FFA15A",
           "#19d3f3",
           "#FF6692",
           "#B6E880",
           "#FF97FF",
           "#FECB52"
          ],
          "font": {
           "color": "#2a3f5f"
          },
          "geo": {
           "bgcolor": "white",
           "lakecolor": "white",
           "landcolor": "#E5ECF6",
           "showlakes": true,
           "showland": true,
           "subunitcolor": "white"
          },
          "hoverlabel": {
           "align": "left"
          },
          "hovermode": "closest",
          "mapbox": {
           "style": "light"
          },
          "paper_bgcolor": "white",
          "plot_bgcolor": "#E5ECF6",
          "polar": {
           "angularaxis": {
            "gridcolor": "white",
            "linecolor": "white",
            "ticks": ""
           },
           "bgcolor": "#E5ECF6",
           "radialaxis": {
            "gridcolor": "white",
            "linecolor": "white",
            "ticks": ""
           }
          },
          "scene": {
           "xaxis": {
            "backgroundcolor": "#E5ECF6",
            "gridcolor": "white",
            "gridwidth": 2,
            "linecolor": "white",
            "showbackground": true,
            "ticks": "",
            "zerolinecolor": "white"
           },
           "yaxis": {
            "backgroundcolor": "#E5ECF6",
            "gridcolor": "white",
            "gridwidth": 2,
            "linecolor": "white",
            "showbackground": true,
            "ticks": "",
            "zerolinecolor": "white"
           },
           "zaxis": {
            "backgroundcolor": "#E5ECF6",
            "gridcolor": "white",
            "gridwidth": 2,
            "linecolor": "white",
            "showbackground": true,
            "ticks": "",
            "zerolinecolor": "white"
           }
          },
          "shapedefaults": {
           "line": {
            "color": "#2a3f5f"
           }
          },
          "ternary": {
           "aaxis": {
            "gridcolor": "white",
            "linecolor": "white",
            "ticks": ""
           },
           "baxis": {
            "gridcolor": "white",
            "linecolor": "white",
            "ticks": ""
           },
           "bgcolor": "#E5ECF6",
           "caxis": {
            "gridcolor": "white",
            "linecolor": "white",
            "ticks": ""
           }
          },
          "title": {
           "x": 0.05
          },
          "xaxis": {
           "automargin": true,
           "gridcolor": "white",
           "linecolor": "white",
           "ticks": "",
           "title": {
            "standoff": 15
           },
           "zerolinecolor": "white",
           "zerolinewidth": 2
          },
          "yaxis": {
           "automargin": true,
           "gridcolor": "white",
           "linecolor": "white",
           "ticks": "",
           "title": {
            "standoff": 15
           },
           "zerolinecolor": "white",
           "zerolinewidth": 2
          }
         }
        },
        "title": {
         "font": {
          "family": "Courier New, monospace",
          "size": 16
         },
         "text": "Interactive World Map"
        },
        "updatemenus": [
         {
          "bgcolor": "white",
          "buttons": [
           {
            "args": [
             {
              "coloraxis_cmax": 182972,
              "coloraxis_cmin": 57,
              "hovertemplate": "<b>%{hovertext}</b><br>Total Movies: %{z:,.0f}",
              "z": [
               [
                203,
                458,
                71,
                8636,
                213,
                7034,
                4986,
                201,
                824,
                437,
                5254,
                225,
                487,
                15773,
                1080,
                150,
                277,
                150,
                23275,
                2168,
                10375,
                1499,
                145,
                410,
                60,
                1097,
                772,
                130,
                6753,
                6386,
                4869,
                413,
                417,
                2556,
                955,
                197,
                3801,
                43049,
                385,
                195,
                3557,
                167,
                81,
                6494,
                3254,
                930,
                20656,
                4302,
                2846,
                299,
                2284,
                2174,
                18253,
                76,
                39601,
                116,
                903,
                189,
                233,
                1370,
                652,
                674,
                513,
                171,
                495,
                1613,
                77,
                12250,
                170,
                108,
                532,
                68,
                202,
                58,
                290,
                6612,
                1425,
                86,
                664,
                154,
                3581,
                590,
                441,
                134,
                1039,
                7197,
                5381,
                3939,
                1177,
                308,
                1720,
                57,
                309,
                214,
                1122,
                1106,
                1009,
                849,
                1741,
                8961,
                14474,
                268,
                7907,
                4443,
                223,
                3496,
                79,
                2497,
                346,
                4691,
                109,
                2430,
                335,
                39092,
                182972,
                763,
                118,
                563,
                647,
                2244,
                66,
                18855,
                41464
               ]
              ]
             }
            ],
            "label": "Total Movies",
            "method": "restyle"
           },
           {
            "args": [
             {
              "coloraxis_cmax": 2661719.7791044777,
              "coloraxis_cmin": 245.70278734732227,
              "hovertemplate": "<b>%{hovertext}</b><br>Average Budget: $%{z:,.0f}",
              "z": [
               [
                13639.793103448275,
                127721.69432314411,
                36619.718309859156,
                42339.15481704493,
                28170.413145539907,
                823625.1593687802,
                107354.88949057361,
                3470.094527363184,
                30221.876213592233,
                40357.57894736842,
                638209.7809288162,
                6360.835555555555,
                24644.804928131416,
                71309.23990363278,
                948329.8944444444,
                11667.166666666666,
                167898.35018050543,
                4195.766666666666,
                695903.0767776584,
                49691.57795202952,
                1089933.1012048193,
                188497.527018012,
                263769.3724137931,
                20394.056097560977,
                86166.66666666667,
                47095.34092980857,
                12257.581606217616,
                252158.33846153846,
                334861.8597660299,
                245.70278734732227,
                241366.1392483056,
                46552.334140435836,
                21704.664268585133,
                44031.50743348983,
                79842.68062827225,
                30507.94923857868,
                236731.58221520652,
                480060.7316313968,
                132573.1038961039,
                68313.36923076923,
                68683.88248524038,
                17271.17365269461,
                9661.913580246914,
                954021.8592546966,
                550765.1582667487,
                392263.2559139785,
                341040.2452556158,
                21849.172942817295,
                42276.35488404779,
                23034.043478260868,
                685681.0788091068,
                85229.19503219871,
                332055.2115268723,
                2723.684210526316,
                197725.97043003966,
                186320.6896551724,
                84442.31229235881,
                114794.56613756614,
                48563.1330472103,
                25617.456204379563,
                78598.10582822085,
                210163.16913946587,
                1478819.8460038987,
                81871.34502923976,
                44463.90707070707,
                69262.54556726596,
                55641.03896103896,
                116501.24457142857,
                79302.21764705882,
                104852.25925925926,
                1328593.5112781955,
                3235.294117647059,
                66654.099009901,
                482820.5,
                4819.175862068965,
                177061.23578342408,
                1659834.390877193,
                69517.44186046511,
                28841.426204819276,
                27272.727272727272,
                239472.2395978777,
                133594.4186440678,
                25429.02494331066,
                1036941.9701492537,
                143757.0125120308,
                13958.090315409198,
                140308.46682772718,
                51998.077430820005,
                110942.85386576041,
                240947.4220779221,
                356540.55755813955,
                210425.24561403508,
                71282.11650485436,
                36963.72897196261,
                114841.1898395722,
                181037.07504520795,
                153400.40832507433,
                522230.81036513543,
                684148.4480183802,
                243439.97533757394,
                353417.3885587951,
                22677.671641791047,
                149824.08372328317,
                275665.8278190412,
                3760.134529147982,
                244097.61155606408,
                1267.7215189873418,
                211756.99439327192,
                264394.0317919075,
                73915.84225111916,
                159713.71559633026,
                91090.2683127572,
                2661719.7791044777,
                997596.095083393,
                1316493.0287639638,
                199046.8505897772,
                858.4745762711865,
                101337.78685612789,
                75696.58114374035,
                20100.303921568626,
                712243.9393939395,
                138397.34171307346,
                462752.36376133515
               ]
              ]
             }
            ],
            "label": "Average Budget",
            "method": "restyle"
           },
           {
            "args": [
             {
              "coloraxis_cmax": 6225657.911578948,
              "coloraxis_cmin": 5.436619718309859,
              "hovertemplate": "<b>%{hovertext}</b><br>Average Revenue: $%{z:,.0f}",
              "z": [
               [
                1431.3251231527095,
                61100.68340611354,
                5.436619718309859,
                61480.16095414544,
                2880.093896713615,
                1661202.113448962,
                101268.54973926996,
                4028.218905472637,
                11860.345873786408,
                21594.43020594966,
                567876.0637609441,
                4635.035555555555,
                16062.131416837783,
                50100.592594940725,
                1820697.4537037036,
                19376.88,
                112766.73285198557,
                1430.7,
                1276362.8273254565,
                80385.6328413284,
                3739205.281445783,
                285219.77985323546,
                302.62068965517244,
                7.373170731707317,
                585630.65,
                8667.57064721969,
                5001.858808290155,
                500606.57692307694,
                536762.8160817415,
                227.05919198246164,
                389372.86465393304,
                155928.9515738499,
                35742.78896882494,
                112121.03755868545,
                3940.6973821989527,
                16962.269035532994,
                201340.98710865562,
                723486.8003670237,
                3912.6675324675325,
                60741.53333333333,
                65119.435760472305,
                322.3832335329341,
                123.51851851851852,
                2315146.46473668,
                741621.6972956362,
                846259.6978494624,
                694562.850116189,
                24568.119944211994,
                91506.97891777934,
                2334.200668896321,
                968670.8476357268,
                47138.214811407546,
                375902.3353421355,
                535.75,
                610859.6361708038,
                81413.12068965517,
                31569.950166112958,
                19309.59259259259,
                74175.01287553649,
                688.6386861313869,
                151401.4754601227,
                12501.96884272997,
                721224.0955165692,
                371425.3976608187,
                7654.234343434344,
                26799.407315561068,
                1791.5584415584415,
                229505.50081632653,
                23342.076470588236,
                23065.324074074073,
                2404757.3590225563,
                560.4411764705883,
                407.26732673267327,
                72283.44827586207,
                9301.768965517242,
                219976.87280701756,
                6225657.911578948,
                2988.8720930232557,
                5267.359939759036,
                42285.71428571428,
                175342.45462161407,
                218771.55423728813,
                14245.662131519275,
                1222367.5298507463,
                421231.4542829644,
                44290.597054328195,
                136531.31704144212,
                25557.65397308962,
                51869.997451146985,
                282183.2207792208,
                226655.76569767442,
                3192.9824561403507,
                113713.21035598706,
                19775.03738317757,
                376592.0294117647,
                113753.38155515371,
                192487.8067393459,
                1018234.1472320377,
                1687165.9075244113,
                676079.7983483986,
                592281.5841508913,
                18766.690298507463,
                206258.89616795245,
                366490.07787530945,
                2460.237668161435,
                644544.9250572083,
                12.784810126582279,
                327164.95114136965,
                25569.41907514451,
                161805.27222340653,
                319845.0366972477,
                58091.65226337448,
                5366816.053731344,
                2459192.306840274,
                3476675.478832827,
                221052.77064220182,
                8.474576271186441,
                19831.41030195382,
                162401.65224111284,
                22654.188948306597,
                435256.1212121212,
                134808.1604348979,
                815645.0752218792
               ]
              ]
             }
            ],
            "label": "Average Revenue",
            "method": "restyle"
           },
           {
            "args": [
             {
              "coloraxis_cmax": 6.796487234042553,
              "coloraxis_cmin": 0.00014846153846153845,
              "hovertemplate": "<b>%{hovertext}</b><br>Average Revenue/Budget: %{z:,.3f}",
              "z": [
               [
                0.10493745119864437,
                0.47838923316758447,
                0.00014846153846153845,
                1.4520875822819852,
                0.10223825549997682,
                2.016939495537138,
                0.9433063572587622,
                1.1608383788131424,
                0.3924424079419741,
                0.5350774444153756,
                0.8897953004331707,
                0.7286834434050593,
                0.6517451229043112,
                0.7025820589680468,
                1.919898828846173,
                1.6608042512463754,
                0.6716369322911837,
                0.34098654993525224,
                1.8341100505483976,
                1.6176912900397293,
                3.430674118725673,
                1.5131221314430352,
                0.0011472927538396331,
                0.00036153527755516517,
                6.796487234042553,
                0.18404305980368496,
                0.4080624522012547,
                1.9852866257660329,
                1.6029380487129261,
                0.9241213517919669,
                1.6132041796192687,
                3.349540994087521,
                1.6467791681329202,
                2.546381990851568,
                0.0493557750214558,
                0.5559950589560914,
                0.8505032798100499,
                1.5070734861157855,
                0.029513282992407328,
                0.8891602627319186,
                0.9481035929275832,
                0.018665971405054837,
                0.012784063683931436,
                2.426722660784025,
                1.3465297979805235,
                2.15737692758825,
                2.036600840453893,
                1.1244416440160279,
                2.1644954766974913,
                0.10133699153165615,
                1.4127133992352794,
                0.553075912468717,
                1.1320476905441215,
                0.19670048309178745,
                3.0894254044738196,
                0.436951585142413,
                0.37386411277808795,
                0.16820998800110967,
                1.5273934818708625,
                0.026881618558741095,
                1.9262738441943672,
                0.059486963838243076,
                0.4877024726612087,
                4.536695928571429,
                0.17214488891546312,
                0.3869249548377368,
                0.03219850806188088,
                1.9699832534888797,
                0.2943433003913473,
                0.21997927595477376,
                1.810002336010974,
                0.17322727272727273,
                0.006110161757226312,
                0.14971081028221062,
                1.9301576102939337,
                1.242377372064016,
                3.750770526141947,
                0.04299456385380948,
                0.18263174304739768,
                1.5504761904761903,
                0.7322036780382123,
                1.6375800460658136,
                0.5602126767847907,
                1.1788196109709042,
                2.930162827693099,
                3.1731129440703696,
                0.9730796731538468,
                0.49151151803818866,
                0.46753797692917737,
                1.1711402360966663,
                0.6357082269966289,
                0.015173951427847986,
                1.5952558079310553,
                0.5349849144867702,
                3.279241794149349,
                0.6283430149694343,
                1.2548063518282204,
                1.9497780043274442,
                2.466081611982381,
                2.777193011997683,
                1.6758699580859993,
                0.827540436908156,
                1.3766738366903766,
                1.3294722845222917,
                0.6542951187224959,
                2.6405212281610955,
                0.010084872690963555,
                1.5450018644190038,
                0.0967095168595524,
                2.189047263693415,
                2.0026147128506024,
                0.637737195634528,
                2.016296417024403,
                2.4651182166412755,
                2.640861290467316,
                1.1105564845021207,
                0.009871668311944718,
                0.195696106232407,
                2.145429156605212,
                1.1270570353912672,
                0.6111054052386716,
                0.9740661111423897,
                1.762595156926197
               ]
              ]
             }
            ],
            "label": "Average Revenue/Budget",
            "method": "restyle"
           },
           {
            "args": [
             {
              "coloraxis_cmax": 95.45449264136329,
              "coloraxis_cmin": 15.748512370811149,
              "hovertemplate": "<b>%{hovertext}</b><br>Average Runtime: %{z:,.0f}min",
              "z": [
               [
                62.59605911330049,
                61.52183406113537,
                57.098591549295776,
                50.887100509495134,
                50.11267605633803,
                52.00497583167472,
                50.50842358604091,
                61.8955223880597,
                68.30097087378641,
                45.59496567505721,
                53.92063189950514,
                52.91555555555556,
                56.2258726899384,
                35.36226462943004,
                76.16111111111111,
                64.1,
                70.76173285198556,
                52.42,
                59.732717508055856,
                53.05857933579336,
                57.67392771084337,
                47.67911941294196,
                46.855172413793106,
                35.27804878048781,
                66.35,
                57.76207839562443,
                51.3639896373057,
                66.08461538461539,
                56.81089885976603,
                15.748512370811149,
                51.43212158554118,
                49.55690072639225,
                46.117505995203835,
                82.42292644757434,
                47.48062827225131,
                72.21319796954315,
                61.521704814522494,
                51.612441636274944,
                56.71168831168831,
                65.1948717948718,
                51.09783525442789,
                54.191616766467064,
                48.39506172839506,
                76.96042500769941,
                67.50030731407499,
                53.16236559139785,
                95.45449264136329,
                59.20943747094375,
                62.38018271257906,
                51.51505016722408,
                52.10858143607706,
                60.35510579576817,
                63.78967840902865,
                63.3421052631579,
                77.90449736117775,
                57.18103448275862,
                62.71760797342193,
                51.216931216931215,
                78.87124463519314,
                45.23576642335767,
                49.57055214723926,
                54.52225519287834,
                76.12670565302145,
                36.98830409356725,
                51.45656565656566,
                63.72845629262244,
                62.18181818181818,
                52.3454693877551,
                60.76470588235294,
                61.31481481481482,
                64.05263157894737,
                55.0735294117647,
                46.801980198019805,
                57.827586206896555,
                74.87241379310345,
                51.98109497882638,
                55.336140350877194,
                48.66279069767442,
                78.9382530120482,
                75.33766233766234,
                54.69757051103044,
                65.45762711864407,
                38.766439909297056,
                48.87313432835821,
                43.588065447545716,
                58.09990273725163,
                45.42371306448616,
                46.72124904798172,
                45.598130841121495,
                74.9512987012987,
                69.93953488372092,
                58.36842105263158,
                36.16828478964401,
                53.8411214953271,
                62.91889483065954,
                46.454792043399635,
                35.39345887016848,
                57.32508833922262,
                66.66111430212521,
                68.83751813413681,
                53.04221362443001,
                76.45522388059702,
                60.03945870747439,
                51.88116137744767,
                56.91031390134529,
                65.01859267734554,
                61.164556962025316,
                76.10893071686023,
                57.054913294797686,
                45.52163717757408,
                51.27522935779817,
                42.60658436213992,
                59.27462686567164,
                60.09787168730175,
                72.26000153028879,
                51.77719528178244,
                56.101694915254235,
                59.06927175843695,
                81.62442040185472,
                63.15285204991088,
                66.37878787878788,
                50.793582604083795,
                45.334024696121936
               ]
              ]
             }
            ],
            "label": "Average Runtime",
            "method": "restyle"
           },
           {
            "args": [
             {
              "coloraxis_cmax": 7.631141463414634,
              "coloraxis_cmin": 5.741934545454545,
              "hovertemplate": "<b>%{hovertext}</b><br>Weighted Average Rating: %{z:.2f}",
              "z": [
               [
                6.686116368286444,
                7.197418638621093,
                6.182432569974554,
                6.607786348173348,
                6.258694638694639,
                6.711333014017489,
                6.812788098902227,
                6.323353233830845,
                6.896105263157894,
                6.932589970501476,
                6.69381221201454,
                6.700381980640358,
                6.9765753557567916,
                6.979351855909918,
                6.440633747790766,
                6.310089770354906,
                6.754599512591388,
                6.507588100686498,
                6.5369412278931,
                6.298957289933911,
                6.668890451126402,
                6.5787743546711415,
                6.960984615384615,
                5.950864,
                6.59988860103627,
                6.391242526644138,
                6.46658564231738,
                7.098555644837286,
                6.672354263482115,
                6.776710568286745,
                6.858556228457062,
                6.247563962873285,
                7.157270867882808,
                6.529900492914356,
                6.597665578709516,
                7.4786394799054365,
                6.435043109631148,
                6.766433990730325,
                6.635002694207454,
                7.49562797147385,
                6.632461361989857,
                6.573155189136761,
                5.9039777777777775,
                6.767317450052136,
                6.575161682030396,
                6.75891666044079,
                6.779943301922715,
                6.5937174282678,
                7.0480986472424565,
                6.630139010644959,
                6.8336637097133694,
                6.198978353543009,
                6.730113842568432,
                7.0365780969479355,
                7.045419518855046,
                7.006187753446877,
                6.4294750499002005,
                6.868026360544217,
                7.179284033613445,
                6.408200557103064,
                7.243288457142858,
                6.257692025824463,
                6.716445643153527,
                6.816573351278602,
                6.477257080610021,
                5.912129264392324,
                6.318729257641921,
                6.786587705673151,
                6.877364341085272,
                6.291420837589377,
                6.654070203053675,
                6.338135593220339,
                6.691175365344466,
                7.072980657640231,
                7.27210183299389,
                6.728539515716532,
                7.523467102907343,
                6.352478947368421,
                5.847600507292328,
                5.741934545454545,
                6.70711342741875,
                7.580398320895523,
                6.654083285135917,
                6.195049093321539,
                6.397205818576076,
                6.0089219616204685,
                6.851546469007086,
                6.143265415692112,
                6.272777217481251,
                7.310502602428934,
                6.475684430062946,
                6.850322250639388,
                7.349549842602309,
                6.584439393939394,
                6.377766681827041,
                6.343004497573677,
                6.373273049645391,
                6.629744834710744,
                6.753612831764153,
                7.247592248908298,
                6.752248162039868,
                6.275072319201995,
                6.829878616367478,
                6.753859355217712,
                7.167585820895522,
                7.111688681244922,
                7.631141463414634,
                6.282020068769423,
                6.581161835748793,
                6.693696459271387,
                6.5479554973821985,
                6.6099154359218675,
                6.4950061846689895,
                6.994389002230686,
                6.869296496828944,
                6.304560930914422,
                6.4494384615384615,
                6.773743652945527,
                6.508322831247304,
                6.363593119596542,
                6.865572429906542,
                6.607445392447257,
                6.744737049707421
               ]
              ]
             }
            ],
            "label": "Weighted Average Rating",
            "method": "restyle"
           }
          ],
          "direction": "down",
          "pad": {
           "r": 10,
           "t": 10
          },
          "showactive": true,
          "x": 0.92,
          "xanchor": "left",
          "y": 1.1,
          "yanchor": "top"
         }
        ],
        "width": 600
       }
      }
     },
     "metadata": {},
     "output_type": "display_data"
    }
   ],
   "source": [
    "import plotly.express as px\n",
    "\n",
    "# Limits\n",
    "min_moviesPerCountry = 50\n",
    "budget_range = [1, 5000000]\n",
    "revenue_range = [1, 100000000]\n",
    "min_rating = 5.5\n",
    "\n",
    "country_metrics_df = country_metrics_df[country_metrics_df[\"Total_Movies\"] > min_moviesPerCountry]\n",
    "country_metrics_df = country_metrics_df[(country_metrics_df[\"Average_Budget\"] >= budget_range[0]) & (country_metrics_df[\"Average_Budget\"] <= budget_range[1])]\n",
    "country_metrics_df = country_metrics_df[(country_metrics_df[\"Average_Revenue\"] >= revenue_range[0]) & (country_metrics_df[\"Average_Revenue\"] <= revenue_range[1])]\n",
    "country_metrics_df = country_metrics_df[country_metrics_df[\"Weighted_Average_Rating\"] >= min_rating]\n",
    "\n",
    "\n",
    "# The initial setup\n",
    "fig = px.choropleth(\n",
    "    country_metrics_df,\n",
    "    locations=\"ISO_Code\",\n",
    "    color=\"Total_Movies\",\n",
    "    hover_name=\"Country\",\n",
    "    color_continuous_scale=px.colors.diverging.RdYlGn,\n",
    "    title=\"Interactive World Map\",\n",
    "    projection=\"orthographic\",\n",
    "    width=600,\n",
    "    height=500,\n",
    "    hover_data={\n",
    "        \"Total_Movies\": \":,.0f\"\n",
    "    }\n",
    ")\n",
    "\n",
    "# Initially shown layout data and style\n",
    "fig.update_layout(\n",
    "    geo=dict(\n",
    "        showframe=False,\n",
    "        showcoastlines=False,\n",
    "        projection_type='orthographic',\n",
    "        bgcolor='rgba(0,0,0,0)'\n",
    "    ),\n",
    "    paper_bgcolor='rgba(0,0,0,0)',\n",
    "    plot_bgcolor='rgba(0,0,0,0)',\n",
    "    margin=dict(l=0, r=0, t=50, b=0),\n",
    "    font=dict(family=\"Courier New, monospace\"),\n",
    "    title=dict(font=dict(size=16, family=\"Courier New, monospace\"))\n",
    ")\n",
    "\n",
    "fig.update_traces(\n",
    "    hovertemplate=\"<b>%{hovertext}</b><br>Total Movies: %{z:,.0f}\"\n",
    ")\n",
    "\n",
    "# Remove color bar title\n",
    "fig.update_layout(coloraxis_colorbar=dict(title=\"\"))\n",
    "\n",
    "# Update layout for a cleaner look and configure dropdown menu\n",
    "fig.update_layout(\n",
    "    geo=dict(\n",
    "        showframe=False,\n",
    "        showcoastlines=False,\n",
    "        projection_type='orthographic',\n",
    "        bgcolor='rgba(0,0,0,0)'\n",
    "    ),\n",
    "    paper_bgcolor='rgba(0,0,0,0)',\n",
    "    plot_bgcolor='rgba(0,0,0,0)',\n",
    "    margin=dict(l=0, r=0, t=50, b=0),\n",
    "    font=dict(family=\"Courier New, monospace\"),\n",
    "    title=dict(font=dict(size=16, family=\"Courier New, monospace\")),\n",
    "    # Defining the dropdown menue\n",
    "    updatemenus=[{\n",
    "        'buttons': [\n",
    "            {\n",
    "                'args': [{\"z\": [country_metrics_df[\"Total_Movies\"]],\n",
    "                         \"coloraxis_cmin\": country_metrics_df[\"Total_Movies\"].min(),\n",
    "                         \"coloraxis_cmax\": country_metrics_df[\"Total_Movies\"].max(),\n",
    "                         \"hovertemplate\": \"<b>%{hovertext}</b><br>Total Movies: %{z:,.0f}\"}],\n",
    "                'label': 'Total Movies',\n",
    "                'method': 'restyle'\n",
    "            },\n",
    "            {\n",
    "                'args': [{\"z\": [country_metrics_df[\"Average_Budget\"]],\n",
    "                         \"coloraxis_cmin\": country_metrics_df[\"Average_Budget\"].min(),\n",
    "                         \"coloraxis_cmax\": country_metrics_df[\"Average_Budget\"].max(),\n",
    "                         \"hovertemplate\": \"<b>%{hovertext}</b><br>Average Budget: $%{z:,.0f}\"}],\n",
    "                'label': 'Average Budget',\n",
    "                'method': 'restyle'\n",
    "            },\n",
    "            {\n",
    "                'args': [{\"z\": [country_metrics_df[\"Average_Revenue\"]],\n",
    "                         \"coloraxis_cmin\": country_metrics_df[\"Average_Revenue\"].min(),\n",
    "                         \"coloraxis_cmax\": country_metrics_df[\"Average_Revenue\"].max(),\n",
    "                         \"hovertemplate\": \"<b>%{hovertext}</b><br>Average Revenue: $%{z:,.0f}\"}],\n",
    "                'label': 'Average Revenue',\n",
    "                'method': 'restyle'\n",
    "            },\n",
    "            {\n",
    "                'args': [{\"z\": [country_metrics_df[\"Average_Revenue/Budget\"]],\n",
    "                         \"coloraxis_cmin\": country_metrics_df[\"Average_Revenue/Budget\"].min(),\n",
    "                         \"coloraxis_cmax\": country_metrics_df[\"Average_Revenue/Budget\"].max(),\n",
    "                         \"hovertemplate\": \"<b>%{hovertext}</b><br>Average Revenue/Budget: %{z:,.3f}\"}],\n",
    "                'label': 'Average Revenue/Budget',\n",
    "                'method': 'restyle'\n",
    "            },\n",
    "            {\n",
    "                'args': [{\"z\": [country_metrics_df[\"Average_Runtime\"]],\n",
    "                         \"coloraxis_cmin\": country_metrics_df[\"Average_Runtime\"].min(),\n",
    "                         \"coloraxis_cmax\": country_metrics_df[\"Average_Runtime\"].max(),\n",
    "                         \"hovertemplate\": \"<b>%{hovertext}</b><br>Average Runtime: %{z:,.0f}min\"}],\n",
    "                'label': 'Average Runtime',\n",
    "                'method': 'restyle'\n",
    "            },\n",
    "            {\n",
    "                'args': [{\"z\": [country_metrics_df[\"Weighted_Average_Rating\"]],\n",
    "                         \"coloraxis_cmin\": country_metrics_df[\"Weighted_Average_Rating\"].min(),\n",
    "                         \"coloraxis_cmax\": country_metrics_df[\"Weighted_Average_Rating\"].max(),\n",
    "                         \"hovertemplate\": \"<b>%{hovertext}</b><br>Weighted Average Rating: %{z:.2f}\"}],\n",
    "                'label': 'Weighted Average Rating',\n",
    "                'method': 'restyle'\n",
    "            }\n",
    "        ],\n",
    "        'direction': 'down',\n",
    "        'pad': {'r': 10, 't': 10},\n",
    "        'showactive': True,\n",
    "        'x': 0.92,\n",
    "        'xanchor': 'left',\n",
    "        'y': 1.1,\n",
    "        'yanchor': 'top',\n",
    "        'bgcolor': 'white' \n",
    "    }]\n",
    ")\n",
    "\n",
    "# Show the plot\n",
    "fig.show()\n",
    "fig.write_html('worldMap.html')\n"
   ]
  },
  {
   "cell_type": "markdown",
   "metadata": {},
   "source": [
    "#### 3.1.1 Time Series"
   ]
  },
  {
   "cell_type": "markdown",
   "metadata": {},
   "source": [
    "Here we are creating some time series to investigate specific fields a bit closer, and to gain some insights about the development and actual state."
   ]
  },
  {
   "cell_type": "code",
   "execution_count": null,
   "metadata": {},
   "outputs": [],
   "source": [
    "import pandas as pd\n",
    "import plotly.express as px"
   ]
  },
  {
   "cell_type": "code",
   "execution_count": null,
   "metadata": {},
   "outputs": [],
   "source": [
    "df = pd.read_csv(\"TMDB_movie_dataset_v11.csv\")"
   ]
  },
  {
   "cell_type": "code",
   "execution_count": null,
   "metadata": {},
   "outputs": [],
   "source": [
    "genres_expanded = df['genres'].str.replace(\" \", \"\").str.get_dummies(sep=',')\n",
    "df_dummy = pd.concat([df, genres_expanded], axis=1)"
   ]
  },
  {
   "cell_type": "markdown",
   "metadata": {},
   "source": [
    "This it the Genre dependent time seris of the Weighted Average Rating."
   ]
  },
  {
   "cell_type": "code",
   "execution_count": null,
   "metadata": {},
   "outputs": [
    {
     "name": "stderr",
     "output_type": "stream",
     "text": [
      "C:\\Users\\Besitzer\\AppData\\Local\\Temp\\ipykernel_19268\\652171642.py:17: SettingWithCopyWarning:\n",
      "\n",
      "\n",
      "A value is trying to be set on a copy of a slice from a DataFrame.\n",
      "Try using .loc[row_indexer,col_indexer] = value instead\n",
      "\n",
      "See the caveats in the documentation: https://pandas.pydata.org/pandas-docs/stable/user_guide/indexing.html#returning-a-view-versus-a-copy\n",
      "\n",
      "C:\\Users\\Besitzer\\AppData\\Local\\Temp\\ipykernel_19268\\652171642.py:17: SettingWithCopyWarning:\n",
      "\n",
      "\n",
      "A value is trying to be set on a copy of a slice from a DataFrame.\n",
      "Try using .loc[row_indexer,col_indexer] = value instead\n",
      "\n",
      "See the caveats in the documentation: https://pandas.pydata.org/pandas-docs/stable/user_guide/indexing.html#returning-a-view-versus-a-copy\n",
      "\n",
      "C:\\Users\\Besitzer\\AppData\\Local\\Temp\\ipykernel_19268\\652171642.py:17: SettingWithCopyWarning:\n",
      "\n",
      "\n",
      "A value is trying to be set on a copy of a slice from a DataFrame.\n",
      "Try using .loc[row_indexer,col_indexer] = value instead\n",
      "\n",
      "See the caveats in the documentation: https://pandas.pydata.org/pandas-docs/stable/user_guide/indexing.html#returning-a-view-versus-a-copy\n",
      "\n",
      "C:\\Users\\Besitzer\\AppData\\Local\\Temp\\ipykernel_19268\\652171642.py:17: SettingWithCopyWarning:\n",
      "\n",
      "\n",
      "A value is trying to be set on a copy of a slice from a DataFrame.\n",
      "Try using .loc[row_indexer,col_indexer] = value instead\n",
      "\n",
      "See the caveats in the documentation: https://pandas.pydata.org/pandas-docs/stable/user_guide/indexing.html#returning-a-view-versus-a-copy\n",
      "\n",
      "C:\\Users\\Besitzer\\AppData\\Local\\Temp\\ipykernel_19268\\652171642.py:17: SettingWithCopyWarning:\n",
      "\n",
      "\n",
      "A value is trying to be set on a copy of a slice from a DataFrame.\n",
      "Try using .loc[row_indexer,col_indexer] = value instead\n",
      "\n",
      "See the caveats in the documentation: https://pandas.pydata.org/pandas-docs/stable/user_guide/indexing.html#returning-a-view-versus-a-copy\n",
      "\n",
      "C:\\Users\\Besitzer\\AppData\\Local\\Temp\\ipykernel_19268\\652171642.py:17: SettingWithCopyWarning:\n",
      "\n",
      "\n",
      "A value is trying to be set on a copy of a slice from a DataFrame.\n",
      "Try using .loc[row_indexer,col_indexer] = value instead\n",
      "\n",
      "See the caveats in the documentation: https://pandas.pydata.org/pandas-docs/stable/user_guide/indexing.html#returning-a-view-versus-a-copy\n",
      "\n",
      "C:\\Users\\Besitzer\\AppData\\Local\\Temp\\ipykernel_19268\\652171642.py:17: SettingWithCopyWarning:\n",
      "\n",
      "\n",
      "A value is trying to be set on a copy of a slice from a DataFrame.\n",
      "Try using .loc[row_indexer,col_indexer] = value instead\n",
      "\n",
      "See the caveats in the documentation: https://pandas.pydata.org/pandas-docs/stable/user_guide/indexing.html#returning-a-view-versus-a-copy\n",
      "\n",
      "C:\\Users\\Besitzer\\AppData\\Local\\Temp\\ipykernel_19268\\652171642.py:17: SettingWithCopyWarning:\n",
      "\n",
      "\n",
      "A value is trying to be set on a copy of a slice from a DataFrame.\n",
      "Try using .loc[row_indexer,col_indexer] = value instead\n",
      "\n",
      "See the caveats in the documentation: https://pandas.pydata.org/pandas-docs/stable/user_guide/indexing.html#returning-a-view-versus-a-copy\n",
      "\n",
      "C:\\Users\\Besitzer\\AppData\\Local\\Temp\\ipykernel_19268\\652171642.py:17: SettingWithCopyWarning:\n",
      "\n",
      "\n",
      "A value is trying to be set on a copy of a slice from a DataFrame.\n",
      "Try using .loc[row_indexer,col_indexer] = value instead\n",
      "\n",
      "See the caveats in the documentation: https://pandas.pydata.org/pandas-docs/stable/user_guide/indexing.html#returning-a-view-versus-a-copy\n",
      "\n",
      "C:\\Users\\Besitzer\\AppData\\Local\\Temp\\ipykernel_19268\\652171642.py:17: SettingWithCopyWarning:\n",
      "\n",
      "\n",
      "A value is trying to be set on a copy of a slice from a DataFrame.\n",
      "Try using .loc[row_indexer,col_indexer] = value instead\n",
      "\n",
      "See the caveats in the documentation: https://pandas.pydata.org/pandas-docs/stable/user_guide/indexing.html#returning-a-view-versus-a-copy\n",
      "\n",
      "C:\\Users\\Besitzer\\AppData\\Local\\Temp\\ipykernel_19268\\652171642.py:17: SettingWithCopyWarning:\n",
      "\n",
      "\n",
      "A value is trying to be set on a copy of a slice from a DataFrame.\n",
      "Try using .loc[row_indexer,col_indexer] = value instead\n",
      "\n",
      "See the caveats in the documentation: https://pandas.pydata.org/pandas-docs/stable/user_guide/indexing.html#returning-a-view-versus-a-copy\n",
      "\n",
      "C:\\Users\\Besitzer\\AppData\\Local\\Temp\\ipykernel_19268\\652171642.py:17: SettingWithCopyWarning:\n",
      "\n",
      "\n",
      "A value is trying to be set on a copy of a slice from a DataFrame.\n",
      "Try using .loc[row_indexer,col_indexer] = value instead\n",
      "\n",
      "See the caveats in the documentation: https://pandas.pydata.org/pandas-docs/stable/user_guide/indexing.html#returning-a-view-versus-a-copy\n",
      "\n",
      "C:\\Users\\Besitzer\\AppData\\Local\\Temp\\ipykernel_19268\\652171642.py:17: SettingWithCopyWarning:\n",
      "\n",
      "\n",
      "A value is trying to be set on a copy of a slice from a DataFrame.\n",
      "Try using .loc[row_indexer,col_indexer] = value instead\n",
      "\n",
      "See the caveats in the documentation: https://pandas.pydata.org/pandas-docs/stable/user_guide/indexing.html#returning-a-view-versus-a-copy\n",
      "\n",
      "C:\\Users\\Besitzer\\AppData\\Local\\Temp\\ipykernel_19268\\652171642.py:17: SettingWithCopyWarning:\n",
      "\n",
      "\n",
      "A value is trying to be set on a copy of a slice from a DataFrame.\n",
      "Try using .loc[row_indexer,col_indexer] = value instead\n",
      "\n",
      "See the caveats in the documentation: https://pandas.pydata.org/pandas-docs/stable/user_guide/indexing.html#returning-a-view-versus-a-copy\n",
      "\n",
      "C:\\Users\\Besitzer\\AppData\\Local\\Temp\\ipykernel_19268\\652171642.py:17: SettingWithCopyWarning:\n",
      "\n",
      "\n",
      "A value is trying to be set on a copy of a slice from a DataFrame.\n",
      "Try using .loc[row_indexer,col_indexer] = value instead\n",
      "\n",
      "See the caveats in the documentation: https://pandas.pydata.org/pandas-docs/stable/user_guide/indexing.html#returning-a-view-versus-a-copy\n",
      "\n",
      "C:\\Users\\Besitzer\\AppData\\Local\\Temp\\ipykernel_19268\\652171642.py:17: SettingWithCopyWarning:\n",
      "\n",
      "\n",
      "A value is trying to be set on a copy of a slice from a DataFrame.\n",
      "Try using .loc[row_indexer,col_indexer] = value instead\n",
      "\n",
      "See the caveats in the documentation: https://pandas.pydata.org/pandas-docs/stable/user_guide/indexing.html#returning-a-view-versus-a-copy\n",
      "\n",
      "C:\\Users\\Besitzer\\AppData\\Local\\Temp\\ipykernel_19268\\652171642.py:17: SettingWithCopyWarning:\n",
      "\n",
      "\n",
      "A value is trying to be set on a copy of a slice from a DataFrame.\n",
      "Try using .loc[row_indexer,col_indexer] = value instead\n",
      "\n",
      "See the caveats in the documentation: https://pandas.pydata.org/pandas-docs/stable/user_guide/indexing.html#returning-a-view-versus-a-copy\n",
      "\n",
      "C:\\Users\\Besitzer\\AppData\\Local\\Temp\\ipykernel_19268\\652171642.py:17: SettingWithCopyWarning:\n",
      "\n",
      "\n",
      "A value is trying to be set on a copy of a slice from a DataFrame.\n",
      "Try using .loc[row_indexer,col_indexer] = value instead\n",
      "\n",
      "See the caveats in the documentation: https://pandas.pydata.org/pandas-docs/stable/user_guide/indexing.html#returning-a-view-versus-a-copy\n",
      "\n",
      "C:\\Users\\Besitzer\\AppData\\Local\\Temp\\ipykernel_19268\\652171642.py:17: SettingWithCopyWarning:\n",
      "\n",
      "\n",
      "A value is trying to be set on a copy of a slice from a DataFrame.\n",
      "Try using .loc[row_indexer,col_indexer] = value instead\n",
      "\n",
      "See the caveats in the documentation: https://pandas.pydata.org/pandas-docs/stable/user_guide/indexing.html#returning-a-view-versus-a-copy\n",
      "\n",
      "C:\\Users\\Besitzer\\AppData\\Local\\Packages\\PythonSoftwareFoundation.Python.3.11_qbz5n2kfra8p0\\LocalCache\\local-packages\\Python311\\site-packages\\plotly\\express\\_core.py:2065: FutureWarning:\n",
      "\n",
      "When grouping with a length-1 list-like, you will need to pass a length-1 tuple to get_group in a future version of pandas. Pass `(name,)` instead of `name` to silence this warning.\n",
      "\n"
     ]
    },
    {
     "data": {
      "application/vnd.plotly.v1+json": {
       "config": {
        "plotlyServerURL": "https://plot.ly"
       },
       "data": [
        {
         "hovertemplate": "Genre=Action<br>Year=%{x|%Y}<br>Weighted Average Rating=%{y}<extra></extra>",
         "legendgroup": "Action",
         "line": {
          "color": "#636efa",
          "dash": "solid"
         },
         "marker": {
          "symbol": "circle"
         },
         "mode": "lines",
         "name": "Action",
         "showlegend": true,
         "type": "scattergl",
         "visible": "legendonly",
         "x": [
          1894,
          1895,
          1896,
          1897,
          1898,
          1900,
          1901,
          1902,
          1903,
          1904,
          1905,
          1906,
          1907,
          1908,
          1909,
          1910,
          1911,
          1912,
          1913,
          1914,
          1915,
          1916,
          1917,
          1918,
          1919,
          1920,
          1921,
          1922,
          1923,
          1924,
          1925,
          1926,
          1927,
          1928,
          1929,
          1930,
          1931,
          1932,
          1933,
          1934,
          1935,
          1936,
          1937,
          1938,
          1939,
          1940,
          1941,
          1942,
          1943,
          1944,
          1945,
          1946,
          1947,
          1948,
          1949,
          1950,
          1951,
          1952,
          1953,
          1954,
          1955,
          1956,
          1957,
          1958,
          1959,
          1960,
          1961,
          1962,
          1963,
          1964,
          1965,
          1966,
          1967,
          1968,
          1969,
          1970,
          1971,
          1972,
          1973,
          1974,
          1975,
          1976,
          1977,
          1978,
          1979,
          1980,
          1981,
          1982,
          1983,
          1984,
          1985,
          1986,
          1987,
          1988,
          1989,
          1990,
          1991,
          1992,
          1993,
          1994,
          1995,
          1996,
          1997,
          1998,
          1999,
          2000,
          2001,
          2002,
          2003,
          2004,
          2005,
          2006,
          2007,
          2008,
          2009,
          2010,
          2011,
          2012,
          2013,
          2014,
          2015,
          2016,
          2017,
          2018,
          2019,
          2020,
          2021,
          2022,
          2023,
          2024,
          2025,
          2026,
          2027,
          2028,
          2029,
          2030,
          2031
         ],
         "xaxis": "x",
         "y": [
          5.796,
          4.574,
          4.529,
          4.573684210526316,
          3.4875,
          5.1,
          5.848,
          4,
          6.813788059701493,
          5.109866666666666,
          4.771428571428571,
          5.427666666666667,
          5.3187500000000005,
          5.470689655172413,
          6.0439041095890405,
          4,
          5.414285714285714,
          6.144262295081967,
          5.36421052631579,
          5.752173913043479,
          5.453333333333333,
          6.009677419354839,
          7.083018867924529,
          6.0415652173913035,
          6.21,
          6.754732323232322,
          5.883318181818182,
          5.8478260869565215,
          5.252941176470588,
          7.884359749739311,
          6.571052631578947,
          7.770587177482408,
          6.949016891891892,
          6.5219007092198575,
          5.971833333333333,
          5.890013245033113,
          5.027397260273973,
          6.399228417266187,
          5.4791889250814325,
          5.560346007604562,
          6.229982625482626,
          5.699501858736059,
          6.18688864142539,
          5.909145454545455,
          6.306507462686566,
          6.683722342733189,
          6.202042857142858,
          6.2652690124858115,
          6.092584980237154,
          6.076538983050847,
          6.243643216080402,
          5.268548571428571,
          6.425505307855627,
          6.124094043887148,
          6.161141831238779,
          6.543852971845672,
          6.285657471264368,
          6.311832391713747,
          6.416858392999204,
          7.939564015518913,
          6.146122381477398,
          6.333781284004353,
          6.040155737704918,
          7.006143283582089,
          7.542965678107297,
          5.991276341948311,
          6.745570627802691,
          7.204703148203149,
          6.97170004224757,
          7.173525429799427,
          6.546667960223139,
          6.4862730243005915,
          6.518617735975814,
          7.069133994406306,
          6.400766162310867,
          6.670896488828089,
          6.834082138677589,
          6.805000246244767,
          6.5505056965999815,
          6.505113769531251,
          6.43496138178263,
          6.401809655937846,
          7.674906458549608,
          6.6845110716621505,
          6.488147477794536,
          7.599426525322345,
          7.2455348389485374,
          6.81858485811329,
          7.385294808877256,
          7.004019724234634,
          6.422411648277604,
          7.040559192962492,
          6.695043326247483,
          6.997426971441667,
          6.835386153572698,
          6.582097698046529,
          6.937146229115702,
          6.51798207412875,
          6.627203567065721,
          6.933497254480021,
          6.769231356088804,
          6.519393677912466,
          6.495416105334539,
          6.519814311891477,
          6.902260908528658,
          6.776589019889391,
          6.834723727828851,
          6.8609895020301686,
          6.932404007483261,
          6.753999843404826,
          6.653044648794754,
          6.82142315996593,
          6.529347304118855,
          6.8036954116065,
          6.546609625189197,
          6.708769928896901,
          6.501887372329801,
          6.774843093430318,
          6.577704134596659,
          6.931839243676434,
          6.677976917701688,
          6.5451234647616054,
          6.829887891615531,
          6.950506790945406,
          6.910448958213042,
          6.807368380818578,
          7.188193623325028,
          7.12498677144985,
          7.159622672176308,
          8.545454545454545,
          null,
          null,
          null,
          null,
          null,
          null,
          null
         ],
         "yaxis": "y"
        },
        {
         "hovertemplate": "Genre=Adventure<br>Year=%{x|%Y}<br>Weighted Average Rating=%{y}<extra></extra>",
         "legendgroup": "Adventure",
         "line": {
          "color": "#EF553B",
          "dash": "solid"
         },
         "marker": {
          "symbol": "circle"
         },
         "mode": "lines",
         "name": "Adventure",
         "showlegend": true,
         "type": "scattergl",
         "visible": "legendonly",
         "x": [
          1901,
          1902,
          1903,
          1904,
          1905,
          1906,
          1907,
          1908,
          1909,
          1910,
          1911,
          1912,
          1913,
          1914,
          1915,
          1916,
          1917,
          1918,
          1919,
          1920,
          1921,
          1922,
          1923,
          1924,
          1925,
          1926,
          1927,
          1928,
          1929,
          1930,
          1931,
          1932,
          1933,
          1934,
          1935,
          1936,
          1937,
          1938,
          1939,
          1940,
          1941,
          1942,
          1943,
          1944,
          1945,
          1946,
          1947,
          1948,
          1949,
          1950,
          1951,
          1952,
          1953,
          1954,
          1955,
          1956,
          1957,
          1958,
          1959,
          1960,
          1961,
          1962,
          1963,
          1964,
          1965,
          1966,
          1967,
          1968,
          1969,
          1970,
          1971,
          1972,
          1973,
          1974,
          1975,
          1976,
          1977,
          1978,
          1979,
          1980,
          1981,
          1982,
          1983,
          1984,
          1985,
          1986,
          1987,
          1988,
          1989,
          1990,
          1991,
          1992,
          1993,
          1994,
          1995,
          1996,
          1997,
          1998,
          1999,
          2000,
          2001,
          2002,
          2003,
          2004,
          2005,
          2006,
          2007,
          2008,
          2009,
          2010,
          2011,
          2012,
          2013,
          2014,
          2015,
          2016,
          2017,
          2018,
          2019,
          2020,
          2021,
          2022,
          2023,
          2024,
          2025,
          2026,
          2027,
          2028,
          2029,
          2030,
          2031
         ],
         "xaxis": "x",
         "y": [
          null,
          7.830684596577017,
          6.713432835820896,
          7.22644705882353,
          5.562883720930233,
          5,
          5.668030927835051,
          3.8,
          4.85,
          5.770731707317073,
          6.14435761589404,
          5.753835820895523,
          5.162857142857143,
          5.315294117647059,
          5.4125000000000005,
          6.005203007518797,
          6.598165714285713,
          5.8859139784946235,
          5.930165137614679,
          6.20188679245283,
          6.20827067669173,
          6.6105849673202615,
          6.184953488372092,
          7.320232346241458,
          7.796626152073732,
          7.721942740286298,
          6.023478021978023,
          6.768074324324325,
          6.076448529411764,
          5.784326923076923,
          6.305517333333333,
          6.579204678362573,
          7.276407594936709,
          5.942966173361523,
          6.7908116805721095,
          6.097678707224334,
          6.600491643454039,
          6.967053997923157,
          7.403372883688919,
          6.547601826484018,
          6.854596610169492,
          6.129869527896996,
          6.343618025751073,
          5.975917721518988,
          6.842186503067485,
          5.927388535031847,
          6.251807506053269,
          7.452410241657076,
          6.198412797992472,
          6.137382896015549,
          7.031729209731276,
          6.709600000000001,
          7.1208964863682755,
          6.596275733000624,
          6.190380066445183,
          6.641100966344552,
          6.2668071367884455,
          6.746694598687531,
          7.215522689865977,
          7.097724377087079,
          6.9504837863614695,
          7.145364884568652,
          7.121323818897638,
          6.965101283226398,
          6.670576411960132,
          6.458469312977099,
          6.869094805809914,
          7.609062971222258,
          6.684071556350626,
          6.928624218305855,
          6.556046460661846,
          7.028383436532507,
          6.470637170056253,
          6.358310866222451,
          7.497873936622714,
          6.441785455424015,
          7.668028792513947,
          6.6858466723863215,
          6.513929648241207,
          7.6312393540126395,
          7.3168914366280795,
          7.218556761918235,
          7.232006111535524,
          6.890505379449779,
          7.2356499811423545,
          6.8765090808620375,
          6.861812557555462,
          6.634700086258377,
          7.177461767735431,
          7.00742518373909,
          6.660600991842789,
          6.979291148052237,
          6.977652520282342,
          6.503882795906546,
          7.0418806214641565,
          6.5908324759182815,
          6.774518429748221,
          6.774035730576251,
          6.49732068227259,
          7.029320152688896,
          7.230837857874701,
          7.058234120808072,
          7.04109855622828,
          7.068399536152977,
          6.768544610768461,
          6.60844950274878,
          6.733094668705765,
          6.505893837363534,
          6.773753633909442,
          6.857977933141161,
          6.716018027266181,
          6.904803839732888,
          6.684121939781323,
          7.163876163256528,
          6.917469092822866,
          6.77531953229161,
          6.937633987715284,
          7.116744808562926,
          7.131718182574609,
          6.899236614950635,
          7.397248629981422,
          7.174513304925108,
          7.24876831809872,
          8.8125,
          null,
          null,
          null,
          null,
          null,
          null,
          null
         ],
         "yaxis": "y"
        },
        {
         "hovertemplate": "Genre=Animation<br>Year=%{x|%Y}<br>Weighted Average Rating=%{y}<extra></extra>",
         "legendgroup": "Animation",
         "line": {
          "color": "#00cc96",
          "dash": "solid"
         },
         "marker": {
          "symbol": "circle"
         },
         "mode": "lines",
         "name": "Animation",
         "showlegend": true,
         "type": "scattergl",
         "x": [
          1878,
          1885,
          1892,
          1894,
          1896,
          1897,
          1898,
          1899,
          1900,
          1906,
          1907,
          1908,
          1909,
          1910,
          1911,
          1912,
          1913,
          1914,
          1915,
          1916,
          1917,
          1918,
          1919,
          1920,
          1921,
          1922,
          1923,
          1924,
          1925,
          1926,
          1927,
          1928,
          1929,
          1930,
          1931,
          1932,
          1933,
          1934,
          1935,
          1936,
          1937,
          1938,
          1939,
          1940,
          1941,
          1942,
          1943,
          1944,
          1945,
          1946,
          1947,
          1948,
          1949,
          1950,
          1951,
          1952,
          1953,
          1954,
          1955,
          1956,
          1957,
          1958,
          1959,
          1960,
          1961,
          1962,
          1963,
          1964,
          1965,
          1966,
          1967,
          1968,
          1969,
          1970,
          1971,
          1972,
          1973,
          1974,
          1975,
          1976,
          1977,
          1978,
          1979,
          1980,
          1981,
          1982,
          1983,
          1984,
          1985,
          1986,
          1987,
          1988,
          1989,
          1990,
          1991,
          1992,
          1993,
          1994,
          1995,
          1996,
          1997,
          1998,
          1999,
          2000,
          2001,
          2002,
          2003,
          2004,
          2005,
          2006,
          2007,
          2008,
          2009,
          2010,
          2011,
          2012,
          2013,
          2014,
          2015,
          2016,
          2017,
          2018,
          2019,
          2020,
          2021,
          2022,
          2023,
          2024,
          2025,
          2026,
          2028,
          2030
         ],
         "xaxis": "x",
         "y": [
          4.630947368421053,
          4.696,
          5.7451346153846155,
          5.68594117647059,
          5,
          4.5,
          7,
          4.2,
          6.423,
          5.669372881355932,
          5.988079365079365,
          6.183373949579832,
          5.071428571428571,
          5.418709302325581,
          6.133493150684932,
          6.656097560975611,
          6.101516129032258,
          6.595882352941176,
          5.910638297872341,
          4.994202898550725,
          5.923711340206186,
          6.017687499999999,
          5.65,
          5.393861538461539,
          5.622216617210682,
          5.230252293577982,
          5.978398692810458,
          5.040013043478261,
          4.732916230366492,
          6.528719895287958,
          5.636837638376384,
          6.732660401002507,
          5.990582924435721,
          5.410559633027522,
          5.574217961654894,
          5.839481509433963,
          6.166123488224061,
          5.920226749335695,
          6.230616113744075,
          6.241451474201474,
          6.997804111245465,
          6.277432114882506,
          6.310869463869464,
          7.065832221163012,
          6.816098928405032,
          6.789719895629485,
          6.418775386313466,
          6.327820340733092,
          6.3820883977900555,
          6.411561367167271,
          6.518889394629039,
          6.46679323513366,
          6.677388483965015,
          6.95670024011121,
          7.061096230725299,
          6.758277595115078,
          7.139764902587961,
          6.637256203115983,
          7.013934659090909,
          6.364686903729402,
          6.55956,
          6.354610432852386,
          6.86510426029121,
          6.215789473684211,
          7.068163373057777,
          6.0419075,
          7.067081705574083,
          6.660405034324944,
          6.829277551020407,
          7.00808536003815,
          6.998938003639199,
          6.807233613445378,
          6.694674566473989,
          7.188496771879483,
          6.765180881511163,
          6.559205054151624,
          7.216871202531646,
          6.508863449691992,
          6.5904952606635065,
          6.995258198854763,
          6.715287708947885,
          6.7109270704573545,
          7.093012168141593,
          6.737342839429635,
          7.000085993615323,
          7.280186003303055,
          7.026710423197493,
          7.521909470446055,
          6.59110615989515,
          7.235746022562917,
          6.704539639147074,
          7.705774243874765,
          7.276117007913579,
          6.760270138888889,
          7.3710428830134,
          7.296924635375232,
          7.512797235320715,
          7.56120182258706,
          7.5906019944066205,
          6.7418717337031895,
          7.639102727933581,
          7.09778205252447,
          7.420951511761415,
          6.935411945731304,
          7.693213482972136,
          7.056007726791467,
          7.24643200054093,
          7.120825178684769,
          6.778957107048705,
          6.637789070494207,
          6.8777863744626035,
          7.1345479643096015,
          7.103173044716605,
          7.2229713439157965,
          6.625851078758113,
          7.012497533490484,
          6.937075571448938,
          7.268062676376251,
          7.0829063575416145,
          7.169255430918384,
          7.109331467766917,
          7.445662277160894,
          7.366334321626926,
          7.633920541968079,
          7.52058766429001,
          7.445921761133603,
          7.784071449359721,
          9.210526315789474,
          null,
          null,
          null,
          null
         ],
         "yaxis": "y"
        },
        {
         "hovertemplate": "Genre=Comedy<br>Year=%{x|%Y}<br>Weighted Average Rating=%{y}<extra></extra>",
         "legendgroup": "Comedy",
         "line": {
          "color": "#ab63fa",
          "dash": "solid"
         },
         "marker": {
          "symbol": "circle"
         },
         "mode": "lines",
         "name": "Comedy",
         "showlegend": true,
         "type": "scattergl",
         "visible": "legendonly",
         "x": [
          1892,
          1894,
          1895,
          1896,
          1897,
          1898,
          1899,
          1900,
          1901,
          1902,
          1903,
          1904,
          1905,
          1906,
          1907,
          1908,
          1909,
          1910,
          1911,
          1912,
          1913,
          1914,
          1915,
          1916,
          1917,
          1918,
          1919,
          1920,
          1921,
          1922,
          1923,
          1924,
          1925,
          1926,
          1927,
          1928,
          1929,
          1930,
          1931,
          1932,
          1933,
          1934,
          1935,
          1936,
          1937,
          1938,
          1939,
          1940,
          1941,
          1942,
          1943,
          1944,
          1945,
          1946,
          1947,
          1948,
          1949,
          1950,
          1951,
          1952,
          1953,
          1954,
          1955,
          1956,
          1957,
          1958,
          1959,
          1960,
          1961,
          1962,
          1963,
          1964,
          1965,
          1966,
          1967,
          1968,
          1969,
          1970,
          1971,
          1972,
          1973,
          1974,
          1975,
          1976,
          1977,
          1978,
          1979,
          1980,
          1981,
          1982,
          1983,
          1984,
          1985,
          1986,
          1987,
          1988,
          1989,
          1990,
          1991,
          1992,
          1993,
          1994,
          1995,
          1996,
          1997,
          1998,
          1999,
          2000,
          2001,
          2002,
          2003,
          2004,
          2005,
          2006,
          2007,
          2008,
          2009,
          2010,
          2011,
          2012,
          2013,
          2014,
          2015,
          2016,
          2017,
          2018,
          2019,
          2020,
          2021,
          2022,
          2023,
          2024,
          2025,
          2026,
          2027,
          2028,
          2030
         ],
         "xaxis": "x",
         "y": [
          6.029,
          5.201844036697247,
          6.310108695652174,
          4.9036566666666666,
          5.141637339055794,
          5.777848717948718,
          5.5224722222222224,
          5.775981818181819,
          5.852267692307692,
          5.044720670391062,
          5.477256351039261,
          6.035141891891892,
          5.472084210526315,
          5.773303643724697,
          5.649981481481482,
          5.152963746223565,
          5.593052325581396,
          5.213565217391305,
          5.233099099099099,
          5.172793023255814,
          5.245495297805643,
          5.540759981211837,
          5.744576860841423,
          6.1630118143459915,
          6.438655,
          6.296090996168582,
          6.095557413600892,
          6.726029736618522,
          7.584386401326699,
          6.395663433559651,
          6.970863082437275,
          7.205179261862917,
          7.430132569558101,
          7.212700431034483,
          6.343348603351955,
          7.1452893365752,
          6.359425569176882,
          6.24421722846442,
          7.198409878888624,
          6.482651260504202,
          6.646720667648503,
          6.91792602878061,
          6.601586114819759,
          7.456264727594863,
          6.449429408138101,
          6.818894600518031,
          6.909724387304138,
          7.441920365692289,
          6.5797044601917465,
          6.7448958719851575,
          6.448014873746108,
          6.754684694730973,
          6.426462081128748,
          6.7484732297063905,
          6.846844844597928,
          6.593815656565656,
          6.751493691978101,
          6.768901517099511,
          6.756027829747428,
          7.3067412922766275,
          7.176854758890551,
          6.89754543862721,
          6.952657535870983,
          6.76494070309191,
          6.560656630659619,
          6.845869581677078,
          7.2700306466855675,
          7.207260629104735,
          7.137206226940256,
          6.97846511627907,
          6.836246947496947,
          7.3011165989847715,
          6.752655438263551,
          6.777675469206828,
          6.862926118840381,
          6.658716533259729,
          6.552130773918343,
          6.787115914549362,
          6.888256706920239,
          6.5818390227576975,
          7.094859035607363,
          6.899491198602527,
          7.1024516273598115,
          6.644077020095855,
          6.861491720875222,
          6.778031173988582,
          6.950625925223002,
          6.706865972726539,
          6.57494688308887,
          6.54428009392766,
          6.564302365334924,
          6.832359964339597,
          7.230335504464478,
          6.517372364254268,
          6.6801883888526845,
          6.6744051741873545,
          6.797733313279716,
          6.773788050674295,
          6.595951505720054,
          6.561644702021806,
          6.637547979074641,
          6.933181661979131,
          6.878518670878328,
          6.345492635118628,
          6.699660934182591,
          6.9667411430265345,
          6.65336242463278,
          6.57468478083691,
          6.727598105603685,
          6.362894960341059,
          6.292863853376093,
          6.532627704772813,
          6.3586780095842,
          6.417667975835345,
          6.495246317097497,
          6.316434654775854,
          6.556888332509992,
          6.47528844857122,
          6.470997700049908,
          6.468893691904698,
          6.491433323751318,
          6.692971755460934,
          6.523720005314504,
          6.6611892250714035,
          6.671425884964161,
          6.810532309665764,
          6.919421390478528,
          6.90525273576983,
          7.054098587965077,
          6.937369379391925,
          6.955162702018852,
          8.808219178082192,
          null,
          null,
          null,
          null,
          null
         ],
         "yaxis": "y"
        },
        {
         "hovertemplate": "Genre=Crime<br>Year=%{x|%Y}<br>Weighted Average Rating=%{y}<extra></extra>",
         "legendgroup": "Crime",
         "line": {
          "color": "#FFA15A",
          "dash": "solid"
         },
         "marker": {
          "symbol": "circle"
         },
         "mode": "lines",
         "name": "Crime",
         "showlegend": true,
         "type": "scattergl",
         "visible": "legendonly",
         "x": [
          1894,
          1895,
          1896,
          1897,
          1898,
          1899,
          1900,
          1901,
          1902,
          1903,
          1904,
          1905,
          1906,
          1907,
          1908,
          1909,
          1910,
          1911,
          1912,
          1913,
          1914,
          1915,
          1916,
          1917,
          1918,
          1919,
          1920,
          1921,
          1922,
          1923,
          1924,
          1925,
          1926,
          1927,
          1928,
          1929,
          1930,
          1931,
          1932,
          1933,
          1934,
          1935,
          1936,
          1937,
          1938,
          1939,
          1940,
          1941,
          1942,
          1943,
          1944,
          1945,
          1946,
          1947,
          1948,
          1949,
          1950,
          1951,
          1952,
          1953,
          1954,
          1955,
          1956,
          1957,
          1958,
          1959,
          1960,
          1961,
          1962,
          1963,
          1964,
          1965,
          1966,
          1967,
          1968,
          1969,
          1970,
          1971,
          1972,
          1973,
          1974,
          1975,
          1976,
          1977,
          1978,
          1979,
          1980,
          1981,
          1982,
          1983,
          1984,
          1985,
          1986,
          1987,
          1988,
          1989,
          1990,
          1991,
          1992,
          1993,
          1994,
          1995,
          1996,
          1997,
          1998,
          1999,
          2000,
          2001,
          2002,
          2003,
          2004,
          2005,
          2006,
          2007,
          2008,
          2009,
          2010,
          2011,
          2012,
          2013,
          2014,
          2015,
          2016,
          2017,
          2018,
          2019,
          2020,
          2021,
          2022,
          2023,
          2024,
          2025,
          2026
         ],
         "xaxis": "x",
         "y": [
          4.778,
          3.889,
          3,
          4.282608695652174,
          4.421739130434783,
          null,
          5.087179487179487,
          5.378848484848485,
          3.8664666666666667,
          6.8392320534223705,
          5.254166666666666,
          4.757692307692308,
          5.4183295454545455,
          5.520833333333333,
          5.2627906976744185,
          5.856410256410257,
          5.8,
          5,
          6.073774834437086,
          5.349180327868853,
          4.810888888888889,
          6.020386363636363,
          6.013759259259259,
          5.825233333333333,
          4.7384615384615385,
          5.676164948453608,
          7.866716198125837,
          6.615134999999999,
          7.055508695652173,
          6.047272727272727,
          7.210102702702703,
          6.351800000000001,
          6.175,
          6.46340625,
          6.63230701754386,
          6.480867117117118,
          5.9569248434238,
          7.479825682568257,
          6.850713345302214,
          6.439034441805225,
          6.804206313416009,
          6.170347953216375,
          6.6245079100749376,
          6.508948638132296,
          6.8425377741673445,
          6.576813484562067,
          6.3583224242424246,
          7.257026713124273,
          6.439664756446991,
          7.145472407519709,
          7.601968413136125,
          6.805662662662662,
          6.877770682148041,
          6.911760299625469,
          7.341598776223777,
          6.962529947557273,
          7.358266577584767,
          7.05558143557221,
          6.532157190635451,
          6.788262853005069,
          7.51693765730881,
          7.122169838523645,
          6.95675415896488,
          7.126603702145562,
          7.2954276980954615,
          7.5677708797804835,
          7.286239692138538,
          7.01984289931125,
          6.994578181818182,
          7.1760692262943575,
          6.9556787068449415,
          6.756571983062809,
          6.68736510337872,
          7.2116687450252055,
          6.503924569488237,
          6.842904865649964,
          6.605511163734777,
          6.993516426969257,
          8.20137121956975,
          7.2115934413009875,
          7.8411068368818375,
          6.888128622412562,
          7.616686755744396,
          6.223486679920477,
          6.883761680240035,
          6.719553615346778,
          7.073842517726086,
          6.777941807909604,
          6.262285343709468,
          7.512025052310128,
          7.175814773330188,
          6.589397290759555,
          6.956235595653066,
          6.91142487543996,
          6.906104849826643,
          6.782676383834514,
          7.311199430621868,
          7.456846374609606,
          7.28092780689217,
          6.929654533011798,
          7.8654706512944985,
          7.3726752647194225,
          7.308823988824687,
          6.9235120456973425,
          7.051440649119335,
          7.244082873378276,
          6.960908285181172,
          6.805885268518926,
          7.138956112231889,
          7.064134254551002,
          6.820464565631134,
          6.952022754821598,
          6.874140922026181,
          6.994751702190645,
          7.098202898962627,
          6.688754564795864,
          6.563560378744165,
          6.749413486322441,
          6.78789055027806,
          6.815688439612249,
          6.777440307707983,
          6.626542471924438,
          6.6420888203680795,
          6.754200509289824,
          6.667848348533399,
          7.165719869124,
          6.845571677408118,
          6.964373138454965,
          6.934001128880527,
          7.00921984166033,
          9.176470588235293,
          null,
          null
         ],
         "yaxis": "y"
        },
        {
         "hovertemplate": "Genre=Documentary<br>Year=%{x|%Y}<br>Weighted Average Rating=%{y}<extra></extra>",
         "legendgroup": "Documentary",
         "line": {
          "color": "#19d3f3",
          "dash": "solid"
         },
         "marker": {
          "symbol": "circle"
         },
         "mode": "lines",
         "name": "Documentary",
         "showlegend": true,
         "type": "scattergl",
         "visible": "legendonly",
         "x": [
          1865,
          1874,
          1878,
          1882,
          1883,
          1887,
          1888,
          1889,
          1890,
          1891,
          1892,
          1893,
          1894,
          1895,
          1896,
          1897,
          1898,
          1899,
          1900,
          1901,
          1902,
          1903,
          1904,
          1905,
          1906,
          1907,
          1908,
          1909,
          1910,
          1911,
          1912,
          1913,
          1914,
          1915,
          1916,
          1917,
          1918,
          1919,
          1920,
          1921,
          1922,
          1923,
          1924,
          1925,
          1926,
          1927,
          1928,
          1929,
          1930,
          1931,
          1932,
          1933,
          1934,
          1935,
          1936,
          1937,
          1938,
          1939,
          1940,
          1941,
          1942,
          1943,
          1944,
          1945,
          1946,
          1947,
          1948,
          1949,
          1950,
          1951,
          1952,
          1953,
          1954,
          1955,
          1956,
          1957,
          1958,
          1959,
          1960,
          1961,
          1962,
          1963,
          1964,
          1965,
          1966,
          1967,
          1968,
          1969,
          1970,
          1971,
          1972,
          1973,
          1974,
          1975,
          1976,
          1977,
          1978,
          1979,
          1980,
          1981,
          1982,
          1983,
          1984,
          1985,
          1986,
          1987,
          1988,
          1989,
          1990,
          1991,
          1992,
          1993,
          1994,
          1995,
          1996,
          1997,
          1998,
          1999,
          2000,
          2001,
          2002,
          2003,
          2004,
          2005,
          2006,
          2007,
          2008,
          2009,
          2010,
          2011,
          2012,
          2013,
          2014,
          2015,
          2016,
          2017,
          2018,
          2019,
          2020,
          2021,
          2022,
          2023,
          2024,
          2025,
          2028,
          2074
         ],
         "xaxis": "x",
         "y": [
          10,
          6.207,
          null,
          6.454999999999999,
          null,
          4.9,
          5.787386363636364,
          4.108054054054054,
          4.7263761904761905,
          4.482286343612335,
          3.3751923076923074,
          5.056733333333333,
          4.828735042735043,
          5.494432913269088,
          5.004651475694445,
          5.457059199071388,
          4.4117,
          4.878869047619047,
          5.541593272171253,
          5.116518987341772,
          5.219354838709678,
          4.380225806451613,
          5.131677966101695,
          4.898045977011495,
          5.677588235294118,
          5.300000000000001,
          5.004347826086957,
          5.661558823529411,
          5.628846153846154,
          5.156122448979592,
          4.87,
          5.888461538461538,
          6.016666666666667,
          5.741176470588235,
          6.523809523809524,
          5.142857142857143,
          6.021428571428571,
          6.896551724137931,
          5.233333333333333,
          6.476421875,
          7.048995037220843,
          5.928571428571429,
          6.435978070175438,
          6.190845070422536,
          6.758115151515151,
          6.886099056603773,
          6.06462564102564,
          7.198285429141717,
          6.393653958944281,
          6.35865671641791,
          5.373414893617022,
          6.517754310344827,
          6.233986956521739,
          6.6769266862170085,
          5.59472,
          6.124505681818182,
          6.290510135135135,
          5.744628099173554,
          5.793471698113207,
          5.721130434782609,
          5.728237974683545,
          6.124969444444445,
          6.114450000000001,
          6.238940540540541,
          6.267668181818181,
          5.886641025641025,
          5.889976331360947,
          6.107552380952381,
          6.171080168776371,
          5.445713917525773,
          5.627294372294372,
          6.099218181818181,
          5.555627551020408,
          6.067724770642203,
          7.374240979381443,
          5.892412568306011,
          6.502507537688443,
          6.490664948453609,
          6.420443526170799,
          6.407291855203621,
          6.094654205607477,
          6.412805022156573,
          6.186474125874126,
          6.825951492537314,
          6.067447630922693,
          6.474452868852459,
          6.371787569573284,
          5.874424657534247,
          6.823339840925525,
          6.410485029940119,
          6.676334047109208,
          6.823370138017567,
          6.767261557177616,
          6.393858374384236,
          6.677404555314534,
          6.819727037516171,
          6.712117527862208,
          6.333008051529791,
          6.518321686746988,
          6.4028064516129035,
          6.74372602739726,
          7.241612817089452,
          7.117275635767022,
          6.893627751196172,
          6.5971165311653115,
          6.716764705882353,
          7.018619310344827,
          7.021653508771929,
          6.688497360084477,
          7.185327906976744,
          7.19761684327942,
          6.9075676348547725,
          6.761003048780488,
          6.743541117388575,
          6.941289635854343,
          6.696340631036703,
          6.656606619641888,
          6.929406563706564,
          6.840842801000357,
          6.786750846501128,
          6.795273905272564,
          6.9114964551270965,
          6.760546454920596,
          6.850859109425482,
          6.773449712157128,
          6.829406749180154,
          6.940861849290135,
          6.835585584645875,
          6.977925492395038,
          6.89755788551008,
          6.961540423578781,
          6.974461529081819,
          6.995326763485477,
          7.019672178384609,
          6.953797037116269,
          7.015620703764321,
          7.078380573714508,
          7.12486103896104,
          7.297578981756044,
          7.187511606831649,
          7.037972525977912,
          6.92640714610833,
          8.614035087719298,
          null,
          null,
          null
         ],
         "yaxis": "y"
        },
        {
         "hovertemplate": "Genre=Drama<br>Year=%{x|%Y}<br>Weighted Average Rating=%{y}<extra></extra>",
         "legendgroup": "Drama",
         "line": {
          "color": "#FF6692",
          "dash": "solid"
         },
         "marker": {
          "symbol": "circle"
         },
         "mode": "lines",
         "name": "Drama",
         "showlegend": true,
         "type": "scattergl",
         "visible": "legendonly",
         "x": [
          1893,
          1894,
          1895,
          1896,
          1897,
          1898,
          1899,
          1900,
          1901,
          1902,
          1903,
          1904,
          1905,
          1906,
          1907,
          1908,
          1909,
          1910,
          1911,
          1912,
          1913,
          1914,
          1915,
          1916,
          1917,
          1918,
          1919,
          1920,
          1921,
          1922,
          1923,
          1924,
          1925,
          1926,
          1927,
          1928,
          1929,
          1930,
          1931,
          1932,
          1933,
          1934,
          1935,
          1936,
          1937,
          1938,
          1939,
          1940,
          1941,
          1942,
          1943,
          1944,
          1945,
          1946,
          1947,
          1948,
          1949,
          1950,
          1951,
          1952,
          1953,
          1954,
          1955,
          1956,
          1957,
          1958,
          1959,
          1960,
          1961,
          1962,
          1963,
          1964,
          1965,
          1966,
          1967,
          1968,
          1969,
          1970,
          1971,
          1972,
          1973,
          1974,
          1975,
          1976,
          1977,
          1978,
          1979,
          1980,
          1981,
          1982,
          1983,
          1984,
          1985,
          1986,
          1987,
          1988,
          1989,
          1990,
          1991,
          1992,
          1993,
          1994,
          1995,
          1996,
          1997,
          1998,
          1999,
          2000,
          2001,
          2002,
          2003,
          2004,
          2005,
          2006,
          2007,
          2008,
          2009,
          2010,
          2011,
          2012,
          2013,
          2014,
          2015,
          2016,
          2017,
          2018,
          2019,
          2020,
          2021,
          2022,
          2023,
          2024,
          2025,
          2026,
          2027,
          2028,
          2029,
          2040,
          2099
         ],
         "xaxis": "x",
         "y": [
          5.161181818181818,
          4.928523809523809,
          5.425,
          4.941015228426396,
          4.86435,
          5.246760869565217,
          5.8452787878787875,
          6.104028571428571,
          5.565342342342343,
          5.548461538461539,
          5.607314814814815,
          5.0207395833333335,
          5.266927835051547,
          5.25595,
          4.903670731707317,
          4.997703557312254,
          5.5131230068337125,
          5.344528189910979,
          5.144471204188482,
          5.455274234693878,
          5.744507418397626,
          6.039946215139442,
          6.012514842300557,
          6.216607533414338,
          5.996240890688259,
          6.003171134020619,
          6.363320670391061,
          7.270085177453027,
          7.645774343635759,
          6.061259493670886,
          6.280529227557412,
          7.001562450903378,
          7.43409043348281,
          6.942205164992827,
          7.540842935919376,
          7.131708525345622,
          6.31724558050645,
          6.707299367299368,
          7.401875452945439,
          6.936077911646586,
          6.390590207914152,
          6.430927951716333,
          6.713986781432524,
          7.378819676779131,
          6.790674514563107,
          6.584351900393185,
          7.373791162489196,
          7.210327621309807,
          7.417263034759358,
          6.85142398794143,
          7.489025828669822,
          6.878532296179598,
          7.14606298129813,
          7.45664216017776,
          6.895092865683539,
          7.4553028293174375,
          6.845910055583628,
          7.466154625694672,
          6.987768373932958,
          7.176750823142051,
          7.137024749007704,
          7.376710680454117,
          7.125784980932825,
          6.968380375888927,
          7.8427204385278,
          6.89656120017331,
          7.334928735302552,
          7.76229414298019,
          7.3524079301075265,
          7.513557353702745,
          7.341764533026702,
          7.3745874238717395,
          7.154633210719916,
          7.230679770406462,
          7.102811886868223,
          7.2476924692880305,
          6.762959153510245,
          6.737997784902361,
          7.369636409210922,
          7.822755884053184,
          7.0987172197074555,
          7.4830495997265025,
          7.476896183206106,
          7.3905198072952505,
          6.884562424745692,
          6.909290335486084,
          7.313501450181984,
          7.067558151275931,
          6.796861539219066,
          7.244088107538489,
          7.1002134797922505,
          7.1498861363817205,
          7.070849375173562,
          6.975050411875751,
          7.258857675969669,
          7.161824303373141,
          7.144137251199154,
          7.27733173858455,
          7.258544743086995,
          6.8672265377721855,
          7.283810212158959,
          7.739158957903367,
          7.319044855759532,
          6.906788385992954,
          7.388046493216182,
          7.278010475179501,
          7.45046517236182,
          7.177791392691603,
          7.029453008941335,
          7.0895381391107115,
          6.977208405383596,
          7.0754800574820225,
          6.897091742881437,
          7.095800465522021,
          6.9767274408223106,
          7.026205204989787,
          6.944441769333658,
          6.881623486165542,
          6.907319092623261,
          6.959453321096707,
          6.97077894020801,
          7.092522255937905,
          6.937683675351218,
          7.053483291728266,
          6.963500179799374,
          6.945332373827449,
          7.16383179298131,
          7.010753390970221,
          6.88963044902799,
          7.096050395591292,
          7.076072143159082,
          9.008653846153846,
          null,
          null,
          null,
          null,
          null,
          null,
          null
         ],
         "yaxis": "y"
        },
        {
         "hovertemplate": "Genre=Family<br>Year=%{x|%Y}<br>Weighted Average Rating=%{y}<extra></extra>",
         "legendgroup": "Family",
         "line": {
          "color": "#B6E880",
          "dash": "solid"
         },
         "marker": {
          "symbol": "circle"
         },
         "mode": "lines",
         "name": "Family",
         "showlegend": true,
         "type": "scattergl",
         "visible": "legendonly",
         "x": [
          1895,
          1896,
          1897,
          1898,
          1899,
          1900,
          1901,
          1902,
          1903,
          1905,
          1906,
          1907,
          1908,
          1909,
          1910,
          1911,
          1912,
          1913,
          1914,
          1915,
          1916,
          1917,
          1918,
          1919,
          1920,
          1921,
          1922,
          1923,
          1924,
          1925,
          1926,
          1927,
          1928,
          1929,
          1930,
          1931,
          1932,
          1933,
          1934,
          1935,
          1936,
          1937,
          1938,
          1939,
          1940,
          1941,
          1942,
          1943,
          1944,
          1945,
          1946,
          1947,
          1948,
          1949,
          1950,
          1951,
          1952,
          1953,
          1954,
          1955,
          1956,
          1957,
          1958,
          1959,
          1960,
          1961,
          1962,
          1963,
          1964,
          1965,
          1966,
          1967,
          1968,
          1969,
          1970,
          1971,
          1972,
          1973,
          1974,
          1975,
          1976,
          1977,
          1978,
          1979,
          1980,
          1981,
          1982,
          1983,
          1984,
          1985,
          1986,
          1987,
          1988,
          1989,
          1990,
          1991,
          1992,
          1993,
          1994,
          1995,
          1996,
          1997,
          1998,
          1999,
          2000,
          2001,
          2002,
          2003,
          2004,
          2005,
          2006,
          2007,
          2008,
          2009,
          2010,
          2011,
          2012,
          2013,
          2014,
          2015,
          2016,
          2017,
          2018,
          2019,
          2020,
          2021,
          2022,
          2023,
          2024,
          2025,
          2026
         ],
         "xaxis": "x",
         "y": [
          5.579468965517242,
          5.228,
          5.045454545454546,
          6.04014,
          6.247,
          6,
          4.6,
          6.023,
          6,
          5.946153846153846,
          6.227,
          5.909,
          5.3,
          1,
          null,
          null,
          4.114285714285715,
          6.170588235294118,
          5.032727272727273,
          5.9,
          5.685714285714285,
          4.9222222222222225,
          5.5,
          null,
          7.28125,
          null,
          6.766571428571428,
          5.886792452830188,
          6.685245901639345,
          6.618830508474575,
          4.409090909090909,
          6.816227272727272,
          7.183091222030981,
          6.665434426229508,
          5.838645161290322,
          5.9629685534591195,
          6.08710071942446,
          6.617357758620689,
          6.2447266811279825,
          6.23739033457249,
          6.546040106951872,
          7.079808887141171,
          6.515759177679882,
          7.458219616967961,
          7.144334755535056,
          6.927634590377114,
          6.973524257176431,
          6.6992158920539735,
          6.582390092879257,
          6.972370283018868,
          7.832188915375447,
          6.98652590489709,
          6.65496835970025,
          6.766704788732394,
          6.978342370661427,
          7.084493348115299,
          6.68444537815126,
          7.148815445675542,
          6.786738884968242,
          7.04659866278073,
          6.780574720210664,
          6.705184545454546,
          6.527480203045686,
          6.909744974059663,
          6.4931793103448285,
          7.0458416144746,
          6.141047619047619,
          7.079685791779679,
          7.346712427250941,
          7.479784381478923,
          6.91814364640884,
          7.111141071924465,
          6.764247275775356,
          6.49637191011236,
          7.168437887130075,
          7.203462121212121,
          6.808482345900658,
          7.124103540414161,
          6.544636519748139,
          6.617777197563099,
          6.877587654320988,
          6.676036220472441,
          5.564279045643154,
          6.88305746799431,
          6.282467784642542,
          6.899102840909091,
          7.3252005165220835,
          7.053724728350346,
          7.020366081871345,
          6.951882804643934,
          7.008967290579933,
          6.973637859179644,
          7.269766584632213,
          6.94900488285835,
          6.943290976821191,
          7.0077794406510145,
          6.949291024824952,
          6.805226546823891,
          6.901790678941311,
          7.160148217224355,
          6.494775955747578,
          6.5417419847794855,
          6.805378932067061,
          7.025718335213499,
          6.718057011551361,
          7.417749788774895,
          6.803538684875531,
          6.75601355129186,
          6.815666492852419,
          6.53965076698746,
          6.414274940285612,
          6.738052992498281,
          6.839469203162839,
          6.92266110089968,
          6.89797607226177,
          6.4720628065000065,
          6.863008037712812,
          6.61420918367347,
          7.052905934160357,
          6.8953262331120735,
          7.016480817584556,
          7.124446143478648,
          6.849590462400622,
          7.234693124957821,
          7.235869558542339,
          7.387805371223359,
          7.223984395963903,
          7.271687658655144,
          9.045,
          null,
          null
         ],
         "yaxis": "y"
        },
        {
         "hovertemplate": "Genre=Fantasy<br>Year=%{x|%Y}<br>Weighted Average Rating=%{y}<extra></extra>",
         "legendgroup": "Fantasy",
         "line": {
          "color": "#FF97FF",
          "dash": "solid"
         },
         "marker": {
          "symbol": "circle"
         },
         "mode": "lines",
         "name": "Fantasy",
         "showlegend": true,
         "type": "scattergl",
         "visible": "legendonly",
         "x": [
          1896,
          1897,
          1898,
          1899,
          1900,
          1901,
          1902,
          1903,
          1904,
          1905,
          1906,
          1907,
          1908,
          1909,
          1910,
          1911,
          1912,
          1913,
          1914,
          1915,
          1916,
          1917,
          1918,
          1919,
          1920,
          1921,
          1922,
          1923,
          1924,
          1925,
          1926,
          1927,
          1928,
          1929,
          1930,
          1931,
          1932,
          1933,
          1934,
          1935,
          1936,
          1937,
          1938,
          1939,
          1940,
          1941,
          1942,
          1943,
          1944,
          1945,
          1946,
          1947,
          1948,
          1949,
          1950,
          1951,
          1952,
          1953,
          1954,
          1955,
          1956,
          1957,
          1958,
          1959,
          1960,
          1961,
          1962,
          1963,
          1964,
          1965,
          1966,
          1967,
          1968,
          1969,
          1970,
          1971,
          1972,
          1973,
          1974,
          1975,
          1976,
          1977,
          1978,
          1979,
          1980,
          1981,
          1982,
          1983,
          1984,
          1985,
          1986,
          1987,
          1988,
          1989,
          1990,
          1991,
          1992,
          1993,
          1994,
          1995,
          1996,
          1997,
          1998,
          1999,
          2000,
          2001,
          2002,
          2003,
          2004,
          2005,
          2006,
          2007,
          2008,
          2009,
          2010,
          2011,
          2012,
          2013,
          2014,
          2015,
          2016,
          2017,
          2018,
          2019,
          2020,
          2021,
          2022,
          2023,
          2024,
          2025,
          2026,
          2028,
          2029,
          2030
         ],
         "xaxis": "x",
         "y": [
          6.027435684647303,
          5.723157894736842,
          6.392386138613862,
          5.92893399339934,
          5.785493457943925,
          6.081241666666667,
          5.429264367816092,
          5.812839255499154,
          6.116738916256158,
          5.86092936802974,
          5.945192200557103,
          5.795832,
          5.417624521072797,
          5.88056179775281,
          5.838267195767195,
          6.246623595505619,
          5.962666666666666,
          5.881417218543046,
          5.271469387755102,
          6.3888750000000005,
          5.568181818181818,
          6.070907692307692,
          6.262692307692308,
          6.880000000000001,
          6.821762557077626,
          7.2032247360482655,
          7.609867412140576,
          5.762666666666667,
          7.1484928,
          6.30740487804878,
          7.556972972972972,
          6.128571428571428,
          6.683993670886076,
          7.458501666666666,
          5.274193548387097,
          7.144527881040893,
          6.786925301204819,
          7.373834761321909,
          6.221633333333334,
          6.3184288659793815,
          6.388099489795919,
          7.0977635406566,
          6.835960365853658,
          7.566884010102973,
          6.548949886104784,
          6.570718220338983,
          6.522758389261745,
          6.588872368421053,
          6.458795683453237,
          6.54305172413793,
          8.063913737373737,
          6.975687622789784,
          6.5090300429184555,
          6.278327188940092,
          7.083970350034317,
          7.132950031826861,
          6.50015763546798,
          7.230984780352818,
          6.237929670329671,
          6.429427835051547,
          6.70687265917603,
          7.817665391406709,
          6.212723433242507,
          6.874215455140798,
          6.837772727272727,
          6.456541573033708,
          7.008106433677522,
          7.482194155092593,
          7.304656749721087,
          6.550458525345622,
          6.393733391608391,
          6.370858695652174,
          6.691811825809029,
          6.376557063048683,
          6.394021139705882,
          7.231605469578121,
          6.374225839267548,
          6.9152369668246445,
          6.3100938496583145,
          7.514359788359789,
          6.281623529411765,
          6.5634873466257675,
          5.772544914365606,
          6.353314168377823,
          6.559447377442578,
          6.612855604503181,
          7.283134699287569,
          6.186524949083503,
          7.111415402869961,
          6.3353541170871015,
          7.019303969548668,
          6.959045413588034,
          7.334959468742844,
          7.045683501918382,
          7.106000946349276,
          7.0442986570455,
          7.073546549914969,
          7.1264789097988315,
          6.716553925208661,
          6.565724894131881,
          6.192007868785447,
          7.213897082804856,
          6.578556459148008,
          7.2255395163782445,
          6.653685119561657,
          7.628853806020289,
          7.369002306982467,
          7.1635170382961695,
          7.133556078415041,
          6.813730585140787,
          6.81601787897482,
          6.694601289411076,
          6.4821084215423985,
          6.8747099072157045,
          6.547080406173073,
          6.654115301733317,
          6.754516789190078,
          6.676388265733429,
          6.813538558527159,
          6.566067226271998,
          6.482939139530096,
          6.892676208457571,
          6.675519044612794,
          6.952003429582919,
          7.052658605260286,
          7.401853835289004,
          7.09813310820318,
          7.231437950182452,
          8.416666666666666,
          null,
          null,
          null,
          null,
          null
         ],
         "yaxis": "y"
        },
        {
         "hovertemplate": "Genre=History<br>Year=%{x|%Y}<br>Weighted Average Rating=%{y}<extra></extra>",
         "legendgroup": "History",
         "line": {
          "color": "#FECB52",
          "dash": "solid"
         },
         "marker": {
          "symbol": "circle"
         },
         "mode": "lines",
         "name": "History",
         "showlegend": true,
         "type": "scattergl",
         "visible": "legendonly",
         "x": [
          1895,
          1897,
          1898,
          1899,
          1900,
          1901,
          1902,
          1903,
          1904,
          1905,
          1906,
          1907,
          1908,
          1909,
          1910,
          1911,
          1912,
          1913,
          1914,
          1915,
          1916,
          1917,
          1918,
          1919,
          1920,
          1921,
          1922,
          1923,
          1924,
          1925,
          1926,
          1927,
          1928,
          1929,
          1930,
          1931,
          1932,
          1933,
          1934,
          1935,
          1936,
          1937,
          1938,
          1939,
          1940,
          1941,
          1942,
          1943,
          1944,
          1945,
          1946,
          1947,
          1948,
          1949,
          1950,
          1951,
          1952,
          1953,
          1954,
          1955,
          1956,
          1957,
          1958,
          1959,
          1960,
          1961,
          1962,
          1963,
          1964,
          1965,
          1966,
          1967,
          1968,
          1969,
          1970,
          1971,
          1972,
          1973,
          1974,
          1975,
          1976,
          1977,
          1978,
          1979,
          1980,
          1981,
          1982,
          1983,
          1984,
          1985,
          1986,
          1987,
          1988,
          1989,
          1990,
          1991,
          1992,
          1993,
          1994,
          1995,
          1996,
          1997,
          1998,
          1999,
          2000,
          2001,
          2002,
          2003,
          2004,
          2005,
          2006,
          2007,
          2008,
          2009,
          2010,
          2011,
          2012,
          2013,
          2014,
          2015,
          2016,
          2017,
          2018,
          2019,
          2020,
          2021,
          2022,
          2023,
          2024,
          2025,
          2030
         ],
         "xaxis": "x",
         "y": [
          6.146,
          4.737348837209302,
          4.805611111111111,
          6.4,
          6.221475,
          3.7859285714285713,
          4.875,
          6.277096774193549,
          4.567741935483871,
          5.466272727272727,
          5.6828765432098765,
          4.889743589743589,
          5.118194029850746,
          5.1616470588235295,
          4.573913043478261,
          4.831810344827586,
          4.283030769230769,
          5.12125,
          6.828470588235294,
          5.973630769230769,
          6.955540229885057,
          5.26551724137931,
          6.2978749999999994,
          6.874320610687023,
          6.32324074074074,
          6.422694736842105,
          7.429806094182826,
          6.333294117647058,
          5.4714285714285715,
          7.562253258845438,
          5.568627450980392,
          7.256218905472637,
          7.748590373280942,
          6.2399249999999995,
          5.601500000000001,
          5.77536231884058,
          6.0914782608695655,
          6.420549295774648,
          6.372638888888889,
          7.035267088607595,
          6.461995584988963,
          7.208836893203884,
          7.144406829268292,
          6.333269318181818,
          6.473071942446043,
          6.990405923344948,
          6.821858885017422,
          6.894163543441226,
          6.832899343544859,
          7.669491173416407,
          6.961220994475138,
          6.0680373134328365,
          6.254066350710901,
          6.597804664723032,
          6.392363874345549,
          6.739092991913747,
          6.663514782608696,
          6.977678908709339,
          6.406863340563991,
          6.691163175303197,
          7.2137635262958755,
          7.617281364190012,
          7.056831578947368,
          7.631110148789695,
          7.527997749437359,
          6.890601608187135,
          7.752181009561929,
          7.577904775202458,
          6.957105029585798,
          6.881338258164853,
          7.497683238636363,
          7.203581270182992,
          6.683634101382489,
          7.052637869822486,
          7.0773835031219186,
          7.1265119088712465,
          7.142976415094339,
          7.302201898188092,
          6.995978586723768,
          7.200587912087912,
          7.340348885976409,
          6.905262755102042,
          6.508220623501199,
          6.5627782258064515,
          7.8593096820123405,
          7.3433953539823005,
          7.298180574555404,
          7.147822746521475,
          7.7008663924163825,
          7.544096787395131,
          7.060535773710483,
          7.615653545941123,
          6.7033625468164795,
          7.132780403057679,
          6.8600524152106885,
          7.26696962962963,
          7.123093220338983,
          8.19950955243104,
          7.232177914110429,
          7.646350470409712,
          6.5039110334110335,
          7.081492997999429,
          7.783942322614019,
          6.528083887192384,
          7.052743976397312,
          7.092627623636263,
          7.183899810740478,
          6.868506607316733,
          7.0402948909968375,
          7.185688948486995,
          6.907560090159217,
          6.7147548004423445,
          7.238456999887973,
          6.984474627542918,
          7.126193503954501,
          6.668553237189322,
          6.986343573988735,
          7.4650583266521595,
          7.247599122370223,
          7.052489412670575,
          7.344522902585105,
          6.989455932662253,
          7.223461019056398,
          7.460787170245161,
          7.005420605849178,
          7.069561340255746,
          7.229032059677695,
          7.67463961352657,
          8.666666666666666,
          null,
          null
         ],
         "yaxis": "y"
        },
        {
         "hovertemplate": "Genre=Horror<br>Year=%{x|%Y}<br>Weighted Average Rating=%{y}<extra></extra>",
         "legendgroup": "Horror",
         "line": {
          "color": "#636efa",
          "dash": "solid"
         },
         "marker": {
          "symbol": "circle"
         },
         "mode": "lines",
         "name": "Horror",
         "showlegend": true,
         "type": "scattergl",
         "x": [
          1895,
          1896,
          1897,
          1898,
          1899,
          1900,
          1901,
          1902,
          1903,
          1904,
          1905,
          1906,
          1907,
          1908,
          1909,
          1910,
          1911,
          1912,
          1913,
          1914,
          1915,
          1916,
          1917,
          1918,
          1919,
          1920,
          1921,
          1922,
          1923,
          1924,
          1925,
          1926,
          1927,
          1928,
          1929,
          1930,
          1931,
          1932,
          1933,
          1934,
          1935,
          1936,
          1937,
          1938,
          1939,
          1940,
          1941,
          1942,
          1943,
          1944,
          1945,
          1946,
          1947,
          1948,
          1949,
          1950,
          1951,
          1952,
          1953,
          1954,
          1955,
          1956,
          1957,
          1958,
          1959,
          1960,
          1961,
          1962,
          1963,
          1964,
          1965,
          1966,
          1967,
          1968,
          1969,
          1970,
          1971,
          1972,
          1973,
          1974,
          1975,
          1976,
          1977,
          1978,
          1979,
          1980,
          1981,
          1982,
          1983,
          1984,
          1985,
          1986,
          1987,
          1988,
          1989,
          1990,
          1991,
          1992,
          1993,
          1994,
          1995,
          1996,
          1997,
          1998,
          1999,
          2000,
          2001,
          2002,
          2003,
          2004,
          2005,
          2006,
          2007,
          2008,
          2009,
          2010,
          2011,
          2012,
          2013,
          2014,
          2015,
          2016,
          2017,
          2018,
          2019,
          2020,
          2021,
          2022,
          2023,
          2024,
          2025,
          2026,
          2027,
          2029
         ],
         "xaxis": "x",
         "y": [
          6.146,
          6.0038369905956115,
          5.184924855491329,
          5.653968253968253,
          5.929577464788733,
          4.821982142857143,
          5.769289719626168,
          5.196,
          5.940579710144927,
          5.633,
          null,
          6.118375,
          6.320719512195121,
          4.8,
          5.42984,
          5.91253807106599,
          6.3685950413223145,
          5.395,
          4.951612903225806,
          5.733333333333333,
          6.583321428571429,
          6.173333333333333,
          6.108780487804878,
          5.330434782608696,
          5.821212121212121,
          7.730763306908267,
          7.510603674540683,
          7.64944,
          6.405232876712329,
          6.582144736842105,
          6.953199421965318,
          7.488737254901961,
          7.099852589641435,
          7.088866666666666,
          6.980636612021858,
          6.47191304347826,
          7.269794506612411,
          7.037121411483253,
          7.238095165588123,
          6.021098701298701,
          6.998518807665011,
          6.058685300207039,
          6.038235294117648,
          6.130434782608695,
          6.692857687420585,
          5.860036259541985,
          6.6001743027888455,
          6.1287693069306926,
          6.52195713328868,
          6.008376157407407,
          6.581095191364082,
          6.0817736625514405,
          5.770727272727273,
          6.660914893617021,
          6.7784268689057425,
          5.853142857142856,
          6.4490236336779905,
          5.993585492227979,
          6.194946037099494,
          6.9754007633587785,
          6.588852941176471,
          6.689305541687469,
          6.042976878612717,
          6.033961320754717,
          5.639212262682851,
          7.936661162582188,
          6.241600658513641,
          6.583693277310925,
          6.954184214423219,
          6.505179377013963,
          6.2588445537065045,
          5.8444911046752175,
          6.219522516328635,
          7.352726454125092,
          6.020167024704619,
          5.957711148648649,
          5.974267946257198,
          6.1093329458866075,
          6.967083518531794,
          6.535726553811936,
          7.264028738690794,
          6.701244038428547,
          6.5001851851851855,
          6.714458327593333,
          7.547522505800464,
          7.260888638613017,
          6.479310580902263,
          6.702555287474333,
          6.335806666666667,
          6.66121566567443,
          6.229170326337498,
          6.401364984518442,
          6.363882187279982,
          5.99320625,
          5.778921504243851,
          6.208862216891923,
          5.538140203389831,
          6.603584950434416,
          5.699497187576425,
          6.604837143089564,
          5.9079581847890665,
          6.64531851750547,
          6.355306225537751,
          6.091372205114474,
          6.239263316192878,
          6.013567861546591,
          6.364999143163156,
          6.3028820981089,
          5.972282343987824,
          6.380095833782667,
          6.028830172100931,
          5.880492976176731,
          6.213452592950487,
          5.997271682830651,
          6.1394639278557115,
          6.190643741511846,
          6.003484802384427,
          5.795384800665664,
          6.207923553660539,
          5.992844102596702,
          5.8645683824358,
          6.274702128869286,
          6.376730143484627,
          6.316260057782593,
          6.30095155546763,
          6.235741284601784,
          6.506352662385365,
          6.557020674724361,
          6.659982698564594,
          8.696969696969697,
          null,
          null,
          null,
          null
         ],
         "yaxis": "y"
        },
        {
         "hovertemplate": "Genre=Music<br>Year=%{x|%Y}<br>Weighted Average Rating=%{y}<extra></extra>",
         "legendgroup": "Music",
         "line": {
          "color": "#EF553B",
          "dash": "solid"
         },
         "marker": {
          "symbol": "circle"
         },
         "mode": "lines",
         "name": "Music",
         "showlegend": true,
         "type": "scattergl",
         "visible": "legendonly",
         "x": [
          1894,
          1898,
          1899,
          1900,
          1903,
          1905,
          1906,
          1907,
          1908,
          1909,
          1910,
          1911,
          1913,
          1914,
          1915,
          1917,
          1919,
          1921,
          1922,
          1923,
          1924,
          1925,
          1926,
          1927,
          1928,
          1929,
          1930,
          1931,
          1932,
          1933,
          1934,
          1935,
          1936,
          1937,
          1938,
          1939,
          1940,
          1941,
          1942,
          1943,
          1944,
          1945,
          1946,
          1947,
          1948,
          1949,
          1950,
          1951,
          1952,
          1953,
          1954,
          1955,
          1956,
          1957,
          1958,
          1959,
          1960,
          1961,
          1962,
          1963,
          1964,
          1965,
          1966,
          1967,
          1968,
          1969,
          1970,
          1971,
          1972,
          1973,
          1974,
          1975,
          1976,
          1977,
          1978,
          1979,
          1980,
          1981,
          1982,
          1983,
          1984,
          1985,
          1986,
          1987,
          1988,
          1989,
          1990,
          1991,
          1992,
          1993,
          1994,
          1995,
          1996,
          1997,
          1998,
          1999,
          2000,
          2001,
          2002,
          2003,
          2004,
          2005,
          2006,
          2007,
          2008,
          2009,
          2010,
          2011,
          2012,
          2013,
          2014,
          2015,
          2016,
          2017,
          2018,
          2019,
          2020,
          2021,
          2022,
          2023,
          2024,
          2025,
          2026
         ],
         "xaxis": "x",
         "y": [
          6.222,
          null,
          3,
          6.4617543859649125,
          6.653999999999999,
          5.05928125,
          4.925,
          2.5,
          4,
          null,
          null,
          4,
          4.545454545454546,
          null,
          6,
          null,
          null,
          null,
          6.1,
          2,
          null,
          null,
          3.3739130434782614,
          4.706666666666666,
          6.7650476190476185,
          6.222952127659574,
          5.956268138801263,
          6.439209235209236,
          5.807812849162011,
          6.454644398766701,
          5.9890114068441065,
          6.980217637540454,
          6.247077777777778,
          6.429893557422968,
          6.018354895104895,
          6.051576315789474,
          5.911822784810127,
          6.237476595744681,
          6.214252074688797,
          6.038369501466277,
          6.232406567630961,
          6.0677691176470585,
          5.821864093959732,
          6.4704229287090556,
          6.157663551401869,
          6.447107398568019,
          6.170474137931034,
          6.655692946058091,
          7.085748004561004,
          6.6396636904761905,
          6.820297146833681,
          6.757832335329342,
          6.53582126348228,
          6.5093066037735845,
          6.377765814266487,
          6.228009828009829,
          6.268296747967479,
          5.88465690376569,
          6.162385224274406,
          5.88178018018018,
          6.591099053168245,
          7.353042849767682,
          5.877834346504559,
          6.5256354243542445,
          6.611687144019528,
          6.485242582897033,
          6.825509511568123,
          6.75007520661157,
          7.088577017114915,
          6.805535663338089,
          7.0744765550239235,
          6.76046750524109,
          6.557783858998145,
          6.683188465887675,
          6.464291239147593,
          6.89732380952381,
          7.36889442647898,
          6.545,
          6.955501284521516,
          6.896238996478873,
          7.582149471490248,
          6.485697454545455,
          6.589318390804598,
          7.1749127807547595,
          6.649002985074627,
          6.597373783629079,
          6.7422842553191495,
          6.808394916305021,
          6.809326410415376,
          6.520588620342396,
          6.601121059844678,
          6.897210277923441,
          6.747873624288426,
          6.998531348955035,
          7.054356586992774,
          6.810600567302733,
          7.095246414276184,
          7.095227175969725,
          7.0142043207222695,
          6.881990513545563,
          6.661575818572196,
          7.024858453473133,
          6.725865831107458,
          6.8459981307206395,
          6.61803832409119,
          6.375542599805258,
          6.4687286906854125,
          6.561711430928591,
          7.040581632004071,
          7.176136614310646,
          7.7278690743113385,
          7.005886303757448,
          7.385539321126909,
          7.616486194739962,
          7.577615194013579,
          7.218062862238074,
          7.38465203727785,
          7.470030643319375,
          7.418235661026671,
          7.480790480237994,
          9.357142857142858,
          null,
          null
         ],
         "yaxis": "y"
        },
        {
         "hovertemplate": "Genre=Mystery<br>Year=%{x|%Y}<br>Weighted Average Rating=%{y}<extra></extra>",
         "legendgroup": "Mystery",
         "line": {
          "color": "#00cc96",
          "dash": "solid"
         },
         "marker": {
          "symbol": "circle"
         },
         "mode": "lines",
         "name": "Mystery",
         "showlegend": true,
         "type": "scattergl",
         "visible": "legendonly",
         "x": [
          1896,
          1897,
          1898,
          1900,
          1904,
          1908,
          1909,
          1910,
          1911,
          1912,
          1913,
          1914,
          1915,
          1916,
          1917,
          1918,
          1919,
          1920,
          1921,
          1922,
          1923,
          1924,
          1925,
          1926,
          1927,
          1928,
          1929,
          1930,
          1931,
          1932,
          1933,
          1934,
          1935,
          1936,
          1937,
          1938,
          1939,
          1940,
          1941,
          1942,
          1943,
          1944,
          1945,
          1946,
          1947,
          1948,
          1949,
          1950,
          1951,
          1952,
          1953,
          1954,
          1955,
          1956,
          1957,
          1958,
          1959,
          1960,
          1961,
          1962,
          1963,
          1964,
          1965,
          1966,
          1967,
          1968,
          1969,
          1970,
          1971,
          1972,
          1973,
          1974,
          1975,
          1976,
          1977,
          1978,
          1979,
          1980,
          1981,
          1982,
          1983,
          1984,
          1985,
          1986,
          1987,
          1988,
          1989,
          1990,
          1991,
          1992,
          1993,
          1994,
          1995,
          1996,
          1997,
          1998,
          1999,
          2000,
          2001,
          2002,
          2003,
          2004,
          2005,
          2006,
          2007,
          2008,
          2009,
          2010,
          2011,
          2012,
          2013,
          2014,
          2015,
          2016,
          2017,
          2018,
          2019,
          2020,
          2021,
          2022,
          2023,
          2024,
          2025,
          2029
         ],
         "xaxis": "x",
         "y": [
          6.236,
          null,
          3.3333333333333335,
          5.1,
          5.633,
          null,
          4,
          9,
          null,
          5.1,
          5.184615384615385,
          6.0928571428571425,
          6.218181818181819,
          5.98227027027027,
          5.8815,
          6.357142857142857,
          5.593333333333334,
          5.261538461538462,
          6.288611650485437,
          5.182857142857143,
          5.828888888888889,
          8.079575757575757,
          null,
          7,
          6.615946666666666,
          7.17565811965812,
          5.17378640776699,
          5.944739495798319,
          5.554235023041475,
          5.6140572450805015,
          6.386181681681681,
          6.698057525610718,
          6.797521374045802,
          6.232193893129771,
          6.233093425605537,
          7.0684292929292925,
          6.501077248677249,
          7.4005183852917655,
          7.725954580055824,
          6.583750843373494,
          6.602241653418124,
          7.012077846364884,
          6.743276544401545,
          7.196593106749641,
          6.711577083333333,
          6.496587020648967,
          7.563864235500879,
          7.7291478201634884,
          6.269102137767221,
          6.515243093922652,
          7.374151403249631,
          8.228530579825257,
          7.077194444444444,
          7.145761699838623,
          7.708541524459613,
          7.996621477860839,
          7.6363574481557706,
          6.949645447219984,
          6.837223185265439,
          6.965061996779388,
          7.411324183006537,
          6.982850080256821,
          6.801610850286907,
          6.866385167464115,
          6.956610402855685,
          7.9213690405622845,
          6.117835924006908,
          6.519988870703764,
          6.344123783965112,
          6.86478870605834,
          6.860244359597362,
          7.39143742838956,
          6.968357576809582,
          7.102143545611015,
          6.3596297268907565,
          6.508103192702395,
          6.507414694128497,
          6.355312814070352,
          6.508564527757751,
          7.221845864354087,
          6.744852843601897,
          6.119077073170732,
          6.565860046265697,
          7.043870578166603,
          6.650297844024488,
          6.507020274299344,
          6.600203275529865,
          6.893210940023689,
          6.326912228503422,
          6.872877010092048,
          6.599467810677434,
          6.86790776637527,
          7.823258458618747,
          6.985482474916388,
          7.086229989099121,
          6.459116506968641,
          6.963832674972146,
          7.0329018060165716,
          7.083912800801456,
          6.719957542539267,
          7.039491327570067,
          6.3642439511042825,
          6.359324038333555,
          6.91704546382284,
          6.7628523401070755,
          6.3292659091790435,
          6.69109614702604,
          6.935694632438739,
          6.765999963764177,
          6.443943108811302,
          6.538700762343554,
          6.843325259814886,
          6.499660802213001,
          6.58287250531861,
          6.700291379137914,
          6.456791780727777,
          6.630605007904969,
          6.446070751170994,
          6.678853429356742,
          6.8062646137509955,
          6.604961894559645,
          9,
          null,
          null
         ],
         "yaxis": "y"
        },
        {
         "hovertemplate": "Genre=Romance<br>Year=%{x|%Y}<br>Weighted Average Rating=%{y}<extra></extra>",
         "legendgroup": "Romance",
         "line": {
          "color": "#ab63fa",
          "dash": "solid"
         },
         "marker": {
          "symbol": "circle"
         },
         "mode": "lines",
         "name": "Romance",
         "showlegend": true,
         "type": "scattergl",
         "visible": "legendonly",
         "x": [
          1894,
          1896,
          1898,
          1899,
          1900,
          1901,
          1903,
          1904,
          1905,
          1906,
          1907,
          1908,
          1909,
          1910,
          1911,
          1912,
          1913,
          1914,
          1915,
          1916,
          1917,
          1918,
          1919,
          1920,
          1921,
          1922,
          1923,
          1924,
          1925,
          1926,
          1927,
          1928,
          1929,
          1930,
          1931,
          1932,
          1933,
          1934,
          1935,
          1936,
          1937,
          1938,
          1939,
          1940,
          1941,
          1942,
          1943,
          1944,
          1945,
          1946,
          1947,
          1948,
          1949,
          1950,
          1951,
          1952,
          1953,
          1954,
          1955,
          1956,
          1957,
          1958,
          1959,
          1960,
          1961,
          1962,
          1963,
          1964,
          1965,
          1966,
          1967,
          1968,
          1969,
          1970,
          1971,
          1972,
          1973,
          1974,
          1975,
          1976,
          1977,
          1978,
          1979,
          1980,
          1981,
          1982,
          1983,
          1984,
          1985,
          1986,
          1987,
          1988,
          1989,
          1990,
          1991,
          1992,
          1993,
          1994,
          1995,
          1996,
          1997,
          1998,
          1999,
          2000,
          2001,
          2002,
          2003,
          2004,
          2005,
          2006,
          2007,
          2008,
          2009,
          2010,
          2011,
          2012,
          2013,
          2014,
          2015,
          2016,
          2017,
          2018,
          2019,
          2020,
          2021,
          2022,
          2023,
          2024,
          2025,
          2026,
          2027,
          2029
         ],
         "xaxis": "x",
         "y": [
          5,
          5.132992125984252,
          5.983599999999999,
          6.040313953488372,
          5.3272916666666665,
          5.13939393939394,
          5.1452753623188405,
          5.095833333333333,
          4.4,
          4.766749999999999,
          5.8478260869565215,
          4.635714285714286,
          5.232,
          4.701892857142857,
          4.943478260869565,
          4.926923076923077,
          4.908196721311476,
          5.436,
          5.704387931034483,
          5.997333333333334,
          6.701933333333333,
          5.785639751552796,
          6.687760736196319,
          6.438326612903226,
          6.746389978213507,
          6.0666021126760565,
          7.164852327447834,
          6.944304154302671,
          7.0185006211180125,
          6.761794985250738,
          7.216598484848484,
          7.3953531844499585,
          6.366813736903376,
          6.2086953797963975,
          7.4869598562013175,
          6.57375448536355,
          6.424576019777503,
          7.012843853820598,
          6.650571132953957,
          6.714706462212486,
          6.71251316227924,
          7.0666255012028865,
          7.559448954862162,
          7.367762784559551,
          6.812581137309293,
          6.776473684210527,
          7.714104876615746,
          6.584542285714286,
          7.175850689748445,
          7.360483837638376,
          6.865831672203765,
          6.9172679138722195,
          6.744381944444444,
          7.003006240420407,
          6.760548881789138,
          7.443830575687133,
          7.179300391247645,
          6.97300058662495,
          7.009357212692204,
          6.699785061671996,
          6.844961708778328,
          7.598080019223837,
          7.236345922229869,
          7.355703599648814,
          7.382662225558266,
          7.206977952229832,
          7.038940630797773,
          7.0997153130287645,
          7.269513481481481,
          6.766961587301587,
          7.199061253062653,
          6.6783375,
          6.639545920234175,
          6.765260639703938,
          6.930288636991982,
          6.998716049382716,
          6.779090068355448,
          6.729207728680906,
          7.163316248839369,
          7.408463900333529,
          7.24349826004429,
          7.111570964039785,
          6.773063427561837,
          6.53073161551824,
          6.547681201716738,
          6.636556680161943,
          6.336569030091696,
          6.473013635023585,
          6.452595378017788,
          6.899990727562858,
          7.069668977300464,
          6.9984969035682685,
          6.633903147128246,
          7.139139828813695,
          7.052338630268583,
          7.07167451540378,
          7.047016267197369,
          7.414399520594087,
          7.0980981853142655,
          6.532093338800462,
          7.291924989574646,
          6.782324959223876,
          6.644821137550548,
          6.518227025857406,
          6.8382442961435865,
          6.520797609233306,
          6.537365389786151,
          6.884722667524866,
          6.8103751040331115,
          6.625183152699333,
          6.611162231496726,
          6.674171268662752,
          6.615264455470394,
          6.593350910117729,
          6.610488842636508,
          6.689561246717884,
          6.961878234610456,
          6.8592672430318595,
          6.553276254933124,
          7.107854429456208,
          6.848523122500642,
          6.936864622658152,
          6.996544240134965,
          7.144408057366363,
          6.925464986521222,
          6.847695507079234,
          6.989983259245247,
          9.56,
          null,
          null,
          null,
          null
         ],
         "yaxis": "y"
        },
        {
         "hovertemplate": "Genre=ScienceFiction<br>Year=%{x|%Y}<br>Weighted Average Rating=%{y}<extra></extra>",
         "legendgroup": "ScienceFiction",
         "line": {
          "color": "#FFA15A",
          "dash": "solid"
         },
         "marker": {
          "symbol": "circle"
         },
         "mode": "lines",
         "name": "ScienceFiction",
         "showlegend": true,
         "type": "scattergl",
         "visible": "legendonly",
         "x": [
          1896,
          1899,
          1900,
          1901,
          1902,
          1904,
          1905,
          1906,
          1907,
          1908,
          1909,
          1910,
          1911,
          1912,
          1913,
          1914,
          1915,
          1916,
          1917,
          1918,
          1919,
          1920,
          1921,
          1922,
          1923,
          1924,
          1925,
          1926,
          1927,
          1928,
          1929,
          1930,
          1931,
          1932,
          1933,
          1934,
          1935,
          1936,
          1937,
          1938,
          1939,
          1940,
          1941,
          1942,
          1943,
          1944,
          1945,
          1946,
          1947,
          1948,
          1949,
          1950,
          1951,
          1952,
          1953,
          1954,
          1955,
          1956,
          1957,
          1958,
          1959,
          1960,
          1961,
          1962,
          1963,
          1964,
          1965,
          1966,
          1967,
          1968,
          1969,
          1970,
          1971,
          1972,
          1973,
          1974,
          1975,
          1976,
          1977,
          1978,
          1979,
          1980,
          1981,
          1982,
          1983,
          1984,
          1985,
          1986,
          1987,
          1988,
          1989,
          1990,
          1991,
          1992,
          1993,
          1994,
          1995,
          1996,
          1997,
          1998,
          1999,
          2000,
          2001,
          2002,
          2003,
          2004,
          2005,
          2006,
          2007,
          2008,
          2009,
          2010,
          2011,
          2012,
          2013,
          2014,
          2015,
          2016,
          2017,
          2018,
          2019,
          2020,
          2021,
          2022,
          2023,
          2024,
          2025,
          2026,
          2027,
          2029,
          2031,
          2099
         ],
         "xaxis": "x",
         "y": [
          5.632,
          5.3,
          4.9,
          4.86,
          7.888328075709779,
          7.256,
          5.604,
          6.3359375,
          5.483333333333333,
          5.261538461538462,
          6.127586206896551,
          6.043397129186602,
          5.2727272727272725,
          6.17325,
          4.832142857142857,
          null,
          5.360319999999999,
          6.191249999999999,
          7.168421052631579,
          6.264411764705883,
          6,
          6.7586764705882345,
          6.097142857142857,
          null,
          5.214,
          6.123963302752294,
          6.423927083333333,
          5.993333333333334,
          8.136296447529604,
          6.833,
          6.898038834951456,
          5.394736842105263,
          7.452351863164325,
          6.37885294117647,
          7.427756791720568,
          5.7,
          7.300117773019273,
          6.285285132382891,
          6.082154471544715,
          5.884090909090909,
          6.289880758807588,
          5.811987447698745,
          6.320777777777778,
          5.429263374485596,
          5.613708333333333,
          5.86670987654321,
          5.586068027210884,
          5.35021875,
          4.5,
          6.535659259259259,
          6.081170068027211,
          5.248480000000001,
          6.857121352477999,
          4.820445161290323,
          6.221334133173365,
          6.914469228153688,
          5.741989323843416,
          6.72911122244489,
          6.0403618715778995,
          5.763176987614862,
          5.153622641509434,
          6.518880361173815,
          5.589104201680672,
          6.745259780907668,
          6.195890933878664,
          6.087543502824859,
          5.947441162227603,
          6.52347781678902,
          5.7115424621461495,
          7.731429370447452,
          5.966511370262391,
          5.950359084406295,
          7.72858556661562,
          6.657208817317846,
          6.57513815686886,
          6.005025354213274,
          6.76085606855544,
          5.976521980367051,
          7.80075921942225,
          6.363718463302752,
          7.384817485302485,
          7.670514300504724,
          6.820891181335422,
          7.48039310474049,
          7.266168601219753,
          6.933957457305502,
          7.568771846435101,
          7.088669663848216,
          6.786370523981604,
          6.727111149110807,
          6.947585710944808,
          6.8024179747230455,
          7.203931291805068,
          6.0750123181849816,
          7.134501825279213,
          6.2170336743393015,
          6.718110397946085,
          6.432470109713674,
          6.6938612658167465,
          6.319107847320227,
          7.085232545688695,
          6.380325953853114,
          6.33969444378119,
          6.583157805390512,
          6.403277327710575,
          6.840654342243493,
          6.442428429423459,
          7.122269676160552,
          6.6439617313317685,
          6.722528312228839,
          6.651910063502987,
          7.108443473238353,
          6.665691535865255,
          6.7652890410575255,
          6.740559597154226,
          7.1380490057634525,
          6.7642034872096195,
          6.6547141732680135,
          6.813322171894065,
          6.993971695684288,
          6.8316885483107,
          6.698192261243418,
          7.147462288739414,
          7.044127260933562,
          6.965727601400972,
          9.3,
          null,
          null,
          null,
          null,
          null,
          null
         ],
         "yaxis": "y"
        },
        {
         "hovertemplate": "Genre=TVMovie<br>Year=%{x|%Y}<br>Weighted Average Rating=%{y}<extra></extra>",
         "legendgroup": "TVMovie",
         "line": {
          "color": "#19d3f3",
          "dash": "solid"
         },
         "marker": {
          "symbol": "circle"
         },
         "mode": "lines",
         "name": "TVMovie",
         "showlegend": true,
         "type": "scattergl",
         "visible": "legendonly",
         "x": [
          1930,
          1937,
          1938,
          1939,
          1942,
          1943,
          1944,
          1946,
          1947,
          1948,
          1949,
          1950,
          1951,
          1952,
          1953,
          1954,
          1955,
          1956,
          1957,
          1958,
          1959,
          1960,
          1961,
          1962,
          1963,
          1964,
          1965,
          1966,
          1967,
          1968,
          1969,
          1970,
          1971,
          1972,
          1973,
          1974,
          1975,
          1976,
          1977,
          1978,
          1979,
          1980,
          1981,
          1982,
          1983,
          1984,
          1985,
          1986,
          1987,
          1988,
          1989,
          1990,
          1991,
          1992,
          1993,
          1994,
          1995,
          1996,
          1997,
          1998,
          1999,
          2000,
          2001,
          2002,
          2003,
          2004,
          2005,
          2006,
          2007,
          2008,
          2009,
          2010,
          2011,
          2012,
          2013,
          2014,
          2015,
          2016,
          2017,
          2018,
          2019,
          2020,
          2021,
          2022,
          2023,
          2024,
          2025
         ],
         "xaxis": "x",
         "y": [
          null,
          null,
          null,
          null,
          5.666666666666667,
          null,
          null,
          null,
          null,
          null,
          6.1,
          null,
          8,
          10,
          8.5,
          6.734795918367347,
          6.112761904761904,
          5.633333333333333,
          5.968888888888889,
          6.423529411764706,
          7.1,
          5.947324324324324,
          6.07,
          6.758304347826087,
          7.307285714285714,
          7.1802635046113314,
          7.47021052631579,
          7.367375806451613,
          6.03766828087167,
          6.331149028077754,
          6.485663907284768,
          6.5864836702954905,
          7.174886748120301,
          6.408547191011236,
          6.427392701998262,
          6.34500544959128,
          6.571023450586265,
          6.153089570552147,
          6.597982023968043,
          5.292164179104478,
          6.462017554125219,
          6.607846833578792,
          6.4559301801801805,
          6.422523333333333,
          6.6434014002333726,
          6.231011529592621,
          6.001879489225858,
          6.091604758250192,
          6.474365014577259,
          6.527167708925526,
          7.228474917491749,
          5.888988888888889,
          5.945846823770491,
          6.163936972425437,
          6.297193321078431,
          5.930531890220332,
          5.876442740286299,
          6.053915414761594,
          6.25312,
          5.939107944048561,
          6.3626627936999745,
          6.022154884318766,
          6.357940201005025,
          5.6473127635960045,
          6.206254896770778,
          6.148038731320525,
          5.886484198645598,
          6.356624705574457,
          6.496404047742605,
          6.303908015918135,
          6.266592066601371,
          6.289040140584536,
          6.327705092775365,
          6.142096446700507,
          6.356046198908268,
          6.265928620218579,
          6.3664740881738915,
          6.54118888237879,
          6.469711628208452,
          6.381026292504108,
          6.717200755001887,
          6.8518794797974785,
          6.877915315501395,
          6.527826689405244,
          6.835168674698796,
          7.88,
          null
         ],
         "yaxis": "y"
        },
        {
         "hovertemplate": "Genre=Thriller<br>Year=%{x|%Y}<br>Weighted Average Rating=%{y}<extra></extra>",
         "legendgroup": "Thriller",
         "line": {
          "color": "#FF6692",
          "dash": "solid"
         },
         "marker": {
          "symbol": "circle"
         },
         "mode": "lines",
         "name": "Thriller",
         "showlegend": true,
         "type": "scattergl",
         "visible": "legendonly",
         "x": [
          1900,
          1902,
          1904,
          1906,
          1908,
          1909,
          1910,
          1911,
          1912,
          1913,
          1914,
          1915,
          1916,
          1917,
          1918,
          1919,
          1920,
          1921,
          1922,
          1923,
          1924,
          1925,
          1926,
          1927,
          1928,
          1929,
          1930,
          1931,
          1932,
          1933,
          1934,
          1935,
          1936,
          1937,
          1938,
          1939,
          1940,
          1941,
          1942,
          1943,
          1944,
          1945,
          1946,
          1947,
          1948,
          1949,
          1950,
          1951,
          1952,
          1953,
          1954,
          1955,
          1956,
          1957,
          1958,
          1959,
          1960,
          1961,
          1962,
          1963,
          1964,
          1965,
          1966,
          1967,
          1968,
          1969,
          1970,
          1971,
          1972,
          1973,
          1974,
          1975,
          1976,
          1977,
          1978,
          1979,
          1980,
          1981,
          1982,
          1983,
          1984,
          1985,
          1986,
          1987,
          1988,
          1989,
          1990,
          1991,
          1992,
          1993,
          1994,
          1995,
          1996,
          1997,
          1998,
          1999,
          2000,
          2001,
          2002,
          2003,
          2004,
          2005,
          2006,
          2007,
          2008,
          2009,
          2010,
          2011,
          2012,
          2013,
          2014,
          2015,
          2016,
          2017,
          2018,
          2019,
          2020,
          2021,
          2022,
          2023,
          2024,
          2025,
          2026,
          2027,
          2029
         ],
         "xaxis": "x",
         "y": [
          null,
          5,
          6,
          6.5,
          5.4483870967741925,
          5.822746835443038,
          null,
          5.919607843137255,
          6.179545454545454,
          6.833654545454546,
          null,
          6.497014925373135,
          6.6189189189189195,
          4.823076923076923,
          5.775,
          5,
          7.9891225525743295,
          6.306460317460317,
          7.20328897338403,
          7.75945182012848,
          7.207036809815952,
          6.45170731707317,
          3.4499999999999997,
          7.207766826923077,
          6.796491228070176,
          6.374705882352941,
          5.845456790123457,
          7.948732809430256,
          6.152645472061657,
          6.627774509803921,
          6.217870212765958,
          6.99554578096948,
          6.46399823943662,
          6.694904320987654,
          7.218842261904761,
          6.602277360066834,
          7.4879813235891195,
          7.284469466996117,
          6.616381362007169,
          6.9969881993006995,
          7.509775867458581,
          6.95400108892922,
          7.147701969921627,
          6.979373303793963,
          7.390346371142982,
          7.386414270211612,
          6.79960892494929,
          7.223263631406762,
          6.575734786557675,
          7.195785230950279,
          7.965979491708371,
          7.308657524411259,
          7.235640943439432,
          6.435444937833037,
          7.837230960987162,
          7.467359644347668,
          8.067021515641065,
          7.337425790754258,
          7.1261036896602015,
          7.30048195383242,
          7.191751518423539,
          6.857388523801891,
          6.4985302149178255,
          6.8916984512602495,
          7.205467463680387,
          6.713481710748453,
          6.8535400202634245,
          6.900907730161984,
          6.755528786628147,
          6.505989300506212,
          6.9033645065118465,
          7.35086520230016,
          7.024003984311772,
          6.268019106026654,
          6.729837709959782,
          6.761748804185351,
          7.574578591189615,
          6.716657369096875,
          7.418318252730109,
          6.2131496068672005,
          6.964143851197645,
          6.654982864014429,
          7.075107146919431,
          6.970922503242542,
          6.757799742249588,
          6.365307053941909,
          6.833143422202797,
          7.435682860647511,
          6.993936924133684,
          6.661552784728275,
          7.444200495369771,
          7.2790036013807375,
          6.770978765658418,
          6.846441812926554,
          6.489878814268966,
          6.887556473829201,
          6.748961205188895,
          6.621427454935081,
          6.584285219501046,
          6.686330044027334,
          6.773475669195565,
          6.503610073248662,
          6.833710983115484,
          6.609887474103336,
          6.7617574840005545,
          6.502813970840527,
          6.63518737508234,
          6.5652162141474175,
          6.546075217838285,
          6.547422454002582,
          6.732103392658304,
          6.39083153961136,
          6.422004186220516,
          6.506602564457505,
          6.424386286942505,
          6.894147383857755,
          6.640965165290988,
          6.762119576890034,
          6.738455632108297,
          6.89537554250702,
          9.363636363636363,
          null,
          null,
          null,
          null
         ],
         "yaxis": "y"
        },
        {
         "hovertemplate": "Genre=War<br>Year=%{x|%Y}<br>Weighted Average Rating=%{y}<extra></extra>",
         "legendgroup": "War",
         "line": {
          "color": "#B6E880",
          "dash": "solid"
         },
         "marker": {
          "symbol": "circle"
         },
         "mode": "lines",
         "name": "War",
         "showlegend": true,
         "type": "scattergl",
         "visible": "legendonly",
         "x": [
          1896,
          1897,
          1898,
          1899,
          1900,
          1901,
          1902,
          1904,
          1905,
          1906,
          1908,
          1909,
          1910,
          1911,
          1912,
          1913,
          1914,
          1915,
          1916,
          1917,
          1918,
          1919,
          1920,
          1921,
          1922,
          1923,
          1924,
          1925,
          1926,
          1927,
          1928,
          1929,
          1930,
          1931,
          1932,
          1933,
          1934,
          1935,
          1936,
          1937,
          1938,
          1939,
          1940,
          1941,
          1942,
          1943,
          1944,
          1945,
          1946,
          1947,
          1948,
          1949,
          1950,
          1951,
          1952,
          1953,
          1954,
          1955,
          1956,
          1957,
          1958,
          1959,
          1960,
          1961,
          1962,
          1963,
          1964,
          1965,
          1966,
          1967,
          1968,
          1969,
          1970,
          1971,
          1972,
          1973,
          1974,
          1975,
          1976,
          1977,
          1978,
          1979,
          1980,
          1981,
          1982,
          1983,
          1984,
          1985,
          1986,
          1987,
          1988,
          1989,
          1990,
          1991,
          1992,
          1993,
          1994,
          1995,
          1996,
          1997,
          1998,
          1999,
          2000,
          2001,
          2002,
          2003,
          2004,
          2005,
          2006,
          2007,
          2008,
          2009,
          2010,
          2011,
          2012,
          2013,
          2014,
          2015,
          2016,
          2017,
          2018,
          2019,
          2020,
          2021,
          2022,
          2023,
          2024,
          2025
         ],
         "xaxis": "x",
         "y": [
          4,
          4.981317647058824,
          4.289285714285714,
          2.527272727272727,
          4.817948717948718,
          null,
          null,
          4.220000000000001,
          4.416666666666667,
          4.5,
          null,
          5.8,
          5.167857142857144,
          4.782761904761904,
          5.671875,
          4.845454545454545,
          5.707272727272727,
          6.027496124031008,
          5.975609756097561,
          6.286486486486487,
          6.5102103174603165,
          6.8740499999999995,
          5.945454545454546,
          6.649826086956522,
          null,
          5,
          6,
          7.606820069204151,
          7.91611659192825,
          7.264988479262673,
          6.671679347826086,
          6.3724,
          7.510464203233258,
          6.44635761589404,
          6.473497942386831,
          6.966360477741585,
          5.976461538461538,
          6.227141935483871,
          6.338830845771144,
          7.494016883116885,
          6.733834841628959,
          7.71267692994199,
          7.995737019730011,
          6.555930704898447,
          6.7646878919440425,
          6.498845775225595,
          6.50763055062167,
          7.180341674687199,
          7.321658333333334,
          6.199257309941521,
          6.213330708661418,
          6.822973770491804,
          6.293172413793103,
          6.394284493284493,
          6.192128491620112,
          6.786760061130922,
          6.719192439862542,
          6.547587248322147,
          7.023627892432771,
          7.818821447073045,
          6.628165193745752,
          7.216437621453556,
          7.324373666565072,
          7.117832094175959,
          7.6450627784528145,
          7.6163961829549205,
          7.8156630465051515,
          7.168532440782699,
          7.443685598923285,
          7.1488163059889285,
          6.946223132530121,
          6.862981227803146,
          7.089645308924486,
          6.809832100170746,
          6.6680057224606575,
          6.782981213872832,
          6.880086436170212,
          7.615390205724508,
          6.262598644578313,
          6.8321349238996305,
          7.637435784085621,
          7.856285103654627,
          7.009785648574057,
          7.4592482881055036,
          7.414802539404553,
          6.683477408818726,
          6.640901838235294,
          6.876006131650135,
          7.414718376697758,
          7.786630293367346,
          7.322775280898877,
          7.0477350887692,
          6.32577704047777,
          6.780199873896595,
          7.213719078179697,
          8.250675479405425,
          7.335807186397177,
          7.766637965454389,
          6.930464777748895,
          6.297609045848823,
          7.961021220159151,
          6.483952236542836,
          6.950826768736881,
          7.035636205301258,
          7.590666644263727,
          7.189736016467915,
          7.04263833777926,
          6.726860495436767,
          7.3657896516558425,
          7.03499817598591,
          7.05182863320173,
          7.820727092128135,
          7.061035357352818,
          6.843374110032363,
          6.599521126760564,
          7.272187355597564,
          7.309375118339194,
          6.979535214764545,
          7.335073248209281,
          7.198695161973323,
          6.773152636319545,
          7.511751947519476,
          6.9038425708207365,
          7.008819505094614,
          7.346028174212599,
          7.424642302716689,
          8,
          null
         ],
         "yaxis": "y"
        },
        {
         "hovertemplate": "Genre=Western<br>Year=%{x|%Y}<br>Weighted Average Rating=%{y}<extra></extra>",
         "legendgroup": "Western",
         "line": {
          "color": "#FF97FF",
          "dash": "solid"
         },
         "marker": {
          "symbol": "circle"
         },
         "mode": "lines",
         "name": "Western",
         "showlegend": true,
         "type": "scattergl",
         "visible": "legendonly",
         "x": [
          1894,
          1896,
          1898,
          1899,
          1903,
          1904,
          1906,
          1907,
          1908,
          1909,
          1910,
          1911,
          1912,
          1913,
          1914,
          1915,
          1916,
          1917,
          1918,
          1919,
          1920,
          1921,
          1922,
          1923,
          1924,
          1925,
          1926,
          1927,
          1928,
          1929,
          1930,
          1931,
          1932,
          1933,
          1934,
          1935,
          1936,
          1937,
          1938,
          1939,
          1940,
          1941,
          1942,
          1943,
          1944,
          1945,
          1946,
          1947,
          1948,
          1949,
          1950,
          1951,
          1952,
          1953,
          1954,
          1955,
          1956,
          1957,
          1958,
          1959,
          1960,
          1961,
          1962,
          1963,
          1964,
          1965,
          1966,
          1967,
          1968,
          1969,
          1970,
          1971,
          1972,
          1973,
          1974,
          1975,
          1976,
          1977,
          1978,
          1979,
          1980,
          1981,
          1982,
          1983,
          1984,
          1985,
          1986,
          1987,
          1988,
          1989,
          1990,
          1991,
          1992,
          1993,
          1994,
          1995,
          1996,
          1997,
          1998,
          1999,
          2000,
          2001,
          2002,
          2003,
          2004,
          2005,
          2006,
          2007,
          2008,
          2009,
          2010,
          2011,
          2012,
          2013,
          2014,
          2015,
          2016,
          2017,
          2018,
          2019,
          2020,
          2021,
          2022,
          2023,
          2024,
          2025,
          2034
         ],
         "xaxis": "x",
         "y": [
          1.667,
          4.115,
          2,
          3.05,
          7,
          6.422222222222222,
          4.915384615384616,
          null,
          4.225,
          4.9393939393939394,
          5.042000000000001,
          4.927507246376812,
          5.064655172413793,
          5.617857142857143,
          5.440971830985915,
          5.271428571428571,
          5.703448275862069,
          5.618085106382979,
          5.7108,
          5.742574468085107,
          6.42474,
          4.9526315789473685,
          6.089702380952381,
          6.511753086419753,
          6.138314606741574,
          6.610188172043012,
          6.406533333333333,
          6.191666666666667,
          6.628447852760735,
          5.583018867924528,
          5.839697435897436,
          5.34726368159204,
          4.868576923076923,
          5.237786585365853,
          4.926298245614035,
          5.178604838709678,
          5.583399416909621,
          5.9922596685082885,
          5.148900452488688,
          7.069143203883495,
          6.025903448275861,
          5.9756915422885575,
          5.589086642599278,
          6.653712166172107,
          5.71299209486166,
          5.7729025270758125,
          6.750197336561744,
          6.1020856423173795,
          7.229950075642965,
          6.3024080604534,
          6.618954366197183,
          6.426867704280156,
          7.04660429574556,
          6.570594907407408,
          6.626082828282828,
          6.409685121107267,
          7.028665612148055,
          6.59700546149645,
          6.534664442961974,
          7.080922909407666,
          7.115960653303638,
          6.594756279069768,
          7.2370084493041755,
          6.576938895417157,
          7.528496003365587,
          7.4391837827853715,
          7.8973725700976445,
          6.383242276422764,
          7.493073742047426,
          7.079062663641124,
          6.9299078751857355,
          6.844871864240039,
          6.541079457364341,
          6.86795793824459,
          6.976921709894332,
          6.1295092024539874,
          6.922191722169362,
          6.064217898832684,
          6.110490022172948,
          5.906806049822064,
          6.515536458333333,
          6.0963578431372545,
          6.193062913907284,
          6.036238095238095,
          6.121927272727273,
          6.843386312217195,
          6.250922680412372,
          6.067552755905512,
          6.4403839854413105,
          5.147739130434783,
          7.591497138011447,
          6.240198281154082,
          7.615464320435543,
          7.205300196463654,
          6.737078066914498,
          6.675992809450436,
          6.1808579881656796,
          6.115765306122449,
          5.482531428571429,
          5.5874971085409255,
          6.318614606741574,
          6.4686866197183095,
          5.909109004739336,
          6.43081380375998,
          5.88492055267703,
          6.336917311411992,
          6.120311425061425,
          6.916810457516339,
          6.610349112426036,
          5.234334689725331,
          6.698758197813917,
          6.265036246186972,
          7.967619705892725,
          6.055627637632874,
          6.130792263610315,
          7.3928365315089835,
          6.662156380921688,
          6.695375121477162,
          6.910906657018813,
          6.662326848249027,
          6.7438115781710914,
          6.659738233397807,
          6.671591145833333,
          6.034215339233038,
          8.666666666666666,
          null,
          null
         ],
         "yaxis": "y"
        }
       ],
       "layout": {
        "font": {
         "family": "Courier New, monospace"
        },
        "height": 575,
        "legend": {
         "font": {
          "family": "Courier New, monospace",
          "size": 9
         },
         "title": {
          "font": {
           "family": "Courier New, monospace",
           "size": 10
          },
          "text": "Genre"
         },
         "tracegroupgap": 0
        },
        "paper_bgcolor": "rgba(0,0,0,0)",
        "plot_bgcolor": "rgba(0,0,0,0)",
        "template": {
         "data": {
          "bar": [
           {
            "error_x": {
             "color": "#2a3f5f"
            },
            "error_y": {
             "color": "#2a3f5f"
            },
            "marker": {
             "line": {
              "color": "#E5ECF6",
              "width": 0.5
             },
             "pattern": {
              "fillmode": "overlay",
              "size": 10,
              "solidity": 0.2
             }
            },
            "type": "bar"
           }
          ],
          "barpolar": [
           {
            "marker": {
             "line": {
              "color": "#E5ECF6",
              "width": 0.5
             },
             "pattern": {
              "fillmode": "overlay",
              "size": 10,
              "solidity": 0.2
             }
            },
            "type": "barpolar"
           }
          ],
          "carpet": [
           {
            "aaxis": {
             "endlinecolor": "#2a3f5f",
             "gridcolor": "white",
             "linecolor": "white",
             "minorgridcolor": "white",
             "startlinecolor": "#2a3f5f"
            },
            "baxis": {
             "endlinecolor": "#2a3f5f",
             "gridcolor": "white",
             "linecolor": "white",
             "minorgridcolor": "white",
             "startlinecolor": "#2a3f5f"
            },
            "type": "carpet"
           }
          ],
          "choropleth": [
           {
            "colorbar": {
             "outlinewidth": 0,
             "ticks": ""
            },
            "type": "choropleth"
           }
          ],
          "contour": [
           {
            "colorbar": {
             "outlinewidth": 0,
             "ticks": ""
            },
            "colorscale": [
             [
              0,
              "#0d0887"
             ],
             [
              0.1111111111111111,
              "#46039f"
             ],
             [
              0.2222222222222222,
              "#7201a8"
             ],
             [
              0.3333333333333333,
              "#9c179e"
             ],
             [
              0.4444444444444444,
              "#bd3786"
             ],
             [
              0.5555555555555556,
              "#d8576b"
             ],
             [
              0.6666666666666666,
              "#ed7953"
             ],
             [
              0.7777777777777778,
              "#fb9f3a"
             ],
             [
              0.8888888888888888,
              "#fdca26"
             ],
             [
              1,
              "#f0f921"
             ]
            ],
            "type": "contour"
           }
          ],
          "contourcarpet": [
           {
            "colorbar": {
             "outlinewidth": 0,
             "ticks": ""
            },
            "type": "contourcarpet"
           }
          ],
          "heatmap": [
           {
            "colorbar": {
             "outlinewidth": 0,
             "ticks": ""
            },
            "colorscale": [
             [
              0,
              "#0d0887"
             ],
             [
              0.1111111111111111,
              "#46039f"
             ],
             [
              0.2222222222222222,
              "#7201a8"
             ],
             [
              0.3333333333333333,
              "#9c179e"
             ],
             [
              0.4444444444444444,
              "#bd3786"
             ],
             [
              0.5555555555555556,
              "#d8576b"
             ],
             [
              0.6666666666666666,
              "#ed7953"
             ],
             [
              0.7777777777777778,
              "#fb9f3a"
             ],
             [
              0.8888888888888888,
              "#fdca26"
             ],
             [
              1,
              "#f0f921"
             ]
            ],
            "type": "heatmap"
           }
          ],
          "heatmapgl": [
           {
            "colorbar": {
             "outlinewidth": 0,
             "ticks": ""
            },
            "colorscale": [
             [
              0,
              "#0d0887"
             ],
             [
              0.1111111111111111,
              "#46039f"
             ],
             [
              0.2222222222222222,
              "#7201a8"
             ],
             [
              0.3333333333333333,
              "#9c179e"
             ],
             [
              0.4444444444444444,
              "#bd3786"
             ],
             [
              0.5555555555555556,
              "#d8576b"
             ],
             [
              0.6666666666666666,
              "#ed7953"
             ],
             [
              0.7777777777777778,
              "#fb9f3a"
             ],
             [
              0.8888888888888888,
              "#fdca26"
             ],
             [
              1,
              "#f0f921"
             ]
            ],
            "type": "heatmapgl"
           }
          ],
          "histogram": [
           {
            "marker": {
             "pattern": {
              "fillmode": "overlay",
              "size": 10,
              "solidity": 0.2
             }
            },
            "type": "histogram"
           }
          ],
          "histogram2d": [
           {
            "colorbar": {
             "outlinewidth": 0,
             "ticks": ""
            },
            "colorscale": [
             [
              0,
              "#0d0887"
             ],
             [
              0.1111111111111111,
              "#46039f"
             ],
             [
              0.2222222222222222,
              "#7201a8"
             ],
             [
              0.3333333333333333,
              "#9c179e"
             ],
             [
              0.4444444444444444,
              "#bd3786"
             ],
             [
              0.5555555555555556,
              "#d8576b"
             ],
             [
              0.6666666666666666,
              "#ed7953"
             ],
             [
              0.7777777777777778,
              "#fb9f3a"
             ],
             [
              0.8888888888888888,
              "#fdca26"
             ],
             [
              1,
              "#f0f921"
             ]
            ],
            "type": "histogram2d"
           }
          ],
          "histogram2dcontour": [
           {
            "colorbar": {
             "outlinewidth": 0,
             "ticks": ""
            },
            "colorscale": [
             [
              0,
              "#0d0887"
             ],
             [
              0.1111111111111111,
              "#46039f"
             ],
             [
              0.2222222222222222,
              "#7201a8"
             ],
             [
              0.3333333333333333,
              "#9c179e"
             ],
             [
              0.4444444444444444,
              "#bd3786"
             ],
             [
              0.5555555555555556,
              "#d8576b"
             ],
             [
              0.6666666666666666,
              "#ed7953"
             ],
             [
              0.7777777777777778,
              "#fb9f3a"
             ],
             [
              0.8888888888888888,
              "#fdca26"
             ],
             [
              1,
              "#f0f921"
             ]
            ],
            "type": "histogram2dcontour"
           }
          ],
          "mesh3d": [
           {
            "colorbar": {
             "outlinewidth": 0,
             "ticks": ""
            },
            "type": "mesh3d"
           }
          ],
          "parcoords": [
           {
            "line": {
             "colorbar": {
              "outlinewidth": 0,
              "ticks": ""
             }
            },
            "type": "parcoords"
           }
          ],
          "pie": [
           {
            "automargin": true,
            "type": "pie"
           }
          ],
          "scatter": [
           {
            "fillpattern": {
             "fillmode": "overlay",
             "size": 10,
             "solidity": 0.2
            },
            "type": "scatter"
           }
          ],
          "scatter3d": [
           {
            "line": {
             "colorbar": {
              "outlinewidth": 0,
              "ticks": ""
             }
            },
            "marker": {
             "colorbar": {
              "outlinewidth": 0,
              "ticks": ""
             }
            },
            "type": "scatter3d"
           }
          ],
          "scattercarpet": [
           {
            "marker": {
             "colorbar": {
              "outlinewidth": 0,
              "ticks": ""
             }
            },
            "type": "scattercarpet"
           }
          ],
          "scattergeo": [
           {
            "marker": {
             "colorbar": {
              "outlinewidth": 0,
              "ticks": ""
             }
            },
            "type": "scattergeo"
           }
          ],
          "scattergl": [
           {
            "marker": {
             "colorbar": {
              "outlinewidth": 0,
              "ticks": ""
             }
            },
            "type": "scattergl"
           }
          ],
          "scattermapbox": [
           {
            "marker": {
             "colorbar": {
              "outlinewidth": 0,
              "ticks": ""
             }
            },
            "type": "scattermapbox"
           }
          ],
          "scatterpolar": [
           {
            "marker": {
             "colorbar": {
              "outlinewidth": 0,
              "ticks": ""
             }
            },
            "type": "scatterpolar"
           }
          ],
          "scatterpolargl": [
           {
            "marker": {
             "colorbar": {
              "outlinewidth": 0,
              "ticks": ""
             }
            },
            "type": "scatterpolargl"
           }
          ],
          "scatterternary": [
           {
            "marker": {
             "colorbar": {
              "outlinewidth": 0,
              "ticks": ""
             }
            },
            "type": "scatterternary"
           }
          ],
          "surface": [
           {
            "colorbar": {
             "outlinewidth": 0,
             "ticks": ""
            },
            "colorscale": [
             [
              0,
              "#0d0887"
             ],
             [
              0.1111111111111111,
              "#46039f"
             ],
             [
              0.2222222222222222,
              "#7201a8"
             ],
             [
              0.3333333333333333,
              "#9c179e"
             ],
             [
              0.4444444444444444,
              "#bd3786"
             ],
             [
              0.5555555555555556,
              "#d8576b"
             ],
             [
              0.6666666666666666,
              "#ed7953"
             ],
             [
              0.7777777777777778,
              "#fb9f3a"
             ],
             [
              0.8888888888888888,
              "#fdca26"
             ],
             [
              1,
              "#f0f921"
             ]
            ],
            "type": "surface"
           }
          ],
          "table": [
           {
            "cells": {
             "fill": {
              "color": "#EBF0F8"
             },
             "line": {
              "color": "white"
             }
            },
            "header": {
             "fill": {
              "color": "#C8D4E3"
             },
             "line": {
              "color": "white"
             }
            },
            "type": "table"
           }
          ]
         },
         "layout": {
          "annotationdefaults": {
           "arrowcolor": "#2a3f5f",
           "arrowhead": 0,
           "arrowwidth": 1
          },
          "autotypenumbers": "strict",
          "coloraxis": {
           "colorbar": {
            "outlinewidth": 0,
            "ticks": ""
           }
          },
          "colorscale": {
           "diverging": [
            [
             0,
             "#8e0152"
            ],
            [
             0.1,
             "#c51b7d"
            ],
            [
             0.2,
             "#de77ae"
            ],
            [
             0.3,
             "#f1b6da"
            ],
            [
             0.4,
             "#fde0ef"
            ],
            [
             0.5,
             "#f7f7f7"
            ],
            [
             0.6,
             "#e6f5d0"
            ],
            [
             0.7,
             "#b8e186"
            ],
            [
             0.8,
             "#7fbc41"
            ],
            [
             0.9,
             "#4d9221"
            ],
            [
             1,
             "#276419"
            ]
           ],
           "sequential": [
            [
             0,
             "#0d0887"
            ],
            [
             0.1111111111111111,
             "#46039f"
            ],
            [
             0.2222222222222222,
             "#7201a8"
            ],
            [
             0.3333333333333333,
             "#9c179e"
            ],
            [
             0.4444444444444444,
             "#bd3786"
            ],
            [
             0.5555555555555556,
             "#d8576b"
            ],
            [
             0.6666666666666666,
             "#ed7953"
            ],
            [
             0.7777777777777778,
             "#fb9f3a"
            ],
            [
             0.8888888888888888,
             "#fdca26"
            ],
            [
             1,
             "#f0f921"
            ]
           ],
           "sequentialminus": [
            [
             0,
             "#0d0887"
            ],
            [
             0.1111111111111111,
             "#46039f"
            ],
            [
             0.2222222222222222,
             "#7201a8"
            ],
            [
             0.3333333333333333,
             "#9c179e"
            ],
            [
             0.4444444444444444,
             "#bd3786"
            ],
            [
             0.5555555555555556,
             "#d8576b"
            ],
            [
             0.6666666666666666,
             "#ed7953"
            ],
            [
             0.7777777777777778,
             "#fb9f3a"
            ],
            [
             0.8888888888888888,
             "#fdca26"
            ],
            [
             1,
             "#f0f921"
            ]
           ]
          },
          "colorway": [
           "#636efa",
           "#EF553B",
           "#00cc96",
           "#ab63fa",
           "#FFA15A",
           "#19d3f3",
           "#FF6692",
           "#B6E880",
           "#FF97FF",
           "#FECB52"
          ],
          "font": {
           "color": "#2a3f5f"
          },
          "geo": {
           "bgcolor": "white",
           "lakecolor": "white",
           "landcolor": "#E5ECF6",
           "showlakes": true,
           "showland": true,
           "subunitcolor": "white"
          },
          "hoverlabel": {
           "align": "left"
          },
          "hovermode": "closest",
          "mapbox": {
           "style": "light"
          },
          "paper_bgcolor": "white",
          "plot_bgcolor": "#E5ECF6",
          "polar": {
           "angularaxis": {
            "gridcolor": "white",
            "linecolor": "white",
            "ticks": ""
           },
           "bgcolor": "#E5ECF6",
           "radialaxis": {
            "gridcolor": "white",
            "linecolor": "white",
            "ticks": ""
           }
          },
          "scene": {
           "xaxis": {
            "backgroundcolor": "#E5ECF6",
            "gridcolor": "white",
            "gridwidth": 2,
            "linecolor": "white",
            "showbackground": true,
            "ticks": "",
            "zerolinecolor": "white"
           },
           "yaxis": {
            "backgroundcolor": "#E5ECF6",
            "gridcolor": "white",
            "gridwidth": 2,
            "linecolor": "white",
            "showbackground": true,
            "ticks": "",
            "zerolinecolor": "white"
           },
           "zaxis": {
            "backgroundcolor": "#E5ECF6",
            "gridcolor": "white",
            "gridwidth": 2,
            "linecolor": "white",
            "showbackground": true,
            "ticks": "",
            "zerolinecolor": "white"
           }
          },
          "shapedefaults": {
           "line": {
            "color": "#2a3f5f"
           }
          },
          "ternary": {
           "aaxis": {
            "gridcolor": "white",
            "linecolor": "white",
            "ticks": ""
           },
           "baxis": {
            "gridcolor": "white",
            "linecolor": "white",
            "ticks": ""
           },
           "bgcolor": "#E5ECF6",
           "caxis": {
            "gridcolor": "white",
            "linecolor": "white",
            "ticks": ""
           }
          },
          "title": {
           "x": 0.05
          },
          "xaxis": {
           "automargin": true,
           "gridcolor": "white",
           "linecolor": "white",
           "ticks": "",
           "title": {
            "standoff": 15
           },
           "zerolinecolor": "white",
           "zerolinewidth": 2
          },
          "yaxis": {
           "automargin": true,
           "gridcolor": "white",
           "linecolor": "white",
           "ticks": "",
           "title": {
            "standoff": 15
           },
           "zerolinecolor": "white",
           "zerolinewidth": 2
          }
         }
        },
        "title": {
         "font": {
          "size": 16
         },
         "text": "Weighted Average Rating per Genre and Year"
        },
        "xaxis": {
         "anchor": "y",
         "domain": [
          0,
          1
         ],
         "range": [
          1864,
          2023
         ],
         "title": {
          "text": "Year"
         }
        },
        "yaxis": {
         "anchor": "x",
         "domain": [
          0,
          1
         ],
         "title": {
          "text": "Weighed Average Rating"
         }
        }
       }
      }
     },
     "metadata": {},
     "output_type": "display_data"
    }
   ],
   "source": [
    "df_dummy['release_date'] = pd.to_datetime(df_dummy['release_date'])\n",
    "df_dummy['year'] = df_dummy['release_date'].dt.year\n",
    "genre_columns = list(df_dummy.columns)[24:]\n",
    "yearly_genre_avg = pd.DataFrame()\n",
    "\n",
    "# Calculating the weighted scores per genre\n",
    "for genre in genre_columns:\n",
    "    genre_data = df_dummy[df_dummy[genre] == 1]\n",
    "\n",
    "    genre_data['weighted_score'] = genre_data['vote_average'] * genre_data['vote_count']\n",
    "    summary = genre_data.groupby('year').agg({\n",
    "        'weighted_score': 'sum',\n",
    "        'vote_count': 'sum'\n",
    "    }).reset_index()\n",
    "\n",
    "    summary['weighted_average'] = summary['weighted_score'] / summary['vote_count']\n",
    "    summary['Genre'] = genre  # Add a column for the genre name\n",
    "\n",
    "    yearly_genre_avg = pd.concat([yearly_genre_avg, summary[['year', 'weighted_average', 'Genre']]], ignore_index=True)\n",
    "\n",
    "# Creating an interactive diagram\n",
    "fig = px.line(yearly_genre_avg, x='year', y='weighted_average', color='Genre',\n",
    "              title='Weighted Average Rating per Genre and Year',\n",
    "              labels={'weighted_average': 'Weighted Average Rating', 'year': 'Year'},\n",
    "              hover_data={'year': '|%Y'})\n",
    "\n",
    "# Here we are defining the initially shown genres\n",
    "hidden_genres = set(genre_columns)\n",
    "hidden_genres -= {\"Animation\", \"Horror\"}\n",
    "\n",
    "for trace in fig.data:\n",
    "    if trace.name in hidden_genres:\n",
    "        trace.visible = 'legendonly'\n",
    "\n",
    "# Updating the Layout\n",
    "fig.update_layout(\n",
    "    font=dict(\n",
    "        family=\"Courier New, monospace\",\n",
    "    ),\n",
    "    title_font = dict(\n",
    "        size = 16\n",
    "    ),\n",
    "    xaxis_title='Year',\n",
    "    yaxis_title='Weighed Average Rating',\n",
    "    legend_title='Genre',\n",
    "    xaxis=dict(range=[1864, 2023]),\n",
    "    height=575,\n",
    "    plot_bgcolor='rgba(0,0,0,0)',\n",
    "    paper_bgcolor='rgba(0,0,0,0)',\n",
    "    legend=dict(\n",
    "        title_font=dict(family=\"Courier New, monospace\",size=10),\n",
    "        font=dict(family=\"Courier New, monospace\",size=9)\n",
    "    )\n",
    ")\n",
    "\n",
    "fig.show()\n",
    "fig.write_html('time_series.html')"
   ]
  },
  {
   "cell_type": "markdown",
   "metadata": {},
   "source": [
    "This it the Genre dependent time seris of the Budget."
   ]
  },
  {
   "cell_type": "code",
   "execution_count": null,
   "metadata": {},
   "outputs": [
    {
     "name": "stdout",
     "output_type": "stream",
     "text": [
      "        year    budget    Genre\n",
      "0     1894.0         0   Action\n",
      "1     1895.0         0   Action\n",
      "2     1896.0         0   Action\n",
      "3     1897.0         0   Action\n",
      "4     1898.0         0   Action\n",
      "...      ...       ...      ...\n",
      "2458  2022.0  57816693  Western\n",
      "2459  2023.0    146540  Western\n",
      "2460  2024.0    226023  Western\n",
      "2461  2025.0         0  Western\n",
      "2462  2034.0         0  Western\n",
      "\n",
      "[2463 rows x 3 columns]\n"
     ]
    },
    {
     "name": "stderr",
     "output_type": "stream",
     "text": [
      "C:\\Users\\Besitzer\\AppData\\Local\\Packages\\PythonSoftwareFoundation.Python.3.11_qbz5n2kfra8p0\\LocalCache\\local-packages\\Python311\\site-packages\\plotly\\express\\_core.py:2065: FutureWarning:\n",
      "\n",
      "When grouping with a length-1 list-like, you will need to pass a length-1 tuple to get_group in a future version of pandas. Pass `(name,)` instead of `name` to silence this warning.\n",
      "\n"
     ]
    },
    {
     "data": {
      "application/vnd.plotly.v1+json": {
       "config": {
        "plotlyServerURL": "https://plot.ly"
       },
       "data": [
        {
         "hovertemplate": "Genre=Action<br>Year=%{x|%Y}<br>Total Budget ($)=%{y}<extra></extra>",
         "legendgroup": "Action",
         "line": {
          "color": "#636efa",
          "dash": "solid"
         },
         "marker": {
          "symbol": "circle"
         },
         "mode": "lines",
         "name": "Action",
         "showlegend": true,
         "type": "scattergl",
         "x": [
          1894,
          1895,
          1896,
          1897,
          1898,
          1900,
          1901,
          1902,
          1903,
          1904,
          1905,
          1906,
          1907,
          1908,
          1909,
          1910,
          1911,
          1912,
          1913,
          1914,
          1915,
          1916,
          1917,
          1918,
          1919,
          1920,
          1921,
          1922,
          1923,
          1924,
          1925,
          1926,
          1927,
          1928,
          1929,
          1930,
          1931,
          1932,
          1933,
          1934,
          1935,
          1936,
          1937,
          1938,
          1939,
          1940,
          1941,
          1942,
          1943,
          1944,
          1945,
          1946,
          1947,
          1948,
          1949,
          1950,
          1951,
          1952,
          1953,
          1954,
          1955,
          1956,
          1957,
          1958,
          1959,
          1960,
          1961,
          1962,
          1963,
          1964,
          1965,
          1966,
          1967,
          1968,
          1969,
          1970,
          1971,
          1972,
          1973,
          1974,
          1975,
          1976,
          1977,
          1978,
          1979,
          1980,
          1981,
          1982,
          1983,
          1984,
          1985,
          1986,
          1987,
          1988,
          1989,
          1990,
          1991,
          1992,
          1993,
          1994,
          1995,
          1996,
          1997,
          1998,
          1999,
          2000,
          2001,
          2002,
          2003,
          2004,
          2005,
          2006,
          2007,
          2008,
          2009,
          2010,
          2011,
          2012,
          2013,
          2014,
          2015,
          2016,
          2017,
          2018,
          2019,
          2020,
          2021,
          2022,
          2023,
          2024,
          2025,
          2026,
          2027,
          2028,
          2029,
          2030,
          2031
         ],
         "xaxis": "x",
         "y": [
          0,
          0,
          0,
          0,
          0,
          0,
          0,
          0,
          150,
          0,
          0,
          0,
          0,
          0,
          0,
          0,
          0,
          0,
          0,
          0,
          0,
          200000,
          90000,
          0,
          0,
          0,
          1500000,
          5,
          0,
          400000,
          0,
          3458000,
          2000000,
          325000,
          1190000,
          3950000,
          1300000,
          1473675,
          250000,
          1279142,
          2788000,
          0,
          2000000,
          10000000,
          2741855,
          3171233,
          1050000,
          2727257,
          3400157,
          1585000,
          328000,
          275155,
          5817467,
          8033000,
          4157592,
          5473425,
          275000,
          0,
          2167758,
          7906000,
          6815000,
          5600000,
          9150000,
          7330000,
          19696000,
          1000000,
          17295000,
          11200000,
          28912000,
          4820256,
          13295649,
          30177874,
          35630034,
          27456000,
          31020000,
          27927062,
          48527000,
          21193883,
          27088475,
          46355007,
          17088045,
          56086717,
          104017800,
          103265000,
          134077700,
          255920150,
          206155198,
          157356800,
          291481236,
          364092960,
          336703326,
          339337010,
          387930000,
          339425857,
          593399374,
          633332599,
          838650394,
          591015127,
          810059818,
          1016028684,
          1533320181,
          1512830146,
          2485454970,
          2067533058,
          1863218593,
          2001153009,
          2777325270,
          2754792137,
          3233487012,
          3204983823,
          2905921035,
          3053538752,
          2993860405,
          3813289790,
          3857016443,
          4169664592,
          4387946673,
          4562632944,
          5181681490,
          5130667329,
          4672654281,
          5829595096,
          5720989887,
          4840398612,
          4430439372,
          2184453130,
          3886168776,
          4615479458,
          4500203953,
          528713896,
          500003800,
          0,
          10000000,
          0,
          500000000,
          0,
          600000000
         ],
         "yaxis": "y"
        },
        {
         "hovertemplate": "Genre=Adventure<br>Year=%{x|%Y}<br>Total Budget ($)=%{y}<extra></extra>",
         "legendgroup": "Adventure",
         "line": {
          "color": "#EF553B",
          "dash": "solid"
         },
         "marker": {
          "symbol": "circle"
         },
         "mode": "lines",
         "name": "Adventure",
         "showlegend": true,
         "type": "scattergl",
         "visible": "legendonly",
         "x": [
          1901,
          1902,
          1903,
          1904,
          1905,
          1906,
          1907,
          1908,
          1909,
          1910,
          1911,
          1912,
          1913,
          1914,
          1915,
          1916,
          1917,
          1918,
          1919,
          1920,
          1921,
          1922,
          1923,
          1924,
          1925,
          1926,
          1927,
          1928,
          1929,
          1930,
          1931,
          1932,
          1933,
          1934,
          1935,
          1936,
          1937,
          1938,
          1939,
          1940,
          1941,
          1942,
          1943,
          1944,
          1945,
          1946,
          1947,
          1948,
          1949,
          1950,
          1951,
          1952,
          1953,
          1954,
          1955,
          1956,
          1957,
          1958,
          1959,
          1960,
          1961,
          1962,
          1963,
          1964,
          1965,
          1966,
          1967,
          1968,
          1969,
          1970,
          1971,
          1972,
          1973,
          1974,
          1975,
          1976,
          1977,
          1978,
          1979,
          1980,
          1981,
          1982,
          1983,
          1984,
          1985,
          1986,
          1987,
          1988,
          1989,
          1990,
          1991,
          1992,
          1993,
          1994,
          1995,
          1996,
          1997,
          1998,
          1999,
          2000,
          2001,
          2002,
          2003,
          2004,
          2005,
          2006,
          2007,
          2008,
          2009,
          2010,
          2011,
          2012,
          2013,
          2014,
          2015,
          2016,
          2017,
          2018,
          2019,
          2020,
          2021,
          2022,
          2023,
          2024,
          2025,
          2026,
          2027,
          2028,
          2029,
          2030,
          2031
         ],
         "xaxis": "x",
         "y": [
          0,
          5985,
          0,
          7500,
          0,
          0,
          500,
          0,
          0,
          0,
          0,
          30000,
          50000,
          17011,
          41,
          200000,
          0,
          0,
          250000,
          0,
          1500000,
          498067,
          0,
          1160654,
          4922480,
          3538000,
          0,
          952000,
          840000,
          2080000,
          1300000,
          1480302,
          1366399,
          1279142,
          5361000,
          6092000,
          7645000,
          5597000,
          8648374,
          8781712,
          878000,
          2874247,
          6400000,
          4905292,
          0,
          0,
          15275000,
          15990000,
          6334592,
          686050,
          3276000,
          11429140,
          7167758,
          20758000,
          19820000,
          22550000,
          32724000,
          5720000,
          25226000,
          20162000,
          21540000,
          45274600,
          41848000,
          6755000,
          37782318,
          48097074,
          50255000,
          55806000,
          26240000,
          43835116,
          30875000,
          19448000,
          19400075,
          9880000,
          24900000,
          69850000,
          131025000,
          127500750,
          162710688,
          223125000,
          189102731,
          142912000,
          242130469,
          262040000,
          496900020,
          389923000,
          250172000,
          285600509,
          461121095,
          542200541,
          496200189,
          457616001,
          593801548,
          607000000,
          999800000,
          1092344000,
          1785666170,
          1634215000,
          1399574000,
          1722605501,
          1713499253,
          2191724786,
          2610470876,
          2833992114,
          2735008753,
          2974817440,
          2633869304,
          3822386232,
          3757716278,
          3895787647,
          3832598967,
          4007696120,
          3809287299,
          4304470975,
          4659306524,
          5956543091,
          4020633890,
          4791171820,
          4686728958,
          1847710719,
          3479301165,
          3285893985,
          3661870863,
          138608101,
          552119822,
          0,
          10000000,
          0,
          500000000,
          0,
          600000000
         ],
         "yaxis": "y"
        },
        {
         "hovertemplate": "Genre=Animation<br>Year=%{x|%Y}<br>Total Budget ($)=%{y}<extra></extra>",
         "legendgroup": "Animation",
         "line": {
          "color": "#00cc96",
          "dash": "solid"
         },
         "marker": {
          "symbol": "circle"
         },
         "mode": "lines",
         "name": "Animation",
         "showlegend": true,
         "type": "scattergl",
         "visible": "legendonly",
         "x": [
          1878,
          1885,
          1892,
          1894,
          1896,
          1897,
          1898,
          1899,
          1900,
          1906,
          1907,
          1908,
          1909,
          1910,
          1911,
          1912,
          1913,
          1914,
          1915,
          1916,
          1917,
          1918,
          1919,
          1920,
          1921,
          1922,
          1923,
          1924,
          1925,
          1926,
          1927,
          1928,
          1929,
          1930,
          1931,
          1932,
          1933,
          1934,
          1935,
          1936,
          1937,
          1938,
          1939,
          1940,
          1941,
          1942,
          1943,
          1944,
          1945,
          1946,
          1947,
          1948,
          1949,
          1950,
          1951,
          1952,
          1953,
          1954,
          1955,
          1956,
          1957,
          1958,
          1959,
          1960,
          1961,
          1962,
          1963,
          1964,
          1965,
          1966,
          1967,
          1968,
          1969,
          1970,
          1971,
          1972,
          1973,
          1974,
          1975,
          1976,
          1977,
          1978,
          1979,
          1980,
          1981,
          1982,
          1983,
          1984,
          1985,
          1986,
          1987,
          1988,
          1989,
          1990,
          1991,
          1992,
          1993,
          1994,
          1995,
          1996,
          1997,
          1998,
          1999,
          2000,
          2001,
          2002,
          2003,
          2004,
          2005,
          2006,
          2007,
          2008,
          2009,
          2010,
          2011,
          2012,
          2013,
          2014,
          2015,
          2016,
          2017,
          2018,
          2019,
          2020,
          2021,
          2022,
          2023,
          2024,
          2025,
          2026,
          2028,
          2030
         ],
         "xaxis": "x",
         "y": [
          153,
          0,
          0,
          0,
          0,
          0,
          0,
          0,
          0,
          0,
          0,
          0,
          0,
          0,
          0,
          0,
          0,
          0,
          5000,
          0,
          0,
          3000,
          0,
          0,
          0,
          0,
          0,
          0,
          0,
          0,
          7,
          4986,
          18171,
          2094029,
          128868,
          113402,
          118832,
          213513,
          292871,
          10000000,
          1617586,
          429021,
          761051,
          4880000,
          922567,
          858000,
          799000,
          0,
          0,
          2125068,
          0,
          2006339,
          0,
          2900000,
          3000006,
          0,
          4000000,
          0,
          4300000,
          0,
          15,
          0,
          6350000,
          0,
          4000000,
          0,
          3000000,
          0,
          4769910,
          10315000,
          4000200,
          250000,
          0,
          5771569,
          20101350,
          850000,
          10957000,
          1050000,
          34000,
          0,
          19425000,
          5000000,
          7359497,
          0,
          21998740,
          24385000,
          25200500,
          6000000,
          42067396,
          36403000,
          23302100,
          140316345,
          60720033,
          37949300,
          43000086,
          86542685,
          138058018,
          146535820,
          168274217,
          232899368,
          215953230,
          464883602,
          453219340,
          654423958,
          656022600,
          556621904,
          484706402,
          786367883,
          614892015,
          1269984693,
          1154355126,
          1225509073,
          1426909233,
          1489130140,
          1639412701,
          1409865150,
          1493940895,
          1472417564,
          1423723008,
          1489289561,
          1143423414,
          1182677553,
          1433091709,
          756889221,
          1082945083,
          1115239231,
          963002789,
          115922508,
          30118121,
          0,
          0,
          0
         ],
         "yaxis": "y"
        },
        {
         "hovertemplate": "Genre=Comedy<br>Year=%{x|%Y}<br>Total Budget ($)=%{y}<extra></extra>",
         "legendgroup": "Comedy",
         "line": {
          "color": "#ab63fa",
          "dash": "solid"
         },
         "marker": {
          "symbol": "circle"
         },
         "mode": "lines",
         "name": "Comedy",
         "showlegend": true,
         "type": "scattergl",
         "visible": "legendonly",
         "x": [
          1892,
          1894,
          1895,
          1896,
          1897,
          1898,
          1899,
          1900,
          1901,
          1902,
          1903,
          1904,
          1905,
          1906,
          1907,
          1908,
          1909,
          1910,
          1911,
          1912,
          1913,
          1914,
          1915,
          1916,
          1917,
          1918,
          1919,
          1920,
          1921,
          1922,
          1923,
          1924,
          1925,
          1926,
          1927,
          1928,
          1929,
          1930,
          1931,
          1932,
          1933,
          1934,
          1935,
          1936,
          1937,
          1938,
          1939,
          1940,
          1941,
          1942,
          1943,
          1944,
          1945,
          1946,
          1947,
          1948,
          1949,
          1950,
          1951,
          1952,
          1953,
          1954,
          1955,
          1956,
          1957,
          1958,
          1959,
          1960,
          1961,
          1962,
          1963,
          1964,
          1965,
          1966,
          1967,
          1968,
          1969,
          1970,
          1971,
          1972,
          1973,
          1974,
          1975,
          1976,
          1977,
          1978,
          1979,
          1980,
          1981,
          1982,
          1983,
          1984,
          1985,
          1986,
          1987,
          1988,
          1989,
          1990,
          1991,
          1992,
          1993,
          1994,
          1995,
          1996,
          1997,
          1998,
          1999,
          2000,
          2001,
          2002,
          2003,
          2004,
          2005,
          2006,
          2007,
          2008,
          2009,
          2010,
          2011,
          2012,
          2013,
          2014,
          2015,
          2016,
          2017,
          2018,
          2019,
          2020,
          2021,
          2022,
          2023,
          2024,
          2025,
          2026,
          2027,
          2028,
          2030
         ],
         "xaxis": "x",
         "y": [
          0,
          0,
          0,
          0,
          0,
          0,
          0,
          0,
          0,
          0,
          0,
          7500,
          0,
          0,
          0,
          0,
          0,
          0,
          0,
          8,
          0,
          23,
          5041,
          0,
          0,
          250000,
          113690,
          0,
          256000,
          0,
          121202,
          612000,
          1327000,
          1632000,
          708159,
          9410986,
          2299181,
          2020000,
          1525559,
          1436000,
          4034302,
          3353367,
          2289381,
          15360071,
          6316820,
          10665495,
          19694452,
          4386189,
          4891490,
          9536977,
          6221000,
          9372513,
          4476000,
          1001128,
          13298459,
          16316170,
          16066970,
          6264885,
          9887000,
          12333800,
          14323785,
          4743000,
          21042204,
          11275105,
          6110015,
          3632440,
          6924848,
          24268000,
          20190035,
          5612475,
          40986400,
          56062700,
          45403763,
          22297800,
          66485000,
          36769576,
          63170105,
          82673946,
          31774615,
          25438084,
          15823350,
          27092059,
          43507700,
          51599978,
          59908433,
          78304538,
          139312012,
          205787413,
          192026549,
          327429550,
          219167000,
          279370856,
          395733729,
          575995521,
          704091096,
          709342656,
          784057146,
          679880824,
          917618100,
          879394045,
          1094692856,
          1343457768,
          865294768,
          1484568459,
          1612454987,
          2104338825,
          2645404360,
          2678515258,
          2557566658,
          2573864020,
          2744748428,
          2993050837,
          3282809096,
          3141989536,
          3065749742,
          3642609011,
          3306795946,
          3719688025,
          3573951995,
          3318035022,
          2519055595,
          2792305009,
          2803842475,
          3626429979,
          2897203021,
          2315000123,
          3086890584,
          1558899481,
          2179002936,
          2687029876,
          3391988812,
          363924411,
          30072073,
          0,
          1,
          46003000,
          0
         ],
         "yaxis": "y"
        },
        {
         "hovertemplate": "Genre=Crime<br>Year=%{x|%Y}<br>Total Budget ($)=%{y}<extra></extra>",
         "legendgroup": "Crime",
         "line": {
          "color": "#FFA15A",
          "dash": "solid"
         },
         "marker": {
          "symbol": "circle"
         },
         "mode": "lines",
         "name": "Crime",
         "showlegend": true,
         "type": "scattergl",
         "visible": "legendonly",
         "x": [
          1894,
          1895,
          1896,
          1897,
          1898,
          1899,
          1900,
          1901,
          1902,
          1903,
          1904,
          1905,
          1906,
          1907,
          1908,
          1909,
          1910,
          1911,
          1912,
          1913,
          1914,
          1915,
          1916,
          1917,
          1918,
          1919,
          1920,
          1921,
          1922,
          1923,
          1924,
          1925,
          1926,
          1927,
          1928,
          1929,
          1930,
          1931,
          1932,
          1933,
          1934,
          1935,
          1936,
          1937,
          1938,
          1939,
          1940,
          1941,
          1942,
          1943,
          1944,
          1945,
          1946,
          1947,
          1948,
          1949,
          1950,
          1951,
          1952,
          1953,
          1954,
          1955,
          1956,
          1957,
          1958,
          1959,
          1960,
          1961,
          1962,
          1963,
          1964,
          1965,
          1966,
          1967,
          1968,
          1969,
          1970,
          1971,
          1972,
          1973,
          1974,
          1975,
          1976,
          1977,
          1978,
          1979,
          1980,
          1981,
          1982,
          1983,
          1984,
          1985,
          1986,
          1987,
          1988,
          1989,
          1990,
          1991,
          1992,
          1993,
          1994,
          1995,
          1996,
          1997,
          1998,
          1999,
          2000,
          2001,
          2002,
          2003,
          2004,
          2005,
          2006,
          2007,
          2008,
          2009,
          2010,
          2011,
          2012,
          2013,
          2014,
          2015,
          2016,
          2017,
          2018,
          2019,
          2020,
          2021,
          2022,
          2023,
          2024,
          2025,
          2026
         ],
         "xaxis": "x",
         "y": [
          0,
          0,
          0,
          0,
          0,
          0,
          0,
          0,
          0,
          150,
          0,
          0,
          0,
          0,
          0,
          0,
          0,
          0,
          0,
          5700,
          0,
          0,
          0,
          0,
          0,
          350000,
          207000,
          0,
          5,
          0,
          665603,
          103000,
          166000,
          0,
          75000,
          1000000,
          103000,
          1300000,
          639845,
          437900,
          226408,
          1455715,
          1377000,
          1327575,
          691833,
          2961855,
          812131,
          1651000,
          2025423,
          0,
          4275437,
          3126000,
          107984155,
          6370117,
          1651000,
          2365592,
          1634000,
          7060000,
          11006111,
          2663000,
          2876050,
          14160080,
          2895000,
          3340000,
          3588000,
          9118848,
          30080,
          6121000,
          3950000,
          301000,
          2955000,
          3272648,
          22177800,
          25363618,
          17559158,
          29100094,
          15453040,
          17407212,
          25702433,
          31515750,
          42267101,
          38861211,
          34043498,
          18288154,
          16045000,
          19498188,
          70700000,
          115065198,
          55210091,
          114822685,
          201972060,
          107819229,
          241736000,
          249675000,
          312812500,
          339807042,
          466027000,
          442216200,
          393833863,
          488058100,
          535768700,
          820679664,
          595103300,
          1018674978,
          1021527833,
          1055425746,
          965015350,
          1594051635,
          1287317210,
          1038587414,
          949777963,
          1232276734,
          1355025166,
          1511953991,
          1484772232,
          1307764253,
          1206422151,
          1142818422,
          1227554901,
          1600675130,
          1127114042,
          1274549913,
          1009716564,
          1497985858,
          918583553,
          884055650,
          434635079,
          1454817786,
          896830601,
          1604799719,
          175888913,
          116821,
          1
         ],
         "yaxis": "y"
        },
        {
         "hovertemplate": "Genre=Documentary<br>Year=%{x|%Y}<br>Total Budget ($)=%{y}<extra></extra>",
         "legendgroup": "Documentary",
         "line": {
          "color": "#19d3f3",
          "dash": "solid"
         },
         "marker": {
          "symbol": "circle"
         },
         "mode": "lines",
         "name": "Documentary",
         "showlegend": true,
         "type": "scattergl",
         "x": [
          1865,
          1874,
          1878,
          1882,
          1883,
          1887,
          1888,
          1889,
          1890,
          1891,
          1892,
          1893,
          1894,
          1895,
          1896,
          1897,
          1898,
          1899,
          1900,
          1901,
          1902,
          1903,
          1904,
          1905,
          1906,
          1907,
          1908,
          1909,
          1910,
          1911,
          1912,
          1913,
          1914,
          1915,
          1916,
          1917,
          1918,
          1919,
          1920,
          1921,
          1922,
          1923,
          1924,
          1925,
          1926,
          1927,
          1928,
          1929,
          1930,
          1931,
          1932,
          1933,
          1934,
          1935,
          1936,
          1937,
          1938,
          1939,
          1940,
          1941,
          1942,
          1943,
          1944,
          1945,
          1946,
          1947,
          1948,
          1949,
          1950,
          1951,
          1952,
          1953,
          1954,
          1955,
          1956,
          1957,
          1958,
          1959,
          1960,
          1961,
          1962,
          1963,
          1964,
          1965,
          1966,
          1967,
          1968,
          1969,
          1970,
          1971,
          1972,
          1973,
          1974,
          1975,
          1976,
          1977,
          1978,
          1979,
          1980,
          1981,
          1982,
          1983,
          1984,
          1985,
          1986,
          1987,
          1988,
          1989,
          1990,
          1991,
          1992,
          1993,
          1994,
          1995,
          1996,
          1997,
          1998,
          1999,
          2000,
          2001,
          2002,
          2003,
          2004,
          2005,
          2006,
          2007,
          2008,
          2009,
          2010,
          2011,
          2012,
          2013,
          2014,
          2015,
          2016,
          2017,
          2018,
          2019,
          2020,
          2021,
          2022,
          2023,
          2024,
          2025,
          2028,
          2074
         ],
         "xaxis": "x",
         "y": [
          0,
          0,
          0,
          0,
          0,
          0,
          0,
          0,
          0,
          0,
          0,
          0,
          0,
          0,
          0,
          0,
          0,
          0,
          0,
          0,
          0,
          0,
          0,
          0,
          0,
          0,
          0,
          0,
          0,
          500,
          0,
          0,
          300000,
          0,
          0,
          0,
          0,
          0,
          0,
          0,
          273000,
          0,
          0,
          0,
          10000,
          1603469,
          0,
          25,
          0,
          0,
          0,
          32,
          0,
          7000,
          0,
          0,
          0,
          0,
          0,
          0,
          0,
          799000,
          0,
          0,
          0,
          0,
          150000,
          23500,
          1000,
          3900,
          10000,
          0,
          0,
          0,
          0,
          0,
          0,
          420000,
          0,
          0,
          100000,
          311941,
          0,
          53,
          375542,
          5000,
          598012,
          143005,
          1003500,
          1453,
          1609217,
          30000,
          3315595,
          1272000,
          42000,
          1100000,
          4655000,
          2170000,
          100995,
          5554750,
          8503000,
          1008000,
          1385000,
          1384254,
          350000,
          522500,
          4667350,
          161500,
          26638,
          1063500,
          4401079,
          1236350,
          1012361,
          2602015,
          1470422,
          884812,
          4213271,
          9454203,
          13584022,
          53415389,
          18738668,
          31862135,
          84869169,
          32034629,
          40252214,
          81937004,
          253992084,
          113616181,
          81612995,
          75331820,
          145157658,
          74604645,
          150000139,
          49562831,
          49606313,
          63511337,
          56243573,
          78758785,
          30575288,
          81416447,
          65677713,
          43111487,
          3881121,
          301,
          3000,
          0
         ],
         "yaxis": "y"
        },
        {
         "hovertemplate": "Genre=Drama<br>Year=%{x|%Y}<br>Total Budget ($)=%{y}<extra></extra>",
         "legendgroup": "Drama",
         "line": {
          "color": "#FF6692",
          "dash": "solid"
         },
         "marker": {
          "symbol": "circle"
         },
         "mode": "lines",
         "name": "Drama",
         "showlegend": true,
         "type": "scattergl",
         "x": [
          1893,
          1894,
          1895,
          1896,
          1897,
          1898,
          1899,
          1900,
          1901,
          1902,
          1903,
          1904,
          1905,
          1906,
          1907,
          1908,
          1909,
          1910,
          1911,
          1912,
          1913,
          1914,
          1915,
          1916,
          1917,
          1918,
          1919,
          1920,
          1921,
          1922,
          1923,
          1924,
          1925,
          1926,
          1927,
          1928,
          1929,
          1930,
          1931,
          1932,
          1933,
          1934,
          1935,
          1936,
          1937,
          1938,
          1939,
          1940,
          1941,
          1942,
          1943,
          1944,
          1945,
          1946,
          1947,
          1948,
          1949,
          1950,
          1951,
          1952,
          1953,
          1954,
          1955,
          1956,
          1957,
          1958,
          1959,
          1960,
          1961,
          1962,
          1963,
          1964,
          1965,
          1966,
          1967,
          1968,
          1969,
          1970,
          1971,
          1972,
          1973,
          1974,
          1975,
          1976,
          1977,
          1978,
          1979,
          1980,
          1981,
          1982,
          1983,
          1984,
          1985,
          1986,
          1987,
          1988,
          1989,
          1990,
          1991,
          1992,
          1993,
          1994,
          1995,
          1996,
          1997,
          1998,
          1999,
          2000,
          2001,
          2002,
          2003,
          2004,
          2005,
          2006,
          2007,
          2008,
          2009,
          2010,
          2011,
          2012,
          2013,
          2014,
          2015,
          2016,
          2017,
          2018,
          2019,
          2020,
          2021,
          2022,
          2023,
          2024,
          2025,
          2026,
          2027,
          2028,
          2029,
          2040,
          2099
         ],
         "xaxis": "x",
         "y": [
          0,
          0,
          0,
          0,
          0,
          0,
          0,
          0,
          0,
          0,
          0,
          0,
          37,
          0,
          500,
          1000,
          0,
          0,
          2231,
          30700,
          5700,
          0,
          163213,
          1604482,
          540000,
          250000,
          762000,
          207000,
          264500,
          1838335,
          3300202,
          1181603,
          6427960,
          4085426,
          10526457,
          5026817,
          1586652,
          9275914,
          6720289,
          6713059,
          6753175,
          4888219,
          10253958,
          11781480,
          17486337,
          15521253,
          26284325,
          8135042,
          4129727,
          9535900,
          13257112,
          25564273,
          12806000,
          23041000,
          24637200,
          17640000,
          22050000,
          7322675,
          24331141,
          23305111,
          18347534,
          48592942,
          20435100,
          52078342,
          60550000,
          16490279,
          45140234,
          37534027,
          46285267,
          69554669,
          79725502,
          66260867,
          73834456,
          191838999,
          30916440,
          91526823,
          87456980,
          176017922,
          53639571,
          58665687,
          73745600,
          78275783,
          71221115,
          100685995,
          196904848,
          115458441,
          219610323,
          216021391,
          301925146,
          419750610,
          289882983,
          419592770,
          369411620,
          464889125,
          515008166,
          567547083,
          633620823,
          860451598,
          965672224,
          1031998339,
          1243076739,
          1479564493,
          1441388006,
          1816583371,
          2148509353,
          2458599959,
          3369487723,
          2678238636,
          2602046077,
          2793593138,
          2361738123,
          3078247219,
          3438654882,
          3536129957,
          3559237751,
          3817919833,
          3179322917,
          3896683217,
          3200187461,
          3269893376,
          3537361977,
          3729928628,
          2968180014,
          3734816521,
          3457337861,
          2531788203,
          2851151537,
          1478863939,
          2181582369,
          2293905856,
          2371083718,
          712744588,
          22086629,
          5000000,
          0,
          46000000,
          5,
          0,
          0
         ],
         "yaxis": "y"
        },
        {
         "hovertemplate": "Genre=Family<br>Year=%{x|%Y}<br>Total Budget ($)=%{y}<extra></extra>",
         "legendgroup": "Family",
         "line": {
          "color": "#B6E880",
          "dash": "solid"
         },
         "marker": {
          "symbol": "circle"
         },
         "mode": "lines",
         "name": "Family",
         "showlegend": true,
         "type": "scattergl",
         "visible": "legendonly",
         "x": [
          1895,
          1896,
          1897,
          1898,
          1899,
          1900,
          1901,
          1902,
          1903,
          1905,
          1906,
          1907,
          1908,
          1909,
          1910,
          1911,
          1912,
          1913,
          1914,
          1915,
          1916,
          1917,
          1918,
          1919,
          1920,
          1921,
          1922,
          1923,
          1924,
          1925,
          1926,
          1927,
          1928,
          1929,
          1930,
          1931,
          1932,
          1933,
          1934,
          1935,
          1936,
          1937,
          1938,
          1939,
          1940,
          1941,
          1942,
          1943,
          1944,
          1945,
          1946,
          1947,
          1948,
          1949,
          1950,
          1951,
          1952,
          1953,
          1954,
          1955,
          1956,
          1957,
          1958,
          1959,
          1960,
          1961,
          1962,
          1963,
          1964,
          1965,
          1966,
          1967,
          1968,
          1969,
          1970,
          1971,
          1972,
          1973,
          1974,
          1975,
          1976,
          1977,
          1978,
          1979,
          1980,
          1981,
          1982,
          1983,
          1984,
          1985,
          1986,
          1987,
          1988,
          1989,
          1990,
          1991,
          1992,
          1993,
          1994,
          1995,
          1996,
          1997,
          1998,
          1999,
          2000,
          2001,
          2002,
          2003,
          2004,
          2005,
          2006,
          2007,
          2008,
          2009,
          2010,
          2011,
          2012,
          2013,
          2014,
          2015,
          2016,
          2017,
          2018,
          2019,
          2020,
          2021,
          2022,
          2023,
          2024,
          2025,
          2026
         ],
         "xaxis": "x",
         "y": [
          0,
          0,
          0,
          0,
          0,
          0,
          0,
          0,
          0,
          0,
          0,
          0,
          0,
          0,
          0,
          0,
          0,
          0,
          23,
          0,
          0,
          0,
          0,
          0,
          0,
          0,
          0,
          0,
          25000,
          0,
          0,
          0,
          4986,
          4353,
          0,
          11909,
          0,
          439719,
          0,
          1133386,
          0,
          3184144,
          66260,
          3477000,
          5316000,
          812600,
          1227000,
          1000000,
          1730238,
          2770000,
          5305068,
          630000,
          2000000,
          700000,
          2900420,
          5575000,
          4075000,
          4030000,
          5000000,
          6450000,
          9000000,
          21909000,
          650000,
          10690000,
          10632000,
          11500000,
          5000000,
          4000000,
          6000020,
          13472228,
          11987681,
          22003000,
          23708076,
          320000,
          9250000,
          23000000,
          2500000,
          5580000,
          4250000,
          65700,
          21001000,
          22286073,
          50700750,
          51602188,
          20000000,
          43913740,
          99250000,
          16300003,
          52430000,
          171047656,
          171779210,
          116865500,
          135596254,
          137950000,
          124963300,
          292405669,
          218802595,
          544793069,
          574730000,
          582361055,
          715363823,
          746508802,
          885064991,
          901994000,
          1075736351,
          761807027,
          958631500,
          1128218627,
          1316928021,
          1671640495,
          2070622649,
          1751384764,
          2135655024,
          2036419321,
          2465974014,
          2049214697,
          1765846115,
          1948900446,
          1992538621,
          1907793832,
          2513313543,
          1511351984,
          1753205154,
          2421437210,
          1395353603,
          1050593696,
          1587811999,
          1226901126,
          86568530,
          30050000,
          0
         ],
         "yaxis": "y"
        },
        {
         "hovertemplate": "Genre=Fantasy<br>Year=%{x|%Y}<br>Total Budget ($)=%{y}<extra></extra>",
         "legendgroup": "Fantasy",
         "line": {
          "color": "#FF97FF",
          "dash": "solid"
         },
         "marker": {
          "symbol": "circle"
         },
         "mode": "lines",
         "name": "Fantasy",
         "showlegend": true,
         "type": "scattergl",
         "visible": "legendonly",
         "x": [
          1896,
          1897,
          1898,
          1899,
          1900,
          1901,
          1902,
          1903,
          1904,
          1905,
          1906,
          1907,
          1908,
          1909,
          1910,
          1911,
          1912,
          1913,
          1914,
          1915,
          1916,
          1917,
          1918,
          1919,
          1920,
          1921,
          1922,
          1923,
          1924,
          1925,
          1926,
          1927,
          1928,
          1929,
          1930,
          1931,
          1932,
          1933,
          1934,
          1935,
          1936,
          1937,
          1938,
          1939,
          1940,
          1941,
          1942,
          1943,
          1944,
          1945,
          1946,
          1947,
          1948,
          1949,
          1950,
          1951,
          1952,
          1953,
          1954,
          1955,
          1956,
          1957,
          1958,
          1959,
          1960,
          1961,
          1962,
          1963,
          1964,
          1965,
          1966,
          1967,
          1968,
          1969,
          1970,
          1971,
          1972,
          1973,
          1974,
          1975,
          1976,
          1977,
          1978,
          1979,
          1980,
          1981,
          1982,
          1983,
          1984,
          1985,
          1986,
          1987,
          1988,
          1989,
          1990,
          1991,
          1992,
          1993,
          1994,
          1995,
          1996,
          1997,
          1998,
          1999,
          2000,
          2001,
          2002,
          2003,
          2004,
          2005,
          2006,
          2007,
          2008,
          2009,
          2010,
          2011,
          2012,
          2013,
          2014,
          2015,
          2016,
          2017,
          2018,
          2019,
          2020,
          2021,
          2022,
          2023,
          2024,
          2025,
          2026,
          2028,
          2029,
          2030
         ],
         "xaxis": "x",
         "y": [
          0,
          0,
          0,
          0,
          0,
          0,
          0,
          0,
          7500,
          0,
          0,
          0,
          0,
          0,
          0,
          0,
          0,
          0,
          2221023,
          0,
          1000000,
          0,
          3000,
          0,
          0,
          0,
          362000,
          0,
          1135654,
          477480,
          503000,
          2500000,
          200,
          0,
          80000,
          355000,
          196000,
          672000,
          18939,
          32671,
          10278380,
          5988423,
          0,
          2777000,
          84000,
          811600,
          200000,
          13289141,
          3120612,
          5043322,
          3180000,
          0,
          784170,
          1800000,
          2900000,
          4775000,
          33000,
          4000000,
          0,
          300000,
          6000000,
          152015,
          650000,
          10690000,
          3780000,
          3570000,
          3074600,
          1515300,
          6200000,
          43000,
          700000,
          18600000,
          16750000,
          3210000,
          10300000,
          23733000,
          3030060,
          7485075,
          3070000,
          2650000,
          35400000,
          22995000,
          43005000,
          16407000,
          44125000,
          55950000,
          71300000,
          78166000,
          160267000,
          218623510,
          137594364,
          143121508,
          256935000,
          227214075,
          218104500,
          237600625,
          352367601,
          419054000,
          557174000,
          435808000,
          426132077,
          533597932,
          822960000,
          810725588,
          1003863563,
          1061302540,
          979616546,
          1225130001,
          1314706811,
          1398371633,
          1394103592,
          2462580379,
          1885390903,
          2035172018,
          2726110589,
          1870619573,
          2189679920,
          2284072868,
          1887470493,
          1555776486,
          3108802736,
          1940418438,
          1925455835,
          2501278007,
          1736485875,
          1541801066,
          1694075758,
          1957228618,
          117773637,
          27064001,
          0,
          0,
          500000000,
          0
         ],
         "yaxis": "y"
        },
        {
         "hovertemplate": "Genre=History<br>Year=%{x|%Y}<br>Total Budget ($)=%{y}<extra></extra>",
         "legendgroup": "History",
         "line": {
          "color": "#FECB52",
          "dash": "solid"
         },
         "marker": {
          "symbol": "circle"
         },
         "mode": "lines",
         "name": "History",
         "showlegend": true,
         "type": "scattergl",
         "visible": "legendonly",
         "x": [
          1895,
          1897,
          1898,
          1899,
          1900,
          1901,
          1902,
          1903,
          1904,
          1905,
          1906,
          1907,
          1908,
          1909,
          1910,
          1911,
          1912,
          1913,
          1914,
          1915,
          1916,
          1917,
          1918,
          1919,
          1920,
          1921,
          1922,
          1923,
          1924,
          1925,
          1926,
          1927,
          1928,
          1929,
          1930,
          1931,
          1932,
          1933,
          1934,
          1935,
          1936,
          1937,
          1938,
          1939,
          1940,
          1941,
          1942,
          1943,
          1944,
          1945,
          1946,
          1947,
          1948,
          1949,
          1950,
          1951,
          1952,
          1953,
          1954,
          1955,
          1956,
          1957,
          1958,
          1959,
          1960,
          1961,
          1962,
          1963,
          1964,
          1965,
          1966,
          1967,
          1968,
          1969,
          1970,
          1971,
          1972,
          1973,
          1974,
          1975,
          1976,
          1977,
          1978,
          1979,
          1980,
          1981,
          1982,
          1983,
          1984,
          1985,
          1986,
          1987,
          1988,
          1989,
          1990,
          1991,
          1992,
          1993,
          1994,
          1995,
          1996,
          1997,
          1998,
          1999,
          2000,
          2001,
          2002,
          2003,
          2004,
          2005,
          2006,
          2007,
          2008,
          2009,
          2010,
          2011,
          2012,
          2013,
          2014,
          2015,
          2016,
          2017,
          2018,
          2019,
          2020,
          2021,
          2022,
          2023,
          2024,
          2025,
          2030
         ],
         "xaxis": "x",
         "y": [
          0,
          0,
          0,
          0,
          0,
          0,
          0,
          0,
          0,
          0,
          0,
          500,
          0,
          0,
          0,
          0,
          30000,
          0,
          0,
          100000,
          385907,
          315420,
          0,
          0,
          0,
          14500,
          220000,
          1800000,
          25000,
          0,
          0,
          528000,
          325000,
          0,
          125000,
          1433000,
          621000,
          1114000,
          900000,
          4150000,
          4025000,
          4347000,
          2093420,
          2080000,
          1700000,
          3600000,
          1052000,
          3000000,
          5895000,
          20000,
          0,
          5000000,
          1500000,
          5100000,
          1000000,
          10910000,
          0,
          4340000,
          15749179,
          4855000,
          26520000,
          8474500,
          8832000,
          23000000,
          12000000,
          13287000,
          41000000,
          69360000,
          21320000,
          40866000,
          135755000,
          2175000,
          5000000,
          15383000,
          92235000,
          13001432,
          15070000,
          3002000,
          6201171,
          15825370,
          27500000,
          43000000,
          2630000,
          24506000,
          18350207,
          93400000,
          72245800,
          31002003,
          71435000,
          117000105,
          58000000,
          96122708,
          29087100,
          49660000,
          42200200,
          90003575,
          211357000,
          210000000,
          49800000,
          257045000,
          129076551,
          251658775,
          253500100,
          389332832,
          222809121,
          430462253,
          481580003,
          379181811,
          643446856,
          641632856,
          643938974,
          509275891,
          459546472,
          496257156,
          493538459,
          470332119,
          459505861,
          375200210,
          297431977,
          705241855,
          886257760,
          875033577,
          565800578,
          904937550,
          205285841,
          444470466,
          652208325,
          574966534,
          59495824,
          0,
          0
         ],
         "yaxis": "y"
        },
        {
         "hovertemplate": "Genre=Horror<br>Year=%{x|%Y}<br>Total Budget ($)=%{y}<extra></extra>",
         "legendgroup": "Horror",
         "line": {
          "color": "#636efa",
          "dash": "solid"
         },
         "marker": {
          "symbol": "circle"
         },
         "mode": "lines",
         "name": "Horror",
         "showlegend": true,
         "type": "scattergl",
         "visible": "legendonly",
         "x": [
          1895,
          1896,
          1897,
          1898,
          1899,
          1900,
          1901,
          1902,
          1903,
          1904,
          1905,
          1906,
          1907,
          1908,
          1909,
          1910,
          1911,
          1912,
          1913,
          1914,
          1915,
          1916,
          1917,
          1918,
          1919,
          1920,
          1921,
          1922,
          1923,
          1924,
          1925,
          1926,
          1927,
          1928,
          1929,
          1930,
          1931,
          1932,
          1933,
          1934,
          1935,
          1936,
          1937,
          1938,
          1939,
          1940,
          1941,
          1942,
          1943,
          1944,
          1945,
          1946,
          1947,
          1948,
          1949,
          1950,
          1951,
          1952,
          1953,
          1954,
          1955,
          1956,
          1957,
          1958,
          1959,
          1960,
          1961,
          1962,
          1963,
          1964,
          1965,
          1966,
          1967,
          1968,
          1969,
          1970,
          1971,
          1972,
          1973,
          1974,
          1975,
          1976,
          1977,
          1978,
          1979,
          1980,
          1981,
          1982,
          1983,
          1984,
          1985,
          1986,
          1987,
          1988,
          1989,
          1990,
          1991,
          1992,
          1993,
          1994,
          1995,
          1996,
          1997,
          1998,
          1999,
          2000,
          2001,
          2002,
          2003,
          2004,
          2005,
          2006,
          2007,
          2008,
          2009,
          2010,
          2011,
          2012,
          2013,
          2014,
          2015,
          2016,
          2017,
          2018,
          2019,
          2020,
          2021,
          2022,
          2023,
          2024,
          2025,
          2026,
          2027,
          2029
         ],
         "xaxis": "x",
         "y": [
          0,
          0,
          0,
          0,
          0,
          0,
          0,
          0,
          0,
          0,
          0,
          0,
          0,
          0,
          0,
          0,
          0,
          0,
          0,
          0,
          0,
          0,
          0,
          0,
          0,
          107000,
          0,
          570000,
          1250000,
          0,
          0,
          0,
          368666,
          163000,
          4483,
          0,
          1247000,
          1384234,
          1250000,
          95745,
          848927,
          10278380,
          0,
          0,
          2220000,
          491493,
          444000,
          334000,
          12775275,
          459612,
          371000,
          1125000,
          0,
          800000,
          686000,
          575,
          350000,
          33000,
          2698805,
          23912000,
          893000,
          1667000,
          1424000,
          1761380,
          1062000,
          1821947,
          884000,
          2413600,
          3321300,
          2731000,
          1648127,
          717379,
          2623500,
          3351000,
          275005,
          2517534,
          5989600,
          8163569,
          16508555,
          2630000,
          8765300,
          8623000,
          45592000,
          56191100,
          17418401,
          125888550,
          78569301,
          147569586,
          108729090,
          46770000,
          80579588,
          167757310,
          110997000,
          184729031,
          192215694,
          266465250,
          53512500,
          259788469,
          97258267,
          269619000,
          250328555,
          287928900,
          509165472,
          409365317,
          728093860,
          528009158,
          305356569,
          540640285,
          373958627,
          898598899,
          764693814,
          575517200,
          902814424,
          521058958,
          722331563,
          686419660,
          641256000,
          703622180,
          590841776,
          429442753,
          360087700,
          480753018,
          726168394,
          593886917,
          679012208,
          321522696,
          539060924,
          1173221989,
          1363214202,
          34511336,
          31002901,
          4100004,
          25000,
          5
         ],
         "yaxis": "y"
        },
        {
         "hovertemplate": "Genre=Music<br>Year=%{x|%Y}<br>Total Budget ($)=%{y}<extra></extra>",
         "legendgroup": "Music",
         "line": {
          "color": "#EF553B",
          "dash": "solid"
         },
         "marker": {
          "symbol": "circle"
         },
         "mode": "lines",
         "name": "Music",
         "showlegend": true,
         "type": "scattergl",
         "visible": "legendonly",
         "x": [
          1894,
          1898,
          1899,
          1900,
          1903,
          1905,
          1906,
          1907,
          1908,
          1909,
          1910,
          1911,
          1913,
          1914,
          1915,
          1917,
          1919,
          1921,
          1922,
          1923,
          1924,
          1925,
          1926,
          1927,
          1928,
          1929,
          1930,
          1931,
          1932,
          1933,
          1934,
          1935,
          1936,
          1937,
          1938,
          1939,
          1940,
          1941,
          1942,
          1943,
          1944,
          1945,
          1946,
          1947,
          1948,
          1949,
          1950,
          1951,
          1952,
          1953,
          1954,
          1955,
          1956,
          1957,
          1958,
          1959,
          1960,
          1961,
          1962,
          1963,
          1964,
          1965,
          1966,
          1967,
          1968,
          1969,
          1970,
          1971,
          1972,
          1973,
          1974,
          1975,
          1976,
          1977,
          1978,
          1979,
          1980,
          1981,
          1982,
          1983,
          1984,
          1985,
          1986,
          1987,
          1988,
          1989,
          1990,
          1991,
          1992,
          1993,
          1994,
          1995,
          1996,
          1997,
          1998,
          1999,
          2000,
          2001,
          2002,
          2003,
          2004,
          2005,
          2006,
          2007,
          2008,
          2009,
          2010,
          2011,
          2012,
          2013,
          2014,
          2015,
          2016,
          2017,
          2018,
          2019,
          2020,
          2021,
          2022,
          2023,
          2024,
          2025,
          2026
         ],
         "xaxis": "x",
         "y": [
          0,
          0,
          0,
          0,
          0,
          0,
          0,
          0,
          0,
          0,
          0,
          0,
          0,
          0,
          0,
          0,
          0,
          0,
          0,
          0,
          0,
          0,
          0,
          0,
          814986,
          4763000,
          3667000,
          15000,
          0,
          1904774,
          1131140,
          1391000,
          2933000,
          2089762,
          6616488,
          1196000,
          0,
          605000,
          802000,
          7383141,
          4361100,
          5043322,
          6198196,
          2839000,
          8106339,
          8710970,
          9378785,
          9635000,
          5063000,
          3900000,
          8484593,
          7071800,
          7550000,
          4000000,
          6000100,
          7055000,
          9000000,
          2430000,
          80475,
          5300100,
          3715000,
          18351234,
          2000000,
          18700000,
          39070000,
          61516000,
          12732000,
          20680400,
          8500000,
          6660000,
          3200007,
          14700000,
          6006000,
          28100000,
          46100000,
          40900000,
          63502530,
          50400000,
          59400000,
          40100000,
          36345120,
          13000000,
          44505000,
          50615000,
          43090100,
          17770000,
          17767249,
          122475379,
          103300000,
          119611186,
          29028120,
          34076000,
          123033681,
          94029538,
          101899988,
          115810638,
          233988646,
          174639027,
          88061955,
          103203613,
          151588452,
          119966782,
          154692120,
          242870910,
          105513837,
          441113244,
          170046041,
          231976753,
          269081087,
          121505252,
          255914509,
          160213692,
          367460515,
          308045827,
          156776947,
          155938338,
          153524167,
          76619043,
          385079904,
          151965642,
          683237,
          0,
          0
         ],
         "yaxis": "y"
        },
        {
         "hovertemplate": "Genre=Mystery<br>Year=%{x|%Y}<br>Total Budget ($)=%{y}<extra></extra>",
         "legendgroup": "Mystery",
         "line": {
          "color": "#00cc96",
          "dash": "solid"
         },
         "marker": {
          "symbol": "circle"
         },
         "mode": "lines",
         "name": "Mystery",
         "showlegend": true,
         "type": "scattergl",
         "visible": "legendonly",
         "x": [
          1896,
          1897,
          1898,
          1900,
          1904,
          1908,
          1909,
          1910,
          1911,
          1912,
          1913,
          1914,
          1915,
          1916,
          1917,
          1918,
          1919,
          1920,
          1921,
          1922,
          1923,
          1924,
          1925,
          1926,
          1927,
          1928,
          1929,
          1930,
          1931,
          1932,
          1933,
          1934,
          1935,
          1936,
          1937,
          1938,
          1939,
          1940,
          1941,
          1942,
          1943,
          1944,
          1945,
          1946,
          1947,
          1948,
          1949,
          1950,
          1951,
          1952,
          1953,
          1954,
          1955,
          1956,
          1957,
          1958,
          1959,
          1960,
          1961,
          1962,
          1963,
          1964,
          1965,
          1966,
          1967,
          1968,
          1969,
          1970,
          1971,
          1972,
          1973,
          1974,
          1975,
          1976,
          1977,
          1978,
          1979,
          1980,
          1981,
          1982,
          1983,
          1984,
          1985,
          1986,
          1987,
          1988,
          1989,
          1990,
          1991,
          1992,
          1993,
          1994,
          1995,
          1996,
          1997,
          1998,
          1999,
          2000,
          2001,
          2002,
          2003,
          2004,
          2005,
          2006,
          2007,
          2008,
          2009,
          2010,
          2011,
          2012,
          2013,
          2014,
          2015,
          2016,
          2017,
          2018,
          2019,
          2020,
          2021,
          2022,
          2023,
          2024,
          2025,
          2029
         ],
         "xaxis": "x",
         "y": [
          0,
          0,
          0,
          0,
          0,
          0,
          0,
          0,
          0,
          0,
          0,
          0,
          0,
          0,
          0,
          0,
          0,
          0,
          5300,
          0,
          0,
          0,
          0,
          0,
          0,
          422000,
          0,
          0,
          0,
          0,
          0,
          502153,
          620177,
          962696,
          589000,
          1430566,
          1235000,
          1740943,
          3409727,
          2522423,
          0,
          4564000,
          1500000,
          5376000,
          12612000,
          1625000,
          686000,
          250575,
          3574000,
          10000000,
          1661530,
          1500000,
          5381000,
          3575000,
          3000000,
          3398000,
          11796000,
          0,
          200000,
          1330000,
          4280000,
          4335000,
          520000,
          9050000,
          10768534,
          17247000,
          0,
          13500000,
          4581600,
          7279500,
          7451500,
          9620000,
          21156211,
          14695892,
          14375000,
          43987000,
          59703000,
          49000000,
          62960000,
          51970800,
          49877000,
          22300000,
          46899108,
          75485000,
          41802043,
          85300100,
          41345760,
          182600001,
          97752880,
          178001100,
          191500000,
          173000100,
          214100000,
          401850000,
          824392000,
          500560900,
          1026960000,
          556865350,
          690505310,
          911696000,
          496098703,
          815712686,
          672364576,
          827948732,
          1029583350,
          492956632,
          1046214032,
          693163830,
          905771438,
          486840860,
          338358018,
          513342596,
          480190223,
          746116831,
          593507059,
          553318499,
          377740843,
          296127343,
          432290850,
          765853244,
          847543530,
          5490170,
          0,
          5
         ],
         "yaxis": "y"
        },
        {
         "hovertemplate": "Genre=Romance<br>Year=%{x|%Y}<br>Total Budget ($)=%{y}<extra></extra>",
         "legendgroup": "Romance",
         "line": {
          "color": "#ab63fa",
          "dash": "solid"
         },
         "marker": {
          "symbol": "circle"
         },
         "mode": "lines",
         "name": "Romance",
         "showlegend": true,
         "type": "scattergl",
         "visible": "legendonly",
         "x": [
          1894,
          1896,
          1898,
          1899,
          1900,
          1901,
          1903,
          1904,
          1905,
          1906,
          1907,
          1908,
          1909,
          1910,
          1911,
          1912,
          1913,
          1914,
          1915,
          1916,
          1917,
          1918,
          1919,
          1920,
          1921,
          1922,
          1923,
          1924,
          1925,
          1926,
          1927,
          1928,
          1929,
          1930,
          1931,
          1932,
          1933,
          1934,
          1935,
          1936,
          1937,
          1938,
          1939,
          1940,
          1941,
          1942,
          1943,
          1944,
          1945,
          1946,
          1947,
          1948,
          1949,
          1950,
          1951,
          1952,
          1953,
          1954,
          1955,
          1956,
          1957,
          1958,
          1959,
          1960,
          1961,
          1962,
          1963,
          1964,
          1965,
          1966,
          1967,
          1968,
          1969,
          1970,
          1971,
          1972,
          1973,
          1974,
          1975,
          1976,
          1977,
          1978,
          1979,
          1980,
          1981,
          1982,
          1983,
          1984,
          1985,
          1986,
          1987,
          1988,
          1989,
          1990,
          1991,
          1992,
          1993,
          1994,
          1995,
          1996,
          1997,
          1998,
          1999,
          2000,
          2001,
          2002,
          2003,
          2004,
          2005,
          2006,
          2007,
          2008,
          2009,
          2010,
          2011,
          2012,
          2013,
          2014,
          2015,
          2016,
          2017,
          2018,
          2019,
          2020,
          2021,
          2022,
          2023,
          2024,
          2025,
          2026,
          2027,
          2029
         ],
         "xaxis": "x",
         "y": [
          0,
          0,
          0,
          0,
          0,
          0,
          0,
          0,
          0,
          0,
          0,
          0,
          0,
          0,
          0,
          0,
          0,
          16988,
          37582,
          0,
          115420,
          0,
          42264,
          0,
          1791367,
          273,
          1371000,
          1920654,
          5263480,
          614971,
          3495322,
          10557000,
          2533000,
          4087691,
          2993289,
          2141000,
          4310454,
          4680219,
          7445208,
          10977375,
          15551575,
          19132302,
          21193325,
          9353062,
          5019900,
          10622900,
          9081000,
          7322561,
          10840322,
          22016000,
          21072500,
          18398170,
          23756970,
          10164205,
          24804000,
          26251940,
          16908758,
          14568770,
          23699000,
          28948342,
          28774500,
          16361549,
          26939082,
          22456000,
          28465000,
          9533559,
          65306100,
          52875007,
          32463000,
          133845230,
          43835000,
          48015112,
          53318000,
          19350040,
          13143500,
          24772622,
          12029750,
          15622000,
          21212000,
          20725000,
          27800000,
          32700000,
          71138222,
          127755000,
          164848740,
          172112092,
          96700000,
          139092856,
          175620430,
          190332184,
          257261481,
          309483514,
          255966920,
          312425000,
          422575244,
          375100026,
          472900120,
          687226147,
          618368186,
          572375000,
          787863816,
          1065652505,
          1341968000,
          1171781220,
          1975107272,
          774353522,
          1042023410,
          1564881184,
          1441134796,
          1111808174,
          1315545867,
          1723490780,
          1669763343,
          1865019369,
          1256492343,
          1221294623,
          694245568,
          915593321,
          845334202,
          1231987374,
          835995846,
          574102558,
          674616215,
          153517820,
          605560777,
          376620527,
          861967481,
          8930198,
          505500,
          5000002,
          0,
          0
         ],
         "yaxis": "y"
        },
        {
         "hovertemplate": "Genre=ScienceFiction<br>Year=%{x|%Y}<br>Total Budget ($)=%{y}<extra></extra>",
         "legendgroup": "ScienceFiction",
         "line": {
          "color": "#FFA15A",
          "dash": "solid"
         },
         "marker": {
          "symbol": "circle"
         },
         "mode": "lines",
         "name": "ScienceFiction",
         "showlegend": true,
         "type": "scattergl",
         "visible": "legendonly",
         "x": [
          1896,
          1899,
          1900,
          1901,
          1902,
          1904,
          1905,
          1906,
          1907,
          1908,
          1909,
          1910,
          1911,
          1912,
          1913,
          1914,
          1915,
          1916,
          1917,
          1918,
          1919,
          1920,
          1921,
          1922,
          1923,
          1924,
          1925,
          1926,
          1927,
          1928,
          1929,
          1930,
          1931,
          1932,
          1933,
          1934,
          1935,
          1936,
          1937,
          1938,
          1939,
          1940,
          1941,
          1942,
          1943,
          1944,
          1945,
          1946,
          1947,
          1948,
          1949,
          1950,
          1951,
          1952,
          1953,
          1954,
          1955,
          1956,
          1957,
          1958,
          1959,
          1960,
          1961,
          1962,
          1963,
          1964,
          1965,
          1966,
          1967,
          1968,
          1969,
          1970,
          1971,
          1972,
          1973,
          1974,
          1975,
          1976,
          1977,
          1978,
          1979,
          1980,
          1981,
          1982,
          1983,
          1984,
          1985,
          1986,
          1987,
          1988,
          1989,
          1990,
          1991,
          1992,
          1993,
          1994,
          1995,
          1996,
          1997,
          1998,
          1999,
          2000,
          2001,
          2002,
          2003,
          2004,
          2005,
          2006,
          2007,
          2008,
          2009,
          2010,
          2011,
          2012,
          2013,
          2014,
          2015,
          2016,
          2017,
          2018,
          2019,
          2020,
          2021,
          2022,
          2023,
          2024,
          2025,
          2026,
          2027,
          2029,
          2031,
          2099
         ],
         "xaxis": "x",
         "y": [
          0,
          0,
          0,
          0,
          5985,
          7500,
          0,
          0,
          0,
          0,
          0,
          0,
          0,
          0,
          0,
          0,
          0,
          200000,
          0,
          0,
          0,
          0,
          0,
          0,
          0,
          0,
          0,
          0,
          1300000,
          0,
          0,
          0,
          826000,
          627627,
          328000,
          0,
          428750,
          0,
          192000,
          0,
          420000,
          823936,
          86000,
          522000,
          0,
          105612,
          328000,
          0,
          0,
          0,
          1965592,
          991060,
          2883000,
          0,
          4803251,
          29262000,
          3193000,
          2567000,
          1272000,
          1436500,
          1002000,
          1075000,
          6389000,
          1836600,
          362000,
          1950000,
          2134318,
          17655681,
          646500,
          27860500,
          1203500,
          7500000,
          12677000,
          6375000,
          32403000,
          4630000,
          2634000,
          13011000,
          69930000,
          109571500,
          136932400,
          208124096,
          53100000,
          153115800,
          183452084,
          236931000,
          198282290,
          256601554,
          198640008,
          133496113,
          297181000,
          356540000,
          396950200,
          274600234,
          308821046,
          275037894,
          732300000,
          686660583,
          1390455050,
          970681105,
          1232452448,
          979053300,
          1131185000,
          1220580645,
          1205351103,
          1185944840,
          1262307742,
          1078576675,
          766577109,
          1464965209,
          2714681540,
          1129544283,
          1763340083,
          1938150977,
          2307281217,
          2401166328,
          2728594616,
          2065194851,
          2901210343,
          2852207487,
          2355579894,
          853789244,
          2426307362,
          2437408118,
          2295844947,
          317633564,
          525005500,
          0,
          10000000,
          500000005,
          600000000,
          0
         ],
         "yaxis": "y"
        },
        {
         "hovertemplate": "Genre=TVMovie<br>Year=%{x|%Y}<br>Total Budget ($)=%{y}<extra></extra>",
         "legendgroup": "TVMovie",
         "line": {
          "color": "#19d3f3",
          "dash": "solid"
         },
         "marker": {
          "symbol": "circle"
         },
         "mode": "lines",
         "name": "TVMovie",
         "showlegend": true,
         "type": "scattergl",
         "visible": "legendonly",
         "x": [
          1930,
          1937,
          1938,
          1939,
          1942,
          1943,
          1944,
          1946,
          1947,
          1948,
          1949,
          1950,
          1951,
          1952,
          1953,
          1954,
          1955,
          1956,
          1957,
          1958,
          1959,
          1960,
          1961,
          1962,
          1963,
          1964,
          1965,
          1966,
          1967,
          1968,
          1969,
          1970,
          1971,
          1972,
          1973,
          1974,
          1975,
          1976,
          1977,
          1978,
          1979,
          1980,
          1981,
          1982,
          1983,
          1984,
          1985,
          1986,
          1987,
          1988,
          1989,
          1990,
          1991,
          1992,
          1993,
          1994,
          1995,
          1996,
          1997,
          1998,
          1999,
          2000,
          2001,
          2002,
          2003,
          2004,
          2005,
          2006,
          2007,
          2008,
          2009,
          2010,
          2011,
          2012,
          2013,
          2014,
          2015,
          2016,
          2017,
          2018,
          2019,
          2020,
          2021,
          2022,
          2023,
          2024,
          2025
         ],
         "xaxis": "x",
         "y": [
          0,
          0,
          0,
          0,
          153682,
          0,
          0,
          0,
          0,
          0,
          0,
          0,
          0,
          0,
          0,
          0,
          0,
          0,
          500,
          0,
          0,
          0,
          0,
          100000,
          0,
          256,
          106000,
          0,
          3000,
          900000,
          0,
          0,
          450100,
          0,
          271500,
          0,
          650000,
          100000,
          5500000,
          200000,
          4101000,
          7000000,
          10000,
          3010000,
          2316000,
          3000800,
          4500000,
          0,
          800005,
          14300000,
          14300000,
          42800000,
          8500500,
          15304079,
          33900250,
          1150016,
          8050000,
          18500000,
          18750000,
          9988,
          8951051,
          13700009,
          11000000,
          31050050,
          54037027,
          54050427,
          56400000,
          68100004,
          30402800,
          63600030,
          26221401,
          147840032,
          28074140,
          82474000,
          45951725,
          22325581,
          48374373,
          20371375,
          26255101,
          15170628,
          19184139,
          6816282,
          26008280,
          48313486,
          20631260,
          1393020,
          0
         ],
         "yaxis": "y"
        },
        {
         "hovertemplate": "Genre=Thriller<br>Year=%{x|%Y}<br>Total Budget ($)=%{y}<extra></extra>",
         "legendgroup": "Thriller",
         "line": {
          "color": "#FF6692",
          "dash": "solid"
         },
         "marker": {
          "symbol": "circle"
         },
         "mode": "lines",
         "name": "Thriller",
         "showlegend": true,
         "type": "scattergl",
         "x": [
          1900,
          1902,
          1904,
          1906,
          1908,
          1909,
          1910,
          1911,
          1912,
          1913,
          1914,
          1915,
          1916,
          1917,
          1918,
          1919,
          1920,
          1921,
          1922,
          1923,
          1924,
          1925,
          1926,
          1927,
          1928,
          1929,
          1930,
          1931,
          1932,
          1933,
          1934,
          1935,
          1936,
          1937,
          1938,
          1939,
          1940,
          1941,
          1942,
          1943,
          1944,
          1945,
          1946,
          1947,
          1948,
          1949,
          1950,
          1951,
          1952,
          1953,
          1954,
          1955,
          1956,
          1957,
          1958,
          1959,
          1960,
          1961,
          1962,
          1963,
          1964,
          1965,
          1966,
          1967,
          1968,
          1969,
          1970,
          1971,
          1972,
          1973,
          1974,
          1975,
          1976,
          1977,
          1978,
          1979,
          1980,
          1981,
          1982,
          1983,
          1984,
          1985,
          1986,
          1987,
          1988,
          1989,
          1990,
          1991,
          1992,
          1993,
          1994,
          1995,
          1996,
          1997,
          1998,
          1999,
          2000,
          2001,
          2002,
          2003,
          2004,
          2005,
          2006,
          2007,
          2008,
          2009,
          2010,
          2011,
          2012,
          2013,
          2014,
          2015,
          2016,
          2017,
          2018,
          2019,
          2020,
          2021,
          2022,
          2023,
          2024,
          2025,
          2026,
          2027,
          2029
         ],
         "xaxis": "x",
         "y": [
          0,
          0,
          0,
          0,
          1000,
          0,
          0,
          0,
          0,
          0,
          0,
          0,
          0,
          0,
          0,
          0,
          18000,
          0,
          1100000,
          121000,
          172000,
          103000,
          0,
          217000,
          163200,
          1150000,
          0,
          0,
          200000,
          0,
          180000,
          35000,
          0,
          639663,
          0,
          4893069,
          6231274,
          1571000,
          1292423,
          3855000,
          4552554,
          3583000,
          115760000,
          6189000,
          4290000,
          2889000,
          1450575,
          7253000,
          11005000,
          4346000,
          4050000,
          8751000,
          9495000,
          90000,
          3498000,
          9676000,
          3106947,
          65000,
          40199000,
          7291000,
          10443256,
          12656649,
          15301000,
          32469084,
          33920000,
          14600094,
          30313537,
          36184462,
          23360254,
          30264750,
          48663896,
          46715000,
          49013609,
          115364694,
          88800000,
          102461000,
          125725500,
          204500579,
          150430000,
          207257300,
          157133960,
          215108360,
          250989264,
          324250000,
          367056464,
          492465799,
          575088704,
          685050101,
          554908263,
          727318000,
          783676365,
          995590345,
          1602600619,
          2377103942,
          1926093708,
          1545872217,
          2118278009,
          2343424576,
          2723604554,
          2411807068,
          1844068809,
          2073403142,
          2960412288,
          2848732780,
          2532689082,
          2770717679,
          2465910603,
          2896834057,
          2632787820,
          2612441718,
          2093660284,
          2304826618,
          1901886707,
          2037559906,
          1978865862,
          1799582472,
          746784301,
          1703951530,
          1679538808,
          2775834136,
          450017531,
          1443400,
          4100000,
          0,
          500000005
         ],
         "yaxis": "y"
        },
        {
         "hovertemplate": "Genre=War<br>Year=%{x|%Y}<br>Total Budget ($)=%{y}<extra></extra>",
         "legendgroup": "War",
         "line": {
          "color": "#B6E880",
          "dash": "solid"
         },
         "marker": {
          "symbol": "circle"
         },
         "mode": "lines",
         "name": "War",
         "showlegend": true,
         "type": "scattergl",
         "visible": "legendonly",
         "x": [
          1896,
          1897,
          1898,
          1899,
          1900,
          1901,
          1902,
          1904,
          1905,
          1906,
          1908,
          1909,
          1910,
          1911,
          1912,
          1913,
          1914,
          1915,
          1916,
          1917,
          1918,
          1919,
          1920,
          1921,
          1922,
          1923,
          1924,
          1925,
          1926,
          1927,
          1928,
          1929,
          1930,
          1931,
          1932,
          1933,
          1934,
          1935,
          1936,
          1937,
          1938,
          1939,
          1940,
          1941,
          1942,
          1943,
          1944,
          1945,
          1946,
          1947,
          1948,
          1949,
          1950,
          1951,
          1952,
          1953,
          1954,
          1955,
          1956,
          1957,
          1958,
          1959,
          1960,
          1961,
          1962,
          1963,
          1964,
          1965,
          1966,
          1967,
          1968,
          1969,
          1970,
          1971,
          1972,
          1973,
          1974,
          1975,
          1976,
          1977,
          1978,
          1979,
          1980,
          1981,
          1982,
          1983,
          1984,
          1985,
          1986,
          1987,
          1988,
          1989,
          1990,
          1991,
          1992,
          1993,
          1994,
          1995,
          1996,
          1997,
          1998,
          1999,
          2000,
          2001,
          2002,
          2003,
          2004,
          2005,
          2006,
          2007,
          2008,
          2009,
          2010,
          2011,
          2012,
          2013,
          2014,
          2015,
          2016,
          2017,
          2018,
          2019,
          2020,
          2021,
          2022,
          2023,
          2024,
          2025
         ],
         "xaxis": "x",
         "y": [
          0,
          0,
          0,
          0,
          0,
          0,
          0,
          0,
          0,
          0,
          0,
          0,
          0,
          0,
          0,
          0,
          0,
          100000,
          0,
          200000,
          0,
          0,
          0,
          0,
          0,
          0,
          0,
          382000,
          1199000,
          2000000,
          1005000,
          0,
          5478864,
          251289,
          621000,
          1180280,
          0,
          0,
          2050000,
          0,
          0,
          11779069,
          7690331,
          3600000,
          3821682,
          12918000,
          7290000,
          2620000,
          2100000,
          200,
          0,
          0,
          1000420,
          1815000,
          2181000,
          7415530,
          7620000,
          0,
          9000000,
          8185600,
          9395500,
          1100000,
          17800000,
          13250000,
          32845000,
          21540000,
          28920000,
          27656788,
          123855000,
          12600000,
          19102000,
          27383000,
          103295000,
          4100000,
          3200000,
          269750,
          40000,
          16000000,
          15150000,
          39337000,
          25195000,
          69600000,
          34500107,
          76774100,
          73575000,
          20000000,
          46390000,
          74410100,
          25540378,
          85122908,
          102706022,
          99566000,
          71500200,
          62000000,
          70000100,
          108806550,
          30000000,
          121500150,
          98000000,
          126500000,
          163164790,
          207010000,
          357670100,
          478900000,
          484437005,
          545780000,
          665900900,
          399094895,
          357550727,
          211003000,
          597078463,
          270895151,
          332026228,
          361375465,
          229199993,
          128886618,
          450576990,
          179567598,
          538330766,
          689748166,
          334655801,
          434712898,
          223342625,
          277274507,
          378936880,
          875507615,
          993102,
          0
         ],
         "yaxis": "y"
        },
        {
         "hovertemplate": "Genre=Western<br>Year=%{x|%Y}<br>Total Budget ($)=%{y}<extra></extra>",
         "legendgroup": "Western",
         "line": {
          "color": "#FF97FF",
          "dash": "solid"
         },
         "marker": {
          "symbol": "circle"
         },
         "mode": "lines",
         "name": "Western",
         "showlegend": true,
         "type": "scattergl",
         "visible": "legendonly",
         "x": [
          1894,
          1896,
          1898,
          1899,
          1903,
          1904,
          1906,
          1907,
          1908,
          1909,
          1910,
          1911,
          1912,
          1913,
          1914,
          1915,
          1916,
          1917,
          1918,
          1919,
          1920,
          1921,
          1922,
          1923,
          1924,
          1925,
          1926,
          1927,
          1928,
          1929,
          1930,
          1931,
          1932,
          1933,
          1934,
          1935,
          1936,
          1937,
          1938,
          1939,
          1940,
          1941,
          1942,
          1943,
          1944,
          1945,
          1946,
          1947,
          1948,
          1949,
          1950,
          1951,
          1952,
          1953,
          1954,
          1955,
          1956,
          1957,
          1958,
          1959,
          1960,
          1961,
          1962,
          1963,
          1964,
          1965,
          1966,
          1967,
          1968,
          1969,
          1970,
          1971,
          1972,
          1973,
          1974,
          1975,
          1976,
          1977,
          1978,
          1979,
          1980,
          1981,
          1982,
          1983,
          1984,
          1985,
          1986,
          1987,
          1988,
          1989,
          1990,
          1991,
          1992,
          1993,
          1994,
          1995,
          1996,
          1997,
          1998,
          1999,
          2000,
          2001,
          2002,
          2003,
          2004,
          2005,
          2006,
          2007,
          2008,
          2009,
          2010,
          2011,
          2012,
          2013,
          2014,
          2015,
          2016,
          2017,
          2018,
          2019,
          2020,
          2021,
          2022,
          2023,
          2024,
          2025,
          2034
         ],
         "xaxis": "x",
         "y": [
          0,
          0,
          0,
          0,
          150,
          0,
          0,
          0,
          0,
          0,
          0,
          987,
          0,
          0,
          16988,
          15151,
          0,
          300000,
          0,
          264,
          0,
          0,
          0,
          0,
          0,
          719000,
          75000,
          0,
          0,
          758000,
          2020000,
          1553039,
          0,
          0,
          2500,
          354000,
          0,
          0,
          0,
          2146429,
          2923852,
          1000000,
          0,
          3965000,
          99822,
          1750000,
          8140207,
          4427967,
          10543000,
          4661500,
          4168785,
          282,
          2012140,
          4361000,
          0,
          8321000,
          11175000,
          22209000,
          3036000,
          2800000,
          24200000,
          18260000,
          19039000,
          7020000,
          222000,
          12900000,
          5928089,
          12465000,
          8255112,
          39244087,
          65671946,
          1435000,
          13380000,
          11474763,
          2600000,
          9500000,
          8290000,
          0,
          2200000,
          32150000,
          54000000,
          28000000,
          3500000,
          0,
          1600000,
          29900000,
          25000000,
          5800000,
          40850091,
          4961920,
          42000000,
          27000000,
          74400000,
          60000000,
          176000040,
          170800050,
          67125000,
          12000000,
          30000000,
          253700000,
          116030000,
          35000010,
          9381450,
          137452571,
          159500000,
          119356000,
          59500000,
          110010473,
          37000500,
          43060005,
          146825105,
          298595070,
          250505000,
          234912780,
          70053179,
          279237753,
          129786420,
          66287327,
          42546539,
          121996424,
          59818923,
          73321267,
          57816693,
          146540,
          226023,
          0,
          0
         ],
         "yaxis": "y"
        }
       ],
       "layout": {
        "font": {
         "family": "Courier New, monospace"
        },
        "height": 575,
        "legend": {
         "font": {
          "family": "Courier New, monospace",
          "size": 9
         },
         "title": {
          "font": {
           "family": "Courier New, monospace",
           "size": 10
          },
          "text": "Genre"
         },
         "tracegroupgap": 0
        },
        "paper_bgcolor": "rgba(0,0,0,0)",
        "plot_bgcolor": "rgba(0,0,0,0)",
        "template": {
         "data": {
          "bar": [
           {
            "error_x": {
             "color": "#2a3f5f"
            },
            "error_y": {
             "color": "#2a3f5f"
            },
            "marker": {
             "line": {
              "color": "#E5ECF6",
              "width": 0.5
             },
             "pattern": {
              "fillmode": "overlay",
              "size": 10,
              "solidity": 0.2
             }
            },
            "type": "bar"
           }
          ],
          "barpolar": [
           {
            "marker": {
             "line": {
              "color": "#E5ECF6",
              "width": 0.5
             },
             "pattern": {
              "fillmode": "overlay",
              "size": 10,
              "solidity": 0.2
             }
            },
            "type": "barpolar"
           }
          ],
          "carpet": [
           {
            "aaxis": {
             "endlinecolor": "#2a3f5f",
             "gridcolor": "white",
             "linecolor": "white",
             "minorgridcolor": "white",
             "startlinecolor": "#2a3f5f"
            },
            "baxis": {
             "endlinecolor": "#2a3f5f",
             "gridcolor": "white",
             "linecolor": "white",
             "minorgridcolor": "white",
             "startlinecolor": "#2a3f5f"
            },
            "type": "carpet"
           }
          ],
          "choropleth": [
           {
            "colorbar": {
             "outlinewidth": 0,
             "ticks": ""
            },
            "type": "choropleth"
           }
          ],
          "contour": [
           {
            "colorbar": {
             "outlinewidth": 0,
             "ticks": ""
            },
            "colorscale": [
             [
              0,
              "#0d0887"
             ],
             [
              0.1111111111111111,
              "#46039f"
             ],
             [
              0.2222222222222222,
              "#7201a8"
             ],
             [
              0.3333333333333333,
              "#9c179e"
             ],
             [
              0.4444444444444444,
              "#bd3786"
             ],
             [
              0.5555555555555556,
              "#d8576b"
             ],
             [
              0.6666666666666666,
              "#ed7953"
             ],
             [
              0.7777777777777778,
              "#fb9f3a"
             ],
             [
              0.8888888888888888,
              "#fdca26"
             ],
             [
              1,
              "#f0f921"
             ]
            ],
            "type": "contour"
           }
          ],
          "contourcarpet": [
           {
            "colorbar": {
             "outlinewidth": 0,
             "ticks": ""
            },
            "type": "contourcarpet"
           }
          ],
          "heatmap": [
           {
            "colorbar": {
             "outlinewidth": 0,
             "ticks": ""
            },
            "colorscale": [
             [
              0,
              "#0d0887"
             ],
             [
              0.1111111111111111,
              "#46039f"
             ],
             [
              0.2222222222222222,
              "#7201a8"
             ],
             [
              0.3333333333333333,
              "#9c179e"
             ],
             [
              0.4444444444444444,
              "#bd3786"
             ],
             [
              0.5555555555555556,
              "#d8576b"
             ],
             [
              0.6666666666666666,
              "#ed7953"
             ],
             [
              0.7777777777777778,
              "#fb9f3a"
             ],
             [
              0.8888888888888888,
              "#fdca26"
             ],
             [
              1,
              "#f0f921"
             ]
            ],
            "type": "heatmap"
           }
          ],
          "heatmapgl": [
           {
            "colorbar": {
             "outlinewidth": 0,
             "ticks": ""
            },
            "colorscale": [
             [
              0,
              "#0d0887"
             ],
             [
              0.1111111111111111,
              "#46039f"
             ],
             [
              0.2222222222222222,
              "#7201a8"
             ],
             [
              0.3333333333333333,
              "#9c179e"
             ],
             [
              0.4444444444444444,
              "#bd3786"
             ],
             [
              0.5555555555555556,
              "#d8576b"
             ],
             [
              0.6666666666666666,
              "#ed7953"
             ],
             [
              0.7777777777777778,
              "#fb9f3a"
             ],
             [
              0.8888888888888888,
              "#fdca26"
             ],
             [
              1,
              "#f0f921"
             ]
            ],
            "type": "heatmapgl"
           }
          ],
          "histogram": [
           {
            "marker": {
             "pattern": {
              "fillmode": "overlay",
              "size": 10,
              "solidity": 0.2
             }
            },
            "type": "histogram"
           }
          ],
          "histogram2d": [
           {
            "colorbar": {
             "outlinewidth": 0,
             "ticks": ""
            },
            "colorscale": [
             [
              0,
              "#0d0887"
             ],
             [
              0.1111111111111111,
              "#46039f"
             ],
             [
              0.2222222222222222,
              "#7201a8"
             ],
             [
              0.3333333333333333,
              "#9c179e"
             ],
             [
              0.4444444444444444,
              "#bd3786"
             ],
             [
              0.5555555555555556,
              "#d8576b"
             ],
             [
              0.6666666666666666,
              "#ed7953"
             ],
             [
              0.7777777777777778,
              "#fb9f3a"
             ],
             [
              0.8888888888888888,
              "#fdca26"
             ],
             [
              1,
              "#f0f921"
             ]
            ],
            "type": "histogram2d"
           }
          ],
          "histogram2dcontour": [
           {
            "colorbar": {
             "outlinewidth": 0,
             "ticks": ""
            },
            "colorscale": [
             [
              0,
              "#0d0887"
             ],
             [
              0.1111111111111111,
              "#46039f"
             ],
             [
              0.2222222222222222,
              "#7201a8"
             ],
             [
              0.3333333333333333,
              "#9c179e"
             ],
             [
              0.4444444444444444,
              "#bd3786"
             ],
             [
              0.5555555555555556,
              "#d8576b"
             ],
             [
              0.6666666666666666,
              "#ed7953"
             ],
             [
              0.7777777777777778,
              "#fb9f3a"
             ],
             [
              0.8888888888888888,
              "#fdca26"
             ],
             [
              1,
              "#f0f921"
             ]
            ],
            "type": "histogram2dcontour"
           }
          ],
          "mesh3d": [
           {
            "colorbar": {
             "outlinewidth": 0,
             "ticks": ""
            },
            "type": "mesh3d"
           }
          ],
          "parcoords": [
           {
            "line": {
             "colorbar": {
              "outlinewidth": 0,
              "ticks": ""
             }
            },
            "type": "parcoords"
           }
          ],
          "pie": [
           {
            "automargin": true,
            "type": "pie"
           }
          ],
          "scatter": [
           {
            "fillpattern": {
             "fillmode": "overlay",
             "size": 10,
             "solidity": 0.2
            },
            "type": "scatter"
           }
          ],
          "scatter3d": [
           {
            "line": {
             "colorbar": {
              "outlinewidth": 0,
              "ticks": ""
             }
            },
            "marker": {
             "colorbar": {
              "outlinewidth": 0,
              "ticks": ""
             }
            },
            "type": "scatter3d"
           }
          ],
          "scattercarpet": [
           {
            "marker": {
             "colorbar": {
              "outlinewidth": 0,
              "ticks": ""
             }
            },
            "type": "scattercarpet"
           }
          ],
          "scattergeo": [
           {
            "marker": {
             "colorbar": {
              "outlinewidth": 0,
              "ticks": ""
             }
            },
            "type": "scattergeo"
           }
          ],
          "scattergl": [
           {
            "marker": {
             "colorbar": {
              "outlinewidth": 0,
              "ticks": ""
             }
            },
            "type": "scattergl"
           }
          ],
          "scattermapbox": [
           {
            "marker": {
             "colorbar": {
              "outlinewidth": 0,
              "ticks": ""
             }
            },
            "type": "scattermapbox"
           }
          ],
          "scatterpolar": [
           {
            "marker": {
             "colorbar": {
              "outlinewidth": 0,
              "ticks": ""
             }
            },
            "type": "scatterpolar"
           }
          ],
          "scatterpolargl": [
           {
            "marker": {
             "colorbar": {
              "outlinewidth": 0,
              "ticks": ""
             }
            },
            "type": "scatterpolargl"
           }
          ],
          "scatterternary": [
           {
            "marker": {
             "colorbar": {
              "outlinewidth": 0,
              "ticks": ""
             }
            },
            "type": "scatterternary"
           }
          ],
          "surface": [
           {
            "colorbar": {
             "outlinewidth": 0,
             "ticks": ""
            },
            "colorscale": [
             [
              0,
              "#0d0887"
             ],
             [
              0.1111111111111111,
              "#46039f"
             ],
             [
              0.2222222222222222,
              "#7201a8"
             ],
             [
              0.3333333333333333,
              "#9c179e"
             ],
             [
              0.4444444444444444,
              "#bd3786"
             ],
             [
              0.5555555555555556,
              "#d8576b"
             ],
             [
              0.6666666666666666,
              "#ed7953"
             ],
             [
              0.7777777777777778,
              "#fb9f3a"
             ],
             [
              0.8888888888888888,
              "#fdca26"
             ],
             [
              1,
              "#f0f921"
             ]
            ],
            "type": "surface"
           }
          ],
          "table": [
           {
            "cells": {
             "fill": {
              "color": "#EBF0F8"
             },
             "line": {
              "color": "white"
             }
            },
            "header": {
             "fill": {
              "color": "#C8D4E3"
             },
             "line": {
              "color": "white"
             }
            },
            "type": "table"
           }
          ]
         },
         "layout": {
          "annotationdefaults": {
           "arrowcolor": "#2a3f5f",
           "arrowhead": 0,
           "arrowwidth": 1
          },
          "autotypenumbers": "strict",
          "coloraxis": {
           "colorbar": {
            "outlinewidth": 0,
            "ticks": ""
           }
          },
          "colorscale": {
           "diverging": [
            [
             0,
             "#8e0152"
            ],
            [
             0.1,
             "#c51b7d"
            ],
            [
             0.2,
             "#de77ae"
            ],
            [
             0.3,
             "#f1b6da"
            ],
            [
             0.4,
             "#fde0ef"
            ],
            [
             0.5,
             "#f7f7f7"
            ],
            [
             0.6,
             "#e6f5d0"
            ],
            [
             0.7,
             "#b8e186"
            ],
            [
             0.8,
             "#7fbc41"
            ],
            [
             0.9,
             "#4d9221"
            ],
            [
             1,
             "#276419"
            ]
           ],
           "sequential": [
            [
             0,
             "#0d0887"
            ],
            [
             0.1111111111111111,
             "#46039f"
            ],
            [
             0.2222222222222222,
             "#7201a8"
            ],
            [
             0.3333333333333333,
             "#9c179e"
            ],
            [
             0.4444444444444444,
             "#bd3786"
            ],
            [
             0.5555555555555556,
             "#d8576b"
            ],
            [
             0.6666666666666666,
             "#ed7953"
            ],
            [
             0.7777777777777778,
             "#fb9f3a"
            ],
            [
             0.8888888888888888,
             "#fdca26"
            ],
            [
             1,
             "#f0f921"
            ]
           ],
           "sequentialminus": [
            [
             0,
             "#0d0887"
            ],
            [
             0.1111111111111111,
             "#46039f"
            ],
            [
             0.2222222222222222,
             "#7201a8"
            ],
            [
             0.3333333333333333,
             "#9c179e"
            ],
            [
             0.4444444444444444,
             "#bd3786"
            ],
            [
             0.5555555555555556,
             "#d8576b"
            ],
            [
             0.6666666666666666,
             "#ed7953"
            ],
            [
             0.7777777777777778,
             "#fb9f3a"
            ],
            [
             0.8888888888888888,
             "#fdca26"
            ],
            [
             1,
             "#f0f921"
            ]
           ]
          },
          "colorway": [
           "#636efa",
           "#EF553B",
           "#00cc96",
           "#ab63fa",
           "#FFA15A",
           "#19d3f3",
           "#FF6692",
           "#B6E880",
           "#FF97FF",
           "#FECB52"
          ],
          "font": {
           "color": "#2a3f5f"
          },
          "geo": {
           "bgcolor": "white",
           "lakecolor": "white",
           "landcolor": "#E5ECF6",
           "showlakes": true,
           "showland": true,
           "subunitcolor": "white"
          },
          "hoverlabel": {
           "align": "left"
          },
          "hovermode": "closest",
          "mapbox": {
           "style": "light"
          },
          "paper_bgcolor": "white",
          "plot_bgcolor": "#E5ECF6",
          "polar": {
           "angularaxis": {
            "gridcolor": "white",
            "linecolor": "white",
            "ticks": ""
           },
           "bgcolor": "#E5ECF6",
           "radialaxis": {
            "gridcolor": "white",
            "linecolor": "white",
            "ticks": ""
           }
          },
          "scene": {
           "xaxis": {
            "backgroundcolor": "#E5ECF6",
            "gridcolor": "white",
            "gridwidth": 2,
            "linecolor": "white",
            "showbackground": true,
            "ticks": "",
            "zerolinecolor": "white"
           },
           "yaxis": {
            "backgroundcolor": "#E5ECF6",
            "gridcolor": "white",
            "gridwidth": 2,
            "linecolor": "white",
            "showbackground": true,
            "ticks": "",
            "zerolinecolor": "white"
           },
           "zaxis": {
            "backgroundcolor": "#E5ECF6",
            "gridcolor": "white",
            "gridwidth": 2,
            "linecolor": "white",
            "showbackground": true,
            "ticks": "",
            "zerolinecolor": "white"
           }
          },
          "shapedefaults": {
           "line": {
            "color": "#2a3f5f"
           }
          },
          "ternary": {
           "aaxis": {
            "gridcolor": "white",
            "linecolor": "white",
            "ticks": ""
           },
           "baxis": {
            "gridcolor": "white",
            "linecolor": "white",
            "ticks": ""
           },
           "bgcolor": "#E5ECF6",
           "caxis": {
            "gridcolor": "white",
            "linecolor": "white",
            "ticks": ""
           }
          },
          "title": {
           "x": 0.05
          },
          "xaxis": {
           "automargin": true,
           "gridcolor": "white",
           "linecolor": "white",
           "ticks": "",
           "title": {
            "standoff": 15
           },
           "zerolinecolor": "white",
           "zerolinewidth": 2
          },
          "yaxis": {
           "automargin": true,
           "gridcolor": "white",
           "linecolor": "white",
           "ticks": "",
           "title": {
            "standoff": 15
           },
           "zerolinecolor": "white",
           "zerolinewidth": 2
          }
         }
        },
        "title": {
         "font": {
          "size": 16
         },
         "text": "Total Budget per Genre and Year"
        },
        "xaxis": {
         "anchor": "y",
         "domain": [
          0,
          1
         ],
         "range": [
          1900,
          2023
         ],
         "title": {
          "text": "Year"
         }
        },
        "yaxis": {
         "anchor": "x",
         "domain": [
          0,
          1
         ],
         "title": {
          "text": "Total Budget ($)"
         }
        }
       }
      }
     },
     "metadata": {},
     "output_type": "display_data"
    }
   ],
   "source": [
    "genre_columns = list(df_dummy.columns)[24:]\n",
    "\n",
    "yearly_genre_budget = pd.DataFrame()\n",
    "\n",
    "for genre in genre_columns:\n",
    "    genre_data = df_dummy[df_dummy[genre] == 1]\n",
    "    summary = genre_data.groupby('year').agg({\n",
    "        'budget': 'sum'\n",
    "    }).reset_index()\n",
    "    summary['Genre'] = genre \n",
    "    yearly_genre_budget = pd.concat([yearly_genre_budget, summary[['year', 'budget', 'Genre']]], ignore_index=True)\n",
    "\n",
    "print(yearly_genre_budget)\n",
    "\n",
    "fig = px.line(yearly_genre_budget, x='year', y='budget', color='Genre',\n",
    "              title='Total Budget per Genre and Year',\n",
    "              labels={'budget': 'Total Budget ($)', 'year': 'Year'},\n",
    "              hover_data={'year': '|%Y'})\n",
    "\n",
    "hidden_genres = set(genre_columns)\n",
    "hidden_genres -= {\"Action\", \"Documentary\", \"Drama\", \"Thriller\"}\n",
    "\n",
    "for trace in fig.data:\n",
    "    if trace.name in hidden_genres:\n",
    "        trace.visible = 'legendonly'\n",
    "\n",
    "fig.update_layout(\n",
    "    font=dict(\n",
    "        family=\"Courier New, monospace\",\n",
    "    ),\n",
    "    title_font=dict(\n",
    "        size=16\n",
    "    ),\n",
    "    xaxis_title='Year',\n",
    "    yaxis_title='Total Budget ($)',\n",
    "    legend_title='Genre',\n",
    "    xaxis=dict(range=[1900, 2023]),\n",
    "    height=575,\n",
    "    plot_bgcolor='rgba(0,0,0,0)',\n",
    "    paper_bgcolor='rgba(0,0,0,0)',\n",
    "    legend=dict(\n",
    "        title_font=dict(family=\"Courier New, monospace\", size=10),\n",
    "        font=dict(family=\"Courier New, monospace\", size=9)\n",
    "    )\n",
    ")\n",
    "\n",
    "fig.show()\n",
    "fig.write_html('time_series_budget.html')\n"
   ]
  },
  {
   "cell_type": "markdown",
   "metadata": {},
   "source": [
    "And the same thing for the Revenue."
   ]
  },
  {
   "cell_type": "code",
   "execution_count": null,
   "metadata": {},
   "outputs": [
    {
     "name": "stdout",
     "output_type": "stream",
     "text": [
      "        year   revenue    Genre\n",
      "0     1894.0         0   Action\n",
      "1     1895.0         0   Action\n",
      "2     1896.0         0   Action\n",
      "3     1897.0         0   Action\n",
      "4     1898.0         0   Action\n",
      "...      ...       ...      ...\n",
      "2458  2022.0  51681478  Western\n",
      "2459  2023.0        77  Western\n",
      "2460  2024.0     10000  Western\n",
      "2461  2025.0         0  Western\n",
      "2462  2034.0         0  Western\n",
      "\n",
      "[2463 rows x 3 columns]\n"
     ]
    },
    {
     "name": "stderr",
     "output_type": "stream",
     "text": [
      "C:\\Users\\Besitzer\\AppData\\Local\\Packages\\PythonSoftwareFoundation.Python.3.11_qbz5n2kfra8p0\\LocalCache\\local-packages\\Python311\\site-packages\\plotly\\express\\_core.py:2065: FutureWarning:\n",
      "\n",
      "When grouping with a length-1 list-like, you will need to pass a length-1 tuple to get_group in a future version of pandas. Pass `(name,)` instead of `name` to silence this warning.\n",
      "\n"
     ]
    },
    {
     "data": {
      "application/vnd.plotly.v1+json": {
       "config": {
        "plotlyServerURL": "https://plot.ly"
       },
       "data": [
        {
         "hovertemplate": "Genre=Action<br>Year=%{x|%Y}<br>Total Revenue ($)=%{y}<extra></extra>",
         "legendgroup": "Action",
         "line": {
          "color": "#636efa",
          "dash": "solid"
         },
         "marker": {
          "symbol": "circle"
         },
         "mode": "lines",
         "name": "Action",
         "showlegend": true,
         "type": "scattergl",
         "x": [
          1894,
          1895,
          1896,
          1897,
          1898,
          1900,
          1901,
          1902,
          1903,
          1904,
          1905,
          1906,
          1907,
          1908,
          1909,
          1910,
          1911,
          1912,
          1913,
          1914,
          1915,
          1916,
          1917,
          1918,
          1919,
          1920,
          1921,
          1922,
          1923,
          1924,
          1925,
          1926,
          1927,
          1928,
          1929,
          1930,
          1931,
          1932,
          1933,
          1934,
          1935,
          1936,
          1937,
          1938,
          1939,
          1940,
          1941,
          1942,
          1943,
          1944,
          1945,
          1946,
          1947,
          1948,
          1949,
          1950,
          1951,
          1952,
          1953,
          1954,
          1955,
          1956,
          1957,
          1958,
          1959,
          1960,
          1961,
          1962,
          1963,
          1964,
          1965,
          1966,
          1967,
          1968,
          1969,
          1970,
          1971,
          1972,
          1973,
          1974,
          1975,
          1976,
          1977,
          1978,
          1979,
          1980,
          1981,
          1982,
          1983,
          1984,
          1985,
          1986,
          1987,
          1988,
          1989,
          1990,
          1991,
          1992,
          1993,
          1994,
          1995,
          1996,
          1997,
          1998,
          1999,
          2000,
          2001,
          2002,
          2003,
          2004,
          2005,
          2006,
          2007,
          2008,
          2009,
          2010,
          2011,
          2012,
          2013,
          2014,
          2015,
          2016,
          2017,
          2018,
          2019,
          2020,
          2021,
          2022,
          2023,
          2024,
          2025,
          2026,
          2027,
          2028,
          2029,
          2030,
          2031
         ],
         "xaxis": "x",
         "y": [
          0,
          0,
          0,
          0,
          0,
          0,
          0,
          0,
          0,
          0,
          0,
          0,
          0,
          0,
          0,
          0,
          0,
          0,
          0,
          0,
          0,
          8000000,
          0,
          0,
          0,
          4500000,
          0,
          0,
          0,
          1550000,
          0,
          3750000,
          3600000,
          0,
          3270000,
          12000000,
          4200000,
          732000,
          0,
          0,
          0,
          0,
          0,
          0,
          2807000,
          4372567,
          0,
          9180416,
          5075000,
          0,
          2500000,
          0,
          2365000,
          4772088,
          8064000,
          15800000,
          0,
          0,
          0,
          599673,
          1952653,
          162991524,
          0,
          20311,
          169500000,
          2000000,
          31137760,
          122217035,
          151600000,
          146118942,
          146105658,
          44035401,
          258098579,
          107752386,
          79218493,
          105591151,
          362016533,
          193827737,
          254987752,
          494019434,
          139591471,
          164362251,
          1269864747,
          549223097,
          478926221,
          1255804388,
          994611989,
          668768503,
          1407615489,
          1422775929,
          920797372,
          1234905985,
          1127366534,
          832699668,
          2101021683,
          2029264020,
          2030239280,
          2034933981,
          2030589987,
          2545324391,
          3585095106,
          4176432774,
          4735197854,
          3992273824,
          3716379177,
          4370616299,
          5313741672,
          6377130467,
          8896238075,
          6986825796,
          5319731955,
          6461604058,
          7465616940,
          9426482590,
          10398710004,
          8984117338,
          9864953313,
          12435187836,
          13893537944,
          16173403354,
          15872058527,
          15101992488,
          19178979960,
          18068543403,
          13362348174,
          3999701445,
          9166610050,
          13520397513,
          8510254480,
          370200818,
          0,
          0,
          0,
          0,
          0,
          0,
          0
         ],
         "yaxis": "y"
        },
        {
         "hovertemplate": "Genre=Adventure<br>Year=%{x|%Y}<br>Total Revenue ($)=%{y}<extra></extra>",
         "legendgroup": "Adventure",
         "line": {
          "color": "#EF553B",
          "dash": "solid"
         },
         "marker": {
          "symbol": "circle"
         },
         "mode": "lines",
         "name": "Adventure",
         "showlegend": true,
         "type": "scattergl",
         "visible": "legendonly",
         "x": [
          1901,
          1902,
          1903,
          1904,
          1905,
          1906,
          1907,
          1908,
          1909,
          1910,
          1911,
          1912,
          1913,
          1914,
          1915,
          1916,
          1917,
          1918,
          1919,
          1920,
          1921,
          1922,
          1923,
          1924,
          1925,
          1926,
          1927,
          1928,
          1929,
          1930,
          1931,
          1932,
          1933,
          1934,
          1935,
          1936,
          1937,
          1938,
          1939,
          1940,
          1941,
          1942,
          1943,
          1944,
          1945,
          1946,
          1947,
          1948,
          1949,
          1950,
          1951,
          1952,
          1953,
          1954,
          1955,
          1956,
          1957,
          1958,
          1959,
          1960,
          1961,
          1962,
          1963,
          1964,
          1965,
          1966,
          1967,
          1968,
          1969,
          1970,
          1971,
          1972,
          1973,
          1974,
          1975,
          1976,
          1977,
          1978,
          1979,
          1980,
          1981,
          1982,
          1983,
          1984,
          1985,
          1986,
          1987,
          1988,
          1989,
          1990,
          1991,
          1992,
          1993,
          1994,
          1995,
          1996,
          1997,
          1998,
          1999,
          2000,
          2001,
          2002,
          2003,
          2004,
          2005,
          2006,
          2007,
          2008,
          2009,
          2010,
          2011,
          2012,
          2013,
          2014,
          2015,
          2016,
          2017,
          2018,
          2019,
          2020,
          2021,
          2022,
          2023,
          2024,
          2025,
          2026,
          2027,
          2028,
          2029,
          2030,
          2031
         ],
         "xaxis": "x",
         "y": [
          0,
          0,
          0,
          0,
          0,
          0,
          0,
          0,
          0,
          0,
          0,
          0,
          0,
          87028,
          0,
          8000000,
          0,
          0,
          0,
          0,
          0,
          142000,
          0,
          1490419,
          13599650,
          3438000,
          0,
          1147000,
          3270000,
          15000000,
          4200000,
          753000,
          10000000,
          0,
          7524000,
          5486000,
          0,
          5681000,
          37665724,
          7000000,
          2500000,
          11355416,
          22875000,
          4177000,
          3650000,
          0,
          7000000,
          12035000,
          15865000,
          9419717,
          57201000,
          32381001,
          87404651,
          31332373,
          11800000,
          238380514,
          2200000,
          20311,
          176504673,
          105211902,
          123692760,
          165242420,
          207544471,
          129873942,
          173843991,
          84299576,
          451432191,
          133886445,
          130784493,
          117996527,
          133939547,
          192922514,
          173309442,
          106172000,
          552578533,
          110701445,
          1409777831,
          479772447,
          701962399,
          1063396478,
          892569476,
          1350576540,
          1183244213,
          765556146,
          1483757605,
          972501182,
          605515755,
          824603870,
          1795750238,
          2101793924,
          1111419879,
          1821441595,
          1976095175,
          1514589265,
          2469626954,
          3326602563,
          4379651323,
          3572891520,
          3625369310,
          4164663444,
          5067112409,
          6299924337,
          7199447427,
          7317634009,
          7277384208,
          6929084388,
          7842041576,
          8730001079,
          12114679318,
          11421271701,
          11037231468,
          13736116067,
          11612736419,
          14391314019,
          16683910421,
          18760799120,
          14859425389,
          16654629881,
          18442777958,
          2334013763,
          7590372611,
          9391640164,
          8023742211,
          370023105,
          1,
          0,
          0,
          0,
          0,
          0,
          0
         ],
         "yaxis": "y"
        },
        {
         "hovertemplate": "Genre=Animation<br>Year=%{x|%Y}<br>Total Revenue ($)=%{y}<extra></extra>",
         "legendgroup": "Animation",
         "line": {
          "color": "#00cc96",
          "dash": "solid"
         },
         "marker": {
          "symbol": "circle"
         },
         "mode": "lines",
         "name": "Animation",
         "showlegend": true,
         "type": "scattergl",
         "visible": "legendonly",
         "x": [
          1878,
          1885,
          1892,
          1894,
          1896,
          1897,
          1898,
          1899,
          1900,
          1906,
          1907,
          1908,
          1909,
          1910,
          1911,
          1912,
          1913,
          1914,
          1915,
          1916,
          1917,
          1918,
          1919,
          1920,
          1921,
          1922,
          1923,
          1924,
          1925,
          1926,
          1927,
          1928,
          1929,
          1930,
          1931,
          1932,
          1933,
          1934,
          1935,
          1936,
          1937,
          1938,
          1939,
          1940,
          1941,
          1942,
          1943,
          1944,
          1945,
          1946,
          1947,
          1948,
          1949,
          1950,
          1951,
          1952,
          1953,
          1954,
          1955,
          1956,
          1957,
          1958,
          1959,
          1960,
          1961,
          1962,
          1963,
          1964,
          1965,
          1966,
          1967,
          1968,
          1969,
          1970,
          1971,
          1972,
          1973,
          1974,
          1975,
          1976,
          1977,
          1978,
          1979,
          1980,
          1981,
          1982,
          1983,
          1984,
          1985,
          1986,
          1987,
          1988,
          1989,
          1990,
          1991,
          1992,
          1993,
          1994,
          1995,
          1996,
          1997,
          1998,
          1999,
          2000,
          2001,
          2002,
          2003,
          2004,
          2005,
          2006,
          2007,
          2008,
          2009,
          2010,
          2011,
          2012,
          2013,
          2014,
          2015,
          2016,
          2017,
          2018,
          2019,
          2020,
          2021,
          2022,
          2023,
          2024,
          2025,
          2026,
          2028,
          2030
         ],
         "xaxis": "x",
         "y": [
          0,
          0,
          0,
          0,
          0,
          0,
          0,
          0,
          0,
          0,
          0,
          0,
          0,
          0,
          0,
          0,
          0,
          0,
          0,
          0,
          0,
          3000,
          0,
          0,
          0,
          500,
          0,
          0,
          0,
          0,
          0,
          0,
          0,
          0,
          0,
          0,
          0,
          0,
          0,
          0,
          184925486,
          15,
          0,
          160711819,
          1662061,
          268582150,
          788000,
          0,
          0,
          65000000,
          0,
          6339,
          0,
          263591415,
          57200000,
          0,
          87404651,
          0,
          36359037,
          0,
          0,
          0,
          51600000,
          0,
          85000000,
          0,
          22182353,
          0,
          4673910,
          0,
          205843612,
          1273261,
          0,
          55675257,
          18001250,
          25000000,
          38788467,
          0,
          0,
          11234220,
          107989757,
          34185188,
          8257557,
          2013193,
          56855401,
          61776614,
          33760883,
          3301446,
          64466810,
          165519668,
          16066050,
          540792357,
          257160523,
          98595091,
          510643890,
          599664158,
          166735704,
          852589958,
          839247828,
          677622527,
          598748622,
          1376900077,
          1350308555,
          1156512473,
          1809342623,
          1313274819,
          1979522582,
          3100719255,
          1650763081,
          3185447947,
          3414083157,
          3511515495,
          4110026284,
          4717465652,
          4736970683,
          4325320579,
          5821960156,
          3754525278,
          4768286994,
          7043031532,
          4746698017,
          4574980508,
          5801332694,
          1453587797,
          2498468686,
          3449784988,
          3307589259,
          270010029,
          0,
          0,
          0,
          0
         ],
         "yaxis": "y"
        },
        {
         "hovertemplate": "Genre=Comedy<br>Year=%{x|%Y}<br>Total Revenue ($)=%{y}<extra></extra>",
         "legendgroup": "Comedy",
         "line": {
          "color": "#ab63fa",
          "dash": "solid"
         },
         "marker": {
          "symbol": "circle"
         },
         "mode": "lines",
         "name": "Comedy",
         "showlegend": true,
         "type": "scattergl",
         "visible": "legendonly",
         "x": [
          1892,
          1894,
          1895,
          1896,
          1897,
          1898,
          1899,
          1900,
          1901,
          1902,
          1903,
          1904,
          1905,
          1906,
          1907,
          1908,
          1909,
          1910,
          1911,
          1912,
          1913,
          1914,
          1915,
          1916,
          1917,
          1918,
          1919,
          1920,
          1921,
          1922,
          1923,
          1924,
          1925,
          1926,
          1927,
          1928,
          1929,
          1930,
          1931,
          1932,
          1933,
          1934,
          1935,
          1936,
          1937,
          1938,
          1939,
          1940,
          1941,
          1942,
          1943,
          1944,
          1945,
          1946,
          1947,
          1948,
          1949,
          1950,
          1951,
          1952,
          1953,
          1954,
          1955,
          1956,
          1957,
          1958,
          1959,
          1960,
          1961,
          1962,
          1963,
          1964,
          1965,
          1966,
          1967,
          1968,
          1969,
          1970,
          1971,
          1972,
          1973,
          1974,
          1975,
          1976,
          1977,
          1978,
          1979,
          1980,
          1981,
          1982,
          1983,
          1984,
          1985,
          1986,
          1987,
          1988,
          1989,
          1990,
          1991,
          1992,
          1993,
          1994,
          1995,
          1996,
          1997,
          1998,
          1999,
          2000,
          2001,
          2002,
          2003,
          2004,
          2005,
          2006,
          2007,
          2008,
          2009,
          2010,
          2011,
          2012,
          2013,
          2014,
          2015,
          2016,
          2017,
          2018,
          2019,
          2020,
          2021,
          2022,
          2023,
          2024,
          2025,
          2026,
          2027,
          2028,
          2030
         ],
         "xaxis": "x",
         "y": [
          0,
          0,
          0,
          0,
          0,
          0,
          0,
          0,
          0,
          0,
          0,
          0,
          0,
          0,
          0,
          0,
          0,
          0,
          0,
          0,
          0,
          0,
          0,
          0,
          0,
          8000000,
          4900000,
          0,
          2500000,
          500,
          1500000,
          1550000,
          4130000,
          3523000,
          2478307,
          97,
          9624000,
          11007940,
          4250000,
          3486000,
          18025000,
          13587000,
          5920150,
          12005209,
          13349000,
          14584520,
          21628346,
          16339660,
          13232092,
          11255416,
          15715000,
          36172000,
          34359000,
          2359000,
          16090704,
          11827776,
          28971000,
          14152120,
          12981000,
          22328000,
          34766000,
          18978000,
          43798786,
          60184085,
          16170000,
          13810000,
          73454690,
          93797000,
          168764009,
          34044400,
          177448391,
          224698881,
          104772407,
          41958282,
          283186783,
          167919359,
          175786920,
          281326060,
          52618880,
          244925886,
          409264576,
          358813589,
          403338449,
          370968756,
          434727108,
          962210222,
          777280973,
          1095909997,
          842702057,
          843493285,
          815682301,
          1583338976,
          1694280100,
          1790233438,
          2429900897,
          2665803490,
          2953393441,
          2874838575,
          2101793738,
          2702732434,
          2499140038,
          3785274482,
          3125939412,
          3010910609,
          4401700650,
          5160243333,
          4871245288,
          5433375394,
          5553469718,
          5698610472,
          6470233542,
          6617051870,
          7466056237,
          7887427922,
          8413719760,
          9042941405,
          8408713058,
          8965821672,
          10565008272,
          9117566530,
          8092236241,
          9379274063,
          9536507620,
          12724427942,
          9830220975,
          8854114665,
          9457341259,
          1958626935,
          4417283949,
          6586979466,
          6052515138,
          3270046919,
          0,
          0,
          1,
          26000,
          0
         ],
         "yaxis": "y"
        },
        {
         "hovertemplate": "Genre=Crime<br>Year=%{x|%Y}<br>Total Revenue ($)=%{y}<extra></extra>",
         "legendgroup": "Crime",
         "line": {
          "color": "#FFA15A",
          "dash": "solid"
         },
         "marker": {
          "symbol": "circle"
         },
         "mode": "lines",
         "name": "Crime",
         "showlegend": true,
         "type": "scattergl",
         "visible": "legendonly",
         "x": [
          1894,
          1895,
          1896,
          1897,
          1898,
          1899,
          1900,
          1901,
          1902,
          1903,
          1904,
          1905,
          1906,
          1907,
          1908,
          1909,
          1910,
          1911,
          1912,
          1913,
          1914,
          1915,
          1916,
          1917,
          1918,
          1919,
          1920,
          1921,
          1922,
          1923,
          1924,
          1925,
          1926,
          1927,
          1928,
          1929,
          1930,
          1931,
          1932,
          1933,
          1934,
          1935,
          1936,
          1937,
          1938,
          1939,
          1940,
          1941,
          1942,
          1943,
          1944,
          1945,
          1946,
          1947,
          1948,
          1949,
          1950,
          1951,
          1952,
          1953,
          1954,
          1955,
          1956,
          1957,
          1958,
          1959,
          1960,
          1961,
          1962,
          1963,
          1964,
          1965,
          1966,
          1967,
          1968,
          1969,
          1970,
          1971,
          1972,
          1973,
          1974,
          1975,
          1976,
          1977,
          1978,
          1979,
          1980,
          1981,
          1982,
          1983,
          1984,
          1985,
          1986,
          1987,
          1988,
          1989,
          1990,
          1991,
          1992,
          1993,
          1994,
          1995,
          1996,
          1997,
          1998,
          1999,
          2000,
          2001,
          2002,
          2003,
          2004,
          2005,
          2006,
          2007,
          2008,
          2009,
          2010,
          2011,
          2012,
          2013,
          2014,
          2015,
          2016,
          2017,
          2018,
          2019,
          2020,
          2021,
          2022,
          2023,
          2024,
          2025,
          2026
         ],
         "xaxis": "x",
         "y": [
          0,
          0,
          0,
          0,
          0,
          0,
          0,
          0,
          0,
          0,
          0,
          0,
          0,
          0,
          0,
          0,
          0,
          0,
          0,
          1800000,
          0,
          0,
          0,
          0,
          0,
          0,
          3008811,
          0,
          0,
          0,
          274827,
          704000,
          0,
          0,
          1200000,
          0,
          204000,
          4358000,
          600000,
          2227690,
          1423000,
          3468000,
          4465000,
          155895,
          951801,
          2223000,
          1596000,
          6714000,
          5619000,
          0,
          2500000,
          14696500,
          337393000,
          6919609,
          2200000,
          3483000,
          96568,
          17144000,
          1485000,
          24125831,
          12850060,
          28360673,
          2041010,
          10250000,
          5590904,
          36250000,
          2833187,
          43756822,
          3100000,
          10878107,
          19568845,
          4610000,
          24209928,
          116836400,
          75602172,
          10406000,
          21021254,
          149969012,
          387108193,
          560423107,
          241641917,
          169856147,
          229702199,
          53209970,
          101105352,
          28360857,
          259287180,
          210521070,
          146113218,
          351224909,
          616722840,
          327637656,
          472184224,
          868384213,
          992856388,
          1332004792,
          1047094208,
          1230093163,
          945066698,
          802567532,
          1821434434,
          2018546197,
          1137636904,
          1632135406,
          1771049532,
          2228391186,
          1898422067,
          2943734679,
          2550499250,
          2076269520,
          1896119310,
          2098254077,
          2554751272,
          2468468525,
          3439284772,
          2470056855,
          1869118004,
          2491441520,
          2786069474,
          4299733251,
          2228030528,
          3388950629,
          2157773979,
          3984214434,
          2115377916,
          2807099589,
          1121895760,
          2393092334,
          1795046142,
          2641744478,
          100055564,
          0,
          0
         ],
         "yaxis": "y"
        },
        {
         "hovertemplate": "Genre=Documentary<br>Year=%{x|%Y}<br>Total Revenue ($)=%{y}<extra></extra>",
         "legendgroup": "Documentary",
         "line": {
          "color": "#19d3f3",
          "dash": "solid"
         },
         "marker": {
          "symbol": "circle"
         },
         "mode": "lines",
         "name": "Documentary",
         "showlegend": true,
         "type": "scattergl",
         "x": [
          1865,
          1874,
          1878,
          1882,
          1883,
          1887,
          1888,
          1889,
          1890,
          1891,
          1892,
          1893,
          1894,
          1895,
          1896,
          1897,
          1898,
          1899,
          1900,
          1901,
          1902,
          1903,
          1904,
          1905,
          1906,
          1907,
          1908,
          1909,
          1910,
          1911,
          1912,
          1913,
          1914,
          1915,
          1916,
          1917,
          1918,
          1919,
          1920,
          1921,
          1922,
          1923,
          1924,
          1925,
          1926,
          1927,
          1928,
          1929,
          1930,
          1931,
          1932,
          1933,
          1934,
          1935,
          1936,
          1937,
          1938,
          1939,
          1940,
          1941,
          1942,
          1943,
          1944,
          1945,
          1946,
          1947,
          1948,
          1949,
          1950,
          1951,
          1952,
          1953,
          1954,
          1955,
          1956,
          1957,
          1958,
          1959,
          1960,
          1961,
          1962,
          1963,
          1964,
          1965,
          1966,
          1967,
          1968,
          1969,
          1970,
          1971,
          1972,
          1973,
          1974,
          1975,
          1976,
          1977,
          1978,
          1979,
          1980,
          1981,
          1982,
          1983,
          1984,
          1985,
          1986,
          1987,
          1988,
          1989,
          1990,
          1991,
          1992,
          1993,
          1994,
          1995,
          1996,
          1997,
          1998,
          1999,
          2000,
          2001,
          2002,
          2003,
          2004,
          2005,
          2006,
          2007,
          2008,
          2009,
          2010,
          2011,
          2012,
          2013,
          2014,
          2015,
          2016,
          2017,
          2018,
          2019,
          2020,
          2021,
          2022,
          2023,
          2024,
          2025,
          2028,
          2074
         ],
         "xaxis": "x",
         "y": [
          0,
          0,
          0,
          0,
          0,
          0,
          0,
          0,
          0,
          0,
          0,
          0,
          0,
          0,
          0,
          0,
          0,
          0,
          0,
          0,
          0,
          0,
          0,
          0,
          0,
          0,
          0,
          0,
          0,
          1,
          0,
          0,
          0,
          0,
          0,
          0,
          0,
          0,
          0,
          0,
          500,
          0,
          0,
          0,
          0,
          6241682,
          0,
          0,
          0,
          0,
          0,
          0,
          0,
          0,
          0,
          0,
          0,
          0,
          0,
          0,
          0,
          788000,
          0,
          0,
          200000000,
          0,
          0,
          0,
          250000,
          0,
          0,
          0,
          1750000,
          0,
          0,
          6500000,
          0,
          0,
          0,
          0,
          0,
          0,
          0,
          2248,
          0,
          0,
          0,
          0,
          34857730,
          0,
          0,
          0,
          126774,
          0,
          120743045,
          0,
          9121952,
          196050,
          1372975,
          2028612,
          5933330,
          1754750,
          66145128,
          150648225,
          0,
          91373,
          1947516,
          7481700,
          23069823,
          7377899,
          0,
          3069933,
          8466645,
          97731692,
          4930678,
          2141828,
          118325547,
          84224802,
          64462642,
          22891507,
          278155162,
          89835300,
          353491732,
          161825422,
          190970625,
          173942866,
          106063234,
          295100919,
          175191731,
          196958863,
          114692363,
          112561638,
          43209571,
          41432020,
          64910570,
          45791143,
          100599641,
          16284916,
          21610110,
          48807083,
          95035503,
          37952778,
          8559,
          1,
          26000,
          0
         ],
         "yaxis": "y"
        },
        {
         "hovertemplate": "Genre=Drama<br>Year=%{x|%Y}<br>Total Revenue ($)=%{y}<extra></extra>",
         "legendgroup": "Drama",
         "line": {
          "color": "#FF6692",
          "dash": "solid"
         },
         "marker": {
          "symbol": "circle"
         },
         "mode": "lines",
         "name": "Drama",
         "showlegend": true,
         "type": "scattergl",
         "x": [
          1893,
          1894,
          1895,
          1896,
          1897,
          1898,
          1899,
          1900,
          1901,
          1902,
          1903,
          1904,
          1905,
          1906,
          1907,
          1908,
          1909,
          1910,
          1911,
          1912,
          1913,
          1914,
          1915,
          1916,
          1917,
          1918,
          1919,
          1920,
          1921,
          1922,
          1923,
          1924,
          1925,
          1926,
          1927,
          1928,
          1929,
          1930,
          1931,
          1932,
          1933,
          1934,
          1935,
          1936,
          1937,
          1938,
          1939,
          1940,
          1941,
          1942,
          1943,
          1944,
          1945,
          1946,
          1947,
          1948,
          1949,
          1950,
          1951,
          1952,
          1953,
          1954,
          1955,
          1956,
          1957,
          1958,
          1959,
          1960,
          1961,
          1962,
          1963,
          1964,
          1965,
          1966,
          1967,
          1968,
          1969,
          1970,
          1971,
          1972,
          1973,
          1974,
          1975,
          1976,
          1977,
          1978,
          1979,
          1980,
          1981,
          1982,
          1983,
          1984,
          1985,
          1986,
          1987,
          1988,
          1989,
          1990,
          1991,
          1992,
          1993,
          1994,
          1995,
          1996,
          1997,
          1998,
          1999,
          2000,
          2001,
          2002,
          2003,
          2004,
          2005,
          2006,
          2007,
          2008,
          2009,
          2010,
          2011,
          2012,
          2013,
          2014,
          2015,
          2016,
          2017,
          2018,
          2019,
          2020,
          2021,
          2022,
          2023,
          2024,
          2025,
          2026,
          2027,
          2028,
          2029,
          2040,
          2099
         ],
         "xaxis": "x",
         "y": [
          0,
          0,
          0,
          0,
          0,
          0,
          0,
          0,
          0,
          0,
          0,
          0,
          0,
          0,
          0,
          0,
          0,
          0,
          0,
          0,
          1800000,
          0,
          11239802,
          11242768,
          0,
          10400000,
          11169213,
          7709011,
          2500000,
          400200,
          0,
          2393980,
          37759050,
          5647878,
          13554809,
          24573097,
          8485000,
          25524940,
          28213000,
          13095000,
          22975000,
          8242183,
          18375219,
          17737100,
          10329895,
          7687801,
          423399765,
          21336406,
          49569138,
          296178250,
          41194500,
          41504000,
          68469957,
          87046124,
          31968274,
          9284344,
          45783000,
          26656688,
          62054480,
          55948800,
          114352989,
          101173328,
          30534914,
          288727786,
          121188611,
          31158828,
          199942107,
          192439166,
          114306690,
          182176909,
          114589396,
          155635521,
          457089235,
          171098327,
          423569503,
          266396694,
          168075904,
          621236533,
          304116474,
          433772950,
          641032430,
          582095778,
          356423035,
          593764680,
          981180371,
          354381818,
          913672132,
          468085936,
          877669070,
          997769206,
          1183241170,
          850024707,
          1289785209,
          1478665975,
          1403720835,
          1625084598,
          2206005282,
          2351831018,
          2388895183,
          2625775857,
          4403905063,
          4361822994,
          3529489410,
          4091918410,
          5444135109,
          4729012294,
          5680102596,
          4876472667,
          4426366870,
          6138738586,
          4501082626,
          5504684556,
          6468140239,
          6406164519,
          6792557109,
          9244612033,
          6029759155,
          7271913846,
          6189815224,
          9363453860,
          8047711310,
          8373384121,
          8600025083,
          8326290666,
          9973004867,
          6793376667,
          8238312884,
          1822107231,
          4010810940,
          6437709759,
          5176324654,
          3100233344,
          0,
          0,
          0,
          0,
          0,
          0,
          0
         ],
         "yaxis": "y"
        },
        {
         "hovertemplate": "Genre=Family<br>Year=%{x|%Y}<br>Total Revenue ($)=%{y}<extra></extra>",
         "legendgroup": "Family",
         "line": {
          "color": "#B6E880",
          "dash": "solid"
         },
         "marker": {
          "symbol": "circle"
         },
         "mode": "lines",
         "name": "Family",
         "showlegend": true,
         "type": "scattergl",
         "visible": "legendonly",
         "x": [
          1895,
          1896,
          1897,
          1898,
          1899,
          1900,
          1901,
          1902,
          1903,
          1905,
          1906,
          1907,
          1908,
          1909,
          1910,
          1911,
          1912,
          1913,
          1914,
          1915,
          1916,
          1917,
          1918,
          1919,
          1920,
          1921,
          1922,
          1923,
          1924,
          1925,
          1926,
          1927,
          1928,
          1929,
          1930,
          1931,
          1932,
          1933,
          1934,
          1935,
          1936,
          1937,
          1938,
          1939,
          1940,
          1941,
          1942,
          1943,
          1944,
          1945,
          1946,
          1947,
          1948,
          1949,
          1950,
          1951,
          1952,
          1953,
          1954,
          1955,
          1956,
          1957,
          1958,
          1959,
          1960,
          1961,
          1962,
          1963,
          1964,
          1965,
          1966,
          1967,
          1968,
          1969,
          1970,
          1971,
          1972,
          1973,
          1974,
          1975,
          1976,
          1977,
          1978,
          1979,
          1980,
          1981,
          1982,
          1983,
          1984,
          1985,
          1986,
          1987,
          1988,
          1989,
          1990,
          1991,
          1992,
          1993,
          1994,
          1995,
          1996,
          1997,
          1998,
          1999,
          2000,
          2001,
          2002,
          2003,
          2004,
          2005,
          2006,
          2007,
          2008,
          2009,
          2010,
          2011,
          2012,
          2013,
          2014,
          2015,
          2016,
          2017,
          2018,
          2019,
          2020,
          2021,
          2022,
          2023,
          2024,
          2025,
          2026
         ],
         "xaxis": "x",
         "y": [
          0,
          0,
          0,
          0,
          0,
          0,
          0,
          0,
          0,
          0,
          0,
          0,
          0,
          0,
          0,
          0,
          0,
          0,
          0,
          0,
          0,
          0,
          0,
          0,
          0,
          0,
          0,
          0,
          0,
          0,
          0,
          0,
          0,
          0,
          0,
          0,
          0,
          2100000,
          0,
          3064000,
          0,
          184925486,
          0,
          33754967,
          163334819,
          1602094,
          270094150,
          3900000,
          7566000,
          5840000,
          74644124,
          2700000,
          0,
          0,
          268121072,
          68200000,
          36000000,
          87404651,
          28200000,
          36359037,
          50048980,
          0,
          0,
          79258000,
          52006000,
          114650385,
          12000000,
          22182353,
          103082380,
          290888196,
          13516000,
          214850906,
          100266899,
          2399280,
          55675257,
          21900000,
          0,
          48402073,
          42835162,
          57067600,
          69178782,
          140044107,
          53335251,
          167967512,
          105429698,
          107400678,
          999804586,
          63453717,
          185579538,
          207097025,
          395715447,
          339273632,
          577419857,
          679948494,
          902993434,
          1122252234,
          1304836918,
          1440397686,
          1833794968,
          2037514361,
          1397360057,
          1483465412,
          1907388909,
          1781182016,
          1991334906,
          2502460817,
          2078378657,
          3669831121,
          3489337539,
          4137124113,
          4956445401,
          4904345651,
          5209963943,
          5328870682,
          7531244842,
          5247225401,
          4681151539,
          6411923602,
          5728627096,
          5605220522,
          9442700484,
          6907727346,
          5313820842,
          8613776871,
          1506891148,
          2107606643,
          3605016583,
          2955192366,
          20158,
          0,
          0
         ],
         "yaxis": "y"
        },
        {
         "hovertemplate": "Genre=Fantasy<br>Year=%{x|%Y}<br>Total Revenue ($)=%{y}<extra></extra>",
         "legendgroup": "Fantasy",
         "line": {
          "color": "#FF97FF",
          "dash": "solid"
         },
         "marker": {
          "symbol": "circle"
         },
         "mode": "lines",
         "name": "Fantasy",
         "showlegend": true,
         "type": "scattergl",
         "visible": "legendonly",
         "x": [
          1896,
          1897,
          1898,
          1899,
          1900,
          1901,
          1902,
          1903,
          1904,
          1905,
          1906,
          1907,
          1908,
          1909,
          1910,
          1911,
          1912,
          1913,
          1914,
          1915,
          1916,
          1917,
          1918,
          1919,
          1920,
          1921,
          1922,
          1923,
          1924,
          1925,
          1926,
          1927,
          1928,
          1929,
          1930,
          1931,
          1932,
          1933,
          1934,
          1935,
          1936,
          1937,
          1938,
          1939,
          1940,
          1941,
          1942,
          1943,
          1944,
          1945,
          1946,
          1947,
          1948,
          1949,
          1950,
          1951,
          1952,
          1953,
          1954,
          1955,
          1956,
          1957,
          1958,
          1959,
          1960,
          1961,
          1962,
          1963,
          1964,
          1965,
          1966,
          1967,
          1968,
          1969,
          1970,
          1971,
          1972,
          1973,
          1974,
          1975,
          1976,
          1977,
          1978,
          1979,
          1980,
          1981,
          1982,
          1983,
          1984,
          1985,
          1986,
          1987,
          1988,
          1989,
          1990,
          1991,
          1992,
          1993,
          1994,
          1995,
          1996,
          1997,
          1998,
          1999,
          2000,
          2001,
          2002,
          2003,
          2004,
          2005,
          2006,
          2007,
          2008,
          2009,
          2010,
          2011,
          2012,
          2013,
          2014,
          2015,
          2016,
          2017,
          2018,
          2019,
          2020,
          2021,
          2022,
          2023,
          2024,
          2025,
          2026,
          2028,
          2029,
          2030
         ],
         "xaxis": "x",
         "y": [
          0,
          0,
          0,
          0,
          0,
          0,
          0,
          0,
          0,
          0,
          0,
          0,
          0,
          0,
          0,
          0,
          0,
          0,
          5773000,
          0,
          1390000,
          0,
          3000,
          0,
          0,
          0,
          19054,
          0,
          1490419,
          0,
          938000,
          0,
          0,
          0,
          4000000,
          700000,
          0,
          10000000,
          378787,
          0,
          0,
          184925486,
          0,
          33754967,
          0,
          1630094,
          0,
          6969624,
          1827000,
          9291000,
          9644124,
          0,
          834332,
          1950000,
          263591415,
          57200000,
          0,
          87404651,
          0,
          0,
          42049071,
          2000000,
          0,
          82258000,
          7105902,
          2237760,
          0,
          1499275,
          103082380,
          78550,
          3000000,
          9000000,
          64137283,
          2609280,
          13200000,
          21900000,
          0,
          14800000,
          40029000,
          134833225,
          207443445,
          139403112,
          166713473,
          1613361,
          50404343,
          152635359,
          993763507,
          102006850,
          643409052,
          328164931,
          140550571,
          393130977,
          829331965,
          1079301630,
          768601162,
          1000620093,
          1230454722,
          497261549,
          1584893148,
          1554171561,
          654488053,
          1149027597,
          1291892991,
          1937776432,
          1369292621,
          4120124009,
          3849342659,
          4299208388,
          4149971114,
          3631409140,
          3626729815,
          6852285860,
          4304430040,
          7287458636,
          7261808419,
          6222566287,
          7100258977,
          6822964668,
          5218068884,
          3931588766,
          8672317784,
          8752821696,
          5509119773,
          8937708274,
          2133051802,
          3442101160,
          3598939222,
          5062779873,
          67620,
          0,
          0,
          0,
          0,
          0
         ],
         "yaxis": "y"
        },
        {
         "hovertemplate": "Genre=History<br>Year=%{x|%Y}<br>Total Revenue ($)=%{y}<extra></extra>",
         "legendgroup": "History",
         "line": {
          "color": "#FECB52",
          "dash": "solid"
         },
         "marker": {
          "symbol": "circle"
         },
         "mode": "lines",
         "name": "History",
         "showlegend": true,
         "type": "scattergl",
         "visible": "legendonly",
         "x": [
          1895,
          1897,
          1898,
          1899,
          1900,
          1901,
          1902,
          1903,
          1904,
          1905,
          1906,
          1907,
          1908,
          1909,
          1910,
          1911,
          1912,
          1913,
          1914,
          1915,
          1916,
          1917,
          1918,
          1919,
          1920,
          1921,
          1922,
          1923,
          1924,
          1925,
          1926,
          1927,
          1928,
          1929,
          1930,
          1931,
          1932,
          1933,
          1934,
          1935,
          1936,
          1937,
          1938,
          1939,
          1940,
          1941,
          1942,
          1943,
          1944,
          1945,
          1946,
          1947,
          1948,
          1949,
          1950,
          1951,
          1952,
          1953,
          1954,
          1955,
          1956,
          1957,
          1958,
          1959,
          1960,
          1961,
          1962,
          1963,
          1964,
          1965,
          1966,
          1967,
          1968,
          1969,
          1970,
          1971,
          1972,
          1973,
          1974,
          1975,
          1976,
          1977,
          1978,
          1979,
          1980,
          1981,
          1982,
          1983,
          1984,
          1985,
          1986,
          1987,
          1988,
          1989,
          1990,
          1991,
          1992,
          1993,
          1994,
          1995,
          1996,
          1997,
          1998,
          1999,
          2000,
          2001,
          2002,
          2003,
          2004,
          2005,
          2006,
          2007,
          2008,
          2009,
          2010,
          2011,
          2012,
          2013,
          2014,
          2015,
          2016,
          2017,
          2018,
          2019,
          2020,
          2021,
          2022,
          2023,
          2024,
          2025,
          2030
         ],
         "xaxis": "x",
         "y": [
          0,
          0,
          0,
          0,
          0,
          0,
          0,
          0,
          0,
          0,
          0,
          0,
          0,
          0,
          0,
          0,
          0,
          0,
          0,
          11000000,
          1750000,
          0,
          0,
          0,
          0,
          0,
          0,
          0,
          497234,
          45100,
          0,
          1076448,
          0,
          3270000,
          400000,
          1383000,
          732000,
          2610000,
          0,
          4460000,
          6045000,
          1576000,
          3981000,
          0,
          2000000,
          16361885,
          0,
          17800000,
          2000000,
          1000000,
          0,
          0,
          0,
          3800000,
          7800000,
          21858000,
          0,
          36000000,
          18200000,
          0,
          147500001,
          54001422,
          1102507,
          176203193,
          60033187,
          14833352,
          93125385,
          103915059,
          21850000,
          30897838,
          73981250,
          0,
          0,
          1043305,
          168207110,
          11000000,
          2837041,
          32050000,
          0,
          882266,
          128820000,
          50750201,
          11000000,
          23821923,
          40310964,
          206284631,
          85216428,
          52206560,
          122488269,
          392755686,
          30530424,
          196154132,
          9031397,
          85693943,
          26532692,
          248740474,
          141824586,
          505749818,
          50289277,
          657272464,
          172634583,
          304650463,
          1006355617,
          259094571,
          259150741,
          814574921,
          717685996,
          384612014,
          1092349779,
          870775211,
          952590167,
          467076416,
          678943164,
          428108523,
          619100240,
          728869595,
          1026070747,
          795466620,
          816417992,
          1303692197,
          1423466469,
          1660371361,
          1507764954,
          1995173637,
          703217624,
          564981116,
          1285117191,
          2083772569,
          102,
          0,
          0
         ],
         "yaxis": "y"
        },
        {
         "hovertemplate": "Genre=Horror<br>Year=%{x|%Y}<br>Total Revenue ($)=%{y}<extra></extra>",
         "legendgroup": "Horror",
         "line": {
          "color": "#636efa",
          "dash": "solid"
         },
         "marker": {
          "symbol": "circle"
         },
         "mode": "lines",
         "name": "Horror",
         "showlegend": true,
         "type": "scattergl",
         "visible": "legendonly",
         "x": [
          1895,
          1896,
          1897,
          1898,
          1899,
          1900,
          1901,
          1902,
          1903,
          1904,
          1905,
          1906,
          1907,
          1908,
          1909,
          1910,
          1911,
          1912,
          1913,
          1914,
          1915,
          1916,
          1917,
          1918,
          1919,
          1920,
          1921,
          1922,
          1923,
          1924,
          1925,
          1926,
          1927,
          1928,
          1929,
          1930,
          1931,
          1932,
          1933,
          1934,
          1935,
          1936,
          1937,
          1938,
          1939,
          1940,
          1941,
          1942,
          1943,
          1944,
          1945,
          1946,
          1947,
          1948,
          1949,
          1950,
          1951,
          1952,
          1953,
          1954,
          1955,
          1956,
          1957,
          1958,
          1959,
          1960,
          1961,
          1962,
          1963,
          1964,
          1965,
          1966,
          1967,
          1968,
          1969,
          1970,
          1971,
          1972,
          1973,
          1974,
          1975,
          1976,
          1977,
          1978,
          1979,
          1980,
          1981,
          1982,
          1983,
          1984,
          1985,
          1986,
          1987,
          1988,
          1989,
          1990,
          1991,
          1992,
          1993,
          1994,
          1995,
          1996,
          1997,
          1998,
          1999,
          2000,
          2001,
          2002,
          2003,
          2004,
          2005,
          2006,
          2007,
          2008,
          2009,
          2010,
          2011,
          2012,
          2013,
          2014,
          2015,
          2016,
          2017,
          2018,
          2019,
          2020,
          2021,
          2022,
          2023,
          2024,
          2025,
          2026,
          2027,
          2029
         ],
         "xaxis": "x",
         "y": [
          0,
          0,
          0,
          0,
          0,
          0,
          0,
          0,
          0,
          0,
          0,
          0,
          0,
          0,
          0,
          0,
          0,
          0,
          0,
          0,
          0,
          0,
          0,
          0,
          0,
          8811,
          0,
          19054,
          0,
          0,
          2000000,
          0,
          1325550,
          1464000,
          0,
          0,
          14000000,
          0,
          10000000,
          236000,
          2000000,
          0,
          0,
          0,
          6877900,
          0,
          0,
          4000000,
          1090000,
          1669226,
          0,
          2800000,
          0,
          4812444,
          0,
          0,
          0,
          0,
          34016000,
          3667000,
          3052653,
          6333289,
          13310000,
          15980000,
          1000000,
          35767613,
          3200000,
          1253274,
          19615275,
          4080000,
          0,
          2094937,
          0,
          64964186,
          0,
          7446400,
          140887739,
          35760129,
          443003194,
          44977140,
          603114338,
          102569150,
          100351264,
          436582827,
          252244910,
          264509675,
          197015044,
          285567352,
          304036188,
          330850110,
          217482947,
          290732147,
          276709989,
          337086515,
          321355488,
          484568087,
          112458054,
          710520793,
          94480221,
          540857038,
          298891171,
          427297124,
          967461202,
          554124126,
          1391712403,
          897658413,
          587653670,
          954599511,
          955061726,
          1435376151,
          1732504644,
          1265405891,
          1949692061,
          701933426,
          1396525180,
          1583514493,
          1167231987,
          1440813124,
          2113736255,
          1455347729,
          982383562,
          2072223929,
          3021431378,
          2536630735,
          2338816187,
          633839682,
          1558241597,
          1957027520,
          4612851057,
          1710,
          0,
          20,
          0,
          0
         ],
         "yaxis": "y"
        },
        {
         "hovertemplate": "Genre=Music<br>Year=%{x|%Y}<br>Total Revenue ($)=%{y}<extra></extra>",
         "legendgroup": "Music",
         "line": {
          "color": "#EF553B",
          "dash": "solid"
         },
         "marker": {
          "symbol": "circle"
         },
         "mode": "lines",
         "name": "Music",
         "showlegend": true,
         "type": "scattergl",
         "visible": "legendonly",
         "x": [
          1894,
          1898,
          1899,
          1900,
          1903,
          1905,
          1906,
          1907,
          1908,
          1909,
          1910,
          1911,
          1913,
          1914,
          1915,
          1917,
          1919,
          1921,
          1922,
          1923,
          1924,
          1925,
          1926,
          1927,
          1928,
          1929,
          1930,
          1931,
          1932,
          1933,
          1934,
          1935,
          1936,
          1937,
          1938,
          1939,
          1940,
          1941,
          1942,
          1943,
          1944,
          1945,
          1946,
          1947,
          1948,
          1949,
          1950,
          1951,
          1952,
          1953,
          1954,
          1955,
          1956,
          1957,
          1958,
          1959,
          1960,
          1961,
          1962,
          1963,
          1964,
          1965,
          1966,
          1967,
          1968,
          1969,
          1970,
          1971,
          1972,
          1973,
          1974,
          1975,
          1976,
          1977,
          1978,
          1979,
          1980,
          1981,
          1982,
          1983,
          1984,
          1985,
          1986,
          1987,
          1988,
          1989,
          1990,
          1991,
          1992,
          1993,
          1994,
          1995,
          1996,
          1997,
          1998,
          1999,
          2000,
          2001,
          2002,
          2003,
          2004,
          2005,
          2006,
          2007,
          2008,
          2009,
          2010,
          2011,
          2012,
          2013,
          2014,
          2015,
          2016,
          2017,
          2018,
          2019,
          2020,
          2021,
          2022,
          2023,
          2024,
          2025,
          2026
         ],
         "xaxis": "x",
         "y": [
          0,
          0,
          0,
          0,
          0,
          0,
          0,
          0,
          0,
          0,
          0,
          0,
          0,
          0,
          0,
          0,
          0,
          0,
          0,
          0,
          0,
          0,
          0,
          0,
          8516000,
          17813000,
          0,
          0,
          0,
          4816000,
          3465000,
          5259000,
          10600000,
          3633000,
          6734000,
          1825000,
          0,
          0,
          5506000,
          13421624,
          25192000,
          9291000,
          9024000,
          1513000,
          2962339,
          7141000,
          17922000,
          21881000,
          3482000,
          13725831,
          8413968,
          2374025,
          33060105,
          11000000,
          36800100,
          100000,
          9900000,
          4300000,
          8000000,
          22158100,
          16865561,
          296222484,
          2500000,
          37560000,
          52878689,
          86986877,
          95758060,
          17900000,
          0,
          22232000,
          96774,
          45742783,
          80012000,
          255013184,
          46734405,
          109688254,
          226590365,
          71999901,
          71730679,
          110819667,
          172647050,
          200957183,
          30659996,
          278371731,
          87811992,
          41517503,
          33780983,
          85742994,
          863439240,
          181322906,
          17652417,
          120430169,
          229261519,
          328992625,
          117224745,
          79750458,
          384614636,
          345916500,
          311829799,
          256098942,
          207893974,
          302111207,
          379329202,
          639154497,
          535000326,
          1174298393,
          155943147,
          713483344,
          431216430,
          217762281,
          310610250,
          721546740,
          1511863191,
          1205092222,
          1699980585,
          409197890,
          600217352,
          93188603,
          606080743,
          74448631,
          8067,
          0,
          0
         ],
         "yaxis": "y"
        },
        {
         "hovertemplate": "Genre=Mystery<br>Year=%{x|%Y}<br>Total Revenue ($)=%{y}<extra></extra>",
         "legendgroup": "Mystery",
         "line": {
          "color": "#00cc96",
          "dash": "solid"
         },
         "marker": {
          "symbol": "circle"
         },
         "mode": "lines",
         "name": "Mystery",
         "showlegend": true,
         "type": "scattergl",
         "visible": "legendonly",
         "x": [
          1896,
          1897,
          1898,
          1900,
          1904,
          1908,
          1909,
          1910,
          1911,
          1912,
          1913,
          1914,
          1915,
          1916,
          1917,
          1918,
          1919,
          1920,
          1921,
          1922,
          1923,
          1924,
          1925,
          1926,
          1927,
          1928,
          1929,
          1930,
          1931,
          1932,
          1933,
          1934,
          1935,
          1936,
          1937,
          1938,
          1939,
          1940,
          1941,
          1942,
          1943,
          1944,
          1945,
          1946,
          1947,
          1948,
          1949,
          1950,
          1951,
          1952,
          1953,
          1954,
          1955,
          1956,
          1957,
          1958,
          1959,
          1960,
          1961,
          1962,
          1963,
          1964,
          1965,
          1966,
          1967,
          1968,
          1969,
          1970,
          1971,
          1972,
          1973,
          1974,
          1975,
          1976,
          1977,
          1978,
          1979,
          1980,
          1981,
          1982,
          1983,
          1984,
          1985,
          1986,
          1987,
          1988,
          1989,
          1990,
          1991,
          1992,
          1993,
          1994,
          1995,
          1996,
          1997,
          1998,
          1999,
          2000,
          2001,
          2002,
          2003,
          2004,
          2005,
          2006,
          2007,
          2008,
          2009,
          2010,
          2011,
          2012,
          2013,
          2014,
          2015,
          2016,
          2017,
          2018,
          2019,
          2020,
          2021,
          2022,
          2023,
          2024,
          2025,
          2029
         ],
         "xaxis": "x",
         "y": [
          0,
          0,
          0,
          0,
          0,
          0,
          0,
          0,
          0,
          0,
          0,
          0,
          0,
          0,
          0,
          0,
          0,
          0,
          0,
          0,
          0,
          0,
          0,
          0,
          325550,
          2385000,
          0,
          0,
          0,
          0,
          27690,
          1659000,
          831000,
          3524009,
          1015000,
          1916205,
          2223000,
          7592465,
          31791000,
          9086000,
          0,
          4814000,
          9500000,
          37607000,
          14260570,
          0,
          1226098,
          96568,
          1764000,
          0,
          0,
          37034514,
          20264000,
          11300091,
          9000000,
          15045228,
          30275000,
          7400000,
          3200000,
          0,
          13475000,
          23368234,
          0,
          25000000,
          29779978,
          88023560,
          0,
          20587924,
          13717376,
          63750000,
          19025680,
          74173000,
          101354566,
          136642327,
          132321041,
          148139353,
          184707639,
          151645650,
          81900223,
          105543786,
          71304714,
          81348831,
          130187303,
          214634387,
          63147362,
          77262111,
          146730656,
          835518560,
          139152103,
          469867813,
          683875755,
          270039217,
          692820924,
          799279193,
          1378668829,
          629511890,
          2752525610,
          1022762292,
          1289547046,
          1894564124,
          963454184,
          1684553503,
          1153124311,
          1855579319,
          2329538905,
          719940229,
          2670540789,
          1453215719,
          2445350908,
          683522756,
          523969240,
          1338615472,
          1244364458,
          2296502726,
          2198734154,
          2670206702,
          1418350282,
          331351506,
          1631626414,
          2075546907,
          1973226719,
          67770,
          0,
          0
         ],
         "yaxis": "y"
        },
        {
         "hovertemplate": "Genre=Romance<br>Year=%{x|%Y}<br>Total Revenue ($)=%{y}<extra></extra>",
         "legendgroup": "Romance",
         "line": {
          "color": "#ab63fa",
          "dash": "solid"
         },
         "marker": {
          "symbol": "circle"
         },
         "mode": "lines",
         "name": "Romance",
         "showlegend": true,
         "type": "scattergl",
         "visible": "legendonly",
         "x": [
          1894,
          1896,
          1898,
          1899,
          1900,
          1901,
          1903,
          1904,
          1905,
          1906,
          1907,
          1908,
          1909,
          1910,
          1911,
          1912,
          1913,
          1914,
          1915,
          1916,
          1917,
          1918,
          1919,
          1920,
          1921,
          1922,
          1923,
          1924,
          1925,
          1926,
          1927,
          1928,
          1929,
          1930,
          1931,
          1932,
          1933,
          1934,
          1935,
          1936,
          1937,
          1938,
          1939,
          1940,
          1941,
          1942,
          1943,
          1944,
          1945,
          1946,
          1947,
          1948,
          1949,
          1950,
          1951,
          1952,
          1953,
          1954,
          1955,
          1956,
          1957,
          1958,
          1959,
          1960,
          1961,
          1962,
          1963,
          1964,
          1965,
          1966,
          1967,
          1968,
          1969,
          1970,
          1971,
          1972,
          1973,
          1974,
          1975,
          1976,
          1977,
          1978,
          1979,
          1980,
          1981,
          1982,
          1983,
          1984,
          1985,
          1986,
          1987,
          1988,
          1989,
          1990,
          1991,
          1992,
          1993,
          1994,
          1995,
          1996,
          1997,
          1998,
          1999,
          2000,
          2001,
          2002,
          2003,
          2004,
          2005,
          2006,
          2007,
          2008,
          2009,
          2010,
          2011,
          2012,
          2013,
          2014,
          2015,
          2016,
          2017,
          2018,
          2019,
          2020,
          2021,
          2022,
          2023,
          2024,
          2025,
          2026,
          2027,
          2029
         ],
         "xaxis": "x",
         "y": [
          0,
          0,
          0,
          0,
          0,
          0,
          0,
          0,
          0,
          0,
          0,
          0,
          0,
          0,
          0,
          0,
          0,
          4187028,
          204661,
          0,
          0,
          0,
          2400000,
          4500000,
          901937,
          0,
          1500000,
          3921419,
          30297150,
          658000,
          6279857,
          8099000,
          9780000,
          7940,
          9099000,
          5678000,
          12557000,
          13377000,
          13141150,
          16563200,
          12816895,
          27953306,
          415783765,
          24804632,
          13369000,
          28710100,
          39165500,
          9393000,
          28111457,
          98195000,
          33440704,
          11787420,
          41420000,
          279474415,
          51469000,
          89321000,
          68767000,
          22575968,
          76457710,
          150931671,
          49380000,
          66777828,
          113302866,
          47755902,
          104880446,
          24997161,
          160768709,
          119542303,
          445146316,
          44692222,
          284681972,
          149890190,
          94115142,
          167952798,
          112058980,
          127182184,
          72112000,
          89862200,
          37473217,
          397110175,
          208988028,
          464515127,
          378820335,
          236378072,
          575078353,
          479475253,
          451467816,
          657665278,
          747212014,
          888835941,
          780546781,
          1151835286,
          869951757,
          1504178998,
          1429040040,
          1926207341,
          1299508886,
          2500054852,
          2111173775,
          1541788092,
          3729245905,
          2711956193,
          2411162801,
          2199220233,
          4340082714,
          2228917903,
          2172148528,
          3050631138,
          3640672339,
          2379705983,
          3067582473,
          5810419565,
          4348818220,
          4199646876,
          3558891893,
          3272116326,
          1770997078,
          2977453449,
          2889297087,
          3400029168,
          2569538621,
          2706538641,
          2590596968,
          227148195,
          1245930324,
          915469863,
          1430819639,
          100895,
          0,
          19,
          0,
          0
         ],
         "yaxis": "y"
        },
        {
         "hovertemplate": "Genre=ScienceFiction<br>Year=%{x|%Y}<br>Total Revenue ($)=%{y}<extra></extra>",
         "legendgroup": "ScienceFiction",
         "line": {
          "color": "#FFA15A",
          "dash": "solid"
         },
         "marker": {
          "symbol": "circle"
         },
         "mode": "lines",
         "name": "ScienceFiction",
         "showlegend": true,
         "type": "scattergl",
         "visible": "legendonly",
         "x": [
          1896,
          1899,
          1900,
          1901,
          1902,
          1904,
          1905,
          1906,
          1907,
          1908,
          1909,
          1910,
          1911,
          1912,
          1913,
          1914,
          1915,
          1916,
          1917,
          1918,
          1919,
          1920,
          1921,
          1922,
          1923,
          1924,
          1925,
          1926,
          1927,
          1928,
          1929,
          1930,
          1931,
          1932,
          1933,
          1934,
          1935,
          1936,
          1937,
          1938,
          1939,
          1940,
          1941,
          1942,
          1943,
          1944,
          1945,
          1946,
          1947,
          1948,
          1949,
          1950,
          1951,
          1952,
          1953,
          1954,
          1955,
          1956,
          1957,
          1958,
          1959,
          1960,
          1961,
          1962,
          1963,
          1964,
          1965,
          1966,
          1967,
          1968,
          1969,
          1970,
          1971,
          1972,
          1973,
          1974,
          1975,
          1976,
          1977,
          1978,
          1979,
          1980,
          1981,
          1982,
          1983,
          1984,
          1985,
          1986,
          1987,
          1988,
          1989,
          1990,
          1991,
          1992,
          1993,
          1994,
          1995,
          1996,
          1997,
          1998,
          1999,
          2000,
          2001,
          2002,
          2003,
          2004,
          2005,
          2006,
          2007,
          2008,
          2009,
          2010,
          2011,
          2012,
          2013,
          2014,
          2015,
          2016,
          2017,
          2018,
          2019,
          2020,
          2021,
          2022,
          2023,
          2024,
          2025,
          2026,
          2027,
          2029,
          2031,
          2099
         ],
         "xaxis": "x",
         "y": [
          0,
          0,
          0,
          0,
          0,
          0,
          0,
          0,
          0,
          0,
          0,
          0,
          0,
          0,
          0,
          0,
          0,
          8000000,
          0,
          0,
          0,
          0,
          0,
          0,
          0,
          0,
          0,
          0,
          650422,
          0,
          0,
          0,
          13300000,
          0,
          0,
          0,
          2000000,
          0,
          0,
          0,
          0,
          659600,
          0,
          1040000,
          0,
          1669226,
          0,
          0,
          0,
          0,
          1950000,
          5000000,
          3450000,
          0,
          11466000,
          31867000,
          5752653,
          9583289,
          11310000,
          7480000,
          1000000,
          2180902,
          9237760,
          12550000,
          2700000,
          14887880,
          3000000,
          35048124,
          2399280,
          109396610,
          2399280,
          18999718,
          204922868,
          11582433,
          91420644,
          6247438,
          194862319,
          29200000,
          1175007121,
          408257551,
          642370270,
          891095929,
          198348027,
          1089734962,
          881896457,
          401273077,
          630060188,
          565968989,
          371849256,
          191510262,
          901610136,
          1051259568,
          846612295,
          500890486,
          1185416977,
          683430087,
          1253230452,
          1901201428,
          3214345646,
          2001660529,
          2824761938,
          1218137185,
          2013106554,
          3033122891,
          3276245861,
          2026485982,
          2829274541,
          1693797509,
          2142337616,
          2909928285,
          8099862863,
          3136063990,
          4759927097,
          5476788943,
          7250613537,
          8824091557,
          10018525094,
          5873262189,
          8071453801,
          10934361204,
          8380087462,
          1081064771,
          5620305033,
          6869090274,
          3957381360,
          67725,
          0,
          0,
          0,
          0,
          0,
          0
         ],
         "yaxis": "y"
        },
        {
         "hovertemplate": "Genre=TVMovie<br>Year=%{x|%Y}<br>Total Revenue ($)=%{y}<extra></extra>",
         "legendgroup": "TVMovie",
         "line": {
          "color": "#19d3f3",
          "dash": "solid"
         },
         "marker": {
          "symbol": "circle"
         },
         "mode": "lines",
         "name": "TVMovie",
         "showlegend": true,
         "type": "scattergl",
         "visible": "legendonly",
         "x": [
          1930,
          1937,
          1938,
          1939,
          1942,
          1943,
          1944,
          1946,
          1947,
          1948,
          1949,
          1950,
          1951,
          1952,
          1953,
          1954,
          1955,
          1956,
          1957,
          1958,
          1959,
          1960,
          1961,
          1962,
          1963,
          1964,
          1965,
          1966,
          1967,
          1968,
          1969,
          1970,
          1971,
          1972,
          1973,
          1974,
          1975,
          1976,
          1977,
          1978,
          1979,
          1980,
          1981,
          1982,
          1983,
          1984,
          1985,
          1986,
          1987,
          1988,
          1989,
          1990,
          1991,
          1992,
          1993,
          1994,
          1995,
          1996,
          1997,
          1998,
          1999,
          2000,
          2001,
          2002,
          2003,
          2004,
          2005,
          2006,
          2007,
          2008,
          2009,
          2010,
          2011,
          2012,
          2013,
          2014,
          2015,
          2016,
          2017,
          2018,
          2019,
          2020,
          2021,
          2022,
          2023,
          2024,
          2025
         ],
         "xaxis": "x",
         "y": [
          0,
          0,
          0,
          0,
          0,
          0,
          0,
          0,
          0,
          0,
          0,
          0,
          0,
          0,
          0,
          0,
          0,
          0,
          0,
          0,
          0,
          0,
          0,
          0,
          0,
          0,
          0,
          0,
          2500,
          0,
          0,
          0,
          0,
          0,
          0,
          0,
          0,
          0,
          0,
          0,
          0,
          0,
          0,
          0,
          0,
          0,
          0,
          43971,
          0,
          0,
          500,
          0,
          0,
          0,
          0,
          0,
          100000,
          42200000,
          0,
          9988,
          0,
          5002632,
          9266,
          60,
          151500029,
          500000,
          0,
          3508972,
          7311678,
          8900000,
          91401,
          1309580,
          50015,
          0,
          7600000,
          100000,
          50604,
          604665,
          3808441,
          308503,
          5000,
          265709,
          15638492,
          405020,
          22703,
          10106,
          0
         ],
         "yaxis": "y"
        },
        {
         "hovertemplate": "Genre=Thriller<br>Year=%{x|%Y}<br>Total Revenue ($)=%{y}<extra></extra>",
         "legendgroup": "Thriller",
         "line": {
          "color": "#FF6692",
          "dash": "solid"
         },
         "marker": {
          "symbol": "circle"
         },
         "mode": "lines",
         "name": "Thriller",
         "showlegend": true,
         "type": "scattergl",
         "x": [
          1900,
          1902,
          1904,
          1906,
          1908,
          1909,
          1910,
          1911,
          1912,
          1913,
          1914,
          1915,
          1916,
          1917,
          1918,
          1919,
          1920,
          1921,
          1922,
          1923,
          1924,
          1925,
          1926,
          1927,
          1928,
          1929,
          1930,
          1931,
          1932,
          1933,
          1934,
          1935,
          1936,
          1937,
          1938,
          1939,
          1940,
          1941,
          1942,
          1943,
          1944,
          1945,
          1946,
          1947,
          1948,
          1949,
          1950,
          1951,
          1952,
          1953,
          1954,
          1955,
          1956,
          1957,
          1958,
          1959,
          1960,
          1961,
          1962,
          1963,
          1964,
          1965,
          1966,
          1967,
          1968,
          1969,
          1970,
          1971,
          1972,
          1973,
          1974,
          1975,
          1976,
          1977,
          1978,
          1979,
          1980,
          1981,
          1982,
          1983,
          1984,
          1985,
          1986,
          1987,
          1988,
          1989,
          1990,
          1991,
          1992,
          1993,
          1994,
          1995,
          1996,
          1997,
          1998,
          1999,
          2000,
          2001,
          2002,
          2003,
          2004,
          2005,
          2006,
          2007,
          2008,
          2009,
          2010,
          2011,
          2012,
          2013,
          2014,
          2015,
          2016,
          2017,
          2018,
          2019,
          2020,
          2021,
          2022,
          2023,
          2024,
          2025,
          2026,
          2027,
          2029
         ],
         "xaxis": "x",
         "y": [
          0,
          0,
          0,
          0,
          0,
          0,
          0,
          0,
          0,
          0,
          0,
          0,
          0,
          0,
          0,
          0,
          8811,
          0,
          400200,
          1500000,
          881000,
          704000,
          0,
          0,
          1464000,
          0,
          0,
          0,
          0,
          27690,
          0,
          0,
          0,
          1015000,
          0,
          0,
          7592465,
          6272000,
          2250000,
          19000000,
          6100000,
          15005500,
          375920000,
          9137570,
          3329000,
          6447098,
          1900000,
          15487000,
          1485000,
          8500000,
          42284514,
          23224000,
          172730514,
          0,
          15408632,
          22275000,
          48781702,
          0,
          170267035,
          90644471,
          138761062,
          142600658,
          26500000,
          191659246,
          93006299,
          80055564,
          122110405,
          278272049,
          204877788,
          206471265,
          425706058,
          606167188,
          314412867,
          469601833,
          387410236,
          480802574,
          189439954,
          422626072,
          490773918,
          955313948,
          420967113,
          778704868,
          594794485,
          1243388625,
          793398106,
          1250128421,
          2009049433,
          2148226215,
          2097044620,
          2261037898,
          2149114177,
          2497060993,
          3299323099,
          3721810973,
          3124402867,
          2963501646,
          3985987174,
          4402066528,
          4473371873,
          4722034668,
          4085928558,
          4032259810,
          6014034768,
          5900359844,
          5338736070,
          5062939456,
          3937016031,
          6008352015,
          6521794011,
          6661138625,
          5730435214,
          8158718026,
          4294265898,
          4848221523,
          6080882212,
          5328516867,
          1858880556,
          3756052755,
          3054143969,
          4818416960,
          163221,
          0,
          0,
          0,
          0
         ],
         "yaxis": "y"
        },
        {
         "hovertemplate": "Genre=War<br>Year=%{x|%Y}<br>Total Revenue ($)=%{y}<extra></extra>",
         "legendgroup": "War",
         "line": {
          "color": "#B6E880",
          "dash": "solid"
         },
         "marker": {
          "symbol": "circle"
         },
         "mode": "lines",
         "name": "War",
         "showlegend": true,
         "type": "scattergl",
         "visible": "legendonly",
         "x": [
          1896,
          1897,
          1898,
          1899,
          1900,
          1901,
          1902,
          1904,
          1905,
          1906,
          1908,
          1909,
          1910,
          1911,
          1912,
          1913,
          1914,
          1915,
          1916,
          1917,
          1918,
          1919,
          1920,
          1921,
          1922,
          1923,
          1924,
          1925,
          1926,
          1927,
          1928,
          1929,
          1930,
          1931,
          1932,
          1933,
          1934,
          1935,
          1936,
          1937,
          1938,
          1939,
          1940,
          1941,
          1942,
          1943,
          1944,
          1945,
          1946,
          1947,
          1948,
          1949,
          1950,
          1951,
          1952,
          1953,
          1954,
          1955,
          1956,
          1957,
          1958,
          1959,
          1960,
          1961,
          1962,
          1963,
          1964,
          1965,
          1966,
          1967,
          1968,
          1969,
          1970,
          1971,
          1972,
          1973,
          1974,
          1975,
          1976,
          1977,
          1978,
          1979,
          1980,
          1981,
          1982,
          1983,
          1984,
          1985,
          1986,
          1987,
          1988,
          1989,
          1990,
          1991,
          1992,
          1993,
          1994,
          1995,
          1996,
          1997,
          1998,
          1999,
          2000,
          2001,
          2002,
          2003,
          2004,
          2005,
          2006,
          2007,
          2008,
          2009,
          2010,
          2011,
          2012,
          2013,
          2014,
          2015,
          2016,
          2017,
          2018,
          2019,
          2020,
          2021,
          2022,
          2023,
          2024,
          2025
         ],
         "xaxis": "x",
         "y": [
          0,
          0,
          0,
          0,
          0,
          0,
          0,
          0,
          0,
          0,
          0,
          0,
          0,
          0,
          0,
          0,
          0,
          11000000,
          0,
          0,
          0,
          0,
          0,
          0,
          0,
          0,
          0,
          20045100,
          2273000,
          3639448,
          2305000,
          0,
          11270000,
          0,
          732000,
          7630000,
          0,
          0,
          2736000,
          0,
          0,
          406984579,
          13500000,
          16361885,
          21811000,
          40179000,
          6600000,
          12150000,
          226900000,
          0,
          240689,
          3225000,
          7800000,
          200000,
          3600000,
          32862000,
          23150000,
          6000000,
          22020001,
          64908100,
          37205000,
          8800000,
          83750000,
          28900000,
          124095385,
          32915059,
          29073464,
          128448656,
          21069028,
          47700000,
          35637500,
          1701766,
          241725670,
          0,
          0,
          2250000,
          30000,
          20372734,
          43220000,
          50750201,
          56230000,
          262916427,
          28074201,
          173550025,
          160536904,
          36471468,
          117760546,
          311683370,
          185881721,
          259902028,
          261548979,
          219193102,
          24217339,
          200216687,
          119344194,
          473836413,
          161468098,
          248961745,
          350627321,
          56967653,
          583658636,
          196712976,
          450571546,
          908531630,
          413113620,
          942511969,
          1029447232,
          467305355,
          323470686,
          531463444,
          980196458,
          590341817,
          309922036,
          332281254,
          235723141,
          428883668,
          2033018053,
          163310779,
          827289902,
          2091625380,
          864032467,
          692203087,
          657575470,
          939448102,
          1043881145,
          3390857155,
          1,
          0
         ],
         "yaxis": "y"
        },
        {
         "hovertemplate": "Genre=Western<br>Year=%{x|%Y}<br>Total Revenue ($)=%{y}<extra></extra>",
         "legendgroup": "Western",
         "line": {
          "color": "#FF97FF",
          "dash": "solid"
         },
         "marker": {
          "symbol": "circle"
         },
         "mode": "lines",
         "name": "Western",
         "showlegend": true,
         "type": "scattergl",
         "visible": "legendonly",
         "x": [
          1894,
          1896,
          1898,
          1899,
          1903,
          1904,
          1906,
          1907,
          1908,
          1909,
          1910,
          1911,
          1912,
          1913,
          1914,
          1915,
          1916,
          1917,
          1918,
          1919,
          1920,
          1921,
          1922,
          1923,
          1924,
          1925,
          1926,
          1927,
          1928,
          1929,
          1930,
          1931,
          1932,
          1933,
          1934,
          1935,
          1936,
          1937,
          1938,
          1939,
          1940,
          1941,
          1942,
          1943,
          1944,
          1945,
          1946,
          1947,
          1948,
          1949,
          1950,
          1951,
          1952,
          1953,
          1954,
          1955,
          1956,
          1957,
          1958,
          1959,
          1960,
          1961,
          1962,
          1963,
          1964,
          1965,
          1966,
          1967,
          1968,
          1969,
          1970,
          1971,
          1972,
          1973,
          1974,
          1975,
          1976,
          1977,
          1978,
          1979,
          1980,
          1981,
          1982,
          1983,
          1984,
          1985,
          1986,
          1987,
          1988,
          1989,
          1990,
          1991,
          1992,
          1993,
          1994,
          1995,
          1996,
          1997,
          1998,
          1999,
          2000,
          2001,
          2002,
          2003,
          2004,
          2005,
          2006,
          2007,
          2008,
          2009,
          2010,
          2011,
          2012,
          2013,
          2014,
          2015,
          2016,
          2017,
          2018,
          2019,
          2020,
          2021,
          2022,
          2023,
          2024,
          2025,
          2034
         ],
         "xaxis": "x",
         "y": [
          0,
          0,
          0,
          0,
          0,
          0,
          0,
          0,
          0,
          0,
          0,
          0,
          0,
          0,
          4187028,
          102224,
          0,
          0,
          0,
          0,
          0,
          0,
          0,
          0,
          0,
          944000,
          0,
          0,
          0,
          2400000,
          0,
          1383000,
          0,
          0,
          0,
          620000,
          0,
          0,
          0,
          1103757,
          7372567,
          0,
          0,
          5075000,
          0,
          0,
          23150000,
          10342000,
          19160088,
          9204000,
          10250000,
          0,
          12007000,
          21100000,
          7700000,
          12788000,
          41855818,
          13463344,
          7115000,
          7500000,
          14805000,
          12500000,
          58066023,
          10000000,
          14500000,
          44681540,
          51239277,
          55855000,
          27298917,
          165758900,
          52209552,
          2100000,
          58530000,
          36700000,
          119500000,
          86073448,
          44011910,
          0,
          9585769,
          92079259,
          19279538,
          2945600,
          22395546,
          0,
          779997,
          73603138,
          39200000,
          257043,
          60064096,
          15510,
          483208848,
          219799832,
          296941373,
          75683776,
          383962633,
          163433489,
          48972031,
          0,
          6348623,
          224757376,
          99274467,
          89353989,
          2428199,
          195336628,
          108103450,
          167026312,
          20927040,
          87720716,
          20211394,
          31419545,
          275104222,
          421536811,
          479254818,
          260502115,
          91312366,
          690336998,
          201279959,
          37195453,
          13143056,
          4637331,
          94240740,
          34194242,
          51681478,
          77,
          10000,
          0,
          0
         ],
         "yaxis": "y"
        }
       ],
       "layout": {
        "font": {
         "family": "Courier New, monospace"
        },
        "height": 575,
        "legend": {
         "font": {
          "family": "Courier New, monospace",
          "size": 9
         },
         "title": {
          "font": {
           "family": "Courier New, monospace",
           "size": 10
          },
          "text": "Genre"
         },
         "tracegroupgap": 0
        },
        "paper_bgcolor": "rgba(0,0,0,0)",
        "plot_bgcolor": "rgba(0,0,0,0)",
        "template": {
         "data": {
          "bar": [
           {
            "error_x": {
             "color": "#2a3f5f"
            },
            "error_y": {
             "color": "#2a3f5f"
            },
            "marker": {
             "line": {
              "color": "#E5ECF6",
              "width": 0.5
             },
             "pattern": {
              "fillmode": "overlay",
              "size": 10,
              "solidity": 0.2
             }
            },
            "type": "bar"
           }
          ],
          "barpolar": [
           {
            "marker": {
             "line": {
              "color": "#E5ECF6",
              "width": 0.5
             },
             "pattern": {
              "fillmode": "overlay",
              "size": 10,
              "solidity": 0.2
             }
            },
            "type": "barpolar"
           }
          ],
          "carpet": [
           {
            "aaxis": {
             "endlinecolor": "#2a3f5f",
             "gridcolor": "white",
             "linecolor": "white",
             "minorgridcolor": "white",
             "startlinecolor": "#2a3f5f"
            },
            "baxis": {
             "endlinecolor": "#2a3f5f",
             "gridcolor": "white",
             "linecolor": "white",
             "minorgridcolor": "white",
             "startlinecolor": "#2a3f5f"
            },
            "type": "carpet"
           }
          ],
          "choropleth": [
           {
            "colorbar": {
             "outlinewidth": 0,
             "ticks": ""
            },
            "type": "choropleth"
           }
          ],
          "contour": [
           {
            "colorbar": {
             "outlinewidth": 0,
             "ticks": ""
            },
            "colorscale": [
             [
              0,
              "#0d0887"
             ],
             [
              0.1111111111111111,
              "#46039f"
             ],
             [
              0.2222222222222222,
              "#7201a8"
             ],
             [
              0.3333333333333333,
              "#9c179e"
             ],
             [
              0.4444444444444444,
              "#bd3786"
             ],
             [
              0.5555555555555556,
              "#d8576b"
             ],
             [
              0.6666666666666666,
              "#ed7953"
             ],
             [
              0.7777777777777778,
              "#fb9f3a"
             ],
             [
              0.8888888888888888,
              "#fdca26"
             ],
             [
              1,
              "#f0f921"
             ]
            ],
            "type": "contour"
           }
          ],
          "contourcarpet": [
           {
            "colorbar": {
             "outlinewidth": 0,
             "ticks": ""
            },
            "type": "contourcarpet"
           }
          ],
          "heatmap": [
           {
            "colorbar": {
             "outlinewidth": 0,
             "ticks": ""
            },
            "colorscale": [
             [
              0,
              "#0d0887"
             ],
             [
              0.1111111111111111,
              "#46039f"
             ],
             [
              0.2222222222222222,
              "#7201a8"
             ],
             [
              0.3333333333333333,
              "#9c179e"
             ],
             [
              0.4444444444444444,
              "#bd3786"
             ],
             [
              0.5555555555555556,
              "#d8576b"
             ],
             [
              0.6666666666666666,
              "#ed7953"
             ],
             [
              0.7777777777777778,
              "#fb9f3a"
             ],
             [
              0.8888888888888888,
              "#fdca26"
             ],
             [
              1,
              "#f0f921"
             ]
            ],
            "type": "heatmap"
           }
          ],
          "heatmapgl": [
           {
            "colorbar": {
             "outlinewidth": 0,
             "ticks": ""
            },
            "colorscale": [
             [
              0,
              "#0d0887"
             ],
             [
              0.1111111111111111,
              "#46039f"
             ],
             [
              0.2222222222222222,
              "#7201a8"
             ],
             [
              0.3333333333333333,
              "#9c179e"
             ],
             [
              0.4444444444444444,
              "#bd3786"
             ],
             [
              0.5555555555555556,
              "#d8576b"
             ],
             [
              0.6666666666666666,
              "#ed7953"
             ],
             [
              0.7777777777777778,
              "#fb9f3a"
             ],
             [
              0.8888888888888888,
              "#fdca26"
             ],
             [
              1,
              "#f0f921"
             ]
            ],
            "type": "heatmapgl"
           }
          ],
          "histogram": [
           {
            "marker": {
             "pattern": {
              "fillmode": "overlay",
              "size": 10,
              "solidity": 0.2
             }
            },
            "type": "histogram"
           }
          ],
          "histogram2d": [
           {
            "colorbar": {
             "outlinewidth": 0,
             "ticks": ""
            },
            "colorscale": [
             [
              0,
              "#0d0887"
             ],
             [
              0.1111111111111111,
              "#46039f"
             ],
             [
              0.2222222222222222,
              "#7201a8"
             ],
             [
              0.3333333333333333,
              "#9c179e"
             ],
             [
              0.4444444444444444,
              "#bd3786"
             ],
             [
              0.5555555555555556,
              "#d8576b"
             ],
             [
              0.6666666666666666,
              "#ed7953"
             ],
             [
              0.7777777777777778,
              "#fb9f3a"
             ],
             [
              0.8888888888888888,
              "#fdca26"
             ],
             [
              1,
              "#f0f921"
             ]
            ],
            "type": "histogram2d"
           }
          ],
          "histogram2dcontour": [
           {
            "colorbar": {
             "outlinewidth": 0,
             "ticks": ""
            },
            "colorscale": [
             [
              0,
              "#0d0887"
             ],
             [
              0.1111111111111111,
              "#46039f"
             ],
             [
              0.2222222222222222,
              "#7201a8"
             ],
             [
              0.3333333333333333,
              "#9c179e"
             ],
             [
              0.4444444444444444,
              "#bd3786"
             ],
             [
              0.5555555555555556,
              "#d8576b"
             ],
             [
              0.6666666666666666,
              "#ed7953"
             ],
             [
              0.7777777777777778,
              "#fb9f3a"
             ],
             [
              0.8888888888888888,
              "#fdca26"
             ],
             [
              1,
              "#f0f921"
             ]
            ],
            "type": "histogram2dcontour"
           }
          ],
          "mesh3d": [
           {
            "colorbar": {
             "outlinewidth": 0,
             "ticks": ""
            },
            "type": "mesh3d"
           }
          ],
          "parcoords": [
           {
            "line": {
             "colorbar": {
              "outlinewidth": 0,
              "ticks": ""
             }
            },
            "type": "parcoords"
           }
          ],
          "pie": [
           {
            "automargin": true,
            "type": "pie"
           }
          ],
          "scatter": [
           {
            "fillpattern": {
             "fillmode": "overlay",
             "size": 10,
             "solidity": 0.2
            },
            "type": "scatter"
           }
          ],
          "scatter3d": [
           {
            "line": {
             "colorbar": {
              "outlinewidth": 0,
              "ticks": ""
             }
            },
            "marker": {
             "colorbar": {
              "outlinewidth": 0,
              "ticks": ""
             }
            },
            "type": "scatter3d"
           }
          ],
          "scattercarpet": [
           {
            "marker": {
             "colorbar": {
              "outlinewidth": 0,
              "ticks": ""
             }
            },
            "type": "scattercarpet"
           }
          ],
          "scattergeo": [
           {
            "marker": {
             "colorbar": {
              "outlinewidth": 0,
              "ticks": ""
             }
            },
            "type": "scattergeo"
           }
          ],
          "scattergl": [
           {
            "marker": {
             "colorbar": {
              "outlinewidth": 0,
              "ticks": ""
             }
            },
            "type": "scattergl"
           }
          ],
          "scattermapbox": [
           {
            "marker": {
             "colorbar": {
              "outlinewidth": 0,
              "ticks": ""
             }
            },
            "type": "scattermapbox"
           }
          ],
          "scatterpolar": [
           {
            "marker": {
             "colorbar": {
              "outlinewidth": 0,
              "ticks": ""
             }
            },
            "type": "scatterpolar"
           }
          ],
          "scatterpolargl": [
           {
            "marker": {
             "colorbar": {
              "outlinewidth": 0,
              "ticks": ""
             }
            },
            "type": "scatterpolargl"
           }
          ],
          "scatterternary": [
           {
            "marker": {
             "colorbar": {
              "outlinewidth": 0,
              "ticks": ""
             }
            },
            "type": "scatterternary"
           }
          ],
          "surface": [
           {
            "colorbar": {
             "outlinewidth": 0,
             "ticks": ""
            },
            "colorscale": [
             [
              0,
              "#0d0887"
             ],
             [
              0.1111111111111111,
              "#46039f"
             ],
             [
              0.2222222222222222,
              "#7201a8"
             ],
             [
              0.3333333333333333,
              "#9c179e"
             ],
             [
              0.4444444444444444,
              "#bd3786"
             ],
             [
              0.5555555555555556,
              "#d8576b"
             ],
             [
              0.6666666666666666,
              "#ed7953"
             ],
             [
              0.7777777777777778,
              "#fb9f3a"
             ],
             [
              0.8888888888888888,
              "#fdca26"
             ],
             [
              1,
              "#f0f921"
             ]
            ],
            "type": "surface"
           }
          ],
          "table": [
           {
            "cells": {
             "fill": {
              "color": "#EBF0F8"
             },
             "line": {
              "color": "white"
             }
            },
            "header": {
             "fill": {
              "color": "#C8D4E3"
             },
             "line": {
              "color": "white"
             }
            },
            "type": "table"
           }
          ]
         },
         "layout": {
          "annotationdefaults": {
           "arrowcolor": "#2a3f5f",
           "arrowhead": 0,
           "arrowwidth": 1
          },
          "autotypenumbers": "strict",
          "coloraxis": {
           "colorbar": {
            "outlinewidth": 0,
            "ticks": ""
           }
          },
          "colorscale": {
           "diverging": [
            [
             0,
             "#8e0152"
            ],
            [
             0.1,
             "#c51b7d"
            ],
            [
             0.2,
             "#de77ae"
            ],
            [
             0.3,
             "#f1b6da"
            ],
            [
             0.4,
             "#fde0ef"
            ],
            [
             0.5,
             "#f7f7f7"
            ],
            [
             0.6,
             "#e6f5d0"
            ],
            [
             0.7,
             "#b8e186"
            ],
            [
             0.8,
             "#7fbc41"
            ],
            [
             0.9,
             "#4d9221"
            ],
            [
             1,
             "#276419"
            ]
           ],
           "sequential": [
            [
             0,
             "#0d0887"
            ],
            [
             0.1111111111111111,
             "#46039f"
            ],
            [
             0.2222222222222222,
             "#7201a8"
            ],
            [
             0.3333333333333333,
             "#9c179e"
            ],
            [
             0.4444444444444444,
             "#bd3786"
            ],
            [
             0.5555555555555556,
             "#d8576b"
            ],
            [
             0.6666666666666666,
             "#ed7953"
            ],
            [
             0.7777777777777778,
             "#fb9f3a"
            ],
            [
             0.8888888888888888,
             "#fdca26"
            ],
            [
             1,
             "#f0f921"
            ]
           ],
           "sequentialminus": [
            [
             0,
             "#0d0887"
            ],
            [
             0.1111111111111111,
             "#46039f"
            ],
            [
             0.2222222222222222,
             "#7201a8"
            ],
            [
             0.3333333333333333,
             "#9c179e"
            ],
            [
             0.4444444444444444,
             "#bd3786"
            ],
            [
             0.5555555555555556,
             "#d8576b"
            ],
            [
             0.6666666666666666,
             "#ed7953"
            ],
            [
             0.7777777777777778,
             "#fb9f3a"
            ],
            [
             0.8888888888888888,
             "#fdca26"
            ],
            [
             1,
             "#f0f921"
            ]
           ]
          },
          "colorway": [
           "#636efa",
           "#EF553B",
           "#00cc96",
           "#ab63fa",
           "#FFA15A",
           "#19d3f3",
           "#FF6692",
           "#B6E880",
           "#FF97FF",
           "#FECB52"
          ],
          "font": {
           "color": "#2a3f5f"
          },
          "geo": {
           "bgcolor": "white",
           "lakecolor": "white",
           "landcolor": "#E5ECF6",
           "showlakes": true,
           "showland": true,
           "subunitcolor": "white"
          },
          "hoverlabel": {
           "align": "left"
          },
          "hovermode": "closest",
          "mapbox": {
           "style": "light"
          },
          "paper_bgcolor": "white",
          "plot_bgcolor": "#E5ECF6",
          "polar": {
           "angularaxis": {
            "gridcolor": "white",
            "linecolor": "white",
            "ticks": ""
           },
           "bgcolor": "#E5ECF6",
           "radialaxis": {
            "gridcolor": "white",
            "linecolor": "white",
            "ticks": ""
           }
          },
          "scene": {
           "xaxis": {
            "backgroundcolor": "#E5ECF6",
            "gridcolor": "white",
            "gridwidth": 2,
            "linecolor": "white",
            "showbackground": true,
            "ticks": "",
            "zerolinecolor": "white"
           },
           "yaxis": {
            "backgroundcolor": "#E5ECF6",
            "gridcolor": "white",
            "gridwidth": 2,
            "linecolor": "white",
            "showbackground": true,
            "ticks": "",
            "zerolinecolor": "white"
           },
           "zaxis": {
            "backgroundcolor": "#E5ECF6",
            "gridcolor": "white",
            "gridwidth": 2,
            "linecolor": "white",
            "showbackground": true,
            "ticks": "",
            "zerolinecolor": "white"
           }
          },
          "shapedefaults": {
           "line": {
            "color": "#2a3f5f"
           }
          },
          "ternary": {
           "aaxis": {
            "gridcolor": "white",
            "linecolor": "white",
            "ticks": ""
           },
           "baxis": {
            "gridcolor": "white",
            "linecolor": "white",
            "ticks": ""
           },
           "bgcolor": "#E5ECF6",
           "caxis": {
            "gridcolor": "white",
            "linecolor": "white",
            "ticks": ""
           }
          },
          "title": {
           "x": 0.05
          },
          "xaxis": {
           "automargin": true,
           "gridcolor": "white",
           "linecolor": "white",
           "ticks": "",
           "title": {
            "standoff": 15
           },
           "zerolinecolor": "white",
           "zerolinewidth": 2
          },
          "yaxis": {
           "automargin": true,
           "gridcolor": "white",
           "linecolor": "white",
           "ticks": "",
           "title": {
            "standoff": 15
           },
           "zerolinecolor": "white",
           "zerolinewidth": 2
          }
         }
        },
        "title": {
         "font": {
          "size": 16
         },
         "text": "Total Revenue per Genre and Year"
        },
        "xaxis": {
         "anchor": "y",
         "domain": [
          0,
          1
         ],
         "range": [
          1900,
          2023
         ],
         "title": {
          "text": "Year"
         }
        },
        "yaxis": {
         "anchor": "x",
         "domain": [
          0,
          1
         ],
         "title": {
          "text": "Total Revenue ($)"
         }
        }
       }
      }
     },
     "metadata": {},
     "output_type": "display_data"
    }
   ],
   "source": [
    "import pandas as pd\n",
    "\n",
    "genre_columns = list(df_dummy.columns)[24:]\n",
    "yearly_genre_revenue = pd.DataFrame()\n",
    "\n",
    "for genre in genre_columns:\n",
    "    genre_data = df_dummy[df_dummy[genre] == 1]\n",
    "    summary = genre_data.groupby('year').agg({\n",
    "        'revenue': 'sum'\n",
    "    }).reset_index()\n",
    "\n",
    "    summary['Genre'] = genre\n",
    "    yearly_genre_revenue = pd.concat([yearly_genre_revenue, summary[['year', 'revenue', 'Genre']]], ignore_index=True)\n",
    "\n",
    "print(yearly_genre_revenue)\n",
    "\n",
    "fig = px.line(yearly_genre_revenue, x='year', y='revenue', color='Genre',\n",
    "              title='Total Revenue per Genre and Year',\n",
    "              labels={'revenue': 'Total Revenue ($)', 'year': 'Year'},\n",
    "              hover_data={'year': '|%Y'})\n",
    "\n",
    "hidden_genres = set(genre_columns)\n",
    "hidden_genres -= {\"Action\", \"Documentary\", \"Drama\", \"Thriller\"}\n",
    "for trace in fig.data:\n",
    "    if trace.name in hidden_genres:\n",
    "        trace.visible = 'legendonly'\n",
    "\n",
    "fig.update_layout(\n",
    "    font=dict(\n",
    "        family=\"Courier New, monospace\",\n",
    "    ),\n",
    "    title_font=dict(\n",
    "        size=16\n",
    "    ),\n",
    "    xaxis_title='Year',\n",
    "    yaxis_title='Total Revenue ($)',\n",
    "    legend_title='Genre',\n",
    "    xaxis=dict(range=[1900, 2023]),\n",
    "    height=575,\n",
    "    plot_bgcolor='rgba(0,0,0,0)',\n",
    "    paper_bgcolor='rgba(0,0,0,0)',\n",
    "    legend=dict(\n",
    "        title_font=dict(family=\"Courier New, monospace\", size=10),\n",
    "        font=dict(family=\"Courier New, monospace\", size=9)\n",
    "    )\n",
    ")\n",
    "\n",
    "fig.show()\n",
    "fig.write_html('time_series_revenue.html')"
   ]
  },
  {
   "cell_type": "markdown",
   "metadata": {},
   "source": [
    "We later on decided to include a diagram with the total occurance of movies per genre in the database to give a better overview of the movie distribution in the dataset and used the same logic for that."
   ]
  },
  {
   "cell_type": "code",
   "execution_count": null,
   "metadata": {},
   "outputs": [
    {
     "name": "stdout",
     "output_type": "stream",
     "text": [
      "        year  title    Genre\n",
      "0     1894.0      1   Action\n",
      "1     1895.0      1   Action\n",
      "2     1896.0      1   Action\n",
      "3     1897.0      4   Action\n",
      "4     1898.0      3   Action\n",
      "...      ...    ...      ...\n",
      "2458  2022.0    112  Western\n",
      "2459  2023.0    113  Western\n",
      "2460  2024.0     25  Western\n",
      "2461  2025.0      1  Western\n",
      "2462  2034.0      1  Western\n",
      "\n",
      "[2463 rows x 3 columns]\n"
     ]
    },
    {
     "name": "stderr",
     "output_type": "stream",
     "text": [
      "C:\\Users\\Besitzer\\AppData\\Local\\Packages\\PythonSoftwareFoundation.Python.3.11_qbz5n2kfra8p0\\LocalCache\\local-packages\\Python311\\site-packages\\plotly\\express\\_core.py:2065: FutureWarning:\n",
      "\n",
      "When grouping with a length-1 list-like, you will need to pass a length-1 tuple to get_group in a future version of pandas. Pass `(name,)` instead of `name` to silence this warning.\n",
      "\n"
     ]
    },
    {
     "data": {
      "application/vnd.plotly.v1+json": {
       "config": {
        "plotlyServerURL": "https://plot.ly"
       },
       "data": [
        {
         "hovertemplate": "Genre=Action<br>Year=%{x|%Y}<br>Number of Movies=%{y}<extra></extra>",
         "legendgroup": "Action",
         "line": {
          "color": "#636efa",
          "dash": "solid"
         },
         "marker": {
          "symbol": "circle"
         },
         "mode": "lines",
         "name": "Action",
         "showlegend": true,
         "type": "scattergl",
         "x": [
          1894,
          1895,
          1896,
          1897,
          1898,
          1900,
          1901,
          1902,
          1903,
          1904,
          1905,
          1906,
          1907,
          1908,
          1909,
          1910,
          1911,
          1912,
          1913,
          1914,
          1915,
          1916,
          1917,
          1918,
          1919,
          1920,
          1921,
          1922,
          1923,
          1924,
          1925,
          1926,
          1927,
          1928,
          1929,
          1930,
          1931,
          1932,
          1933,
          1934,
          1935,
          1936,
          1937,
          1938,
          1939,
          1940,
          1941,
          1942,
          1943,
          1944,
          1945,
          1946,
          1947,
          1948,
          1949,
          1950,
          1951,
          1952,
          1953,
          1954,
          1955,
          1956,
          1957,
          1958,
          1959,
          1960,
          1961,
          1962,
          1963,
          1964,
          1965,
          1966,
          1967,
          1968,
          1969,
          1970,
          1971,
          1972,
          1973,
          1974,
          1975,
          1976,
          1977,
          1978,
          1979,
          1980,
          1981,
          1982,
          1983,
          1984,
          1985,
          1986,
          1987,
          1988,
          1989,
          1990,
          1991,
          1992,
          1993,
          1994,
          1995,
          1996,
          1997,
          1998,
          1999,
          2000,
          2001,
          2002,
          2003,
          2004,
          2005,
          2006,
          2007,
          2008,
          2009,
          2010,
          2011,
          2012,
          2013,
          2014,
          2015,
          2016,
          2017,
          2018,
          2019,
          2020,
          2021,
          2022,
          2023,
          2024,
          2025,
          2026,
          2027,
          2028,
          2029,
          2030,
          2031
         ],
         "xaxis": "x",
         "y": [
          1,
          1,
          1,
          4,
          3,
          2,
          2,
          1,
          5,
          6,
          3,
          3,
          4,
          13,
          4,
          1,
          5,
          8,
          12,
          11,
          18,
          17,
          14,
          16,
          27,
          29,
          28,
          25,
          29,
          36,
          33,
          56,
          51,
          52,
          46,
          46,
          39,
          58,
          49,
          50,
          84,
          71,
          86,
          79,
          86,
          63,
          58,
          70,
          58,
          41,
          52,
          51,
          44,
          58,
          75,
          77,
          66,
          55,
          78,
          65,
          67,
          83,
          76,
          110,
          104,
          121,
          133,
          118,
          130,
          154,
          188,
          221,
          248,
          228,
          255,
          231,
          257,
          290,
          374,
          349,
          296,
          313,
          343,
          334,
          358,
          337,
          303,
          335,
          347,
          332,
          399,
          455,
          481,
          527,
          547,
          564,
          540,
          520,
          549,
          514,
          550,
          553,
          496,
          509,
          497,
          488,
          569,
          541,
          592,
          571,
          599,
          620,
          710,
          799,
          789,
          860,
          900,
          873,
          1004,
          982,
          1064,
          1187,
          1283,
          1322,
          1376,
          1107,
          1335,
          1574,
          1848,
          434,
          20,
          3,
          3,
          1,
          2,
          1,
          1
         ],
         "yaxis": "y"
        },
        {
         "hovertemplate": "Genre=Adventure<br>Year=%{x|%Y}<br>Number of Movies=%{y}<extra></extra>",
         "legendgroup": "Adventure",
         "line": {
          "color": "#EF553B",
          "dash": "solid"
         },
         "marker": {
          "symbol": "circle"
         },
         "mode": "lines",
         "name": "Adventure",
         "showlegend": true,
         "type": "scattergl",
         "x": [
          1901,
          1902,
          1903,
          1904,
          1905,
          1906,
          1907,
          1908,
          1909,
          1910,
          1911,
          1912,
          1913,
          1914,
          1915,
          1916,
          1917,
          1918,
          1919,
          1920,
          1921,
          1922,
          1923,
          1924,
          1925,
          1926,
          1927,
          1928,
          1929,
          1930,
          1931,
          1932,
          1933,
          1934,
          1935,
          1936,
          1937,
          1938,
          1939,
          1940,
          1941,
          1942,
          1943,
          1944,
          1945,
          1946,
          1947,
          1948,
          1949,
          1950,
          1951,
          1952,
          1953,
          1954,
          1955,
          1956,
          1957,
          1958,
          1959,
          1960,
          1961,
          1962,
          1963,
          1964,
          1965,
          1966,
          1967,
          1968,
          1969,
          1970,
          1971,
          1972,
          1973,
          1974,
          1975,
          1976,
          1977,
          1978,
          1979,
          1980,
          1981,
          1982,
          1983,
          1984,
          1985,
          1986,
          1987,
          1988,
          1989,
          1990,
          1991,
          1992,
          1993,
          1994,
          1995,
          1996,
          1997,
          1998,
          1999,
          2000,
          2001,
          2002,
          2003,
          2004,
          2005,
          2006,
          2007,
          2008,
          2009,
          2010,
          2011,
          2012,
          2013,
          2014,
          2015,
          2016,
          2017,
          2018,
          2019,
          2020,
          2021,
          2022,
          2023,
          2024,
          2025,
          2026,
          2027,
          2028,
          2029,
          2030,
          2031
         ],
         "xaxis": "x",
         "y": [
          1,
          4,
          3,
          2,
          5,
          2,
          9,
          7,
          8,
          11,
          16,
          22,
          21,
          40,
          32,
          36,
          37,
          31,
          45,
          51,
          55,
          48,
          42,
          49,
          56,
          88,
          61,
          68,
          55,
          53,
          36,
          64,
          52,
          66,
          71,
          70,
          92,
          95,
          82,
          92,
          65,
          68,
          54,
          36,
          38,
          50,
          70,
          56,
          77,
          89,
          85,
          117,
          124,
          120,
          125,
          95,
          98,
          130,
          137,
          117,
          158,
          155,
          141,
          169,
          159,
          170,
          218,
          184,
          179,
          197,
          177,
          200,
          177,
          159,
          197,
          174,
          180,
          200,
          201,
          178,
          171,
          185,
          168,
          187,
          190,
          230,
          228,
          214,
          188,
          161,
          183,
          164,
          168,
          186,
          178,
          189,
          201,
          196,
          181,
          190,
          184,
          202,
          243,
          224,
          257,
          296,
          293,
          368,
          392,
          349,
          407,
          437,
          524,
          586,
          566,
          598,
          598,
          623,
          638,
          483,
          593,
          681,
          727,
          197,
          18,
          4,
          2,
          1,
          2,
          1,
          1
         ],
         "yaxis": "y"
        },
        {
         "hovertemplate": "Genre=Animation<br>Year=%{x|%Y}<br>Number of Movies=%{y}<extra></extra>",
         "legendgroup": "Animation",
         "line": {
          "color": "#00cc96",
          "dash": "solid"
         },
         "marker": {
          "symbol": "circle"
         },
         "mode": "lines",
         "name": "Animation",
         "showlegend": true,
         "type": "scattergl",
         "x": [
          1878,
          1885,
          1892,
          1894,
          1896,
          1897,
          1898,
          1899,
          1900,
          1906,
          1907,
          1908,
          1909,
          1910,
          1911,
          1912,
          1913,
          1914,
          1915,
          1916,
          1917,
          1918,
          1919,
          1920,
          1921,
          1922,
          1923,
          1924,
          1925,
          1926,
          1927,
          1928,
          1929,
          1930,
          1931,
          1932,
          1933,
          1934,
          1935,
          1936,
          1937,
          1938,
          1939,
          1940,
          1941,
          1942,
          1943,
          1944,
          1945,
          1946,
          1947,
          1948,
          1949,
          1950,
          1951,
          1952,
          1953,
          1954,
          1955,
          1956,
          1957,
          1958,
          1959,
          1960,
          1961,
          1962,
          1963,
          1964,
          1965,
          1966,
          1967,
          1968,
          1969,
          1970,
          1971,
          1972,
          1973,
          1974,
          1975,
          1976,
          1977,
          1978,
          1979,
          1980,
          1981,
          1982,
          1983,
          1984,
          1985,
          1986,
          1987,
          1988,
          1989,
          1990,
          1991,
          1992,
          1993,
          1994,
          1995,
          1996,
          1997,
          1998,
          1999,
          2000,
          2001,
          2002,
          2003,
          2004,
          2005,
          2006,
          2007,
          2008,
          2009,
          2010,
          2011,
          2012,
          2013,
          2014,
          2015,
          2016,
          2017,
          2018,
          2019,
          2020,
          2021,
          2022,
          2023,
          2024,
          2025,
          2026,
          2028,
          2030
         ],
         "xaxis": "x",
         "y": [
          25,
          1,
          3,
          2,
          1,
          1,
          1,
          1,
          1,
          4,
          7,
          14,
          19,
          24,
          6,
          14,
          20,
          10,
          30,
          54,
          40,
          35,
          40,
          71,
          64,
          84,
          70,
          79,
          107,
          119,
          125,
          121,
          137,
          203,
          204,
          250,
          224,
          219,
          220,
          219,
          203,
          219,
          196,
          204,
          198,
          209,
          181,
          193,
          168,
          168,
          173,
          197,
          183,
          187,
          200,
          179,
          198,
          186,
          193,
          201,
          189,
          187,
          195,
          206,
          205,
          204,
          179,
          198,
          232,
          228,
          274,
          251,
          230,
          247,
          259,
          269,
          263,
          266,
          274,
          232,
          252,
          326,
          314,
          302,
          292,
          297,
          330,
          347,
          371,
          427,
          440,
          438,
          435,
          406,
          447,
          487,
          396,
          445,
          427,
          417,
          432,
          405,
          452,
          489,
          499,
          546,
          602,
          678,
          761,
          822,
          825,
          864,
          890,
          1036,
          1081,
          1128,
          1275,
          1315,
          1339,
          1394,
          1714,
          1682,
          2049,
          2374,
          2770,
          2294,
          2080,
          377,
          14,
          3,
          1,
          1
         ],
         "yaxis": "y"
        },
        {
         "hovertemplate": "Genre=Comedy<br>Year=%{x|%Y}<br>Number of Movies=%{y}<extra></extra>",
         "legendgroup": "Comedy",
         "line": {
          "color": "#ab63fa",
          "dash": "solid"
         },
         "marker": {
          "symbol": "circle"
         },
         "mode": "lines",
         "name": "Comedy",
         "showlegend": true,
         "type": "scattergl",
         "x": [
          1892,
          1894,
          1895,
          1896,
          1897,
          1898,
          1899,
          1900,
          1901,
          1902,
          1903,
          1904,
          1905,
          1906,
          1907,
          1908,
          1909,
          1910,
          1911,
          1912,
          1913,
          1914,
          1915,
          1916,
          1917,
          1918,
          1919,
          1920,
          1921,
          1922,
          1923,
          1924,
          1925,
          1926,
          1927,
          1928,
          1929,
          1930,
          1931,
          1932,
          1933,
          1934,
          1935,
          1936,
          1937,
          1938,
          1939,
          1940,
          1941,
          1942,
          1943,
          1944,
          1945,
          1946,
          1947,
          1948,
          1949,
          1950,
          1951,
          1952,
          1953,
          1954,
          1955,
          1956,
          1957,
          1958,
          1959,
          1960,
          1961,
          1962,
          1963,
          1964,
          1965,
          1966,
          1967,
          1968,
          1969,
          1970,
          1971,
          1972,
          1973,
          1974,
          1975,
          1976,
          1977,
          1978,
          1979,
          1980,
          1981,
          1982,
          1983,
          1984,
          1985,
          1986,
          1987,
          1988,
          1989,
          1990,
          1991,
          1992,
          1993,
          1994,
          1995,
          1996,
          1997,
          1998,
          1999,
          2000,
          2001,
          2002,
          2003,
          2004,
          2005,
          2006,
          2007,
          2008,
          2009,
          2010,
          2011,
          2012,
          2013,
          2014,
          2015,
          2016,
          2017,
          2018,
          2019,
          2020,
          2021,
          2022,
          2023,
          2024,
          2025,
          2026,
          2027,
          2028,
          2030
         ],
         "xaxis": "x",
         "y": [
          1,
          4,
          6,
          23,
          57,
          32,
          30,
          57,
          38,
          28,
          53,
          44,
          43,
          79,
          85,
          97,
          80,
          125,
          165,
          261,
          310,
          401,
          291,
          288,
          262,
          235,
          267,
          261,
          231,
          194,
          222,
          265,
          314,
          385,
          382,
          401,
          363,
          455,
          503,
          486,
          547,
          579,
          577,
          560,
          566,
          557,
          492,
          547,
          546,
          487,
          452,
          380,
          317,
          317,
          333,
          366,
          424,
          433,
          454,
          463,
          460,
          475,
          486,
          512,
          517,
          551,
          536,
          545,
          597,
          627,
          616,
          646,
          639,
          611,
          676,
          690,
          715,
          762,
          768,
          795,
          757,
          748,
          800,
          791,
          688,
          763,
          844,
          799,
          817,
          873,
          805,
          864,
          941,
          1009,
          1028,
          1051,
          1061,
          982,
          988,
          1031,
          954,
          980,
          993,
          967,
          1134,
          1105,
          1216,
          1256,
          1338,
          1433,
          1582,
          1658,
          1778,
          1903,
          2060,
          2207,
          2348,
          2508,
          2637,
          2864,
          3156,
          3442,
          3549,
          3750,
          4066,
          4177,
          4471,
          3980,
          4305,
          5293,
          5360,
          1084,
          24,
          2,
          2,
          2,
          1
         ],
         "yaxis": "y"
        },
        {
         "hovertemplate": "Genre=Crime<br>Year=%{x|%Y}<br>Number of Movies=%{y}<extra></extra>",
         "legendgroup": "Crime",
         "line": {
          "color": "#FFA15A",
          "dash": "solid"
         },
         "marker": {
          "symbol": "circle"
         },
         "mode": "lines",
         "name": "Crime",
         "showlegend": true,
         "type": "scattergl",
         "x": [
          1894,
          1895,
          1896,
          1897,
          1898,
          1899,
          1900,
          1901,
          1902,
          1903,
          1904,
          1905,
          1906,
          1907,
          1908,
          1909,
          1910,
          1911,
          1912,
          1913,
          1914,
          1915,
          1916,
          1917,
          1918,
          1919,
          1920,
          1921,
          1922,
          1923,
          1924,
          1925,
          1926,
          1927,
          1928,
          1929,
          1930,
          1931,
          1932,
          1933,
          1934,
          1935,
          1936,
          1937,
          1938,
          1939,
          1940,
          1941,
          1942,
          1943,
          1944,
          1945,
          1946,
          1947,
          1948,
          1949,
          1950,
          1951,
          1952,
          1953,
          1954,
          1955,
          1956,
          1957,
          1958,
          1959,
          1960,
          1961,
          1962,
          1963,
          1964,
          1965,
          1966,
          1967,
          1968,
          1969,
          1970,
          1971,
          1972,
          1973,
          1974,
          1975,
          1976,
          1977,
          1978,
          1979,
          1980,
          1981,
          1982,
          1983,
          1984,
          1985,
          1986,
          1987,
          1988,
          1989,
          1990,
          1991,
          1992,
          1993,
          1994,
          1995,
          1996,
          1997,
          1998,
          1999,
          2000,
          2001,
          2002,
          2003,
          2004,
          2005,
          2006,
          2007,
          2008,
          2009,
          2010,
          2011,
          2012,
          2013,
          2014,
          2015,
          2016,
          2017,
          2018,
          2019,
          2020,
          2021,
          2022,
          2023,
          2024,
          2025,
          2026
         ],
         "xaxis": "x",
         "y": [
          1,
          1,
          1,
          5,
          2,
          1,
          2,
          5,
          3,
          8,
          7,
          13,
          15,
          7,
          16,
          15,
          6,
          15,
          24,
          37,
          39,
          45,
          39,
          45,
          26,
          40,
          45,
          57,
          50,
          55,
          32,
          25,
          40,
          36,
          54,
          91,
          99,
          130,
          131,
          100,
          93,
          120,
          140,
          139,
          144,
          168,
          115,
          90,
          102,
          68,
          73,
          79,
          114,
          119,
          120,
          141,
          180,
          144,
          108,
          143,
          142,
          168,
          148,
          188,
          192,
          179,
          228,
          198,
          175,
          198,
          182,
          179,
          242,
          261,
          263,
          256,
          247,
          251,
          275,
          328,
          292,
          277,
          277,
          242,
          208,
          210,
          216,
          221,
          211,
          216,
          229,
          251,
          281,
          272,
          309,
          332,
          334,
          312,
          329,
          351,
          327,
          320,
          352,
          331,
          335,
          335,
          348,
          383,
          363,
          368,
          337,
          346,
          391,
          422,
          438,
          435,
          444,
          475,
          533,
          624,
          607,
          723,
          759,
          872,
          894,
          1029,
          792,
          1043,
          1142,
          1202,
          283,
          10,
          1
         ],
         "yaxis": "y"
        },
        {
         "hovertemplate": "Genre=Documentary<br>Year=%{x|%Y}<br>Number of Movies=%{y}<extra></extra>",
         "legendgroup": "Documentary",
         "line": {
          "color": "#19d3f3",
          "dash": "solid"
         },
         "marker": {
          "symbol": "circle"
         },
         "mode": "lines",
         "name": "Documentary",
         "showlegend": true,
         "type": "scattergl",
         "x": [
          1865,
          1874,
          1878,
          1882,
          1883,
          1887,
          1888,
          1889,
          1890,
          1891,
          1892,
          1893,
          1894,
          1895,
          1896,
          1897,
          1898,
          1899,
          1900,
          1901,
          1902,
          1903,
          1904,
          1905,
          1906,
          1907,
          1908,
          1909,
          1910,
          1911,
          1912,
          1913,
          1914,
          1915,
          1916,
          1917,
          1918,
          1919,
          1920,
          1921,
          1922,
          1923,
          1924,
          1925,
          1926,
          1927,
          1928,
          1929,
          1930,
          1931,
          1932,
          1933,
          1934,
          1935,
          1936,
          1937,
          1938,
          1939,
          1940,
          1941,
          1942,
          1943,
          1944,
          1945,
          1946,
          1947,
          1948,
          1949,
          1950,
          1951,
          1952,
          1953,
          1954,
          1955,
          1956,
          1957,
          1958,
          1959,
          1960,
          1961,
          1962,
          1963,
          1964,
          1965,
          1966,
          1967,
          1968,
          1969,
          1970,
          1971,
          1972,
          1973,
          1974,
          1975,
          1976,
          1977,
          1978,
          1979,
          1980,
          1981,
          1982,
          1983,
          1984,
          1985,
          1986,
          1987,
          1988,
          1989,
          1990,
          1991,
          1992,
          1993,
          1994,
          1995,
          1996,
          1997,
          1998,
          1999,
          2000,
          2001,
          2002,
          2003,
          2004,
          2005,
          2006,
          2007,
          2008,
          2009,
          2010,
          2011,
          2012,
          2013,
          2014,
          2015,
          2016,
          2017,
          2018,
          2019,
          2020,
          2021,
          2022,
          2023,
          2024,
          2025,
          2028,
          2074
         ],
         "xaxis": "x",
         "y": [
          2,
          1,
          1,
          1,
          1,
          2,
          5,
          2,
          7,
          7,
          3,
          4,
          25,
          30,
          344,
          380,
          167,
          120,
          104,
          73,
          54,
          67,
          61,
          63,
          51,
          48,
          52,
          49,
          67,
          63,
          65,
          77,
          40,
          47,
          31,
          31,
          38,
          34,
          60,
          36,
          68,
          53,
          55,
          60,
          87,
          71,
          94,
          131,
          116,
          87,
          111,
          102,
          89,
          104,
          116,
          159,
          151,
          126,
          134,
          118,
          154,
          215,
          211,
          270,
          191,
          196,
          223,
          272,
          288,
          315,
          274,
          221,
          247,
          248,
          225,
          212,
          207,
          221,
          252,
          270,
          270,
          335,
          380,
          409,
          422,
          471,
          503,
          520,
          561,
          554,
          520,
          502,
          549,
          584,
          514,
          497,
          567,
          519,
          504,
          535,
          529,
          598,
          546,
          594,
          570,
          658,
          670,
          831,
          787,
          830,
          813,
          828,
          935,
          924,
          894,
          1073,
          1051,
          1179,
          1263,
          1485,
          1754,
          1950,
          2280,
          2475,
          2893,
          2970,
          3118,
          3368,
          3418,
          3708,
          4174,
          4540,
          5058,
          5473,
          5581,
          6587,
          6967,
          8232,
          8631,
          9057,
          8720,
          7846,
          1317,
          8,
          1,
          1
         ],
         "yaxis": "y"
        },
        {
         "hovertemplate": "Genre=Drama<br>Year=%{x|%Y}<br>Number of Movies=%{y}<extra></extra>",
         "legendgroup": "Drama",
         "line": {
          "color": "#FF6692",
          "dash": "solid"
         },
         "marker": {
          "symbol": "circle"
         },
         "mode": "lines",
         "name": "Drama",
         "showlegend": true,
         "type": "scattergl",
         "x": [
          1893,
          1894,
          1895,
          1896,
          1897,
          1898,
          1899,
          1900,
          1901,
          1902,
          1903,
          1904,
          1905,
          1906,
          1907,
          1908,
          1909,
          1910,
          1911,
          1912,
          1913,
          1914,
          1915,
          1916,
          1917,
          1918,
          1919,
          1920,
          1921,
          1922,
          1923,
          1924,
          1925,
          1926,
          1927,
          1928,
          1929,
          1930,
          1931,
          1932,
          1933,
          1934,
          1935,
          1936,
          1937,
          1938,
          1939,
          1940,
          1941,
          1942,
          1943,
          1944,
          1945,
          1946,
          1947,
          1948,
          1949,
          1950,
          1951,
          1952,
          1953,
          1954,
          1955,
          1956,
          1957,
          1958,
          1959,
          1960,
          1961,
          1962,
          1963,
          1964,
          1965,
          1966,
          1967,
          1968,
          1969,
          1970,
          1971,
          1972,
          1973,
          1974,
          1975,
          1976,
          1977,
          1978,
          1979,
          1980,
          1981,
          1982,
          1983,
          1984,
          1985,
          1986,
          1987,
          1988,
          1989,
          1990,
          1991,
          1992,
          1993,
          1994,
          1995,
          1996,
          1997,
          1998,
          1999,
          2000,
          2001,
          2002,
          2003,
          2004,
          2005,
          2006,
          2007,
          2008,
          2009,
          2010,
          2011,
          2012,
          2013,
          2014,
          2015,
          2016,
          2017,
          2018,
          2019,
          2020,
          2021,
          2022,
          2023,
          2024,
          2025,
          2026,
          2027,
          2028,
          2029,
          2040,
          2099
         ],
         "xaxis": "x",
         "y": [
          2,
          2,
          1,
          8,
          13,
          22,
          8,
          11,
          14,
          5,
          19,
          15,
          31,
          33,
          35,
          78,
          112,
          130,
          228,
          357,
          433,
          499,
          458,
          518,
          491,
          447,
          386,
          420,
          360,
          346,
          391,
          391,
          382,
          394,
          445,
          486,
          497,
          444,
          497,
          486,
          466,
          488,
          486,
          545,
          546,
          540,
          590,
          502,
          468,
          462,
          450,
          372,
          362,
          421,
          502,
          522,
          588,
          618,
          631,
          657,
          687,
          719,
          813,
          834,
          935,
          909,
          881,
          975,
          956,
          988,
          963,
          1014,
          1050,
          1045,
          1135,
          1252,
          1377,
          1386,
          1361,
          1378,
          1372,
          1387,
          1392,
          1387,
          1418,
          1539,
          1560,
          1526,
          1546,
          1570,
          1609,
          1646,
          1554,
          1643,
          1642,
          1621,
          1699,
          1568,
          1526,
          1536,
          1572,
          1601,
          1671,
          1689,
          1729,
          1740,
          1797,
          1879,
          1987,
          2094,
          2205,
          2283,
          2592,
          2841,
          3022,
          3318,
          3547,
          3647,
          4090,
          4367,
          5066,
          5441,
          5957,
          6316,
          7244,
          7831,
          8520,
          7697,
          8914,
          9770,
          9555,
          1792,
          40,
          2,
          2,
          1,
          1,
          1,
          1
         ],
         "yaxis": "y"
        },
        {
         "hovertemplate": "Genre=Family<br>Year=%{x|%Y}<br>Number of Movies=%{y}<extra></extra>",
         "legendgroup": "Family",
         "line": {
          "color": "#B6E880",
          "dash": "solid"
         },
         "marker": {
          "symbol": "circle"
         },
         "mode": "lines",
         "name": "Family",
         "showlegend": true,
         "type": "scattergl",
         "x": [
          1895,
          1896,
          1897,
          1898,
          1899,
          1900,
          1901,
          1902,
          1903,
          1905,
          1906,
          1907,
          1908,
          1909,
          1910,
          1911,
          1912,
          1913,
          1914,
          1915,
          1916,
          1917,
          1918,
          1919,
          1920,
          1921,
          1922,
          1923,
          1924,
          1925,
          1926,
          1927,
          1928,
          1929,
          1930,
          1931,
          1932,
          1933,
          1934,
          1935,
          1936,
          1937,
          1938,
          1939,
          1940,
          1941,
          1942,
          1943,
          1944,
          1945,
          1946,
          1947,
          1948,
          1949,
          1950,
          1951,
          1952,
          1953,
          1954,
          1955,
          1956,
          1957,
          1958,
          1959,
          1960,
          1961,
          1962,
          1963,
          1964,
          1965,
          1966,
          1967,
          1968,
          1969,
          1970,
          1971,
          1972,
          1973,
          1974,
          1975,
          1976,
          1977,
          1978,
          1979,
          1980,
          1981,
          1982,
          1983,
          1984,
          1985,
          1986,
          1987,
          1988,
          1989,
          1990,
          1991,
          1992,
          1993,
          1994,
          1995,
          1996,
          1997,
          1998,
          1999,
          2000,
          2001,
          2002,
          2003,
          2004,
          2005,
          2006,
          2007,
          2008,
          2009,
          2010,
          2011,
          2012,
          2013,
          2014,
          2015,
          2016,
          2017,
          2018,
          2019,
          2020,
          2021,
          2022,
          2023,
          2024,
          2025,
          2026
         ],
         "xaxis": "x",
         "y": [
          2,
          1,
          4,
          3,
          1,
          2,
          1,
          1,
          1,
          2,
          1,
          1,
          1,
          1,
          1,
          2,
          6,
          2,
          5,
          1,
          2,
          7,
          4,
          1,
          7,
          8,
          12,
          14,
          13,
          13,
          6,
          4,
          7,
          18,
          10,
          13,
          17,
          21,
          31,
          39,
          49,
          62,
          49,
          47,
          57,
          56,
          47,
          33,
          40,
          29,
          39,
          47,
          48,
          51,
          72,
          69,
          72,
          101,
          88,
          106,
          110,
          110,
          109,
          116,
          126,
          130,
          114,
          110,
          100,
          96,
          118,
          137,
          147,
          148,
          166,
          164,
          197,
          198,
          198,
          167,
          202,
          209,
          224,
          241,
          189,
          210,
          254,
          223,
          260,
          244,
          271,
          293,
          290,
          269,
          258,
          248,
          241,
          262,
          282,
          288,
          294,
          304,
          304,
          285,
          303,
          320,
          360,
          415,
          435,
          480,
          499,
          509,
          544,
          531,
          573,
          670,
          638,
          674,
          776,
          735,
          704,
          816,
          806,
          870,
          747,
          845,
          908,
          952,
          181,
          9,
          2
         ],
         "yaxis": "y"
        },
        {
         "hovertemplate": "Genre=Fantasy<br>Year=%{x|%Y}<br>Number of Movies=%{y}<extra></extra>",
         "legendgroup": "Fantasy",
         "line": {
          "color": "#FF97FF",
          "dash": "solid"
         },
         "marker": {
          "symbol": "circle"
         },
         "mode": "lines",
         "name": "Fantasy",
         "showlegend": true,
         "type": "scattergl",
         "x": [
          1896,
          1897,
          1898,
          1899,
          1900,
          1901,
          1902,
          1903,
          1904,
          1905,
          1906,
          1907,
          1908,
          1909,
          1910,
          1911,
          1912,
          1913,
          1914,
          1915,
          1916,
          1917,
          1918,
          1919,
          1920,
          1921,
          1922,
          1923,
          1924,
          1925,
          1926,
          1927,
          1928,
          1929,
          1930,
          1931,
          1932,
          1933,
          1934,
          1935,
          1936,
          1937,
          1938,
          1939,
          1940,
          1941,
          1942,
          1943,
          1944,
          1945,
          1946,
          1947,
          1948,
          1949,
          1950,
          1951,
          1952,
          1953,
          1954,
          1955,
          1956,
          1957,
          1958,
          1959,
          1960,
          1961,
          1962,
          1963,
          1964,
          1965,
          1966,
          1967,
          1968,
          1969,
          1970,
          1971,
          1972,
          1973,
          1974,
          1975,
          1976,
          1977,
          1978,
          1979,
          1980,
          1981,
          1982,
          1983,
          1984,
          1985,
          1986,
          1987,
          1988,
          1989,
          1990,
          1991,
          1992,
          1993,
          1994,
          1995,
          1996,
          1997,
          1998,
          1999,
          2000,
          2001,
          2002,
          2003,
          2004,
          2005,
          2006,
          2007,
          2008,
          2009,
          2010,
          2011,
          2012,
          2013,
          2014,
          2015,
          2016,
          2017,
          2018,
          2019,
          2020,
          2021,
          2022,
          2023,
          2024,
          2025,
          2026,
          2028,
          2029,
          2030
         ],
         "xaxis": "x",
         "y": [
          4,
          4,
          12,
          11,
          22,
          24,
          14,
          27,
          18,
          18,
          27,
          38,
          36,
          34,
          28,
          16,
          15,
          20,
          10,
          9,
          12,
          19,
          12,
          11,
          13,
          27,
          17,
          17,
          17,
          17,
          14,
          13,
          12,
          11,
          13,
          13,
          23,
          23,
          20,
          24,
          18,
          19,
          14,
          7,
          24,
          21,
          23,
          19,
          27,
          23,
          24,
          34,
          27,
          29,
          28,
          34,
          31,
          37,
          51,
          57,
          39,
          52,
          47,
          58,
          68,
          70,
          58,
          72,
          70,
          71,
          85,
          74,
          92,
          86,
          108,
          109,
          121,
          127,
          126,
          111,
          108,
          117,
          130,
          144,
          118,
          137,
          162,
          190,
          178,
          198,
          183,
          222,
          238,
          213,
          213,
          203,
          192,
          182,
          232,
          197,
          203,
          191,
          227,
          202,
          199,
          192,
          212,
          203,
          231,
          248,
          269,
          278,
          292,
          364,
          371,
          421,
          437,
          517,
          554,
          624,
          655,
          813,
          858,
          882,
          918,
          976,
          1071,
          989,
          201,
          19,
          3,
          1,
          1,
          1
         ],
         "yaxis": "y"
        },
        {
         "hovertemplate": "Genre=History<br>Year=%{x|%Y}<br>Number of Movies=%{y}<extra></extra>",
         "legendgroup": "History",
         "line": {
          "color": "#FECB52",
          "dash": "solid"
         },
         "marker": {
          "symbol": "circle"
         },
         "mode": "lines",
         "name": "History",
         "showlegend": true,
         "type": "scattergl",
         "x": [
          1895,
          1897,
          1898,
          1899,
          1900,
          1901,
          1902,
          1903,
          1904,
          1905,
          1906,
          1907,
          1908,
          1909,
          1910,
          1911,
          1912,
          1913,
          1914,
          1915,
          1916,
          1917,
          1918,
          1919,
          1920,
          1921,
          1922,
          1923,
          1924,
          1925,
          1926,
          1927,
          1928,
          1929,
          1930,
          1931,
          1932,
          1933,
          1934,
          1935,
          1936,
          1937,
          1938,
          1939,
          1940,
          1941,
          1942,
          1943,
          1944,
          1945,
          1946,
          1947,
          1948,
          1949,
          1950,
          1951,
          1952,
          1953,
          1954,
          1955,
          1956,
          1957,
          1958,
          1959,
          1960,
          1961,
          1962,
          1963,
          1964,
          1965,
          1966,
          1967,
          1968,
          1969,
          1970,
          1971,
          1972,
          1973,
          1974,
          1975,
          1976,
          1977,
          1978,
          1979,
          1980,
          1981,
          1982,
          1983,
          1984,
          1985,
          1986,
          1987,
          1988,
          1989,
          1990,
          1991,
          1992,
          1993,
          1994,
          1995,
          1996,
          1997,
          1998,
          1999,
          2000,
          2001,
          2002,
          2003,
          2004,
          2005,
          2006,
          2007,
          2008,
          2009,
          2010,
          2011,
          2012,
          2013,
          2014,
          2015,
          2016,
          2017,
          2018,
          2019,
          2020,
          2021,
          2022,
          2023,
          2024,
          2025,
          2030
         ],
         "xaxis": "x",
         "y": [
          1,
          12,
          16,
          2,
          3,
          2,
          1,
          4,
          4,
          5,
          5,
          4,
          10,
          21,
          20,
          19,
          24,
          26,
          20,
          17,
          16,
          14,
          21,
          17,
          17,
          14,
          23,
          24,
          23,
          23,
          23,
          27,
          33,
          24,
          19,
          24,
          20,
          23,
          33,
          48,
          51,
          57,
          59,
          65,
          46,
          48,
          54,
          47,
          38,
          34,
          35,
          30,
          41,
          46,
          35,
          60,
          56,
          68,
          59,
          72,
          71,
          62,
          69,
          90,
          73,
          93,
          94,
          76,
          98,
          87,
          80,
          71,
          87,
          93,
          95,
          114,
          102,
          95,
          89,
          116,
          93,
          96,
          96,
          107,
          96,
          135,
          90,
          115,
          120,
          95,
          108,
          108,
          92,
          147,
          104,
          123,
          107,
          125,
          125,
          118,
          112,
          143,
          125,
          115,
          132,
          138,
          144,
          201,
          195,
          212,
          244,
          247,
          264,
          306,
          302,
          334,
          361,
          386,
          464,
          486,
          452,
          534,
          547,
          674,
          519,
          616,
          604,
          558,
          103,
          2,
          1
         ],
         "yaxis": "y"
        },
        {
         "hovertemplate": "Genre=Horror<br>Year=%{x|%Y}<br>Number of Movies=%{y}<extra></extra>",
         "legendgroup": "Horror",
         "line": {
          "color": "#636efa",
          "dash": "solid"
         },
         "marker": {
          "symbol": "circle"
         },
         "mode": "lines",
         "name": "Horror",
         "showlegend": true,
         "type": "scattergl",
         "x": [
          1895,
          1896,
          1897,
          1898,
          1899,
          1900,
          1901,
          1902,
          1903,
          1904,
          1905,
          1906,
          1907,
          1908,
          1909,
          1910,
          1911,
          1912,
          1913,
          1914,
          1915,
          1916,
          1917,
          1918,
          1919,
          1920,
          1921,
          1922,
          1923,
          1924,
          1925,
          1926,
          1927,
          1928,
          1929,
          1930,
          1931,
          1932,
          1933,
          1934,
          1935,
          1936,
          1937,
          1938,
          1939,
          1940,
          1941,
          1942,
          1943,
          1944,
          1945,
          1946,
          1947,
          1948,
          1949,
          1950,
          1951,
          1952,
          1953,
          1954,
          1955,
          1956,
          1957,
          1958,
          1959,
          1960,
          1961,
          1962,
          1963,
          1964,
          1965,
          1966,
          1967,
          1968,
          1969,
          1970,
          1971,
          1972,
          1973,
          1974,
          1975,
          1976,
          1977,
          1978,
          1979,
          1980,
          1981,
          1982,
          1983,
          1984,
          1985,
          1986,
          1987,
          1988,
          1989,
          1990,
          1991,
          1992,
          1993,
          1994,
          1995,
          1996,
          1997,
          1998,
          1999,
          2000,
          2001,
          2002,
          2003,
          2004,
          2005,
          2006,
          2007,
          2008,
          2009,
          2010,
          2011,
          2012,
          2013,
          2014,
          2015,
          2016,
          2017,
          2018,
          2019,
          2020,
          2021,
          2022,
          2023,
          2024,
          2025,
          2026,
          2027,
          2029
         ],
         "xaxis": "x",
         "y": [
          1,
          3,
          8,
          7,
          7,
          8,
          3,
          2,
          3,
          1,
          1,
          2,
          8,
          7,
          16,
          21,
          9,
          17,
          14,
          28,
          19,
          19,
          17,
          10,
          15,
          21,
          22,
          14,
          13,
          13,
          12,
          12,
          13,
          17,
          16,
          6,
          17,
          29,
          26,
          18,
          19,
          25,
          22,
          10,
          33,
          24,
          21,
          21,
          19,
          21,
          23,
          22,
          14,
          13,
          25,
          17,
          17,
          17,
          27,
          37,
          31,
          42,
          75,
          77,
          71,
          78,
          66,
          76,
          82,
          92,
          83,
          75,
          105,
          110,
          129,
          148,
          185,
          232,
          228,
          216,
          185,
          173,
          150,
          151,
          147,
          210,
          249,
          237,
          197,
          182,
          241,
          249,
          357,
          443,
          440,
          375,
          326,
          304,
          269,
          247,
          276,
          294,
          277,
          301,
          352,
          387,
          392,
          456,
          507,
          634,
          694,
          846,
          876,
          890,
          955,
          976,
          1106,
          1240,
          1375,
          1622,
          1727,
          1835,
          2068,
          2129,
          2301,
          2532,
          2510,
          2913,
          2893,
          581,
          19,
          6,
          1,
          2
         ],
         "yaxis": "y"
        },
        {
         "hovertemplate": "Genre=Music<br>Year=%{x|%Y}<br>Number of Movies=%{y}<extra></extra>",
         "legendgroup": "Music",
         "line": {
          "color": "#EF553B",
          "dash": "solid"
         },
         "marker": {
          "symbol": "circle"
         },
         "mode": "lines",
         "name": "Music",
         "showlegend": true,
         "type": "scattergl",
         "x": [
          1894,
          1898,
          1899,
          1900,
          1903,
          1905,
          1906,
          1907,
          1908,
          1909,
          1910,
          1911,
          1913,
          1914,
          1915,
          1917,
          1919,
          1921,
          1922,
          1923,
          1924,
          1925,
          1926,
          1927,
          1928,
          1929,
          1930,
          1931,
          1932,
          1933,
          1934,
          1935,
          1936,
          1937,
          1938,
          1939,
          1940,
          1941,
          1942,
          1943,
          1944,
          1945,
          1946,
          1947,
          1948,
          1949,
          1950,
          1951,
          1952,
          1953,
          1954,
          1955,
          1956,
          1957,
          1958,
          1959,
          1960,
          1961,
          1962,
          1963,
          1964,
          1965,
          1966,
          1967,
          1968,
          1969,
          1970,
          1971,
          1972,
          1973,
          1974,
          1975,
          1976,
          1977,
          1978,
          1979,
          1980,
          1981,
          1982,
          1983,
          1984,
          1985,
          1986,
          1987,
          1988,
          1989,
          1990,
          1991,
          1992,
          1993,
          1994,
          1995,
          1996,
          1997,
          1998,
          1999,
          2000,
          2001,
          2002,
          2003,
          2004,
          2005,
          2006,
          2007,
          2008,
          2009,
          2010,
          2011,
          2012,
          2013,
          2014,
          2015,
          2016,
          2017,
          2018,
          2019,
          2020,
          2021,
          2022,
          2023,
          2024,
          2025,
          2026
         ],
         "xaxis": "x",
         "y": [
          1,
          1,
          1,
          3,
          1,
          7,
          3,
          4,
          11,
          1,
          3,
          3,
          4,
          1,
          1,
          1,
          1,
          2,
          1,
          2,
          1,
          1,
          19,
          13,
          29,
          104,
          192,
          94,
          98,
          135,
          135,
          136,
          145,
          133,
          132,
          109,
          119,
          133,
          131,
          153,
          160,
          138,
          129,
          111,
          101,
          115,
          79,
          119,
          108,
          119,
          104,
          127,
          146,
          125,
          126,
          112,
          117,
          108,
          130,
          137,
          163,
          161,
          160,
          194,
          185,
          190,
          200,
          142,
          171,
          169,
          145,
          143,
          174,
          182,
          213,
          223,
          232,
          224,
          245,
          247,
          273,
          316,
          262,
          284,
          242,
          279,
          332,
          350,
          325,
          310,
          258,
          324,
          276,
          343,
          347,
          375,
          428,
          600,
          718,
          928,
          1127,
          1244,
          1207,
          1200,
          1185,
          1184,
          1116,
          1307,
          1338,
          1361,
          1358,
          1463,
          1367,
          1531,
          1446,
          1632,
          1705,
          1755,
          1870,
          1785,
          292,
          3,
          1
         ],
         "yaxis": "y"
        },
        {
         "hovertemplate": "Genre=Mystery<br>Year=%{x|%Y}<br>Number of Movies=%{y}<extra></extra>",
         "legendgroup": "Mystery",
         "line": {
          "color": "#00cc96",
          "dash": "solid"
         },
         "marker": {
          "symbol": "circle"
         },
         "mode": "lines",
         "name": "Mystery",
         "showlegend": true,
         "type": "scattergl",
         "x": [
          1896,
          1897,
          1898,
          1900,
          1904,
          1908,
          1909,
          1910,
          1911,
          1912,
          1913,
          1914,
          1915,
          1916,
          1917,
          1918,
          1919,
          1920,
          1921,
          1922,
          1923,
          1924,
          1925,
          1926,
          1927,
          1928,
          1929,
          1930,
          1931,
          1932,
          1933,
          1934,
          1935,
          1936,
          1937,
          1938,
          1939,
          1940,
          1941,
          1942,
          1943,
          1944,
          1945,
          1946,
          1947,
          1948,
          1949,
          1950,
          1951,
          1952,
          1953,
          1954,
          1955,
          1956,
          1957,
          1958,
          1959,
          1960,
          1961,
          1962,
          1963,
          1964,
          1965,
          1966,
          1967,
          1968,
          1969,
          1970,
          1971,
          1972,
          1973,
          1974,
          1975,
          1976,
          1977,
          1978,
          1979,
          1980,
          1981,
          1982,
          1983,
          1984,
          1985,
          1986,
          1987,
          1988,
          1989,
          1990,
          1991,
          1992,
          1993,
          1994,
          1995,
          1996,
          1997,
          1998,
          1999,
          2000,
          2001,
          2002,
          2003,
          2004,
          2005,
          2006,
          2007,
          2008,
          2009,
          2010,
          2011,
          2012,
          2013,
          2014,
          2015,
          2016,
          2017,
          2018,
          2019,
          2020,
          2021,
          2022,
          2023,
          2024,
          2025,
          2029
         ],
         "xaxis": "x",
         "y": [
          1,
          3,
          2,
          1,
          1,
          2,
          4,
          2,
          5,
          5,
          7,
          17,
          16,
          20,
          28,
          19,
          24,
          18,
          48,
          28,
          28,
          11,
          4,
          15,
          14,
          19,
          37,
          32,
          46,
          69,
          54,
          64,
          63,
          66,
          67,
          67,
          65,
          61,
          60,
          75,
          44,
          65,
          69,
          81,
          75,
          51,
          41,
          42,
          36,
          30,
          35,
          37,
          38,
          51,
          52,
          58,
          64,
          53,
          71,
          61,
          51,
          63,
          63,
          58,
          69,
          65,
          71,
          68,
          87,
          119,
          90,
          92,
          105,
          78,
          69,
          88,
          91,
          88,
          99,
          102,
          102,
          105,
          94,
          102,
          120,
          120,
          122,
          94,
          115,
          124,
          129,
          121,
          121,
          112,
          113,
          122,
          125,
          149,
          174,
          178,
          154,
          181,
          210,
          256,
          286,
          279,
          286,
          318,
          340,
          384,
          431,
          520,
          570,
          634,
          683,
          744,
          785,
          701,
          937,
          1071,
          1108,
          223,
          4,
          2
         ],
         "yaxis": "y"
        },
        {
         "hovertemplate": "Genre=Romance<br>Year=%{x|%Y}<br>Number of Movies=%{y}<extra></extra>",
         "legendgroup": "Romance",
         "line": {
          "color": "#ab63fa",
          "dash": "solid"
         },
         "marker": {
          "symbol": "circle"
         },
         "mode": "lines",
         "name": "Romance",
         "showlegend": true,
         "type": "scattergl",
         "x": [
          1894,
          1896,
          1898,
          1899,
          1900,
          1901,
          1903,
          1904,
          1905,
          1906,
          1907,
          1908,
          1909,
          1910,
          1911,
          1912,
          1913,
          1914,
          1915,
          1916,
          1917,
          1918,
          1919,
          1920,
          1921,
          1922,
          1923,
          1924,
          1925,
          1926,
          1927,
          1928,
          1929,
          1930,
          1931,
          1932,
          1933,
          1934,
          1935,
          1936,
          1937,
          1938,
          1939,
          1940,
          1941,
          1942,
          1943,
          1944,
          1945,
          1946,
          1947,
          1948,
          1949,
          1950,
          1951,
          1952,
          1953,
          1954,
          1955,
          1956,
          1957,
          1958,
          1959,
          1960,
          1961,
          1962,
          1963,
          1964,
          1965,
          1966,
          1967,
          1968,
          1969,
          1970,
          1971,
          1972,
          1973,
          1974,
          1975,
          1976,
          1977,
          1978,
          1979,
          1980,
          1981,
          1982,
          1983,
          1984,
          1985,
          1986,
          1987,
          1988,
          1989,
          1990,
          1991,
          1992,
          1993,
          1994,
          1995,
          1996,
          1997,
          1998,
          1999,
          2000,
          2001,
          2002,
          2003,
          2004,
          2005,
          2006,
          2007,
          2008,
          2009,
          2010,
          2011,
          2012,
          2013,
          2014,
          2015,
          2016,
          2017,
          2018,
          2019,
          2020,
          2021,
          2022,
          2023,
          2024,
          2025,
          2026,
          2027,
          2029
         ],
         "xaxis": "x",
         "y": [
          1,
          2,
          2,
          2,
          4,
          4,
          3,
          3,
          2,
          3,
          4,
          10,
          12,
          29,
          53,
          84,
          68,
          68,
          62,
          48,
          67,
          74,
          80,
          67,
          85,
          96,
          82,
          95,
          100,
          165,
          151,
          147,
          155,
          213,
          190,
          186,
          181,
          206,
          248,
          205,
          254,
          237,
          170,
          173,
          199,
          174,
          147,
          137,
          122,
          131,
          153,
          167,
          148,
          146,
          157,
          183,
          200,
          198,
          246,
          222,
          207,
          228,
          200,
          210,
          193,
          199,
          188,
          201,
          234,
          252,
          231,
          256,
          235,
          249,
          249,
          246,
          204,
          225,
          229,
          249,
          210,
          257,
          248,
          271,
          267,
          302,
          288,
          329,
          314,
          311,
          346,
          324,
          308,
          326,
          339,
          376,
          397,
          368,
          443,
          404,
          479,
          485,
          553,
          541,
          605,
          624,
          667,
          653,
          738,
          766,
          810,
          919,
          959,
          1014,
          1059,
          1166,
          1253,
          1393,
          1505,
          1660,
          1791,
          1922,
          1962,
          1779,
          1856,
          2069,
          1998,
          372,
          9,
          2,
          1,
          1
         ],
         "yaxis": "y"
        },
        {
         "hovertemplate": "Genre=ScienceFiction<br>Year=%{x|%Y}<br>Number of Movies=%{y}<extra></extra>",
         "legendgroup": "ScienceFiction",
         "line": {
          "color": "#FFA15A",
          "dash": "solid"
         },
         "marker": {
          "symbol": "circle"
         },
         "mode": "lines",
         "name": "ScienceFiction",
         "showlegend": true,
         "type": "scattergl",
         "x": [
          1896,
          1899,
          1900,
          1901,
          1902,
          1904,
          1905,
          1906,
          1907,
          1908,
          1909,
          1910,
          1911,
          1912,
          1913,
          1914,
          1915,
          1916,
          1917,
          1918,
          1919,
          1920,
          1921,
          1922,
          1923,
          1924,
          1925,
          1926,
          1927,
          1928,
          1929,
          1930,
          1931,
          1932,
          1933,
          1934,
          1935,
          1936,
          1937,
          1938,
          1939,
          1940,
          1941,
          1942,
          1943,
          1944,
          1945,
          1946,
          1947,
          1948,
          1949,
          1950,
          1951,
          1952,
          1953,
          1954,
          1955,
          1956,
          1957,
          1958,
          1959,
          1960,
          1961,
          1962,
          1963,
          1964,
          1965,
          1966,
          1967,
          1968,
          1969,
          1970,
          1971,
          1972,
          1973,
          1974,
          1975,
          1976,
          1977,
          1978,
          1979,
          1980,
          1981,
          1982,
          1983,
          1984,
          1985,
          1986,
          1987,
          1988,
          1989,
          1990,
          1991,
          1992,
          1993,
          1994,
          1995,
          1996,
          1997,
          1998,
          1999,
          2000,
          2001,
          2002,
          2003,
          2004,
          2005,
          2006,
          2007,
          2008,
          2009,
          2010,
          2011,
          2012,
          2013,
          2014,
          2015,
          2016,
          2017,
          2018,
          2019,
          2020,
          2021,
          2022,
          2023,
          2024,
          2025,
          2026,
          2027,
          2029,
          2031,
          2099
         ],
         "xaxis": "x",
         "y": [
          1,
          1,
          2,
          2,
          2,
          1,
          2,
          4,
          2,
          7,
          3,
          4,
          5,
          4,
          6,
          4,
          6,
          18,
          3,
          7,
          5,
          9,
          6,
          3,
          3,
          9,
          9,
          3,
          4,
          2,
          7,
          4,
          3,
          8,
          9,
          9,
          12,
          13,
          8,
          11,
          11,
          17,
          7,
          6,
          4,
          9,
          7,
          3,
          2,
          9,
          7,
          7,
          20,
          15,
          29,
          27,
          27,
          37,
          49,
          56,
          47,
          30,
          31,
          42,
          39,
          50,
          78,
          80,
          89,
          70,
          68,
          66,
          69,
          71,
          79,
          78,
          77,
          66,
          93,
          94,
          109,
          123,
          93,
          113,
          135,
          150,
          160,
          189,
          200,
          191,
          212,
          156,
          150,
          152,
          147,
          175,
          182,
          206,
          199,
          181,
          199,
          169,
          207,
          181,
          233,
          207,
          241,
          253,
          274,
          304,
          364,
          377,
          406,
          467,
          555,
          618,
          691,
          733,
          796,
          822,
          869,
          898,
          1067,
          992,
          972,
          182,
          9,
          2,
          3,
          2,
          1,
          1
         ],
         "yaxis": "y"
        },
        {
         "hovertemplate": "Genre=TVMovie<br>Year=%{x|%Y}<br>Number of Movies=%{y}<extra></extra>",
         "legendgroup": "TVMovie",
         "line": {
          "color": "#19d3f3",
          "dash": "solid"
         },
         "marker": {
          "symbol": "circle"
         },
         "mode": "lines",
         "name": "TVMovie",
         "showlegend": true,
         "type": "scattergl",
         "x": [
          1930,
          1937,
          1938,
          1939,
          1942,
          1943,
          1944,
          1946,
          1947,
          1948,
          1949,
          1950,
          1951,
          1952,
          1953,
          1954,
          1955,
          1956,
          1957,
          1958,
          1959,
          1960,
          1961,
          1962,
          1963,
          1964,
          1965,
          1966,
          1967,
          1968,
          1969,
          1970,
          1971,
          1972,
          1973,
          1974,
          1975,
          1976,
          1977,
          1978,
          1979,
          1980,
          1981,
          1982,
          1983,
          1984,
          1985,
          1986,
          1987,
          1988,
          1989,
          1990,
          1991,
          1992,
          1993,
          1994,
          1995,
          1996,
          1997,
          1998,
          1999,
          2000,
          2001,
          2002,
          2003,
          2004,
          2005,
          2006,
          2007,
          2008,
          2009,
          2010,
          2011,
          2012,
          2013,
          2014,
          2015,
          2016,
          2017,
          2018,
          2019,
          2020,
          2021,
          2022,
          2023,
          2024,
          2025
         ],
         "xaxis": "x",
         "y": [
          1,
          2,
          2,
          3,
          2,
          1,
          1,
          4,
          1,
          4,
          7,
          7,
          4,
          5,
          11,
          25,
          39,
          24,
          32,
          39,
          41,
          51,
          40,
          50,
          49,
          71,
          89,
          93,
          114,
          129,
          135,
          191,
          183,
          226,
          254,
          303,
          243,
          234,
          281,
          340,
          352,
          367,
          329,
          297,
          353,
          305,
          307,
          360,
          330,
          332,
          376,
          351,
          339,
          324,
          351,
          372,
          335,
          399,
          326,
          342,
          350,
          337,
          330,
          319,
          358,
          318,
          362,
          400,
          384,
          381,
          382,
          347,
          394,
          383,
          389,
          465,
          526,
          573,
          623,
          640,
          745,
          657,
          924,
          886,
          685,
          83,
          1
         ],
         "yaxis": "y"
        },
        {
         "hovertemplate": "Genre=Thriller<br>Year=%{x|%Y}<br>Number of Movies=%{y}<extra></extra>",
         "legendgroup": "Thriller",
         "line": {
          "color": "#FF6692",
          "dash": "solid"
         },
         "marker": {
          "symbol": "circle"
         },
         "mode": "lines",
         "name": "Thriller",
         "showlegend": true,
         "type": "scattergl",
         "x": [
          1900,
          1902,
          1904,
          1906,
          1908,
          1909,
          1910,
          1911,
          1912,
          1913,
          1914,
          1915,
          1916,
          1917,
          1918,
          1919,
          1920,
          1921,
          1922,
          1923,
          1924,
          1925,
          1926,
          1927,
          1928,
          1929,
          1930,
          1931,
          1932,
          1933,
          1934,
          1935,
          1936,
          1937,
          1938,
          1939,
          1940,
          1941,
          1942,
          1943,
          1944,
          1945,
          1946,
          1947,
          1948,
          1949,
          1950,
          1951,
          1952,
          1953,
          1954,
          1955,
          1956,
          1957,
          1958,
          1959,
          1960,
          1961,
          1962,
          1963,
          1964,
          1965,
          1966,
          1967,
          1968,
          1969,
          1970,
          1971,
          1972,
          1973,
          1974,
          1975,
          1976,
          1977,
          1978,
          1979,
          1980,
          1981,
          1982,
          1983,
          1984,
          1985,
          1986,
          1987,
          1988,
          1989,
          1990,
          1991,
          1992,
          1993,
          1994,
          1995,
          1996,
          1997,
          1998,
          1999,
          2000,
          2001,
          2002,
          2003,
          2004,
          2005,
          2006,
          2007,
          2008,
          2009,
          2010,
          2011,
          2012,
          2013,
          2014,
          2015,
          2016,
          2017,
          2018,
          2019,
          2020,
          2021,
          2022,
          2023,
          2024,
          2025,
          2026,
          2027,
          2029
         ],
         "xaxis": "x",
         "y": [
          1,
          1,
          2,
          2,
          4,
          2,
          5,
          10,
          13,
          16,
          19,
          59,
          65,
          17,
          4,
          4,
          6,
          9,
          5,
          4,
          4,
          10,
          11,
          8,
          10,
          22,
          11,
          21,
          27,
          24,
          28,
          31,
          33,
          32,
          24,
          41,
          33,
          36,
          49,
          44,
          36,
          51,
          63,
          64,
          72,
          57,
          69,
          63,
          53,
          69,
          71,
          70,
          83,
          82,
          83,
          95,
          88,
          84,
          80,
          86,
          122,
          107,
          109,
          148,
          126,
          153,
          142,
          166,
          207,
          215,
          224,
          175,
          180,
          195,
          177,
          160,
          184,
          176,
          183,
          191,
          217,
          210,
          244,
          267,
          309,
          371,
          300,
          323,
          363,
          384,
          377,
          420,
          442,
          427,
          440,
          444,
          459,
          470,
          502,
          467,
          485,
          573,
          712,
          744,
          803,
          918,
          880,
          926,
          961,
          1174,
          1240,
          1406,
          1603,
          1728,
          1751,
          1876,
          1791,
          2145,
          2558,
          2656,
          588,
          25,
          1,
          1,
          3
         ],
         "yaxis": "y"
        },
        {
         "hovertemplate": "Genre=War<br>Year=%{x|%Y}<br>Number of Movies=%{y}<extra></extra>",
         "legendgroup": "War",
         "line": {
          "color": "#B6E880",
          "dash": "solid"
         },
         "marker": {
          "symbol": "circle"
         },
         "mode": "lines",
         "name": "War",
         "showlegend": true,
         "type": "scattergl",
         "x": [
          1896,
          1897,
          1898,
          1899,
          1900,
          1901,
          1902,
          1904,
          1905,
          1906,
          1908,
          1909,
          1910,
          1911,
          1912,
          1913,
          1914,
          1915,
          1916,
          1917,
          1918,
          1919,
          1920,
          1921,
          1922,
          1923,
          1924,
          1925,
          1926,
          1927,
          1928,
          1929,
          1930,
          1931,
          1932,
          1933,
          1934,
          1935,
          1936,
          1937,
          1938,
          1939,
          1940,
          1941,
          1942,
          1943,
          1944,
          1945,
          1946,
          1947,
          1948,
          1949,
          1950,
          1951,
          1952,
          1953,
          1954,
          1955,
          1956,
          1957,
          1958,
          1959,
          1960,
          1961,
          1962,
          1963,
          1964,
          1965,
          1966,
          1967,
          1968,
          1969,
          1970,
          1971,
          1972,
          1973,
          1974,
          1975,
          1976,
          1977,
          1978,
          1979,
          1980,
          1981,
          1982,
          1983,
          1984,
          1985,
          1986,
          1987,
          1988,
          1989,
          1990,
          1991,
          1992,
          1993,
          1994,
          1995,
          1996,
          1997,
          1998,
          1999,
          2000,
          2001,
          2002,
          2003,
          2004,
          2005,
          2006,
          2007,
          2008,
          2009,
          2010,
          2011,
          2012,
          2013,
          2014,
          2015,
          2016,
          2017,
          2018,
          2019,
          2020,
          2021,
          2022,
          2023,
          2024,
          2025
         ],
         "xaxis": "x",
         "y": [
          1,
          4,
          4,
          7,
          10,
          1,
          1,
          3,
          2,
          1,
          1,
          6,
          8,
          13,
          6,
          19,
          27,
          36,
          25,
          36,
          67,
          16,
          5,
          5,
          3,
          5,
          5,
          13,
          25,
          31,
          36,
          18,
          31,
          27,
          22,
          29,
          26,
          22,
          26,
          40,
          40,
          50,
          56,
          89,
          156,
          187,
          184,
          131,
          67,
          36,
          38,
          50,
          46,
          60,
          48,
          66,
          59,
          71,
          70,
          80,
          115,
          124,
          104,
          91,
          94,
          84,
          100,
          100,
          108,
          116,
          110,
          107,
          126,
          104,
          76,
          65,
          87,
          93,
          91,
          79,
          69,
          92,
          80,
          90,
          85,
          94,
          89,
          98,
          107,
          89,
          102,
          109,
          70,
          59,
          55,
          71,
          61,
          71,
          56,
          56,
          69,
          56,
          60,
          80,
          74,
          92,
          97,
          110,
          117,
          105,
          129,
          125,
          160,
          160,
          166,
          155,
          216,
          208,
          223,
          226,
          222,
          245,
          196,
          220,
          216,
          211,
          36,
          2
         ],
         "yaxis": "y"
        },
        {
         "hovertemplate": "Genre=Western<br>Year=%{x|%Y}<br>Number of Movies=%{y}<extra></extra>",
         "legendgroup": "Western",
         "line": {
          "color": "#FF97FF",
          "dash": "solid"
         },
         "marker": {
          "symbol": "circle"
         },
         "mode": "lines",
         "name": "Western",
         "showlegend": true,
         "type": "scattergl",
         "x": [
          1894,
          1896,
          1898,
          1899,
          1903,
          1904,
          1906,
          1907,
          1908,
          1909,
          1910,
          1911,
          1912,
          1913,
          1914,
          1915,
          1916,
          1917,
          1918,
          1919,
          1920,
          1921,
          1922,
          1923,
          1924,
          1925,
          1926,
          1927,
          1928,
          1929,
          1930,
          1931,
          1932,
          1933,
          1934,
          1935,
          1936,
          1937,
          1938,
          1939,
          1940,
          1941,
          1942,
          1943,
          1944,
          1945,
          1946,
          1947,
          1948,
          1949,
          1950,
          1951,
          1952,
          1953,
          1954,
          1955,
          1956,
          1957,
          1958,
          1959,
          1960,
          1961,
          1962,
          1963,
          1964,
          1965,
          1966,
          1967,
          1968,
          1969,
          1970,
          1971,
          1972,
          1973,
          1974,
          1975,
          1976,
          1977,
          1978,
          1979,
          1980,
          1981,
          1982,
          1983,
          1984,
          1985,
          1986,
          1987,
          1988,
          1989,
          1990,
          1991,
          1992,
          1993,
          1994,
          1995,
          1996,
          1997,
          1998,
          1999,
          2000,
          2001,
          2002,
          2003,
          2004,
          2005,
          2006,
          2007,
          2008,
          2009,
          2010,
          2011,
          2012,
          2013,
          2014,
          2015,
          2016,
          2017,
          2018,
          2019,
          2020,
          2021,
          2022,
          2023,
          2024,
          2025,
          2034
         ],
         "xaxis": "x",
         "y": [
          1,
          1,
          1,
          2,
          2,
          4,
          3,
          2,
          8,
          15,
          77,
          92,
          138,
          126,
          139,
          132,
          87,
          80,
          62,
          110,
          98,
          100,
          86,
          65,
          92,
          120,
          116,
          87,
          70,
          68,
          77,
          65,
          103,
          65,
          72,
          132,
          130,
          123,
          103,
          121,
          134,
          132,
          124,
          106,
          102,
          92,
          101,
          104,
          121,
          129,
          141,
          117,
          118,
          96,
          83,
          72,
          93,
          89,
          71,
          52,
          57,
          45,
          48,
          37,
          76,
          103,
          118,
          125,
          127,
          95,
          98,
          129,
          119,
          80,
          59,
          67,
          52,
          29,
          43,
          30,
          18,
          29,
          18,
          19,
          15,
          24,
          24,
          21,
          27,
          13,
          18,
          25,
          22,
          23,
          45,
          40,
          22,
          16,
          18,
          33,
          22,
          16,
          25,
          27,
          18,
          24,
          21,
          25,
          31,
          44,
          35,
          40,
          47,
          36,
          49,
          59,
          69,
          82,
          93,
          97,
          81,
          111,
          112,
          113,
          25,
          1,
          1
         ],
         "yaxis": "y"
        }
       ],
       "layout": {
        "font": {
         "family": "Courier New, monospace"
        },
        "height": 575,
        "legend": {
         "font": {
          "family": "Courier New, monospace",
          "size": 9
         },
         "title": {
          "font": {
           "family": "Courier New, monospace",
           "size": 10
          },
          "text": "Genre"
         },
         "tracegroupgap": 0
        },
        "paper_bgcolor": "rgba(0,0,0,0)",
        "plot_bgcolor": "rgba(0,0,0,0)",
        "template": {
         "data": {
          "bar": [
           {
            "error_x": {
             "color": "#2a3f5f"
            },
            "error_y": {
             "color": "#2a3f5f"
            },
            "marker": {
             "line": {
              "color": "#E5ECF6",
              "width": 0.5
             },
             "pattern": {
              "fillmode": "overlay",
              "size": 10,
              "solidity": 0.2
             }
            },
            "type": "bar"
           }
          ],
          "barpolar": [
           {
            "marker": {
             "line": {
              "color": "#E5ECF6",
              "width": 0.5
             },
             "pattern": {
              "fillmode": "overlay",
              "size": 10,
              "solidity": 0.2
             }
            },
            "type": "barpolar"
           }
          ],
          "carpet": [
           {
            "aaxis": {
             "endlinecolor": "#2a3f5f",
             "gridcolor": "white",
             "linecolor": "white",
             "minorgridcolor": "white",
             "startlinecolor": "#2a3f5f"
            },
            "baxis": {
             "endlinecolor": "#2a3f5f",
             "gridcolor": "white",
             "linecolor": "white",
             "minorgridcolor": "white",
             "startlinecolor": "#2a3f5f"
            },
            "type": "carpet"
           }
          ],
          "choropleth": [
           {
            "colorbar": {
             "outlinewidth": 0,
             "ticks": ""
            },
            "type": "choropleth"
           }
          ],
          "contour": [
           {
            "colorbar": {
             "outlinewidth": 0,
             "ticks": ""
            },
            "colorscale": [
             [
              0,
              "#0d0887"
             ],
             [
              0.1111111111111111,
              "#46039f"
             ],
             [
              0.2222222222222222,
              "#7201a8"
             ],
             [
              0.3333333333333333,
              "#9c179e"
             ],
             [
              0.4444444444444444,
              "#bd3786"
             ],
             [
              0.5555555555555556,
              "#d8576b"
             ],
             [
              0.6666666666666666,
              "#ed7953"
             ],
             [
              0.7777777777777778,
              "#fb9f3a"
             ],
             [
              0.8888888888888888,
              "#fdca26"
             ],
             [
              1,
              "#f0f921"
             ]
            ],
            "type": "contour"
           }
          ],
          "contourcarpet": [
           {
            "colorbar": {
             "outlinewidth": 0,
             "ticks": ""
            },
            "type": "contourcarpet"
           }
          ],
          "heatmap": [
           {
            "colorbar": {
             "outlinewidth": 0,
             "ticks": ""
            },
            "colorscale": [
             [
              0,
              "#0d0887"
             ],
             [
              0.1111111111111111,
              "#46039f"
             ],
             [
              0.2222222222222222,
              "#7201a8"
             ],
             [
              0.3333333333333333,
              "#9c179e"
             ],
             [
              0.4444444444444444,
              "#bd3786"
             ],
             [
              0.5555555555555556,
              "#d8576b"
             ],
             [
              0.6666666666666666,
              "#ed7953"
             ],
             [
              0.7777777777777778,
              "#fb9f3a"
             ],
             [
              0.8888888888888888,
              "#fdca26"
             ],
             [
              1,
              "#f0f921"
             ]
            ],
            "type": "heatmap"
           }
          ],
          "heatmapgl": [
           {
            "colorbar": {
             "outlinewidth": 0,
             "ticks": ""
            },
            "colorscale": [
             [
              0,
              "#0d0887"
             ],
             [
              0.1111111111111111,
              "#46039f"
             ],
             [
              0.2222222222222222,
              "#7201a8"
             ],
             [
              0.3333333333333333,
              "#9c179e"
             ],
             [
              0.4444444444444444,
              "#bd3786"
             ],
             [
              0.5555555555555556,
              "#d8576b"
             ],
             [
              0.6666666666666666,
              "#ed7953"
             ],
             [
              0.7777777777777778,
              "#fb9f3a"
             ],
             [
              0.8888888888888888,
              "#fdca26"
             ],
             [
              1,
              "#f0f921"
             ]
            ],
            "type": "heatmapgl"
           }
          ],
          "histogram": [
           {
            "marker": {
             "pattern": {
              "fillmode": "overlay",
              "size": 10,
              "solidity": 0.2
             }
            },
            "type": "histogram"
           }
          ],
          "histogram2d": [
           {
            "colorbar": {
             "outlinewidth": 0,
             "ticks": ""
            },
            "colorscale": [
             [
              0,
              "#0d0887"
             ],
             [
              0.1111111111111111,
              "#46039f"
             ],
             [
              0.2222222222222222,
              "#7201a8"
             ],
             [
              0.3333333333333333,
              "#9c179e"
             ],
             [
              0.4444444444444444,
              "#bd3786"
             ],
             [
              0.5555555555555556,
              "#d8576b"
             ],
             [
              0.6666666666666666,
              "#ed7953"
             ],
             [
              0.7777777777777778,
              "#fb9f3a"
             ],
             [
              0.8888888888888888,
              "#fdca26"
             ],
             [
              1,
              "#f0f921"
             ]
            ],
            "type": "histogram2d"
           }
          ],
          "histogram2dcontour": [
           {
            "colorbar": {
             "outlinewidth": 0,
             "ticks": ""
            },
            "colorscale": [
             [
              0,
              "#0d0887"
             ],
             [
              0.1111111111111111,
              "#46039f"
             ],
             [
              0.2222222222222222,
              "#7201a8"
             ],
             [
              0.3333333333333333,
              "#9c179e"
             ],
             [
              0.4444444444444444,
              "#bd3786"
             ],
             [
              0.5555555555555556,
              "#d8576b"
             ],
             [
              0.6666666666666666,
              "#ed7953"
             ],
             [
              0.7777777777777778,
              "#fb9f3a"
             ],
             [
              0.8888888888888888,
              "#fdca26"
             ],
             [
              1,
              "#f0f921"
             ]
            ],
            "type": "histogram2dcontour"
           }
          ],
          "mesh3d": [
           {
            "colorbar": {
             "outlinewidth": 0,
             "ticks": ""
            },
            "type": "mesh3d"
           }
          ],
          "parcoords": [
           {
            "line": {
             "colorbar": {
              "outlinewidth": 0,
              "ticks": ""
             }
            },
            "type": "parcoords"
           }
          ],
          "pie": [
           {
            "automargin": true,
            "type": "pie"
           }
          ],
          "scatter": [
           {
            "fillpattern": {
             "fillmode": "overlay",
             "size": 10,
             "solidity": 0.2
            },
            "type": "scatter"
           }
          ],
          "scatter3d": [
           {
            "line": {
             "colorbar": {
              "outlinewidth": 0,
              "ticks": ""
             }
            },
            "marker": {
             "colorbar": {
              "outlinewidth": 0,
              "ticks": ""
             }
            },
            "type": "scatter3d"
           }
          ],
          "scattercarpet": [
           {
            "marker": {
             "colorbar": {
              "outlinewidth": 0,
              "ticks": ""
             }
            },
            "type": "scattercarpet"
           }
          ],
          "scattergeo": [
           {
            "marker": {
             "colorbar": {
              "outlinewidth": 0,
              "ticks": ""
             }
            },
            "type": "scattergeo"
           }
          ],
          "scattergl": [
           {
            "marker": {
             "colorbar": {
              "outlinewidth": 0,
              "ticks": ""
             }
            },
            "type": "scattergl"
           }
          ],
          "scattermapbox": [
           {
            "marker": {
             "colorbar": {
              "outlinewidth": 0,
              "ticks": ""
             }
            },
            "type": "scattermapbox"
           }
          ],
          "scatterpolar": [
           {
            "marker": {
             "colorbar": {
              "outlinewidth": 0,
              "ticks": ""
             }
            },
            "type": "scatterpolar"
           }
          ],
          "scatterpolargl": [
           {
            "marker": {
             "colorbar": {
              "outlinewidth": 0,
              "ticks": ""
             }
            },
            "type": "scatterpolargl"
           }
          ],
          "scatterternary": [
           {
            "marker": {
             "colorbar": {
              "outlinewidth": 0,
              "ticks": ""
             }
            },
            "type": "scatterternary"
           }
          ],
          "surface": [
           {
            "colorbar": {
             "outlinewidth": 0,
             "ticks": ""
            },
            "colorscale": [
             [
              0,
              "#0d0887"
             ],
             [
              0.1111111111111111,
              "#46039f"
             ],
             [
              0.2222222222222222,
              "#7201a8"
             ],
             [
              0.3333333333333333,
              "#9c179e"
             ],
             [
              0.4444444444444444,
              "#bd3786"
             ],
             [
              0.5555555555555556,
              "#d8576b"
             ],
             [
              0.6666666666666666,
              "#ed7953"
             ],
             [
              0.7777777777777778,
              "#fb9f3a"
             ],
             [
              0.8888888888888888,
              "#fdca26"
             ],
             [
              1,
              "#f0f921"
             ]
            ],
            "type": "surface"
           }
          ],
          "table": [
           {
            "cells": {
             "fill": {
              "color": "#EBF0F8"
             },
             "line": {
              "color": "white"
             }
            },
            "header": {
             "fill": {
              "color": "#C8D4E3"
             },
             "line": {
              "color": "white"
             }
            },
            "type": "table"
           }
          ]
         },
         "layout": {
          "annotationdefaults": {
           "arrowcolor": "#2a3f5f",
           "arrowhead": 0,
           "arrowwidth": 1
          },
          "autotypenumbers": "strict",
          "coloraxis": {
           "colorbar": {
            "outlinewidth": 0,
            "ticks": ""
           }
          },
          "colorscale": {
           "diverging": [
            [
             0,
             "#8e0152"
            ],
            [
             0.1,
             "#c51b7d"
            ],
            [
             0.2,
             "#de77ae"
            ],
            [
             0.3,
             "#f1b6da"
            ],
            [
             0.4,
             "#fde0ef"
            ],
            [
             0.5,
             "#f7f7f7"
            ],
            [
             0.6,
             "#e6f5d0"
            ],
            [
             0.7,
             "#b8e186"
            ],
            [
             0.8,
             "#7fbc41"
            ],
            [
             0.9,
             "#4d9221"
            ],
            [
             1,
             "#276419"
            ]
           ],
           "sequential": [
            [
             0,
             "#0d0887"
            ],
            [
             0.1111111111111111,
             "#46039f"
            ],
            [
             0.2222222222222222,
             "#7201a8"
            ],
            [
             0.3333333333333333,
             "#9c179e"
            ],
            [
             0.4444444444444444,
             "#bd3786"
            ],
            [
             0.5555555555555556,
             "#d8576b"
            ],
            [
             0.6666666666666666,
             "#ed7953"
            ],
            [
             0.7777777777777778,
             "#fb9f3a"
            ],
            [
             0.8888888888888888,
             "#fdca26"
            ],
            [
             1,
             "#f0f921"
            ]
           ],
           "sequentialminus": [
            [
             0,
             "#0d0887"
            ],
            [
             0.1111111111111111,
             "#46039f"
            ],
            [
             0.2222222222222222,
             "#7201a8"
            ],
            [
             0.3333333333333333,
             "#9c179e"
            ],
            [
             0.4444444444444444,
             "#bd3786"
            ],
            [
             0.5555555555555556,
             "#d8576b"
            ],
            [
             0.6666666666666666,
             "#ed7953"
            ],
            [
             0.7777777777777778,
             "#fb9f3a"
            ],
            [
             0.8888888888888888,
             "#fdca26"
            ],
            [
             1,
             "#f0f921"
            ]
           ]
          },
          "colorway": [
           "#636efa",
           "#EF553B",
           "#00cc96",
           "#ab63fa",
           "#FFA15A",
           "#19d3f3",
           "#FF6692",
           "#B6E880",
           "#FF97FF",
           "#FECB52"
          ],
          "font": {
           "color": "#2a3f5f"
          },
          "geo": {
           "bgcolor": "white",
           "lakecolor": "white",
           "landcolor": "#E5ECF6",
           "showlakes": true,
           "showland": true,
           "subunitcolor": "white"
          },
          "hoverlabel": {
           "align": "left"
          },
          "hovermode": "closest",
          "mapbox": {
           "style": "light"
          },
          "paper_bgcolor": "white",
          "plot_bgcolor": "#E5ECF6",
          "polar": {
           "angularaxis": {
            "gridcolor": "white",
            "linecolor": "white",
            "ticks": ""
           },
           "bgcolor": "#E5ECF6",
           "radialaxis": {
            "gridcolor": "white",
            "linecolor": "white",
            "ticks": ""
           }
          },
          "scene": {
           "xaxis": {
            "backgroundcolor": "#E5ECF6",
            "gridcolor": "white",
            "gridwidth": 2,
            "linecolor": "white",
            "showbackground": true,
            "ticks": "",
            "zerolinecolor": "white"
           },
           "yaxis": {
            "backgroundcolor": "#E5ECF6",
            "gridcolor": "white",
            "gridwidth": 2,
            "linecolor": "white",
            "showbackground": true,
            "ticks": "",
            "zerolinecolor": "white"
           },
           "zaxis": {
            "backgroundcolor": "#E5ECF6",
            "gridcolor": "white",
            "gridwidth": 2,
            "linecolor": "white",
            "showbackground": true,
            "ticks": "",
            "zerolinecolor": "white"
           }
          },
          "shapedefaults": {
           "line": {
            "color": "#2a3f5f"
           }
          },
          "ternary": {
           "aaxis": {
            "gridcolor": "white",
            "linecolor": "white",
            "ticks": ""
           },
           "baxis": {
            "gridcolor": "white",
            "linecolor": "white",
            "ticks": ""
           },
           "bgcolor": "#E5ECF6",
           "caxis": {
            "gridcolor": "white",
            "linecolor": "white",
            "ticks": ""
           }
          },
          "title": {
           "x": 0.05
          },
          "xaxis": {
           "automargin": true,
           "gridcolor": "white",
           "linecolor": "white",
           "ticks": "",
           "title": {
            "standoff": 15
           },
           "zerolinecolor": "white",
           "zerolinewidth": 2
          },
          "yaxis": {
           "automargin": true,
           "gridcolor": "white",
           "linecolor": "white",
           "ticks": "",
           "title": {
            "standoff": 15
           },
           "zerolinecolor": "white",
           "zerolinewidth": 2
          }
         }
        },
        "title": {
         "font": {
          "size": 16
         },
         "text": "Number of Movies per Genre and Year"
        },
        "xaxis": {
         "anchor": "y",
         "domain": [
          0,
          1
         ],
         "range": [
          1900,
          2023
         ],
         "title": {
          "text": "Year"
         }
        },
        "yaxis": {
         "anchor": "x",
         "domain": [
          0,
          1
         ],
         "title": {
          "text": "Number of Movies"
         }
        }
       }
      }
     },
     "metadata": {},
     "output_type": "display_data"
    }
   ],
   "source": [
    "import pandas as pd\n",
    "\n",
    "genre_columns = list(df_dummy.columns)[24:]\n",
    "yearly_genre_count = pd.DataFrame()\n",
    "\n",
    "for genre in genre_columns:\n",
    "    genre_data = df_dummy[df_dummy[genre] == 1]\n",
    "    summary = genre_data.groupby('year').agg({\n",
    "        'title': 'count'\n",
    "    }).reset_index()\n",
    "\n",
    "    summary['Genre'] = genre\n",
    "    yearly_genre_count = pd.concat([yearly_genre_count, summary[['year', 'title', 'Genre']]], ignore_index=True)\n",
    "\n",
    "print(yearly_genre_count)\n",
    "\n",
    "fig = px.line(yearly_genre_count, x='year', y='title', color='Genre',\n",
    "              title='Number of Movies per Genre and Year',\n",
    "              labels={'title': 'Number of Movies', 'year': 'Year'},\n",
    "              hover_data={'year': '|%Y'})\n",
    "\n",
    "hidden_genres = set()\n",
    "\n",
    "for trace in fig.data:\n",
    "    if trace.name in hidden_genres:\n",
    "        trace.visible = 'legendonly'\n",
    "\n",
    "fig.update_layout(\n",
    "    font=dict(\n",
    "        family=\"Courier New, monospace\",\n",
    "    ),\n",
    "    title_font=dict(\n",
    "        size=16\n",
    "    ),\n",
    "    xaxis_title='Year',\n",
    "    yaxis_title='Number of Movies',\n",
    "    legend_title='Genre',\n",
    "    xaxis=dict(range=[1900, 2023]),\n",
    "    height=575,\n",
    "    plot_bgcolor='rgba(0,0,0,0)',\n",
    "    paper_bgcolor='rgba(0,0,0,0)',\n",
    "    legend=dict(\n",
    "        title_font=dict(family=\"Courier New, monospace\", size=10),\n",
    "        font=dict(family=\"Courier New, monospace\", size=9)\n",
    "    )\n",
    ")\n",
    "\n",
    "fig.show()\n",
    "fig.write_html('time_series_movie_count.html')"
   ]
  },
  {
   "cell_type": "markdown",
   "metadata": {},
   "source": [
    "We came up with the initial ideas and beginning setup of the code, and used chat gpt to implement subsequent changes to accomodate our needs. An example for this would be e.g. cases like adding two different y-axis scales in one plot or setting up the background, or creating the initial design of the dropdown menu for the world map."
   ]
  },
  {
   "cell_type": "markdown",
   "metadata": {},
   "source": [
    "# 4 Genre"
   ]
  },
  {
   "cell_type": "markdown",
   "metadata": {},
   "source": [
    "### 4.1 Which tools did you use from each of the 3 categories of Visual Narrative (Figure 7 in Segal and Heer). Why?"
   ]
  },
  {
   "cell_type": "markdown",
   "metadata": {},
   "source": [
    "We chose these tools of Visual Narrative:\n",
    "\n",
    "* Consistent Visual Platfrom\n",
    "* Feature Distinction\n",
    "* We didnt use anything for transition rather did a plain 1 page article.\n",
    "\n",
    "We wanted to make our website like an online Article easily readable and make a story through our writings and figures. Our article is consistent and filled with graphs that help the reader understand the text better and also all of them are interractive which makes the figures more interesting that having plain graphs. We also didn't use transition to our texts since it is a one page Article and it is quite straightforward without transition through the text/figures or pagination."
   ]
  },
  {
   "cell_type": "markdown",
   "metadata": {},
   "source": [
    "### 4.2  Which tools did you use from each of the 3 categories of Narrative Structure (Figure 7 in Segal and Heer). Why?"
   ]
  },
  {
   "cell_type": "markdown",
   "metadata": {},
   "source": [
    "We chose these tools of Narrative Structure:\n",
    "\n",
    "* Linear\n",
    "* Very Limited Interactivity\n",
    "\n",
    "As mentioned above, we chose to make a simple yet interesting Article that has limited Interactivity in some plots (e.g. interactive map and globe). The reading of the article is Linear and straightforward while the interractive plots help the reader make his own assumptions while reading the article and see our dataset points by himself/herself."
   ]
  },
  {
   "cell_type": "markdown",
   "metadata": {},
   "source": [
    "# 5 Visualizations"
   ]
  },
  {
   "cell_type": "markdown",
   "metadata": {},
   "source": [
    "### 5.1 Explain the visualizations you've chosen."
   ]
  },
  {
   "cell_type": "markdown",
   "metadata": {},
   "source": [
    "* Visualization no.1 : We chose this network graph since it is a good introductory about the genres in the movie industry while also showing the relationship between each genre. Network graph is quite the choice for us since it displays a really interesting web-formed image for the reader.\n",
    "* Visualization no.2 : This is a good indication to show the average and weighted average rating of each genre to see the acceptance and preference of the audience along with the count of movies per genre. Nothing special here just and informative graph that helps the user get into the point of the Article.\n",
    "* Visualization no.3, no.7, no.8 : These plots are basic graphs that show us the points we want to mention about our story. The plots are again basic with limited interractivity from user, enabling him/her to chose which genre to see info about Budgeting and Revenue and make asssumptions.\n",
    "* Visualization no.4, no.5 : These are some quite beautiful graphs that we thought would be interesting to visualize our dataset on a global scale with interactive plotting. Both the globe and interactive map offer a different, more spherical perspective of our dataset and add a nice touch to our narrative.\n",
    "* Visualization no.6 : A more clear view of the Weighted Average Rating per Genre and Year can been seen in this graph enable the reader to compare the genres."
   ]
  },
  {
   "cell_type": "markdown",
   "metadata": {},
   "source": [
    "### 5.2 Why are they right for the story you want to tell?"
   ]
  },
  {
   "cell_type": "markdown",
   "metadata": {},
   "source": [
    "We chose basic yet interesting graphs that are informative and visually appealing. Having interactive graphs that allow users to find information about specific genres such as Budget, Rating, and Revenue could be quite helpful while reading the article. Therefore, by selecting 'limited interactivity' graphs, we aim to make the article more engaging than simply embedding static figures onto the website. We aimed to select graphs that are neither boring nor too sophisticated, in order to maintain simplicity and visual appeal."
   ]
  },
  {
   "cell_type": "markdown",
   "metadata": {},
   "source": [
    "# 6 Discussion"
   ]
  },
  {
   "cell_type": "markdown",
   "metadata": {},
   "source": [
    "### 6.1 What went well?"
   ]
  },
  {
   "cell_type": "markdown",
   "metadata": {},
   "source": [
    "We both liked the idea of working with a dataset that is all about Movies since we are both cinephil. Also we had great communication throught the course and the making of the project. In terms of our website we believe we found some interesting points to talk about in our dataset making a nice storytelling about the movies and genres in general. We also agreed in adding small personal details and references inside the Article in order to make it feel more unique and ours (e.g. Lord of the Rings mention)."
   ]
  },
  {
   "cell_type": "markdown",
   "metadata": {},
   "source": [
    "### 6.2 What is still missing? What could be improved?, Why?"
   ]
  },
  {
   "cell_type": "markdown",
   "metadata": {},
   "source": [
    "We didn't use the full capacity of the dataset and only little talked about individual movies and rather talked about the patterns we recognised in general about the genres, the budget of the movies, the average runtime of movies etc. Also we found a really big dataset that includes many columns and a variety of information for each movie which could enable us on making more stories. So to sum it up, we did not use every column that could have been used, we also thought about doing some cool connections with the keywords, but left that out to focus on the other overviewable patterns. A combination with more qualitative insights could give an improved overview due to smaller examples."
   ]
  },
  {
   "cell_type": "markdown",
   "metadata": {},
   "source": [
    "# 7 Contributions"
   ]
  },
  {
   "cell_type": "markdown",
   "metadata": {},
   "source": [
    "Both group members worked on all tasks together and helped each other on all tasks to an overall equal amount of effort.\n",
    "\n",
    "* Nico was mostly responsible for the most part of the code and specific visualization choices along with Introductory parts of the Article.\n",
    "* Manos was mostly responsible for the display and data selection for some figures in order to build a narrative and persistence to the data being shown.\n",
    "\n",
    "Those contributions rather not indicate a higher workload of one or another person in a specific area, but states the person responsible for delegating tasks and getting things done."
   ]
  },
  {
   "cell_type": "markdown",
   "metadata": {},
   "source": [
    "# 8 References"
   ]
  },
  {
   "cell_type": "markdown",
   "metadata": {},
   "source": [
    "We had two links inside our article that helped us with the narrative.\n",
    "\n",
    "* https://www.kaggle.com/datasets/asaniczka/tmdb-movies-dataset-2023-930k-movies\n",
    "* https://en.wikipedia.org/wiki/History_of_animation#1980s\n",
    "\n",
    "Also we used chatGPT for some grammar correction and code assistance for configuring plots and code syntax."
   ]
  },
  {
   "cell_type": "code",
   "execution_count": null,
   "metadata": {},
   "outputs": [],
   "source": []
  }
 ],
 "metadata": {
  "kernelspec": {
   "display_name": "Python 3 (ipykernel)",
   "language": "python",
   "name": "python3"
  },
  "language_info": {
   "codemirror_mode": {
    "name": "ipython",
    "version": 3
   },
   "file_extension": ".py",
   "mimetype": "text/x-python",
   "name": "python",
   "nbconvert_exporter": "python",
   "pygments_lexer": "ipython3",
   "version": "3.11.5"
  }
 },
 "nbformat": 4,
 "nbformat_minor": 2
}
